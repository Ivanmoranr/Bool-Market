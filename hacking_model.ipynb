{
 "cells": [
  {
   "cell_type": "code",
   "execution_count": 179,
   "metadata": {},
   "outputs": [],
   "source": [
    "from synthetic_data import *\n",
    "from tensorflow.keras.preprocessing.sequence import pad_sequences\n",
    "from sklearn.preprocessing import StandardScaler\n",
    "from sklearn.model_selection import train_test_split\n",
    "from get_real_data import *\n",
    "\n",
    "from preprocessing import preprocess\n",
    "import tensorflow as tf\n",
    "from tensorflow.keras.callbacks import ReduceLROnPlateau, EarlyStopping\n",
    "from tensorflow.keras.models import Sequential, Model\n",
    "from tensorflow.keras.layers import LSTM, Dense, Masking, Conv1D, Flatten, MaxPooling1D, Input, Concatenate, Dropout, AveragePooling1D\n",
    "from tensorflow.keras.preprocessing.sequence import pad_sequences\n",
    "from tensorflow.keras import regularizers\n",
    "import matplotlib.pyplot as plt\n",
    "from keras.optimizers import RMSprop\n"
   ]
  },
  {
   "cell_type": "code",
   "execution_count": 130,
   "metadata": {},
   "outputs": [],
   "source": [
    "X1, y1, X2, y2, X3, y3, X4, y4 = get_real_X_y(noise=False)\n",
    "X1a, y1a, X2a, y2a, X3a, y3a, X4a, y4a = augmentation(X1, y1, X2, y2, X3, y3, X4, y4, noise=False)\n",
    "\n",
    "X_ris_wedg, y_ris_wedg, X_fal_wedg, y_fal_wedg, X_d_top, y_d_top, X_d_bottom, y_d_bottom = get_X_y(noise=False, general=False)\n",
    "X_ris_wedga, y_ris_wedga, X_fal_wedga, y_fal_wedga, X_d_topa, y_d_topa, X_d_bottoma, y_d_bottoma = augmentation(X_ris_wedg, y_ris_wedg, X_fal_wedg, y_fal_wedg, X_d_top, y_d_top, X_d_bottom, y_d_bottom, noise=False)\n",
    "\n",
    "X_ris_wedg = X1a + X_ris_wedga\n",
    "y_ris_wedg = y1a + y_ris_wedga\n",
    "\n",
    "X_train_ris, y_train_p_ris, y_train_dates_ris, X_test_ris, y_test_p_ris, y_test_dates_ris = preprocess(X_ris_wedg, y_ris_wedg)\n",
    "\n",
    "X_fal_wedg = X2a + X_fal_wedga\n",
    "y_fal_wedg = y2a + y_fal_wedga\n",
    "\n",
    "X_train_fal, y_train_p_fal, y_train_dates_fal, X_test_fal, y_test_p_fal, y_test_dates_fal = preprocess(X_fal_wedg, y_fal_wedg)\n",
    "\n",
    "X_d_top = X3a + X_d_topa\n",
    "y_d_top = y3a + y_d_topa\n",
    "\n",
    "X_train_dt, y_train_p_dt, y_train_dates_dt, X_test_dt, y_test_p_dt, y_test_dates_dt = preprocess(X_d_top, y_d_top)\n",
    "\n",
    "X_d_bottom = X4a + X_d_bottoma\n",
    "y_d_bottom = y4a + y_d_bottoma\n",
    "\n",
    "X_train_db, y_train_p_db, y_train_dates_db, X_test_db, y_test_p_db, y_test_dates_db = preprocess(X_d_bottom, y_d_bottom)\n",
    "\n",
    "X_full = X_ris_wedg + X_fal_wedg + X_d_top + X_d_bottom\n",
    "y_full = y_ris_wedg + y_fal_wedg + y_d_top + y_d_bottom\n",
    "X_train_full, y_train_p_full, y_train_dates_full, X_test_full, y_test_p_full, y_test_dates_full = preprocess(X_full, y_full)\n"
   ]
  },
  {
   "cell_type": "code",
   "execution_count": null,
   "metadata": {},
   "outputs": [],
   "source": []
  },
  {
   "cell_type": "code",
   "execution_count": 107,
   "metadata": {},
   "outputs": [
    {
     "name": "stdout",
     "output_type": "stream",
     "text": [
      "The autoreload extension is already loaded. To reload it, use:\n",
      "  %reload_ext autoreload\n"
     ]
    }
   ],
   "source": [
    "%load_ext autoreload\n",
    "\n",
    "%autoreload 2"
   ]
  },
  {
   "cell_type": "markdown",
   "metadata": {},
   "source": [
    "* higher level == Asses general trend \n",
    "* intermediate levels == Asses specific trend \n",
    "* lower level == Asses dates \n",
    "\n",
    "* descending triangle, falling wedge, downtrend, descending channel \n",
    "* ascending triangle, rising wedge, uptrend, vertical run up\n",
    "* double bottom, hs bottom, support\n",
    "* double top, hs top, resistance\n",
    "\n",
    "* Tryout without synthetic data, improve the data if needed"
   ]
  },
  {
   "cell_type": "code",
   "execution_count": 2,
   "metadata": {},
   "outputs": [],
   "source": [
    "X_ris_wedg, y_ris_wedg, X_fal_wedg, y_fal_wedg, X_d_top, y_d_top, X_d_bottom, y_d_bottom = get_X_y(noise=False, general=True)"
   ]
  },
  {
   "cell_type": "code",
   "execution_count": 3,
   "metadata": {},
   "outputs": [],
   "source": [
    "X_rw_noise, y_rw_noise, X_fw_noise, y_fw_noise, X_dt_noise, y_dt_noise, X_db_noise, y_db_noise = get_hack_noise(X_ris_wedg, y_ris_wedg, X_fal_wedg, y_fal_wedg, X_d_top, y_d_top, X_d_bottom, y_d_bottom, synth=True, real=True, f=True)"
   ]
  },
  {
   "cell_type": "code",
   "execution_count": 4,
   "metadata": {},
   "outputs": [],
   "source": [
    "X_synth = X_ris_wedg + X_rw_noise + X_fal_wedg + X_fw_noise + X_d_top + X_dt_noise + X_d_bottom + X_db_noise\n",
    "y_synth = y_ris_wedg + y_rw_noise + y_fal_wedg + y_fw_noise + y_d_top + y_dt_noise + y_d_bottom + y_db_noise"
   ]
  },
  {
   "cell_type": "code",
   "execution_count": 5,
   "metadata": {},
   "outputs": [],
   "source": [
    "X1, y1, X2, y2, X3, y3, X4, y4 = get_real_X_y(noise=False)"
   ]
  },
  {
   "cell_type": "code",
   "execution_count": 6,
   "metadata": {},
   "outputs": [],
   "source": [
    "X1_noise, y1_noise, X2_noise, y2_noise, X3_noise, y3_noise, X4_noise, y4_noise = get_hack_noise(X1, y1, X2, y2, X3, y3, X4, y4, synth=False, real=True, f=False)"
   ]
  },
  {
   "cell_type": "code",
   "execution_count": 7,
   "metadata": {},
   "outputs": [],
   "source": [
    "X_up, y_up, X_down, y_down = get_up_down(patterns=[\"uptrend\",\"downtrend\"])"
   ]
  },
  {
   "cell_type": "code",
   "execution_count": 8,
   "metadata": {},
   "outputs": [],
   "source": [
    "X_real = X1 + X1_noise + X2 + X2_noise + X3 + X3_noise + X4 + X4_noise + X_up + X_down\n",
    "y_real = y1 + y1_noise + y2 + y2_noise + y3 + y3_noise + y4 + y4_noise + y_up + y_down\n"
   ]
  },
  {
   "cell_type": "code",
   "execution_count": 9,
   "metadata": {},
   "outputs": [],
   "source": [
    "X = X_real + X_synth\n",
    "y = y_real + y_synth"
   ]
  },
  {
   "cell_type": "code",
   "execution_count": 10,
   "metadata": {},
   "outputs": [
    {
     "name": "stderr",
     "output_type": "stream",
     "text": [
      "2023-09-04 12:36:38.836836: I tensorflow/compiler/xla/stream_executor/cuda/cuda_gpu_executor.cc:981] could not open file to read NUMA node: /sys/bus/pci/devices/0000:01:00.0/numa_node\n",
      "Your kernel may have been built without NUMA support.\n",
      "2023-09-04 12:36:38.838719: W tensorflow/core/common_runtime/gpu/gpu_device.cc:1960] Cannot dlopen some GPU libraries. Please make sure the missing libraries mentioned above are installed properly if you would like to use GPU. Follow the guide at https://www.tensorflow.org/install/gpu for how to download and setup the required libraries for your platform.\n",
      "Skipping registering GPU devices...\n"
     ]
    }
   ],
   "source": [
    "X_train_preprocessed, y_train_p, y_train_dates, X_test_preprocessed, y_test_p, y_test_dates = preprocess(X_synth, y_synth)"
   ]
  },
  {
   "cell_type": "markdown",
   "metadata": {},
   "source": [
    "* get real data\n",
    "* data separation in 3 windows 2 with no pattern \n",
    "    the one with pattern give it slack in both sides and make it 10 times with that slack\n",
    "* flip the data upside down and give it the opposite name"
   ]
  },
  {
   "cell_type": "markdown",
   "metadata": {},
   "source": [
    "X1 = np.array(X1)\n",
    "X2 = np.array(X2)\n",
    "X3 = np.array(X3)\n",
    "X4 = np.array(X4)\n",
    "y1 = np.array(y1)\n",
    "y2 = np.array(y2)\n",
    "y3 = np.array(y3)\n",
    "y4 = np.array(y4)\n"
   ]
  },
  {
   "cell_type": "code",
   "execution_count": 162,
   "metadata": {},
   "outputs": [],
   "source": [
    "X1, y1, X2, y2, X3, y3, X4, y4 = get_real_X_y(noise=False)\n"
   ]
  },
  {
   "cell_type": "code",
   "execution_count": 163,
   "metadata": {},
   "outputs": [],
   "source": [
    "X1a, y1a, X2a, y2a, X3a, y3a, X4a, y4a = augmentation(X1, y1, X2, y2, X3, y3, X4, y4, noise=True)"
   ]
  },
  {
   "cell_type": "code",
   "execution_count": 164,
   "metadata": {},
   "outputs": [],
   "source": [
    "Xa = X1a + X2a +X3a + X4a\n",
    "ya = y1a + y2a +y3a + y4a"
   ]
  },
  {
   "cell_type": "code",
   "execution_count": 166,
   "metadata": {},
   "outputs": [],
   "source": [
    "X_train_a, y_train_p_a, y_train_dates_a, X_test_a, y_test_p_a, y_test_dates_a = preprocess(Xa, ya)"
   ]
  },
  {
   "cell_type": "code",
   "execution_count": null,
   "metadata": {},
   "outputs": [],
   "source": [
    "X_ris_wedg, y_ris_wedg, X_fal_wedg, y_fal_wedg, X_d_top, y_d_top, X_d_bottom, y_d_bottom = get_X_y(noise=False, general=False)"
   ]
  },
  {
   "cell_type": "code",
   "execution_count": 108,
   "metadata": {},
   "outputs": [],
   "source": [
    "X_ris_wedga, y_ris_wedga, X_fal_wedga, y_fal_wedga, X_d_topa, y_d_topa, X_d_bottoma, y_d_bottoma = augmentation(X_ris_wedg, y_ris_wedg, X_fal_wedg, y_fal_wedg, X_d_top, y_d_top, X_d_bottom, y_d_bottom, noise=True)"
   ]
  },
  {
   "cell_type": "code",
   "execution_count": null,
   "metadata": {},
   "outputs": [],
   "source": []
  },
  {
   "cell_type": "code",
   "execution_count": 96,
   "metadata": {},
   "outputs": [
    {
     "data": {
      "text/plain": [
       "(1112, 1112)"
      ]
     },
     "execution_count": 96,
     "metadata": {},
     "output_type": "execute_result"
    }
   ],
   "source": [
    "len(x_1), len(y_1)"
   ]
  },
  {
   "cell_type": "code",
   "execution_count": 109,
   "metadata": {},
   "outputs": [],
   "source": [
    "X_syntha = X_ris_wedga + X_fal_wedga + X_d_topa + X_d_bottoma\n",
    "y_syntha = y_ris_wedga + y_fal_wedga + y_d_topa + y_d_bottoma"
   ]
  },
  {
   "cell_type": "code",
   "execution_count": 110,
   "metadata": {},
   "outputs": [],
   "source": [
    "X_c = Xa + X_syntha\n",
    "y_c = ya + y_syntha"
   ]
  },
  {
   "cell_type": "code",
   "execution_count": 111,
   "metadata": {},
   "outputs": [
    {
     "data": {
      "text/plain": [
       "(46857, 34428)"
      ]
     },
     "execution_count": 111,
     "metadata": {},
     "output_type": "execute_result"
    }
   ],
   "source": [
    "len(X_c), len(Xa)"
   ]
  },
  {
   "cell_type": "code",
   "execution_count": 112,
   "metadata": {},
   "outputs": [],
   "source": [
    "a=[]\n",
    "for i in range(len(Xa)):\n",
    "    a.append(len(Xa[i]))"
   ]
  },
  {
   "cell_type": "code",
   "execution_count": 113,
   "metadata": {},
   "outputs": [
    {
     "data": {
      "text/plain": [
       "2"
      ]
     },
     "execution_count": 113,
     "metadata": {},
     "output_type": "execute_result"
    }
   ],
   "source": [
    "min(a)"
   ]
  },
  {
   "cell_type": "code",
   "execution_count": 114,
   "metadata": {},
   "outputs": [],
   "source": [
    "X_train_c, y_train_p_c, y_train_dates_c, X_test_c, y_test_p_c, y_test_dates_c = preprocess(X_c, y_c)"
   ]
  },
  {
   "cell_type": "code",
   "execution_count": 116,
   "metadata": {},
   "outputs": [
    {
     "data": {
      "text/plain": [
       "(27542, 37485)"
      ]
     },
     "execution_count": 116,
     "metadata": {},
     "output_type": "execute_result"
    }
   ],
   "source": [
    "len(X_train_a), len(X_train_c)"
   ]
  },
  {
   "cell_type": "markdown",
   "metadata": {},
   "source": [
    "### We have to change with the functional api, because is a two problem one for regresion and other for classification\n",
    "\n",
    "### We have to add an intermediate layer\n",
    "\n",
    "### Look into generative models"
   ]
  },
  {
   "cell_type": "code",
   "execution_count": null,
   "metadata": {},
   "outputs": [],
   "source": []
  },
  {
   "cell_type": "code",
   "execution_count": 254,
   "metadata": {},
   "outputs": [],
   "source": [
    "def initialize_model_CNN():\n",
    "       \n",
    "    # Input layer\n",
    "    input_shape = X_train_preprocessed.shape[1:]\n",
    "    input_layer = Input(shape=input_shape)\n",
    "\n",
    "    # Shared layers\n",
    "    masked_input = Masking(mask_value=-1)(input_layer)\n",
    "    conv1d_1 = Conv1D(32, activation='relu', kernel_size=3, kernel_regularizer=regularizers.L1L2(l1=1e-3, l2=1e-3))(masked_input)\n",
    "    maxpool_1 = MaxPooling1D(pool_size=2)(conv1d_1)\n",
    "    conv1d_2 = Conv1D(32, activation='relu', kernel_size=3)(maxpool_1)\n",
    "    flatten = Flatten()(conv1d_2)\n",
    "    dense_1 = Dense(units=200, activation='relu')(flatten)\n",
    "    dense_2 = Dense(units=100, activation='relu')(dense_1)\n",
    "    dense_3 = Dense(units=16, activation='relu')(dense_2)\n",
    "    dense_4 = Dense(units=16, activation='relu')(dense_3)\n",
    "\n",
    "    # Classification output\n",
    "    classification_output = Dense(units=4, activation='softmax', name='classification_output')(dense_4)\n",
    "\n",
    "    # Regression output\n",
    "    regression_output = Dense(units=2, activation='linear', name='regression_output')(dense_4)\n",
    "\n",
    "    # Create the model\n",
    "    model = Model(inputs=input_layer, outputs=[classification_output, regression_output])\n",
    "\n",
    "    # Compile the model with appropriate loss functions and metrics for each output\n",
    "    model.compile(optimizer='adam',\n",
    "                loss={'classification_output': 'categorical_crossentropy', 'regression_output': 'mean_squared_error'},\n",
    "                metrics={'classification_output': 'accuracy', 'regression_output': 'mae'})\n",
    "\n",
    "\n",
    "    \n",
    "    return model"
   ]
  },
  {
   "cell_type": "code",
   "execution_count": 255,
   "metadata": {},
   "outputs": [
    {
     "name": "stdout",
     "output_type": "stream",
     "text": [
      "Epoch 1/50\n",
      "122/122 [==============================] - 2s 13ms/step - loss: 26394.1973 - classification_output_loss: 16.2295 - regression_output_loss: 26377.9102 - classification_output_accuracy: 0.2524 - regression_output_mae: 127.7590 - val_loss: 22432.6191 - val_classification_output_loss: 7.9806 - val_regression_output_loss: 22424.5859 - val_classification_output_accuracy: 0.3897 - val_regression_output_mae: 118.1439\n",
      "Epoch 2/50\n",
      "122/122 [==============================] - 1s 12ms/step - loss: 20004.3984 - classification_output_loss: 2.7402 - regression_output_loss: 20001.6113 - classification_output_accuracy: 0.2513 - regression_output_mae: 116.2460 - val_loss: 21259.2988 - val_classification_output_loss: 1.2112 - val_regression_output_loss: 21258.0293 - val_classification_output_accuracy: 0.1662 - val_regression_output_mae: 124.1331\n",
      "Epoch 3/50\n",
      "122/122 [==============================] - 1s 11ms/step - loss: 19963.3262 - classification_output_loss: 1.1645 - regression_output_loss: 19962.1055 - classification_output_accuracy: 0.3055 - regression_output_mae: 116.5645 - val_loss: 20745.8945 - val_classification_output_loss: 1.2821 - val_regression_output_loss: 20744.5625 - val_classification_output_accuracy: 0.1662 - val_regression_output_mae: 121.6612\n",
      "Epoch 4/50\n",
      "122/122 [==============================] - 1s 11ms/step - loss: 19618.1152 - classification_output_loss: 0.9624 - regression_output_loss: 19617.0957 - classification_output_accuracy: 0.2749 - regression_output_mae: 116.0804 - val_loss: 20725.2148 - val_classification_output_loss: 1.2631 - val_regression_output_loss: 20723.9004 - val_classification_output_accuracy: 0.1662 - val_regression_output_mae: 121.1947\n",
      "Epoch 5/50\n",
      "122/122 [==============================] - 1s 12ms/step - loss: 19932.1191 - classification_output_loss: 1.2013 - regression_output_loss: 19930.8691 - classification_output_accuracy: 0.2885 - regression_output_mae: 116.4994 - val_loss: 20968.5039 - val_classification_output_loss: 0.7100 - val_regression_output_loss: 20967.7422 - val_classification_output_accuracy: 0.1672 - val_regression_output_mae: 118.1438\n",
      "Epoch 6/50\n",
      "122/122 [==============================] - 1s 12ms/step - loss: 19502.5195 - classification_output_loss: 0.8386 - regression_output_loss: 19501.6309 - classification_output_accuracy: 0.2611 - regression_output_mae: 115.5918 - val_loss: 21296.0137 - val_classification_output_loss: 1.2958 - val_regression_output_loss: 21294.6680 - val_classification_output_accuracy: 0.1672 - val_regression_output_mae: 124.2860\n",
      "Epoch 7/50\n",
      "122/122 [==============================] - 2s 12ms/step - loss: 19635.0430 - classification_output_loss: 1.1787 - regression_output_loss: 19633.8164 - classification_output_accuracy: 0.2893 - regression_output_mae: 116.0404 - val_loss: 20834.1445 - val_classification_output_loss: 0.9770 - val_regression_output_loss: 20833.1094 - val_classification_output_accuracy: 0.2862 - val_regression_output_mae: 118.2219\n",
      "Epoch 8/50\n",
      "122/122 [==============================] - 1s 11ms/step - loss: 19347.7383 - classification_output_loss: 0.9985 - regression_output_loss: 19346.6895 - classification_output_accuracy: 0.2878 - regression_output_mae: 115.2409 - val_loss: 20880.2324 - val_classification_output_loss: 0.7924 - val_regression_output_loss: 20879.3848 - val_classification_output_accuracy: 0.2944 - val_regression_output_mae: 118.3659\n",
      "Epoch 9/50\n",
      "122/122 [==============================] - 1s 12ms/step - loss: 19280.5410 - classification_output_loss: 1.1078 - regression_output_loss: 19279.3867 - classification_output_accuracy: 0.2644 - regression_output_mae: 115.2589 - val_loss: 22024.9258 - val_classification_output_loss: 2.2101 - val_regression_output_loss: 22022.6602 - val_classification_output_accuracy: 0.2841 - val_regression_output_mae: 117.9360\n",
      "Epoch 10/50\n",
      "122/122 [==============================] - 1s 12ms/step - loss: 19229.6406 - classification_output_loss: 1.3412 - regression_output_loss: 19228.2461 - classification_output_accuracy: 0.2378 - regression_output_mae: 114.9896 - val_loss: 21141.2656 - val_classification_output_loss: 1.0969 - val_regression_output_loss: 21140.1191 - val_classification_output_accuracy: 0.3590 - val_regression_output_mae: 118.2906\n",
      "Epoch 11/50\n",
      "122/122 [==============================] - 1s 12ms/step - loss: 18956.9004 - classification_output_loss: 1.0681 - regression_output_loss: 18955.7773 - classification_output_accuracy: 0.2749 - regression_output_mae: 114.2040 - val_loss: 21537.9434 - val_classification_output_loss: 1.0434 - val_regression_output_loss: 21536.8438 - val_classification_output_accuracy: 0.2236 - val_regression_output_mae: 120.2285\n",
      "Epoch 12/50\n",
      "122/122 [==============================] - 1s 12ms/step - loss: 18970.3281 - classification_output_loss: 1.2133 - regression_output_loss: 18969.0566 - classification_output_accuracy: 0.2590 - regression_output_mae: 114.0121 - val_loss: 20773.9023 - val_classification_output_loss: 1.0663 - val_regression_output_loss: 20772.7793 - val_classification_output_accuracy: 0.1908 - val_regression_output_mae: 119.4276\n",
      "Epoch 13/50\n",
      "122/122 [==============================] - 2s 13ms/step - loss: 18981.4062 - classification_output_loss: 2.2196 - regression_output_loss: 18979.1309 - classification_output_accuracy: 0.2342 - regression_output_mae: 113.6715 - val_loss: 20754.2930 - val_classification_output_loss: 1.3092 - val_regression_output_loss: 20752.9277 - val_classification_output_accuracy: 0.2154 - val_regression_output_mae: 119.7928\n",
      "Epoch 14/50\n",
      "122/122 [==============================] - 2s 12ms/step - loss: 18696.6172 - classification_output_loss: 2.4603 - regression_output_loss: 18694.0996 - classification_output_accuracy: 0.2326 - regression_output_mae: 112.8833 - val_loss: 22629.3398 - val_classification_output_loss: 3.7679 - val_regression_output_loss: 22625.5098 - val_classification_output_accuracy: 0.1005 - val_regression_output_mae: 129.0625\n"
     ]
    }
   ],
   "source": [
    "\n",
    "es = EarlyStopping(patience = 10, restore_best_weights=True)\n",
    "\n",
    "model = initialize_model_CNN()\n",
    "\n",
    "history = model.fit(\n",
    "    x=X_train_preprocessed,\n",
    "    y={'classification_output': y_train_p, 'regression_output': y_train_dates},\n",
    "    validation_split = 0.2,\n",
    "    shuffle = True,\n",
    "    batch_size=32,\n",
    "    epochs = 50,\n",
    "    callbacks = [es],\n",
    "    verbose = 1\n",
    ")"
   ]
  },
  {
   "cell_type": "code",
   "execution_count": 256,
   "metadata": {},
   "outputs": [
    {
     "name": "stdout",
     "output_type": "stream",
     "text": [
      "39/39 [==============================] - 0s 4ms/step - loss: 19809.3594 - classification_output_loss: 1.2170 - regression_output_loss: 19808.0898 - classification_output_accuracy: 0.1649 - regression_output_mae: 117.8358\n"
     ]
    },
    {
     "data": {
      "text/plain": [
       "[19809.359375,\n",
       " 1.2170205116271973,\n",
       " 19808.08984375,\n",
       " 0.16488924622535706,\n",
       " 117.8358383178711]"
      ]
     },
     "execution_count": 256,
     "metadata": {},
     "output_type": "execute_result"
    }
   ],
   "source": [
    "evaluation = model.evaluate(\n",
    "    x=X_test_preprocessed,  # Test input data\n",
    "    y={'classification_output': y_test_p, 'regression_output': y_test_dates},  # Dictionary of test labels\n",
    "    verbose=1  # Set to 1 for progress updates during evaluation\n",
    ")\n",
    "evaluation"
   ]
  },
  {
   "cell_type": "code",
   "execution_count": 257,
   "metadata": {},
   "outputs": [],
   "source": [
    "def plot_clas_reg(val_clas=\"val_classification_output_accuracy\", val_mae=\"val_regression_output_mae\"):\n",
    "    clas = history.history[val_clas]\n",
    "    reg = history.history[val_mae]\n",
    "    fig, (ax1, ax2) = plt.subplots(1, 2)\n",
    "    fig.suptitle('Horizontally stacked subplots')\n",
    "    ax1.plot(clas)\n",
    "    ax2.plot(reg)"
   ]
  },
  {
   "cell_type": "code",
   "execution_count": 258,
   "metadata": {},
   "outputs": [
    {
     "data": {
      "image/png": "[encoded data removed]",
      "text/plain": [
       "<Figure size 640x480 with 2 Axes>"
      ]
     },
     "metadata": {},
     "output_type": "display_data"
    }
   ],
   "source": [
    "plot_clas_reg()"
   ]
  },
  {
   "cell_type": "markdown",
   "metadata": {},
   "source": [
    "#### Model with the classification target as an intermediate layer"
   ]
  },
  {
   "cell_type": "code",
   "execution_count": 161,
   "metadata": {},
   "outputs": [],
   "source": [
    "def two_layer_model():\n",
    "    \n",
    "    # Input layer\n",
    "    input_shape = X_train_preprocessed.shape[1:]\n",
    "    input_layer = Input(shape=input_shape)\n",
    "\n",
    "    # Shared layers\n",
    "    masked_input = Masking(mask_value=-1)(input_layer)\n",
    "    conv1d_1 = Conv1D(32, activation='relu', kernel_size=3, kernel_regularizer=regularizers.L1L2(l1=1e-3, l2=1e-3))(masked_input)\n",
    "    maxpool_1 = MaxPooling1D(pool_size=2)(conv1d_1)\n",
    "    conv1d_2 = Conv1D(32, activation='relu', kernel_size=3)(maxpool_1)\n",
    "    flatten = Flatten()(conv1d_2)\n",
    "    dense_1 = Dense(units=200, activation='relu')(flatten)\n",
    "    dense_2 = Dense(units=100, activation='relu')(dense_1)\n",
    "    dense_3 = Dense(units=16, activation='relu')(dense_2)\n",
    "    dense_4 = Dense(units=16, activation='relu')(dense_3)\n",
    "\n",
    "    # Classification output\n",
    "    classification_output = Dense(units=5, activation='softmax', name='classification_output')(dense_4)\n",
    "\n",
    "    \n",
    "    # Regression output\n",
    "    regression_output = Dense(units=2, activation='linear', name='regression_output')(dense_4)\n",
    "\n",
    "    # Create the combined model with classification as an intermediate output\n",
    "    combined_model = Model(inputs=input_layer, outputs=[classification_output, regression_output])\n",
    "\n",
    "    # Compile the combined model\n",
    "    combined_model.compile(optimizer='adam',\n",
    "                        loss={'classification_output': 'categorical_crossentropy', 'regression_output': 'mean_squared_error'},\n",
    "                        metrics={'classification_output': 'accuracy', 'regression_output': 'mae'})\n",
    "\n",
    "    return combined_model\n"
   ]
  },
  {
   "cell_type": "code",
   "execution_count": 162,
   "metadata": {},
   "outputs": [
    {
     "name": "stdout",
     "output_type": "stream",
     "text": [
      "Epoch 1/50\n",
      "122/122 [==============================] - 3s 17ms/step - loss: 22406.8086 - classification_output_loss: 25.3569 - regression_output_loss: 22381.3926 - classification_output_accuracy: 0.1611 - regression_output_mae: 121.0195 - val_loss: 20490.5312 - val_classification_output_loss: 4.0698 - val_regression_output_loss: 20486.4082 - val_classification_output_accuracy: 0.5323 - val_regression_output_mae: 118.8594\n",
      "Epoch 2/50\n",
      "122/122 [==============================] - 2s 18ms/step - loss: 20776.6660 - classification_output_loss: 2.7126 - regression_output_loss: 20773.8984 - classification_output_accuracy: 0.2411 - regression_output_mae: 117.4091 - val_loss: 22056.1328 - val_classification_output_loss: 2.1658 - val_regression_output_loss: 22053.9121 - val_classification_output_accuracy: 0.1303 - val_regression_output_mae: 118.1427\n",
      "Epoch 3/50\n",
      "122/122 [==============================] - 2s 17ms/step - loss: 19605.1426 - classification_output_loss: 1.9613 - regression_output_loss: 19603.1328 - classification_output_accuracy: 0.2093 - regression_output_mae: 115.7732 - val_loss: 21516.7070 - val_classification_output_loss: 2.1697 - val_regression_output_loss: 21514.4824 - val_classification_output_accuracy: 0.1128 - val_regression_output_mae: 117.7758\n",
      "Epoch 4/50\n",
      "122/122 [==============================] - 2s 18ms/step - loss: 19329.6289 - classification_output_loss: 2.0817 - regression_output_loss: 19327.4941 - classification_output_accuracy: 0.2183 - regression_output_mae: 114.7208 - val_loss: 21571.1699 - val_classification_output_loss: 2.6111 - val_regression_output_loss: 21568.5059 - val_classification_output_accuracy: 0.1374 - val_regression_output_mae: 123.3937\n",
      "Epoch 5/50\n",
      "122/122 [==============================] - 2s 18ms/step - loss: 19243.1152 - classification_output_loss: 2.6972 - regression_output_loss: 19240.3652 - classification_output_accuracy: 0.2285 - regression_output_mae: 114.2680 - val_loss: 21159.0957 - val_classification_output_loss: 2.9437 - val_regression_output_loss: 21156.0996 - val_classification_output_accuracy: 0.3313 - val_regression_output_mae: 123.1328\n",
      "Epoch 6/50\n",
      "122/122 [==============================] - 2s 16ms/step - loss: 19016.3633 - classification_output_loss: 4.1167 - regression_output_loss: 19012.1934 - classification_output_accuracy: 0.2329 - regression_output_mae: 113.2464 - val_loss: 21859.5254 - val_classification_output_loss: 4.2433 - val_regression_output_loss: 21855.2305 - val_classification_output_accuracy: 0.3477 - val_regression_output_mae: 120.8751\n",
      "Epoch 7/50\n",
      "122/122 [==============================] - 2s 17ms/step - loss: 18893.2773 - classification_output_loss: 4.3021 - regression_output_loss: 18888.9277 - classification_output_accuracy: 0.2285 - regression_output_mae: 113.0152 - val_loss: 22087.0566 - val_classification_output_loss: 9.0313 - val_regression_output_loss: 22077.9707 - val_classification_output_accuracy: 0.1323 - val_regression_output_mae: 125.9207\n",
      "Epoch 8/50\n",
      "122/122 [==============================] - 2s 17ms/step - loss: 19637.4902 - classification_output_loss: 9.2590 - regression_output_loss: 19628.1777 - classification_output_accuracy: 0.2388 - regression_output_mae: 115.3753 - val_loss: 56139.7344 - val_classification_output_loss: 41.4168 - val_regression_output_loss: 56098.2617 - val_classification_output_accuracy: 0.1477 - val_regression_output_mae: 182.5334\n",
      "Epoch 9/50\n",
      "122/122 [==============================] - 2s 17ms/step - loss: 39983.2070 - classification_output_loss: 34.5470 - regression_output_loss: 39948.6055 - classification_output_accuracy: 0.2401 - regression_output_mae: 146.2872 - val_loss: 44027.6719 - val_classification_output_loss: 94.0426 - val_regression_output_loss: 43933.5625 - val_classification_output_accuracy: 0.0933 - val_regression_output_mae: 177.2178\n",
      "Epoch 10/50\n",
      "122/122 [==============================] - 2s 17ms/step - loss: 280656.7812 - classification_output_loss: 144.5918 - regression_output_loss: 280512.1562 - classification_output_accuracy: 0.2501 - regression_output_mae: 281.4243 - val_loss: 21067.8828 - val_classification_output_loss: 93.5852 - val_regression_output_loss: 20974.2441 - val_classification_output_accuracy: 0.1138 - val_regression_output_mae: 119.1128\n",
      "Epoch 11/50\n",
      "122/122 [==============================] - 2s 16ms/step - loss: 20449.2090 - classification_output_loss: 39.2143 - regression_output_loss: 20409.9258 - classification_output_accuracy: 0.2483 - regression_output_mae: 118.1762 - val_loss: 21302.1445 - val_classification_output_loss: 81.9781 - val_regression_output_loss: 21220.0996 - val_classification_output_accuracy: 0.2092 - val_regression_output_mae: 120.4450\n"
     ]
    }
   ],
   "source": [
    "es = EarlyStopping(patience = 10, restore_best_weights=True)\n",
    "\n",
    "model_1 = two_layer_model()\n",
    "\n",
    "history = model_1.fit(\n",
    "    x=X_train_preprocessed,\n",
    "    y={'classification_output': y_train_p, 'regression_output': y_train_dates},\n",
    "    validation_split = 0.2,\n",
    "    shuffle = True,\n",
    "    batch_size=32,\n",
    "    epochs = 50,\n",
    "    callbacks = [es],\n",
    "    verbose = 1\n",
    ")"
   ]
  },
  {
   "cell_type": "code",
   "execution_count": 261,
   "metadata": {},
   "outputs": [
    {
     "name": "stdout",
     "output_type": "stream",
     "text": [
      "39/39 [==============================] - 0s 5ms/step - loss: 27582.5430 - classification_output_loss: 4.0243 - regression_output_loss: 27578.4648 - classification_output_accuracy: 0.6325 - regression_output_mae: 124.7620\n"
     ]
    },
    {
     "data": {
      "text/plain": [
       "[27582.54296875,\n",
       " 4.024256706237793,\n",
       " 27578.46484375,\n",
       " 0.6324856281280518,\n",
       " 124.761962890625]"
      ]
     },
     "execution_count": 261,
     "metadata": {},
     "output_type": "execute_result"
    }
   ],
   "source": [
    "evaluation_1 = model_1.evaluate(\n",
    "    x=X_test_preprocessed,  # Test input data\n",
    "    y={'classification_output': y_test_p, 'regression_output': y_test_dates},  # Dictionary of test labels\n",
    "    verbose=1  # Set to 1 for progress updates during evaluation\n",
    ")\n",
    "evaluation_1"
   ]
  },
  {
   "cell_type": "markdown",
   "metadata": {},
   "source": [
    "#### Conditional intermediate layer"
   ]
  },
  {
   "cell_type": "code",
   "execution_count": 289,
   "metadata": {},
   "outputs": [],
   "source": [
    "def conditional_regression_model():\n",
    "    # Input layer\n",
    "    # Input layer\n",
    "    input_shape = X_train_preprocessed.shape[1:]\n",
    "    input_layer = Input(shape=input_shape)\n",
    "\n",
    "\n",
    "    # Shared layers\n",
    "    masked_input = Masking(mask_value=-1)(input_layer)\n",
    "    conv1d_1 = Conv1D(32, activation='relu', kernel_size=3, kernel_regularizer=regularizers.L1L2(l1=1e-3, l2=1e-3))(masked_input)\n",
    "    maxpool_1 = MaxPooling1D(pool_size=2)(conv1d_1)\n",
    "    conv1d_2 = Conv1D(32, activation='relu', kernel_size=3)(maxpool_1)\n",
    "    flatten = Flatten()(conv1d_2)\n",
    "    dense_1 = Dense(units=200, activation='relu')(flatten)\n",
    "    dropout_1 = Dropout(rate=0.5)(dense_1)\n",
    "    dense_2 = Dense(units=128, activation='relu')(dropout_1)\n",
    "    dropout_2 = Dropout(rate=0.5)(dense_2)\n",
    "    dense_3 = Dense(units=64, activation='relu')(dropout_2)\n",
    "    dropout_3 = Dropout(rate=0.5)(dense_3)\n",
    "    dense_4 = Dense(units=32, activation='relu')(dense_3)\n",
    "\n",
    "    # Classification output\n",
    "    classification_output = Dense(units=4, activation='softmax', name='classification_output')(dense_4)\n",
    "\n",
    "    # Combine input and classification output for regression\n",
    "    regression_input = Concatenate()([dense_4, classification_output])\n",
    "\n",
    "    # Regression output\n",
    "    regression_output = Dense(units=2, activation='linear', name='regression_output')(regression_input)\n",
    "\n",
    "    # Create the combined model\n",
    "    model = Model(inputs=input_layer, outputs=[classification_output, regression_output])\n",
    "\n",
    "    # Compile the model with appropriate loss functions and metrics for each output\n",
    "    model.compile(optimizer='adam',\n",
    "                  loss={'classification_output': 'categorical_crossentropy', 'regression_output': 'mean_squared_error'},\n",
    "                  metrics={'classification_output': 'accuracy', 'regression_output': 'mae'})\n",
    "\n",
    "    return model\n"
   ]
  },
  {
   "cell_type": "code",
   "execution_count": 290,
   "metadata": {},
   "outputs": [
    {
     "name": "stdout",
     "output_type": "stream",
     "text": [
      "Epoch 1/50\n",
      "122/122 [==============================] - 3s 15ms/step - loss: 25791.9531 - classification_output_loss: 38.7561 - regression_output_loss: 25753.1406 - classification_output_accuracy: 0.1980 - regression_output_mae: 126.4139 - val_loss: 22091.2949 - val_classification_output_loss: 9.5588 - val_regression_output_loss: 22081.6836 - val_classification_output_accuracy: 0.6308 - val_regression_output_mae: 118.7389\n",
      "Epoch 2/50\n",
      "122/122 [==============================] - 2s 12ms/step - loss: 21190.7090 - classification_output_loss: 7.3136 - regression_output_loss: 21183.3438 - classification_output_accuracy: 0.2437 - regression_output_mae: 118.6788 - val_loss: 21341.3379 - val_classification_output_loss: 3.6788 - val_regression_output_loss: 21337.6094 - val_classification_output_accuracy: 0.6308 - val_regression_output_mae: 118.2330\n",
      "Epoch 3/50\n",
      "122/122 [==============================] - 1s 11ms/step - loss: 20639.3457 - classification_output_loss: 5.6867 - regression_output_loss: 20633.6016 - classification_output_accuracy: 0.2644 - regression_output_mae: 117.5720 - val_loss: 21080.9707 - val_classification_output_loss: 1.7525 - val_regression_output_loss: 21079.1719 - val_classification_output_accuracy: 0.1621 - val_regression_output_mae: 117.8352\n",
      "Epoch 4/50\n",
      "122/122 [==============================] - 2s 13ms/step - loss: 20911.7734 - classification_output_loss: 5.6875 - regression_output_loss: 20906.0332 - classification_output_accuracy: 0.2683 - regression_output_mae: 117.7058 - val_loss: 22227.8145 - val_classification_output_loss: 2.5910 - val_regression_output_loss: 22225.1758 - val_classification_output_accuracy: 0.1662 - val_regression_output_mae: 117.3848\n",
      "Epoch 5/50\n",
      "122/122 [==============================] - 1s 12ms/step - loss: 21090.3613 - classification_output_loss: 5.6796 - regression_output_loss: 21084.6230 - classification_output_accuracy: 0.2675 - regression_output_mae: 117.8608 - val_loss: 22161.9492 - val_classification_output_loss: 1.3516 - val_regression_output_loss: 22160.5449 - val_classification_output_accuracy: 0.1662 - val_regression_output_mae: 117.7373\n",
      "Epoch 6/50\n",
      "122/122 [==============================] - 1s 12ms/step - loss: 20274.7734 - classification_output_loss: 5.0440 - regression_output_loss: 20269.6777 - classification_output_accuracy: 0.2506 - regression_output_mae: 116.4682 - val_loss: 20732.0254 - val_classification_output_loss: 2.8558 - val_regression_output_loss: 20729.1152 - val_classification_output_accuracy: 0.1662 - val_regression_output_mae: 118.4626\n",
      "Epoch 7/50\n",
      "122/122 [==============================] - 1s 12ms/step - loss: 20320.4980 - classification_output_loss: 5.4097 - regression_output_loss: 20315.0391 - classification_output_accuracy: 0.2434 - regression_output_mae: 116.5742 - val_loss: 22171.0137 - val_classification_output_loss: 1.9314 - val_regression_output_loss: 22169.0312 - val_classification_output_accuracy: 0.2185 - val_regression_output_mae: 117.6003\n",
      "Epoch 8/50\n",
      "122/122 [==============================] - 1s 12ms/step - loss: 19898.0762 - classification_output_loss: 4.5377 - regression_output_loss: 19893.4902 - classification_output_accuracy: 0.2908 - regression_output_mae: 115.0755 - val_loss: 24983.7832 - val_classification_output_loss: 2.1810 - val_regression_output_loss: 24981.5547 - val_classification_output_accuracy: 0.1590 - val_regression_output_mae: 120.2059\n",
      "Epoch 9/50\n",
      "122/122 [==============================] - 1s 11ms/step - loss: 19943.7715 - classification_output_loss: 4.5989 - regression_output_loss: 19939.1191 - classification_output_accuracy: 0.2798 - regression_output_mae: 115.4868 - val_loss: 21010.4160 - val_classification_output_loss: 1.0913 - val_regression_output_loss: 21009.2754 - val_classification_output_accuracy: 0.1846 - val_regression_output_mae: 118.1117\n",
      "Epoch 10/50\n",
      "122/122 [==============================] - 1s 11ms/step - loss: 19971.2402 - classification_output_loss: 3.8785 - regression_output_loss: 19967.3105 - classification_output_accuracy: 0.2596 - regression_output_mae: 115.2072 - val_loss: 21558.8574 - val_classification_output_loss: 3.5618 - val_regression_output_loss: 21555.2402 - val_classification_output_accuracy: 0.6308 - val_regression_output_mae: 118.3487\n",
      "Epoch 11/50\n",
      "122/122 [==============================] - 1s 12ms/step - loss: 19717.7969 - classification_output_loss: 3.7795 - regression_output_loss: 19713.9570 - classification_output_accuracy: 0.2272 - regression_output_mae: 114.1852 - val_loss: 22862.4902 - val_classification_output_loss: 1.7425 - val_regression_output_loss: 22860.6934 - val_classification_output_accuracy: 0.1662 - val_regression_output_mae: 118.7226\n",
      "Epoch 12/50\n",
      "122/122 [==============================] - 1s 12ms/step - loss: 19325.8145 - classification_output_loss: 3.3983 - regression_output_loss: 19322.3574 - classification_output_accuracy: 0.2393 - regression_output_mae: 113.1365 - val_loss: 21553.0801 - val_classification_output_loss: 1.2938 - val_regression_output_loss: 21551.7324 - val_classification_output_accuracy: 0.1641 - val_regression_output_mae: 118.5252\n",
      "Epoch 13/50\n",
      "122/122 [==============================] - 1s 11ms/step - loss: 19345.2402 - classification_output_loss: 3.0043 - regression_output_loss: 19342.1797 - classification_output_accuracy: 0.2588 - regression_output_mae: 113.2305 - val_loss: 22607.3398 - val_classification_output_loss: 1.8954 - val_regression_output_loss: 22605.3906 - val_classification_output_accuracy: 0.1662 - val_regression_output_mae: 119.6770\n",
      "Epoch 14/50\n",
      "122/122 [==============================] - 1s 12ms/step - loss: 18501.0723 - classification_output_loss: 2.9925 - regression_output_loss: 18498.0195 - classification_output_accuracy: 0.2257 - regression_output_mae: 110.6445 - val_loss: 22547.2090 - val_classification_output_loss: 1.3252 - val_regression_output_loss: 22545.8223 - val_classification_output_accuracy: 0.1415 - val_regression_output_mae: 120.0117\n",
      "Epoch 15/50\n",
      "122/122 [==============================] - 1s 12ms/step - loss: 18501.3418 - classification_output_loss: 2.6470 - regression_output_loss: 18498.6406 - classification_output_accuracy: 0.2698 - regression_output_mae: 110.0311 - val_loss: 23529.0879 - val_classification_output_loss: 0.7746 - val_regression_output_loss: 23528.2559 - val_classification_output_accuracy: 0.4574 - val_regression_output_mae: 121.0589\n",
      "Epoch 16/50\n",
      "122/122 [==============================] - 1s 12ms/step - loss: 18297.9336 - classification_output_loss: 2.9001 - regression_output_loss: 18294.9746 - classification_output_accuracy: 0.3606 - regression_output_mae: 109.1006 - val_loss: 23406.2461 - val_classification_output_loss: 1.4673 - val_regression_output_loss: 23404.7207 - val_classification_output_accuracy: 0.2503 - val_regression_output_mae: 120.3734\n"
     ]
    }
   ],
   "source": [
    "es = EarlyStopping(patience = 10, restore_best_weights=True)\n",
    "\n",
    "model_2 = conditional_regression_model()\n",
    "\n",
    "history = model_2.fit(\n",
    "    x=X_train_preprocessed,\n",
    "    y={'classification_output': y_train_p, 'regression_output': y_train_dates},\n",
    "    validation_split = 0.2,\n",
    "    shuffle = True,\n",
    "    batch_size=32,\n",
    "    epochs = 50,\n",
    "    callbacks = [es],\n",
    "    verbose = 1\n",
    ")"
   ]
  },
  {
   "cell_type": "code",
   "execution_count": 291,
   "metadata": {},
   "outputs": [
    {
     "name": "stdout",
     "output_type": "stream",
     "text": [
      " 1/39 [..............................] - ETA: 0s - loss: 23163.3613 - classification_output_loss: 5.2839 - regression_output_loss: 23158.0273 - classification_output_accuracy: 0.1875 - regression_output_mae: 138.2546"
     ]
    },
    {
     "name": "stdout",
     "output_type": "stream",
     "text": [
      "39/39 [==============================] - 0s 5ms/step - loss: 19497.1348 - classification_output_loss: 2.6900 - regression_output_loss: 19494.3887 - classification_output_accuracy: 0.1649 - regression_output_mae: 114.4255\n"
     ]
    }
   ],
   "source": [
    "evaluation_2 = model_2.evaluate(\n",
    "    x=X_test_preprocessed,  # Test input data\n",
    "    y={'classification_output': y_test_p, 'regression_output': y_test_dates},  # Dictionary of test labels\n",
    "    verbose=1  # Set to 1 for progress updates during evaluation\n",
    ")\n"
   ]
  },
  {
   "cell_type": "code",
   "execution_count": 175,
   "metadata": {},
   "outputs": [
    {
     "data": {
      "image/png": "[encoded data removed]",
      "text/plain": [
       "<Figure size 640x480 with 2 Axes>"
      ]
     },
     "metadata": {},
     "output_type": "display_data"
    }
   ],
   "source": [
    "plot_clas_reg()"
   ]
  },
  {
   "cell_type": "markdown",
   "metadata": {},
   "source": [
    "#### Finding better parameters for the neural network"
   ]
  },
  {
   "cell_type": "code",
   "execution_count": 44,
   "metadata": {},
   "outputs": [],
   "source": [
    "def conditional_regression_model_1():\n",
    "    # Input layer\n",
    "    # Input layer\n",
    "    input_shape = X_train_preprocessed.shape[1:]\n",
    "    input_layer = Input(shape=input_shape)\n",
    "\n",
    "\n",
    "    # Shared layers\n",
    "    masked_input = Masking(mask_value=-1)(input_layer)\n",
    "    conv1d_1 = Conv1D(32, activation='relu', kernel_size=3, kernel_regularizer=regularizers.L1L2(l1=1e-3, l2=1e-3))(masked_input)\n",
    "    maxpool_1 = MaxPooling1D(pool_size=2)(conv1d_1)\n",
    "    conv1d_2 = Conv1D(32, activation='relu', kernel_size=3)(maxpool_1)\n",
    "    \n",
    "    flatten = Flatten()(conv1d_2)\n",
    "    dense_1 = Dense(units=192, activation='relu')(flatten)\n",
    "    dropout_1 = Dropout(rate=0.5)(dense_1)\n",
    "    dense_2 = Dense(units=128, activation='relu')(dropout_1)\n",
    "    dropout_2 = Dropout(rate=0.5)(dense_2)\n",
    "    dense_3 = Dense(units=64, activation='relu')(dropout_2)\n",
    "    dropout_3 = Dropout(rate=0.5)(dense_3)\n",
    "    dense_4 = Dense(units=32, activation='relu')(dropout_3)\n",
    "    \n",
    "\n",
    "    # Classification output\n",
    "    classification_output = Dense(units=4, activation='softmax', name='classification_output')(dense_4)\n",
    "\n",
    "    # Combine input and classification output for regression\n",
    "    regression_input = Concatenate()([dense_4, classification_output])\n",
    "\n",
    "    # Regression output\n",
    "    regression_output = Dense(units=2, activation='linear', name='regression_output')(regression_input)\n",
    "\n",
    "    # Create the combined model\n",
    "    model = Model(inputs=input_layer, outputs=[classification_output, regression_output])\n",
    "\n",
    "    # Compile the model with appropriate loss functions and metrics for each output\n",
    "    model.compile(optimizer='adam',\n",
    "                  loss={'classification_output': 'categorical_crossentropy', 'regression_output': 'mean_squared_error'},\n",
    "                  metrics={'classification_output': 'accuracy', 'regression_output': 'mae'})\n",
    "\n",
    "    return model\n"
   ]
  },
  {
   "cell_type": "code",
   "execution_count": null,
   "metadata": {},
   "outputs": [],
   "source": []
  },
  {
   "cell_type": "code",
   "execution_count": 45,
   "metadata": {},
   "outputs": [
    {
     "name": "stdout",
     "output_type": "stream",
     "text": [
      "Epoch 1/50\n",
      "122/122 [==============================] - 3s 15ms/step - loss: 17647.1992 - classification_output_loss: 22.4960 - regression_output_loss: 17624.6504 - classification_output_accuracy: 0.1439 - regression_output_mae: 97.3930 - val_loss: 14075.0596 - val_classification_output_loss: 8.5618 - val_regression_output_loss: 14066.4434 - val_classification_output_accuracy: 0.1559 - val_regression_output_mae: 91.2169\n",
      "Epoch 2/50\n",
      "122/122 [==============================] - 1s 12ms/step - loss: 10886.1963 - classification_output_loss: 16.0652 - regression_output_loss: 10870.0791 - classification_output_accuracy: 0.2542 - regression_output_mae: 79.3783 - val_loss: 10867.3477 - val_classification_output_loss: 6.1749 - val_regression_output_loss: 10861.1211 - val_classification_output_accuracy: 0.1046 - val_regression_output_mae: 81.3304\n",
      "Epoch 3/50\n",
      "122/122 [==============================] - 1s 11ms/step - loss: 10147.5234 - classification_output_loss: 14.6609 - regression_output_loss: 10132.8037 - classification_output_accuracy: 0.2521 - regression_output_mae: 77.5033 - val_loss: 11043.4131 - val_classification_output_loss: 4.5634 - val_regression_output_loss: 11038.7949 - val_classification_output_accuracy: 0.1528 - val_regression_output_mae: 81.7408\n",
      "Epoch 4/50\n",
      "122/122 [==============================] - 1s 11ms/step - loss: 10014.5146 - classification_output_loss: 13.7539 - regression_output_loss: 10000.7080 - classification_output_accuracy: 0.2285 - regression_output_mae: 76.8818 - val_loss: 11693.6465 - val_classification_output_loss: 4.4629 - val_regression_output_loss: 11689.1289 - val_classification_output_accuracy: 0.1128 - val_regression_output_mae: 83.7271\n",
      "Epoch 5/50\n",
      "122/122 [==============================] - 1s 11ms/step - loss: 10030.4355 - classification_output_loss: 13.5122 - regression_output_loss: 10016.8682 - classification_output_accuracy: 0.2572 - regression_output_mae: 77.1464 - val_loss: 11381.0850 - val_classification_output_loss: 4.8131 - val_regression_output_loss: 11376.2197 - val_classification_output_accuracy: 0.1128 - val_regression_output_mae: 82.3511\n",
      "Epoch 6/50\n",
      "122/122 [==============================] - 1s 11ms/step - loss: 9493.6221 - classification_output_loss: 12.7584 - regression_output_loss: 9480.8115 - classification_output_accuracy: 0.2424 - regression_output_mae: 75.1175 - val_loss: 8993.4688 - val_classification_output_loss: 5.1615 - val_regression_output_loss: 8988.2539 - val_classification_output_accuracy: 0.1128 - val_regression_output_mae: 73.6583\n",
      "Epoch 7/50\n",
      "122/122 [==============================] - 1s 11ms/step - loss: 9379.3115 - classification_output_loss: 11.8553 - regression_output_loss: 9367.4023 - classification_output_accuracy: 0.2696 - regression_output_mae: 74.9308 - val_loss: 11071.2490 - val_classification_output_loss: 3.3551 - val_regression_output_loss: 11067.8408 - val_classification_output_accuracy: 0.1128 - val_regression_output_mae: 82.1905\n",
      "Epoch 8/50\n",
      "122/122 [==============================] - 1s 11ms/step - loss: 9042.8418 - classification_output_loss: 10.6314 - regression_output_loss: 9032.1572 - classification_output_accuracy: 0.2939 - regression_output_mae: 73.4120 - val_loss: 10665.3242 - val_classification_output_loss: 1.7413 - val_regression_output_loss: 10663.5303 - val_classification_output_accuracy: 0.1128 - val_regression_output_mae: 80.8263\n",
      "Epoch 9/50\n",
      "122/122 [==============================] - 1s 11ms/step - loss: 8961.4863 - classification_output_loss: 11.0208 - regression_output_loss: 8950.4092 - classification_output_accuracy: 0.3468 - regression_output_mae: 73.2140 - val_loss: 11088.2793 - val_classification_output_loss: 3.5238 - val_regression_output_loss: 11084.7012 - val_classification_output_accuracy: 0.0697 - val_regression_output_mae: 81.6570\n",
      "Epoch 10/50\n",
      "122/122 [==============================] - 1s 11ms/step - loss: 8748.6680 - classification_output_loss: 8.5943 - regression_output_loss: 8740.0205 - classification_output_accuracy: 0.2962 - regression_output_mae: 72.9432 - val_loss: 10670.8994 - val_classification_output_loss: 1.8469 - val_regression_output_loss: 10668.9980 - val_classification_output_accuracy: 0.1723 - val_regression_output_mae: 80.3573\n",
      "Epoch 11/50\n",
      "122/122 [==============================] - 1s 11ms/step - loss: 8692.3594 - classification_output_loss: 8.4737 - regression_output_loss: 8683.8291 - classification_output_accuracy: 0.3078 - regression_output_mae: 72.1443 - val_loss: 12177.9844 - val_classification_output_loss: 2.7653 - val_regression_output_loss: 12175.1660 - val_classification_output_accuracy: 0.1118 - val_regression_output_mae: 86.1088\n",
      "Epoch 12/50\n",
      "122/122 [==============================] - 1s 11ms/step - loss: 8304.7441 - classification_output_loss: 7.7352 - regression_output_loss: 8296.9521 - classification_output_accuracy: 0.3380 - regression_output_mae: 70.7677 - val_loss: 9435.7314 - val_classification_output_loss: 2.3944 - val_regression_output_loss: 9433.2812 - val_classification_output_accuracy: 0.2000 - val_regression_output_mae: 75.6584\n",
      "Epoch 13/50\n",
      "122/122 [==============================] - 1s 11ms/step - loss: 8304.3633 - classification_output_loss: 7.2034 - regression_output_loss: 8297.1025 - classification_output_accuracy: 0.2216 - regression_output_mae: 70.6214 - val_loss: 10707.9092 - val_classification_output_loss: 2.9550 - val_regression_output_loss: 10704.8984 - val_classification_output_accuracy: 0.1723 - val_regression_output_mae: 80.6253\n",
      "Epoch 14/50\n",
      "122/122 [==============================] - 1s 11ms/step - loss: 7748.6626 - classification_output_loss: 7.0157 - regression_output_loss: 7741.5903 - classification_output_accuracy: 0.3083 - regression_output_mae: 68.7381 - val_loss: 10354.6738 - val_classification_output_loss: 4.0909 - val_regression_output_loss: 10350.5264 - val_classification_output_accuracy: 0.6451 - val_regression_output_mae: 79.7371\n",
      "Epoch 15/50\n",
      "122/122 [==============================] - 1s 11ms/step - loss: 7853.9805 - classification_output_loss: 6.9877 - regression_output_loss: 7846.9365 - classification_output_accuracy: 0.2890 - regression_output_mae: 68.9919 - val_loss: 11441.9570 - val_classification_output_loss: 1.9578 - val_regression_output_loss: 11439.9414 - val_classification_output_accuracy: 0.1569 - val_regression_output_mae: 83.9203\n",
      "Epoch 16/50\n",
      "122/122 [==============================] - 1s 11ms/step - loss: 7770.7183 - classification_output_loss: 6.7741 - regression_output_loss: 7763.8872 - classification_output_accuracy: 0.2893 - regression_output_mae: 68.2133 - val_loss: 9562.1621 - val_classification_output_loss: 2.2988 - val_regression_output_loss: 9559.8066 - val_classification_output_accuracy: 0.0790 - val_regression_output_mae: 76.9192\n"
     ]
    }
   ],
   "source": [
    "es = EarlyStopping(patience = 10, restore_best_weights=True)\n",
    "#lr_scheduler = ReduceLROnPlateau(monitor='val_loss', factor=0.5, patience=3, verbose=1, min_lr=1e-6)\n",
    "\n",
    "model_3 = conditional_regression_model_1()\n",
    "\n",
    "history = model_3.fit(\n",
    "    x=X_train_preprocessed,\n",
    "    y={'classification_output': y_train_p, 'regression_output': y_train_dates},\n",
    "    validation_split = 0.2,\n",
    "    shuffle = True,\n",
    "    batch_size=32,\n",
    "    epochs = 50,\n",
    "    callbacks = [es],\n",
    "    verbose = 1\n",
    ")"
   ]
  },
  {
   "cell_type": "code",
   "execution_count": 21,
   "metadata": {},
   "outputs": [
    {
     "name": "stdout",
     "output_type": "stream",
     "text": [
      "pydot==1.4.2\n"
     ]
    }
   ],
   "source": [
    "!pip freeze | grep pydot"
   ]
  },
  {
   "cell_type": "code",
   "execution_count": 22,
   "metadata": {},
   "outputs": [
    {
     "data": {
      "image/png": "[encoded data removed]",
      "text/plain": [
       "<IPython.core.display.Image object>"
      ]
     },
     "execution_count": 22,
     "metadata": {},
     "output_type": "execute_result"
    }
   ],
   "source": [
    "from tensorflow.keras.utils import plot_model\n",
    "plot_model(model_3)"
   ]
  },
  {
   "cell_type": "code",
   "execution_count": 297,
   "metadata": {},
   "outputs": [
    {
     "data": {
      "text/plain": [
       "[<matplotlib.lines.Line2D at 0x7fd6166ecb80>]"
      ]
     },
     "execution_count": 297,
     "metadata": {},
     "output_type": "execute_result"
    },
    {
     "data": {
      "image/png": "[encoded data removed]",
      "text/plain": [
       "<Figure size 640x480 with 1 Axes>"
      ]
     },
     "metadata": {},
     "output_type": "display_data"
    }
   ],
   "source": [
    "plt.plot(history.history[\"loss\"])"
   ]
  },
  {
   "cell_type": "code",
   "execution_count": 42,
   "metadata": {},
   "outputs": [
    {
     "name": "stdout",
     "output_type": "stream",
     "text": [
      "39/39 [==============================] - 0s 4ms/step - loss: 8526.6074 - classification_output_loss: 7.7822 - regression_output_loss: 8518.7744 - classification_output_accuracy: 0.1214 - regression_output_mae: 70.2954\n"
     ]
    }
   ],
   "source": [
    "evaluation_3 = model_3.evaluate(\n",
    "    x=X_test_preprocessed,  # Test input data\n",
    "    y={'classification_output': y_test_p, 'regression_output': y_test_dates},  # Dictionary of test labels\n",
    "    verbose=1  # Set to 1 for progress updates during evaluation\n",
    ")\n"
   ]
  },
  {
   "cell_type": "code",
   "execution_count": 1,
   "metadata": {},
   "outputs": [
    {
     "ename": "NameError",
     "evalue": "name 'preprocess' is not defined",
     "output_type": "error",
     "traceback": [
      "\u001b[0;31m---------------------------------------------------------------------------\u001b[0m",
      "\u001b[0;31mNameError\u001b[0m                                 Traceback (most recent call last)",
      "Cell \u001b[0;32mIn[1], line 1\u001b[0m\n\u001b[0;32m----> 1\u001b[0m X_train_synth, y_train_p_synth, y_train_dates_synth, X_test_synth, y_test_p_synth, y_test_dates_synth \u001b[39m=\u001b[39m preprocess(X_synth, y_synth)\n",
      "\u001b[0;31mNameError\u001b[0m: name 'preprocess' is not defined"
     ]
    }
   ],
   "source": [
    "X_train_synth, y_train_p_synth, y_train_dates_synth, X_test_synth, y_test_p_synth, y_test_dates_synth = preprocess(X_synth, y_synth)"
   ]
  },
  {
   "cell_type": "code",
   "execution_count": 117,
   "metadata": {},
   "outputs": [],
   "source": [
    "def conditional_regression_model_2():\n",
    "    # Input layer\n",
    "    # Input layer\n",
    "    input_shape = X_train_c.shape[1:]\n",
    "    input_layer = Input(shape=input_shape)\n",
    "\n",
    "\n",
    "    # Shared layers\n",
    "    masked_input = Masking(mask_value=-1)(input_layer)\n",
    "    #conv1d_1 = Conv1D(8, activation='relu', kernel_size=3)(masked_input)\n",
    "    #maxpool_1 = AveragePooling1D(pool_size=2)(conv1d_1)\n",
    "    #conv1d_2 = Conv1D(16, activation='relu', kernel_size=5)(maxpool_1)\n",
    "    #maxpool_2 = AveragePooling1D(pool_size=2)(conv1d_2)\n",
    "    #conv1d_3 = Conv1D(32, activation='relu', kernel_size=5)(maxpool_2)\n",
    "    #maxpool_3 = AveragePooling1D(pool_size=2)(conv1d_3)\n",
    "    #conv1d_4 = Conv1D(64, activation='relu', kernel_size=5)(maxpool_3)\n",
    "    \n",
    "    lstm_1 = LSTM(units=16, return_sequences=True)(masked_input)\n",
    "    # lstm_2 = LSTM(units=8, return_sequences=True)(lstm_1)\n",
    "\n",
    "\n",
    "    # Add the second LSTM layer\n",
    "    lstm_3 = LSTM(units=16, return_sequences=False)(lstm_1)\n",
    "\n",
    "    \n",
    "    \n",
    "    flatten = Flatten()(lstm_3)\n",
    "    dense_1 = Dense(units=32, activation='relu')(flatten)\n",
    "    #dropout_1 = Dropout(rate=0.5)(dense_1)\n",
    "    # dense_2 = Dense(units=32, activation='relu')(dense_1)\n",
    "    \n",
    "    \n",
    "\n",
    "    # Classification output\n",
    "    classification_output = Dense(units=5, activation='softmax', name='classification_output')(dense_1)\n",
    "\n",
    "    \n",
    "\n",
    "    # Create the combined model\n",
    "\n",
    "    \n",
    "    # Create the combined model\n",
    "    model = Model(inputs=input_layer, outputs=[classification_output])\n",
    "\n",
    "    # Compile the model with appropriate loss functions and metrics for each output\n",
    "    model.compile(optimizer='rmsprop',\n",
    "                  loss={'classification_output': 'categorical_crossentropy'},\n",
    "                  metrics={'classification_output': 'accuracy'})\n",
    "\n",
    "    return model\n"
   ]
  },
  {
   "cell_type": "code",
   "execution_count": 147,
   "metadata": {},
   "outputs": [
    {
     "data": {
      "text/plain": [
       "0.24121648659463785"
      ]
     },
     "execution_count": 147,
     "metadata": {},
     "output_type": "execute_result"
    }
   ],
   "source": [
    "_,counts = np.unique(y_train_p_c, axis=0, return_counts=True)\n",
    "max(counts)/sum(counts)"
   ]
  },
  {
   "cell_type": "code",
   "execution_count": 118,
   "metadata": {},
   "outputs": [
    {
     "name": "stdout",
     "output_type": "stream",
     "text": [
      "Epoch 1/50\n",
      "938/938 [==============================] - 218s 228ms/step - loss: 1.1207 - accuracy: 0.5514 - val_loss: 0.9806 - val_accuracy: 0.6042\n",
      "Epoch 2/50\n",
      "938/938 [==============================] - 217s 231ms/step - loss: 0.9415 - accuracy: 0.6386 - val_loss: 0.8937 - val_accuracy: 0.6645\n",
      "Epoch 3/50\n",
      "316/938 [=========>....................] - ETA: 2:40 - loss: 0.8829 - accuracy: 0.6741"
     ]
    },
    {
     "ename": "KeyboardInterrupt",
     "evalue": "",
     "output_type": "error",
     "traceback": [
      "\u001b[0;31m---------------------------------------------------------------------------\u001b[0m",
      "\u001b[0;31mKeyboardInterrupt\u001b[0m                         Traceback (most recent call last)",
      "Cell \u001b[0;32mIn[118], line 6\u001b[0m\n\u001b[1;32m      2\u001b[0m \u001b[39m#lr_scheduler = ReduceLROnPlateau(monitor='val_loss', factor=0.5, patience=3, verbose=1, min_lr=1e-6)\u001b[39;00m\n\u001b[1;32m      4\u001b[0m model_4 \u001b[39m=\u001b[39m conditional_regression_model_2()\n\u001b[0;32m----> 6\u001b[0m history \u001b[39m=\u001b[39m model_4\u001b[39m.\u001b[39;49mfit(\n\u001b[1;32m      7\u001b[0m     x\u001b[39m=\u001b[39;49mX_train_c,\n\u001b[1;32m      8\u001b[0m     y\u001b[39m=\u001b[39;49m{\u001b[39m'\u001b[39;49m\u001b[39mclassification_output\u001b[39;49m\u001b[39m'\u001b[39;49m: y_train_p_c},\n\u001b[1;32m      9\u001b[0m     validation_split \u001b[39m=\u001b[39;49m \u001b[39m0.2\u001b[39;49m,\n\u001b[1;32m     10\u001b[0m     shuffle \u001b[39m=\u001b[39;49m \u001b[39mTrue\u001b[39;49;00m,\n\u001b[1;32m     11\u001b[0m     batch_size\u001b[39m=\u001b[39;49m\u001b[39m32\u001b[39;49m,\n\u001b[1;32m     12\u001b[0m     epochs \u001b[39m=\u001b[39;49m \u001b[39m50\u001b[39;49m,\n\u001b[1;32m     13\u001b[0m     callbacks \u001b[39m=\u001b[39;49m [es],\n\u001b[1;32m     14\u001b[0m     verbose \u001b[39m=\u001b[39;49m \u001b[39m1\u001b[39;49m\n\u001b[1;32m     15\u001b[0m )\n",
      "File \u001b[0;32m~/.pyenv/versions/3.10.6/envs/bool/lib/python3.10/site-packages/keras/src/utils/traceback_utils.py:65\u001b[0m, in \u001b[0;36mfilter_traceback.<locals>.error_handler\u001b[0;34m(*args, **kwargs)\u001b[0m\n\u001b[1;32m     63\u001b[0m filtered_tb \u001b[39m=\u001b[39m \u001b[39mNone\u001b[39;00m\n\u001b[1;32m     64\u001b[0m \u001b[39mtry\u001b[39;00m:\n\u001b[0;32m---> 65\u001b[0m     \u001b[39mreturn\u001b[39;00m fn(\u001b[39m*\u001b[39;49margs, \u001b[39m*\u001b[39;49m\u001b[39m*\u001b[39;49mkwargs)\n\u001b[1;32m     66\u001b[0m \u001b[39mexcept\u001b[39;00m \u001b[39mException\u001b[39;00m \u001b[39mas\u001b[39;00m e:\n\u001b[1;32m     67\u001b[0m     filtered_tb \u001b[39m=\u001b[39m _process_traceback_frames(e\u001b[39m.\u001b[39m__traceback__)\n",
      "File \u001b[0;32m~/.pyenv/versions/3.10.6/envs/bool/lib/python3.10/site-packages/keras/src/engine/training.py:1742\u001b[0m, in \u001b[0;36mModel.fit\u001b[0;34m(self, x, y, batch_size, epochs, verbose, callbacks, validation_split, validation_data, shuffle, class_weight, sample_weight, initial_epoch, steps_per_epoch, validation_steps, validation_batch_size, validation_freq, max_queue_size, workers, use_multiprocessing)\u001b[0m\n\u001b[1;32m   1734\u001b[0m \u001b[39mwith\u001b[39;00m tf\u001b[39m.\u001b[39mprofiler\u001b[39m.\u001b[39mexperimental\u001b[39m.\u001b[39mTrace(\n\u001b[1;32m   1735\u001b[0m     \u001b[39m\"\u001b[39m\u001b[39mtrain\u001b[39m\u001b[39m\"\u001b[39m,\n\u001b[1;32m   1736\u001b[0m     epoch_num\u001b[39m=\u001b[39mepoch,\n\u001b[0;32m   (...)\u001b[0m\n\u001b[1;32m   1739\u001b[0m     _r\u001b[39m=\u001b[39m\u001b[39m1\u001b[39m,\n\u001b[1;32m   1740\u001b[0m ):\n\u001b[1;32m   1741\u001b[0m     callbacks\u001b[39m.\u001b[39mon_train_batch_begin(step)\n\u001b[0;32m-> 1742\u001b[0m     tmp_logs \u001b[39m=\u001b[39m \u001b[39mself\u001b[39;49m\u001b[39m.\u001b[39;49mtrain_function(iterator)\n\u001b[1;32m   1743\u001b[0m     \u001b[39mif\u001b[39;00m data_handler\u001b[39m.\u001b[39mshould_sync:\n\u001b[1;32m   1744\u001b[0m         context\u001b[39m.\u001b[39masync_wait()\n",
      "File \u001b[0;32m~/.pyenv/versions/3.10.6/envs/bool/lib/python3.10/site-packages/tensorflow/python/util/traceback_utils.py:150\u001b[0m, in \u001b[0;36mfilter_traceback.<locals>.error_handler\u001b[0;34m(*args, **kwargs)\u001b[0m\n\u001b[1;32m    148\u001b[0m filtered_tb \u001b[39m=\u001b[39m \u001b[39mNone\u001b[39;00m\n\u001b[1;32m    149\u001b[0m \u001b[39mtry\u001b[39;00m:\n\u001b[0;32m--> 150\u001b[0m   \u001b[39mreturn\u001b[39;00m fn(\u001b[39m*\u001b[39;49margs, \u001b[39m*\u001b[39;49m\u001b[39m*\u001b[39;49mkwargs)\n\u001b[1;32m    151\u001b[0m \u001b[39mexcept\u001b[39;00m \u001b[39mException\u001b[39;00m \u001b[39mas\u001b[39;00m e:\n\u001b[1;32m    152\u001b[0m   filtered_tb \u001b[39m=\u001b[39m _process_traceback_frames(e\u001b[39m.\u001b[39m__traceback__)\n",
      "File \u001b[0;32m~/.pyenv/versions/3.10.6/envs/bool/lib/python3.10/site-packages/tensorflow/python/eager/polymorphic_function/polymorphic_function.py:825\u001b[0m, in \u001b[0;36mFunction.__call__\u001b[0;34m(self, *args, **kwds)\u001b[0m\n\u001b[1;32m    822\u001b[0m compiler \u001b[39m=\u001b[39m \u001b[39m\"\u001b[39m\u001b[39mxla\u001b[39m\u001b[39m\"\u001b[39m \u001b[39mif\u001b[39;00m \u001b[39mself\u001b[39m\u001b[39m.\u001b[39m_jit_compile \u001b[39melse\u001b[39;00m \u001b[39m\"\u001b[39m\u001b[39mnonXla\u001b[39m\u001b[39m\"\u001b[39m\n\u001b[1;32m    824\u001b[0m \u001b[39mwith\u001b[39;00m OptionalXlaContext(\u001b[39mself\u001b[39m\u001b[39m.\u001b[39m_jit_compile):\n\u001b[0;32m--> 825\u001b[0m   result \u001b[39m=\u001b[39m \u001b[39mself\u001b[39;49m\u001b[39m.\u001b[39;49m_call(\u001b[39m*\u001b[39;49margs, \u001b[39m*\u001b[39;49m\u001b[39m*\u001b[39;49mkwds)\n\u001b[1;32m    827\u001b[0m new_tracing_count \u001b[39m=\u001b[39m \u001b[39mself\u001b[39m\u001b[39m.\u001b[39mexperimental_get_tracing_count()\n\u001b[1;32m    828\u001b[0m without_tracing \u001b[39m=\u001b[39m (tracing_count \u001b[39m==\u001b[39m new_tracing_count)\n",
      "File \u001b[0;32m~/.pyenv/versions/3.10.6/envs/bool/lib/python3.10/site-packages/tensorflow/python/eager/polymorphic_function/polymorphic_function.py:857\u001b[0m, in \u001b[0;36mFunction._call\u001b[0;34m(self, *args, **kwds)\u001b[0m\n\u001b[1;32m    854\u001b[0m   \u001b[39mself\u001b[39m\u001b[39m.\u001b[39m_lock\u001b[39m.\u001b[39mrelease()\n\u001b[1;32m    855\u001b[0m   \u001b[39m# In this case we have created variables on the first call, so we run the\u001b[39;00m\n\u001b[1;32m    856\u001b[0m   \u001b[39m# defunned version which is guaranteed to never create variables.\u001b[39;00m\n\u001b[0;32m--> 857\u001b[0m   \u001b[39mreturn\u001b[39;00m \u001b[39mself\u001b[39;49m\u001b[39m.\u001b[39;49m_no_variable_creation_fn(\u001b[39m*\u001b[39;49margs, \u001b[39m*\u001b[39;49m\u001b[39m*\u001b[39;49mkwds)  \u001b[39m# pylint: disable=not-callable\u001b[39;00m\n\u001b[1;32m    858\u001b[0m \u001b[39melif\u001b[39;00m \u001b[39mself\u001b[39m\u001b[39m.\u001b[39m_variable_creation_fn \u001b[39mis\u001b[39;00m \u001b[39mnot\u001b[39;00m \u001b[39mNone\u001b[39;00m:\n\u001b[1;32m    859\u001b[0m   \u001b[39m# Release the lock early so that multiple threads can perform the call\u001b[39;00m\n\u001b[1;32m    860\u001b[0m   \u001b[39m# in parallel.\u001b[39;00m\n\u001b[1;32m    861\u001b[0m   \u001b[39mself\u001b[39m\u001b[39m.\u001b[39m_lock\u001b[39m.\u001b[39mrelease()\n",
      "File \u001b[0;32m~/.pyenv/versions/3.10.6/envs/bool/lib/python3.10/site-packages/tensorflow/python/eager/polymorphic_function/tracing_compiler.py:148\u001b[0m, in \u001b[0;36mTracingCompiler.__call__\u001b[0;34m(self, *args, **kwargs)\u001b[0m\n\u001b[1;32m    145\u001b[0m \u001b[39mwith\u001b[39;00m \u001b[39mself\u001b[39m\u001b[39m.\u001b[39m_lock:\n\u001b[1;32m    146\u001b[0m   (concrete_function,\n\u001b[1;32m    147\u001b[0m    filtered_flat_args) \u001b[39m=\u001b[39m \u001b[39mself\u001b[39m\u001b[39m.\u001b[39m_maybe_define_function(args, kwargs)\n\u001b[0;32m--> 148\u001b[0m \u001b[39mreturn\u001b[39;00m concrete_function\u001b[39m.\u001b[39;49m_call_flat(\n\u001b[1;32m    149\u001b[0m     filtered_flat_args, captured_inputs\u001b[39m=\u001b[39;49mconcrete_function\u001b[39m.\u001b[39;49mcaptured_inputs)\n",
      "File \u001b[0;32m~/.pyenv/versions/3.10.6/envs/bool/lib/python3.10/site-packages/tensorflow/python/eager/polymorphic_function/monomorphic_function.py:1349\u001b[0m, in \u001b[0;36mConcreteFunction._call_flat\u001b[0;34m(self, args, captured_inputs)\u001b[0m\n\u001b[1;32m   1345\u001b[0m possible_gradient_type \u001b[39m=\u001b[39m gradients_util\u001b[39m.\u001b[39mPossibleTapeGradientTypes(args)\n\u001b[1;32m   1346\u001b[0m \u001b[39mif\u001b[39;00m (possible_gradient_type \u001b[39m==\u001b[39m gradients_util\u001b[39m.\u001b[39mPOSSIBLE_GRADIENT_TYPES_NONE\n\u001b[1;32m   1347\u001b[0m     \u001b[39mand\u001b[39;00m executing_eagerly):\n\u001b[1;32m   1348\u001b[0m   \u001b[39m# No tape is watching; skip to running the function.\u001b[39;00m\n\u001b[0;32m-> 1349\u001b[0m   \u001b[39mreturn\u001b[39;00m \u001b[39mself\u001b[39m\u001b[39m.\u001b[39m_build_call_outputs(\u001b[39mself\u001b[39;49m\u001b[39m.\u001b[39;49m_inference_function(\u001b[39m*\u001b[39;49margs))\n\u001b[1;32m   1350\u001b[0m forward_backward \u001b[39m=\u001b[39m \u001b[39mself\u001b[39m\u001b[39m.\u001b[39m_select_forward_and_backward_functions(\n\u001b[1;32m   1351\u001b[0m     args,\n\u001b[1;32m   1352\u001b[0m     possible_gradient_type,\n\u001b[1;32m   1353\u001b[0m     executing_eagerly)\n\u001b[1;32m   1354\u001b[0m forward_function, args_with_tangents \u001b[39m=\u001b[39m forward_backward\u001b[39m.\u001b[39mforward()\n",
      "File \u001b[0;32m~/.pyenv/versions/3.10.6/envs/bool/lib/python3.10/site-packages/tensorflow/python/eager/polymorphic_function/atomic_function.py:196\u001b[0m, in \u001b[0;36mAtomicFunction.__call__\u001b[0;34m(self, *args)\u001b[0m\n\u001b[1;32m    194\u001b[0m \u001b[39mwith\u001b[39;00m record\u001b[39m.\u001b[39mstop_recording():\n\u001b[1;32m    195\u001b[0m   \u001b[39mif\u001b[39;00m \u001b[39mself\u001b[39m\u001b[39m.\u001b[39m_bound_context\u001b[39m.\u001b[39mexecuting_eagerly():\n\u001b[0;32m--> 196\u001b[0m     outputs \u001b[39m=\u001b[39m \u001b[39mself\u001b[39;49m\u001b[39m.\u001b[39;49m_bound_context\u001b[39m.\u001b[39;49mcall_function(\n\u001b[1;32m    197\u001b[0m         \u001b[39mself\u001b[39;49m\u001b[39m.\u001b[39;49mname,\n\u001b[1;32m    198\u001b[0m         \u001b[39mlist\u001b[39;49m(args),\n\u001b[1;32m    199\u001b[0m         \u001b[39mlen\u001b[39;49m(\u001b[39mself\u001b[39;49m\u001b[39m.\u001b[39;49mfunction_type\u001b[39m.\u001b[39;49mflat_outputs),\n\u001b[1;32m    200\u001b[0m     )\n\u001b[1;32m    201\u001b[0m   \u001b[39melse\u001b[39;00m:\n\u001b[1;32m    202\u001b[0m     outputs \u001b[39m=\u001b[39m make_call_op_in_graph(\u001b[39mself\u001b[39m, \u001b[39mlist\u001b[39m(args))\n",
      "File \u001b[0;32m~/.pyenv/versions/3.10.6/envs/bool/lib/python3.10/site-packages/tensorflow/python/eager/context.py:1457\u001b[0m, in \u001b[0;36mContext.call_function\u001b[0;34m(self, name, tensor_inputs, num_outputs)\u001b[0m\n\u001b[1;32m   1455\u001b[0m cancellation_context \u001b[39m=\u001b[39m cancellation\u001b[39m.\u001b[39mcontext()\n\u001b[1;32m   1456\u001b[0m \u001b[39mif\u001b[39;00m cancellation_context \u001b[39mis\u001b[39;00m \u001b[39mNone\u001b[39;00m:\n\u001b[0;32m-> 1457\u001b[0m   outputs \u001b[39m=\u001b[39m execute\u001b[39m.\u001b[39;49mexecute(\n\u001b[1;32m   1458\u001b[0m       name\u001b[39m.\u001b[39;49mdecode(\u001b[39m\"\u001b[39;49m\u001b[39mutf-8\u001b[39;49m\u001b[39m\"\u001b[39;49m),\n\u001b[1;32m   1459\u001b[0m       num_outputs\u001b[39m=\u001b[39;49mnum_outputs,\n\u001b[1;32m   1460\u001b[0m       inputs\u001b[39m=\u001b[39;49mtensor_inputs,\n\u001b[1;32m   1461\u001b[0m       attrs\u001b[39m=\u001b[39;49mattrs,\n\u001b[1;32m   1462\u001b[0m       ctx\u001b[39m=\u001b[39;49m\u001b[39mself\u001b[39;49m,\n\u001b[1;32m   1463\u001b[0m   )\n\u001b[1;32m   1464\u001b[0m \u001b[39melse\u001b[39;00m:\n\u001b[1;32m   1465\u001b[0m   outputs \u001b[39m=\u001b[39m execute\u001b[39m.\u001b[39mexecute_with_cancellation(\n\u001b[1;32m   1466\u001b[0m       name\u001b[39m.\u001b[39mdecode(\u001b[39m\"\u001b[39m\u001b[39mutf-8\u001b[39m\u001b[39m\"\u001b[39m),\n\u001b[1;32m   1467\u001b[0m       num_outputs\u001b[39m=\u001b[39mnum_outputs,\n\u001b[0;32m   (...)\u001b[0m\n\u001b[1;32m   1471\u001b[0m       cancellation_manager\u001b[39m=\u001b[39mcancellation_context,\n\u001b[1;32m   1472\u001b[0m   )\n",
      "File \u001b[0;32m~/.pyenv/versions/3.10.6/envs/bool/lib/python3.10/site-packages/tensorflow/python/eager/execute.py:53\u001b[0m, in \u001b[0;36mquick_execute\u001b[0;34m(op_name, num_outputs, inputs, attrs, ctx, name)\u001b[0m\n\u001b[1;32m     51\u001b[0m \u001b[39mtry\u001b[39;00m:\n\u001b[1;32m     52\u001b[0m   ctx\u001b[39m.\u001b[39mensure_initialized()\n\u001b[0;32m---> 53\u001b[0m   tensors \u001b[39m=\u001b[39m pywrap_tfe\u001b[39m.\u001b[39;49mTFE_Py_Execute(ctx\u001b[39m.\u001b[39;49m_handle, device_name, op_name,\n\u001b[1;32m     54\u001b[0m                                       inputs, attrs, num_outputs)\n\u001b[1;32m     55\u001b[0m \u001b[39mexcept\u001b[39;00m core\u001b[39m.\u001b[39m_NotOkStatusException \u001b[39mas\u001b[39;00m e:\n\u001b[1;32m     56\u001b[0m   \u001b[39mif\u001b[39;00m name \u001b[39mis\u001b[39;00m \u001b[39mnot\u001b[39;00m \u001b[39mNone\u001b[39;00m:\n",
      "\u001b[0;31mKeyboardInterrupt\u001b[0m: "
     ]
    }
   ],
   "source": [
    "es = EarlyStopping(patience = 10, restore_best_weights=True)\n",
    "#lr_scheduler = ReduceLROnPlateau(monitor='val_loss', factor=0.5, patience=3, verbose=1, min_lr=1e-6)\n",
    "\n",
    "model_4 = conditional_regression_model_2()\n",
    "\n",
    "history = model_4.fit(\n",
    "    x=X_train_c,\n",
    "    y={'classification_output': y_train_p_c},\n",
    "    validation_split = 0.2,\n",
    "    shuffle = True,\n",
    "    batch_size=32,\n",
    "    epochs = 50,\n",
    "    callbacks = [es],\n",
    "    verbose = 1\n",
    ")"
   ]
  },
  {
   "cell_type": "code",
   "execution_count": 180,
   "metadata": {},
   "outputs": [],
   "source": [
    "def conditional_regression_model_3():\n",
    "    # Input layer\n",
    "    # Input layer\n",
    "    input_shape = X_train_a.shape[1:]\n",
    "    input_layer = Input(shape=input_shape)\n",
    "\n",
    "\n",
    "    # Shared layers\n",
    "    masked_input = Masking(mask_value=-1)(input_layer)\n",
    "    #conv1d_1 = Conv1D(8, activation='relu', kernel_size=3)(masked_input)\n",
    "    # maxpool_1 = AveragePooling1D(pool_size=2)(conv1d_1)\n",
    "    # conv1d_2 = Conv1D(16, activation='relu', kernel_size=5)(maxpool_1)\n",
    "    #maxpool_2 = AveragePooling1D(pool_size=2)(conv1d_2)\n",
    "    #conv1d_3 = Conv1D(32, activation='relu', kernel_size=5)(maxpool_2)\n",
    "    #maxpool_3 = AveragePooling1D(pool_size=2)(conv1d_3)\n",
    "    #conv1d_4 = Conv1D(64, activation='relu', kernel_size=5)(maxpool_3)\n",
    "    \n",
    "    lstm_1 = LSTM(units=16, return_sequences=True)(masked_input)\n",
    "    #lstm_2 = LSTM(units=8, return_sequences=True)(lstm_1)\n",
    "\n",
    "\n",
    "    # Add the second LSTM layer\n",
    "    lstm_3 = LSTM(units=16, return_sequences=False)(lstm_1)\n",
    "\n",
    "    flatten = Flatten()(lstm_3)\n",
    "    dense_1 = Dense(units=32, activation='relu')(flatten)\n",
    "    #dropout_1 = Dropout(rate=0.5)(dense_1)\n",
    "    # dense_2 = Dense(units=32, activation='relu')(dense_1)\n",
    "    \n",
    "    # Classification output\n",
    "    classification_output = Dense(units=5, activation='softmax', name='classification_output')(dense_1)\n",
    "\n",
    "    # Combine input and classification output for regression\n",
    "    regression_input = Concatenate()([dense_1, classification_output])\n",
    "\n",
    "    # Regression output\n",
    "    regression_output = Dense(units=2, activation='linear', name='regression_output')(regression_input)\n",
    "\n",
    "    # Create the combined model\n",
    "    model = Model(inputs=input_layer, outputs=[classification_output, regression_output])\n",
    "\n",
    "    # Compile the model with appropriate loss functions and metrics for each output\n",
    "    model.compile(optimizer=RMSprop(learning_rate=0.005),\n",
    "                  loss={'classification_output': 'categorical_crossentropy', 'regression_output': 'mean_squared_error'},\n",
    "                  loss_weights={'classification_output': 1000, 'regression_output': 1},\n",
    "                  metrics={'classification_output': 'accuracy', 'regression_output': 'mae'})\n",
    "\n",
    "    return model\n",
    "\n",
    "    \n"
   ]
  },
  {
   "cell_type": "code",
   "execution_count": 181,
   "metadata": {},
   "outputs": [
    {
     "name": "stdout",
     "output_type": "stream",
     "text": [
      "Epoch 1/50\n",
      "689/689 [==============================] - 139s 178ms/step - loss: 7831.8159 - classification_output_loss: 1.3348 - regression_output_loss: 6497.0020 - classification_output_accuracy: 0.4565 - regression_output_mae: 49.8176 - val_loss: 5407.5815 - val_classification_output_loss: 1.1312 - val_regression_output_loss: 4276.4043 - val_classification_output_accuracy: 0.5179 - val_regression_output_mae: 40.9679\n",
      "Epoch 2/50\n",
      "689/689 [==============================] - 120s 174ms/step - loss: 4361.7144 - classification_output_loss: 1.0743 - regression_output_loss: 3287.4170 - classification_output_accuracy: 0.5713 - regression_output_mae: 37.0263 - val_loss: 4143.0591 - val_classification_output_loss: 0.9794 - val_regression_output_loss: 3163.6677 - val_classification_output_accuracy: 0.6074 - val_regression_output_mae: 36.3431\n",
      "Epoch 3/50\n",
      "689/689 [==============================] - 123s 178ms/step - loss: 3836.1077 - classification_output_loss: 0.8631 - regression_output_loss: 2972.9939 - classification_output_accuracy: 0.6811 - regression_output_mae: 35.2069 - val_loss: 3683.1218 - val_classification_output_loss: 0.8129 - val_regression_output_loss: 2870.1907 - val_classification_output_accuracy: 0.7076 - val_regression_output_mae: 34.5847\n",
      "Epoch 4/50\n",
      "689/689 [==============================] - 121s 175ms/step - loss: 3480.3799 - classification_output_loss: 0.7154 - regression_output_loss: 2764.9685 - classification_output_accuracy: 0.7543 - regression_output_mae: 33.8918 - val_loss: 3452.6436 - val_classification_output_loss: 0.6363 - val_regression_output_loss: 2816.3267 - val_classification_output_accuracy: 0.7956 - val_regression_output_mae: 34.3057\n",
      "Epoch 5/50\n",
      "689/689 [==============================] - 127s 184ms/step - loss: 3222.6890 - classification_output_loss: 0.6273 - regression_output_loss: 2595.4250 - classification_output_accuracy: 0.7917 - regression_output_mae: 32.9108 - val_loss: 3303.1091 - val_classification_output_loss: 0.6618 - val_regression_output_loss: 2641.3228 - val_classification_output_accuracy: 0.7840 - val_regression_output_mae: 32.7441\n",
      "Epoch 6/50\n",
      "689/689 [==============================] - 120s 174ms/step - loss: 3065.0217 - classification_output_loss: 0.5737 - regression_output_loss: 2491.3450 - classification_output_accuracy: 0.8129 - regression_output_mae: 32.2175 - val_loss: 3062.9126 - val_classification_output_loss: 0.6043 - val_regression_output_loss: 2458.5881 - val_classification_output_accuracy: 0.8081 - val_regression_output_mae: 32.0701\n",
      "Epoch 7/50\n",
      "689/689 [==============================] - 121s 175ms/step - loss: 2938.9485 - classification_output_loss: 0.5333 - regression_output_loss: 2405.6282 - classification_output_accuracy: 0.8266 - regression_output_mae: 31.6629 - val_loss: 3089.7002 - val_classification_output_loss: 0.5929 - val_regression_output_loss: 2496.8164 - val_classification_output_accuracy: 0.8087 - val_regression_output_mae: 31.8108\n",
      "Epoch 8/50\n",
      "577/689 [========================>.....] - ETA: 19s - loss: 2845.7236 - classification_output_loss: 0.5124 - regression_output_loss: 2333.2825 - classification_output_accuracy: 0.8330 - regression_output_mae: 31.2038"
     ]
    },
    {
     "ename": "KeyboardInterrupt",
     "evalue": "",
     "output_type": "error",
     "traceback": [
      "\u001b[0;31m---------------------------------------------------------------------------\u001b[0m",
      "\u001b[0;31mKeyboardInterrupt\u001b[0m                         Traceback (most recent call last)",
      "Cell \u001b[0;32mIn[181], line 7\u001b[0m\n\u001b[1;32m      2\u001b[0m \u001b[39m#lr_scheduler = ReduceLROnPlateau(monitor='val_loss', factor=0.5, patience=3, verbose=1, min_lr=1e-6)\u001b[39;00m\n\u001b[1;32m      4\u001b[0m model_5 \u001b[39m=\u001b[39m conditional_regression_model_3()\n\u001b[0;32m----> 7\u001b[0m history \u001b[39m=\u001b[39m model_5\u001b[39m.\u001b[39;49mfit(\n\u001b[1;32m      8\u001b[0m     x\u001b[39m=\u001b[39;49mX_train_a,\n\u001b[1;32m      9\u001b[0m     y\u001b[39m=\u001b[39;49m{\u001b[39m'\u001b[39;49m\u001b[39mclassification_output\u001b[39;49m\u001b[39m'\u001b[39;49m: y_train_p_a, \u001b[39m'\u001b[39;49m\u001b[39mregression_output\u001b[39;49m\u001b[39m'\u001b[39;49m: y_train_dates_a},\n\u001b[1;32m     10\u001b[0m     validation_split \u001b[39m=\u001b[39;49m \u001b[39m0.2\u001b[39;49m,\n\u001b[1;32m     11\u001b[0m     shuffle \u001b[39m=\u001b[39;49m \u001b[39mTrue\u001b[39;49;00m,\n\u001b[1;32m     12\u001b[0m     batch_size\u001b[39m=\u001b[39;49m\u001b[39m32\u001b[39;49m,\n\u001b[1;32m     13\u001b[0m     epochs \u001b[39m=\u001b[39;49m \u001b[39m50\u001b[39;49m,\n\u001b[1;32m     14\u001b[0m     callbacks \u001b[39m=\u001b[39;49m [es],\n\u001b[1;32m     15\u001b[0m     verbose \u001b[39m=\u001b[39;49m \u001b[39m1\u001b[39;49m\n\u001b[1;32m     16\u001b[0m )\n",
      "File \u001b[0;32m~/.pyenv/versions/3.10.6/envs/bool/lib/python3.10/site-packages/keras/src/utils/traceback_utils.py:65\u001b[0m, in \u001b[0;36mfilter_traceback.<locals>.error_handler\u001b[0;34m(*args, **kwargs)\u001b[0m\n\u001b[1;32m     63\u001b[0m filtered_tb \u001b[39m=\u001b[39m \u001b[39mNone\u001b[39;00m\n\u001b[1;32m     64\u001b[0m \u001b[39mtry\u001b[39;00m:\n\u001b[0;32m---> 65\u001b[0m     \u001b[39mreturn\u001b[39;00m fn(\u001b[39m*\u001b[39;49margs, \u001b[39m*\u001b[39;49m\u001b[39m*\u001b[39;49mkwargs)\n\u001b[1;32m     66\u001b[0m \u001b[39mexcept\u001b[39;00m \u001b[39mException\u001b[39;00m \u001b[39mas\u001b[39;00m e:\n\u001b[1;32m     67\u001b[0m     filtered_tb \u001b[39m=\u001b[39m _process_traceback_frames(e\u001b[39m.\u001b[39m__traceback__)\n",
      "File \u001b[0;32m~/.pyenv/versions/3.10.6/envs/bool/lib/python3.10/site-packages/keras/src/engine/training.py:1742\u001b[0m, in \u001b[0;36mModel.fit\u001b[0;34m(self, x, y, batch_size, epochs, verbose, callbacks, validation_split, validation_data, shuffle, class_weight, sample_weight, initial_epoch, steps_per_epoch, validation_steps, validation_batch_size, validation_freq, max_queue_size, workers, use_multiprocessing)\u001b[0m\n\u001b[1;32m   1734\u001b[0m \u001b[39mwith\u001b[39;00m tf\u001b[39m.\u001b[39mprofiler\u001b[39m.\u001b[39mexperimental\u001b[39m.\u001b[39mTrace(\n\u001b[1;32m   1735\u001b[0m     \u001b[39m\"\u001b[39m\u001b[39mtrain\u001b[39m\u001b[39m\"\u001b[39m,\n\u001b[1;32m   1736\u001b[0m     epoch_num\u001b[39m=\u001b[39mepoch,\n\u001b[0;32m   (...)\u001b[0m\n\u001b[1;32m   1739\u001b[0m     _r\u001b[39m=\u001b[39m\u001b[39m1\u001b[39m,\n\u001b[1;32m   1740\u001b[0m ):\n\u001b[1;32m   1741\u001b[0m     callbacks\u001b[39m.\u001b[39mon_train_batch_begin(step)\n\u001b[0;32m-> 1742\u001b[0m     tmp_logs \u001b[39m=\u001b[39m \u001b[39mself\u001b[39;49m\u001b[39m.\u001b[39;49mtrain_function(iterator)\n\u001b[1;32m   1743\u001b[0m     \u001b[39mif\u001b[39;00m data_handler\u001b[39m.\u001b[39mshould_sync:\n\u001b[1;32m   1744\u001b[0m         context\u001b[39m.\u001b[39masync_wait()\n",
      "File \u001b[0;32m~/.pyenv/versions/3.10.6/envs/bool/lib/python3.10/site-packages/tensorflow/python/util/traceback_utils.py:150\u001b[0m, in \u001b[0;36mfilter_traceback.<locals>.error_handler\u001b[0;34m(*args, **kwargs)\u001b[0m\n\u001b[1;32m    148\u001b[0m filtered_tb \u001b[39m=\u001b[39m \u001b[39mNone\u001b[39;00m\n\u001b[1;32m    149\u001b[0m \u001b[39mtry\u001b[39;00m:\n\u001b[0;32m--> 150\u001b[0m   \u001b[39mreturn\u001b[39;00m fn(\u001b[39m*\u001b[39;49margs, \u001b[39m*\u001b[39;49m\u001b[39m*\u001b[39;49mkwargs)\n\u001b[1;32m    151\u001b[0m \u001b[39mexcept\u001b[39;00m \u001b[39mException\u001b[39;00m \u001b[39mas\u001b[39;00m e:\n\u001b[1;32m    152\u001b[0m   filtered_tb \u001b[39m=\u001b[39m _process_traceback_frames(e\u001b[39m.\u001b[39m__traceback__)\n",
      "File \u001b[0;32m~/.pyenv/versions/3.10.6/envs/bool/lib/python3.10/site-packages/tensorflow/python/eager/polymorphic_function/polymorphic_function.py:825\u001b[0m, in \u001b[0;36mFunction.__call__\u001b[0;34m(self, *args, **kwds)\u001b[0m\n\u001b[1;32m    822\u001b[0m compiler \u001b[39m=\u001b[39m \u001b[39m\"\u001b[39m\u001b[39mxla\u001b[39m\u001b[39m\"\u001b[39m \u001b[39mif\u001b[39;00m \u001b[39mself\u001b[39m\u001b[39m.\u001b[39m_jit_compile \u001b[39melse\u001b[39;00m \u001b[39m\"\u001b[39m\u001b[39mnonXla\u001b[39m\u001b[39m\"\u001b[39m\n\u001b[1;32m    824\u001b[0m \u001b[39mwith\u001b[39;00m OptionalXlaContext(\u001b[39mself\u001b[39m\u001b[39m.\u001b[39m_jit_compile):\n\u001b[0;32m--> 825\u001b[0m   result \u001b[39m=\u001b[39m \u001b[39mself\u001b[39;49m\u001b[39m.\u001b[39;49m_call(\u001b[39m*\u001b[39;49margs, \u001b[39m*\u001b[39;49m\u001b[39m*\u001b[39;49mkwds)\n\u001b[1;32m    827\u001b[0m new_tracing_count \u001b[39m=\u001b[39m \u001b[39mself\u001b[39m\u001b[39m.\u001b[39mexperimental_get_tracing_count()\n\u001b[1;32m    828\u001b[0m without_tracing \u001b[39m=\u001b[39m (tracing_count \u001b[39m==\u001b[39m new_tracing_count)\n",
      "File \u001b[0;32m~/.pyenv/versions/3.10.6/envs/bool/lib/python3.10/site-packages/tensorflow/python/eager/polymorphic_function/polymorphic_function.py:857\u001b[0m, in \u001b[0;36mFunction._call\u001b[0;34m(self, *args, **kwds)\u001b[0m\n\u001b[1;32m    854\u001b[0m   \u001b[39mself\u001b[39m\u001b[39m.\u001b[39m_lock\u001b[39m.\u001b[39mrelease()\n\u001b[1;32m    855\u001b[0m   \u001b[39m# In this case we have created variables on the first call, so we run the\u001b[39;00m\n\u001b[1;32m    856\u001b[0m   \u001b[39m# defunned version which is guaranteed to never create variables.\u001b[39;00m\n\u001b[0;32m--> 857\u001b[0m   \u001b[39mreturn\u001b[39;00m \u001b[39mself\u001b[39;49m\u001b[39m.\u001b[39;49m_no_variable_creation_fn(\u001b[39m*\u001b[39;49margs, \u001b[39m*\u001b[39;49m\u001b[39m*\u001b[39;49mkwds)  \u001b[39m# pylint: disable=not-callable\u001b[39;00m\n\u001b[1;32m    858\u001b[0m \u001b[39melif\u001b[39;00m \u001b[39mself\u001b[39m\u001b[39m.\u001b[39m_variable_creation_fn \u001b[39mis\u001b[39;00m \u001b[39mnot\u001b[39;00m \u001b[39mNone\u001b[39;00m:\n\u001b[1;32m    859\u001b[0m   \u001b[39m# Release the lock early so that multiple threads can perform the call\u001b[39;00m\n\u001b[1;32m    860\u001b[0m   \u001b[39m# in parallel.\u001b[39;00m\n\u001b[1;32m    861\u001b[0m   \u001b[39mself\u001b[39m\u001b[39m.\u001b[39m_lock\u001b[39m.\u001b[39mrelease()\n",
      "File \u001b[0;32m~/.pyenv/versions/3.10.6/envs/bool/lib/python3.10/site-packages/tensorflow/python/eager/polymorphic_function/tracing_compiler.py:148\u001b[0m, in \u001b[0;36mTracingCompiler.__call__\u001b[0;34m(self, *args, **kwargs)\u001b[0m\n\u001b[1;32m    145\u001b[0m \u001b[39mwith\u001b[39;00m \u001b[39mself\u001b[39m\u001b[39m.\u001b[39m_lock:\n\u001b[1;32m    146\u001b[0m   (concrete_function,\n\u001b[1;32m    147\u001b[0m    filtered_flat_args) \u001b[39m=\u001b[39m \u001b[39mself\u001b[39m\u001b[39m.\u001b[39m_maybe_define_function(args, kwargs)\n\u001b[0;32m--> 148\u001b[0m \u001b[39mreturn\u001b[39;00m concrete_function\u001b[39m.\u001b[39;49m_call_flat(\n\u001b[1;32m    149\u001b[0m     filtered_flat_args, captured_inputs\u001b[39m=\u001b[39;49mconcrete_function\u001b[39m.\u001b[39;49mcaptured_inputs)\n",
      "File \u001b[0;32m~/.pyenv/versions/3.10.6/envs/bool/lib/python3.10/site-packages/tensorflow/python/eager/polymorphic_function/monomorphic_function.py:1349\u001b[0m, in \u001b[0;36mConcreteFunction._call_flat\u001b[0;34m(self, args, captured_inputs)\u001b[0m\n\u001b[1;32m   1345\u001b[0m possible_gradient_type \u001b[39m=\u001b[39m gradients_util\u001b[39m.\u001b[39mPossibleTapeGradientTypes(args)\n\u001b[1;32m   1346\u001b[0m \u001b[39mif\u001b[39;00m (possible_gradient_type \u001b[39m==\u001b[39m gradients_util\u001b[39m.\u001b[39mPOSSIBLE_GRADIENT_TYPES_NONE\n\u001b[1;32m   1347\u001b[0m     \u001b[39mand\u001b[39;00m executing_eagerly):\n\u001b[1;32m   1348\u001b[0m   \u001b[39m# No tape is watching; skip to running the function.\u001b[39;00m\n\u001b[0;32m-> 1349\u001b[0m   \u001b[39mreturn\u001b[39;00m \u001b[39mself\u001b[39m\u001b[39m.\u001b[39m_build_call_outputs(\u001b[39mself\u001b[39;49m\u001b[39m.\u001b[39;49m_inference_function(\u001b[39m*\u001b[39;49margs))\n\u001b[1;32m   1350\u001b[0m forward_backward \u001b[39m=\u001b[39m \u001b[39mself\u001b[39m\u001b[39m.\u001b[39m_select_forward_and_backward_functions(\n\u001b[1;32m   1351\u001b[0m     args,\n\u001b[1;32m   1352\u001b[0m     possible_gradient_type,\n\u001b[1;32m   1353\u001b[0m     executing_eagerly)\n\u001b[1;32m   1354\u001b[0m forward_function, args_with_tangents \u001b[39m=\u001b[39m forward_backward\u001b[39m.\u001b[39mforward()\n",
      "File \u001b[0;32m~/.pyenv/versions/3.10.6/envs/bool/lib/python3.10/site-packages/tensorflow/python/eager/polymorphic_function/atomic_function.py:196\u001b[0m, in \u001b[0;36mAtomicFunction.__call__\u001b[0;34m(self, *args)\u001b[0m\n\u001b[1;32m    194\u001b[0m \u001b[39mwith\u001b[39;00m record\u001b[39m.\u001b[39mstop_recording():\n\u001b[1;32m    195\u001b[0m   \u001b[39mif\u001b[39;00m \u001b[39mself\u001b[39m\u001b[39m.\u001b[39m_bound_context\u001b[39m.\u001b[39mexecuting_eagerly():\n\u001b[0;32m--> 196\u001b[0m     outputs \u001b[39m=\u001b[39m \u001b[39mself\u001b[39;49m\u001b[39m.\u001b[39;49m_bound_context\u001b[39m.\u001b[39;49mcall_function(\n\u001b[1;32m    197\u001b[0m         \u001b[39mself\u001b[39;49m\u001b[39m.\u001b[39;49mname,\n\u001b[1;32m    198\u001b[0m         \u001b[39mlist\u001b[39;49m(args),\n\u001b[1;32m    199\u001b[0m         \u001b[39mlen\u001b[39;49m(\u001b[39mself\u001b[39;49m\u001b[39m.\u001b[39;49mfunction_type\u001b[39m.\u001b[39;49mflat_outputs),\n\u001b[1;32m    200\u001b[0m     )\n\u001b[1;32m    201\u001b[0m   \u001b[39melse\u001b[39;00m:\n\u001b[1;32m    202\u001b[0m     outputs \u001b[39m=\u001b[39m make_call_op_in_graph(\u001b[39mself\u001b[39m, \u001b[39mlist\u001b[39m(args))\n",
      "File \u001b[0;32m~/.pyenv/versions/3.10.6/envs/bool/lib/python3.10/site-packages/tensorflow/python/eager/context.py:1457\u001b[0m, in \u001b[0;36mContext.call_function\u001b[0;34m(self, name, tensor_inputs, num_outputs)\u001b[0m\n\u001b[1;32m   1455\u001b[0m cancellation_context \u001b[39m=\u001b[39m cancellation\u001b[39m.\u001b[39mcontext()\n\u001b[1;32m   1456\u001b[0m \u001b[39mif\u001b[39;00m cancellation_context \u001b[39mis\u001b[39;00m \u001b[39mNone\u001b[39;00m:\n\u001b[0;32m-> 1457\u001b[0m   outputs \u001b[39m=\u001b[39m execute\u001b[39m.\u001b[39;49mexecute(\n\u001b[1;32m   1458\u001b[0m       name\u001b[39m.\u001b[39;49mdecode(\u001b[39m\"\u001b[39;49m\u001b[39mutf-8\u001b[39;49m\u001b[39m\"\u001b[39;49m),\n\u001b[1;32m   1459\u001b[0m       num_outputs\u001b[39m=\u001b[39;49mnum_outputs,\n\u001b[1;32m   1460\u001b[0m       inputs\u001b[39m=\u001b[39;49mtensor_inputs,\n\u001b[1;32m   1461\u001b[0m       attrs\u001b[39m=\u001b[39;49mattrs,\n\u001b[1;32m   1462\u001b[0m       ctx\u001b[39m=\u001b[39;49m\u001b[39mself\u001b[39;49m,\n\u001b[1;32m   1463\u001b[0m   )\n\u001b[1;32m   1464\u001b[0m \u001b[39melse\u001b[39;00m:\n\u001b[1;32m   1465\u001b[0m   outputs \u001b[39m=\u001b[39m execute\u001b[39m.\u001b[39mexecute_with_cancellation(\n\u001b[1;32m   1466\u001b[0m       name\u001b[39m.\u001b[39mdecode(\u001b[39m\"\u001b[39m\u001b[39mutf-8\u001b[39m\u001b[39m\"\u001b[39m),\n\u001b[1;32m   1467\u001b[0m       num_outputs\u001b[39m=\u001b[39mnum_outputs,\n\u001b[0;32m   (...)\u001b[0m\n\u001b[1;32m   1471\u001b[0m       cancellation_manager\u001b[39m=\u001b[39mcancellation_context,\n\u001b[1;32m   1472\u001b[0m   )\n",
      "File \u001b[0;32m~/.pyenv/versions/3.10.6/envs/bool/lib/python3.10/site-packages/tensorflow/python/eager/execute.py:53\u001b[0m, in \u001b[0;36mquick_execute\u001b[0;34m(op_name, num_outputs, inputs, attrs, ctx, name)\u001b[0m\n\u001b[1;32m     51\u001b[0m \u001b[39mtry\u001b[39;00m:\n\u001b[1;32m     52\u001b[0m   ctx\u001b[39m.\u001b[39mensure_initialized()\n\u001b[0;32m---> 53\u001b[0m   tensors \u001b[39m=\u001b[39m pywrap_tfe\u001b[39m.\u001b[39;49mTFE_Py_Execute(ctx\u001b[39m.\u001b[39;49m_handle, device_name, op_name,\n\u001b[1;32m     54\u001b[0m                                       inputs, attrs, num_outputs)\n\u001b[1;32m     55\u001b[0m \u001b[39mexcept\u001b[39;00m core\u001b[39m.\u001b[39m_NotOkStatusException \u001b[39mas\u001b[39;00m e:\n\u001b[1;32m     56\u001b[0m   \u001b[39mif\u001b[39;00m name \u001b[39mis\u001b[39;00m \u001b[39mnot\u001b[39;00m \u001b[39mNone\u001b[39;00m:\n",
      "\u001b[0;31mKeyboardInterrupt\u001b[0m: "
     ]
    }
   ],
   "source": [
    "es = EarlyStopping(patience = 10, restore_best_weights=True)\n",
    "#lr_scheduler = ReduceLROnPlateau(monitor='val_loss', factor=0.5, patience=3, verbose=1, min_lr=1e-6)\n",
    "\n",
    "model_5 = conditional_regression_model_3()\n",
    "\n",
    "\n",
    "history = model_5.fit(\n",
    "    x=X_train_a,\n",
    "    y={'classification_output': y_train_p_a, 'regression_output': y_train_dates_a},\n",
    "    validation_split = 0.2,\n",
    "    shuffle = True,\n",
    "    batch_size=32,\n",
    "    epochs = 50,\n",
    "    callbacks = [es],\n",
    "    verbose = 1\n",
    ")"
   ]
  },
  {
   "cell_type": "code",
   "execution_count": null,
   "metadata": {},
   "outputs": [],
   "source": [
    "def conditional_regression_model_3():\n",
    "    # Input layer\n",
    "    # Input layer\n",
    "    input_shape = X_train_a.shape[1:]\n",
    "    input_layer = Input(shape=input_shape)\n",
    "\n",
    "\n",
    "    # Shared layers\n",
    "    masked_input = Masking(mask_value=-1)(input_layer)\n",
    "    #conv1d_1 = Conv1D(8, activation='relu', kernel_size=3)(masked_input)\n",
    "    # maxpool_1 = AveragePooling1D(pool_size=2)(conv1d_1)\n",
    "    # conv1d_2 = Conv1D(16, activation='relu', kernel_size=5)(maxpool_1)\n",
    "    #maxpool_2 = AveragePooling1D(pool_size=2)(conv1d_2)\n",
    "    #conv1d_3 = Conv1D(32, activation='relu', kernel_size=5)(maxpool_2)\n",
    "    #maxpool_3 = AveragePooling1D(pool_size=2)(conv1d_3)\n",
    "    #conv1d_4 = Conv1D(64, activation='relu', kernel_size=5)(maxpool_3)\n",
    "    \n",
    "    lstm_1 = LSTM(units=16, return_sequences=True)(masked_input)\n",
    "    #lstm_2 = LSTM(units=8, return_sequences=True)(lstm_1)\n",
    "\n",
    "\n",
    "    # Add the second LSTM layer\n",
    "    lstm_3 = LSTM(units=16, return_sequences=False)(lstm_1)\n",
    "\n",
    "    flatten = Flatten()(lstm_3)\n",
    "    dense_1 = Dense(units=32, activation='relu')(flatten)\n",
    "    #dropout_1 = Dropout(rate=0.5)(dense_1)\n",
    "    # dense_2 = Dense(units=32, activation='relu')(dense_1)\n",
    "    \n",
    "    # Classification output\n",
    "    classification_output = Dense(units=5, activation='softmax', name='classification_output')(dense_1)\n",
    "\n",
    "    # Combine input and classification output for regression\n",
    "    regression_input = Concatenate()([dense_1, classification_output])\n",
    "\n",
    "    # Regression output\n",
    "    regression_output = Dense(units=2, activation='linear', name='regression_output')(regression_input)\n",
    "\n",
    "    # Create the combined model\n",
    "    model = Model(inputs=input_layer, outputs=[classification_output, regression_output])\n",
    "\n",
    "    # Compile the model with appropriate loss functions and metrics for each output\n",
    "    model.compile(optimizer='rmsprop',\n",
    "                  loss={'classification_output': 'categorical_crossentropy', 'regression_output': 'mean_squared_error'},\n",
    "                  loss_weights={'classification_output': 1000, 'regression_output': 1},\n",
    "                  metrics={'classification_output': 'accuracy', 'regression_output': 'mae'})\n",
    "\n",
    "    return model\n",
    "\n",
    "    \n"
   ]
  },
  {
   "cell_type": "code",
   "execution_count": null,
   "metadata": {},
   "outputs": [],
   "source": [
    "classification_output_accuracy: 0.2452 - regression_output_mae: 32.7040 - val_loss: 1628.4587 - val_classification_output_loss: 1.5401 - val_regression_output_loss: 1626.9191 - val_classification_output_accuracy: 0.2970 - val_regression_output_mae: 18.8227\n",
    "Epoch 2/50\n",
    "689/689 [==============================] - 95s 138ms/step - loss: 1266.1523 - classification_output_loss: 1.5275 - regression_output_loss: 1264.6252 - classification_output_accuracy: 0.3475 - regression_output_mae: 16.8986 - val_loss: 1122.8607 - val_classification_output_loss: 1.5062 - val_regression_output_loss: 1121.3544 - val_classification_output_accuracy: 0.3581 - val_regression_output_mae: 15.4361\n",
    "Epoch 3/50\n",
    "689/689 [==============================] - 85s 123ms/step - loss: 1097.8303 - classification_output_loss: 1.4866 - regression_output_loss: 1096.3440 - classification_output_accuracy: 0.3681 - regression_output_mae: 15.3738 - val_loss: 1049.5228 - val_classification_output_loss: 1.4421 - val_regression_output_loss: 1048.0809 - val_classification_output_accuracy: 0.3796 - val_regression_output_mae: 14.6153\n",
    "Epoch 4/50\n",
    "689/689 [==============================] - 90s 131ms/step - loss: 1029.7754 - classification_output_loss: 1.4163 - regression_output_loss: 1028.3594 - classification_output_accuracy: 0.4172 - regression_output_mae: 14.8172 - val_loss: 1038.6134 - val_classification_output_loss: 1.3670 - val_regression_output_loss: 1037.2461 - val_classification_output_accuracy: 0.4836 - val_regression_output_mae: 14.6089\n",
    "Epoch 5/50\n",
    "689/689 [==============================] - 91s 133ms/step - loss: 995.3534 - classification_output_loss: 1.3542 - regression_output_loss: 993.9989 - classification_output_accuracy: 0.4556 - regression_output_mae: 14.4959 - val_loss: 982.1468 - val_classification_output_loss: 1.3257 - val_regression_output_loss: 980.8210 - val_classification_output_accuracy: 0.4540 - val_regression_output_mae: 14.8209\n",
    "Epoch 6/50\n",
    "214/689 [========>.....................] - ETA: 1:04 - loss: 934.6138 - classification_output_loss: 1.3367 - regression_output_loss: 933.2767 - classification_output_accuracy: 0.4322 - r"
   ]
  },
  {
   "cell_type": "markdown",
   "metadata": {},
   "source": [
    "When it comes to more advanced deep learning models for stock price pattern detection, you can explore several approaches that go beyond traditional LSTM or Conv1D architectures. These advanced models are designed to capture complex patterns and dependencies in financial time series data. Here are some advanced deep learning models and techniques you can consider:\n",
    "\n",
    "1. **Transformer-Based Models:**\n",
    "   - **BERT (Bidirectional Encoder Representations from Transformers):** Originally designed for natural language processing, BERT-based models can be fine-tuned for time series data to capture bidirectional dependencies in the data.\n",
    "\n",
    "2. **Temporal Convolutional Networks (TCNs):**\n",
    "   - TCNs are a more advanced version of Conv1D layers and have shown promise in modeling sequential data, including stock prices. They use causal convolutions to capture temporal dependencies efficiently.\n",
    "\n",
    "3. **WaveNet:**\n",
    "   - WaveNet is a deep generative model that uses dilated causal convolutions to model time series data. It has been used for tasks like generating financial time series data and anomaly detection.\n",
    "\n",
    "4. **Attention-Based Models:**\n",
    "   - Attention mechanisms, similar to those used in Transformers, can be applied to time series data to focus on relevant time steps and capture complex dependencies.\n",
    "\n",
    "5. **Recurrent Neural Networks (RNN) Variants:**\n",
    "   - Beyond LSTM and GRU, you can explore more advanced RNN variants like Neural ODEs (Ordinary Differential Equations) and LSTM with Attention Mechanisms for enhanced modeling of time series data.\n",
    "\n",
    "6. **Hybrid Models:**\n",
    "   - Combine deep learning models with traditional time series forecasting techniques like ARIMA (AutoRegressive Integrated Moving Average) or Prophet to capture both linear and nonlinear patterns.\n",
    "\n",
    "7. **Generative Adversarial Networks (GANs):**\n",
    "   - GANs can be used for generating synthetic financial time series data or for anomaly detection by training a GAN to distinguish between real and synthetic data.\n",
    "\n",
    "8. **Self-Supervised Learning:**\n",
    "   - Use self-supervised learning techniques like Contrastive Learning or Variational Autoencoders (VAEs) to learn meaningful representations from the data and identify patterns.\n",
    "\n",
    "9. **Reinforcement Learning:**\n",
    "   - Apply reinforcement learning techniques to develop trading algorithms that can adapt to changing market conditions based on historical data.\n",
    "\n",
    "10. **Graph Neural Networks (GNNs):**\n",
    "    - If you have access to additional data like financial news or social media sentiment, GNNs can be used to model the relationships between various financial assets and incorporate external information.\n",
    "\n",
    "11. **Ensemble Models:**\n",
    "    - Combine predictions from multiple advanced models, including deep learning and traditional models, to improve accuracy and robustness.\n",
    "\n",
    "The choice of the most suitable advanced model depends on the specific characteristics of your data, the complexity of the patterns you aim to detect, and your computational resources. It's also essential to properly preprocess and engineer features from your financial time series data, as the quality of input features can significantly impact model performance.\n",
    "\n",
    "Additionally, you may need to consider techniques for addressing common challenges in financial time series analysis, such as dealing with non-stationarity, handling imbalanced datasets, and implementing robust evaluation metrics."
   ]
  },
  {
   "cell_type": "code",
   "execution_count": 40,
   "metadata": {},
   "outputs": [],
   "source": [
    "import tensorflow as tf\n",
    "from tensorboard.plugins.hparams import api as hp\n",
    "\n",
    "HP_NUM_UNITS1 = hp.HParam('num_units1', hp.Discrete([16, 32, 64, 128, 256]))\n",
    "HP_NUM_UNITS2 = hp.HParam('num_units2', hp.Discrete([16, 32, 64, 128, 256]))\n",
    "HP_NUM_UNITS3 = hp.HParam('num_units3', hp.Discrete([16, 32, 64, 128, 256]))\n",
    "HP_NUM_UNITS4 = hp.HParam('num_units4', hp.Discrete([16, 32, 64, 128, 256]))\n",
    "HP_NUM_UNITS5 = hp.HParam('num_units5', hp.Discrete([16, 32, 64, 128, 256]))\n",
    "HP_NUM_UNITS6 = hp.HParam('num_units6', hp.Discrete([16, 32, 64, 128, 256]))\n",
    "\n",
    "HP_DROPOUT = hp.HParam('dropout', hp.RealInterval(0.1, 0.2))\n",
    "\n",
    "METRIC_ACCURACY = \"mean squared error\"\n",
    "\n",
    "with tf.summary.create_file_writer('logs/hparam_tuning').as_default():\n",
    "  hp.hparams_config(\n",
    "    hparams=[HP_NUM_UNITS1, HP_NUM_UNITS2, HP_NUM_UNITS3, HP_NUM_UNITS4, HP_NUM_UNITS5, HP_NUM_UNITS6, HP_DROPOUT],\n",
    "    metrics=[hp.Metric(\"mean squared error\", display_name='mse')],\n",
    "  )"
   ]
  },
  {
   "cell_type": "code",
   "execution_count": 34,
   "metadata": {},
   "outputs": [],
   "source": [
    "\n",
    "def conditional_regression_model_2(hparams):\n",
    "    # Input layer\n",
    "    # Input layer\n",
    "    input_shape = X_train_preprocessed.shape[1:]\n",
    "    input_layer = Input(shape=input_shape)\n",
    "\n",
    "\n",
    "    # Shared layers\n",
    "    masked_input = Masking(mask_value=-1)(input_layer)\n",
    "    conv1d_1 = Conv1D(hparams[HP_NUM_UNITS1], activation='relu', kernel_size=3, kernel_regularizer=regularizers.L1L2(l1=1e-3, l2=1e-3))(masked_input)\n",
    "    maxpool_1 = MaxPooling1D(pool_size=2)(conv1d_1)\n",
    "    conv1d_2 = Conv1D(hparams[HP_NUM_UNITS2], activation='relu', kernel_size=3)(maxpool_1)\n",
    "    \n",
    "    flatten = Flatten()(conv1d_2)\n",
    "    dense_1 = Dense(hparams[HP_NUM_UNITS3], activation='relu')(flatten)\n",
    "    dropout_1 = Dropout(hparams[HP_DROPOUT])(dense_1)\n",
    "    dense_2 = Dense(hparams[HP_NUM_UNITS4], activation='relu')(dropout_1)\n",
    "    dropout_2 = Dropout(hparams[HP_DROPOUT])(dense_2)\n",
    "    dense_3 = Dense(hparams[HP_NUM_UNITS5], activation='relu')(dropout_2)\n",
    "    dropout_3 = Dropout(hparams[HP_DROPOUT])(dense_3)\n",
    "    dense_4 = Dense(hparams[HP_NUM_UNITS6], activation='relu')(dropout_3)\n",
    "    \n",
    "\n",
    "    # Classification output\n",
    "    classification_output = Dense(units=4, activation='softmax', name='classification_output')(dense_4)\n",
    "\n",
    "    # Combine input and classification output for regression\n",
    "    regression_input = Concatenate()([dense_4, classification_output])\n",
    "\n",
    "    # Regression output\n",
    "    regression_output = Dense(units=2, activation='linear', name='regression_output')(regression_input)\n",
    "\n",
    "    # Create the combined model\n",
    "    model = Model(inputs=input_layer, outputs=[classification_output, regression_output])\n",
    "\n",
    "    # Compile the model with appropriate loss functions and metrics for each output\n",
    "    model.compile(optimizer='adam',\n",
    "                  loss={'classification_output': 'categorical_crossentropy', 'regression_output': 'mean_squared_error'},\n",
    "                  metrics={'classification_output': 'accuracy', 'regression_output': 'mae'})\n",
    "\n",
    "    return model\n"
   ]
  },
  {
   "cell_type": "code",
   "execution_count": 37,
   "metadata": {},
   "outputs": [],
   "source": [
    "def train_test_model(hparams):\n",
    "    \n",
    "    model = conditional_regression_model_2(hparams)\n",
    "    es = EarlyStopping(patience = 10, restore_best_weights=True)\n",
    "\n",
    "    history = model.fit(\n",
    "        x=X_train_preprocessed,\n",
    "        y={'classification_output': y_train_p, 'regression_output': y_train_dates},\n",
    "        validation_split = 0.2,\n",
    "        shuffle = True,\n",
    "        batch_size=32,\n",
    "        epochs = 50,\n",
    "        callbacks = [es],  #tf.keras.callbacks.TensorBoard(logdir),   hp.KerasCallback(logdir, hparams)\n",
    "        verbose = 1\n",
    "    ) \n",
    "    evaluation = model.evaluate(\n",
    "    x=X_test_preprocessed,  # Test input data\n",
    "    y={'classification_output': y_test_p, 'regression_output': y_test_dates},  # Dictionary of test labels\n",
    "    verbose=1  # Set to 1 for progress updates during evaluation\n",
    "    )\n",
    "    return evaluation\n"
   ]
  },
  {
   "cell_type": "code",
   "execution_count": 38,
   "metadata": {},
   "outputs": [],
   "source": [
    "def run(run_dir, hparams):\n",
    "  with tf.summary.create_file_writer(run_dir).as_default():\n",
    "    hp.hparams(hparams)  # record the values used in this trial\n",
    "    accuracy = train_test_model(hparams)\n",
    "    tf.summary.scalar(METRIC_ACCURACY, accuracy, step=1)"
   ]
  },
  {
   "cell_type": "code",
   "execution_count": 41,
   "metadata": {},
   "outputs": [
    {
     "name": "stdout",
     "output_type": "stream",
     "text": [
      "--- Starting trial: run-0\n",
      "{'num_units1': 16, 'num_units2': 16, 'num_units3': 16, 'num_units4': 16, 'num_units5': 16, 'num_units6': 16, 'dropout': 0.1}\n",
      "Epoch 1/50\n",
      "122/122 [==============================] - 2s 8ms/step - loss: 23241.3730 - classification_output_loss: 14.3047 - regression_output_loss: 23227.0215 - classification_output_accuracy: 0.1495 - regression_output_mae: 111.1946 - val_loss: 9106.2363 - val_classification_output_loss: 5.0055 - val_regression_output_loss: 9101.1963 - val_classification_output_accuracy: 0.0851 - val_regression_output_mae: 73.4382\n",
      "Epoch 2/50\n",
      "122/122 [==============================] - 1s 6ms/step - loss: 10034.5527 - classification_output_loss: 8.4914 - regression_output_loss: 10026.0254 - classification_output_accuracy: 0.1793 - regression_output_mae: 77.0888 - val_loss: 8041.3027 - val_classification_output_loss: 4.0035 - val_regression_output_loss: 8037.2612 - val_classification_output_accuracy: 0.0851 - val_regression_output_mae: 69.6428\n",
      "Epoch 3/50\n",
      "122/122 [==============================] - 1s 6ms/step - loss: 9153.4033 - classification_output_loss: 9.4189 - regression_output_loss: 9143.9473 - classification_output_accuracy: 0.2077 - regression_output_mae: 74.1786 - val_loss: 8203.0732 - val_classification_output_loss: 3.6680 - val_regression_output_loss: 8199.3691 - val_classification_output_accuracy: 0.0862 - val_regression_output_mae: 70.9394\n",
      "Epoch 4/50\n",
      "122/122 [==============================] - 1s 6ms/step - loss: 8880.7607 - classification_output_loss: 9.2761 - regression_output_loss: 8871.4482 - classification_output_accuracy: 0.1852 - regression_output_mae: 73.2133 - val_loss: 8588.3818 - val_classification_output_loss: 5.7912 - val_regression_output_loss: 8582.5537 - val_classification_output_accuracy: 0.0851 - val_regression_output_mae: 71.8196\n",
      "Epoch 5/50\n",
      "122/122 [==============================] - 1s 6ms/step - loss: 8435.4482 - classification_output_loss: 9.3554 - regression_output_loss: 8426.0576 - classification_output_accuracy: 0.1967 - regression_output_mae: 71.9957 - val_loss: 7978.0039 - val_classification_output_loss: 3.1761 - val_regression_output_loss: 7974.7905 - val_classification_output_accuracy: 0.0862 - val_regression_output_mae: 69.7172\n",
      "Epoch 6/50\n",
      "122/122 [==============================] - 1s 6ms/step - loss: 8092.1006 - classification_output_loss: 9.0807 - regression_output_loss: 8082.9814 - classification_output_accuracy: 0.1729 - regression_output_mae: 70.3677 - val_loss: 8424.1396 - val_classification_output_loss: 3.4357 - val_regression_output_loss: 8420.6670 - val_classification_output_accuracy: 0.0903 - val_regression_output_mae: 71.2337\n",
      "Epoch 7/50\n",
      "122/122 [==============================] - 1s 6ms/step - loss: 8235.7139 - classification_output_loss: 8.1001 - regression_output_loss: 8227.5781 - classification_output_accuracy: 0.1839 - regression_output_mae: 71.0979 - val_loss: 8090.2881 - val_classification_output_loss: 2.7305 - val_regression_output_loss: 8087.5200 - val_classification_output_accuracy: 0.0974 - val_regression_output_mae: 70.2760\n",
      "Epoch 8/50\n",
      "122/122 [==============================] - 1s 6ms/step - loss: 7847.4878 - classification_output_loss: 8.4985 - regression_output_loss: 7838.9507 - classification_output_accuracy: 0.1649 - regression_output_mae: 69.3573 - val_loss: 8983.6504 - val_classification_output_loss: 4.1045 - val_regression_output_loss: 8979.5098 - val_classification_output_accuracy: 0.0862 - val_regression_output_mae: 73.5585\n",
      "Epoch 9/50\n",
      "122/122 [==============================] - 1s 6ms/step - loss: 7937.7324 - classification_output_loss: 7.2056 - regression_output_loss: 7930.4888 - classification_output_accuracy: 0.1618 - regression_output_mae: 69.7033 - val_loss: 9485.4160 - val_classification_output_loss: 2.1826 - val_regression_output_loss: 9483.1982 - val_classification_output_accuracy: 0.0913 - val_regression_output_mae: 75.3006\n",
      "Epoch 10/50\n",
      "122/122 [==============================] - 1s 6ms/step - loss: 7655.5415 - classification_output_loss: 7.2892 - regression_output_loss: 7648.2158 - classification_output_accuracy: 0.1767 - regression_output_mae: 68.8123 - val_loss: 8797.5723 - val_classification_output_loss: 4.5480 - val_regression_output_loss: 8792.9863 - val_classification_output_accuracy: 0.0892 - val_regression_output_mae: 72.8115\n",
      "Epoch 11/50\n",
      "122/122 [==============================] - 1s 6ms/step - loss: 7718.5908 - classification_output_loss: 6.4388 - regression_output_loss: 7712.1143 - classification_output_accuracy: 0.1965 - regression_output_mae: 68.9716 - val_loss: 8829.8984 - val_classification_output_loss: 2.7218 - val_regression_output_loss: 8827.1377 - val_classification_output_accuracy: 0.0985 - val_regression_output_mae: 73.2084\n",
      "Epoch 12/50\n",
      "122/122 [==============================] - 1s 6ms/step - loss: 7716.9341 - classification_output_loss: 5.9600 - regression_output_loss: 7710.9365 - classification_output_accuracy: 0.1726 - regression_output_mae: 68.6107 - val_loss: 9522.0771 - val_classification_output_loss: 3.6068 - val_regression_output_loss: 9518.4307 - val_classification_output_accuracy: 0.0944 - val_regression_output_mae: 75.3789\n",
      "Epoch 13/50\n",
      "122/122 [==============================] - 1s 6ms/step - loss: 7548.6211 - classification_output_loss: 5.6694 - regression_output_loss: 7542.9136 - classification_output_accuracy: 0.1734 - regression_output_mae: 68.1755 - val_loss: 11074.7803 - val_classification_output_loss: 1.4867 - val_regression_output_loss: 11073.2568 - val_classification_output_accuracy: 0.0985 - val_regression_output_mae: 81.5150\n",
      "Epoch 14/50\n",
      "122/122 [==============================] - 1s 6ms/step - loss: 7536.4121 - classification_output_loss: 5.6403 - regression_output_loss: 7530.7354 - classification_output_accuracy: 0.1813 - regression_output_mae: 68.2938 - val_loss: 8539.7822 - val_classification_output_loss: 4.9751 - val_regression_output_loss: 8534.7695 - val_classification_output_accuracy: 0.0872 - val_regression_output_mae: 72.5406\n",
      "Epoch 15/50\n",
      "122/122 [==============================] - 1s 6ms/step - loss: 7531.4795 - classification_output_loss: 5.9038 - regression_output_loss: 7525.5371 - classification_output_accuracy: 0.1618 - regression_output_mae: 67.8863 - val_loss: 10308.1172 - val_classification_output_loss: 2.9704 - val_regression_output_loss: 10305.1084 - val_classification_output_accuracy: 0.0872 - val_regression_output_mae: 78.9055\n",
      "39/39 [==============================] - 0s 3ms/step - loss: 7539.8105 - classification_output_loss: 3.1849 - regression_output_loss: 7536.5884 - classification_output_accuracy: 0.0763 - regression_output_mae: 67.1487\n"
     ]
    },
    {
     "ename": "ValueError",
     "evalue": "Expected scalar shape, saw shape: (5,).",
     "output_type": "error",
     "traceback": [
      "\u001b[0;31m---------------------------------------------------------------------------\u001b[0m",
      "\u001b[0;31mValueError\u001b[0m                                Traceback (most recent call last)",
      "Cell \u001b[0;32mIn[41], line 22\u001b[0m\n\u001b[1;32m     20\u001b[0m \u001b[39mprint\u001b[39m(\u001b[39m'\u001b[39m\u001b[39m--- Starting trial: \u001b[39m\u001b[39m%s\u001b[39;00m\u001b[39m'\u001b[39m \u001b[39m%\u001b[39m run_name)\n\u001b[1;32m     21\u001b[0m \u001b[39mprint\u001b[39m({h\u001b[39m.\u001b[39mname: hparams[h] \u001b[39mfor\u001b[39;00m h \u001b[39min\u001b[39;00m hparams})\n\u001b[0;32m---> 22\u001b[0m run(\u001b[39m'\u001b[39;49m\u001b[39mlogs/hparam_tuning/\u001b[39;49m\u001b[39m'\u001b[39;49m \u001b[39m+\u001b[39;49m run_name, hparams)\n\u001b[1;32m     23\u001b[0m session_num \u001b[39m+\u001b[39m\u001b[39m=\u001b[39m \u001b[39m1\u001b[39m\n",
      "Cell \u001b[0;32mIn[38], line 5\u001b[0m, in \u001b[0;36mrun\u001b[0;34m(run_dir, hparams)\u001b[0m\n\u001b[1;32m      3\u001b[0m hp\u001b[39m.\u001b[39mhparams(hparams)  \u001b[39m# record the values used in this trial\u001b[39;00m\n\u001b[1;32m      4\u001b[0m accuracy \u001b[39m=\u001b[39m train_test_model(hparams)\n\u001b[0;32m----> 5\u001b[0m tf\u001b[39m.\u001b[39;49msummary\u001b[39m.\u001b[39;49mscalar(METRIC_ACCURACY, accuracy, step\u001b[39m=\u001b[39;49m\u001b[39m1\u001b[39;49m)\n",
      "File \u001b[0;32m~/.pyenv/versions/3.10.6/envs/bool/lib/python3.10/site-packages/tensorboard/plugins/scalar/summary_v2.py:88\u001b[0m, in \u001b[0;36mscalar\u001b[0;34m(name, data, step, description)\u001b[0m\n\u001b[1;32m     83\u001b[0m summary_scope \u001b[39m=\u001b[39m (\n\u001b[1;32m     84\u001b[0m     \u001b[39mgetattr\u001b[39m(tf\u001b[39m.\u001b[39msummary\u001b[39m.\u001b[39mexperimental, \u001b[39m\"\u001b[39m\u001b[39msummary_scope\u001b[39m\u001b[39m\"\u001b[39m, \u001b[39mNone\u001b[39;00m)\n\u001b[1;32m     85\u001b[0m     \u001b[39mor\u001b[39;00m tf\u001b[39m.\u001b[39msummary\u001b[39m.\u001b[39msummary_scope\n\u001b[1;32m     86\u001b[0m )\n\u001b[1;32m     87\u001b[0m \u001b[39mwith\u001b[39;00m summary_scope(name, \u001b[39m\"\u001b[39m\u001b[39mscalar_summary\u001b[39m\u001b[39m\"\u001b[39m, values\u001b[39m=\u001b[39m[data, step]) \u001b[39mas\u001b[39;00m (tag, _):\n\u001b[0;32m---> 88\u001b[0m     tf\u001b[39m.\u001b[39;49mdebugging\u001b[39m.\u001b[39;49massert_scalar(data)\n\u001b[1;32m     89\u001b[0m     \u001b[39mreturn\u001b[39;00m tf\u001b[39m.\u001b[39msummary\u001b[39m.\u001b[39mwrite(\n\u001b[1;32m     90\u001b[0m         tag\u001b[39m=\u001b[39mtag,\n\u001b[1;32m     91\u001b[0m         tensor\u001b[39m=\u001b[39mtf\u001b[39m.\u001b[39mcast(data, tf\u001b[39m.\u001b[39mfloat32),\n\u001b[1;32m     92\u001b[0m         step\u001b[39m=\u001b[39mstep,\n\u001b[1;32m     93\u001b[0m         metadata\u001b[39m=\u001b[39msummary_metadata,\n\u001b[1;32m     94\u001b[0m     )\n",
      "File \u001b[0;32m~/.pyenv/versions/3.10.6/envs/bool/lib/python3.10/site-packages/tensorflow/python/util/traceback_utils.py:153\u001b[0m, in \u001b[0;36mfilter_traceback.<locals>.error_handler\u001b[0;34m(*args, **kwargs)\u001b[0m\n\u001b[1;32m    151\u001b[0m \u001b[39mexcept\u001b[39;00m \u001b[39mException\u001b[39;00m \u001b[39mas\u001b[39;00m e:\n\u001b[1;32m    152\u001b[0m   filtered_tb \u001b[39m=\u001b[39m _process_traceback_frames(e\u001b[39m.\u001b[39m__traceback__)\n\u001b[0;32m--> 153\u001b[0m   \u001b[39mraise\u001b[39;00m e\u001b[39m.\u001b[39mwith_traceback(filtered_tb) \u001b[39mfrom\u001b[39;00m \u001b[39mNone\u001b[39;00m\n\u001b[1;32m    154\u001b[0m \u001b[39mfinally\u001b[39;00m:\n\u001b[1;32m    155\u001b[0m   \u001b[39mdel\u001b[39;00m filtered_tb\n",
      "File \u001b[0;32m~/.pyenv/versions/3.10.6/envs/bool/lib/python3.10/site-packages/tensorflow/python/ops/check_ops.py:2203\u001b[0m, in \u001b[0;36massert_scalar\u001b[0;34m(tensor, name, message)\u001b[0m\n\u001b[1;32m   2201\u001b[0m \u001b[39mif\u001b[39;00m shape\u001b[39m.\u001b[39mndims \u001b[39m!=\u001b[39m \u001b[39m0\u001b[39m:\n\u001b[1;32m   2202\u001b[0m   \u001b[39mif\u001b[39;00m context\u001b[39m.\u001b[39mexecuting_eagerly():\n\u001b[0;32m-> 2203\u001b[0m     \u001b[39mraise\u001b[39;00m \u001b[39mValueError\u001b[39;00m(\u001b[39m'\u001b[39m\u001b[39m%s\u001b[39;00m\u001b[39mExpected scalar shape, saw shape: \u001b[39m\u001b[39m%s\u001b[39;00m\u001b[39m.\u001b[39m\u001b[39m'\u001b[39m\n\u001b[1;32m   2204\u001b[0m                      \u001b[39m%\u001b[39m (message, shape,))\n\u001b[1;32m   2205\u001b[0m   \u001b[39melse\u001b[39;00m:\n\u001b[1;32m   2206\u001b[0m     \u001b[39mraise\u001b[39;00m \u001b[39mValueError\u001b[39;00m(\u001b[39m'\u001b[39m\u001b[39m%s\u001b[39;00m\u001b[39mExpected scalar shape for \u001b[39m\u001b[39m%s\u001b[39;00m\u001b[39m, saw shape: \u001b[39m\u001b[39m%s\u001b[39;00m\u001b[39m.\u001b[39m\u001b[39m'\u001b[39m\n\u001b[1;32m   2207\u001b[0m                      \u001b[39m%\u001b[39m (message, tensor\u001b[39m.\u001b[39mname, shape))\n",
      "\u001b[0;31mValueError\u001b[0m: Expected scalar shape, saw shape: (5,)."
     ]
    }
   ],
   "source": [
    "session_num = 0\n",
    "\n",
    "for num_units1 in HP_NUM_UNITS1.domain.values:\n",
    "    for num_units2 in HP_NUM_UNITS2.domain.values:\n",
    "        for num_units3 in HP_NUM_UNITS3.domain.values:\n",
    "            for num_units4 in HP_NUM_UNITS4.domain.values:\n",
    "                for num_units5 in HP_NUM_UNITS5.domain.values:\n",
    "                    for num_units6 in HP_NUM_UNITS6.domain.values:\n",
    "                        for dropout in (HP_DROPOUT.domain.min_value, HP_DROPOUT.domain.max_value):\n",
    "                            hparams = {\n",
    "                                HP_NUM_UNITS1: num_units1,\n",
    "                                HP_NUM_UNITS2: num_units2,\n",
    "                                HP_NUM_UNITS3: num_units3,\n",
    "                                HP_NUM_UNITS4: num_units4,\n",
    "                                HP_NUM_UNITS5: num_units5,\n",
    "                                HP_NUM_UNITS6: num_units6,\n",
    "                                HP_DROPOUT: dropout,\n",
    "                            }\n",
    "                            run_name = \"run-%d\" % session_num\n",
    "                            print('--- Starting trial: %s' % run_name)\n",
    "                            print({h.name: hparams[h] for h in hparams})\n",
    "                            run('logs/hparam_tuning/' + run_name, hparams)\n",
    "                            session_num += 1"
   ]
  },
  {
   "cell_type": "code",
   "execution_count": null,
   "metadata": {},
   "outputs": [],
   "source": []
  }
 ],
 "metadata": {
  "kernelspec": {
   "display_name": "bool",
   "language": "python",
   "name": "python3"
  },
  "language_info": {
   "codemirror_mode": {
    "name": "ipython",
    "version": 3
   },
   "file_extension": ".py",
   "mimetype": "text/x-python",
   "name": "python",
   "nbconvert_exporter": "python",
   "pygments_lexer": "ipython3",
   "version": "3.10.6"
  },
  "orig_nbformat": 4
 },
 "nbformat": 4,
 "nbformat_minor": 2
}
