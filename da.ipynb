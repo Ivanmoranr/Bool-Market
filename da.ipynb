{
 "cells": [
  {
   "cell_type": "code",
   "execution_count": 19,
   "metadata": {},
   "outputs": [
    {
     "name": "stdout",
     "output_type": "stream",
     "text": [
      "The autoreload extension is already loaded. To reload it, use:\n",
      "  %reload_ext autoreload\n"
     ]
    }
   ],
   "source": [
    "from get_real_data import *\n",
    "%load_ext autoreload\n",
    "\n",
    "%autoreload 2\n"
   ]
  },
  {
   "cell_type": "code",
   "execution_count": 33,
   "metadata": {},
   "outputs": [],
   "source": [
    "X1, y1, X2, y2, X3, y3, X4, y4 = get_real_X_y(noise=False, pattern_list = [\"rising_wedge\", \"falling_wedge\", \"double_top\", \"double_bottom\"])"
   ]
  },
  {
   "cell_type": "code",
   "execution_count": 38,
   "metadata": {},
   "outputs": [
    {
     "name": "stdout",
     "output_type": "stream",
     "text": [
      "['3758_GOP_ascending_triangle.csv', '3599_APT_ascending_triangle.csv', '2737_BAH_ascending_triangle.csv', '510_VIN_ascending_triangle.csv', '3160_ELT_ascending_triangle.csv', '1526_GTC_ascending_triangle.csv', '2203_ECH_ascending_triangle.csv', '3332_11B_ascending_triangle.csv', '2863_MSW_ascending_triangle.csv', '1656_SKH_ascending_triangle.csv', '1325_MIR_ascending_triangle.csv', '1202_PCF_ascending_triangle.csv', '452_EUR_ascending_triangle.csv', '3406_K2H_ascending_triangle.csv', '2756_AML_ascending_triangle.csv', '417_CRJ_ascending_triangle.csv', '1785_ENG_ascending_triangle.csv', '796_AML_ascending_triangle.csv', '1823_ETFBM40TR_ascending_triangle.csv', '1486_11B_ascending_triangle.csv', '1548_PEP_ascending_triangle.csv', '3479_ATD_ascending_triangle.csv', '1379_3RG_ascending_triangle.csv', '1278_DBC_ascending_triangle.csv', '3608_VVD_ascending_triangle.csv', '889_BDX_ascending_triangle.csv', '2712_EEX_ascending_triangle.csv', '2001_ING_ascending_triangle.csv', '2415_PKN_ascending_triangle.csv', '3730_11B_ascending_triangle.csv', '1867_IFI_ascending_triangle.csv', '3339_ZAP_ascending_triangle.csv', '302_PCR_ascending_triangle.csv', '3286_ETFBW20TR_ascending_triangle.csv', '2459_DCR_ascending_triangle.csv', '188_GTC_ascending_triangle.csv', '1095_AMC_ascending_triangle.csv', '176_VRG_ascending_triangle.csv', '1936_LPP_ascending_triangle.csv', '3765_GIF_ascending_triangle.csv', '1953_GTC_ascending_triangle.csv', '1557_PKN_ascending_triangle.csv', '2532_OPL_ascending_triangle.csv', '3544_QRS_ascending_triangle.csv', '2829_WIG-CHEMIA_ascending_triangle.csv', '2636_R22_ascending_triangle.csv', '637_EUR_ascending_triangle.csv', '2578_JSW_ascending_triangle.csv', '1846_ZUE_ascending_triangle.csv', '2540_ULG_ascending_triangle.csv', '3444_PHR_ascending_triangle.csv', '2738_SPL_ascending_triangle.csv', '1634_ETFBW20TR_ascending_triangle.csv', '834_QRS_ascending_triangle.csv', '2308_ANR_ascending_triangle.csv', '2171_APT_ascending_triangle.csv', '1036_VVD_ascending_triangle.csv', '1323_CTX_ascending_triangle.csv', '2586_MBK_ascending_triangle.csv', '2794_AMB_ascending_triangle.csv', '1481_NWG_ascending_triangle.csv', '53_PKP_ascending_triangle.csv', '827_OPN_ascending_triangle.csv', '3602_ECH_ascending_triangle.csv', '1403_GIF_ascending_triangle.csv', '1754_INK_ascending_triangle.csv', '1955_GTC_ascending_triangle.csv', '2332_ENA_ascending_triangle.csv', '1433_PCO_ascending_triangle.csv', '3106_VIN_ascending_triangle.csv', '917_XTP_ascending_triangle.csv', '1751_ETFBWTECH_ascending_triangle.csv', '3049_VRG_ascending_triangle.csv', '1604_B24_ascending_triangle.csv', '840_BIO_ascending_triangle.csv', '2345_KER_ascending_triangle.csv', '3066_ATT_ascending_triangle.csv', '174_11B_ascending_triangle.csv', '3027_MIR_ascending_triangle.csv', '723_PHR_ascending_triangle.csv', '3762_ATD_ascending_triangle.csv', '1539_3RG_ascending_triangle.csv', '3465_ATR_ascending_triangle.csv', '3506_B24_ascending_triangle.csv', '2183_VRC_ascending_triangle.csv', '1966_ALL_ascending_triangle.csv']\n"
     ]
    }
   ],
   "source": [
    "X1, y1, X2, y2, X3, y3, X4, y4 = get_real_X_y(noise=False, pattern_list = [\"ascending_triangle\",\"descending_triangle\",\"h&s_top\",\"h&s_bottom\"])"
   ]
  },
  {
   "cell_type": "code",
   "execution_count": 44,
   "metadata": {},
   "outputs": [
    {
     "name": "stdout",
     "output_type": "stream",
     "text": [
      "43\n"
     ]
    }
   ],
   "source": [
    "directory_path = f'data/patterns/h&s_bottom'\n",
    "\n",
    "for root, dirs, files in os.walk(directory_path):\n",
    "    print(len(files))\n",
    "    for filename in files:\n",
    "        df = pd.read_csv(f\"{directory_path}/{filename}\")\n",
    "        X1.append(np.array(df[[\"Open\", \"High\", \"Low\", \"Close\"]]))\n",
    "        y1.append(tuple(df.iloc[0][[\"Start Date\", \"End Date\", \"Pattern\"]]))"
   ]
  }
 ],
 "metadata": {
  "kernelspec": {
   "display_name": "bool",
   "language": "python",
   "name": "python3"
  },
  "language_info": {
   "codemirror_mode": {
    "name": "ipython",
    "version": 3
   },
   "file_extension": ".py",
   "mimetype": "text/x-python",
   "name": "python",
   "nbconvert_exporter": "python",
   "pygments_lexer": "ipython3",
   "version": "3.10.6"
  },
  "orig_nbformat": 4
 },
 "nbformat": 4,
 "nbformat_minor": 2
}
