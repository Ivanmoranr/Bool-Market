{
 "cells": [
  {
   "cell_type": "markdown",
   "id": "e34c6367-b198-4e58-b31a-f17ee6eea4ea",
   "metadata": {},
   "source": [
    "###### imports"
   ]
  },
  {
   "cell_type": "code",
   "execution_count": 1,
   "id": "d257c16f-bf8d-4839-972a-0950d1ef3594",
   "metadata": {},
   "outputs": [
    {
     "name": "stderr",
     "output_type": "stream",
     "text": [
      "2023-09-01 17:03:03.492251: I tensorflow/core/util/port.cc:110] oneDNN custom operations are on. You may see slightly different numerical results due to floating-point round-off errors from different computation orders. To turn them off, set the environment variable `TF_ENABLE_ONEDNN_OPTS=0`.\n",
      "2023-09-01 17:03:03.493721: I tensorflow/tsl/cuda/cudart_stub.cc:28] Could not find cuda drivers on your machine, GPU will not be used.\n",
      "2023-09-01 17:03:03.525074: I tensorflow/tsl/cuda/cudart_stub.cc:28] Could not find cuda drivers on your machine, GPU will not be used.\n",
      "2023-09-01 17:03:03.526285: I tensorflow/core/platform/cpu_feature_guard.cc:182] This TensorFlow binary is optimized to use available CPU instructions in performance-critical operations.\n",
      "To enable the following instructions: AVX2 AVX_VNNI FMA, in other operations, rebuild TensorFlow with the appropriate compiler flags.\n",
      "2023-09-01 17:03:04.057173: W tensorflow/compiler/tf2tensorrt/utils/py_utils.cc:38] TF-TRT Warning: Could not find TensorRT\n"
     ]
    }
   ],
   "source": [
    "import os\n",
    "import pandas as pd\n",
    "import numpy as np\n",
    "\n",
    "from pathlib import Path\n",
    "\n",
    "import scipy\n",
    "\n",
    "from sklearn.model_selection import train_test_split\n",
    "\n",
    "import tensorflow as tf\n",
    "from tensorflow.keras.models import Sequential\n",
    "from tensorflow.keras.layers import LSTM, Dense, Masking, Conv1D, Flatten, MaxPooling1D\n",
    "from tensorflow.keras.preprocessing.sequence import pad_sequences\n",
    "from tensorflow.keras import regularizers\n",
    "\n",
    "import synthetic_data"
   ]
  },
  {
   "cell_type": "markdown",
   "id": "73297ff7-0c51-4afa-98b6-3d05dfdb2518",
   "metadata": {},
   "source": [
    "## Check Path"
   ]
  },
  {
   "cell_type": "code",
   "execution_count": 2,
   "id": "8c512989-470c-41d9-a6ce-1dcb392a35aa",
   "metadata": {},
   "outputs": [],
   "source": [
    "DATA_PATH_RISING_WEDGE = Path(\"data/patterns/rising_wedge\")\n",
    "DATA_PATH_RISING_WEDGE.exists()\n",
    "\n",
    "data = {filepath.stem: pd.read_csv(filepath) for filepath in DATA_PATH_RISING_WEDGE.glob(\"*.csv\")}"
   ]
  },
  {
   "cell_type": "markdown",
   "id": "c30007b2-5adf-4090-9da5-a126e4fc78ea",
   "metadata": {},
   "source": [
    "## Create Tensor and Label lists from real data"
   ]
  },
  {
   "cell_type": "code",
   "execution_count": 3,
   "id": "33cc5db7-193c-4cdb-8c09-6579254c8266",
   "metadata": {},
   "outputs": [],
   "source": [
    "X_real = []\n",
    "y_real = []\n",
    "\n",
    "for key, df in data.items():\n",
    "    X_real.append(df[['Open', 'High', 'Low', 'Close']].values)\n",
    "    y_real.append(df.loc[0, ['Start Date', 'End Date', 'Pattern']].values)"
   ]
  },
  {
   "cell_type": "markdown",
   "id": "367261ec-7acc-4804-9470-a70a13ceead6",
   "metadata": {},
   "source": [
    "## Create Synthetic Data with pattern"
   ]
  },
  {
   "cell_type": "code",
   "execution_count": 4,
   "id": "f75a5c12-f394-4a10-87de-9d527eb4fe0d",
   "metadata": {},
   "outputs": [],
   "source": [
    "amount = int(len(X_real) * 0.40)\n",
    "amount_25 = int(len(y_real) * 0.25)\n",
    "\n",
    "X_synthetic, y_synthetic = synthetic_data.gen_x_y(l=amount, pattern=\"rising_wedge\", noise=True, general=False)"
   ]
  },
  {
   "cell_type": "markdown",
   "id": "c8260f4b-fd0e-4e26-9df8-c56cc65f4f6a",
   "metadata": {},
   "source": [
    "## Take Real data with no pattern"
   ]
  },
  {
   "cell_type": "code",
   "execution_count": 5,
   "id": "dbe51e72-7451-4183-a54a-ca6d2477cd02",
   "metadata": {},
   "outputs": [],
   "source": [
    "DATA_PATH_DOWNTREND = Path(\"data/patterns/downtrend\")\n",
    "DATA_PATH_DOWNTREND.exists()\n",
    "\n",
    "downtrend_data = {filepath.stem: pd.read_csv(filepath) for filepath in DATA_PATH_DOWNTREND.glob(\"*.csv\")}\n",
    "\n",
    "X_no_pattern = []\n",
    "y_no_pattern = []\n",
    "\n",
    "for key, df in downtrend_data.items():\n",
    "    X_no_pattern.append(df[['Open', 'High', 'Low', 'Close']].values)\n",
    "    y_no_pattern.append(df.loc[0, ['Start Date', 'End Date', 'Pattern']].values)\n",
    "\n",
    "X_no_pattern = X_no_pattern[:amount_25]\n",
    "y_no_pattern = y_no_pattern[:amount_25]"
   ]
  },
  {
   "cell_type": "code",
   "execution_count": 6,
   "id": "a40229b3-b8c3-45ac-80fd-9a48ac70940d",
   "metadata": {},
   "outputs": [
    {
     "ename": "NameError",
     "evalue": "name 'find_max_length' is not defined",
     "output_type": "error",
     "traceback": [
      "\u001b[0;31m---------------------------------------------------------------------------\u001b[0m",
      "\u001b[0;31mNameError\u001b[0m                                 Traceback (most recent call last)",
      "Cell \u001b[0;32mIn[6], line 1\u001b[0m\n\u001b[0;32m----> 1\u001b[0m total \u001b[38;5;241m=\u001b[39m \u001b[43mfind_max_length\u001b[49m(X_real, X_synthetic, X_no_pattern)\n\u001b[1;32m      2\u001b[0m total\n",
      "\u001b[0;31mNameError\u001b[0m: name 'find_max_length' is not defined"
     ]
    }
   ],
   "source": [
    "total = find_max_length(X_real, X_synthetic, X_no_pattern)\n",
    "total"
   ]
  },
  {
   "cell_type": "markdown",
   "id": "dd5e84f2-39e5-4bb6-bd36-39e227786c53",
   "metadata": {},
   "source": [
    "## Join lists"
   ]
  },
  {
   "cell_type": "code",
   "execution_count": 7,
   "id": "4a98574f-fc83-49bb-bc2f-8ef73aa6ad44",
   "metadata": {},
   "outputs": [],
   "source": [
    "X_all = X_real + X_synthetic + X_no_pattern\n",
    "y_all = y_real + y_synthetic + y_no_pattern"
   ]
  },
  {
   "cell_type": "markdown",
   "id": "ef2387f1-b8c4-4192-88e0-adbe8b3aa920",
   "metadata": {},
   "source": [
    "## Padding"
   ]
  },
  {
   "cell_type": "code",
   "execution_count": 8,
   "id": "2fcdbef7-c7d8-43d4-8a4f-a220f1ac68c9",
   "metadata": {},
   "outputs": [],
   "source": [
    "def find_longest_array(array):\n",
    "    largest = 0\n",
    "    for a in array:\n",
    "        if len(a) > largest:\n",
    "            largest = len(a)\n",
    "    return largest\n",
    "\n",
    "test = find_longest_array(X_all)"
   ]
  },
  {
   "cell_type": "code",
   "execution_count": 9,
   "id": "700a436b-43b4-42e0-9b3a-9a3f145bdccf",
   "metadata": {},
   "outputs": [],
   "source": [
    "X_pad = pad_sequences(X_all, dtype='float32', padding='post', value=-100)"
   ]
  },
  {
   "cell_type": "markdown",
   "id": "957a2069-83a0-4363-a601-3ddd8094ba50",
   "metadata": {},
   "source": [
    "### Test padding"
   ]
  },
  {
   "cell_type": "code",
   "execution_count": 11,
   "id": "daedbce8-8226-4c63-9b1e-1040f2cba13c",
   "metadata": {},
   "outputs": [
    {
     "data": {
      "text/plain": [
       "(1139, 502, 4)"
      ]
     },
     "execution_count": 11,
     "metadata": {},
     "output_type": "execute_result"
    }
   ],
   "source": [
    "X_pad.shape"
   ]
  },
  {
   "cell_type": "markdown",
   "id": "25c4b7a3-d36a-47b5-a8a8-f2285320d905",
   "metadata": {},
   "source": [
    "## Train Test Split"
   ]
  },
  {
   "cell_type": "code",
   "execution_count": 12,
   "id": "0b20f52b-ae9c-4a5b-b2bf-3cea451753c5",
   "metadata": {},
   "outputs": [
    {
     "data": {
      "text/plain": [
       "(797, 502, 4)"
      ]
     },
     "metadata": {},
     "output_type": "display_data"
    },
    {
     "data": {
      "text/plain": [
       "(342, 502, 4)"
      ]
     },
     "metadata": {},
     "output_type": "display_data"
    },
    {
     "data": {
      "text/plain": [
       "(797, 3)"
      ]
     },
     "metadata": {},
     "output_type": "display_data"
    },
    {
     "data": {
      "text/plain": [
       "(342, 3)"
      ]
     },
     "metadata": {},
     "output_type": "display_data"
    }
   ],
   "source": [
    "y_all = np.array(y_all)\n",
    "\n",
    "X_train, X_test, y_train, y_test = train_test_split(X_pad, y_all, test_size=0.30)\n",
    "\n",
    "display(X_train.shape)\n",
    "display(X_test.shape)\n",
    "display(y_train.shape)\n",
    "display(y_test.shape)"
   ]
  },
  {
   "cell_type": "code",
   "execution_count": null,
   "id": "3080b076-84f1-4c8f-8e3b-7dacea1b2ad1",
   "metadata": {},
   "outputs": [],
   "source": []
  }
 ],
 "metadata": {
  "kernelspec": {
   "display_name": "Python 3 (ipykernel)",
   "language": "python",
   "name": "python3"
  },
  "language_info": {
   "codemirror_mode": {
    "name": "ipython",
    "version": 3
   },
   "file_extension": ".py",
   "mimetype": "text/x-python",
   "name": "python",
   "nbconvert_exporter": "python",
   "pygments_lexer": "ipython3",
   "version": "3.10.6"
  }
 },
 "nbformat": 4,
 "nbformat_minor": 5
}
