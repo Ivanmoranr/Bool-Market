{
 "cells": [
  {
   "cell_type": "markdown",
   "id": "e34c6367-b198-4e58-b31a-f17ee6eea4ea",
   "metadata": {},
   "source": [
    "###### imports"
   ]
  },
  {
   "cell_type": "code",
   "execution_count": 24,
   "id": "d257c16f-bf8d-4839-972a-0950d1ef3594",
   "metadata": {},
   "outputs": [],
   "source": [
    "import os\n",
    "import pandas as pd\n",
    "import numpy as np\n",
    "\n",
    "from pathlib import Path\n",
    "\n",
    "import scipy\n",
    "\n",
    "from sklearn.model_selection import train_test_split\n",
    "\n",
    "import tensorflow as tf\n",
    "from keras.callbacks import EarlyStopping\n",
    "from tensorflow.keras.models import Sequential\n",
    "from tensorflow.keras.layers import LSTM, Dense, Masking, Conv1D, Flatten, MaxPooling1D\n",
    "from tensorflow.keras.preprocessing.sequence import pad_sequences\n",
    "from tensorflow.keras import regularizers\n",
    "\n",
    "import synthetic_data"
   ]
  },
  {
   "cell_type": "markdown",
   "id": "73297ff7-0c51-4afa-98b6-3d05dfdb2518",
   "metadata": {},
   "source": [
    "## Check Path"
   ]
  },
  {
   "cell_type": "code",
   "execution_count": 25,
   "id": "8c512989-470c-41d9-a6ce-1dcb392a35aa",
   "metadata": {},
   "outputs": [],
   "source": [
    "DATA_PATH_RISING_WEDGE = Path(\"data/patterns/rising_wedge\")\n",
    "DATA_PATH_RISING_WEDGE.exists()\n",
    "\n",
    "data = {filepath.stem: pd.read_csv(filepath) for filepath in DATA_PATH_RISING_WEDGE.glob(\"*.csv\")}"
   ]
  },
  {
   "cell_type": "markdown",
   "id": "c30007b2-5adf-4090-9da5-a126e4fc78ea",
   "metadata": {},
   "source": [
    "## Create Tensor and Label lists from real data"
   ]
  },
  {
   "cell_type": "code",
   "execution_count": 26,
   "id": "33cc5db7-193c-4cdb-8c09-6579254c8266",
   "metadata": {},
   "outputs": [],
   "source": [
    "X_real = []\n",
    "y_real = []\n",
    "\n",
    "for key, df in data.items():\n",
    "    X_real.append(df[['Open', 'High', 'Low', 'Close']].values)\n",
    "    y_real.append(df.loc[0, ['Start Date', 'End Date', 'Pattern']].values)"
   ]
  },
  {
   "cell_type": "markdown",
   "id": "367261ec-7acc-4804-9470-a70a13ceead6",
   "metadata": {},
   "source": [
    "## Create Synthetic Data with pattern"
   ]
  },
  {
   "cell_type": "code",
   "execution_count": 27,
   "id": "f75a5c12-f394-4a10-87de-9d527eb4fe0d",
   "metadata": {},
   "outputs": [],
   "source": [
    "amount = int(len(X_real) * 0.40)\n",
    "amount_25 = int(len(y_real) * 0.25)\n",
    "\n",
    "X_synthetic, y_synthetic = synthetic_data.gen_x_y(l=amount, pattern=\"rising_wedge\", noise=True, general=False)"
   ]
  },
  {
   "cell_type": "markdown",
   "id": "c8260f4b-fd0e-4e26-9df8-c56cc65f4f6a",
   "metadata": {},
   "source": [
    "## Take Real data with no pattern"
   ]
  },
  {
   "cell_type": "code",
   "execution_count": 30,
   "id": "dbe51e72-7451-4183-a54a-ca6d2477cd02",
   "metadata": {},
   "outputs": [],
   "source": [
    "DATA_PATH_DOWNTREND = Path(\"data/patterns/downtrend\")\n",
    "DATA_PATH_DOWNTREND.exists()\n",
    "\n",
    "downtrend_data = {filepath.stem: pd.read_csv(filepath) for filepath in DATA_PATH_DOWNTREND.glob(\"*.csv\")}\n",
    "\n",
    "X_no_pattern = []\n",
    "y_no_pattern = []\n",
    "\n",
    "for key, df in downtrend_data.items():\n",
    "    X_no_pattern.append(df[['Open', 'High', 'Low', 'Close']].values)\n",
    "    y_no_pattern.append(df.loc[0, ['Start Date', 'End Date', 'Pattern']].values)\n",
    "\n",
    "X_no_pattern = X_no_pattern[:amount_25]\n",
    "y_no_pattern = y_no_pattern[:amount_25]"
   ]
  },
  {
   "cell_type": "code",
   "execution_count": 31,
   "id": "a40229b3-b8c3-45ac-80fd-9a48ac70940d",
   "metadata": {},
   "outputs": [
    {
     "ename": "NameError",
     "evalue": "name 'find_max_length' is not defined",
     "output_type": "error",
     "traceback": [
      "\u001b[0;31m---------------------------------------------------------------------------\u001b[0m",
      "\u001b[0;31mNameError\u001b[0m                                 Traceback (most recent call last)",
      "Cell \u001b[0;32mIn[31], line 1\u001b[0m\n\u001b[0;32m----> 1\u001b[0m total \u001b[38;5;241m=\u001b[39m \u001b[43mfind_max_length\u001b[49m(X_real, X_synthetic, X_no_pattern)\n\u001b[1;32m      2\u001b[0m total\n",
      "\u001b[0;31mNameError\u001b[0m: name 'find_max_length' is not defined"
     ]
    }
   ],
   "source": [
    "total = find_max_length(X_real, X_synthetic, X_no_pattern)\n",
    "total"
   ]
  },
  {
   "cell_type": "markdown",
   "id": "dd5e84f2-39e5-4bb6-bd36-39e227786c53",
   "metadata": {},
   "source": [
    "## Join lists"
   ]
  },
  {
   "cell_type": "code",
   "execution_count": 32,
   "id": "4a98574f-fc83-49bb-bc2f-8ef73aa6ad44",
   "metadata": {},
   "outputs": [],
   "source": [
    "X_all = X_real + X_synthetic + X_no_pattern\n",
    "y_all = y_real + y_synthetic + y_no_pattern"
   ]
  },
  {
   "cell_type": "markdown",
   "id": "ef2387f1-b8c4-4192-88e0-adbe8b3aa920",
   "metadata": {},
   "source": [
    "## Padding"
   ]
  },
  {
   "cell_type": "code",
   "execution_count": 33,
   "id": "2fcdbef7-c7d8-43d4-8a4f-a220f1ac68c9",
   "metadata": {},
   "outputs": [],
   "source": [
    "def find_longest_array(array):\n",
    "    largest = 0\n",
    "    for a in array:\n",
    "        if len(a) > largest:\n",
    "            largest = len(a)\n",
    "    return largest\n",
    "\n",
    "test = find_longest_array(X_all)"
   ]
  },
  {
   "cell_type": "code",
   "execution_count": 34,
   "id": "700a436b-43b4-42e0-9b3a-9a3f145bdccf",
   "metadata": {},
   "outputs": [],
   "source": [
    "X_pad = pad_sequences(X_all, dtype='float32', padding='post', value=-100)"
   ]
  },
  {
   "cell_type": "code",
   "execution_count": 36,
   "id": "2ef53af6-7559-4b3e-8f96-d179d09085bd",
   "metadata": {},
   "outputs": [
    {
     "data": {
      "text/plain": [
       "numpy.ndarray"
      ]
     },
     "execution_count": 36,
     "metadata": {},
     "output_type": "execute_result"
    }
   ],
   "source": [
    "type(X_pad)"
   ]
  },
  {
   "cell_type": "markdown",
   "id": "957a2069-83a0-4363-a601-3ddd8094ba50",
   "metadata": {},
   "source": [
    "### Test padding"
   ]
  },
  {
   "cell_type": "code",
   "execution_count": null,
   "id": "daedbce8-8226-4c63-9b1e-1040f2cba13c",
   "metadata": {},
   "outputs": [],
   "source": [
    "X_pad.shape"
   ]
  },
  {
   "cell_type": "markdown",
   "id": "25c4b7a3-d36a-47b5-a8a8-f2285320d905",
   "metadata": {},
   "source": [
    "## Train Test Split"
   ]
  },
  {
   "cell_type": "code",
   "execution_count": 46,
   "id": "0b20f52b-ae9c-4a5b-b2bf-3cea451753c5",
   "metadata": {},
   "outputs": [
    {
     "data": {
      "text/plain": [
       "(797, 502, 4)"
      ]
     },
     "metadata": {},
     "output_type": "display_data"
    },
    {
     "data": {
      "text/plain": [
       "(342, 502, 4)"
      ]
     },
     "metadata": {},
     "output_type": "display_data"
    },
    {
     "data": {
      "text/plain": [
       "(797, 3)"
      ]
     },
     "metadata": {},
     "output_type": "display_data"
    },
    {
     "data": {
      "text/plain": [
       "(342, 3)"
      ]
     },
     "metadata": {},
     "output_type": "display_data"
    }
   ],
   "source": [
    "y_all = np.array(y_all)\n",
    "\n",
    "X_train, X_test, y_train, y_test = train_test_split(X_pad, y_all, test_size=0.30)\n",
    "\n",
    "display(X_train.shape)\n",
    "display(X_test.shape)\n",
    "display(y_train.shape)\n",
    "display(y_test.shape)"
   ]
  },
  {
   "cell_type": "markdown",
   "id": "309adecf-2377-4779-b21b-31e2dc67735e",
   "metadata": {},
   "source": [
    "## Modelling"
   ]
  },
  {
   "cell_type": "code",
   "execution_count": 56,
   "id": "d48578bc-6145-45bd-8387-7e08d75bb167",
   "metadata": {},
   "outputs": [],
   "source": [
    "input_shape = X_train.shape[1:]\n",
    "\n",
    "def initialize_model_CNN():\n",
    "    model = Sequential()\n",
    "\n",
    "    model.add(Masking(mask_value=-1, input_shape=input_shape))\n",
    "    model.add(Conv1D(32, activation='relu', kernel_size=3, kernel_regularizer=regularizers.L1L2(l1=1e-3, l2=1e-3))),\n",
    "    model.add(MaxPooling1D(pool_size=2))\n",
    "    model.add(Conv1D(32, activation='relu', kernel_size=3))\n",
    "    \n",
    "    model.add(Flatten())\n",
    "    model.add(Dense(units=200, activation='relu'))\n",
    "    model.add(Dense(units=100, activation='relu'))\n",
    "    model.add(Dense(units=16, activation='relu'))\n",
    "    model.add(Dense(units=16, activation='relu'))\n",
    "    model.add(Dense(units=3, activation='linear'))\n",
    "\n",
    "    model.compile(optimizer='adam', loss='mse', metrics=['mae'])\n",
    "    \n",
    "    return model"
   ]
  },
  {
   "cell_type": "code",
   "execution_count": 63,
   "id": "b77147c7-4cdc-4078-9cea-98691af86010",
   "metadata": {},
   "outputs": [
    {
     "name": "stdout",
     "output_type": "stream",
     "text": [
      "Model: \"sequential_5\"\n",
      "_________________________________________________________________\n",
      " Layer (type)                Output Shape              Param #   \n",
      "=================================================================\n",
      " masking_5 (Masking)         (None, 502, 4)            0         \n",
      "                                                                 \n",
      " conv1d_10 (Conv1D)          (None, 500, 32)           416       \n",
      "                                                                 \n",
      " max_pooling1d_5 (MaxPoolin  (None, 250, 32)           0         \n",
      " g1D)                                                            \n",
      "                                                                 \n",
      " conv1d_11 (Conv1D)          (None, 248, 32)           3104      \n",
      "                                                                 \n",
      " flatten_5 (Flatten)         (None, 7936)              0         \n",
      "                                                                 \n",
      " dense_15 (Dense)            (None, 200)               1587400   \n",
      "                                                                 \n",
      " dense_16 (Dense)            (None, 100)               20100     \n",
      "                                                                 \n",
      " dense_17 (Dense)            (None, 16)                1616      \n",
      "                                                                 \n",
      " dense_18 (Dense)            (None, 16)                272       \n",
      "                                                                 \n",
      " dense_19 (Dense)            (None, 3)                 51        \n",
      "                                                                 \n",
      "=================================================================\n",
      "Total params: 1612959 (6.15 MB)\n",
      "Trainable params: 1612959 (6.15 MB)\n",
      "Non-trainable params: 0 (0.00 Byte)\n",
      "_________________________________________________________________\n"
     ]
    }
   ],
   "source": [
    "model.summary()"
   ]
  },
  {
   "cell_type": "code",
   "execution_count": 57,
   "id": "015f091c-5921-4822-9125-5d4870d56122",
   "metadata": {},
   "outputs": [
    {
     "data": {
      "text/plain": [
       "tensorflow.python.framework.ops.EagerTensor"
      ]
     },
     "metadata": {},
     "output_type": "display_data"
    },
    {
     "data": {
      "text/plain": [
       "tensorflow.python.framework.ops.EagerTensor"
      ]
     },
     "metadata": {},
     "output_type": "display_data"
    }
   ],
   "source": [
    "display(type(X_train[0]))\n",
    "display(type(y_train[0]))"
   ]
  },
  {
   "cell_type": "code",
   "execution_count": 58,
   "id": "32086335-7a4f-41c8-80eb-861edc1bd4a7",
   "metadata": {},
   "outputs": [
    {
     "data": {
      "text/plain": [
       "tf.int16"
      ]
     },
     "execution_count": 58,
     "metadata": {},
     "output_type": "execute_result"
    }
   ],
   "source": [
    "y_train.dtype"
   ]
  },
  {
   "cell_type": "code",
   "execution_count": 59,
   "id": "78629663-6376-43c6-9d62-2e5dd6d64855",
   "metadata": {},
   "outputs": [
    {
     "data": {
      "text/plain": [
       "tensorflow.python.framework.ops.EagerTensor"
      ]
     },
     "metadata": {},
     "output_type": "display_data"
    },
    {
     "data": {
      "text/plain": [
       "tensorflow.python.framework.ops.EagerTensor"
      ]
     },
     "metadata": {},
     "output_type": "display_data"
    }
   ],
   "source": [
    "X_train = tf.convert_to_tensor(X_train, np.float32)\n",
    "y_train = tf.convert_to_tensor(y_train, np.int16)\n",
    "\n",
    "display(type(X_train))\n",
    "display(type(y_train))"
   ]
  },
  {
   "cell_type": "code",
   "execution_count": 60,
   "id": "0fcfc43b-ce05-464b-acb1-33e2ab9a9cd7",
   "metadata": {},
   "outputs": [
    {
     "name": "stdout",
     "output_type": "stream",
     "text": [
      "Epoch 1/50\n",
      "20/20 [==============================] - 1s 18ms/step - loss: 880775.8125 - mae: 104.9932 - val_loss: 346452.6875 - val_mae: 122.7236\n",
      "Epoch 2/50\n",
      "20/20 [==============================] - 0s 14ms/step - loss: 187008.2500 - mae: 78.5083 - val_loss: 27090.2715 - val_mae: 66.1028\n",
      "Epoch 3/50\n",
      "20/20 [==============================] - 0s 14ms/step - loss: 43427.8750 - mae: 56.8739 - val_loss: 14762.6611 - val_mae: 52.4444\n",
      "Epoch 4/50\n",
      "20/20 [==============================] - 0s 14ms/step - loss: 60027.8555 - mae: 55.4198 - val_loss: 40048.0312 - val_mae: 60.9296\n",
      "Epoch 5/50\n",
      "20/20 [==============================] - 0s 13ms/step - loss: 13185.4424 - mae: 43.9898 - val_loss: 20903.6035 - val_mae: 53.6875\n",
      "Epoch 6/50\n",
      "20/20 [==============================] - 0s 13ms/step - loss: 20385.3457 - mae: 43.4192 - val_loss: 4264.5161 - val_mae: 41.2231\n",
      "Epoch 7/50\n",
      "20/20 [==============================] - 0s 13ms/step - loss: 8442.4688 - mae: 40.5009 - val_loss: 24692.8379 - val_mae: 51.9612\n",
      "Epoch 8/50\n",
      "20/20 [==============================] - 0s 13ms/step - loss: 13168.6543 - mae: 38.1308 - val_loss: 10572.7891 - val_mae: 43.0765\n",
      "Epoch 9/50\n",
      "20/20 [==============================] - 0s 13ms/step - loss: 28733.8750 - mae: 43.3522 - val_loss: 17724.1348 - val_mae: 50.5902\n",
      "Epoch 10/50\n",
      "20/20 [==============================] - 0s 13ms/step - loss: 20415.1504 - mae: 41.7233 - val_loss: 5910.7549 - val_mae: 40.1213\n",
      "Epoch 11/50\n",
      "20/20 [==============================] - 0s 13ms/step - loss: 4316.0830 - mae: 33.8471 - val_loss: 3271.1323 - val_mae: 34.9152\n",
      "Epoch 12/50\n",
      "20/20 [==============================] - 0s 14ms/step - loss: 2704.7144 - mae: 29.3910 - val_loss: 3191.0659 - val_mae: 34.0326\n",
      "Epoch 13/50\n",
      "20/20 [==============================] - 0s 16ms/step - loss: 2267.3701 - mae: 28.1520 - val_loss: 2939.6790 - val_mae: 32.7815\n",
      "Epoch 14/50\n",
      "20/20 [==============================] - 0s 16ms/step - loss: 2366.0161 - mae: 26.4836 - val_loss: 2898.0168 - val_mae: 33.6254\n",
      "Epoch 15/50\n",
      "20/20 [==============================] - 0s 15ms/step - loss: 1982.0856 - mae: 26.1588 - val_loss: 3029.7878 - val_mae: 32.8834\n",
      "Epoch 16/50\n",
      "20/20 [==============================] - 0s 14ms/step - loss: 1712.8824 - mae: 23.5232 - val_loss: 3077.6743 - val_mae: 31.9545\n",
      "Epoch 17/50\n",
      "20/20 [==============================] - 0s 14ms/step - loss: 1589.3774 - mae: 22.3389 - val_loss: 3008.5103 - val_mae: 32.0112\n",
      "Epoch 18/50\n",
      "20/20 [==============================] - 0s 14ms/step - loss: 1504.1117 - mae: 21.8208 - val_loss: 3006.6958 - val_mae: 31.6304\n",
      "Epoch 19/50\n",
      "20/20 [==============================] - 0s 15ms/step - loss: 1438.2017 - mae: 21.3889 - val_loss: 3379.9429 - val_mae: 33.1326\n"
     ]
    },
    {
     "data": {
      "text/plain": [
       "<keras.src.callbacks.History at 0x7f3a384a67a0>"
      ]
     },
     "execution_count": 60,
     "metadata": {},
     "output_type": "execute_result"
    }
   ],
   "source": [
    "es = EarlyStopping(patience = 5, restore_best_weights=True)\n",
    "\n",
    "model = initialize_model_CNN()\n",
    "\n",
    "model.fit(\n",
    "    X_train,\n",
    "    y_train,\n",
    "    validation_split = 0.2,\n",
    "    shuffle = True,\n",
    "    batch_size=32,\n",
    "    epochs = 50,\n",
    "    callbacks = [es],\n",
    "    verbose = 1\n",
    ")"
   ]
  },
  {
   "cell_type": "code",
   "execution_count": 62,
   "id": "83a3bd9a-b347-4e1b-9736-8f7cb2e0ccda",
   "metadata": {},
   "outputs": [
    {
     "name": "stdout",
     "output_type": "stream",
     "text": [
      "11/11 [==============================] - 0s 7ms/step - loss: 2695.6477 - mae: 31.1974\n"
     ]
    }
   ],
   "source": [
    "X_test = tf.convert_to_tensor(X_test, np.float32)\n",
    "y_test = tf.convert_to_tensor(y_test, np.int16)\n",
    "res = model.evaluate(X_test, y_test)"
   ]
  },
  {
   "cell_type": "code",
   "execution_count": null,
   "id": "a20908db-0664-4743-a770-c07e64e8c3c8",
   "metadata": {},
   "outputs": [],
   "source": []
  }
 ],
 "metadata": {
  "kernelspec": {
   "display_name": "Python 3 (ipykernel)",
   "language": "python",
   "name": "python3"
  },
  "language_info": {
   "codemirror_mode": {
    "name": "ipython",
    "version": 3
   },
   "file_extension": ".py",
   "mimetype": "text/x-python",
   "name": "python",
   "nbconvert_exporter": "python",
   "pygments_lexer": "ipython3",
   "version": "3.10.6"
  }
 },
 "nbformat": 4,
 "nbformat_minor": 5
}
