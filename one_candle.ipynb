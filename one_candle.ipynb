{
 "cells": [
  {
   "cell_type": "code",
   "execution_count": 6,
   "metadata": {},
   "outputs": [],
   "source": [
    "import numpy as np\n",
    "import pandas as pd\n",
    "import matplotlib.pyplot as plt\n",
    "import scipy"
   ]
  },
  {
   "cell_type": "code",
   "execution_count": 90,
   "metadata": {},
   "outputs": [],
   "source": [
    "def doji(df):\n",
    "    return (10 * abs(df[\"open\"] - df[\"close\"]) <= df[\"high\"] - df[\"low\"])"
   ]
  },
  {
   "cell_type": "code",
   "execution_count": 86,
   "metadata": {},
   "outputs": [],
   "source": [
    "def ochl(df):\n",
    "    df = df.iloc[:,:5]\n",
    "    df.columns = [\"date\", \"open\", \"high\", \"low\", \"close\"]\n",
    "    return df[\"open\"], df[\"close\"], df[\"high\"], df[\"low\"]"
   ]
  },
  {
   "cell_type": "code",
   "execution_count": 84,
   "metadata": {},
   "outputs": [
    {
     "name": "stdout",
     "output_type": "stream",
     "text": [
      "[*********************100%%**********************]  1 of 1 completed\n"
     ]
    }
   ],
   "source": [
    "df = yf.download(\"AAPL\")\n"
   ]
  },
  {
   "cell_type": "code",
   "execution_count": 89,
   "metadata": {},
   "outputs": [
    {
     "data": {
      "text/plain": [
       "(0          0.128348\n",
       " 1          0.122210\n",
       " 2          0.113281\n",
       " 3          0.115513\n",
       " 4          0.118862\n",
       "             ...    \n",
       " 10767    179.699997\n",
       " 10768    184.940002\n",
       " 10769    187.839996\n",
       " 10770    189.490005\n",
       " 10771    188.279999\n",
       " Name: open, Length: 10772, dtype: float64,\n",
       " 0          0.128348\n",
       " 1          0.121652\n",
       " 2          0.112723\n",
       " 3          0.115513\n",
       " 4          0.118862\n",
       "             ...    \n",
       " 10767    184.119995\n",
       " 10768    187.649994\n",
       " 10769    187.869995\n",
       " 10770    189.460007\n",
       " 10771    189.699997\n",
       " Name: close, Length: 10772, dtype: float64,\n",
       " 0          0.128906\n",
       " 1          0.122210\n",
       " 2          0.113281\n",
       " 3          0.116071\n",
       " 4          0.119420\n",
       "             ...    \n",
       " 10767    184.899994\n",
       " 10768    187.850006\n",
       " 10769    189.119995\n",
       " 10770    189.919998\n",
       " 10771    189.979996\n",
       " Name: high, Length: 10772, dtype: float64,\n",
       " 0          0.128348\n",
       " 1          0.121652\n",
       " 2          0.112723\n",
       " 3          0.115513\n",
       " 4          0.118862\n",
       "             ...    \n",
       " 10767    179.500000\n",
       " 10768    184.740005\n",
       " 10769    187.479996\n",
       " 10770    188.279999\n",
       " 10771    187.610001\n",
       " Name: low, Length: 10772, dtype: float64)"
      ]
     },
     "execution_count": 89,
     "metadata": {},
     "output_type": "execute_result"
    }
   ],
   "source": [
    "\n",
    "ochl(df)"
   ]
  },
  {
   "cell_type": "code",
   "execution_count": 9,
   "metadata": {},
   "outputs": [],
   "source": [
    "def dochl(df):\n",
    "    df = df.iloc[:,:5]\n",
    "    df.columns = [\"date\", \"open\", \"high\", \"low\", \"close\"]\n",
    "    return df"
   ]
  },
  {
   "cell_type": "code",
   "execution_count": 10,
   "metadata": {},
   "outputs": [],
   "source": [
    "def stoc1(df):\n",
    "    O, C, H, L = ochl(df)\n",
    "    return ((C-L)/(H-L))*100"
   ]
  },
  {
   "cell_type": "code",
   "execution_count": 108,
   "metadata": {},
   "outputs": [],
   "source": [
    "def one_candle(df):\n",
    "    df = dochl(df)\n",
    "    df[\"stoc1\"] = stoc1(df)\n",
    "    df[\"O-C\"] = min_av(df, 15, entr = \"rest\", func=\"mean\")\n",
    "    df[\"AVGH10\"] = min_av(df, 10, entr = \"H\", func=\"mean\")\n",
    "    df[\"AVGL10\"] = min_av(df, 10, entr = \"L\", func=\"mean\")\n",
    "    df[\"AVGH10.2\"] = offset2(df[\"AVGH10\"])\n",
    "    df[\"AVGL10.2\"] = offset2(df[\"AVGL10\"])\n",
    "    df[\"AVGL20\"] = min_av(df, 20, entr = \"L\", func=\"mean\")\n",
    "    df[\"AVGH20\"] = min_av(df, 20, entr = \"H\", func=\"mean\")\n",
    "    df[\"MINL10\"] = min_av(df, 10, entr = \"L\", func=\"min\")\n",
    "    df[\"MINL5\"] = min_av(df, 5, entr = \"L\", func=\"min\")\n",
    "    df[\"O-C\"] = min_av(df, 15, entr = \"rest\", func=\"mean\")\n",
    "    df[\"h1\"] = h1(df)\n",
    "    df[\"l1\"] = l1(df)\n",
    "    df[\"o1\"] = o1(df)\n",
    "    df[\"c1\"] = c1(df)\n",
    "    df[\"o2\"] = ochl2(df, p=\"O\")\n",
    "    df[\"h2\"] = ochl2(df, p=\"H\")\n",
    "    df[\"l2\"] = ochl2(df, p=\"L\")\n",
    "    df[\"c2\"] = ochl2(df, p=\"C\")\n",
    "    df[\"o3\"] = o3(df)\n",
    "    df[\"c3\"] = c3(df)\n",
    "    \n",
    "    \n",
    "    df[\"doji\"] = doji(df)\n",
    "    df[\"o_marubozu\"] = o_marubozu(df)\n",
    "    df[\"gravestone\"] = gravestone(df)\n",
    "    df[\"dragonfly_doji\"] = dragonfly_doji(df)\n",
    "    df[\"hammer\"] = hammer(df)\n",
    "    df[\"c_marubozu\"] = c_marubozu(df)\n",
    "    df[\"bear_engulfing\"] = bear_engulfing(df)\n",
    "    df[\"bull_engulfing\"] = bull_engulfing(df)\n",
    "    df[\"tweezer_bottom\"] = tweezer_bottom(df)\n",
    "    df[\"tweezer_top\"] = tweezer_top(df)\n",
    "    df[\"morning_star\"] = morning_star(df)\n",
    "    df[\"evening_star\"] = evening_star(df)\n",
    "    df[\"three_inside_up\"] = three_inside_up(df)\n",
    "    df[\"three_inside_down\"] = three_inside_down(df)\n",
    "    df[\"three_black_crows\"] = three_black_crows(df)\n",
    "    df[\"three_white_soldiers\"] = three_white_soldiers(df)\n",
    "    return df    \n",
    "    \n",
    "   "
   ]
  },
  {
   "cell_type": "code",
   "execution_count": null,
   "metadata": {},
   "outputs": [],
   "source": [
    "git add one_candle.ipynb\n",
    "   git commit -m\"Finished with candle patterns\"\n",
    "   git push origin master\n",
    "    "
   ]
  },
  {
   "cell_type": "code",
   "execution_count": 44,
   "metadata": {},
   "outputs": [
    {
     "name": "stdout",
     "output_type": "stream",
     "text": [
      "[*********************100%%**********************]  1 of 1 completed\n"
     ]
    }
   ],
   "source": [
    "import yfinance as yf\n",
    "\n",
    "data = yf.download(\"AAPL\")\n"
   ]
  },
  {
   "cell_type": "code",
   "execution_count": 91,
   "metadata": {},
   "outputs": [
    {
     "data": {
      "text/plain": [
       "0         0.000000\n",
       "1         0.000000\n",
       "2         0.000000\n",
       "3         0.000000\n",
       "4         0.000000\n",
       "           ...    \n",
       "10767    85.555562\n",
       "10768    93.568741\n",
       "10769    23.780459\n",
       "10770    71.951730\n",
       "10771    88.185681\n",
       "Length: 10772, dtype: float64"
      ]
     },
     "execution_count": 91,
     "metadata": {},
     "output_type": "execute_result"
    }
   ],
   "source": [
    "stoc1(df)"
   ]
  },
  {
   "cell_type": "code",
   "execution_count": 90,
   "metadata": {},
   "outputs": [],
   "source": [
    "def ochl(df):\n",
    "    df = df.iloc[:,:4]\n",
    "    df = df.reset_index()\n",
    "    df.columns = [\"date\", \"open\", \"high\", \"low\", \"close\"]\n",
    "    return df[\"open\"], df[\"close\"], df[\"high\"], df[\"low\"]\n"
   ]
  },
  {
   "cell_type": "code",
   "execution_count": 64,
   "metadata": {},
   "outputs": [],
   "source": [
    "def dochl(df):\n",
    "    df = df.iloc[:,:4]\n",
    "    df = df.reset_index()\n",
    "    df.columns = [\"date\", \"open\", \"high\", \"low\", \"close\"]\n",
    "    return df\n",
    "dat = dochl(data)"
   ]
  },
  {
   "cell_type": "code",
   "execution_count": 66,
   "metadata": {},
   "outputs": [],
   "source": [
    "df = dochl(df)\n",
    "O, C, H, L = ochl(df)"
   ]
  },
  {
   "cell_type": "code",
   "execution_count": 68,
   "metadata": {},
   "outputs": [
    {
     "data": {
      "text/plain": [
       "0    2020-05-04\n",
       "1    2020-05-05\n",
       "2    2020-05-06\n",
       "3    2020-05-07\n",
       "4    2020-05-08\n",
       "        ...    \n",
       "61   2020-07-30\n",
       "62   2020-07-31\n",
       "63   2020-08-03\n",
       "64   2020-08-04\n",
       "65   2020-08-05\n",
       "Name: open, Length: 66, dtype: datetime64[ns]"
      ]
     },
     "execution_count": 68,
     "metadata": {},
     "output_type": "execute_result"
    }
   ],
   "source": [
    "O"
   ]
  },
  {
   "cell_type": "code",
   "execution_count": 63,
   "metadata": {},
   "outputs": [
    {
     "data": {
      "text/html": [
       "<div>\n",
       "<style scoped>\n",
       "    .dataframe tbody tr th:only-of-type {\n",
       "        vertical-align: middle;\n",
       "    }\n",
       "\n",
       "    .dataframe tbody tr th {\n",
       "        vertical-align: top;\n",
       "    }\n",
       "\n",
       "    .dataframe thead th {\n",
       "        text-align: right;\n",
       "    }\n",
       "</style>\n",
       "<table border=\"1\" class=\"dataframe\">\n",
       "  <thead>\n",
       "    <tr style=\"text-align: right;\">\n",
       "      <th></th>\n",
       "      <th>Open</th>\n",
       "      <th>High</th>\n",
       "      <th>Low</th>\n",
       "      <th>Close</th>\n",
       "      <th>Adj Close</th>\n",
       "      <th>Volume</th>\n",
       "      <th>stoc1</th>\n",
       "    </tr>\n",
       "    <tr>\n",
       "      <th>Date</th>\n",
       "      <th></th>\n",
       "      <th></th>\n",
       "      <th></th>\n",
       "      <th></th>\n",
       "      <th></th>\n",
       "      <th></th>\n",
       "      <th></th>\n",
       "    </tr>\n",
       "  </thead>\n",
       "  <tbody>\n",
       "    <tr>\n",
       "      <th>2020-05-04</th>\n",
       "      <td>72.292503</td>\n",
       "      <td>73.422501</td>\n",
       "      <td>71.580002</td>\n",
       "      <td>73.290001</td>\n",
       "      <td>71.665215</td>\n",
       "      <td>133568000</td>\n",
       "      <td>NaN</td>\n",
       "    </tr>\n",
       "    <tr>\n",
       "      <th>2020-05-05</th>\n",
       "      <td>73.764999</td>\n",
       "      <td>75.250000</td>\n",
       "      <td>73.614998</td>\n",
       "      <td>74.389999</td>\n",
       "      <td>72.740829</td>\n",
       "      <td>147751200</td>\n",
       "      <td>NaN</td>\n",
       "    </tr>\n",
       "    <tr>\n",
       "      <th>2020-05-06</th>\n",
       "      <td>75.114998</td>\n",
       "      <td>75.809998</td>\n",
       "      <td>74.717499</td>\n",
       "      <td>75.157501</td>\n",
       "      <td>73.491318</td>\n",
       "      <td>142333600</td>\n",
       "      <td>NaN</td>\n",
       "    </tr>\n",
       "    <tr>\n",
       "      <th>2020-05-07</th>\n",
       "      <td>75.805000</td>\n",
       "      <td>76.292503</td>\n",
       "      <td>75.492500</td>\n",
       "      <td>75.934998</td>\n",
       "      <td>74.251579</td>\n",
       "      <td>115215200</td>\n",
       "      <td>NaN</td>\n",
       "    </tr>\n",
       "    <tr>\n",
       "      <th>2020-05-08</th>\n",
       "      <td>76.410004</td>\n",
       "      <td>77.587502</td>\n",
       "      <td>76.072502</td>\n",
       "      <td>77.532501</td>\n",
       "      <td>76.018890</td>\n",
       "      <td>133838400</td>\n",
       "      <td>NaN</td>\n",
       "    </tr>\n",
       "    <tr>\n",
       "      <th>...</th>\n",
       "      <td>...</td>\n",
       "      <td>...</td>\n",
       "      <td>...</td>\n",
       "      <td>...</td>\n",
       "      <td>...</td>\n",
       "      <td>...</td>\n",
       "      <td>...</td>\n",
       "    </tr>\n",
       "    <tr>\n",
       "      <th>2020-07-30</th>\n",
       "      <td>94.187500</td>\n",
       "      <td>96.297501</td>\n",
       "      <td>93.767502</td>\n",
       "      <td>96.190002</td>\n",
       "      <td>94.312149</td>\n",
       "      <td>158130000</td>\n",
       "      <td>NaN</td>\n",
       "    </tr>\n",
       "    <tr>\n",
       "      <th>2020-07-31</th>\n",
       "      <td>102.885002</td>\n",
       "      <td>106.415001</td>\n",
       "      <td>100.824997</td>\n",
       "      <td>106.260002</td>\n",
       "      <td>104.185570</td>\n",
       "      <td>374336800</td>\n",
       "      <td>NaN</td>\n",
       "    </tr>\n",
       "    <tr>\n",
       "      <th>2020-08-03</th>\n",
       "      <td>108.199997</td>\n",
       "      <td>111.637497</td>\n",
       "      <td>107.892502</td>\n",
       "      <td>108.937500</td>\n",
       "      <td>106.810791</td>\n",
       "      <td>308151200</td>\n",
       "      <td>NaN</td>\n",
       "    </tr>\n",
       "    <tr>\n",
       "      <th>2020-08-04</th>\n",
       "      <td>109.132500</td>\n",
       "      <td>110.790001</td>\n",
       "      <td>108.387497</td>\n",
       "      <td>109.665001</td>\n",
       "      <td>107.524086</td>\n",
       "      <td>173071600</td>\n",
       "      <td>NaN</td>\n",
       "    </tr>\n",
       "    <tr>\n",
       "      <th>2020-08-05</th>\n",
       "      <td>109.377502</td>\n",
       "      <td>110.392502</td>\n",
       "      <td>108.897499</td>\n",
       "      <td>110.062500</td>\n",
       "      <td>107.913857</td>\n",
       "      <td>121776800</td>\n",
       "      <td>NaN</td>\n",
       "    </tr>\n",
       "  </tbody>\n",
       "</table>\n",
       "<p>66 rows × 7 columns</p>\n",
       "</div>"
      ],
      "text/plain": [
       "                  Open        High         Low       Close   Adj Close  \\\n",
       "Date                                                                     \n",
       "2020-05-04   72.292503   73.422501   71.580002   73.290001   71.665215   \n",
       "2020-05-05   73.764999   75.250000   73.614998   74.389999   72.740829   \n",
       "2020-05-06   75.114998   75.809998   74.717499   75.157501   73.491318   \n",
       "2020-05-07   75.805000   76.292503   75.492500   75.934998   74.251579   \n",
       "2020-05-08   76.410004   77.587502   76.072502   77.532501   76.018890   \n",
       "...                ...         ...         ...         ...         ...   \n",
       "2020-07-30   94.187500   96.297501   93.767502   96.190002   94.312149   \n",
       "2020-07-31  102.885002  106.415001  100.824997  106.260002  104.185570   \n",
       "2020-08-03  108.199997  111.637497  107.892502  108.937500  106.810791   \n",
       "2020-08-04  109.132500  110.790001  108.387497  109.665001  107.524086   \n",
       "2020-08-05  109.377502  110.392502  108.897499  110.062500  107.913857   \n",
       "\n",
       "               Volume  stoc1  \n",
       "Date                          \n",
       "2020-05-04  133568000    NaN  \n",
       "2020-05-05  147751200    NaN  \n",
       "2020-05-06  142333600    NaN  \n",
       "2020-05-07  115215200    NaN  \n",
       "2020-05-08  133838400    NaN  \n",
       "...               ...    ...  \n",
       "2020-07-30  158130000    NaN  \n",
       "2020-07-31  374336800    NaN  \n",
       "2020-08-03  308151200    NaN  \n",
       "2020-08-04  173071600    NaN  \n",
       "2020-08-05  121776800    NaN  \n",
       "\n",
       "[66 rows x 7 columns]"
      ]
     },
     "execution_count": 63,
     "metadata": {},
     "output_type": "execute_result"
    }
   ],
   "source": [
    "df"
   ]
  },
  {
   "cell_type": "code",
   "execution_count": 110,
   "metadata": {},
   "outputs": [],
   "source": [
    "data = data.reset_index()"
   ]
  },
  {
   "cell_type": "code",
   "execution_count": 111,
   "metadata": {},
   "outputs": [],
   "source": [
    "can = one_candle(data)\n"
   ]
  },
  {
   "cell_type": "code",
   "execution_count": 112,
   "metadata": {},
   "outputs": [
    {
     "data": {
      "text/plain": [
       "28      1981-01-23\n",
       "104     1981-05-13\n",
       "129     1981-06-18\n",
       "252     1981-12-11\n",
       "334     1982-04-12\n",
       "           ...    \n",
       "9014    2016-09-09\n",
       "9197    2017-06-02\n",
       "9400    2018-03-23\n",
       "9873    2020-02-10\n",
       "10568   2022-11-10\n",
       "Name: date, Length: 198, dtype: datetime64[ns]"
      ]
     },
     "execution_count": 112,
     "metadata": {},
     "output_type": "execute_result"
    }
   ],
   "source": [
    "can[can[\"c_marubozu\"]][\"date\"]"
   ]
  },
  {
   "cell_type": "code",
   "execution_count": 28,
   "metadata": {},
   "outputs": [],
   "source": [
    "def bear_engulfing(df):\n",
    "    O, C, H, L = ochl(df)\n",
    "    return (df[\"o1\"] > df[\"c1\"]) & (10 * (C - O) >= 7 * (H - L)) & (C > df[\"o1\"])& (df[\"c1\"] > O) & (10 * (H - L) >= 12 * (df[\"AVGH10\"] - df[\"AVGL10\"]))"
   ]
  },
  {
   "cell_type": "code",
   "execution_count": 31,
   "metadata": {},
   "outputs": [],
   "source": [
    "def bull_engulfing(df):\n",
    "    O, C, H, L = ochl(df)\n",
    "    return (df[\"o1\"] > df[\"c1\"]) & (10 * (C - O) >= 7 * (H - L)) & (C > df[\"o1\"]) & (df[\"c1\"] > O) & (10 * (H - L) >= 12 * (df[\"AVGH10\"] - df[\"AVGL10\"]))"
   ]
  },
  {
   "cell_type": "code",
   "execution_count": 40,
   "metadata": {},
   "outputs": [],
   "source": [
    "def tweezer_bottom(df):\n",
    "    O, C, H, L = ochl(df)\n",
    "    return (L == df[\"l1\"]) & (5 * abs(C - O) < abs(df[\"c1\"] - df[\"o1\"])) & (10 * abs(df[\"c1\"] - df[\"o1\"]) >= 9 * (df[\"h1\"] - df[\"l1\"])) & (10 * (df[\"h1\"] - df[\"l1\"]) >= 13 * (df[\"AVGH20\"] - df[\"AVGL20\"]))"
   ]
  },
  {
   "cell_type": "code",
   "execution_count": 39,
   "metadata": {},
   "outputs": [],
   "source": [
    "def tweezer_top(df):\n",
    "    O, C, H, L = ochl(df)\n",
    "    return (H == df[\"h1\"]) & (abs(C - O) < .2 * abs(df[\"c1\"] - df[\"o1\"])) & (abs(df[\"c1\"] - df[\"o1\"]) >= .9 * (df[\"h1\"] - df[\"l1\"])) & (df[\"h1\"] - df[\"l1\"] >= 1.3 * (df[\"AVGH20\"] - df[\"AVGL20\"]))\n"
   ]
  },
  {
   "cell_type": "code",
   "execution_count": 48,
   "metadata": {},
   "outputs": [],
   "source": [
    "def morning_star(df):\n",
    "    O, C, H, L = ochl(df)\n",
    "    return (df[\"o2\"] > df[\"c2\"]) & (5 * (df[\"o2\"] - df[\"c2\"]) > 3 * (df[\"h2\"] - df[\"l2\"])) & (df[\"c2\"] > df[\"o1\"]) & (2 * abs(df[\"o1\"] - df[\"c1\"]) < abs(df[\"o2\"] - df[\"c2\"])) & (df[\"h1\"] - df[\"l1\"] > 3 * (df[\"c1\"] - df[\"o1\"])) & (C > O) & (O > df[\"o1\"]) & (O > df[\"c1\"])\n",
    "\n"
   ]
  },
  {
   "cell_type": "code",
   "execution_count": 53,
   "metadata": {},
   "outputs": [],
   "source": [
    "\n",
    "def evening_star(df):\n",
    "    O, C, H, L = ochl(df)\n",
    "    return (df[\"c2\"] - df[\"o2\"] >= .7 * (df[\"h2\"] - df[\"l2\"])) & (df[\"h2\"] - df[\"l2\"] >= df[\"AVGH10.2\"] - df[\"AVGL10.2\"]) & (df[\"c1\"] > df[\"c2\"]) & (df[\"o1\"] > df[\"c2\"]) & (H - L >= df[\"AVGH10\"] - df[\"AVGL10\"]) & (O - C >= .7 * (H - L)) & (O < df[\"o1\"]) & (O < df[\"c1\"])\n"
   ]
  },
  {
   "cell_type": "code",
   "execution_count": 58,
   "metadata": {},
   "outputs": [],
   "source": [
    "def three_inside_up(df):\n",
    "    O, C, H, L = ochl(df)\n",
    "    return (10 * (df[\"o2\"] - df[\"c2\"]) >= 7 * (df[\"h2\"] - df[\"l2\"])) & ((df[\"h2\"] - df[\"l2\"]) >= df[\"AVGH10.2\"] - df[\"AVGL10.2\"]) & (df[\"c1\"] > df[\"o1\"]) & (df[\"o1\"] > df[\"c2\"]) & (df[\"c1\"] < df[\"o2\"]) & (5 * (df[\"c1\"] - df[\"o1\"]) <= 3 * (df[\"o2\"] - df[\"c2\"])) & (O > df[\"o1\"]) & (O < df[\"c1\"]) & (C > df[\"c1\"]) & (10 * (C - O) >= 7 * (H - L))"
   ]
  },
  {
   "cell_type": "code",
   "execution_count": 60,
   "metadata": {},
   "outputs": [],
   "source": [
    "\n",
    "def three_inside_down(df):\n",
    "    O, C, H, L = ochl(df)\n",
    "    return (abs(df[\"c2\"] - df[\"o2\"]) > .5 * (df[\"h1\"] - df[\"l1\"])) & (df[\"c2\"] > df[\"o2\"]) & (df[\"c1\"] < df[\"o1\"]) & (df[\"h1\"] < df[\"c2\"]) & (df[\"l1\"] > df[\"o2\"]) & (C < O) & (C < df[\"c1\"])\n"
   ]
  },
  {
   "cell_type": "code",
   "execution_count": 63,
   "metadata": {},
   "outputs": [],
   "source": [
    "def three_black_crows(df):\n",
    "    O, C, H, L = ochl(df)\n",
    "    return (df[\"o1\"] < df[\"o2\"]) & (df[\"o1\"] > df[\"c2\"]) & (O < df[\"o1\"]) & (O > df[\"c1\"]) & (df[\"c1\"] < df[\"l2\"]) & (C < df[\"l1\"]) & (df[\"c2\"] < 1.05 * df[\"l2\"]) & (df[\"c1\"] < 1.05 * df[\"l1\"]) & (C < 1.05 * L)"
   ]
  },
  {
   "cell_type": "code",
   "execution_count": 75,
   "metadata": {},
   "outputs": [],
   "source": [
    "def three_white_soldiers(df):\n",
    "    O, C, H, L = ochl(df)\n",
    "    return (C > df[\"c1\"]) & (df[\"c1\"] > df[\"c2\"]) & (C > O) & (df[\"c1\"] > df[\"o1\"]) & (df[\"c2\"] > df[\"o2\"]) & (2 * abs(df[\"c2\"] - df[\"o2\"]) > df[\"h2\"] - df[\"l2\"]) & (2 * abs(df[\"c1\"] - df[\"o1\"]) > df[\"h1\"] - df[\"l1\"]) & (H - L > df[\"AVGH20\"] - df[\"AVGL20\"]) & (O > df[\"o1\"]) & (O < df[\"c1\"]) & (df[\"o1\"] > df[\"o2\"]) & (df[\"o1\"] < df[\"c2\"]) & (df[\"o2\"] > df[\"o3\"]) & (df[\"o2\"] < df[\"c3\"]) & (20 * C > 17 * H) & (20 * df[\"c1\"] > 17 * df[\"h1\"]) & (20 * df[\"c2\"] > 17 * df[\"h2\"])"
   ]
  },
  {
   "cell_type": "code",
   "execution_count": 77,
   "metadata": {},
   "outputs": [
    {
     "name": "stdout",
     "output_type": "stream",
     "text": [
      "[*********************100%%**********************]  1 of 1 completed\n"
     ]
    }
   ],
   "source": [
    "df = yf.download(\"AAPL\", start=\"2020-05-03\", end=\"2020-08-06\")"
   ]
  },
  {
   "cell_type": "code",
   "execution_count": 78,
   "metadata": {},
   "outputs": [],
   "source": [
    "df = df.iloc[:,:4]"
   ]
  },
  {
   "cell_type": "code",
   "execution_count": null,
   "metadata": {},
   "outputs": [],
   "source": []
  },
  {
   "cell_type": "code",
   "execution_count": 80,
   "metadata": {},
   "outputs": [
    {
     "data": {
      "text/plain": [
       "0      72.292503\n",
       "1      73.764999\n",
       "2      75.114998\n",
       "3      75.805000\n",
       "4      76.410004\n",
       "         ...    \n",
       "61     94.187500\n",
       "62    102.885002\n",
       "63    108.199997\n",
       "64    109.132500\n",
       "65    109.377502\n",
       "Name: open, Length: 66, dtype: float64"
      ]
     },
     "execution_count": 80,
     "metadata": {},
     "output_type": "execute_result"
    }
   ],
   "source": [
    "df[\"open\"]"
   ]
  },
  {
   "cell_type": "code",
   "execution_count": 79,
   "metadata": {},
   "outputs": [
    {
     "data": {
      "text/html": [
       "<div>\n",
       "<style scoped>\n",
       "    .dataframe tbody tr th:only-of-type {\n",
       "        vertical-align: middle;\n",
       "    }\n",
       "\n",
       "    .dataframe tbody tr th {\n",
       "        vertical-align: top;\n",
       "    }\n",
       "\n",
       "    .dataframe thead th {\n",
       "        text-align: right;\n",
       "    }\n",
       "</style>\n",
       "<table border=\"1\" class=\"dataframe\">\n",
       "  <thead>\n",
       "    <tr style=\"text-align: right;\">\n",
       "      <th></th>\n",
       "      <th>date</th>\n",
       "      <th>open</th>\n",
       "      <th>high</th>\n",
       "      <th>low</th>\n",
       "      <th>close</th>\n",
       "    </tr>\n",
       "  </thead>\n",
       "  <tbody>\n",
       "    <tr>\n",
       "      <th>0</th>\n",
       "      <td>2020-05-04</td>\n",
       "      <td>72.292503</td>\n",
       "      <td>73.422501</td>\n",
       "      <td>71.580002</td>\n",
       "      <td>73.290001</td>\n",
       "    </tr>\n",
       "    <tr>\n",
       "      <th>1</th>\n",
       "      <td>2020-05-05</td>\n",
       "      <td>73.764999</td>\n",
       "      <td>75.250000</td>\n",
       "      <td>73.614998</td>\n",
       "      <td>74.389999</td>\n",
       "    </tr>\n",
       "    <tr>\n",
       "      <th>2</th>\n",
       "      <td>2020-05-06</td>\n",
       "      <td>75.114998</td>\n",
       "      <td>75.809998</td>\n",
       "      <td>74.717499</td>\n",
       "      <td>75.157501</td>\n",
       "    </tr>\n",
       "    <tr>\n",
       "      <th>3</th>\n",
       "      <td>2020-05-07</td>\n",
       "      <td>75.805000</td>\n",
       "      <td>76.292503</td>\n",
       "      <td>75.492500</td>\n",
       "      <td>75.934998</td>\n",
       "    </tr>\n",
       "    <tr>\n",
       "      <th>4</th>\n",
       "      <td>2020-05-08</td>\n",
       "      <td>76.410004</td>\n",
       "      <td>77.587502</td>\n",
       "      <td>76.072502</td>\n",
       "      <td>77.532501</td>\n",
       "    </tr>\n",
       "    <tr>\n",
       "      <th>...</th>\n",
       "      <td>...</td>\n",
       "      <td>...</td>\n",
       "      <td>...</td>\n",
       "      <td>...</td>\n",
       "      <td>...</td>\n",
       "    </tr>\n",
       "    <tr>\n",
       "      <th>61</th>\n",
       "      <td>2020-07-30</td>\n",
       "      <td>94.187500</td>\n",
       "      <td>96.297501</td>\n",
       "      <td>93.767502</td>\n",
       "      <td>96.190002</td>\n",
       "    </tr>\n",
       "    <tr>\n",
       "      <th>62</th>\n",
       "      <td>2020-07-31</td>\n",
       "      <td>102.885002</td>\n",
       "      <td>106.415001</td>\n",
       "      <td>100.824997</td>\n",
       "      <td>106.260002</td>\n",
       "    </tr>\n",
       "    <tr>\n",
       "      <th>63</th>\n",
       "      <td>2020-08-03</td>\n",
       "      <td>108.199997</td>\n",
       "      <td>111.637497</td>\n",
       "      <td>107.892502</td>\n",
       "      <td>108.937500</td>\n",
       "    </tr>\n",
       "    <tr>\n",
       "      <th>64</th>\n",
       "      <td>2020-08-04</td>\n",
       "      <td>109.132500</td>\n",
       "      <td>110.790001</td>\n",
       "      <td>108.387497</td>\n",
       "      <td>109.665001</td>\n",
       "    </tr>\n",
       "    <tr>\n",
       "      <th>65</th>\n",
       "      <td>2020-08-05</td>\n",
       "      <td>109.377502</td>\n",
       "      <td>110.392502</td>\n",
       "      <td>108.897499</td>\n",
       "      <td>110.062500</td>\n",
       "    </tr>\n",
       "  </tbody>\n",
       "</table>\n",
       "<p>66 rows × 5 columns</p>\n",
       "</div>"
      ],
      "text/plain": [
       "         date        open        high         low       close\n",
       "0  2020-05-04   72.292503   73.422501   71.580002   73.290001\n",
       "1  2020-05-05   73.764999   75.250000   73.614998   74.389999\n",
       "2  2020-05-06   75.114998   75.809998   74.717499   75.157501\n",
       "3  2020-05-07   75.805000   76.292503   75.492500   75.934998\n",
       "4  2020-05-08   76.410004   77.587502   76.072502   77.532501\n",
       "..        ...         ...         ...         ...         ...\n",
       "61 2020-07-30   94.187500   96.297501   93.767502   96.190002\n",
       "62 2020-07-31  102.885002  106.415001  100.824997  106.260002\n",
       "63 2020-08-03  108.199997  111.637497  107.892502  108.937500\n",
       "64 2020-08-04  109.132500  110.790001  108.387497  109.665001\n",
       "65 2020-08-05  109.377502  110.392502  108.897499  110.062500\n",
       "\n",
       "[66 rows x 5 columns]"
      ]
     },
     "execution_count": 79,
     "metadata": {},
     "output_type": "execute_result"
    }
   ],
   "source": [
    "df = df.reset_index()\n",
    "df.columns = [\"date\", \"open\", \"high\", \"low\", \"close\"]\n",
    "df"
   ]
  },
  {
   "cell_type": "code",
   "execution_count": 59,
   "metadata": {},
   "outputs": [],
   "source": [
    "def stoc1(df):\n",
    "    O, C, H, L = ochl(df)\n",
    "    return ((C-L)/(H-L))*100"
   ]
  },
  {
   "cell_type": "code",
   "execution_count": 83,
   "metadata": {},
   "outputs": [
    {
     "data": {
      "text/plain": [
       "0     92.808696\n",
       "1     47.400643\n",
       "2     40.274868\n",
       "3     55.311946\n",
       "4     96.369615\n",
       "        ...    \n",
       "61    95.751058\n",
       "62    97.227215\n",
       "63    27.903859\n",
       "64    53.173855\n",
       "65    77.926339\n",
       "Name: stoc1, Length: 66, dtype: float64"
      ]
     },
     "execution_count": 83,
     "metadata": {},
     "output_type": "execute_result"
    }
   ],
   "source": [
    "df[\"stoc1\"]"
   ]
  },
  {
   "cell_type": "code",
   "execution_count": 82,
   "metadata": {},
   "outputs": [],
   "source": [
    "\n",
    "df[\"stoc1\"] = stoc1(df)"
   ]
  },
  {
   "cell_type": "code",
   "execution_count": 53,
   "metadata": {},
   "outputs": [],
   "source": [
    "def min_av(df, p, entr = [\"C\", \"H\", \"L\", \"rest\"], func=[\"mean\",\"min\"]):\n",
    "    O, C, H, L = ochl(df)\n",
    "    rest = abs(O-C)\n",
    "    if entr == \"C\" : windows = C.rolling(p)\n",
    "    if entr == \"L\" : windows = L.rolling(p)\n",
    "    if entr == \"H\" : windows = H.rolling(p)\n",
    "    if entr == \"O\" : windows = O.rolling(p)\n",
    "    if entr == \"rest\" : windows = rest.rolling(p)   \n",
    "    if func == \"mean\": moving_averages = windows.mean()   \n",
    "    if func == \"min\": moving_averages = windows.min()   \n",
    "    moving_averages_list = moving_averages.tolist()\n",
    "    final_list = moving_averages_list[p - 1:]\n",
    "    rest = df.shape[0]-len(final_list)\n",
    "    \n",
    "    \n",
    "        \n",
    "    for i in range(round(rest)):\n",
    "        \n",
    "        final_list = [final_list[0]] + final_list\n",
    "\n",
    "        \n",
    "    return pd.Series(final_list)"
   ]
  },
  {
   "cell_type": "code",
   "execution_count": 92,
   "metadata": {},
   "outputs": [
    {
     "data": {
      "text/plain": [
       "0          0.139644\n",
       "1          0.139644\n",
       "2          0.139644\n",
       "3          0.139644\n",
       "4          0.139644\n",
       "            ...    \n",
       "10767    182.913794\n",
       "10768    182.646208\n",
       "10769    182.516898\n",
       "10770    182.380001\n",
       "10771    182.196898\n",
       "Length: 10772, dtype: float64"
      ]
     },
     "execution_count": 92,
     "metadata": {},
     "output_type": "execute_result"
    }
   ],
   "source": [
    "min_av(df, 29, entr = \"L\", func=\"mean\")"
   ]
  },
  {
   "cell_type": "code",
   "execution_count": 105,
   "metadata": {},
   "outputs": [
    {
     "data": {
      "text/plain": [
       "0      126.468001\n",
       "1      126.468001\n",
       "2      126.468001\n",
       "3      126.468001\n",
       "4      126.468001\n",
       "          ...    \n",
       "503    126.795499\n",
       "504    126.795499\n",
       "505    126.795499\n",
       "506    126.795499\n",
       "507    126.795499\n",
       "Length: 508, dtype: float64"
      ]
     },
     "execution_count": 105,
     "metadata": {},
     "output_type": "execute_result"
    }
   ],
   "source": [
    "min_avg(df, 20, entr = \"L\", func=\"mean\")"
   ]
  },
  {
   "cell_type": "code",
   "execution_count": 12,
   "metadata": {},
   "outputs": [],
   "source": [
    "def min_avg(df, p, entr = [\"C\", \"H\", \"L\", \"rest\"], func=[\"mean\",\"min\"]):\n",
    "    O, C, H, L = ochl(df)\n",
    "    rest = abs(O-C)\n",
    "    if entr == \"C\" : windows = C.rolling(p)\n",
    "    if entr == \"L\" : windows = L.rolling(p)\n",
    "    if entr == \"H\" : windows = H.rolling(p)\n",
    "    if entr == \"O\" : windows = O.rolling(p)\n",
    "    if entr == \"rest\" : windows = rest.rolling(p)   \n",
    "    if func == \"mean\": moving_averages = windows.mean()   \n",
    "    if func == \"min\": moving_averages = windows.min()   \n",
    "    moving_averages_list = moving_averages.tolist()\n",
    "    final_list = moving_averages_list[p - 1:]\n",
    "    rest = df.shape[0]-len(final_list)\n",
    "    \n",
    "    if rest%2 == 0:\n",
    "        \n",
    "        for i in range(round(rest/2)):\n",
    "            final_list.append(final_list[-1])\n",
    "            final_list = [final_list[0]] + final_list\n",
    "    else:\n",
    "        \n",
    "        for i in range(round(rest/2)+1):\n",
    "            final_list.append(final_list[-1])\n",
    "            if i>0:\n",
    "                final_list = [final_list[0]] + final_list\n",
    "\n",
    "        \n",
    "    return pd.Series(final_list)"
   ]
  },
  {
   "cell_type": "code",
   "execution_count": 1,
   "metadata": {},
   "outputs": [],
   "source": [
    "import plotly.graph_objects as go\n",
    "\n",
    "import pandas as pd\n",
    "from datetime import datetime\n",
    "\n",
    "df = pd.read_csv('https://raw.githubusercontent.com/plotly/datasets/master/finance-charts-apple.csv')\n"
   ]
  },
  {
   "cell_type": "code",
   "execution_count": null,
   "metadata": {},
   "outputs": [],
   "source": [
    "import yfinance as yf\n"
   ]
  },
  {
   "cell_type": "code",
   "execution_count": 12,
   "metadata": {},
   "outputs": [
    {
     "data": {
      "text/html": [
       "<div>\n",
       "<style scoped>\n",
       "    .dataframe tbody tr th:only-of-type {\n",
       "        vertical-align: middle;\n",
       "    }\n",
       "\n",
       "    .dataframe tbody tr th {\n",
       "        vertical-align: top;\n",
       "    }\n",
       "\n",
       "    .dataframe thead th {\n",
       "        text-align: right;\n",
       "    }\n",
       "</style>\n",
       "<table border=\"1\" class=\"dataframe\">\n",
       "  <thead>\n",
       "    <tr style=\"text-align: right;\">\n",
       "      <th></th>\n",
       "      <th>AAPL.Open</th>\n",
       "      <th>AAPL.High</th>\n",
       "      <th>AAPL.Low</th>\n",
       "      <th>AAPL.Close</th>\n",
       "    </tr>\n",
       "  </thead>\n",
       "  <tbody>\n",
       "    <tr>\n",
       "      <th>0</th>\n",
       "      <td>127.489998</td>\n",
       "      <td>128.880005</td>\n",
       "      <td>126.919998</td>\n",
       "      <td>127.830002</td>\n",
       "    </tr>\n",
       "    <tr>\n",
       "      <th>1</th>\n",
       "      <td>127.629997</td>\n",
       "      <td>128.779999</td>\n",
       "      <td>127.449997</td>\n",
       "      <td>128.720001</td>\n",
       "    </tr>\n",
       "    <tr>\n",
       "      <th>2</th>\n",
       "      <td>128.479996</td>\n",
       "      <td>129.029999</td>\n",
       "      <td>128.330002</td>\n",
       "      <td>128.449997</td>\n",
       "    </tr>\n",
       "    <tr>\n",
       "      <th>3</th>\n",
       "      <td>128.619995</td>\n",
       "      <td>129.500000</td>\n",
       "      <td>128.050003</td>\n",
       "      <td>129.500000</td>\n",
       "    </tr>\n",
       "    <tr>\n",
       "      <th>4</th>\n",
       "      <td>130.020004</td>\n",
       "      <td>133.000000</td>\n",
       "      <td>129.660004</td>\n",
       "      <td>133.000000</td>\n",
       "    </tr>\n",
       "    <tr>\n",
       "      <th>...</th>\n",
       "      <td>...</td>\n",
       "      <td>...</td>\n",
       "      <td>...</td>\n",
       "      <td>...</td>\n",
       "    </tr>\n",
       "    <tr>\n",
       "      <th>501</th>\n",
       "      <td>132.460007</td>\n",
       "      <td>132.940002</td>\n",
       "      <td>132.050003</td>\n",
       "      <td>132.119995</td>\n",
       "    </tr>\n",
       "    <tr>\n",
       "      <th>502</th>\n",
       "      <td>133.080002</td>\n",
       "      <td>133.820007</td>\n",
       "      <td>132.750000</td>\n",
       "      <td>133.289993</td>\n",
       "    </tr>\n",
       "    <tr>\n",
       "      <th>503</th>\n",
       "      <td>133.470001</td>\n",
       "      <td>135.089996</td>\n",
       "      <td>133.250000</td>\n",
       "      <td>135.020004</td>\n",
       "    </tr>\n",
       "    <tr>\n",
       "      <th>504</th>\n",
       "      <td>135.520004</td>\n",
       "      <td>136.270004</td>\n",
       "      <td>134.619995</td>\n",
       "      <td>135.509995</td>\n",
       "    </tr>\n",
       "    <tr>\n",
       "      <th>505</th>\n",
       "      <td>135.669998</td>\n",
       "      <td>135.899994</td>\n",
       "      <td>134.839996</td>\n",
       "      <td>135.350006</td>\n",
       "    </tr>\n",
       "  </tbody>\n",
       "</table>\n",
       "<p>506 rows × 4 columns</p>\n",
       "</div>"
      ],
      "text/plain": [
       "      AAPL.Open   AAPL.High    AAPL.Low  AAPL.Close\n",
       "0    127.489998  128.880005  126.919998  127.830002\n",
       "1    127.629997  128.779999  127.449997  128.720001\n",
       "2    128.479996  129.029999  128.330002  128.449997\n",
       "3    128.619995  129.500000  128.050003  129.500000\n",
       "4    130.020004  133.000000  129.660004  133.000000\n",
       "..          ...         ...         ...         ...\n",
       "501  132.460007  132.940002  132.050003  132.119995\n",
       "502  133.080002  133.820007  132.750000  133.289993\n",
       "503  133.470001  135.089996  133.250000  135.020004\n",
       "504  135.520004  136.270004  134.619995  135.509995\n",
       "505  135.669998  135.899994  134.839996  135.350006\n",
       "\n",
       "[506 rows x 4 columns]"
      ]
     },
     "execution_count": 12,
     "metadata": {},
     "output_type": "execute_result"
    }
   ],
   "source": [
    "df.iloc[:,1:5]"
   ]
  },
  {
   "cell_type": "code",
   "execution_count": 14,
   "metadata": {},
   "outputs": [],
   "source": [
    "def o_marubozu(df):\n",
    "    O = df[\"open\"]\n",
    "    C = df[\"close\"]\n",
    "    H = df[\"high\"]\n",
    "    L = df[\"low\"]\n",
    "    return ((L == O) | (O == H)) & (H - L > abs(O - C)) & (abs(O - C) > 3 * df[\"O-C\"] / 2)"
   ]
  },
  {
   "cell_type": "code",
   "execution_count": 15,
   "metadata": {},
   "outputs": [],
   "source": [
    "def o1(df):\n",
    "    O, C, H, L = ochl(df)\n",
    "    df = O[1:]\n",
    "    df[df.shape[0]+1] = df[df.shape[0]]\n",
    "    df = df.reset_index(drop=True)\n",
    "    return df"
   ]
  },
  {
   "cell_type": "code",
   "execution_count": 68,
   "metadata": {},
   "outputs": [],
   "source": [
    "def o3(df):\n",
    "    O, C, H, L = ochl(df)\n",
    "    df = O[3:]\n",
    "    df[df.shape[0]+1] = df[df.shape[0]]\n",
    "    df[df.shape[0]+1] = df[df.shape[0]]\n",
    "    df[df.shape[0]+1] = df[df.shape[0]]\n",
    "    df = df.reset_index(drop=True)\n",
    "    return df"
   ]
  },
  {
   "cell_type": "code",
   "execution_count": 69,
   "metadata": {},
   "outputs": [],
   "source": [
    "def c3(df):\n",
    "    O, C, H, L = ochl(df)\n",
    "    df = C[3:]\n",
    "    df[df.shape[0]+1] = df[df.shape[0]]\n",
    "    df[df.shape[0]+1] = df[df.shape[0]]\n",
    "    df[df.shape[0]+1] = df[df.shape[0]]\n",
    "    df = df.reset_index(drop=True)\n",
    "    return df"
   ]
  },
  {
   "cell_type": "code",
   "execution_count": 52,
   "metadata": {},
   "outputs": [],
   "source": [
    "def offset2(column_df):\n",
    "    df = column_df[2:]\n",
    "    df[df.shape[0]+1] = df[df.shape[0]]\n",
    "    df[df.shape[0]+1] = df[df.shape[0]]\n",
    "    df = df.reset_index(drop=True)\n",
    "    return df"
   ]
  },
  {
   "cell_type": "code",
   "execution_count": 45,
   "metadata": {},
   "outputs": [],
   "source": [
    "def ochl2(df, p=[\"C\", \"H\", \"L\", \"O\"]):\n",
    "    O, C, H, L = ochl(df)\n",
    "    if p == \"C\" : df = C[2:]\n",
    "    if p == \"H\" : df = H[2:]\n",
    "    if p == \"L\" : df = L[2:]\n",
    "    if p == \"O\" : df = O[2:]\n",
    "    df[df.shape[0]+1] = df[df.shape[0]]\n",
    "    df[df.shape[0]+1] = df[df.shape[0]]\n",
    "    df = df.reset_index(drop=True)\n",
    "    return df"
   ]
  },
  {
   "cell_type": "code",
   "execution_count": null,
   "metadata": {},
   "outputs": [],
   "source": [
    "def spinning_top(df):\n",
    "    O, C, H, L = ochl(df)\n",
    "    return (abs(C - O) / (H - L) < BodyThreshold) & (MAX(O, C) - L > ShadowThreshold) & (H - MIN(O, C) > ShadowThreshold)"
   ]
  },
  {
   "cell_type": "code",
   "execution_count": 16,
   "metadata": {},
   "outputs": [],
   "source": [
    "def c1(df):\n",
    "    O, C, H, L = ochl(df)\n",
    "    df = C[1:]\n",
    "    df[df.shape[0]+1] = df[df.shape[0]]\n",
    "    df = df.reset_index(drop=True)\n",
    "    return df"
   ]
  },
  {
   "cell_type": "code",
   "execution_count": 17,
   "metadata": {},
   "outputs": [],
   "source": [
    "def h1(df):\n",
    "    O, C, H, L = ochl(df)\n",
    "    df = H[1:]\n",
    "    df[df.shape[0]+1] = df[df.shape[0]]\n",
    "    df = df.reset_index(drop=True)\n",
    "    return df"
   ]
  },
  {
   "cell_type": "code",
   "execution_count": 18,
   "metadata": {},
   "outputs": [],
   "source": [
    "def l1(df):\n",
    "    O, C, H, L = ochl(df)\n",
    "    df = L[1:]\n",
    "    df[df.shape[0]+1] = df[df.shape[0]]\n",
    "    df = df.reset_index(drop=True)\n",
    "    return df"
   ]
  },
  {
   "cell_type": "code",
   "execution_count": 19,
   "metadata": {},
   "outputs": [],
   "source": [
    "def gravestone(df):\n",
    "    O = df[\"open\"]\n",
    "    C = df[\"close\"]\n",
    "    H = df[\"high\"]\n",
    "    L = df[\"low\"]\n",
    "    return ((100 * abs(O - C)) <= H - L) & (df[\"stoc1\"] <= 5) & (H > L) & (10 * L <= 3 * df[\"h1\"] + 7 * df[\"l1\"]) & (H - L >= df[\"AVGH10\"]-df[\"AVGL10\"])"
   ]
  },
  {
   "cell_type": "code",
   "execution_count": 20,
   "metadata": {},
   "outputs": [],
   "source": [
    "def dragonfly_doji(df):\n",
    "    O = df[\"open\"]\n",
    "    C = df[\"close\"]\n",
    "    H = df[\"high\"]\n",
    "    L = df[\"low\"]\n",
    "    return (50 * abs(O - C) <= H - L) & (df[\"stoc1\"] >= 70) & (H - L >= df[\"AVGH10\"] - df[\"AVGL10\"]) & (L == df[\"MINL10\"])"
   ]
  },
  {
   "cell_type": "code",
   "execution_count": null,
   "metadata": {},
   "outputs": [],
   "source": []
  },
  {
   "cell_type": "code",
   "execution_count": 21,
   "metadata": {},
   "outputs": [],
   "source": [
    "def hammer(df):\n",
    "    O, C, H, L = ochl(df)\n",
    "    return (5 * abs(C - O) <= H - L) & (10 * abs(O - C) >= H - L) & (2 * O >= H + L) & (df[\"stoc1\"] >= 50) & ((20 * O >= 19 * H + L) | (df[\"stoc1\"] >= 95)) & (10 * (H - L) >= 8 * (df[\"AVGH10\"] - df[\"AVGL10\"])) & (L == df[\"MINL5\"]) & (H > L)"
   ]
  },
  {
   "cell_type": "code",
   "execution_count": 22,
   "metadata": {},
   "outputs": [],
   "source": [
    "def c_marubozu(df):\n",
    "    O, C, H, L = ochl(df)\n",
    "    return ((L == C) | (C == H)) & (H - L > abs(O - C)) & (abs(O - C) > 3 * df[\"O-C\"] / 2)"
   ]
  },
  {
   "cell_type": "code",
   "execution_count": null,
   "metadata": {},
   "outputs": [],
   "source": []
  }
 ],
 "metadata": {
  "kernelspec": {
   "display_name": "lewagon",
   "language": "python",
   "name": "python3"
  },
  "language_info": {
   "codemirror_mode": {
    "name": "ipython",
    "version": 3
   },
   "file_extension": ".py",
   "mimetype": "text/x-python",
   "name": "python",
   "nbconvert_exporter": "python",
   "pygments_lexer": "ipython3",
   "version": "3.10.6"
  },
  "orig_nbformat": 4
 },
 "nbformat": 4,
 "nbformat_minor": 2
}
