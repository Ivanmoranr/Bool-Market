{
 "cells": [
  {
   "cell_type": "code",
   "execution_count": 1,
   "metadata": {},
   "outputs": [
    {
     "name": "stderr",
     "output_type": "stream",
     "text": [
      "2023-09-05 22:51:54.359684: I tensorflow/core/util/port.cc:110] oneDNN custom operations are on. You may see slightly different numerical results due to floating-point round-off errors from different computation orders. To turn them off, set the environment variable `TF_ENABLE_ONEDNN_OPTS=0`.\n",
      "2023-09-05 22:51:54.406648: I tensorflow/tsl/cuda/cudart_stub.cc:28] Could not find cuda drivers on your machine, GPU will not be used.\n",
      "2023-09-05 22:51:54.747067: I tensorflow/tsl/cuda/cudart_stub.cc:28] Could not find cuda drivers on your machine, GPU will not be used.\n",
      "2023-09-05 22:51:54.749273: I tensorflow/core/platform/cpu_feature_guard.cc:182] This TensorFlow binary is optimized to use available CPU instructions in performance-critical operations.\n",
      "To enable the following instructions: AVX2 AVX_VNNI FMA, in other operations, rebuild TensorFlow with the appropriate compiler flags.\n",
      "2023-09-05 22:51:56.137509: W tensorflow/compiler/tf2tensorrt/utils/py_utils.cc:38] TF-TRT Warning: Could not find TensorRT\n"
     ]
    }
   ],
   "source": [
    "from synthetic_data import *\n",
    "from tensorflow.keras.preprocessing.sequence import pad_sequences\n",
    "from sklearn.preprocessing import StandardScaler\n",
    "from sklearn.model_selection import train_test_split\n",
    "from get_real_data import *\n",
    "\n",
    "from preprocessing import preprocess\n",
    "import tensorflow as tf\n",
    "from tensorflow.keras.callbacks import ReduceLROnPlateau, EarlyStopping\n",
    "from tensorflow.keras.models import Sequential, Model\n",
    "from tensorflow.keras.layers import MaxPooling2D, LSTM, Dense, Masking, Conv1D, Conv2D, Flatten, MaxPooling1D, Input, Concatenate, Dropout, AveragePooling1D\n",
    "from tensorflow.keras.preprocessing.sequence import pad_sequences\n",
    "from tensorflow.keras import regularizers\n",
    "import matplotlib.pyplot as plt\n",
    "from keras.optimizers import RMSprop\n",
    "\n",
    "from Series2GAF.series2gaf import GenerateGAF, PlotHeatmap\n"
   ]
  },
  {
   "cell_type": "code",
   "execution_count": 2,
   "metadata": {},
   "outputs": [
    {
     "name": "stderr",
     "output_type": "stream",
     "text": [
      "2023-09-05 22:52:36.511553: I tensorflow/compiler/xla/stream_executor/cuda/cuda_gpu_executor.cc:981] could not open file to read NUMA node: /sys/bus/pci/devices/0000:01:00.0/numa_node\n",
      "Your kernel may have been built without NUMA support.\n",
      "2023-09-05 22:52:36.521593: W tensorflow/core/common_runtime/gpu/gpu_device.cc:1960] Cannot dlopen some GPU libraries. Please make sure the missing libraries mentioned above are installed properly if you would like to use GPU. Follow the guide at https://www.tensorflow.org/install/gpu for how to download and setup the required libraries for your platform.\n",
      "Skipping registering GPU devices...\n"
     ]
    }
   ],
   "source": [
    "X_train_preprocessed, y_train_p, y_train_dates, X_test_preprocessed, y_test_p, y_test_dates = get_data()"
   ]
  },
  {
   "cell_type": "code",
   "execution_count": null,
   "metadata": {},
   "outputs": [],
   "source": []
  },
  {
   "cell_type": "code",
   "execution_count": null,
   "metadata": {},
   "outputs": [],
   "source": []
  },
  {
   "cell_type": "code",
   "execution_count": null,
   "metadata": {},
   "outputs": [],
   "source": []
  },
  {
   "cell_type": "code",
   "execution_count": 2,
   "metadata": {},
   "outputs": [
    {
     "name": "stderr",
     "output_type": "stream",
     "text": [
      "2023-09-05 15:22:31.397350: I tensorflow/compiler/xla/stream_executor/cuda/cuda_gpu_executor.cc:981] could not open file to read NUMA node: /sys/bus/pci/devices/0000:01:00.0/numa_node\n",
      "Your kernel may have been built without NUMA support.\n",
      "2023-09-05 15:22:31.399624: W tensorflow/core/common_runtime/gpu/gpu_device.cc:1960] Cannot dlopen some GPU libraries. Please make sure the missing libraries mentioned above are installed properly if you would like to use GPU. Follow the guide at https://www.tensorflow.org/install/gpu for how to download and setup the required libraries for your platform.\n",
      "Skipping registering GPU devices...\n"
     ]
    }
   ],
   "source": [
    "X1, y1, X2, y2, X3, y3, X4, y4 = get_real_X_y(noise=False)\n",
    "X1a, y1a, X2a, y2a, X3a, y3a, X4a, y4a = augmentation(X1, y1, X2, y2, X3, y3, X4, y4, noise=False)\n",
    "\n",
    "X_ris_wedg, y_ris_wedg, X_fal_wedg, y_fal_wedg, X_d_top, y_d_top, X_d_bottom, y_d_bottom = get_X_y(noise=False, general=False)\n",
    "X_ris_wedga, y_ris_wedga, X_fal_wedga, y_fal_wedga, X_d_topa, y_d_topa, X_d_bottoma, y_d_bottoma = augmentation(X_ris_wedg, y_ris_wedg, X_fal_wedg, y_fal_wedg, X_d_top, y_d_top, X_d_bottom, y_d_bottom, noise=False)\n",
    "\n",
    "X_ris_wedg = X1a + X_ris_wedga\n",
    "y_ris_wedg = y1a + y_ris_wedga\n",
    "\n",
    "X_train_ris, y_train_p_ris, y_train_dates_ris, X_test_ris, y_test_p_ris, y_test_dates_ris = preprocess(X_ris_wedg, y_ris_wedg)\n",
    "\n",
    "X_fal_wedg = X2a + X_fal_wedga\n",
    "y_fal_wedg = y2a + y_fal_wedga\n",
    "\n",
    "X_train_fal, y_train_p_fal, y_train_dates_fal, X_test_fal, y_test_p_fal, y_test_dates_fal = preprocess(X_fal_wedg, y_fal_wedg)\n",
    "\n",
    "X_d_top = X3a + X_d_topa\n",
    "y_d_top = y3a + y_d_topa\n",
    "\n",
    "X_train_dt, y_train_p_dt, y_train_dates_dt, X_test_dt, y_test_p_dt, y_test_dates_dt = preprocess(X_d_top, y_d_top)\n",
    "\n",
    "X_d_bottom = X4a + X_d_bottoma\n",
    "y_d_bottom = y4a + y_d_bottoma\n",
    "\n",
    "X_train_db, y_train_p_db, y_train_dates_db, X_test_db, y_test_p_db, y_test_dates_db = preprocess(X_d_bottom, y_d_bottom)\n",
    "\n",
    "X_full = X_ris_wedg + X_fal_wedg + X_d_top + X_d_bottom\n",
    "y_full = y_ris_wedg + y_fal_wedg + y_d_top + y_d_bottom\n",
    "X_train_full, y_train_p_full, y_train_dates_full, X_test_full, y_test_p_full, y_test_dates_full = preprocess(X_full, y_full)\n"
   ]
  },
  {
   "cell_type": "code",
   "execution_count": 133,
   "metadata": {},
   "outputs": [
    {
     "name": "stdout",
     "output_type": "stream",
     "text": [
      "The autoreload extension is already loaded. To reload it, use:\n",
      "  %reload_ext autoreload\n"
     ]
    }
   ],
   "source": [
    "%load_ext autoreload\n",
    "\n",
    "%autoreload 2"
   ]
  },
  {
   "cell_type": "code",
   "execution_count": 144,
   "metadata": {},
   "outputs": [],
   "source": [
    "X_train_preprocessed, y_train_p, y_train_dates, X_test_preprocessed, y_test_p, y_test_dates = get_data()"
   ]
  },
  {
   "cell_type": "code",
   "execution_count": 126,
   "metadata": {},
   "outputs": [],
   "source": [
    "X1, y1, X2, y2, X3, y3, X4, y4 = get_real_X_y(noise=False)\n",
    "X1a, y1a, X2a, y2a, X3a, y3a, X4a, y4a = augmentation(X1, y1, X2, y2, X3, y3, X4, y4, noise=False)\n"
   ]
  },
  {
   "cell_type": "code",
   "execution_count": 127,
   "metadata": {},
   "outputs": [
    {
     "name": "stdout",
     "output_type": "stream",
     "text": [
      "43\n"
     ]
    }
   ],
   "source": [
    "import plotly.graph_objects as go\n",
    "\n",
    "import pandas as pd\n",
    "from datetime import datetime\n",
    "import random\n",
    "\n",
    "\n",
    "\n",
    "i = random.randint(0,100)\n",
    "print(i)\n",
    "\n",
    "def plot_candles(X, y):\n",
    "    df = pd.DataFrame(X, columns=['open', 'high', 'low', 'close'])\n",
    "    df = df[(df != -100).all(axis=1)]\n",
    "\n",
    "    fig = go.Figure(data=[go.Candlestick(x=df.index,\n",
    "                    open=df.open,\n",
    "                    high=df.high,\n",
    "                    low=df.low,\n",
    "                    close=df.close)])\n",
    "        \n",
    "    y_min, y_max, *_ = y\n",
    "    fig.add_vline(x=y_min, line_width=3, line_dash=\"dash\", line_color=\"green\")\n",
    "    fig.add_vline(x=y_max, line_width=3, line_dash=\"dash\", line_color=\"green\")\n",
    "    \n",
    "    fig.show()"
   ]
  },
  {
   "cell_type": "code",
   "execution_count": 128,
   "metadata": {},
   "outputs": [
    {
     "data": {
      "application/vnd.plotly.v1+json": {
       "config": {
        "plotlyServerURL": "https://plot.ly"
       },
       "data": [
        {
         "close": [
          81.7,
          81.8,
          81.2,
          81.5,
          81.5,
          81.2,
          81,
          82.9,
          82.9,
          81.9,
          81.5,
          83,
          82.5,
          86,
          85.8,
          85.1,
          87,
          87.5,
          91,
          90,
          89.2,
          86.4,
          90,
          90.5,
          90.3,
          89.2,
          87.6,
          87.7,
          86.7,
          85.9,
          84.9,
          85,
          85.2,
          85.9,
          86.1,
          85.8,
          85.8,
          84.6,
          83.3,
          83,
          82,
          82.9,
          82.8,
          83.4,
          82,
          82,
          83,
          82,
          80.9,
          80,
          80.9,
          83,
          85.5,
          85.5,
          88,
          87.6,
          87.9,
          86.1,
          85,
          86,
          84,
          82.4,
          84.8,
          83.5,
          83.3,
          82.5,
          81.8,
          82,
          82,
          82,
          83.5,
          78,
          75,
          73.5,
          74.4,
          73.3,
          72,
          72.5,
          74.3,
          73.7,
          76.8,
          76.1,
          77,
          77,
          76.9,
          74,
          73.1,
          75.5,
          75.2,
          75.2,
          75,
          76.7,
          75.4,
          74.6,
          75,
          75.2,
          75.3,
          75.8,
          76,
          76.1,
          76.8,
          77.1,
          77,
          77,
          77.5,
          77.6,
          76.7,
          77,
          77.5,
          76.8,
          74,
          74,
          68.5,
          70.9,
          73.4,
          71.5,
          73.6,
          73,
          73,
          71.7,
          69.1,
          71,
          72,
          71.9,
          70.9,
          70,
          70.2,
          69.1,
          68.7,
          68,
          67.4,
          67.6,
          67.9,
          68,
          68.9,
          71.3,
          71.5,
          72,
          71.3,
          73.5,
          72.9,
          72.5,
          73.2,
          71.3,
          71,
          71.6,
          72,
          71.9,
          71.4
         ],
         "high": [
          81.9,
          82.5,
          82.5,
          82,
          81.9,
          81.5,
          81.4,
          82.9,
          82.9,
          82.5,
          82,
          83,
          84,
          86,
          86.9,
          85.7,
          87.2,
          87.8,
          91.6,
          91,
          89.8,
          89,
          91,
          90.5,
          90.5,
          90.2,
          90.5,
          89,
          88.3,
          87.8,
          86.9,
          85.9,
          85.9,
          86.8,
          87,
          86.9,
          85.8,
          85.7,
          85,
          83.5,
          83,
          83,
          83.8,
          83.5,
          83.4,
          83,
          83.2,
          83.9,
          82,
          80.5,
          81,
          83.9,
          86,
          86.3,
          88.5,
          88.5,
          88,
          88.1,
          85.8,
          86,
          86,
          83,
          85,
          84.5,
          85.6,
          82.7,
          83.4,
          82.5,
          83.1,
          83,
          83.5,
          82.9,
          79.6,
          74.9,
          75,
          74.4,
          73.4,
          72.5,
          74.3,
          75,
          76.9,
          77,
          77,
          77.8,
          77,
          76.2,
          74.9,
          75.5,
          76,
          76,
          75.6,
          76.7,
          76.5,
          75.6,
          75,
          75.7,
          75.7,
          75.8,
          76.2,
          76.1,
          76.9,
          77.1,
          77.3,
          77.8,
          77.8,
          77.8,
          77.4,
          77,
          77.5,
          77.7,
          76.7,
          75.8,
          76,
          73,
          73.7,
          73.9,
          73.6,
          73.5,
          73,
          73.2,
          73,
          71.9,
          72,
          72,
          71.5,
          70.4,
          71.9,
          70.2,
          69.1,
          68.7,
          68,
          68,
          69.2,
          68.5,
          69,
          71.8,
          71.6,
          72,
          71.9,
          73.5,
          73.5,
          72.8,
          73.2,
          74.5,
          74.3,
          72.2,
          72,
          71.9,
          71.9
         ],
         "low": [
          80.4,
          80.8,
          81.2,
          81.5,
          81,
          80.7,
          80.4,
          80.1,
          81,
          80.4,
          80.8,
          80.9,
          82,
          83.7,
          85.5,
          84.5,
          84.4,
          86,
          88.1,
          90,
          88.2,
          86.1,
          87.1,
          89.1,
          89.6,
          87.5,
          87.6,
          87.7,
          86.6,
          84.5,
          84.9,
          82.7,
          84.8,
          84.5,
          85.7,
          85.7,
          84,
          84.1,
          83.1,
          81.5,
          80.7,
          81.3,
          82,
          82.5,
          82,
          81.2,
          82.4,
          82,
          80.6,
          79.6,
          79.9,
          80.9,
          83.3,
          85,
          85.5,
          87.1,
          86.7,
          85.5,
          83.2,
          84.5,
          84,
          81.8,
          82,
          82,
          82.6,
          81.9,
          81.8,
          81.3,
          81.1,
          81.3,
          82,
          75.4,
          74,
          72.6,
          73.5,
          72.6,
          71.9,
          70.8,
          72.1,
          73.6,
          74,
          75.9,
          75.2,
          76.2,
          76.1,
          74,
          72.5,
          73,
          75,
          75,
          74.7,
          75,
          74.1,
          72.6,
          73,
          74.9,
          73.2,
          73.5,
          75,
          74.3,
          75.3,
          76.3,
          76.5,
          76.6,
          77,
          77,
          75.4,
          75.1,
          76,
          76.3,
          74,
          73,
          68.3,
          68.8,
          71.1,
          71.5,
          71.6,
          72.3,
          72.2,
          71.7,
          69,
          69.5,
          69.8,
          70.8,
          69.7,
          70,
          70.2,
          69,
          68.7,
          67,
          67.2,
          67.6,
          67.5,
          67.5,
          67.5,
          67.8,
          70.3,
          71.3,
          71.3,
          71.2,
          72.6,
          72.5,
          71.3,
          71.3,
          70.6,
          71,
          71.3,
          71.4,
          71.4
         ],
         "open": [
          80.4,
          81.7,
          82.5,
          81.9,
          81.9,
          81,
          81,
          81,
          82.9,
          82,
          81.1,
          81.9,
          82.5,
          84.6,
          86.2,
          85.7,
          84.9,
          86,
          88.1,
          91,
          89.5,
          89,
          87.7,
          90,
          90.3,
          90.2,
          90.4,
          89,
          88,
          86.4,
          85.9,
          83,
          85,
          85.2,
          86.4,
          86.7,
          85.3,
          84.1,
          85,
          83.2,
          83,
          81.3,
          82.9,
          82.5,
          83.4,
          81.4,
          82.5,
          83,
          81.7,
          80.5,
          79.9,
          80.9,
          83.3,
          86,
          85.5,
          87.5,
          87.5,
          86.6,
          85.8,
          85,
          86,
          83,
          82.5,
          84.5,
          82.6,
          82.6,
          83.4,
          82.5,
          82,
          81.8,
          82,
          82.9,
          79.6,
          74.5,
          73.5,
          74.4,
          72.8,
          72,
          72.1,
          74.3,
          74,
          76.8,
          75.5,
          77.5,
          77,
          76.2,
          74.9,
          73.9,
          76,
          75.6,
          75.4,
          75.6,
          76.5,
          75.6,
          73,
          75,
          75.7,
          73.5,
          75.8,
          76,
          75.8,
          76.5,
          77.3,
          76.6,
          77,
          77.6,
          77.4,
          75.3,
          76.9,
          77.5,
          76.7,
          73.9,
          75.8,
          69.6,
          71.1,
          73.9,
          73.6,
          73.5,
          73,
          72.5,
          72.5,
          69.5,
          71.3,
          72,
          71.4,
          70.4,
          70.9,
          70,
          69.1,
          68.7,
          68,
          67.9,
          68,
          67.6,
          68.4,
          69.5,
          71.2,
          71.9,
          71.5,
          71.3,
          73.5,
          72.8,
          71.5,
          73.5,
          71.3,
          71,
          71.4,
          71.9,
          71.9
         ],
         "type": "candlestick",
         "x": [
          0,
          1,
          2,
          3,
          4,
          5,
          6,
          7,
          8,
          9,
          10,
          11,
          12,
          13,
          14,
          15,
          16,
          17,
          18,
          19,
          20,
          21,
          22,
          23,
          24,
          25,
          26,
          27,
          28,
          29,
          30,
          31,
          32,
          33,
          34,
          35,
          36,
          37,
          38,
          39,
          40,
          41,
          42,
          43,
          44,
          45,
          46,
          47,
          48,
          49,
          50,
          51,
          52,
          53,
          54,
          55,
          56,
          57,
          58,
          59,
          60,
          61,
          62,
          63,
          64,
          65,
          66,
          67,
          68,
          69,
          70,
          71,
          72,
          73,
          74,
          75,
          76,
          77,
          78,
          79,
          80,
          81,
          82,
          83,
          84,
          85,
          86,
          87,
          88,
          89,
          90,
          91,
          92,
          93,
          94,
          95,
          96,
          97,
          98,
          99,
          100,
          101,
          102,
          103,
          104,
          105,
          106,
          107,
          108,
          109,
          110,
          111,
          112,
          113,
          114,
          115,
          116,
          117,
          118,
          119,
          120,
          121,
          122,
          123,
          124,
          125,
          126,
          127,
          128,
          129,
          130,
          131,
          132,
          133,
          134,
          135,
          136,
          137,
          138,
          139,
          140,
          141,
          142,
          143,
          144,
          145,
          146,
          147,
          148
         ]
        }
       ],
       "layout": {
        "shapes": [
         {
          "line": {
           "color": "green",
           "dash": "dash",
           "width": 3
          },
          "type": "line",
          "x0": 91,
          "x1": 91,
          "xref": "x",
          "y0": 0,
          "y1": 1,
          "yref": "y domain"
         },
         {
          "line": {
           "color": "green",
           "dash": "dash",
           "width": 3
          },
          "type": "line",
          "x0": 140,
          "x1": 140,
          "xref": "x",
          "y0": 0,
          "y1": 1,
          "yref": "y domain"
         }
        ],
        "template": {
         "data": {
          "bar": [
           {
            "error_x": {
             "color": "#2a3f5f"
            },
            "error_y": {
             "color": "#2a3f5f"
            },
            "marker": {
             "line": {
              "color": "#E5ECF6",
              "width": 0.5
             },
             "pattern": {
              "fillmode": "overlay",
              "size": 10,
              "solidity": 0.2
             }
            },
            "type": "bar"
           }
          ],
          "barpolar": [
           {
            "marker": {
             "line": {
              "color": "#E5ECF6",
              "width": 0.5
             },
             "pattern": {
              "fillmode": "overlay",
              "size": 10,
              "solidity": 0.2
             }
            },
            "type": "barpolar"
           }
          ],
          "carpet": [
           {
            "aaxis": {
             "endlinecolor": "#2a3f5f",
             "gridcolor": "white",
             "linecolor": "white",
             "minorgridcolor": "white",
             "startlinecolor": "#2a3f5f"
            },
            "baxis": {
             "endlinecolor": "#2a3f5f",
             "gridcolor": "white",
             "linecolor": "white",
             "minorgridcolor": "white",
             "startlinecolor": "#2a3f5f"
            },
            "type": "carpet"
           }
          ],
          "choropleth": [
           {
            "colorbar": {
             "outlinewidth": 0,
             "ticks": ""
            },
            "type": "choropleth"
           }
          ],
          "contour": [
           {
            "colorbar": {
             "outlinewidth": 0,
             "ticks": ""
            },
            "colorscale": [
             [
              0,
              "#0d0887"
             ],
             [
              0.1111111111111111,
              "#46039f"
             ],
             [
              0.2222222222222222,
              "#7201a8"
             ],
             [
              0.3333333333333333,
              "#9c179e"
             ],
             [
              0.4444444444444444,
              "#bd3786"
             ],
             [
              0.5555555555555556,
              "#d8576b"
             ],
             [
              0.6666666666666666,
              "#ed7953"
             ],
             [
              0.7777777777777778,
              "#fb9f3a"
             ],
             [
              0.8888888888888888,
              "#fdca26"
             ],
             [
              1,
              "#f0f921"
             ]
            ],
            "type": "contour"
           }
          ],
          "contourcarpet": [
           {
            "colorbar": {
             "outlinewidth": 0,
             "ticks": ""
            },
            "type": "contourcarpet"
           }
          ],
          "heatmap": [
           {
            "colorbar": {
             "outlinewidth": 0,
             "ticks": ""
            },
            "colorscale": [
             [
              0,
              "#0d0887"
             ],
             [
              0.1111111111111111,
              "#46039f"
             ],
             [
              0.2222222222222222,
              "#7201a8"
             ],
             [
              0.3333333333333333,
              "#9c179e"
             ],
             [
              0.4444444444444444,
              "#bd3786"
             ],
             [
              0.5555555555555556,
              "#d8576b"
             ],
             [
              0.6666666666666666,
              "#ed7953"
             ],
             [
              0.7777777777777778,
              "#fb9f3a"
             ],
             [
              0.8888888888888888,
              "#fdca26"
             ],
             [
              1,
              "#f0f921"
             ]
            ],
            "type": "heatmap"
           }
          ],
          "heatmapgl": [
           {
            "colorbar": {
             "outlinewidth": 0,
             "ticks": ""
            },
            "colorscale": [
             [
              0,
              "#0d0887"
             ],
             [
              0.1111111111111111,
              "#46039f"
             ],
             [
              0.2222222222222222,
              "#7201a8"
             ],
             [
              0.3333333333333333,
              "#9c179e"
             ],
             [
              0.4444444444444444,
              "#bd3786"
             ],
             [
              0.5555555555555556,
              "#d8576b"
             ],
             [
              0.6666666666666666,
              "#ed7953"
             ],
             [
              0.7777777777777778,
              "#fb9f3a"
             ],
             [
              0.8888888888888888,
              "#fdca26"
             ],
             [
              1,
              "#f0f921"
             ]
            ],
            "type": "heatmapgl"
           }
          ],
          "histogram": [
           {
            "marker": {
             "pattern": {
              "fillmode": "overlay",
              "size": 10,
              "solidity": 0.2
             }
            },
            "type": "histogram"
           }
          ],
          "histogram2d": [
           {
            "colorbar": {
             "outlinewidth": 0,
             "ticks": ""
            },
            "colorscale": [
             [
              0,
              "#0d0887"
             ],
             [
              0.1111111111111111,
              "#46039f"
             ],
             [
              0.2222222222222222,
              "#7201a8"
             ],
             [
              0.3333333333333333,
              "#9c179e"
             ],
             [
              0.4444444444444444,
              "#bd3786"
             ],
             [
              0.5555555555555556,
              "#d8576b"
             ],
             [
              0.6666666666666666,
              "#ed7953"
             ],
             [
              0.7777777777777778,
              "#fb9f3a"
             ],
             [
              0.8888888888888888,
              "#fdca26"
             ],
             [
              1,
              "#f0f921"
             ]
            ],
            "type": "histogram2d"
           }
          ],
          "histogram2dcontour": [
           {
            "colorbar": {
             "outlinewidth": 0,
             "ticks": ""
            },
            "colorscale": [
             [
              0,
              "#0d0887"
             ],
             [
              0.1111111111111111,
              "#46039f"
             ],
             [
              0.2222222222222222,
              "#7201a8"
             ],
             [
              0.3333333333333333,
              "#9c179e"
             ],
             [
              0.4444444444444444,
              "#bd3786"
             ],
             [
              0.5555555555555556,
              "#d8576b"
             ],
             [
              0.6666666666666666,
              "#ed7953"
             ],
             [
              0.7777777777777778,
              "#fb9f3a"
             ],
             [
              0.8888888888888888,
              "#fdca26"
             ],
             [
              1,
              "#f0f921"
             ]
            ],
            "type": "histogram2dcontour"
           }
          ],
          "mesh3d": [
           {
            "colorbar": {
             "outlinewidth": 0,
             "ticks": ""
            },
            "type": "mesh3d"
           }
          ],
          "parcoords": [
           {
            "line": {
             "colorbar": {
              "outlinewidth": 0,
              "ticks": ""
             }
            },
            "type": "parcoords"
           }
          ],
          "pie": [
           {
            "automargin": true,
            "type": "pie"
           }
          ],
          "scatter": [
           {
            "fillpattern": {
             "fillmode": "overlay",
             "size": 10,
             "solidity": 0.2
            },
            "type": "scatter"
           }
          ],
          "scatter3d": [
           {
            "line": {
             "colorbar": {
              "outlinewidth": 0,
              "ticks": ""
             }
            },
            "marker": {
             "colorbar": {
              "outlinewidth": 0,
              "ticks": ""
             }
            },
            "type": "scatter3d"
           }
          ],
          "scattercarpet": [
           {
            "marker": {
             "colorbar": {
              "outlinewidth": 0,
              "ticks": ""
             }
            },
            "type": "scattercarpet"
           }
          ],
          "scattergeo": [
           {
            "marker": {
             "colorbar": {
              "outlinewidth": 0,
              "ticks": ""
             }
            },
            "type": "scattergeo"
           }
          ],
          "scattergl": [
           {
            "marker": {
             "colorbar": {
              "outlinewidth": 0,
              "ticks": ""
             }
            },
            "type": "scattergl"
           }
          ],
          "scattermapbox": [
           {
            "marker": {
             "colorbar": {
              "outlinewidth": 0,
              "ticks": ""
             }
            },
            "type": "scattermapbox"
           }
          ],
          "scatterpolar": [
           {
            "marker": {
             "colorbar": {
              "outlinewidth": 0,
              "ticks": ""
             }
            },
            "type": "scatterpolar"
           }
          ],
          "scatterpolargl": [
           {
            "marker": {
             "colorbar": {
              "outlinewidth": 0,
              "ticks": ""
             }
            },
            "type": "scatterpolargl"
           }
          ],
          "scatterternary": [
           {
            "marker": {
             "colorbar": {
              "outlinewidth": 0,
              "ticks": ""
             }
            },
            "type": "scatterternary"
           }
          ],
          "surface": [
           {
            "colorbar": {
             "outlinewidth": 0,
             "ticks": ""
            },
            "colorscale": [
             [
              0,
              "#0d0887"
             ],
             [
              0.1111111111111111,
              "#46039f"
             ],
             [
              0.2222222222222222,
              "#7201a8"
             ],
             [
              0.3333333333333333,
              "#9c179e"
             ],
             [
              0.4444444444444444,
              "#bd3786"
             ],
             [
              0.5555555555555556,
              "#d8576b"
             ],
             [
              0.6666666666666666,
              "#ed7953"
             ],
             [
              0.7777777777777778,
              "#fb9f3a"
             ],
             [
              0.8888888888888888,
              "#fdca26"
             ],
             [
              1,
              "#f0f921"
             ]
            ],
            "type": "surface"
           }
          ],
          "table": [
           {
            "cells": {
             "fill": {
              "color": "#EBF0F8"
             },
             "line": {
              "color": "white"
             }
            },
            "header": {
             "fill": {
              "color": "#C8D4E3"
             },
             "line": {
              "color": "white"
             }
            },
            "type": "table"
           }
          ]
         },
         "layout": {
          "annotationdefaults": {
           "arrowcolor": "#2a3f5f",
           "arrowhead": 0,
           "arrowwidth": 1
          },
          "autotypenumbers": "strict",
          "coloraxis": {
           "colorbar": {
            "outlinewidth": 0,
            "ticks": ""
           }
          },
          "colorscale": {
           "diverging": [
            [
             0,
             "#8e0152"
            ],
            [
             0.1,
             "#c51b7d"
            ],
            [
             0.2,
             "#de77ae"
            ],
            [
             0.3,
             "#f1b6da"
            ],
            [
             0.4,
             "#fde0ef"
            ],
            [
             0.5,
             "#f7f7f7"
            ],
            [
             0.6,
             "#e6f5d0"
            ],
            [
             0.7,
             "#b8e186"
            ],
            [
             0.8,
             "#7fbc41"
            ],
            [
             0.9,
             "#4d9221"
            ],
            [
             1,
             "#276419"
            ]
           ],
           "sequential": [
            [
             0,
             "#0d0887"
            ],
            [
             0.1111111111111111,
             "#46039f"
            ],
            [
             0.2222222222222222,
             "#7201a8"
            ],
            [
             0.3333333333333333,
             "#9c179e"
            ],
            [
             0.4444444444444444,
             "#bd3786"
            ],
            [
             0.5555555555555556,
             "#d8576b"
            ],
            [
             0.6666666666666666,
             "#ed7953"
            ],
            [
             0.7777777777777778,
             "#fb9f3a"
            ],
            [
             0.8888888888888888,
             "#fdca26"
            ],
            [
             1,
             "#f0f921"
            ]
           ],
           "sequentialminus": [
            [
             0,
             "#0d0887"
            ],
            [
             0.1111111111111111,
             "#46039f"
            ],
            [
             0.2222222222222222,
             "#7201a8"
            ],
            [
             0.3333333333333333,
             "#9c179e"
            ],
            [
             0.4444444444444444,
             "#bd3786"
            ],
            [
             0.5555555555555556,
             "#d8576b"
            ],
            [
             0.6666666666666666,
             "#ed7953"
            ],
            [
             0.7777777777777778,
             "#fb9f3a"
            ],
            [
             0.8888888888888888,
             "#fdca26"
            ],
            [
             1,
             "#f0f921"
            ]
           ]
          },
          "colorway": [
           "#636efa",
           "#EF553B",
           "#00cc96",
           "#ab63fa",
           "#FFA15A",
           "#19d3f3",
           "#FF6692",
           "#B6E880",
           "#FF97FF",
           "#FECB52"
          ],
          "font": {
           "color": "#2a3f5f"
          },
          "geo": {
           "bgcolor": "white",
           "lakecolor": "white",
           "landcolor": "#E5ECF6",
           "showlakes": true,
           "showland": true,
           "subunitcolor": "white"
          },
          "hoverlabel": {
           "align": "left"
          },
          "hovermode": "closest",
          "mapbox": {
           "style": "light"
          },
          "paper_bgcolor": "white",
          "plot_bgcolor": "#E5ECF6",
          "polar": {
           "angularaxis": {
            "gridcolor": "white",
            "linecolor": "white",
            "ticks": ""
           },
           "bgcolor": "#E5ECF6",
           "radialaxis": {
            "gridcolor": "white",
            "linecolor": "white",
            "ticks": ""
           }
          },
          "scene": {
           "xaxis": {
            "backgroundcolor": "#E5ECF6",
            "gridcolor": "white",
            "gridwidth": 2,
            "linecolor": "white",
            "showbackground": true,
            "ticks": "",
            "zerolinecolor": "white"
           },
           "yaxis": {
            "backgroundcolor": "#E5ECF6",
            "gridcolor": "white",
            "gridwidth": 2,
            "linecolor": "white",
            "showbackground": true,
            "ticks": "",
            "zerolinecolor": "white"
           },
           "zaxis": {
            "backgroundcolor": "#E5ECF6",
            "gridcolor": "white",
            "gridwidth": 2,
            "linecolor": "white",
            "showbackground": true,
            "ticks": "",
            "zerolinecolor": "white"
           }
          },
          "shapedefaults": {
           "line": {
            "color": "#2a3f5f"
           }
          },
          "ternary": {
           "aaxis": {
            "gridcolor": "white",
            "linecolor": "white",
            "ticks": ""
           },
           "baxis": {
            "gridcolor": "white",
            "linecolor": "white",
            "ticks": ""
           },
           "bgcolor": "#E5ECF6",
           "caxis": {
            "gridcolor": "white",
            "linecolor": "white",
            "ticks": ""
           }
          },
          "title": {
           "x": 0.05
          },
          "xaxis": {
           "automargin": true,
           "gridcolor": "white",
           "linecolor": "white",
           "ticks": "",
           "title": {
            "standoff": 15
           },
           "zerolinecolor": "white",
           "zerolinewidth": 2
          },
          "yaxis": {
           "automargin": true,
           "gridcolor": "white",
           "linecolor": "white",
           "ticks": "",
           "title": {
            "standoff": 15
           },
           "zerolinecolor": "white",
           "zerolinewidth": 2
          }
         }
        }
       }
      },
      "text/html": [
       "<div>                            <div id=\"04526402-3b8b-4b95-a5c1-fc31cf43ee2d\" class=\"plotly-graph-div\" style=\"height:525px; width:100%;\"></div>            <script type=\"text/javascript\">                require([\"plotly\"], function(Plotly) {                    window.PLOTLYENV=window.PLOTLYENV || {};                                    if (document.getElementById(\"04526402-3b8b-4b95-a5c1-fc31cf43ee2d\")) {                    Plotly.newPlot(                        \"04526402-3b8b-4b95-a5c1-fc31cf43ee2d\",                        [{\"close\":[81.7,81.8,81.2,81.5,81.5,81.2,81.0,82.9,82.9,81.9,81.5,83.0,82.5,86.0,85.8,85.1,87.0,87.5,91.0,90.0,89.2,86.4,90.0,90.5,90.3,89.2,87.6,87.7,86.7,85.9,84.9,85.0,85.2,85.9,86.1,85.8,85.8,84.6,83.3,83.0,82.0,82.9,82.8,83.4,82.0,82.0,83.0,82.0,80.9,80.0,80.9,83.0,85.5,85.5,88.0,87.6,87.9,86.1,85.0,86.0,84.0,82.4,84.8,83.5,83.3,82.5,81.8,82.0,82.0,82.0,83.5,78.0,75.0,73.5,74.4,73.3,72.0,72.5,74.3,73.7,76.8,76.1,77.0,77.0,76.9,74.0,73.1,75.5,75.2,75.2,75.0,76.7,75.4,74.6,75.0,75.2,75.3,75.8,76.0,76.1,76.8,77.1,77.0,77.0,77.5,77.6,76.7,77.0,77.5,76.8,74.0,74.0,68.5,70.9,73.4,71.5,73.6,73.0,73.0,71.7,69.1,71.0,72.0,71.9,70.9,70.0,70.2,69.1,68.7,68.0,67.4,67.6,67.9,68.0,68.9,71.3,71.5,72.0,71.3,73.5,72.9,72.5,73.2,71.3,71.0,71.6,72.0,71.9,71.4],\"high\":[81.9,82.5,82.5,82.0,81.9,81.5,81.4,82.9,82.9,82.5,82.0,83.0,84.0,86.0,86.9,85.7,87.2,87.8,91.6,91.0,89.8,89.0,91.0,90.5,90.5,90.2,90.5,89.0,88.3,87.8,86.9,85.9,85.9,86.8,87.0,86.9,85.8,85.7,85.0,83.5,83.0,83.0,83.8,83.5,83.4,83.0,83.2,83.9,82.0,80.5,81.0,83.9,86.0,86.3,88.5,88.5,88.0,88.1,85.8,86.0,86.0,83.0,85.0,84.5,85.6,82.7,83.4,82.5,83.1,83.0,83.5,82.9,79.6,74.9,75.0,74.4,73.4,72.5,74.3,75.0,76.9,77.0,77.0,77.8,77.0,76.2,74.9,75.5,76.0,76.0,75.6,76.7,76.5,75.6,75.0,75.7,75.7,75.8,76.2,76.1,76.9,77.1,77.3,77.8,77.8,77.8,77.4,77.0,77.5,77.7,76.7,75.8,76.0,73.0,73.7,73.9,73.6,73.5,73.0,73.2,73.0,71.9,72.0,72.0,71.5,70.4,71.9,70.2,69.1,68.7,68.0,68.0,69.2,68.5,69.0,71.8,71.6,72.0,71.9,73.5,73.5,72.8,73.2,74.5,74.3,72.2,72.0,71.9,71.9],\"low\":[80.4,80.8,81.2,81.5,81.0,80.7,80.4,80.1,81.0,80.4,80.8,80.9,82.0,83.7,85.5,84.5,84.4,86.0,88.1,90.0,88.2,86.1,87.1,89.1,89.6,87.5,87.6,87.7,86.6,84.5,84.9,82.7,84.8,84.5,85.7,85.7,84.0,84.1,83.1,81.5,80.7,81.3,82.0,82.5,82.0,81.2,82.4,82.0,80.6,79.6,79.9,80.9,83.3,85.0,85.5,87.1,86.7,85.5,83.2,84.5,84.0,81.8,82.0,82.0,82.6,81.9,81.8,81.3,81.1,81.3,82.0,75.4,74.0,72.6,73.5,72.6,71.9,70.8,72.1,73.6,74.0,75.9,75.2,76.2,76.1,74.0,72.5,73.0,75.0,75.0,74.7,75.0,74.1,72.6,73.0,74.9,73.2,73.5,75.0,74.3,75.3,76.3,76.5,76.6,77.0,77.0,75.4,75.1,76.0,76.3,74.0,73.0,68.3,68.8,71.1,71.5,71.6,72.3,72.2,71.7,69.0,69.5,69.8,70.8,69.7,70.0,70.2,69.0,68.7,67.0,67.2,67.6,67.5,67.5,67.5,67.8,70.3,71.3,71.3,71.2,72.6,72.5,71.3,71.3,70.6,71.0,71.3,71.4,71.4],\"open\":[80.4,81.7,82.5,81.9,81.9,81.0,81.0,81.0,82.9,82.0,81.1,81.9,82.5,84.6,86.2,85.7,84.9,86.0,88.1,91.0,89.5,89.0,87.7,90.0,90.3,90.2,90.4,89.0,88.0,86.4,85.9,83.0,85.0,85.2,86.4,86.7,85.3,84.1,85.0,83.2,83.0,81.3,82.9,82.5,83.4,81.4,82.5,83.0,81.7,80.5,79.9,80.9,83.3,86.0,85.5,87.5,87.5,86.6,85.8,85.0,86.0,83.0,82.5,84.5,82.6,82.6,83.4,82.5,82.0,81.8,82.0,82.9,79.6,74.5,73.5,74.4,72.8,72.0,72.1,74.3,74.0,76.8,75.5,77.5,77.0,76.2,74.9,73.9,76.0,75.6,75.4,75.6,76.5,75.6,73.0,75.0,75.7,73.5,75.8,76.0,75.8,76.5,77.3,76.6,77.0,77.6,77.4,75.3,76.9,77.5,76.7,73.9,75.8,69.6,71.1,73.9,73.6,73.5,73.0,72.5,72.5,69.5,71.3,72.0,71.4,70.4,70.9,70.0,69.1,68.7,68.0,67.9,68.0,67.6,68.4,69.5,71.2,71.9,71.5,71.3,73.5,72.8,71.5,73.5,71.3,71.0,71.4,71.9,71.9],\"x\":[0,1,2,3,4,5,6,7,8,9,10,11,12,13,14,15,16,17,18,19,20,21,22,23,24,25,26,27,28,29,30,31,32,33,34,35,36,37,38,39,40,41,42,43,44,45,46,47,48,49,50,51,52,53,54,55,56,57,58,59,60,61,62,63,64,65,66,67,68,69,70,71,72,73,74,75,76,77,78,79,80,81,82,83,84,85,86,87,88,89,90,91,92,93,94,95,96,97,98,99,100,101,102,103,104,105,106,107,108,109,110,111,112,113,114,115,116,117,118,119,120,121,122,123,124,125,126,127,128,129,130,131,132,133,134,135,136,137,138,139,140,141,142,143,144,145,146,147,148],\"type\":\"candlestick\"}],                        {\"template\":{\"data\":{\"histogram2dcontour\":[{\"type\":\"histogram2dcontour\",\"colorbar\":{\"outlinewidth\":0,\"ticks\":\"\"},\"colorscale\":[[0.0,\"#0d0887\"],[0.1111111111111111,\"#46039f\"],[0.2222222222222222,\"#7201a8\"],[0.3333333333333333,\"#9c179e\"],[0.4444444444444444,\"#bd3786\"],[0.5555555555555556,\"#d8576b\"],[0.6666666666666666,\"#ed7953\"],[0.7777777777777778,\"#fb9f3a\"],[0.8888888888888888,\"#fdca26\"],[1.0,\"#f0f921\"]]}],\"choropleth\":[{\"type\":\"choropleth\",\"colorbar\":{\"outlinewidth\":0,\"ticks\":\"\"}}],\"histogram2d\":[{\"type\":\"histogram2d\",\"colorbar\":{\"outlinewidth\":0,\"ticks\":\"\"},\"colorscale\":[[0.0,\"#0d0887\"],[0.1111111111111111,\"#46039f\"],[0.2222222222222222,\"#7201a8\"],[0.3333333333333333,\"#9c179e\"],[0.4444444444444444,\"#bd3786\"],[0.5555555555555556,\"#d8576b\"],[0.6666666666666666,\"#ed7953\"],[0.7777777777777778,\"#fb9f3a\"],[0.8888888888888888,\"#fdca26\"],[1.0,\"#f0f921\"]]}],\"heatmap\":[{\"type\":\"heatmap\",\"colorbar\":{\"outlinewidth\":0,\"ticks\":\"\"},\"colorscale\":[[0.0,\"#0d0887\"],[0.1111111111111111,\"#46039f\"],[0.2222222222222222,\"#7201a8\"],[0.3333333333333333,\"#9c179e\"],[0.4444444444444444,\"#bd3786\"],[0.5555555555555556,\"#d8576b\"],[0.6666666666666666,\"#ed7953\"],[0.7777777777777778,\"#fb9f3a\"],[0.8888888888888888,\"#fdca26\"],[1.0,\"#f0f921\"]]}],\"heatmapgl\":[{\"type\":\"heatmapgl\",\"colorbar\":{\"outlinewidth\":0,\"ticks\":\"\"},\"colorscale\":[[0.0,\"#0d0887\"],[0.1111111111111111,\"#46039f\"],[0.2222222222222222,\"#7201a8\"],[0.3333333333333333,\"#9c179e\"],[0.4444444444444444,\"#bd3786\"],[0.5555555555555556,\"#d8576b\"],[0.6666666666666666,\"#ed7953\"],[0.7777777777777778,\"#fb9f3a\"],[0.8888888888888888,\"#fdca26\"],[1.0,\"#f0f921\"]]}],\"contourcarpet\":[{\"type\":\"contourcarpet\",\"colorbar\":{\"outlinewidth\":0,\"ticks\":\"\"}}],\"contour\":[{\"type\":\"contour\",\"colorbar\":{\"outlinewidth\":0,\"ticks\":\"\"},\"colorscale\":[[0.0,\"#0d0887\"],[0.1111111111111111,\"#46039f\"],[0.2222222222222222,\"#7201a8\"],[0.3333333333333333,\"#9c179e\"],[0.4444444444444444,\"#bd3786\"],[0.5555555555555556,\"#d8576b\"],[0.6666666666666666,\"#ed7953\"],[0.7777777777777778,\"#fb9f3a\"],[0.8888888888888888,\"#fdca26\"],[1.0,\"#f0f921\"]]}],\"surface\":[{\"type\":\"surface\",\"colorbar\":{\"outlinewidth\":0,\"ticks\":\"\"},\"colorscale\":[[0.0,\"#0d0887\"],[0.1111111111111111,\"#46039f\"],[0.2222222222222222,\"#7201a8\"],[0.3333333333333333,\"#9c179e\"],[0.4444444444444444,\"#bd3786\"],[0.5555555555555556,\"#d8576b\"],[0.6666666666666666,\"#ed7953\"],[0.7777777777777778,\"#fb9f3a\"],[0.8888888888888888,\"#fdca26\"],[1.0,\"#f0f921\"]]}],\"mesh3d\":[{\"type\":\"mesh3d\",\"colorbar\":{\"outlinewidth\":0,\"ticks\":\"\"}}],\"scatter\":[{\"fillpattern\":{\"fillmode\":\"overlay\",\"size\":10,\"solidity\":0.2},\"type\":\"scatter\"}],\"parcoords\":[{\"type\":\"parcoords\",\"line\":{\"colorbar\":{\"outlinewidth\":0,\"ticks\":\"\"}}}],\"scatterpolargl\":[{\"type\":\"scatterpolargl\",\"marker\":{\"colorbar\":{\"outlinewidth\":0,\"ticks\":\"\"}}}],\"bar\":[{\"error_x\":{\"color\":\"#2a3f5f\"},\"error_y\":{\"color\":\"#2a3f5f\"},\"marker\":{\"line\":{\"color\":\"#E5ECF6\",\"width\":0.5},\"pattern\":{\"fillmode\":\"overlay\",\"size\":10,\"solidity\":0.2}},\"type\":\"bar\"}],\"scattergeo\":[{\"type\":\"scattergeo\",\"marker\":{\"colorbar\":{\"outlinewidth\":0,\"ticks\":\"\"}}}],\"scatterpolar\":[{\"type\":\"scatterpolar\",\"marker\":{\"colorbar\":{\"outlinewidth\":0,\"ticks\":\"\"}}}],\"histogram\":[{\"marker\":{\"pattern\":{\"fillmode\":\"overlay\",\"size\":10,\"solidity\":0.2}},\"type\":\"histogram\"}],\"scattergl\":[{\"type\":\"scattergl\",\"marker\":{\"colorbar\":{\"outlinewidth\":0,\"ticks\":\"\"}}}],\"scatter3d\":[{\"type\":\"scatter3d\",\"line\":{\"colorbar\":{\"outlinewidth\":0,\"ticks\":\"\"}},\"marker\":{\"colorbar\":{\"outlinewidth\":0,\"ticks\":\"\"}}}],\"scattermapbox\":[{\"type\":\"scattermapbox\",\"marker\":{\"colorbar\":{\"outlinewidth\":0,\"ticks\":\"\"}}}],\"scatterternary\":[{\"type\":\"scatterternary\",\"marker\":{\"colorbar\":{\"outlinewidth\":0,\"ticks\":\"\"}}}],\"scattercarpet\":[{\"type\":\"scattercarpet\",\"marker\":{\"colorbar\":{\"outlinewidth\":0,\"ticks\":\"\"}}}],\"carpet\":[{\"aaxis\":{\"endlinecolor\":\"#2a3f5f\",\"gridcolor\":\"white\",\"linecolor\":\"white\",\"minorgridcolor\":\"white\",\"startlinecolor\":\"#2a3f5f\"},\"baxis\":{\"endlinecolor\":\"#2a3f5f\",\"gridcolor\":\"white\",\"linecolor\":\"white\",\"minorgridcolor\":\"white\",\"startlinecolor\":\"#2a3f5f\"},\"type\":\"carpet\"}],\"table\":[{\"cells\":{\"fill\":{\"color\":\"#EBF0F8\"},\"line\":{\"color\":\"white\"}},\"header\":{\"fill\":{\"color\":\"#C8D4E3\"},\"line\":{\"color\":\"white\"}},\"type\":\"table\"}],\"barpolar\":[{\"marker\":{\"line\":{\"color\":\"#E5ECF6\",\"width\":0.5},\"pattern\":{\"fillmode\":\"overlay\",\"size\":10,\"solidity\":0.2}},\"type\":\"barpolar\"}],\"pie\":[{\"automargin\":true,\"type\":\"pie\"}]},\"layout\":{\"autotypenumbers\":\"strict\",\"colorway\":[\"#636efa\",\"#EF553B\",\"#00cc96\",\"#ab63fa\",\"#FFA15A\",\"#19d3f3\",\"#FF6692\",\"#B6E880\",\"#FF97FF\",\"#FECB52\"],\"font\":{\"color\":\"#2a3f5f\"},\"hovermode\":\"closest\",\"hoverlabel\":{\"align\":\"left\"},\"paper_bgcolor\":\"white\",\"plot_bgcolor\":\"#E5ECF6\",\"polar\":{\"bgcolor\":\"#E5ECF6\",\"angularaxis\":{\"gridcolor\":\"white\",\"linecolor\":\"white\",\"ticks\":\"\"},\"radialaxis\":{\"gridcolor\":\"white\",\"linecolor\":\"white\",\"ticks\":\"\"}},\"ternary\":{\"bgcolor\":\"#E5ECF6\",\"aaxis\":{\"gridcolor\":\"white\",\"linecolor\":\"white\",\"ticks\":\"\"},\"baxis\":{\"gridcolor\":\"white\",\"linecolor\":\"white\",\"ticks\":\"\"},\"caxis\":{\"gridcolor\":\"white\",\"linecolor\":\"white\",\"ticks\":\"\"}},\"coloraxis\":{\"colorbar\":{\"outlinewidth\":0,\"ticks\":\"\"}},\"colorscale\":{\"sequential\":[[0.0,\"#0d0887\"],[0.1111111111111111,\"#46039f\"],[0.2222222222222222,\"#7201a8\"],[0.3333333333333333,\"#9c179e\"],[0.4444444444444444,\"#bd3786\"],[0.5555555555555556,\"#d8576b\"],[0.6666666666666666,\"#ed7953\"],[0.7777777777777778,\"#fb9f3a\"],[0.8888888888888888,\"#fdca26\"],[1.0,\"#f0f921\"]],\"sequentialminus\":[[0.0,\"#0d0887\"],[0.1111111111111111,\"#46039f\"],[0.2222222222222222,\"#7201a8\"],[0.3333333333333333,\"#9c179e\"],[0.4444444444444444,\"#bd3786\"],[0.5555555555555556,\"#d8576b\"],[0.6666666666666666,\"#ed7953\"],[0.7777777777777778,\"#fb9f3a\"],[0.8888888888888888,\"#fdca26\"],[1.0,\"#f0f921\"]],\"diverging\":[[0,\"#8e0152\"],[0.1,\"#c51b7d\"],[0.2,\"#de77ae\"],[0.3,\"#f1b6da\"],[0.4,\"#fde0ef\"],[0.5,\"#f7f7f7\"],[0.6,\"#e6f5d0\"],[0.7,\"#b8e186\"],[0.8,\"#7fbc41\"],[0.9,\"#4d9221\"],[1,\"#276419\"]]},\"xaxis\":{\"gridcolor\":\"white\",\"linecolor\":\"white\",\"ticks\":\"\",\"title\":{\"standoff\":15},\"zerolinecolor\":\"white\",\"automargin\":true,\"zerolinewidth\":2},\"yaxis\":{\"gridcolor\":\"white\",\"linecolor\":\"white\",\"ticks\":\"\",\"title\":{\"standoff\":15},\"zerolinecolor\":\"white\",\"automargin\":true,\"zerolinewidth\":2},\"scene\":{\"xaxis\":{\"backgroundcolor\":\"#E5ECF6\",\"gridcolor\":\"white\",\"linecolor\":\"white\",\"showbackground\":true,\"ticks\":\"\",\"zerolinecolor\":\"white\",\"gridwidth\":2},\"yaxis\":{\"backgroundcolor\":\"#E5ECF6\",\"gridcolor\":\"white\",\"linecolor\":\"white\",\"showbackground\":true,\"ticks\":\"\",\"zerolinecolor\":\"white\",\"gridwidth\":2},\"zaxis\":{\"backgroundcolor\":\"#E5ECF6\",\"gridcolor\":\"white\",\"linecolor\":\"white\",\"showbackground\":true,\"ticks\":\"\",\"zerolinecolor\":\"white\",\"gridwidth\":2}},\"shapedefaults\":{\"line\":{\"color\":\"#2a3f5f\"}},\"annotationdefaults\":{\"arrowcolor\":\"#2a3f5f\",\"arrowhead\":0,\"arrowwidth\":1},\"geo\":{\"bgcolor\":\"white\",\"landcolor\":\"#E5ECF6\",\"subunitcolor\":\"white\",\"showland\":true,\"showlakes\":true,\"lakecolor\":\"white\"},\"title\":{\"x\":0.05},\"mapbox\":{\"style\":\"light\"}}},\"shapes\":[{\"line\":{\"color\":\"green\",\"dash\":\"dash\",\"width\":3},\"type\":\"line\",\"x0\":91,\"x1\":91,\"xref\":\"x\",\"y0\":0,\"y1\":1,\"yref\":\"y domain\"},{\"line\":{\"color\":\"green\",\"dash\":\"dash\",\"width\":3},\"type\":\"line\",\"x0\":140,\"x1\":140,\"xref\":\"x\",\"y0\":0,\"y1\":1,\"yref\":\"y domain\"}]},                        {\"responsive\": true}                    ).then(function(){\n",
       "                            \n",
       "var gd = document.getElementById('04526402-3b8b-4b95-a5c1-fc31cf43ee2d');\n",
       "var x = new MutationObserver(function (mutations, observer) {{\n",
       "        var display = window.getComputedStyle(gd).display;\n",
       "        if (!display || display === 'none') {{\n",
       "            console.log([gd, 'removed!']);\n",
       "            Plotly.purge(gd);\n",
       "            observer.disconnect();\n",
       "        }}\n",
       "}});\n",
       "\n",
       "// Listen for the removal of the full notebook cells\n",
       "var notebookContainer = gd.closest('#notebook-container');\n",
       "if (notebookContainer) {{\n",
       "    x.observe(notebookContainer, {childList: true});\n",
       "}}\n",
       "\n",
       "// Listen for the clearing of the current output cell\n",
       "var outputEl = gd.closest('.output');\n",
       "if (outputEl) {{\n",
       "    x.observe(outputEl, {childList: true});\n",
       "}}\n",
       "\n",
       "                        })                };                });            </script>        </div>"
      ]
     },
     "metadata": {},
     "output_type": "display_data"
    },
    {
     "data": {
      "application/vnd.plotly.v1+json": {
       "config": {
        "plotlyServerURL": "https://plot.ly"
       },
       "data": [
        {
         "close": [
          84.1,
          81.6,
          80.4,
          81.7,
          81.8,
          81.2,
          81.5,
          81.5,
          81.2,
          81,
          82.9,
          82.9,
          81.9,
          81.5,
          83,
          82.5,
          86,
          85.8,
          85.1,
          87,
          87.5,
          91,
          90,
          89.2,
          86.4,
          90,
          90.5,
          90.3,
          89.2,
          87.6,
          87.7,
          86.7,
          85.9,
          84.9,
          85,
          85.2,
          85.9,
          86.1,
          85.8,
          85.8,
          84.6,
          83.3,
          83,
          82,
          82.9,
          82.8,
          83.4,
          82,
          82,
          83,
          82,
          80.9,
          80,
          80.9,
          83,
          85.5,
          85.5,
          88,
          87.6,
          87.9,
          86.1,
          85,
          86,
          84,
          82.4,
          84.8,
          83.5,
          83.3,
          82.5,
          81.8,
          82,
          82,
          82,
          83.5,
          78,
          75,
          73.5,
          74.4,
          73.3,
          72,
          72.5,
          74.3,
          73.7,
          76.8,
          76.1,
          77,
          77,
          76.9,
          74,
          73.1,
          75.5,
          75.2,
          75.2,
          75,
          76.7,
          75.4,
          74.6,
          75,
          75.2,
          75.3,
          75.8,
          76,
          76.1,
          76.8,
          77.1,
          77,
          77,
          77.5,
          77.6,
          76.7,
          77,
          77.5,
          76.8,
          74,
          74,
          68.5,
          70.9,
          73.4,
          71.5,
          73.6,
          73,
          73,
          71.7,
          69.1,
          71,
          72,
          71.9,
          70.9,
          70,
          70.2,
          69.1,
          68.7,
          68,
          67.4,
          67.6,
          67.9,
          68,
          68.9,
          71.3,
          71.5,
          72,
          71.3,
          73.5,
          72.9,
          72.5,
          73.2,
          71.3
         ],
         "high": [
          85,
          84,
          81.5,
          81.9,
          82.5,
          82.5,
          82,
          81.9,
          81.5,
          81.4,
          82.9,
          82.9,
          82.5,
          82,
          83,
          84,
          86,
          86.9,
          85.7,
          87.2,
          87.8,
          91.6,
          91,
          89.8,
          89,
          91,
          90.5,
          90.5,
          90.2,
          90.5,
          89,
          88.3,
          87.8,
          86.9,
          85.9,
          85.9,
          86.8,
          87,
          86.9,
          85.8,
          85.7,
          85,
          83.5,
          83,
          83,
          83.8,
          83.5,
          83.4,
          83,
          83.2,
          83.9,
          82,
          80.5,
          81,
          83.9,
          86,
          86.3,
          88.5,
          88.5,
          88,
          88.1,
          85.8,
          86,
          86,
          83,
          85,
          84.5,
          85.6,
          82.7,
          83.4,
          82.5,
          83.1,
          83,
          83.5,
          82.9,
          79.6,
          74.9,
          75,
          74.4,
          73.4,
          72.5,
          74.3,
          75,
          76.9,
          77,
          77,
          77.8,
          77,
          76.2,
          74.9,
          75.5,
          76,
          76,
          75.6,
          76.7,
          76.5,
          75.6,
          75,
          75.7,
          75.7,
          75.8,
          76.2,
          76.1,
          76.9,
          77.1,
          77.3,
          77.8,
          77.8,
          77.8,
          77.4,
          77,
          77.5,
          77.7,
          76.7,
          75.8,
          76,
          73,
          73.7,
          73.9,
          73.6,
          73.5,
          73,
          73.2,
          73,
          71.9,
          72,
          72,
          71.5,
          70.4,
          71.9,
          70.2,
          69.1,
          68.7,
          68,
          68,
          69.2,
          68.5,
          69,
          71.8,
          71.6,
          72,
          71.9,
          73.5,
          73.5,
          72.8,
          73.2,
          74.5
         ],
         "low": [
          84.1,
          81.6,
          79.1,
          80.4,
          80.8,
          81.2,
          81.5,
          81,
          80.7,
          80.4,
          80.1,
          81,
          80.4,
          80.8,
          80.9,
          82,
          83.7,
          85.5,
          84.5,
          84.4,
          86,
          88.1,
          90,
          88.2,
          86.1,
          87.1,
          89.1,
          89.6,
          87.5,
          87.6,
          87.7,
          86.6,
          84.5,
          84.9,
          82.7,
          84.8,
          84.5,
          85.7,
          85.7,
          84,
          84.1,
          83.1,
          81.5,
          80.7,
          81.3,
          82,
          82.5,
          82,
          81.2,
          82.4,
          82,
          80.6,
          79.6,
          79.9,
          80.9,
          83.3,
          85,
          85.5,
          87.1,
          86.7,
          85.5,
          83.2,
          84.5,
          84,
          81.8,
          82,
          82,
          82.6,
          81.9,
          81.8,
          81.3,
          81.1,
          81.3,
          82,
          75.4,
          74,
          72.6,
          73.5,
          72.6,
          71.9,
          70.8,
          72.1,
          73.6,
          74,
          75.9,
          75.2,
          76.2,
          76.1,
          74,
          72.5,
          73,
          75,
          75,
          74.7,
          75,
          74.1,
          72.6,
          73,
          74.9,
          73.2,
          73.5,
          75,
          74.3,
          75.3,
          76.3,
          76.5,
          76.6,
          77,
          77,
          75.4,
          75.1,
          76,
          76.3,
          74,
          73,
          68.3,
          68.8,
          71.1,
          71.5,
          71.6,
          72.3,
          72.2,
          71.7,
          69,
          69.5,
          69.8,
          70.8,
          69.7,
          70,
          70.2,
          69,
          68.7,
          67,
          67.2,
          67.6,
          67.5,
          67.5,
          67.5,
          67.8,
          70.3,
          71.3,
          71.3,
          71.2,
          72.6,
          72.5,
          71.3,
          71.3
         ],
         "open": [
          84.5,
          84,
          81,
          80.4,
          81.7,
          82.5,
          81.9,
          81.9,
          81,
          81,
          81,
          82.9,
          82,
          81.1,
          81.9,
          82.5,
          84.6,
          86.2,
          85.7,
          84.9,
          86,
          88.1,
          91,
          89.5,
          89,
          87.7,
          90,
          90.3,
          90.2,
          90.4,
          89,
          88,
          86.4,
          85.9,
          83,
          85,
          85.2,
          86.4,
          86.7,
          85.3,
          84.1,
          85,
          83.2,
          83,
          81.3,
          82.9,
          82.5,
          83.4,
          81.4,
          82.5,
          83,
          81.7,
          80.5,
          79.9,
          80.9,
          83.3,
          86,
          85.5,
          87.5,
          87.5,
          86.6,
          85.8,
          85,
          86,
          83,
          82.5,
          84.5,
          82.6,
          82.6,
          83.4,
          82.5,
          82,
          81.8,
          82,
          82.9,
          79.6,
          74.5,
          73.5,
          74.4,
          72.8,
          72,
          72.1,
          74.3,
          74,
          76.8,
          75.5,
          77.5,
          77,
          76.2,
          74.9,
          73.9,
          76,
          75.6,
          75.4,
          75.6,
          76.5,
          75.6,
          73,
          75,
          75.7,
          73.5,
          75.8,
          76,
          75.8,
          76.5,
          77.3,
          76.6,
          77,
          77.6,
          77.4,
          75.3,
          76.9,
          77.5,
          76.7,
          73.9,
          75.8,
          69.6,
          71.1,
          73.9,
          73.6,
          73.5,
          73,
          72.5,
          72.5,
          69.5,
          71.3,
          72,
          71.4,
          70.4,
          70.9,
          70,
          69.1,
          68.7,
          68,
          67.9,
          68,
          67.6,
          68.4,
          69.5,
          71.2,
          71.9,
          71.5,
          71.3,
          73.5,
          72.8,
          71.5,
          73.5
         ],
         "type": "candlestick",
         "x": [
          0,
          1,
          2,
          3,
          4,
          5,
          6,
          7,
          8,
          9,
          10,
          11,
          12,
          13,
          14,
          15,
          16,
          17,
          18,
          19,
          20,
          21,
          22,
          23,
          24,
          25,
          26,
          27,
          28,
          29,
          30,
          31,
          32,
          33,
          34,
          35,
          36,
          37,
          38,
          39,
          40,
          41,
          42,
          43,
          44,
          45,
          46,
          47,
          48,
          49,
          50,
          51,
          52,
          53,
          54,
          55,
          56,
          57,
          58,
          59,
          60,
          61,
          62,
          63,
          64,
          65,
          66,
          67,
          68,
          69,
          70,
          71,
          72,
          73,
          74,
          75,
          76,
          77,
          78,
          79,
          80,
          81,
          82,
          83,
          84,
          85,
          86,
          87,
          88,
          89,
          90,
          91,
          92,
          93,
          94,
          95,
          96,
          97,
          98,
          99,
          100,
          101,
          102,
          103,
          104,
          105,
          106,
          107,
          108,
          109,
          110,
          111,
          112,
          113,
          114,
          115,
          116,
          117,
          118,
          119,
          120,
          121,
          122,
          123,
          124,
          125,
          126,
          127,
          128,
          129,
          130,
          131,
          132,
          133,
          134,
          135,
          136,
          137,
          138,
          139,
          140,
          141,
          142,
          143,
          144,
          145,
          146
         ]
        }
       ],
       "layout": {
        "shapes": [
         {
          "line": {
           "color": "green",
           "dash": "dash",
           "width": 3
          },
          "type": "line",
          "x0": 94,
          "x1": 94,
          "xref": "x",
          "y0": 0,
          "y1": 1,
          "yref": "y domain"
         },
         {
          "line": {
           "color": "green",
           "dash": "dash",
           "width": 3
          },
          "type": "line",
          "x0": 143,
          "x1": 143,
          "xref": "x",
          "y0": 0,
          "y1": 1,
          "yref": "y domain"
         }
        ],
        "template": {
         "data": {
          "bar": [
           {
            "error_x": {
             "color": "#2a3f5f"
            },
            "error_y": {
             "color": "#2a3f5f"
            },
            "marker": {
             "line": {
              "color": "#E5ECF6",
              "width": 0.5
             },
             "pattern": {
              "fillmode": "overlay",
              "size": 10,
              "solidity": 0.2
             }
            },
            "type": "bar"
           }
          ],
          "barpolar": [
           {
            "marker": {
             "line": {
              "color": "#E5ECF6",
              "width": 0.5
             },
             "pattern": {
              "fillmode": "overlay",
              "size": 10,
              "solidity": 0.2
             }
            },
            "type": "barpolar"
           }
          ],
          "carpet": [
           {
            "aaxis": {
             "endlinecolor": "#2a3f5f",
             "gridcolor": "white",
             "linecolor": "white",
             "minorgridcolor": "white",
             "startlinecolor": "#2a3f5f"
            },
            "baxis": {
             "endlinecolor": "#2a3f5f",
             "gridcolor": "white",
             "linecolor": "white",
             "minorgridcolor": "white",
             "startlinecolor": "#2a3f5f"
            },
            "type": "carpet"
           }
          ],
          "choropleth": [
           {
            "colorbar": {
             "outlinewidth": 0,
             "ticks": ""
            },
            "type": "choropleth"
           }
          ],
          "contour": [
           {
            "colorbar": {
             "outlinewidth": 0,
             "ticks": ""
            },
            "colorscale": [
             [
              0,
              "#0d0887"
             ],
             [
              0.1111111111111111,
              "#46039f"
             ],
             [
              0.2222222222222222,
              "#7201a8"
             ],
             [
              0.3333333333333333,
              "#9c179e"
             ],
             [
              0.4444444444444444,
              "#bd3786"
             ],
             [
              0.5555555555555556,
              "#d8576b"
             ],
             [
              0.6666666666666666,
              "#ed7953"
             ],
             [
              0.7777777777777778,
              "#fb9f3a"
             ],
             [
              0.8888888888888888,
              "#fdca26"
             ],
             [
              1,
              "#f0f921"
             ]
            ],
            "type": "contour"
           }
          ],
          "contourcarpet": [
           {
            "colorbar": {
             "outlinewidth": 0,
             "ticks": ""
            },
            "type": "contourcarpet"
           }
          ],
          "heatmap": [
           {
            "colorbar": {
             "outlinewidth": 0,
             "ticks": ""
            },
            "colorscale": [
             [
              0,
              "#0d0887"
             ],
             [
              0.1111111111111111,
              "#46039f"
             ],
             [
              0.2222222222222222,
              "#7201a8"
             ],
             [
              0.3333333333333333,
              "#9c179e"
             ],
             [
              0.4444444444444444,
              "#bd3786"
             ],
             [
              0.5555555555555556,
              "#d8576b"
             ],
             [
              0.6666666666666666,
              "#ed7953"
             ],
             [
              0.7777777777777778,
              "#fb9f3a"
             ],
             [
              0.8888888888888888,
              "#fdca26"
             ],
             [
              1,
              "#f0f921"
             ]
            ],
            "type": "heatmap"
           }
          ],
          "heatmapgl": [
           {
            "colorbar": {
             "outlinewidth": 0,
             "ticks": ""
            },
            "colorscale": [
             [
              0,
              "#0d0887"
             ],
             [
              0.1111111111111111,
              "#46039f"
             ],
             [
              0.2222222222222222,
              "#7201a8"
             ],
             [
              0.3333333333333333,
              "#9c179e"
             ],
             [
              0.4444444444444444,
              "#bd3786"
             ],
             [
              0.5555555555555556,
              "#d8576b"
             ],
             [
              0.6666666666666666,
              "#ed7953"
             ],
             [
              0.7777777777777778,
              "#fb9f3a"
             ],
             [
              0.8888888888888888,
              "#fdca26"
             ],
             [
              1,
              "#f0f921"
             ]
            ],
            "type": "heatmapgl"
           }
          ],
          "histogram": [
           {
            "marker": {
             "pattern": {
              "fillmode": "overlay",
              "size": 10,
              "solidity": 0.2
             }
            },
            "type": "histogram"
           }
          ],
          "histogram2d": [
           {
            "colorbar": {
             "outlinewidth": 0,
             "ticks": ""
            },
            "colorscale": [
             [
              0,
              "#0d0887"
             ],
             [
              0.1111111111111111,
              "#46039f"
             ],
             [
              0.2222222222222222,
              "#7201a8"
             ],
             [
              0.3333333333333333,
              "#9c179e"
             ],
             [
              0.4444444444444444,
              "#bd3786"
             ],
             [
              0.5555555555555556,
              "#d8576b"
             ],
             [
              0.6666666666666666,
              "#ed7953"
             ],
             [
              0.7777777777777778,
              "#fb9f3a"
             ],
             [
              0.8888888888888888,
              "#fdca26"
             ],
             [
              1,
              "#f0f921"
             ]
            ],
            "type": "histogram2d"
           }
          ],
          "histogram2dcontour": [
           {
            "colorbar": {
             "outlinewidth": 0,
             "ticks": ""
            },
            "colorscale": [
             [
              0,
              "#0d0887"
             ],
             [
              0.1111111111111111,
              "#46039f"
             ],
             [
              0.2222222222222222,
              "#7201a8"
             ],
             [
              0.3333333333333333,
              "#9c179e"
             ],
             [
              0.4444444444444444,
              "#bd3786"
             ],
             [
              0.5555555555555556,
              "#d8576b"
             ],
             [
              0.6666666666666666,
              "#ed7953"
             ],
             [
              0.7777777777777778,
              "#fb9f3a"
             ],
             [
              0.8888888888888888,
              "#fdca26"
             ],
             [
              1,
              "#f0f921"
             ]
            ],
            "type": "histogram2dcontour"
           }
          ],
          "mesh3d": [
           {
            "colorbar": {
             "outlinewidth": 0,
             "ticks": ""
            },
            "type": "mesh3d"
           }
          ],
          "parcoords": [
           {
            "line": {
             "colorbar": {
              "outlinewidth": 0,
              "ticks": ""
             }
            },
            "type": "parcoords"
           }
          ],
          "pie": [
           {
            "automargin": true,
            "type": "pie"
           }
          ],
          "scatter": [
           {
            "fillpattern": {
             "fillmode": "overlay",
             "size": 10,
             "solidity": 0.2
            },
            "type": "scatter"
           }
          ],
          "scatter3d": [
           {
            "line": {
             "colorbar": {
              "outlinewidth": 0,
              "ticks": ""
             }
            },
            "marker": {
             "colorbar": {
              "outlinewidth": 0,
              "ticks": ""
             }
            },
            "type": "scatter3d"
           }
          ],
          "scattercarpet": [
           {
            "marker": {
             "colorbar": {
              "outlinewidth": 0,
              "ticks": ""
             }
            },
            "type": "scattercarpet"
           }
          ],
          "scattergeo": [
           {
            "marker": {
             "colorbar": {
              "outlinewidth": 0,
              "ticks": ""
             }
            },
            "type": "scattergeo"
           }
          ],
          "scattergl": [
           {
            "marker": {
             "colorbar": {
              "outlinewidth": 0,
              "ticks": ""
             }
            },
            "type": "scattergl"
           }
          ],
          "scattermapbox": [
           {
            "marker": {
             "colorbar": {
              "outlinewidth": 0,
              "ticks": ""
             }
            },
            "type": "scattermapbox"
           }
          ],
          "scatterpolar": [
           {
            "marker": {
             "colorbar": {
              "outlinewidth": 0,
              "ticks": ""
             }
            },
            "type": "scatterpolar"
           }
          ],
          "scatterpolargl": [
           {
            "marker": {
             "colorbar": {
              "outlinewidth": 0,
              "ticks": ""
             }
            },
            "type": "scatterpolargl"
           }
          ],
          "scatterternary": [
           {
            "marker": {
             "colorbar": {
              "outlinewidth": 0,
              "ticks": ""
             }
            },
            "type": "scatterternary"
           }
          ],
          "surface": [
           {
            "colorbar": {
             "outlinewidth": 0,
             "ticks": ""
            },
            "colorscale": [
             [
              0,
              "#0d0887"
             ],
             [
              0.1111111111111111,
              "#46039f"
             ],
             [
              0.2222222222222222,
              "#7201a8"
             ],
             [
              0.3333333333333333,
              "#9c179e"
             ],
             [
              0.4444444444444444,
              "#bd3786"
             ],
             [
              0.5555555555555556,
              "#d8576b"
             ],
             [
              0.6666666666666666,
              "#ed7953"
             ],
             [
              0.7777777777777778,
              "#fb9f3a"
             ],
             [
              0.8888888888888888,
              "#fdca26"
             ],
             [
              1,
              "#f0f921"
             ]
            ],
            "type": "surface"
           }
          ],
          "table": [
           {
            "cells": {
             "fill": {
              "color": "#EBF0F8"
             },
             "line": {
              "color": "white"
             }
            },
            "header": {
             "fill": {
              "color": "#C8D4E3"
             },
             "line": {
              "color": "white"
             }
            },
            "type": "table"
           }
          ]
         },
         "layout": {
          "annotationdefaults": {
           "arrowcolor": "#2a3f5f",
           "arrowhead": 0,
           "arrowwidth": 1
          },
          "autotypenumbers": "strict",
          "coloraxis": {
           "colorbar": {
            "outlinewidth": 0,
            "ticks": ""
           }
          },
          "colorscale": {
           "diverging": [
            [
             0,
             "#8e0152"
            ],
            [
             0.1,
             "#c51b7d"
            ],
            [
             0.2,
             "#de77ae"
            ],
            [
             0.3,
             "#f1b6da"
            ],
            [
             0.4,
             "#fde0ef"
            ],
            [
             0.5,
             "#f7f7f7"
            ],
            [
             0.6,
             "#e6f5d0"
            ],
            [
             0.7,
             "#b8e186"
            ],
            [
             0.8,
             "#7fbc41"
            ],
            [
             0.9,
             "#4d9221"
            ],
            [
             1,
             "#276419"
            ]
           ],
           "sequential": [
            [
             0,
             "#0d0887"
            ],
            [
             0.1111111111111111,
             "#46039f"
            ],
            [
             0.2222222222222222,
             "#7201a8"
            ],
            [
             0.3333333333333333,
             "#9c179e"
            ],
            [
             0.4444444444444444,
             "#bd3786"
            ],
            [
             0.5555555555555556,
             "#d8576b"
            ],
            [
             0.6666666666666666,
             "#ed7953"
            ],
            [
             0.7777777777777778,
             "#fb9f3a"
            ],
            [
             0.8888888888888888,
             "#fdca26"
            ],
            [
             1,
             "#f0f921"
            ]
           ],
           "sequentialminus": [
            [
             0,
             "#0d0887"
            ],
            [
             0.1111111111111111,
             "#46039f"
            ],
            [
             0.2222222222222222,
             "#7201a8"
            ],
            [
             0.3333333333333333,
             "#9c179e"
            ],
            [
             0.4444444444444444,
             "#bd3786"
            ],
            [
             0.5555555555555556,
             "#d8576b"
            ],
            [
             0.6666666666666666,
             "#ed7953"
            ],
            [
             0.7777777777777778,
             "#fb9f3a"
            ],
            [
             0.8888888888888888,
             "#fdca26"
            ],
            [
             1,
             "#f0f921"
            ]
           ]
          },
          "colorway": [
           "#636efa",
           "#EF553B",
           "#00cc96",
           "#ab63fa",
           "#FFA15A",
           "#19d3f3",
           "#FF6692",
           "#B6E880",
           "#FF97FF",
           "#FECB52"
          ],
          "font": {
           "color": "#2a3f5f"
          },
          "geo": {
           "bgcolor": "white",
           "lakecolor": "white",
           "landcolor": "#E5ECF6",
           "showlakes": true,
           "showland": true,
           "subunitcolor": "white"
          },
          "hoverlabel": {
           "align": "left"
          },
          "hovermode": "closest",
          "mapbox": {
           "style": "light"
          },
          "paper_bgcolor": "white",
          "plot_bgcolor": "#E5ECF6",
          "polar": {
           "angularaxis": {
            "gridcolor": "white",
            "linecolor": "white",
            "ticks": ""
           },
           "bgcolor": "#E5ECF6",
           "radialaxis": {
            "gridcolor": "white",
            "linecolor": "white",
            "ticks": ""
           }
          },
          "scene": {
           "xaxis": {
            "backgroundcolor": "#E5ECF6",
            "gridcolor": "white",
            "gridwidth": 2,
            "linecolor": "white",
            "showbackground": true,
            "ticks": "",
            "zerolinecolor": "white"
           },
           "yaxis": {
            "backgroundcolor": "#E5ECF6",
            "gridcolor": "white",
            "gridwidth": 2,
            "linecolor": "white",
            "showbackground": true,
            "ticks": "",
            "zerolinecolor": "white"
           },
           "zaxis": {
            "backgroundcolor": "#E5ECF6",
            "gridcolor": "white",
            "gridwidth": 2,
            "linecolor": "white",
            "showbackground": true,
            "ticks": "",
            "zerolinecolor": "white"
           }
          },
          "shapedefaults": {
           "line": {
            "color": "#2a3f5f"
           }
          },
          "ternary": {
           "aaxis": {
            "gridcolor": "white",
            "linecolor": "white",
            "ticks": ""
           },
           "baxis": {
            "gridcolor": "white",
            "linecolor": "white",
            "ticks": ""
           },
           "bgcolor": "#E5ECF6",
           "caxis": {
            "gridcolor": "white",
            "linecolor": "white",
            "ticks": ""
           }
          },
          "title": {
           "x": 0.05
          },
          "xaxis": {
           "automargin": true,
           "gridcolor": "white",
           "linecolor": "white",
           "ticks": "",
           "title": {
            "standoff": 15
           },
           "zerolinecolor": "white",
           "zerolinewidth": 2
          },
          "yaxis": {
           "automargin": true,
           "gridcolor": "white",
           "linecolor": "white",
           "ticks": "",
           "title": {
            "standoff": 15
           },
           "zerolinecolor": "white",
           "zerolinewidth": 2
          }
         }
        }
       }
      },
      "text/html": [
       "<div>                            <div id=\"e82e6e34-7401-4670-9436-d467e02319e8\" class=\"plotly-graph-div\" style=\"height:525px; width:100%;\"></div>            <script type=\"text/javascript\">                require([\"plotly\"], function(Plotly) {                    window.PLOTLYENV=window.PLOTLYENV || {};                                    if (document.getElementById(\"e82e6e34-7401-4670-9436-d467e02319e8\")) {                    Plotly.newPlot(                        \"e82e6e34-7401-4670-9436-d467e02319e8\",                        [{\"close\":[84.1,81.6,80.4,81.7,81.8,81.2,81.5,81.5,81.2,81.0,82.9,82.9,81.9,81.5,83.0,82.5,86.0,85.8,85.1,87.0,87.5,91.0,90.0,89.2,86.4,90.0,90.5,90.3,89.2,87.6,87.7,86.7,85.9,84.9,85.0,85.2,85.9,86.1,85.8,85.8,84.6,83.3,83.0,82.0,82.9,82.8,83.4,82.0,82.0,83.0,82.0,80.9,80.0,80.9,83.0,85.5,85.5,88.0,87.6,87.9,86.1,85.0,86.0,84.0,82.4,84.8,83.5,83.3,82.5,81.8,82.0,82.0,82.0,83.5,78.0,75.0,73.5,74.4,73.3,72.0,72.5,74.3,73.7,76.8,76.1,77.0,77.0,76.9,74.0,73.1,75.5,75.2,75.2,75.0,76.7,75.4,74.6,75.0,75.2,75.3,75.8,76.0,76.1,76.8,77.1,77.0,77.0,77.5,77.6,76.7,77.0,77.5,76.8,74.0,74.0,68.5,70.9,73.4,71.5,73.6,73.0,73.0,71.7,69.1,71.0,72.0,71.9,70.9,70.0,70.2,69.1,68.7,68.0,67.4,67.6,67.9,68.0,68.9,71.3,71.5,72.0,71.3,73.5,72.9,72.5,73.2,71.3],\"high\":[85.0,84.0,81.5,81.9,82.5,82.5,82.0,81.9,81.5,81.4,82.9,82.9,82.5,82.0,83.0,84.0,86.0,86.9,85.7,87.2,87.8,91.6,91.0,89.8,89.0,91.0,90.5,90.5,90.2,90.5,89.0,88.3,87.8,86.9,85.9,85.9,86.8,87.0,86.9,85.8,85.7,85.0,83.5,83.0,83.0,83.8,83.5,83.4,83.0,83.2,83.9,82.0,80.5,81.0,83.9,86.0,86.3,88.5,88.5,88.0,88.1,85.8,86.0,86.0,83.0,85.0,84.5,85.6,82.7,83.4,82.5,83.1,83.0,83.5,82.9,79.6,74.9,75.0,74.4,73.4,72.5,74.3,75.0,76.9,77.0,77.0,77.8,77.0,76.2,74.9,75.5,76.0,76.0,75.6,76.7,76.5,75.6,75.0,75.7,75.7,75.8,76.2,76.1,76.9,77.1,77.3,77.8,77.8,77.8,77.4,77.0,77.5,77.7,76.7,75.8,76.0,73.0,73.7,73.9,73.6,73.5,73.0,73.2,73.0,71.9,72.0,72.0,71.5,70.4,71.9,70.2,69.1,68.7,68.0,68.0,69.2,68.5,69.0,71.8,71.6,72.0,71.9,73.5,73.5,72.8,73.2,74.5],\"low\":[84.1,81.6,79.1,80.4,80.8,81.2,81.5,81.0,80.7,80.4,80.1,81.0,80.4,80.8,80.9,82.0,83.7,85.5,84.5,84.4,86.0,88.1,90.0,88.2,86.1,87.1,89.1,89.6,87.5,87.6,87.7,86.6,84.5,84.9,82.7,84.8,84.5,85.7,85.7,84.0,84.1,83.1,81.5,80.7,81.3,82.0,82.5,82.0,81.2,82.4,82.0,80.6,79.6,79.9,80.9,83.3,85.0,85.5,87.1,86.7,85.5,83.2,84.5,84.0,81.8,82.0,82.0,82.6,81.9,81.8,81.3,81.1,81.3,82.0,75.4,74.0,72.6,73.5,72.6,71.9,70.8,72.1,73.6,74.0,75.9,75.2,76.2,76.1,74.0,72.5,73.0,75.0,75.0,74.7,75.0,74.1,72.6,73.0,74.9,73.2,73.5,75.0,74.3,75.3,76.3,76.5,76.6,77.0,77.0,75.4,75.1,76.0,76.3,74.0,73.0,68.3,68.8,71.1,71.5,71.6,72.3,72.2,71.7,69.0,69.5,69.8,70.8,69.7,70.0,70.2,69.0,68.7,67.0,67.2,67.6,67.5,67.5,67.5,67.8,70.3,71.3,71.3,71.2,72.6,72.5,71.3,71.3],\"open\":[84.5,84.0,81.0,80.4,81.7,82.5,81.9,81.9,81.0,81.0,81.0,82.9,82.0,81.1,81.9,82.5,84.6,86.2,85.7,84.9,86.0,88.1,91.0,89.5,89.0,87.7,90.0,90.3,90.2,90.4,89.0,88.0,86.4,85.9,83.0,85.0,85.2,86.4,86.7,85.3,84.1,85.0,83.2,83.0,81.3,82.9,82.5,83.4,81.4,82.5,83.0,81.7,80.5,79.9,80.9,83.3,86.0,85.5,87.5,87.5,86.6,85.8,85.0,86.0,83.0,82.5,84.5,82.6,82.6,83.4,82.5,82.0,81.8,82.0,82.9,79.6,74.5,73.5,74.4,72.8,72.0,72.1,74.3,74.0,76.8,75.5,77.5,77.0,76.2,74.9,73.9,76.0,75.6,75.4,75.6,76.5,75.6,73.0,75.0,75.7,73.5,75.8,76.0,75.8,76.5,77.3,76.6,77.0,77.6,77.4,75.3,76.9,77.5,76.7,73.9,75.8,69.6,71.1,73.9,73.6,73.5,73.0,72.5,72.5,69.5,71.3,72.0,71.4,70.4,70.9,70.0,69.1,68.7,68.0,67.9,68.0,67.6,68.4,69.5,71.2,71.9,71.5,71.3,73.5,72.8,71.5,73.5],\"x\":[0,1,2,3,4,5,6,7,8,9,10,11,12,13,14,15,16,17,18,19,20,21,22,23,24,25,26,27,28,29,30,31,32,33,34,35,36,37,38,39,40,41,42,43,44,45,46,47,48,49,50,51,52,53,54,55,56,57,58,59,60,61,62,63,64,65,66,67,68,69,70,71,72,73,74,75,76,77,78,79,80,81,82,83,84,85,86,87,88,89,90,91,92,93,94,95,96,97,98,99,100,101,102,103,104,105,106,107,108,109,110,111,112,113,114,115,116,117,118,119,120,121,122,123,124,125,126,127,128,129,130,131,132,133,134,135,136,137,138,139,140,141,142,143,144,145,146],\"type\":\"candlestick\"}],                        {\"template\":{\"data\":{\"histogram2dcontour\":[{\"type\":\"histogram2dcontour\",\"colorbar\":{\"outlinewidth\":0,\"ticks\":\"\"},\"colorscale\":[[0.0,\"#0d0887\"],[0.1111111111111111,\"#46039f\"],[0.2222222222222222,\"#7201a8\"],[0.3333333333333333,\"#9c179e\"],[0.4444444444444444,\"#bd3786\"],[0.5555555555555556,\"#d8576b\"],[0.6666666666666666,\"#ed7953\"],[0.7777777777777778,\"#fb9f3a\"],[0.8888888888888888,\"#fdca26\"],[1.0,\"#f0f921\"]]}],\"choropleth\":[{\"type\":\"choropleth\",\"colorbar\":{\"outlinewidth\":0,\"ticks\":\"\"}}],\"histogram2d\":[{\"type\":\"histogram2d\",\"colorbar\":{\"outlinewidth\":0,\"ticks\":\"\"},\"colorscale\":[[0.0,\"#0d0887\"],[0.1111111111111111,\"#46039f\"],[0.2222222222222222,\"#7201a8\"],[0.3333333333333333,\"#9c179e\"],[0.4444444444444444,\"#bd3786\"],[0.5555555555555556,\"#d8576b\"],[0.6666666666666666,\"#ed7953\"],[0.7777777777777778,\"#fb9f3a\"],[0.8888888888888888,\"#fdca26\"],[1.0,\"#f0f921\"]]}],\"heatmap\":[{\"type\":\"heatmap\",\"colorbar\":{\"outlinewidth\":0,\"ticks\":\"\"},\"colorscale\":[[0.0,\"#0d0887\"],[0.1111111111111111,\"#46039f\"],[0.2222222222222222,\"#7201a8\"],[0.3333333333333333,\"#9c179e\"],[0.4444444444444444,\"#bd3786\"],[0.5555555555555556,\"#d8576b\"],[0.6666666666666666,\"#ed7953\"],[0.7777777777777778,\"#fb9f3a\"],[0.8888888888888888,\"#fdca26\"],[1.0,\"#f0f921\"]]}],\"heatmapgl\":[{\"type\":\"heatmapgl\",\"colorbar\":{\"outlinewidth\":0,\"ticks\":\"\"},\"colorscale\":[[0.0,\"#0d0887\"],[0.1111111111111111,\"#46039f\"],[0.2222222222222222,\"#7201a8\"],[0.3333333333333333,\"#9c179e\"],[0.4444444444444444,\"#bd3786\"],[0.5555555555555556,\"#d8576b\"],[0.6666666666666666,\"#ed7953\"],[0.7777777777777778,\"#fb9f3a\"],[0.8888888888888888,\"#fdca26\"],[1.0,\"#f0f921\"]]}],\"contourcarpet\":[{\"type\":\"contourcarpet\",\"colorbar\":{\"outlinewidth\":0,\"ticks\":\"\"}}],\"contour\":[{\"type\":\"contour\",\"colorbar\":{\"outlinewidth\":0,\"ticks\":\"\"},\"colorscale\":[[0.0,\"#0d0887\"],[0.1111111111111111,\"#46039f\"],[0.2222222222222222,\"#7201a8\"],[0.3333333333333333,\"#9c179e\"],[0.4444444444444444,\"#bd3786\"],[0.5555555555555556,\"#d8576b\"],[0.6666666666666666,\"#ed7953\"],[0.7777777777777778,\"#fb9f3a\"],[0.8888888888888888,\"#fdca26\"],[1.0,\"#f0f921\"]]}],\"surface\":[{\"type\":\"surface\",\"colorbar\":{\"outlinewidth\":0,\"ticks\":\"\"},\"colorscale\":[[0.0,\"#0d0887\"],[0.1111111111111111,\"#46039f\"],[0.2222222222222222,\"#7201a8\"],[0.3333333333333333,\"#9c179e\"],[0.4444444444444444,\"#bd3786\"],[0.5555555555555556,\"#d8576b\"],[0.6666666666666666,\"#ed7953\"],[0.7777777777777778,\"#fb9f3a\"],[0.8888888888888888,\"#fdca26\"],[1.0,\"#f0f921\"]]}],\"mesh3d\":[{\"type\":\"mesh3d\",\"colorbar\":{\"outlinewidth\":0,\"ticks\":\"\"}}],\"scatter\":[{\"fillpattern\":{\"fillmode\":\"overlay\",\"size\":10,\"solidity\":0.2},\"type\":\"scatter\"}],\"parcoords\":[{\"type\":\"parcoords\",\"line\":{\"colorbar\":{\"outlinewidth\":0,\"ticks\":\"\"}}}],\"scatterpolargl\":[{\"type\":\"scatterpolargl\",\"marker\":{\"colorbar\":{\"outlinewidth\":0,\"ticks\":\"\"}}}],\"bar\":[{\"error_x\":{\"color\":\"#2a3f5f\"},\"error_y\":{\"color\":\"#2a3f5f\"},\"marker\":{\"line\":{\"color\":\"#E5ECF6\",\"width\":0.5},\"pattern\":{\"fillmode\":\"overlay\",\"size\":10,\"solidity\":0.2}},\"type\":\"bar\"}],\"scattergeo\":[{\"type\":\"scattergeo\",\"marker\":{\"colorbar\":{\"outlinewidth\":0,\"ticks\":\"\"}}}],\"scatterpolar\":[{\"type\":\"scatterpolar\",\"marker\":{\"colorbar\":{\"outlinewidth\":0,\"ticks\":\"\"}}}],\"histogram\":[{\"marker\":{\"pattern\":{\"fillmode\":\"overlay\",\"size\":10,\"solidity\":0.2}},\"type\":\"histogram\"}],\"scattergl\":[{\"type\":\"scattergl\",\"marker\":{\"colorbar\":{\"outlinewidth\":0,\"ticks\":\"\"}}}],\"scatter3d\":[{\"type\":\"scatter3d\",\"line\":{\"colorbar\":{\"outlinewidth\":0,\"ticks\":\"\"}},\"marker\":{\"colorbar\":{\"outlinewidth\":0,\"ticks\":\"\"}}}],\"scattermapbox\":[{\"type\":\"scattermapbox\",\"marker\":{\"colorbar\":{\"outlinewidth\":0,\"ticks\":\"\"}}}],\"scatterternary\":[{\"type\":\"scatterternary\",\"marker\":{\"colorbar\":{\"outlinewidth\":0,\"ticks\":\"\"}}}],\"scattercarpet\":[{\"type\":\"scattercarpet\",\"marker\":{\"colorbar\":{\"outlinewidth\":0,\"ticks\":\"\"}}}],\"carpet\":[{\"aaxis\":{\"endlinecolor\":\"#2a3f5f\",\"gridcolor\":\"white\",\"linecolor\":\"white\",\"minorgridcolor\":\"white\",\"startlinecolor\":\"#2a3f5f\"},\"baxis\":{\"endlinecolor\":\"#2a3f5f\",\"gridcolor\":\"white\",\"linecolor\":\"white\",\"minorgridcolor\":\"white\",\"startlinecolor\":\"#2a3f5f\"},\"type\":\"carpet\"}],\"table\":[{\"cells\":{\"fill\":{\"color\":\"#EBF0F8\"},\"line\":{\"color\":\"white\"}},\"header\":{\"fill\":{\"color\":\"#C8D4E3\"},\"line\":{\"color\":\"white\"}},\"type\":\"table\"}],\"barpolar\":[{\"marker\":{\"line\":{\"color\":\"#E5ECF6\",\"width\":0.5},\"pattern\":{\"fillmode\":\"overlay\",\"size\":10,\"solidity\":0.2}},\"type\":\"barpolar\"}],\"pie\":[{\"automargin\":true,\"type\":\"pie\"}]},\"layout\":{\"autotypenumbers\":\"strict\",\"colorway\":[\"#636efa\",\"#EF553B\",\"#00cc96\",\"#ab63fa\",\"#FFA15A\",\"#19d3f3\",\"#FF6692\",\"#B6E880\",\"#FF97FF\",\"#FECB52\"],\"font\":{\"color\":\"#2a3f5f\"},\"hovermode\":\"closest\",\"hoverlabel\":{\"align\":\"left\"},\"paper_bgcolor\":\"white\",\"plot_bgcolor\":\"#E5ECF6\",\"polar\":{\"bgcolor\":\"#E5ECF6\",\"angularaxis\":{\"gridcolor\":\"white\",\"linecolor\":\"white\",\"ticks\":\"\"},\"radialaxis\":{\"gridcolor\":\"white\",\"linecolor\":\"white\",\"ticks\":\"\"}},\"ternary\":{\"bgcolor\":\"#E5ECF6\",\"aaxis\":{\"gridcolor\":\"white\",\"linecolor\":\"white\",\"ticks\":\"\"},\"baxis\":{\"gridcolor\":\"white\",\"linecolor\":\"white\",\"ticks\":\"\"},\"caxis\":{\"gridcolor\":\"white\",\"linecolor\":\"white\",\"ticks\":\"\"}},\"coloraxis\":{\"colorbar\":{\"outlinewidth\":0,\"ticks\":\"\"}},\"colorscale\":{\"sequential\":[[0.0,\"#0d0887\"],[0.1111111111111111,\"#46039f\"],[0.2222222222222222,\"#7201a8\"],[0.3333333333333333,\"#9c179e\"],[0.4444444444444444,\"#bd3786\"],[0.5555555555555556,\"#d8576b\"],[0.6666666666666666,\"#ed7953\"],[0.7777777777777778,\"#fb9f3a\"],[0.8888888888888888,\"#fdca26\"],[1.0,\"#f0f921\"]],\"sequentialminus\":[[0.0,\"#0d0887\"],[0.1111111111111111,\"#46039f\"],[0.2222222222222222,\"#7201a8\"],[0.3333333333333333,\"#9c179e\"],[0.4444444444444444,\"#bd3786\"],[0.5555555555555556,\"#d8576b\"],[0.6666666666666666,\"#ed7953\"],[0.7777777777777778,\"#fb9f3a\"],[0.8888888888888888,\"#fdca26\"],[1.0,\"#f0f921\"]],\"diverging\":[[0,\"#8e0152\"],[0.1,\"#c51b7d\"],[0.2,\"#de77ae\"],[0.3,\"#f1b6da\"],[0.4,\"#fde0ef\"],[0.5,\"#f7f7f7\"],[0.6,\"#e6f5d0\"],[0.7,\"#b8e186\"],[0.8,\"#7fbc41\"],[0.9,\"#4d9221\"],[1,\"#276419\"]]},\"xaxis\":{\"gridcolor\":\"white\",\"linecolor\":\"white\",\"ticks\":\"\",\"title\":{\"standoff\":15},\"zerolinecolor\":\"white\",\"automargin\":true,\"zerolinewidth\":2},\"yaxis\":{\"gridcolor\":\"white\",\"linecolor\":\"white\",\"ticks\":\"\",\"title\":{\"standoff\":15},\"zerolinecolor\":\"white\",\"automargin\":true,\"zerolinewidth\":2},\"scene\":{\"xaxis\":{\"backgroundcolor\":\"#E5ECF6\",\"gridcolor\":\"white\",\"linecolor\":\"white\",\"showbackground\":true,\"ticks\":\"\",\"zerolinecolor\":\"white\",\"gridwidth\":2},\"yaxis\":{\"backgroundcolor\":\"#E5ECF6\",\"gridcolor\":\"white\",\"linecolor\":\"white\",\"showbackground\":true,\"ticks\":\"\",\"zerolinecolor\":\"white\",\"gridwidth\":2},\"zaxis\":{\"backgroundcolor\":\"#E5ECF6\",\"gridcolor\":\"white\",\"linecolor\":\"white\",\"showbackground\":true,\"ticks\":\"\",\"zerolinecolor\":\"white\",\"gridwidth\":2}},\"shapedefaults\":{\"line\":{\"color\":\"#2a3f5f\"}},\"annotationdefaults\":{\"arrowcolor\":\"#2a3f5f\",\"arrowhead\":0,\"arrowwidth\":1},\"geo\":{\"bgcolor\":\"white\",\"landcolor\":\"#E5ECF6\",\"subunitcolor\":\"white\",\"showland\":true,\"showlakes\":true,\"lakecolor\":\"white\"},\"title\":{\"x\":0.05},\"mapbox\":{\"style\":\"light\"}}},\"shapes\":[{\"line\":{\"color\":\"green\",\"dash\":\"dash\",\"width\":3},\"type\":\"line\",\"x0\":94,\"x1\":94,\"xref\":\"x\",\"y0\":0,\"y1\":1,\"yref\":\"y domain\"},{\"line\":{\"color\":\"green\",\"dash\":\"dash\",\"width\":3},\"type\":\"line\",\"x0\":143,\"x1\":143,\"xref\":\"x\",\"y0\":0,\"y1\":1,\"yref\":\"y domain\"}]},                        {\"responsive\": true}                    ).then(function(){\n",
       "                            \n",
       "var gd = document.getElementById('e82e6e34-7401-4670-9436-d467e02319e8');\n",
       "var x = new MutationObserver(function (mutations, observer) {{\n",
       "        var display = window.getComputedStyle(gd).display;\n",
       "        if (!display || display === 'none') {{\n",
       "            console.log([gd, 'removed!']);\n",
       "            Plotly.purge(gd);\n",
       "            observer.disconnect();\n",
       "        }}\n",
       "}});\n",
       "\n",
       "// Listen for the removal of the full notebook cells\n",
       "var notebookContainer = gd.closest('#notebook-container');\n",
       "if (notebookContainer) {{\n",
       "    x.observe(notebookContainer, {childList: true});\n",
       "}}\n",
       "\n",
       "// Listen for the clearing of the current output cell\n",
       "var outputEl = gd.closest('.output');\n",
       "if (outputEl) {{\n",
       "    x.observe(outputEl, {childList: true});\n",
       "}}\n",
       "\n",
       "                        })                };                });            </script>        </div>"
      ]
     },
     "metadata": {},
     "output_type": "display_data"
    },
    {
     "data": {
      "application/vnd.plotly.v1+json": {
       "config": {
        "plotlyServerURL": "https://plot.ly"
       },
       "data": [
        {
         "close": [
          82,
          83.5,
          78,
          75,
          73.5,
          74.4,
          73.3,
          72,
          72.5,
          74.3,
          73.7,
          76.8,
          76.1,
          77,
          77,
          76.9,
          74,
          73.1,
          75.5,
          75.2,
          75.2,
          75,
          76.7,
          75.4,
          74.6,
          75,
          75.2,
          75.3,
          75.8,
          76,
          76.1,
          76.8,
          77.1,
          77,
          77,
          77.5,
          77.6,
          76.7,
          77,
          77.5,
          76.8,
          74,
          74,
          68.5,
          70.9,
          73.4,
          71.5,
          73.6,
          73,
          73,
          71.7,
          69.1,
          71,
          72,
          71.9,
          70.9,
          70,
          70.2,
          69.1,
          68.7,
          68,
          67.4,
          67.6,
          67.9,
          68,
          68.9,
          71.3,
          71.5,
          72,
          71.3,
          73.5,
          72.9,
          72.5,
          73.2,
          71.3,
          71,
          71.6,
          72,
          71.9,
          71.4,
          71.3
         ],
         "high": [
          83,
          83.5,
          82.9,
          79.6,
          74.9,
          75,
          74.4,
          73.4,
          72.5,
          74.3,
          75,
          76.9,
          77,
          77,
          77.8,
          77,
          76.2,
          74.9,
          75.5,
          76,
          76,
          75.6,
          76.7,
          76.5,
          75.6,
          75,
          75.7,
          75.7,
          75.8,
          76.2,
          76.1,
          76.9,
          77.1,
          77.3,
          77.8,
          77.8,
          77.8,
          77.4,
          77,
          77.5,
          77.7,
          76.7,
          75.8,
          76,
          73,
          73.7,
          73.9,
          73.6,
          73.5,
          73,
          73.2,
          73,
          71.9,
          72,
          72,
          71.5,
          70.4,
          71.9,
          70.2,
          69.1,
          68.7,
          68,
          68,
          69.2,
          68.5,
          69,
          71.8,
          71.6,
          72,
          71.9,
          73.5,
          73.5,
          72.8,
          73.2,
          74.5,
          74.3,
          72.2,
          72,
          71.9,
          71.9,
          71.7
         ],
         "low": [
          81.3,
          82,
          75.4,
          74,
          72.6,
          73.5,
          72.6,
          71.9,
          70.8,
          72.1,
          73.6,
          74,
          75.9,
          75.2,
          76.2,
          76.1,
          74,
          72.5,
          73,
          75,
          75,
          74.7,
          75,
          74.1,
          72.6,
          73,
          74.9,
          73.2,
          73.5,
          75,
          74.3,
          75.3,
          76.3,
          76.5,
          76.6,
          77,
          77,
          75.4,
          75.1,
          76,
          76.3,
          74,
          73,
          68.3,
          68.8,
          71.1,
          71.5,
          71.6,
          72.3,
          72.2,
          71.7,
          69,
          69.5,
          69.8,
          70.8,
          69.7,
          70,
          70.2,
          69,
          68.7,
          67,
          67.2,
          67.6,
          67.5,
          67.5,
          67.5,
          67.8,
          70.3,
          71.3,
          71.3,
          71.2,
          72.6,
          72.5,
          71.3,
          71.3,
          70.6,
          71,
          71.3,
          71.4,
          71.4,
          71.3
         ],
         "open": [
          81.8,
          82,
          82.9,
          79.6,
          74.5,
          73.5,
          74.4,
          72.8,
          72,
          72.1,
          74.3,
          74,
          76.8,
          75.5,
          77.5,
          77,
          76.2,
          74.9,
          73.9,
          76,
          75.6,
          75.4,
          75.6,
          76.5,
          75.6,
          73,
          75,
          75.7,
          73.5,
          75.8,
          76,
          75.8,
          76.5,
          77.3,
          76.6,
          77,
          77.6,
          77.4,
          75.3,
          76.9,
          77.5,
          76.7,
          73.9,
          75.8,
          69.6,
          71.1,
          73.9,
          73.6,
          73.5,
          73,
          72.5,
          72.5,
          69.5,
          71.3,
          72,
          71.4,
          70.4,
          70.9,
          70,
          69.1,
          68.7,
          68,
          67.9,
          68,
          67.6,
          68.4,
          69.5,
          71.2,
          71.9,
          71.5,
          71.3,
          73.5,
          72.8,
          71.5,
          73.5,
          71.3,
          71,
          71.4,
          71.9,
          71.9,
          71.4
         ],
         "type": "candlestick",
         "x": [
          0,
          1,
          2,
          3,
          4,
          5,
          6,
          7,
          8,
          9,
          10,
          11,
          12,
          13,
          14,
          15,
          16,
          17,
          18,
          19,
          20,
          21,
          22,
          23,
          24,
          25,
          26,
          27,
          28,
          29,
          30,
          31,
          32,
          33,
          34,
          35,
          36,
          37,
          38,
          39,
          40,
          41,
          42,
          43,
          44,
          45,
          46,
          47,
          48,
          49,
          50,
          51,
          52,
          53,
          54,
          55,
          56,
          57,
          58,
          59,
          60,
          61,
          62,
          63,
          64,
          65,
          66,
          67,
          68,
          69,
          70,
          71,
          72,
          73,
          74,
          75,
          76,
          77,
          78,
          79,
          80
         ]
        }
       ],
       "layout": {
        "shapes": [
         {
          "line": {
           "color": "green",
           "dash": "dash",
           "width": 3
          },
          "type": "line",
          "x0": 22,
          "x1": 22,
          "xref": "x",
          "y0": 0,
          "y1": 1,
          "yref": "y domain"
         },
         {
          "line": {
           "color": "green",
           "dash": "dash",
           "width": 3
          },
          "type": "line",
          "x0": 71,
          "x1": 71,
          "xref": "x",
          "y0": 0,
          "y1": 1,
          "yref": "y domain"
         }
        ],
        "template": {
         "data": {
          "bar": [
           {
            "error_x": {
             "color": "#2a3f5f"
            },
            "error_y": {
             "color": "#2a3f5f"
            },
            "marker": {
             "line": {
              "color": "#E5ECF6",
              "width": 0.5
             },
             "pattern": {
              "fillmode": "overlay",
              "size": 10,
              "solidity": 0.2
             }
            },
            "type": "bar"
           }
          ],
          "barpolar": [
           {
            "marker": {
             "line": {
              "color": "#E5ECF6",
              "width": 0.5
             },
             "pattern": {
              "fillmode": "overlay",
              "size": 10,
              "solidity": 0.2
             }
            },
            "type": "barpolar"
           }
          ],
          "carpet": [
           {
            "aaxis": {
             "endlinecolor": "#2a3f5f",
             "gridcolor": "white",
             "linecolor": "white",
             "minorgridcolor": "white",
             "startlinecolor": "#2a3f5f"
            },
            "baxis": {
             "endlinecolor": "#2a3f5f",
             "gridcolor": "white",
             "linecolor": "white",
             "minorgridcolor": "white",
             "startlinecolor": "#2a3f5f"
            },
            "type": "carpet"
           }
          ],
          "choropleth": [
           {
            "colorbar": {
             "outlinewidth": 0,
             "ticks": ""
            },
            "type": "choropleth"
           }
          ],
          "contour": [
           {
            "colorbar": {
             "outlinewidth": 0,
             "ticks": ""
            },
            "colorscale": [
             [
              0,
              "#0d0887"
             ],
             [
              0.1111111111111111,
              "#46039f"
             ],
             [
              0.2222222222222222,
              "#7201a8"
             ],
             [
              0.3333333333333333,
              "#9c179e"
             ],
             [
              0.4444444444444444,
              "#bd3786"
             ],
             [
              0.5555555555555556,
              "#d8576b"
             ],
             [
              0.6666666666666666,
              "#ed7953"
             ],
             [
              0.7777777777777778,
              "#fb9f3a"
             ],
             [
              0.8888888888888888,
              "#fdca26"
             ],
             [
              1,
              "#f0f921"
             ]
            ],
            "type": "contour"
           }
          ],
          "contourcarpet": [
           {
            "colorbar": {
             "outlinewidth": 0,
             "ticks": ""
            },
            "type": "contourcarpet"
           }
          ],
          "heatmap": [
           {
            "colorbar": {
             "outlinewidth": 0,
             "ticks": ""
            },
            "colorscale": [
             [
              0,
              "#0d0887"
             ],
             [
              0.1111111111111111,
              "#46039f"
             ],
             [
              0.2222222222222222,
              "#7201a8"
             ],
             [
              0.3333333333333333,
              "#9c179e"
             ],
             [
              0.4444444444444444,
              "#bd3786"
             ],
             [
              0.5555555555555556,
              "#d8576b"
             ],
             [
              0.6666666666666666,
              "#ed7953"
             ],
             [
              0.7777777777777778,
              "#fb9f3a"
             ],
             [
              0.8888888888888888,
              "#fdca26"
             ],
             [
              1,
              "#f0f921"
             ]
            ],
            "type": "heatmap"
           }
          ],
          "heatmapgl": [
           {
            "colorbar": {
             "outlinewidth": 0,
             "ticks": ""
            },
            "colorscale": [
             [
              0,
              "#0d0887"
             ],
             [
              0.1111111111111111,
              "#46039f"
             ],
             [
              0.2222222222222222,
              "#7201a8"
             ],
             [
              0.3333333333333333,
              "#9c179e"
             ],
             [
              0.4444444444444444,
              "#bd3786"
             ],
             [
              0.5555555555555556,
              "#d8576b"
             ],
             [
              0.6666666666666666,
              "#ed7953"
             ],
             [
              0.7777777777777778,
              "#fb9f3a"
             ],
             [
              0.8888888888888888,
              "#fdca26"
             ],
             [
              1,
              "#f0f921"
             ]
            ],
            "type": "heatmapgl"
           }
          ],
          "histogram": [
           {
            "marker": {
             "pattern": {
              "fillmode": "overlay",
              "size": 10,
              "solidity": 0.2
             }
            },
            "type": "histogram"
           }
          ],
          "histogram2d": [
           {
            "colorbar": {
             "outlinewidth": 0,
             "ticks": ""
            },
            "colorscale": [
             [
              0,
              "#0d0887"
             ],
             [
              0.1111111111111111,
              "#46039f"
             ],
             [
              0.2222222222222222,
              "#7201a8"
             ],
             [
              0.3333333333333333,
              "#9c179e"
             ],
             [
              0.4444444444444444,
              "#bd3786"
             ],
             [
              0.5555555555555556,
              "#d8576b"
             ],
             [
              0.6666666666666666,
              "#ed7953"
             ],
             [
              0.7777777777777778,
              "#fb9f3a"
             ],
             [
              0.8888888888888888,
              "#fdca26"
             ],
             [
              1,
              "#f0f921"
             ]
            ],
            "type": "histogram2d"
           }
          ],
          "histogram2dcontour": [
           {
            "colorbar": {
             "outlinewidth": 0,
             "ticks": ""
            },
            "colorscale": [
             [
              0,
              "#0d0887"
             ],
             [
              0.1111111111111111,
              "#46039f"
             ],
             [
              0.2222222222222222,
              "#7201a8"
             ],
             [
              0.3333333333333333,
              "#9c179e"
             ],
             [
              0.4444444444444444,
              "#bd3786"
             ],
             [
              0.5555555555555556,
              "#d8576b"
             ],
             [
              0.6666666666666666,
              "#ed7953"
             ],
             [
              0.7777777777777778,
              "#fb9f3a"
             ],
             [
              0.8888888888888888,
              "#fdca26"
             ],
             [
              1,
              "#f0f921"
             ]
            ],
            "type": "histogram2dcontour"
           }
          ],
          "mesh3d": [
           {
            "colorbar": {
             "outlinewidth": 0,
             "ticks": ""
            },
            "type": "mesh3d"
           }
          ],
          "parcoords": [
           {
            "line": {
             "colorbar": {
              "outlinewidth": 0,
              "ticks": ""
             }
            },
            "type": "parcoords"
           }
          ],
          "pie": [
           {
            "automargin": true,
            "type": "pie"
           }
          ],
          "scatter": [
           {
            "fillpattern": {
             "fillmode": "overlay",
             "size": 10,
             "solidity": 0.2
            },
            "type": "scatter"
           }
          ],
          "scatter3d": [
           {
            "line": {
             "colorbar": {
              "outlinewidth": 0,
              "ticks": ""
             }
            },
            "marker": {
             "colorbar": {
              "outlinewidth": 0,
              "ticks": ""
             }
            },
            "type": "scatter3d"
           }
          ],
          "scattercarpet": [
           {
            "marker": {
             "colorbar": {
              "outlinewidth": 0,
              "ticks": ""
             }
            },
            "type": "scattercarpet"
           }
          ],
          "scattergeo": [
           {
            "marker": {
             "colorbar": {
              "outlinewidth": 0,
              "ticks": ""
             }
            },
            "type": "scattergeo"
           }
          ],
          "scattergl": [
           {
            "marker": {
             "colorbar": {
              "outlinewidth": 0,
              "ticks": ""
             }
            },
            "type": "scattergl"
           }
          ],
          "scattermapbox": [
           {
            "marker": {
             "colorbar": {
              "outlinewidth": 0,
              "ticks": ""
             }
            },
            "type": "scattermapbox"
           }
          ],
          "scatterpolar": [
           {
            "marker": {
             "colorbar": {
              "outlinewidth": 0,
              "ticks": ""
             }
            },
            "type": "scatterpolar"
           }
          ],
          "scatterpolargl": [
           {
            "marker": {
             "colorbar": {
              "outlinewidth": 0,
              "ticks": ""
             }
            },
            "type": "scatterpolargl"
           }
          ],
          "scatterternary": [
           {
            "marker": {
             "colorbar": {
              "outlinewidth": 0,
              "ticks": ""
             }
            },
            "type": "scatterternary"
           }
          ],
          "surface": [
           {
            "colorbar": {
             "outlinewidth": 0,
             "ticks": ""
            },
            "colorscale": [
             [
              0,
              "#0d0887"
             ],
             [
              0.1111111111111111,
              "#46039f"
             ],
             [
              0.2222222222222222,
              "#7201a8"
             ],
             [
              0.3333333333333333,
              "#9c179e"
             ],
             [
              0.4444444444444444,
              "#bd3786"
             ],
             [
              0.5555555555555556,
              "#d8576b"
             ],
             [
              0.6666666666666666,
              "#ed7953"
             ],
             [
              0.7777777777777778,
              "#fb9f3a"
             ],
             [
              0.8888888888888888,
              "#fdca26"
             ],
             [
              1,
              "#f0f921"
             ]
            ],
            "type": "surface"
           }
          ],
          "table": [
           {
            "cells": {
             "fill": {
              "color": "#EBF0F8"
             },
             "line": {
              "color": "white"
             }
            },
            "header": {
             "fill": {
              "color": "#C8D4E3"
             },
             "line": {
              "color": "white"
             }
            },
            "type": "table"
           }
          ]
         },
         "layout": {
          "annotationdefaults": {
           "arrowcolor": "#2a3f5f",
           "arrowhead": 0,
           "arrowwidth": 1
          },
          "autotypenumbers": "strict",
          "coloraxis": {
           "colorbar": {
            "outlinewidth": 0,
            "ticks": ""
           }
          },
          "colorscale": {
           "diverging": [
            [
             0,
             "#8e0152"
            ],
            [
             0.1,
             "#c51b7d"
            ],
            [
             0.2,
             "#de77ae"
            ],
            [
             0.3,
             "#f1b6da"
            ],
            [
             0.4,
             "#fde0ef"
            ],
            [
             0.5,
             "#f7f7f7"
            ],
            [
             0.6,
             "#e6f5d0"
            ],
            [
             0.7,
             "#b8e186"
            ],
            [
             0.8,
             "#7fbc41"
            ],
            [
             0.9,
             "#4d9221"
            ],
            [
             1,
             "#276419"
            ]
           ],
           "sequential": [
            [
             0,
             "#0d0887"
            ],
            [
             0.1111111111111111,
             "#46039f"
            ],
            [
             0.2222222222222222,
             "#7201a8"
            ],
            [
             0.3333333333333333,
             "#9c179e"
            ],
            [
             0.4444444444444444,
             "#bd3786"
            ],
            [
             0.5555555555555556,
             "#d8576b"
            ],
            [
             0.6666666666666666,
             "#ed7953"
            ],
            [
             0.7777777777777778,
             "#fb9f3a"
            ],
            [
             0.8888888888888888,
             "#fdca26"
            ],
            [
             1,
             "#f0f921"
            ]
           ],
           "sequentialminus": [
            [
             0,
             "#0d0887"
            ],
            [
             0.1111111111111111,
             "#46039f"
            ],
            [
             0.2222222222222222,
             "#7201a8"
            ],
            [
             0.3333333333333333,
             "#9c179e"
            ],
            [
             0.4444444444444444,
             "#bd3786"
            ],
            [
             0.5555555555555556,
             "#d8576b"
            ],
            [
             0.6666666666666666,
             "#ed7953"
            ],
            [
             0.7777777777777778,
             "#fb9f3a"
            ],
            [
             0.8888888888888888,
             "#fdca26"
            ],
            [
             1,
             "#f0f921"
            ]
           ]
          },
          "colorway": [
           "#636efa",
           "#EF553B",
           "#00cc96",
           "#ab63fa",
           "#FFA15A",
           "#19d3f3",
           "#FF6692",
           "#B6E880",
           "#FF97FF",
           "#FECB52"
          ],
          "font": {
           "color": "#2a3f5f"
          },
          "geo": {
           "bgcolor": "white",
           "lakecolor": "white",
           "landcolor": "#E5ECF6",
           "showlakes": true,
           "showland": true,
           "subunitcolor": "white"
          },
          "hoverlabel": {
           "align": "left"
          },
          "hovermode": "closest",
          "mapbox": {
           "style": "light"
          },
          "paper_bgcolor": "white",
          "plot_bgcolor": "#E5ECF6",
          "polar": {
           "angularaxis": {
            "gridcolor": "white",
            "linecolor": "white",
            "ticks": ""
           },
           "bgcolor": "#E5ECF6",
           "radialaxis": {
            "gridcolor": "white",
            "linecolor": "white",
            "ticks": ""
           }
          },
          "scene": {
           "xaxis": {
            "backgroundcolor": "#E5ECF6",
            "gridcolor": "white",
            "gridwidth": 2,
            "linecolor": "white",
            "showbackground": true,
            "ticks": "",
            "zerolinecolor": "white"
           },
           "yaxis": {
            "backgroundcolor": "#E5ECF6",
            "gridcolor": "white",
            "gridwidth": 2,
            "linecolor": "white",
            "showbackground": true,
            "ticks": "",
            "zerolinecolor": "white"
           },
           "zaxis": {
            "backgroundcolor": "#E5ECF6",
            "gridcolor": "white",
            "gridwidth": 2,
            "linecolor": "white",
            "showbackground": true,
            "ticks": "",
            "zerolinecolor": "white"
           }
          },
          "shapedefaults": {
           "line": {
            "color": "#2a3f5f"
           }
          },
          "ternary": {
           "aaxis": {
            "gridcolor": "white",
            "linecolor": "white",
            "ticks": ""
           },
           "baxis": {
            "gridcolor": "white",
            "linecolor": "white",
            "ticks": ""
           },
           "bgcolor": "#E5ECF6",
           "caxis": {
            "gridcolor": "white",
            "linecolor": "white",
            "ticks": ""
           }
          },
          "title": {
           "x": 0.05
          },
          "xaxis": {
           "automargin": true,
           "gridcolor": "white",
           "linecolor": "white",
           "ticks": "",
           "title": {
            "standoff": 15
           },
           "zerolinecolor": "white",
           "zerolinewidth": 2
          },
          "yaxis": {
           "automargin": true,
           "gridcolor": "white",
           "linecolor": "white",
           "ticks": "",
           "title": {
            "standoff": 15
           },
           "zerolinecolor": "white",
           "zerolinewidth": 2
          }
         }
        }
       }
      },
      "text/html": [
       "<div>                            <div id=\"ba82b50e-66fa-4630-8d93-ab54f9bae542\" class=\"plotly-graph-div\" style=\"height:525px; width:100%;\"></div>            <script type=\"text/javascript\">                require([\"plotly\"], function(Plotly) {                    window.PLOTLYENV=window.PLOTLYENV || {};                                    if (document.getElementById(\"ba82b50e-66fa-4630-8d93-ab54f9bae542\")) {                    Plotly.newPlot(                        \"ba82b50e-66fa-4630-8d93-ab54f9bae542\",                        [{\"close\":[82.0,83.5,78.0,75.0,73.5,74.4,73.3,72.0,72.5,74.3,73.7,76.8,76.1,77.0,77.0,76.9,74.0,73.1,75.5,75.2,75.2,75.0,76.7,75.4,74.6,75.0,75.2,75.3,75.8,76.0,76.1,76.8,77.1,77.0,77.0,77.5,77.6,76.7,77.0,77.5,76.8,74.0,74.0,68.5,70.9,73.4,71.5,73.6,73.0,73.0,71.7,69.1,71.0,72.0,71.9,70.9,70.0,70.2,69.1,68.7,68.0,67.4,67.6,67.9,68.0,68.9,71.3,71.5,72.0,71.3,73.5,72.9,72.5,73.2,71.3,71.0,71.6,72.0,71.9,71.4,71.3],\"high\":[83.0,83.5,82.9,79.6,74.9,75.0,74.4,73.4,72.5,74.3,75.0,76.9,77.0,77.0,77.8,77.0,76.2,74.9,75.5,76.0,76.0,75.6,76.7,76.5,75.6,75.0,75.7,75.7,75.8,76.2,76.1,76.9,77.1,77.3,77.8,77.8,77.8,77.4,77.0,77.5,77.7,76.7,75.8,76.0,73.0,73.7,73.9,73.6,73.5,73.0,73.2,73.0,71.9,72.0,72.0,71.5,70.4,71.9,70.2,69.1,68.7,68.0,68.0,69.2,68.5,69.0,71.8,71.6,72.0,71.9,73.5,73.5,72.8,73.2,74.5,74.3,72.2,72.0,71.9,71.9,71.7],\"low\":[81.3,82.0,75.4,74.0,72.6,73.5,72.6,71.9,70.8,72.1,73.6,74.0,75.9,75.2,76.2,76.1,74.0,72.5,73.0,75.0,75.0,74.7,75.0,74.1,72.6,73.0,74.9,73.2,73.5,75.0,74.3,75.3,76.3,76.5,76.6,77.0,77.0,75.4,75.1,76.0,76.3,74.0,73.0,68.3,68.8,71.1,71.5,71.6,72.3,72.2,71.7,69.0,69.5,69.8,70.8,69.7,70.0,70.2,69.0,68.7,67.0,67.2,67.6,67.5,67.5,67.5,67.8,70.3,71.3,71.3,71.2,72.6,72.5,71.3,71.3,70.6,71.0,71.3,71.4,71.4,71.3],\"open\":[81.8,82.0,82.9,79.6,74.5,73.5,74.4,72.8,72.0,72.1,74.3,74.0,76.8,75.5,77.5,77.0,76.2,74.9,73.9,76.0,75.6,75.4,75.6,76.5,75.6,73.0,75.0,75.7,73.5,75.8,76.0,75.8,76.5,77.3,76.6,77.0,77.6,77.4,75.3,76.9,77.5,76.7,73.9,75.8,69.6,71.1,73.9,73.6,73.5,73.0,72.5,72.5,69.5,71.3,72.0,71.4,70.4,70.9,70.0,69.1,68.7,68.0,67.9,68.0,67.6,68.4,69.5,71.2,71.9,71.5,71.3,73.5,72.8,71.5,73.5,71.3,71.0,71.4,71.9,71.9,71.4],\"x\":[0,1,2,3,4,5,6,7,8,9,10,11,12,13,14,15,16,17,18,19,20,21,22,23,24,25,26,27,28,29,30,31,32,33,34,35,36,37,38,39,40,41,42,43,44,45,46,47,48,49,50,51,52,53,54,55,56,57,58,59,60,61,62,63,64,65,66,67,68,69,70,71,72,73,74,75,76,77,78,79,80],\"type\":\"candlestick\"}],                        {\"template\":{\"data\":{\"histogram2dcontour\":[{\"type\":\"histogram2dcontour\",\"colorbar\":{\"outlinewidth\":0,\"ticks\":\"\"},\"colorscale\":[[0.0,\"#0d0887\"],[0.1111111111111111,\"#46039f\"],[0.2222222222222222,\"#7201a8\"],[0.3333333333333333,\"#9c179e\"],[0.4444444444444444,\"#bd3786\"],[0.5555555555555556,\"#d8576b\"],[0.6666666666666666,\"#ed7953\"],[0.7777777777777778,\"#fb9f3a\"],[0.8888888888888888,\"#fdca26\"],[1.0,\"#f0f921\"]]}],\"choropleth\":[{\"type\":\"choropleth\",\"colorbar\":{\"outlinewidth\":0,\"ticks\":\"\"}}],\"histogram2d\":[{\"type\":\"histogram2d\",\"colorbar\":{\"outlinewidth\":0,\"ticks\":\"\"},\"colorscale\":[[0.0,\"#0d0887\"],[0.1111111111111111,\"#46039f\"],[0.2222222222222222,\"#7201a8\"],[0.3333333333333333,\"#9c179e\"],[0.4444444444444444,\"#bd3786\"],[0.5555555555555556,\"#d8576b\"],[0.6666666666666666,\"#ed7953\"],[0.7777777777777778,\"#fb9f3a\"],[0.8888888888888888,\"#fdca26\"],[1.0,\"#f0f921\"]]}],\"heatmap\":[{\"type\":\"heatmap\",\"colorbar\":{\"outlinewidth\":0,\"ticks\":\"\"},\"colorscale\":[[0.0,\"#0d0887\"],[0.1111111111111111,\"#46039f\"],[0.2222222222222222,\"#7201a8\"],[0.3333333333333333,\"#9c179e\"],[0.4444444444444444,\"#bd3786\"],[0.5555555555555556,\"#d8576b\"],[0.6666666666666666,\"#ed7953\"],[0.7777777777777778,\"#fb9f3a\"],[0.8888888888888888,\"#fdca26\"],[1.0,\"#f0f921\"]]}],\"heatmapgl\":[{\"type\":\"heatmapgl\",\"colorbar\":{\"outlinewidth\":0,\"ticks\":\"\"},\"colorscale\":[[0.0,\"#0d0887\"],[0.1111111111111111,\"#46039f\"],[0.2222222222222222,\"#7201a8\"],[0.3333333333333333,\"#9c179e\"],[0.4444444444444444,\"#bd3786\"],[0.5555555555555556,\"#d8576b\"],[0.6666666666666666,\"#ed7953\"],[0.7777777777777778,\"#fb9f3a\"],[0.8888888888888888,\"#fdca26\"],[1.0,\"#f0f921\"]]}],\"contourcarpet\":[{\"type\":\"contourcarpet\",\"colorbar\":{\"outlinewidth\":0,\"ticks\":\"\"}}],\"contour\":[{\"type\":\"contour\",\"colorbar\":{\"outlinewidth\":0,\"ticks\":\"\"},\"colorscale\":[[0.0,\"#0d0887\"],[0.1111111111111111,\"#46039f\"],[0.2222222222222222,\"#7201a8\"],[0.3333333333333333,\"#9c179e\"],[0.4444444444444444,\"#bd3786\"],[0.5555555555555556,\"#d8576b\"],[0.6666666666666666,\"#ed7953\"],[0.7777777777777778,\"#fb9f3a\"],[0.8888888888888888,\"#fdca26\"],[1.0,\"#f0f921\"]]}],\"surface\":[{\"type\":\"surface\",\"colorbar\":{\"outlinewidth\":0,\"ticks\":\"\"},\"colorscale\":[[0.0,\"#0d0887\"],[0.1111111111111111,\"#46039f\"],[0.2222222222222222,\"#7201a8\"],[0.3333333333333333,\"#9c179e\"],[0.4444444444444444,\"#bd3786\"],[0.5555555555555556,\"#d8576b\"],[0.6666666666666666,\"#ed7953\"],[0.7777777777777778,\"#fb9f3a\"],[0.8888888888888888,\"#fdca26\"],[1.0,\"#f0f921\"]]}],\"mesh3d\":[{\"type\":\"mesh3d\",\"colorbar\":{\"outlinewidth\":0,\"ticks\":\"\"}}],\"scatter\":[{\"fillpattern\":{\"fillmode\":\"overlay\",\"size\":10,\"solidity\":0.2},\"type\":\"scatter\"}],\"parcoords\":[{\"type\":\"parcoords\",\"line\":{\"colorbar\":{\"outlinewidth\":0,\"ticks\":\"\"}}}],\"scatterpolargl\":[{\"type\":\"scatterpolargl\",\"marker\":{\"colorbar\":{\"outlinewidth\":0,\"ticks\":\"\"}}}],\"bar\":[{\"error_x\":{\"color\":\"#2a3f5f\"},\"error_y\":{\"color\":\"#2a3f5f\"},\"marker\":{\"line\":{\"color\":\"#E5ECF6\",\"width\":0.5},\"pattern\":{\"fillmode\":\"overlay\",\"size\":10,\"solidity\":0.2}},\"type\":\"bar\"}],\"scattergeo\":[{\"type\":\"scattergeo\",\"marker\":{\"colorbar\":{\"outlinewidth\":0,\"ticks\":\"\"}}}],\"scatterpolar\":[{\"type\":\"scatterpolar\",\"marker\":{\"colorbar\":{\"outlinewidth\":0,\"ticks\":\"\"}}}],\"histogram\":[{\"marker\":{\"pattern\":{\"fillmode\":\"overlay\",\"size\":10,\"solidity\":0.2}},\"type\":\"histogram\"}],\"scattergl\":[{\"type\":\"scattergl\",\"marker\":{\"colorbar\":{\"outlinewidth\":0,\"ticks\":\"\"}}}],\"scatter3d\":[{\"type\":\"scatter3d\",\"line\":{\"colorbar\":{\"outlinewidth\":0,\"ticks\":\"\"}},\"marker\":{\"colorbar\":{\"outlinewidth\":0,\"ticks\":\"\"}}}],\"scattermapbox\":[{\"type\":\"scattermapbox\",\"marker\":{\"colorbar\":{\"outlinewidth\":0,\"ticks\":\"\"}}}],\"scatterternary\":[{\"type\":\"scatterternary\",\"marker\":{\"colorbar\":{\"outlinewidth\":0,\"ticks\":\"\"}}}],\"scattercarpet\":[{\"type\":\"scattercarpet\",\"marker\":{\"colorbar\":{\"outlinewidth\":0,\"ticks\":\"\"}}}],\"carpet\":[{\"aaxis\":{\"endlinecolor\":\"#2a3f5f\",\"gridcolor\":\"white\",\"linecolor\":\"white\",\"minorgridcolor\":\"white\",\"startlinecolor\":\"#2a3f5f\"},\"baxis\":{\"endlinecolor\":\"#2a3f5f\",\"gridcolor\":\"white\",\"linecolor\":\"white\",\"minorgridcolor\":\"white\",\"startlinecolor\":\"#2a3f5f\"},\"type\":\"carpet\"}],\"table\":[{\"cells\":{\"fill\":{\"color\":\"#EBF0F8\"},\"line\":{\"color\":\"white\"}},\"header\":{\"fill\":{\"color\":\"#C8D4E3\"},\"line\":{\"color\":\"white\"}},\"type\":\"table\"}],\"barpolar\":[{\"marker\":{\"line\":{\"color\":\"#E5ECF6\",\"width\":0.5},\"pattern\":{\"fillmode\":\"overlay\",\"size\":10,\"solidity\":0.2}},\"type\":\"barpolar\"}],\"pie\":[{\"automargin\":true,\"type\":\"pie\"}]},\"layout\":{\"autotypenumbers\":\"strict\",\"colorway\":[\"#636efa\",\"#EF553B\",\"#00cc96\",\"#ab63fa\",\"#FFA15A\",\"#19d3f3\",\"#FF6692\",\"#B6E880\",\"#FF97FF\",\"#FECB52\"],\"font\":{\"color\":\"#2a3f5f\"},\"hovermode\":\"closest\",\"hoverlabel\":{\"align\":\"left\"},\"paper_bgcolor\":\"white\",\"plot_bgcolor\":\"#E5ECF6\",\"polar\":{\"bgcolor\":\"#E5ECF6\",\"angularaxis\":{\"gridcolor\":\"white\",\"linecolor\":\"white\",\"ticks\":\"\"},\"radialaxis\":{\"gridcolor\":\"white\",\"linecolor\":\"white\",\"ticks\":\"\"}},\"ternary\":{\"bgcolor\":\"#E5ECF6\",\"aaxis\":{\"gridcolor\":\"white\",\"linecolor\":\"white\",\"ticks\":\"\"},\"baxis\":{\"gridcolor\":\"white\",\"linecolor\":\"white\",\"ticks\":\"\"},\"caxis\":{\"gridcolor\":\"white\",\"linecolor\":\"white\",\"ticks\":\"\"}},\"coloraxis\":{\"colorbar\":{\"outlinewidth\":0,\"ticks\":\"\"}},\"colorscale\":{\"sequential\":[[0.0,\"#0d0887\"],[0.1111111111111111,\"#46039f\"],[0.2222222222222222,\"#7201a8\"],[0.3333333333333333,\"#9c179e\"],[0.4444444444444444,\"#bd3786\"],[0.5555555555555556,\"#d8576b\"],[0.6666666666666666,\"#ed7953\"],[0.7777777777777778,\"#fb9f3a\"],[0.8888888888888888,\"#fdca26\"],[1.0,\"#f0f921\"]],\"sequentialminus\":[[0.0,\"#0d0887\"],[0.1111111111111111,\"#46039f\"],[0.2222222222222222,\"#7201a8\"],[0.3333333333333333,\"#9c179e\"],[0.4444444444444444,\"#bd3786\"],[0.5555555555555556,\"#d8576b\"],[0.6666666666666666,\"#ed7953\"],[0.7777777777777778,\"#fb9f3a\"],[0.8888888888888888,\"#fdca26\"],[1.0,\"#f0f921\"]],\"diverging\":[[0,\"#8e0152\"],[0.1,\"#c51b7d\"],[0.2,\"#de77ae\"],[0.3,\"#f1b6da\"],[0.4,\"#fde0ef\"],[0.5,\"#f7f7f7\"],[0.6,\"#e6f5d0\"],[0.7,\"#b8e186\"],[0.8,\"#7fbc41\"],[0.9,\"#4d9221\"],[1,\"#276419\"]]},\"xaxis\":{\"gridcolor\":\"white\",\"linecolor\":\"white\",\"ticks\":\"\",\"title\":{\"standoff\":15},\"zerolinecolor\":\"white\",\"automargin\":true,\"zerolinewidth\":2},\"yaxis\":{\"gridcolor\":\"white\",\"linecolor\":\"white\",\"ticks\":\"\",\"title\":{\"standoff\":15},\"zerolinecolor\":\"white\",\"automargin\":true,\"zerolinewidth\":2},\"scene\":{\"xaxis\":{\"backgroundcolor\":\"#E5ECF6\",\"gridcolor\":\"white\",\"linecolor\":\"white\",\"showbackground\":true,\"ticks\":\"\",\"zerolinecolor\":\"white\",\"gridwidth\":2},\"yaxis\":{\"backgroundcolor\":\"#E5ECF6\",\"gridcolor\":\"white\",\"linecolor\":\"white\",\"showbackground\":true,\"ticks\":\"\",\"zerolinecolor\":\"white\",\"gridwidth\":2},\"zaxis\":{\"backgroundcolor\":\"#E5ECF6\",\"gridcolor\":\"white\",\"linecolor\":\"white\",\"showbackground\":true,\"ticks\":\"\",\"zerolinecolor\":\"white\",\"gridwidth\":2}},\"shapedefaults\":{\"line\":{\"color\":\"#2a3f5f\"}},\"annotationdefaults\":{\"arrowcolor\":\"#2a3f5f\",\"arrowhead\":0,\"arrowwidth\":1},\"geo\":{\"bgcolor\":\"white\",\"landcolor\":\"#E5ECF6\",\"subunitcolor\":\"white\",\"showland\":true,\"showlakes\":true,\"lakecolor\":\"white\"},\"title\":{\"x\":0.05},\"mapbox\":{\"style\":\"light\"}}},\"shapes\":[{\"line\":{\"color\":\"green\",\"dash\":\"dash\",\"width\":3},\"type\":\"line\",\"x0\":22,\"x1\":22,\"xref\":\"x\",\"y0\":0,\"y1\":1,\"yref\":\"y domain\"},{\"line\":{\"color\":\"green\",\"dash\":\"dash\",\"width\":3},\"type\":\"line\",\"x0\":71,\"x1\":71,\"xref\":\"x\",\"y0\":0,\"y1\":1,\"yref\":\"y domain\"}]},                        {\"responsive\": true}                    ).then(function(){\n",
       "                            \n",
       "var gd = document.getElementById('ba82b50e-66fa-4630-8d93-ab54f9bae542');\n",
       "var x = new MutationObserver(function (mutations, observer) {{\n",
       "        var display = window.getComputedStyle(gd).display;\n",
       "        if (!display || display === 'none') {{\n",
       "            console.log([gd, 'removed!']);\n",
       "            Plotly.purge(gd);\n",
       "            observer.disconnect();\n",
       "        }}\n",
       "}});\n",
       "\n",
       "// Listen for the removal of the full notebook cells\n",
       "var notebookContainer = gd.closest('#notebook-container');\n",
       "if (notebookContainer) {{\n",
       "    x.observe(notebookContainer, {childList: true});\n",
       "}}\n",
       "\n",
       "// Listen for the clearing of the current output cell\n",
       "var outputEl = gd.closest('.output');\n",
       "if (outputEl) {{\n",
       "    x.observe(outputEl, {childList: true});\n",
       "}}\n",
       "\n",
       "                        })                };                });            </script>        </div>"
      ]
     },
     "metadata": {},
     "output_type": "display_data"
    },
    {
     "data": {
      "application/vnd.plotly.v1+json": {
       "config": {
        "plotlyServerURL": "https://plot.ly"
       },
       "data": [
        {
         "close": [
          85.2,
          85.9,
          86.1,
          85.8,
          85.8,
          84.6,
          83.3,
          83,
          82,
          82.9,
          82.8,
          83.4,
          82,
          82,
          83,
          82,
          80.9,
          80,
          80.9,
          83,
          85.5,
          85.5,
          88,
          87.6,
          87.9,
          86.1,
          85,
          86,
          84,
          82.4,
          84.8,
          83.5,
          83.3,
          82.5,
          81.8,
          82,
          82,
          82,
          83.5,
          78,
          75,
          73.5,
          74.4,
          73.3,
          72,
          72.5,
          74.3,
          73.7,
          76.8,
          76.1,
          77,
          77,
          76.9,
          74,
          73.1,
          75.5,
          75.2,
          75.2,
          75,
          76.7,
          75.4,
          74.6,
          75,
          75.2,
          75.3,
          75.8,
          76,
          76.1,
          76.8,
          77.1,
          77,
          77,
          77.5,
          77.6,
          76.7,
          77,
          77.5,
          76.8,
          74,
          74,
          68.5,
          70.9,
          73.4,
          71.5,
          73.6,
          73,
          73,
          71.7,
          69.1,
          71,
          72,
          71.9,
          70.9,
          70,
          70.2,
          69.1,
          68.7,
          68,
          67.4,
          67.6,
          67.9,
          68,
          68.9,
          71.3,
          71.5,
          72,
          71.3,
          73.5,
          72.9,
          72.5,
          73.2,
          71.3,
          71,
          71.6,
          72,
          71.9,
          71.4,
          71.3,
          71.3,
          71.7,
          72.2
         ],
         "high": [
          85.9,
          86.8,
          87,
          86.9,
          85.8,
          85.7,
          85,
          83.5,
          83,
          83,
          83.8,
          83.5,
          83.4,
          83,
          83.2,
          83.9,
          82,
          80.5,
          81,
          83.9,
          86,
          86.3,
          88.5,
          88.5,
          88,
          88.1,
          85.8,
          86,
          86,
          83,
          85,
          84.5,
          85.6,
          82.7,
          83.4,
          82.5,
          83.1,
          83,
          83.5,
          82.9,
          79.6,
          74.9,
          75,
          74.4,
          73.4,
          72.5,
          74.3,
          75,
          76.9,
          77,
          77,
          77.8,
          77,
          76.2,
          74.9,
          75.5,
          76,
          76,
          75.6,
          76.7,
          76.5,
          75.6,
          75,
          75.7,
          75.7,
          75.8,
          76.2,
          76.1,
          76.9,
          77.1,
          77.3,
          77.8,
          77.8,
          77.8,
          77.4,
          77,
          77.5,
          77.7,
          76.7,
          75.8,
          76,
          73,
          73.7,
          73.9,
          73.6,
          73.5,
          73,
          73.2,
          73,
          71.9,
          72,
          72,
          71.5,
          70.4,
          71.9,
          70.2,
          69.1,
          68.7,
          68,
          68,
          69.2,
          68.5,
          69,
          71.8,
          71.6,
          72,
          71.9,
          73.5,
          73.5,
          72.8,
          73.2,
          74.5,
          74.3,
          72.2,
          72,
          71.9,
          71.9,
          71.7,
          71.4,
          72.1,
          72.6
         ],
         "low": [
          84.8,
          84.5,
          85.7,
          85.7,
          84,
          84.1,
          83.1,
          81.5,
          80.7,
          81.3,
          82,
          82.5,
          82,
          81.2,
          82.4,
          82,
          80.6,
          79.6,
          79.9,
          80.9,
          83.3,
          85,
          85.5,
          87.1,
          86.7,
          85.5,
          83.2,
          84.5,
          84,
          81.8,
          82,
          82,
          82.6,
          81.9,
          81.8,
          81.3,
          81.1,
          81.3,
          82,
          75.4,
          74,
          72.6,
          73.5,
          72.6,
          71.9,
          70.8,
          72.1,
          73.6,
          74,
          75.9,
          75.2,
          76.2,
          76.1,
          74,
          72.5,
          73,
          75,
          75,
          74.7,
          75,
          74.1,
          72.6,
          73,
          74.9,
          73.2,
          73.5,
          75,
          74.3,
          75.3,
          76.3,
          76.5,
          76.6,
          77,
          77,
          75.4,
          75.1,
          76,
          76.3,
          74,
          73,
          68.3,
          68.8,
          71.1,
          71.5,
          71.6,
          72.3,
          72.2,
          71.7,
          69,
          69.5,
          69.8,
          70.8,
          69.7,
          70,
          70.2,
          69,
          68.7,
          67,
          67.2,
          67.6,
          67.5,
          67.5,
          67.5,
          67.8,
          70.3,
          71.3,
          71.3,
          71.2,
          72.6,
          72.5,
          71.3,
          71.3,
          70.6,
          71,
          71.3,
          71.4,
          71.4,
          71.3,
          71.3,
          71.3,
          71.6
         ],
         "open": [
          85,
          85.2,
          86.4,
          86.7,
          85.3,
          84.1,
          85,
          83.2,
          83,
          81.3,
          82.9,
          82.5,
          83.4,
          81.4,
          82.5,
          83,
          81.7,
          80.5,
          79.9,
          80.9,
          83.3,
          86,
          85.5,
          87.5,
          87.5,
          86.6,
          85.8,
          85,
          86,
          83,
          82.5,
          84.5,
          82.6,
          82.6,
          83.4,
          82.5,
          82,
          81.8,
          82,
          82.9,
          79.6,
          74.5,
          73.5,
          74.4,
          72.8,
          72,
          72.1,
          74.3,
          74,
          76.8,
          75.5,
          77.5,
          77,
          76.2,
          74.9,
          73.9,
          76,
          75.6,
          75.4,
          75.6,
          76.5,
          75.6,
          73,
          75,
          75.7,
          73.5,
          75.8,
          76,
          75.8,
          76.5,
          77.3,
          76.6,
          77,
          77.6,
          77.4,
          75.3,
          76.9,
          77.5,
          76.7,
          73.9,
          75.8,
          69.6,
          71.1,
          73.9,
          73.6,
          73.5,
          73,
          72.5,
          72.5,
          69.5,
          71.3,
          72,
          71.4,
          70.4,
          70.9,
          70,
          69.1,
          68.7,
          68,
          67.9,
          68,
          67.6,
          68.4,
          69.5,
          71.2,
          71.9,
          71.5,
          71.3,
          73.5,
          72.8,
          71.5,
          73.5,
          71.3,
          71,
          71.4,
          71.9,
          71.9,
          71.4,
          71.3,
          71.3,
          71.7
         ],
         "type": "candlestick",
         "x": [
          0,
          1,
          2,
          3,
          4,
          5,
          6,
          7,
          8,
          9,
          10,
          11,
          12,
          13,
          14,
          15,
          16,
          17,
          18,
          19,
          20,
          21,
          22,
          23,
          24,
          25,
          26,
          27,
          28,
          29,
          30,
          31,
          32,
          33,
          34,
          35,
          36,
          37,
          38,
          39,
          40,
          41,
          42,
          43,
          44,
          45,
          46,
          47,
          48,
          49,
          50,
          51,
          52,
          53,
          54,
          55,
          56,
          57,
          58,
          59,
          60,
          61,
          62,
          63,
          64,
          65,
          66,
          67,
          68,
          69,
          70,
          71,
          72,
          73,
          74,
          75,
          76,
          77,
          78,
          79,
          80,
          81,
          82,
          83,
          84,
          85,
          86,
          87,
          88,
          89,
          90,
          91,
          92,
          93,
          94,
          95,
          96,
          97,
          98,
          99,
          100,
          101,
          102,
          103,
          104,
          105,
          106,
          107,
          108,
          109,
          110,
          111,
          112,
          113,
          114,
          115,
          116,
          117,
          118,
          119,
          120
         ]
        }
       ],
       "layout": {
        "shapes": [
         {
          "line": {
           "color": "green",
           "dash": "dash",
           "width": 3
          },
          "type": "line",
          "x0": 59,
          "x1": 59,
          "xref": "x",
          "y0": 0,
          "y1": 1,
          "yref": "y domain"
         },
         {
          "line": {
           "color": "green",
           "dash": "dash",
           "width": 3
          },
          "type": "line",
          "x0": 108,
          "x1": 108,
          "xref": "x",
          "y0": 0,
          "y1": 1,
          "yref": "y domain"
         }
        ],
        "template": {
         "data": {
          "bar": [
           {
            "error_x": {
             "color": "#2a3f5f"
            },
            "error_y": {
             "color": "#2a3f5f"
            },
            "marker": {
             "line": {
              "color": "#E5ECF6",
              "width": 0.5
             },
             "pattern": {
              "fillmode": "overlay",
              "size": 10,
              "solidity": 0.2
             }
            },
            "type": "bar"
           }
          ],
          "barpolar": [
           {
            "marker": {
             "line": {
              "color": "#E5ECF6",
              "width": 0.5
             },
             "pattern": {
              "fillmode": "overlay",
              "size": 10,
              "solidity": 0.2
             }
            },
            "type": "barpolar"
           }
          ],
          "carpet": [
           {
            "aaxis": {
             "endlinecolor": "#2a3f5f",
             "gridcolor": "white",
             "linecolor": "white",
             "minorgridcolor": "white",
             "startlinecolor": "#2a3f5f"
            },
            "baxis": {
             "endlinecolor": "#2a3f5f",
             "gridcolor": "white",
             "linecolor": "white",
             "minorgridcolor": "white",
             "startlinecolor": "#2a3f5f"
            },
            "type": "carpet"
           }
          ],
          "choropleth": [
           {
            "colorbar": {
             "outlinewidth": 0,
             "ticks": ""
            },
            "type": "choropleth"
           }
          ],
          "contour": [
           {
            "colorbar": {
             "outlinewidth": 0,
             "ticks": ""
            },
            "colorscale": [
             [
              0,
              "#0d0887"
             ],
             [
              0.1111111111111111,
              "#46039f"
             ],
             [
              0.2222222222222222,
              "#7201a8"
             ],
             [
              0.3333333333333333,
              "#9c179e"
             ],
             [
              0.4444444444444444,
              "#bd3786"
             ],
             [
              0.5555555555555556,
              "#d8576b"
             ],
             [
              0.6666666666666666,
              "#ed7953"
             ],
             [
              0.7777777777777778,
              "#fb9f3a"
             ],
             [
              0.8888888888888888,
              "#fdca26"
             ],
             [
              1,
              "#f0f921"
             ]
            ],
            "type": "contour"
           }
          ],
          "contourcarpet": [
           {
            "colorbar": {
             "outlinewidth": 0,
             "ticks": ""
            },
            "type": "contourcarpet"
           }
          ],
          "heatmap": [
           {
            "colorbar": {
             "outlinewidth": 0,
             "ticks": ""
            },
            "colorscale": [
             [
              0,
              "#0d0887"
             ],
             [
              0.1111111111111111,
              "#46039f"
             ],
             [
              0.2222222222222222,
              "#7201a8"
             ],
             [
              0.3333333333333333,
              "#9c179e"
             ],
             [
              0.4444444444444444,
              "#bd3786"
             ],
             [
              0.5555555555555556,
              "#d8576b"
             ],
             [
              0.6666666666666666,
              "#ed7953"
             ],
             [
              0.7777777777777778,
              "#fb9f3a"
             ],
             [
              0.8888888888888888,
              "#fdca26"
             ],
             [
              1,
              "#f0f921"
             ]
            ],
            "type": "heatmap"
           }
          ],
          "heatmapgl": [
           {
            "colorbar": {
             "outlinewidth": 0,
             "ticks": ""
            },
            "colorscale": [
             [
              0,
              "#0d0887"
             ],
             [
              0.1111111111111111,
              "#46039f"
             ],
             [
              0.2222222222222222,
              "#7201a8"
             ],
             [
              0.3333333333333333,
              "#9c179e"
             ],
             [
              0.4444444444444444,
              "#bd3786"
             ],
             [
              0.5555555555555556,
              "#d8576b"
             ],
             [
              0.6666666666666666,
              "#ed7953"
             ],
             [
              0.7777777777777778,
              "#fb9f3a"
             ],
             [
              0.8888888888888888,
              "#fdca26"
             ],
             [
              1,
              "#f0f921"
             ]
            ],
            "type": "heatmapgl"
           }
          ],
          "histogram": [
           {
            "marker": {
             "pattern": {
              "fillmode": "overlay",
              "size": 10,
              "solidity": 0.2
             }
            },
            "type": "histogram"
           }
          ],
          "histogram2d": [
           {
            "colorbar": {
             "outlinewidth": 0,
             "ticks": ""
            },
            "colorscale": [
             [
              0,
              "#0d0887"
             ],
             [
              0.1111111111111111,
              "#46039f"
             ],
             [
              0.2222222222222222,
              "#7201a8"
             ],
             [
              0.3333333333333333,
              "#9c179e"
             ],
             [
              0.4444444444444444,
              "#bd3786"
             ],
             [
              0.5555555555555556,
              "#d8576b"
             ],
             [
              0.6666666666666666,
              "#ed7953"
             ],
             [
              0.7777777777777778,
              "#fb9f3a"
             ],
             [
              0.8888888888888888,
              "#fdca26"
             ],
             [
              1,
              "#f0f921"
             ]
            ],
            "type": "histogram2d"
           }
          ],
          "histogram2dcontour": [
           {
            "colorbar": {
             "outlinewidth": 0,
             "ticks": ""
            },
            "colorscale": [
             [
              0,
              "#0d0887"
             ],
             [
              0.1111111111111111,
              "#46039f"
             ],
             [
              0.2222222222222222,
              "#7201a8"
             ],
             [
              0.3333333333333333,
              "#9c179e"
             ],
             [
              0.4444444444444444,
              "#bd3786"
             ],
             [
              0.5555555555555556,
              "#d8576b"
             ],
             [
              0.6666666666666666,
              "#ed7953"
             ],
             [
              0.7777777777777778,
              "#fb9f3a"
             ],
             [
              0.8888888888888888,
              "#fdca26"
             ],
             [
              1,
              "#f0f921"
             ]
            ],
            "type": "histogram2dcontour"
           }
          ],
          "mesh3d": [
           {
            "colorbar": {
             "outlinewidth": 0,
             "ticks": ""
            },
            "type": "mesh3d"
           }
          ],
          "parcoords": [
           {
            "line": {
             "colorbar": {
              "outlinewidth": 0,
              "ticks": ""
             }
            },
            "type": "parcoords"
           }
          ],
          "pie": [
           {
            "automargin": true,
            "type": "pie"
           }
          ],
          "scatter": [
           {
            "fillpattern": {
             "fillmode": "overlay",
             "size": 10,
             "solidity": 0.2
            },
            "type": "scatter"
           }
          ],
          "scatter3d": [
           {
            "line": {
             "colorbar": {
              "outlinewidth": 0,
              "ticks": ""
             }
            },
            "marker": {
             "colorbar": {
              "outlinewidth": 0,
              "ticks": ""
             }
            },
            "type": "scatter3d"
           }
          ],
          "scattercarpet": [
           {
            "marker": {
             "colorbar": {
              "outlinewidth": 0,
              "ticks": ""
             }
            },
            "type": "scattercarpet"
           }
          ],
          "scattergeo": [
           {
            "marker": {
             "colorbar": {
              "outlinewidth": 0,
              "ticks": ""
             }
            },
            "type": "scattergeo"
           }
          ],
          "scattergl": [
           {
            "marker": {
             "colorbar": {
              "outlinewidth": 0,
              "ticks": ""
             }
            },
            "type": "scattergl"
           }
          ],
          "scattermapbox": [
           {
            "marker": {
             "colorbar": {
              "outlinewidth": 0,
              "ticks": ""
             }
            },
            "type": "scattermapbox"
           }
          ],
          "scatterpolar": [
           {
            "marker": {
             "colorbar": {
              "outlinewidth": 0,
              "ticks": ""
             }
            },
            "type": "scatterpolar"
           }
          ],
          "scatterpolargl": [
           {
            "marker": {
             "colorbar": {
              "outlinewidth": 0,
              "ticks": ""
             }
            },
            "type": "scatterpolargl"
           }
          ],
          "scatterternary": [
           {
            "marker": {
             "colorbar": {
              "outlinewidth": 0,
              "ticks": ""
             }
            },
            "type": "scatterternary"
           }
          ],
          "surface": [
           {
            "colorbar": {
             "outlinewidth": 0,
             "ticks": ""
            },
            "colorscale": [
             [
              0,
              "#0d0887"
             ],
             [
              0.1111111111111111,
              "#46039f"
             ],
             [
              0.2222222222222222,
              "#7201a8"
             ],
             [
              0.3333333333333333,
              "#9c179e"
             ],
             [
              0.4444444444444444,
              "#bd3786"
             ],
             [
              0.5555555555555556,
              "#d8576b"
             ],
             [
              0.6666666666666666,
              "#ed7953"
             ],
             [
              0.7777777777777778,
              "#fb9f3a"
             ],
             [
              0.8888888888888888,
              "#fdca26"
             ],
             [
              1,
              "#f0f921"
             ]
            ],
            "type": "surface"
           }
          ],
          "table": [
           {
            "cells": {
             "fill": {
              "color": "#EBF0F8"
             },
             "line": {
              "color": "white"
             }
            },
            "header": {
             "fill": {
              "color": "#C8D4E3"
             },
             "line": {
              "color": "white"
             }
            },
            "type": "table"
           }
          ]
         },
         "layout": {
          "annotationdefaults": {
           "arrowcolor": "#2a3f5f",
           "arrowhead": 0,
           "arrowwidth": 1
          },
          "autotypenumbers": "strict",
          "coloraxis": {
           "colorbar": {
            "outlinewidth": 0,
            "ticks": ""
           }
          },
          "colorscale": {
           "diverging": [
            [
             0,
             "#8e0152"
            ],
            [
             0.1,
             "#c51b7d"
            ],
            [
             0.2,
             "#de77ae"
            ],
            [
             0.3,
             "#f1b6da"
            ],
            [
             0.4,
             "#fde0ef"
            ],
            [
             0.5,
             "#f7f7f7"
            ],
            [
             0.6,
             "#e6f5d0"
            ],
            [
             0.7,
             "#b8e186"
            ],
            [
             0.8,
             "#7fbc41"
            ],
            [
             0.9,
             "#4d9221"
            ],
            [
             1,
             "#276419"
            ]
           ],
           "sequential": [
            [
             0,
             "#0d0887"
            ],
            [
             0.1111111111111111,
             "#46039f"
            ],
            [
             0.2222222222222222,
             "#7201a8"
            ],
            [
             0.3333333333333333,
             "#9c179e"
            ],
            [
             0.4444444444444444,
             "#bd3786"
            ],
            [
             0.5555555555555556,
             "#d8576b"
            ],
            [
             0.6666666666666666,
             "#ed7953"
            ],
            [
             0.7777777777777778,
             "#fb9f3a"
            ],
            [
             0.8888888888888888,
             "#fdca26"
            ],
            [
             1,
             "#f0f921"
            ]
           ],
           "sequentialminus": [
            [
             0,
             "#0d0887"
            ],
            [
             0.1111111111111111,
             "#46039f"
            ],
            [
             0.2222222222222222,
             "#7201a8"
            ],
            [
             0.3333333333333333,
             "#9c179e"
            ],
            [
             0.4444444444444444,
             "#bd3786"
            ],
            [
             0.5555555555555556,
             "#d8576b"
            ],
            [
             0.6666666666666666,
             "#ed7953"
            ],
            [
             0.7777777777777778,
             "#fb9f3a"
            ],
            [
             0.8888888888888888,
             "#fdca26"
            ],
            [
             1,
             "#f0f921"
            ]
           ]
          },
          "colorway": [
           "#636efa",
           "#EF553B",
           "#00cc96",
           "#ab63fa",
           "#FFA15A",
           "#19d3f3",
           "#FF6692",
           "#B6E880",
           "#FF97FF",
           "#FECB52"
          ],
          "font": {
           "color": "#2a3f5f"
          },
          "geo": {
           "bgcolor": "white",
           "lakecolor": "white",
           "landcolor": "#E5ECF6",
           "showlakes": true,
           "showland": true,
           "subunitcolor": "white"
          },
          "hoverlabel": {
           "align": "left"
          },
          "hovermode": "closest",
          "mapbox": {
           "style": "light"
          },
          "paper_bgcolor": "white",
          "plot_bgcolor": "#E5ECF6",
          "polar": {
           "angularaxis": {
            "gridcolor": "white",
            "linecolor": "white",
            "ticks": ""
           },
           "bgcolor": "#E5ECF6",
           "radialaxis": {
            "gridcolor": "white",
            "linecolor": "white",
            "ticks": ""
           }
          },
          "scene": {
           "xaxis": {
            "backgroundcolor": "#E5ECF6",
            "gridcolor": "white",
            "gridwidth": 2,
            "linecolor": "white",
            "showbackground": true,
            "ticks": "",
            "zerolinecolor": "white"
           },
           "yaxis": {
            "backgroundcolor": "#E5ECF6",
            "gridcolor": "white",
            "gridwidth": 2,
            "linecolor": "white",
            "showbackground": true,
            "ticks": "",
            "zerolinecolor": "white"
           },
           "zaxis": {
            "backgroundcolor": "#E5ECF6",
            "gridcolor": "white",
            "gridwidth": 2,
            "linecolor": "white",
            "showbackground": true,
            "ticks": "",
            "zerolinecolor": "white"
           }
          },
          "shapedefaults": {
           "line": {
            "color": "#2a3f5f"
           }
          },
          "ternary": {
           "aaxis": {
            "gridcolor": "white",
            "linecolor": "white",
            "ticks": ""
           },
           "baxis": {
            "gridcolor": "white",
            "linecolor": "white",
            "ticks": ""
           },
           "bgcolor": "#E5ECF6",
           "caxis": {
            "gridcolor": "white",
            "linecolor": "white",
            "ticks": ""
           }
          },
          "title": {
           "x": 0.05
          },
          "xaxis": {
           "automargin": true,
           "gridcolor": "white",
           "linecolor": "white",
           "ticks": "",
           "title": {
            "standoff": 15
           },
           "zerolinecolor": "white",
           "zerolinewidth": 2
          },
          "yaxis": {
           "automargin": true,
           "gridcolor": "white",
           "linecolor": "white",
           "ticks": "",
           "title": {
            "standoff": 15
           },
           "zerolinecolor": "white",
           "zerolinewidth": 2
          }
         }
        }
       }
      },
      "text/html": [
       "<div>                            <div id=\"ebe1b1b9-24a2-4386-9e8a-2b55714b015d\" class=\"plotly-graph-div\" style=\"height:525px; width:100%;\"></div>            <script type=\"text/javascript\">                require([\"plotly\"], function(Plotly) {                    window.PLOTLYENV=window.PLOTLYENV || {};                                    if (document.getElementById(\"ebe1b1b9-24a2-4386-9e8a-2b55714b015d\")) {                    Plotly.newPlot(                        \"ebe1b1b9-24a2-4386-9e8a-2b55714b015d\",                        [{\"close\":[85.2,85.9,86.1,85.8,85.8,84.6,83.3,83.0,82.0,82.9,82.8,83.4,82.0,82.0,83.0,82.0,80.9,80.0,80.9,83.0,85.5,85.5,88.0,87.6,87.9,86.1,85.0,86.0,84.0,82.4,84.8,83.5,83.3,82.5,81.8,82.0,82.0,82.0,83.5,78.0,75.0,73.5,74.4,73.3,72.0,72.5,74.3,73.7,76.8,76.1,77.0,77.0,76.9,74.0,73.1,75.5,75.2,75.2,75.0,76.7,75.4,74.6,75.0,75.2,75.3,75.8,76.0,76.1,76.8,77.1,77.0,77.0,77.5,77.6,76.7,77.0,77.5,76.8,74.0,74.0,68.5,70.9,73.4,71.5,73.6,73.0,73.0,71.7,69.1,71.0,72.0,71.9,70.9,70.0,70.2,69.1,68.7,68.0,67.4,67.6,67.9,68.0,68.9,71.3,71.5,72.0,71.3,73.5,72.9,72.5,73.2,71.3,71.0,71.6,72.0,71.9,71.4,71.3,71.3,71.7,72.2],\"high\":[85.9,86.8,87.0,86.9,85.8,85.7,85.0,83.5,83.0,83.0,83.8,83.5,83.4,83.0,83.2,83.9,82.0,80.5,81.0,83.9,86.0,86.3,88.5,88.5,88.0,88.1,85.8,86.0,86.0,83.0,85.0,84.5,85.6,82.7,83.4,82.5,83.1,83.0,83.5,82.9,79.6,74.9,75.0,74.4,73.4,72.5,74.3,75.0,76.9,77.0,77.0,77.8,77.0,76.2,74.9,75.5,76.0,76.0,75.6,76.7,76.5,75.6,75.0,75.7,75.7,75.8,76.2,76.1,76.9,77.1,77.3,77.8,77.8,77.8,77.4,77.0,77.5,77.7,76.7,75.8,76.0,73.0,73.7,73.9,73.6,73.5,73.0,73.2,73.0,71.9,72.0,72.0,71.5,70.4,71.9,70.2,69.1,68.7,68.0,68.0,69.2,68.5,69.0,71.8,71.6,72.0,71.9,73.5,73.5,72.8,73.2,74.5,74.3,72.2,72.0,71.9,71.9,71.7,71.4,72.1,72.6],\"low\":[84.8,84.5,85.7,85.7,84.0,84.1,83.1,81.5,80.7,81.3,82.0,82.5,82.0,81.2,82.4,82.0,80.6,79.6,79.9,80.9,83.3,85.0,85.5,87.1,86.7,85.5,83.2,84.5,84.0,81.8,82.0,82.0,82.6,81.9,81.8,81.3,81.1,81.3,82.0,75.4,74.0,72.6,73.5,72.6,71.9,70.8,72.1,73.6,74.0,75.9,75.2,76.2,76.1,74.0,72.5,73.0,75.0,75.0,74.7,75.0,74.1,72.6,73.0,74.9,73.2,73.5,75.0,74.3,75.3,76.3,76.5,76.6,77.0,77.0,75.4,75.1,76.0,76.3,74.0,73.0,68.3,68.8,71.1,71.5,71.6,72.3,72.2,71.7,69.0,69.5,69.8,70.8,69.7,70.0,70.2,69.0,68.7,67.0,67.2,67.6,67.5,67.5,67.5,67.8,70.3,71.3,71.3,71.2,72.6,72.5,71.3,71.3,70.6,71.0,71.3,71.4,71.4,71.3,71.3,71.3,71.6],\"open\":[85.0,85.2,86.4,86.7,85.3,84.1,85.0,83.2,83.0,81.3,82.9,82.5,83.4,81.4,82.5,83.0,81.7,80.5,79.9,80.9,83.3,86.0,85.5,87.5,87.5,86.6,85.8,85.0,86.0,83.0,82.5,84.5,82.6,82.6,83.4,82.5,82.0,81.8,82.0,82.9,79.6,74.5,73.5,74.4,72.8,72.0,72.1,74.3,74.0,76.8,75.5,77.5,77.0,76.2,74.9,73.9,76.0,75.6,75.4,75.6,76.5,75.6,73.0,75.0,75.7,73.5,75.8,76.0,75.8,76.5,77.3,76.6,77.0,77.6,77.4,75.3,76.9,77.5,76.7,73.9,75.8,69.6,71.1,73.9,73.6,73.5,73.0,72.5,72.5,69.5,71.3,72.0,71.4,70.4,70.9,70.0,69.1,68.7,68.0,67.9,68.0,67.6,68.4,69.5,71.2,71.9,71.5,71.3,73.5,72.8,71.5,73.5,71.3,71.0,71.4,71.9,71.9,71.4,71.3,71.3,71.7],\"x\":[0,1,2,3,4,5,6,7,8,9,10,11,12,13,14,15,16,17,18,19,20,21,22,23,24,25,26,27,28,29,30,31,32,33,34,35,36,37,38,39,40,41,42,43,44,45,46,47,48,49,50,51,52,53,54,55,56,57,58,59,60,61,62,63,64,65,66,67,68,69,70,71,72,73,74,75,76,77,78,79,80,81,82,83,84,85,86,87,88,89,90,91,92,93,94,95,96,97,98,99,100,101,102,103,104,105,106,107,108,109,110,111,112,113,114,115,116,117,118,119,120],\"type\":\"candlestick\"}],                        {\"template\":{\"data\":{\"histogram2dcontour\":[{\"type\":\"histogram2dcontour\",\"colorbar\":{\"outlinewidth\":0,\"ticks\":\"\"},\"colorscale\":[[0.0,\"#0d0887\"],[0.1111111111111111,\"#46039f\"],[0.2222222222222222,\"#7201a8\"],[0.3333333333333333,\"#9c179e\"],[0.4444444444444444,\"#bd3786\"],[0.5555555555555556,\"#d8576b\"],[0.6666666666666666,\"#ed7953\"],[0.7777777777777778,\"#fb9f3a\"],[0.8888888888888888,\"#fdca26\"],[1.0,\"#f0f921\"]]}],\"choropleth\":[{\"type\":\"choropleth\",\"colorbar\":{\"outlinewidth\":0,\"ticks\":\"\"}}],\"histogram2d\":[{\"type\":\"histogram2d\",\"colorbar\":{\"outlinewidth\":0,\"ticks\":\"\"},\"colorscale\":[[0.0,\"#0d0887\"],[0.1111111111111111,\"#46039f\"],[0.2222222222222222,\"#7201a8\"],[0.3333333333333333,\"#9c179e\"],[0.4444444444444444,\"#bd3786\"],[0.5555555555555556,\"#d8576b\"],[0.6666666666666666,\"#ed7953\"],[0.7777777777777778,\"#fb9f3a\"],[0.8888888888888888,\"#fdca26\"],[1.0,\"#f0f921\"]]}],\"heatmap\":[{\"type\":\"heatmap\",\"colorbar\":{\"outlinewidth\":0,\"ticks\":\"\"},\"colorscale\":[[0.0,\"#0d0887\"],[0.1111111111111111,\"#46039f\"],[0.2222222222222222,\"#7201a8\"],[0.3333333333333333,\"#9c179e\"],[0.4444444444444444,\"#bd3786\"],[0.5555555555555556,\"#d8576b\"],[0.6666666666666666,\"#ed7953\"],[0.7777777777777778,\"#fb9f3a\"],[0.8888888888888888,\"#fdca26\"],[1.0,\"#f0f921\"]]}],\"heatmapgl\":[{\"type\":\"heatmapgl\",\"colorbar\":{\"outlinewidth\":0,\"ticks\":\"\"},\"colorscale\":[[0.0,\"#0d0887\"],[0.1111111111111111,\"#46039f\"],[0.2222222222222222,\"#7201a8\"],[0.3333333333333333,\"#9c179e\"],[0.4444444444444444,\"#bd3786\"],[0.5555555555555556,\"#d8576b\"],[0.6666666666666666,\"#ed7953\"],[0.7777777777777778,\"#fb9f3a\"],[0.8888888888888888,\"#fdca26\"],[1.0,\"#f0f921\"]]}],\"contourcarpet\":[{\"type\":\"contourcarpet\",\"colorbar\":{\"outlinewidth\":0,\"ticks\":\"\"}}],\"contour\":[{\"type\":\"contour\",\"colorbar\":{\"outlinewidth\":0,\"ticks\":\"\"},\"colorscale\":[[0.0,\"#0d0887\"],[0.1111111111111111,\"#46039f\"],[0.2222222222222222,\"#7201a8\"],[0.3333333333333333,\"#9c179e\"],[0.4444444444444444,\"#bd3786\"],[0.5555555555555556,\"#d8576b\"],[0.6666666666666666,\"#ed7953\"],[0.7777777777777778,\"#fb9f3a\"],[0.8888888888888888,\"#fdca26\"],[1.0,\"#f0f921\"]]}],\"surface\":[{\"type\":\"surface\",\"colorbar\":{\"outlinewidth\":0,\"ticks\":\"\"},\"colorscale\":[[0.0,\"#0d0887\"],[0.1111111111111111,\"#46039f\"],[0.2222222222222222,\"#7201a8\"],[0.3333333333333333,\"#9c179e\"],[0.4444444444444444,\"#bd3786\"],[0.5555555555555556,\"#d8576b\"],[0.6666666666666666,\"#ed7953\"],[0.7777777777777778,\"#fb9f3a\"],[0.8888888888888888,\"#fdca26\"],[1.0,\"#f0f921\"]]}],\"mesh3d\":[{\"type\":\"mesh3d\",\"colorbar\":{\"outlinewidth\":0,\"ticks\":\"\"}}],\"scatter\":[{\"fillpattern\":{\"fillmode\":\"overlay\",\"size\":10,\"solidity\":0.2},\"type\":\"scatter\"}],\"parcoords\":[{\"type\":\"parcoords\",\"line\":{\"colorbar\":{\"outlinewidth\":0,\"ticks\":\"\"}}}],\"scatterpolargl\":[{\"type\":\"scatterpolargl\",\"marker\":{\"colorbar\":{\"outlinewidth\":0,\"ticks\":\"\"}}}],\"bar\":[{\"error_x\":{\"color\":\"#2a3f5f\"},\"error_y\":{\"color\":\"#2a3f5f\"},\"marker\":{\"line\":{\"color\":\"#E5ECF6\",\"width\":0.5},\"pattern\":{\"fillmode\":\"overlay\",\"size\":10,\"solidity\":0.2}},\"type\":\"bar\"}],\"scattergeo\":[{\"type\":\"scattergeo\",\"marker\":{\"colorbar\":{\"outlinewidth\":0,\"ticks\":\"\"}}}],\"scatterpolar\":[{\"type\":\"scatterpolar\",\"marker\":{\"colorbar\":{\"outlinewidth\":0,\"ticks\":\"\"}}}],\"histogram\":[{\"marker\":{\"pattern\":{\"fillmode\":\"overlay\",\"size\":10,\"solidity\":0.2}},\"type\":\"histogram\"}],\"scattergl\":[{\"type\":\"scattergl\",\"marker\":{\"colorbar\":{\"outlinewidth\":0,\"ticks\":\"\"}}}],\"scatter3d\":[{\"type\":\"scatter3d\",\"line\":{\"colorbar\":{\"outlinewidth\":0,\"ticks\":\"\"}},\"marker\":{\"colorbar\":{\"outlinewidth\":0,\"ticks\":\"\"}}}],\"scattermapbox\":[{\"type\":\"scattermapbox\",\"marker\":{\"colorbar\":{\"outlinewidth\":0,\"ticks\":\"\"}}}],\"scatterternary\":[{\"type\":\"scatterternary\",\"marker\":{\"colorbar\":{\"outlinewidth\":0,\"ticks\":\"\"}}}],\"scattercarpet\":[{\"type\":\"scattercarpet\",\"marker\":{\"colorbar\":{\"outlinewidth\":0,\"ticks\":\"\"}}}],\"carpet\":[{\"aaxis\":{\"endlinecolor\":\"#2a3f5f\",\"gridcolor\":\"white\",\"linecolor\":\"white\",\"minorgridcolor\":\"white\",\"startlinecolor\":\"#2a3f5f\"},\"baxis\":{\"endlinecolor\":\"#2a3f5f\",\"gridcolor\":\"white\",\"linecolor\":\"white\",\"minorgridcolor\":\"white\",\"startlinecolor\":\"#2a3f5f\"},\"type\":\"carpet\"}],\"table\":[{\"cells\":{\"fill\":{\"color\":\"#EBF0F8\"},\"line\":{\"color\":\"white\"}},\"header\":{\"fill\":{\"color\":\"#C8D4E3\"},\"line\":{\"color\":\"white\"}},\"type\":\"table\"}],\"barpolar\":[{\"marker\":{\"line\":{\"color\":\"#E5ECF6\",\"width\":0.5},\"pattern\":{\"fillmode\":\"overlay\",\"size\":10,\"solidity\":0.2}},\"type\":\"barpolar\"}],\"pie\":[{\"automargin\":true,\"type\":\"pie\"}]},\"layout\":{\"autotypenumbers\":\"strict\",\"colorway\":[\"#636efa\",\"#EF553B\",\"#00cc96\",\"#ab63fa\",\"#FFA15A\",\"#19d3f3\",\"#FF6692\",\"#B6E880\",\"#FF97FF\",\"#FECB52\"],\"font\":{\"color\":\"#2a3f5f\"},\"hovermode\":\"closest\",\"hoverlabel\":{\"align\":\"left\"},\"paper_bgcolor\":\"white\",\"plot_bgcolor\":\"#E5ECF6\",\"polar\":{\"bgcolor\":\"#E5ECF6\",\"angularaxis\":{\"gridcolor\":\"white\",\"linecolor\":\"white\",\"ticks\":\"\"},\"radialaxis\":{\"gridcolor\":\"white\",\"linecolor\":\"white\",\"ticks\":\"\"}},\"ternary\":{\"bgcolor\":\"#E5ECF6\",\"aaxis\":{\"gridcolor\":\"white\",\"linecolor\":\"white\",\"ticks\":\"\"},\"baxis\":{\"gridcolor\":\"white\",\"linecolor\":\"white\",\"ticks\":\"\"},\"caxis\":{\"gridcolor\":\"white\",\"linecolor\":\"white\",\"ticks\":\"\"}},\"coloraxis\":{\"colorbar\":{\"outlinewidth\":0,\"ticks\":\"\"}},\"colorscale\":{\"sequential\":[[0.0,\"#0d0887\"],[0.1111111111111111,\"#46039f\"],[0.2222222222222222,\"#7201a8\"],[0.3333333333333333,\"#9c179e\"],[0.4444444444444444,\"#bd3786\"],[0.5555555555555556,\"#d8576b\"],[0.6666666666666666,\"#ed7953\"],[0.7777777777777778,\"#fb9f3a\"],[0.8888888888888888,\"#fdca26\"],[1.0,\"#f0f921\"]],\"sequentialminus\":[[0.0,\"#0d0887\"],[0.1111111111111111,\"#46039f\"],[0.2222222222222222,\"#7201a8\"],[0.3333333333333333,\"#9c179e\"],[0.4444444444444444,\"#bd3786\"],[0.5555555555555556,\"#d8576b\"],[0.6666666666666666,\"#ed7953\"],[0.7777777777777778,\"#fb9f3a\"],[0.8888888888888888,\"#fdca26\"],[1.0,\"#f0f921\"]],\"diverging\":[[0,\"#8e0152\"],[0.1,\"#c51b7d\"],[0.2,\"#de77ae\"],[0.3,\"#f1b6da\"],[0.4,\"#fde0ef\"],[0.5,\"#f7f7f7\"],[0.6,\"#e6f5d0\"],[0.7,\"#b8e186\"],[0.8,\"#7fbc41\"],[0.9,\"#4d9221\"],[1,\"#276419\"]]},\"xaxis\":{\"gridcolor\":\"white\",\"linecolor\":\"white\",\"ticks\":\"\",\"title\":{\"standoff\":15},\"zerolinecolor\":\"white\",\"automargin\":true,\"zerolinewidth\":2},\"yaxis\":{\"gridcolor\":\"white\",\"linecolor\":\"white\",\"ticks\":\"\",\"title\":{\"standoff\":15},\"zerolinecolor\":\"white\",\"automargin\":true,\"zerolinewidth\":2},\"scene\":{\"xaxis\":{\"backgroundcolor\":\"#E5ECF6\",\"gridcolor\":\"white\",\"linecolor\":\"white\",\"showbackground\":true,\"ticks\":\"\",\"zerolinecolor\":\"white\",\"gridwidth\":2},\"yaxis\":{\"backgroundcolor\":\"#E5ECF6\",\"gridcolor\":\"white\",\"linecolor\":\"white\",\"showbackground\":true,\"ticks\":\"\",\"zerolinecolor\":\"white\",\"gridwidth\":2},\"zaxis\":{\"backgroundcolor\":\"#E5ECF6\",\"gridcolor\":\"white\",\"linecolor\":\"white\",\"showbackground\":true,\"ticks\":\"\",\"zerolinecolor\":\"white\",\"gridwidth\":2}},\"shapedefaults\":{\"line\":{\"color\":\"#2a3f5f\"}},\"annotationdefaults\":{\"arrowcolor\":\"#2a3f5f\",\"arrowhead\":0,\"arrowwidth\":1},\"geo\":{\"bgcolor\":\"white\",\"landcolor\":\"#E5ECF6\",\"subunitcolor\":\"white\",\"showland\":true,\"showlakes\":true,\"lakecolor\":\"white\"},\"title\":{\"x\":0.05},\"mapbox\":{\"style\":\"light\"}}},\"shapes\":[{\"line\":{\"color\":\"green\",\"dash\":\"dash\",\"width\":3},\"type\":\"line\",\"x0\":59,\"x1\":59,\"xref\":\"x\",\"y0\":0,\"y1\":1,\"yref\":\"y domain\"},{\"line\":{\"color\":\"green\",\"dash\":\"dash\",\"width\":3},\"type\":\"line\",\"x0\":108,\"x1\":108,\"xref\":\"x\",\"y0\":0,\"y1\":1,\"yref\":\"y domain\"}]},                        {\"responsive\": true}                    ).then(function(){\n",
       "                            \n",
       "var gd = document.getElementById('ebe1b1b9-24a2-4386-9e8a-2b55714b015d');\n",
       "var x = new MutationObserver(function (mutations, observer) {{\n",
       "        var display = window.getComputedStyle(gd).display;\n",
       "        if (!display || display === 'none') {{\n",
       "            console.log([gd, 'removed!']);\n",
       "            Plotly.purge(gd);\n",
       "            observer.disconnect();\n",
       "        }}\n",
       "}});\n",
       "\n",
       "// Listen for the removal of the full notebook cells\n",
       "var notebookContainer = gd.closest('#notebook-container');\n",
       "if (notebookContainer) {{\n",
       "    x.observe(notebookContainer, {childList: true});\n",
       "}}\n",
       "\n",
       "// Listen for the clearing of the current output cell\n",
       "var outputEl = gd.closest('.output');\n",
       "if (outputEl) {{\n",
       "    x.observe(outputEl, {childList: true});\n",
       "}}\n",
       "\n",
       "                        })                };                });            </script>        </div>"
      ]
     },
     "metadata": {},
     "output_type": "display_data"
    },
    {
     "data": {
      "application/vnd.plotly.v1+json": {
       "config": {
        "plotlyServerURL": "https://plot.ly"
       },
       "data": [
        {
         "close": [
          85.2,
          85.9,
          86.1,
          85.8,
          85.8,
          84.6,
          83.3,
          83,
          82,
          82.9,
          82.8,
          83.4,
          82,
          82,
          83,
          82,
          80.9,
          80,
          80.9,
          83,
          85.5,
          85.5,
          88,
          87.6,
          87.9,
          86.1,
          85,
          86,
          84,
          82.4,
          84.8,
          83.5,
          83.3,
          82.5,
          81.8,
          82,
          82,
          82,
          83.5,
          78,
          75,
          73.5,
          74.4,
          73.3,
          72,
          72.5,
          74.3,
          73.7,
          76.8,
          76.1,
          77,
          77,
          76.9,
          74,
          73.1,
          75.5,
          75.2,
          75.2,
          75,
          76.7,
          75.4,
          74.6,
          75,
          75.2,
          75.3,
          75.8,
          76,
          76.1,
          76.8,
          77.1,
          77,
          77,
          77.5,
          77.6,
          76.7,
          77,
          77.5,
          76.8,
          74,
          74,
          68.5,
          70.9,
          73.4,
          71.5,
          73.6,
          73,
          73,
          71.7,
          69.1,
          71,
          72,
          71.9,
          70.9,
          70,
          70.2,
          69.1,
          68.7,
          68,
          67.4,
          67.6,
          67.9,
          68,
          68.9,
          71.3,
          71.5,
          72,
          71.3,
          73.5,
          72.9,
          72.5,
          73.2,
          71.3,
          71,
          71.6,
          72,
          71.9,
          71.4,
          71.3,
          71.3,
          71.7,
          72.2,
          73.7,
          74.4,
          74,
          73.6,
          74.1,
          74.2,
          74.5
         ],
         "high": [
          85.9,
          86.8,
          87,
          86.9,
          85.8,
          85.7,
          85,
          83.5,
          83,
          83,
          83.8,
          83.5,
          83.4,
          83,
          83.2,
          83.9,
          82,
          80.5,
          81,
          83.9,
          86,
          86.3,
          88.5,
          88.5,
          88,
          88.1,
          85.8,
          86,
          86,
          83,
          85,
          84.5,
          85.6,
          82.7,
          83.4,
          82.5,
          83.1,
          83,
          83.5,
          82.9,
          79.6,
          74.9,
          75,
          74.4,
          73.4,
          72.5,
          74.3,
          75,
          76.9,
          77,
          77,
          77.8,
          77,
          76.2,
          74.9,
          75.5,
          76,
          76,
          75.6,
          76.7,
          76.5,
          75.6,
          75,
          75.7,
          75.7,
          75.8,
          76.2,
          76.1,
          76.9,
          77.1,
          77.3,
          77.8,
          77.8,
          77.8,
          77.4,
          77,
          77.5,
          77.7,
          76.7,
          75.8,
          76,
          73,
          73.7,
          73.9,
          73.6,
          73.5,
          73,
          73.2,
          73,
          71.9,
          72,
          72,
          71.5,
          70.4,
          71.9,
          70.2,
          69.1,
          68.7,
          68,
          68,
          69.2,
          68.5,
          69,
          71.8,
          71.6,
          72,
          71.9,
          73.5,
          73.5,
          72.8,
          73.2,
          74.5,
          74.3,
          72.2,
          72,
          71.9,
          71.9,
          71.7,
          71.4,
          72.1,
          72.6,
          73.8,
          74.4,
          74.5,
          74,
          74.5,
          74.3,
          74.9
         ],
         "low": [
          84.8,
          84.5,
          85.7,
          85.7,
          84,
          84.1,
          83.1,
          81.5,
          80.7,
          81.3,
          82,
          82.5,
          82,
          81.2,
          82.4,
          82,
          80.6,
          79.6,
          79.9,
          80.9,
          83.3,
          85,
          85.5,
          87.1,
          86.7,
          85.5,
          83.2,
          84.5,
          84,
          81.8,
          82,
          82,
          82.6,
          81.9,
          81.8,
          81.3,
          81.1,
          81.3,
          82,
          75.4,
          74,
          72.6,
          73.5,
          72.6,
          71.9,
          70.8,
          72.1,
          73.6,
          74,
          75.9,
          75.2,
          76.2,
          76.1,
          74,
          72.5,
          73,
          75,
          75,
          74.7,
          75,
          74.1,
          72.6,
          73,
          74.9,
          73.2,
          73.5,
          75,
          74.3,
          75.3,
          76.3,
          76.5,
          76.6,
          77,
          77,
          75.4,
          75.1,
          76,
          76.3,
          74,
          73,
          68.3,
          68.8,
          71.1,
          71.5,
          71.6,
          72.3,
          72.2,
          71.7,
          69,
          69.5,
          69.8,
          70.8,
          69.7,
          70,
          70.2,
          69,
          68.7,
          67,
          67.2,
          67.6,
          67.5,
          67.5,
          67.5,
          67.8,
          70.3,
          71.3,
          71.3,
          71.2,
          72.6,
          72.5,
          71.3,
          71.3,
          70.6,
          71,
          71.3,
          71.4,
          71.4,
          71.3,
          71.3,
          71.3,
          71.6,
          72.1,
          73,
          73.1,
          73,
          73.1,
          73,
          73
         ],
         "open": [
          85,
          85.2,
          86.4,
          86.7,
          85.3,
          84.1,
          85,
          83.2,
          83,
          81.3,
          82.9,
          82.5,
          83.4,
          81.4,
          82.5,
          83,
          81.7,
          80.5,
          79.9,
          80.9,
          83.3,
          86,
          85.5,
          87.5,
          87.5,
          86.6,
          85.8,
          85,
          86,
          83,
          82.5,
          84.5,
          82.6,
          82.6,
          83.4,
          82.5,
          82,
          81.8,
          82,
          82.9,
          79.6,
          74.5,
          73.5,
          74.4,
          72.8,
          72,
          72.1,
          74.3,
          74,
          76.8,
          75.5,
          77.5,
          77,
          76.2,
          74.9,
          73.9,
          76,
          75.6,
          75.4,
          75.6,
          76.5,
          75.6,
          73,
          75,
          75.7,
          73.5,
          75.8,
          76,
          75.8,
          76.5,
          77.3,
          76.6,
          77,
          77.6,
          77.4,
          75.3,
          76.9,
          77.5,
          76.7,
          73.9,
          75.8,
          69.6,
          71.1,
          73.9,
          73.6,
          73.5,
          73,
          72.5,
          72.5,
          69.5,
          71.3,
          72,
          71.4,
          70.4,
          70.9,
          70,
          69.1,
          68.7,
          68,
          67.9,
          68,
          67.6,
          68.4,
          69.5,
          71.2,
          71.9,
          71.5,
          71.3,
          73.5,
          72.8,
          71.5,
          73.5,
          71.3,
          71,
          71.4,
          71.9,
          71.9,
          71.4,
          71.3,
          71.3,
          71.7,
          72.2,
          73,
          74.4,
          74,
          73.6,
          74,
          73.9
         ],
         "type": "candlestick",
         "x": [
          0,
          1,
          2,
          3,
          4,
          5,
          6,
          7,
          8,
          9,
          10,
          11,
          12,
          13,
          14,
          15,
          16,
          17,
          18,
          19,
          20,
          21,
          22,
          23,
          24,
          25,
          26,
          27,
          28,
          29,
          30,
          31,
          32,
          33,
          34,
          35,
          36,
          37,
          38,
          39,
          40,
          41,
          42,
          43,
          44,
          45,
          46,
          47,
          48,
          49,
          50,
          51,
          52,
          53,
          54,
          55,
          56,
          57,
          58,
          59,
          60,
          61,
          62,
          63,
          64,
          65,
          66,
          67,
          68,
          69,
          70,
          71,
          72,
          73,
          74,
          75,
          76,
          77,
          78,
          79,
          80,
          81,
          82,
          83,
          84,
          85,
          86,
          87,
          88,
          89,
          90,
          91,
          92,
          93,
          94,
          95,
          96,
          97,
          98,
          99,
          100,
          101,
          102,
          103,
          104,
          105,
          106,
          107,
          108,
          109,
          110,
          111,
          112,
          113,
          114,
          115,
          116,
          117,
          118,
          119,
          120,
          121,
          122,
          123,
          124,
          125,
          126,
          127
         ]
        }
       ],
       "layout": {
        "shapes": [
         {
          "line": {
           "color": "green",
           "dash": "dash",
           "width": 3
          },
          "type": "line",
          "x0": 59,
          "x1": 59,
          "xref": "x",
          "y0": 0,
          "y1": 1,
          "yref": "y domain"
         },
         {
          "line": {
           "color": "green",
           "dash": "dash",
           "width": 3
          },
          "type": "line",
          "x0": 108,
          "x1": 108,
          "xref": "x",
          "y0": 0,
          "y1": 1,
          "yref": "y domain"
         }
        ],
        "template": {
         "data": {
          "bar": [
           {
            "error_x": {
             "color": "#2a3f5f"
            },
            "error_y": {
             "color": "#2a3f5f"
            },
            "marker": {
             "line": {
              "color": "#E5ECF6",
              "width": 0.5
             },
             "pattern": {
              "fillmode": "overlay",
              "size": 10,
              "solidity": 0.2
             }
            },
            "type": "bar"
           }
          ],
          "barpolar": [
           {
            "marker": {
             "line": {
              "color": "#E5ECF6",
              "width": 0.5
             },
             "pattern": {
              "fillmode": "overlay",
              "size": 10,
              "solidity": 0.2
             }
            },
            "type": "barpolar"
           }
          ],
          "carpet": [
           {
            "aaxis": {
             "endlinecolor": "#2a3f5f",
             "gridcolor": "white",
             "linecolor": "white",
             "minorgridcolor": "white",
             "startlinecolor": "#2a3f5f"
            },
            "baxis": {
             "endlinecolor": "#2a3f5f",
             "gridcolor": "white",
             "linecolor": "white",
             "minorgridcolor": "white",
             "startlinecolor": "#2a3f5f"
            },
            "type": "carpet"
           }
          ],
          "choropleth": [
           {
            "colorbar": {
             "outlinewidth": 0,
             "ticks": ""
            },
            "type": "choropleth"
           }
          ],
          "contour": [
           {
            "colorbar": {
             "outlinewidth": 0,
             "ticks": ""
            },
            "colorscale": [
             [
              0,
              "#0d0887"
             ],
             [
              0.1111111111111111,
              "#46039f"
             ],
             [
              0.2222222222222222,
              "#7201a8"
             ],
             [
              0.3333333333333333,
              "#9c179e"
             ],
             [
              0.4444444444444444,
              "#bd3786"
             ],
             [
              0.5555555555555556,
              "#d8576b"
             ],
             [
              0.6666666666666666,
              "#ed7953"
             ],
             [
              0.7777777777777778,
              "#fb9f3a"
             ],
             [
              0.8888888888888888,
              "#fdca26"
             ],
             [
              1,
              "#f0f921"
             ]
            ],
            "type": "contour"
           }
          ],
          "contourcarpet": [
           {
            "colorbar": {
             "outlinewidth": 0,
             "ticks": ""
            },
            "type": "contourcarpet"
           }
          ],
          "heatmap": [
           {
            "colorbar": {
             "outlinewidth": 0,
             "ticks": ""
            },
            "colorscale": [
             [
              0,
              "#0d0887"
             ],
             [
              0.1111111111111111,
              "#46039f"
             ],
             [
              0.2222222222222222,
              "#7201a8"
             ],
             [
              0.3333333333333333,
              "#9c179e"
             ],
             [
              0.4444444444444444,
              "#bd3786"
             ],
             [
              0.5555555555555556,
              "#d8576b"
             ],
             [
              0.6666666666666666,
              "#ed7953"
             ],
             [
              0.7777777777777778,
              "#fb9f3a"
             ],
             [
              0.8888888888888888,
              "#fdca26"
             ],
             [
              1,
              "#f0f921"
             ]
            ],
            "type": "heatmap"
           }
          ],
          "heatmapgl": [
           {
            "colorbar": {
             "outlinewidth": 0,
             "ticks": ""
            },
            "colorscale": [
             [
              0,
              "#0d0887"
             ],
             [
              0.1111111111111111,
              "#46039f"
             ],
             [
              0.2222222222222222,
              "#7201a8"
             ],
             [
              0.3333333333333333,
              "#9c179e"
             ],
             [
              0.4444444444444444,
              "#bd3786"
             ],
             [
              0.5555555555555556,
              "#d8576b"
             ],
             [
              0.6666666666666666,
              "#ed7953"
             ],
             [
              0.7777777777777778,
              "#fb9f3a"
             ],
             [
              0.8888888888888888,
              "#fdca26"
             ],
             [
              1,
              "#f0f921"
             ]
            ],
            "type": "heatmapgl"
           }
          ],
          "histogram": [
           {
            "marker": {
             "pattern": {
              "fillmode": "overlay",
              "size": 10,
              "solidity": 0.2
             }
            },
            "type": "histogram"
           }
          ],
          "histogram2d": [
           {
            "colorbar": {
             "outlinewidth": 0,
             "ticks": ""
            },
            "colorscale": [
             [
              0,
              "#0d0887"
             ],
             [
              0.1111111111111111,
              "#46039f"
             ],
             [
              0.2222222222222222,
              "#7201a8"
             ],
             [
              0.3333333333333333,
              "#9c179e"
             ],
             [
              0.4444444444444444,
              "#bd3786"
             ],
             [
              0.5555555555555556,
              "#d8576b"
             ],
             [
              0.6666666666666666,
              "#ed7953"
             ],
             [
              0.7777777777777778,
              "#fb9f3a"
             ],
             [
              0.8888888888888888,
              "#fdca26"
             ],
             [
              1,
              "#f0f921"
             ]
            ],
            "type": "histogram2d"
           }
          ],
          "histogram2dcontour": [
           {
            "colorbar": {
             "outlinewidth": 0,
             "ticks": ""
            },
            "colorscale": [
             [
              0,
              "#0d0887"
             ],
             [
              0.1111111111111111,
              "#46039f"
             ],
             [
              0.2222222222222222,
              "#7201a8"
             ],
             [
              0.3333333333333333,
              "#9c179e"
             ],
             [
              0.4444444444444444,
              "#bd3786"
             ],
             [
              0.5555555555555556,
              "#d8576b"
             ],
             [
              0.6666666666666666,
              "#ed7953"
             ],
             [
              0.7777777777777778,
              "#fb9f3a"
             ],
             [
              0.8888888888888888,
              "#fdca26"
             ],
             [
              1,
              "#f0f921"
             ]
            ],
            "type": "histogram2dcontour"
           }
          ],
          "mesh3d": [
           {
            "colorbar": {
             "outlinewidth": 0,
             "ticks": ""
            },
            "type": "mesh3d"
           }
          ],
          "parcoords": [
           {
            "line": {
             "colorbar": {
              "outlinewidth": 0,
              "ticks": ""
             }
            },
            "type": "parcoords"
           }
          ],
          "pie": [
           {
            "automargin": true,
            "type": "pie"
           }
          ],
          "scatter": [
           {
            "fillpattern": {
             "fillmode": "overlay",
             "size": 10,
             "solidity": 0.2
            },
            "type": "scatter"
           }
          ],
          "scatter3d": [
           {
            "line": {
             "colorbar": {
              "outlinewidth": 0,
              "ticks": ""
             }
            },
            "marker": {
             "colorbar": {
              "outlinewidth": 0,
              "ticks": ""
             }
            },
            "type": "scatter3d"
           }
          ],
          "scattercarpet": [
           {
            "marker": {
             "colorbar": {
              "outlinewidth": 0,
              "ticks": ""
             }
            },
            "type": "scattercarpet"
           }
          ],
          "scattergeo": [
           {
            "marker": {
             "colorbar": {
              "outlinewidth": 0,
              "ticks": ""
             }
            },
            "type": "scattergeo"
           }
          ],
          "scattergl": [
           {
            "marker": {
             "colorbar": {
              "outlinewidth": 0,
              "ticks": ""
             }
            },
            "type": "scattergl"
           }
          ],
          "scattermapbox": [
           {
            "marker": {
             "colorbar": {
              "outlinewidth": 0,
              "ticks": ""
             }
            },
            "type": "scattermapbox"
           }
          ],
          "scatterpolar": [
           {
            "marker": {
             "colorbar": {
              "outlinewidth": 0,
              "ticks": ""
             }
            },
            "type": "scatterpolar"
           }
          ],
          "scatterpolargl": [
           {
            "marker": {
             "colorbar": {
              "outlinewidth": 0,
              "ticks": ""
             }
            },
            "type": "scatterpolargl"
           }
          ],
          "scatterternary": [
           {
            "marker": {
             "colorbar": {
              "outlinewidth": 0,
              "ticks": ""
             }
            },
            "type": "scatterternary"
           }
          ],
          "surface": [
           {
            "colorbar": {
             "outlinewidth": 0,
             "ticks": ""
            },
            "colorscale": [
             [
              0,
              "#0d0887"
             ],
             [
              0.1111111111111111,
              "#46039f"
             ],
             [
              0.2222222222222222,
              "#7201a8"
             ],
             [
              0.3333333333333333,
              "#9c179e"
             ],
             [
              0.4444444444444444,
              "#bd3786"
             ],
             [
              0.5555555555555556,
              "#d8576b"
             ],
             [
              0.6666666666666666,
              "#ed7953"
             ],
             [
              0.7777777777777778,
              "#fb9f3a"
             ],
             [
              0.8888888888888888,
              "#fdca26"
             ],
             [
              1,
              "#f0f921"
             ]
            ],
            "type": "surface"
           }
          ],
          "table": [
           {
            "cells": {
             "fill": {
              "color": "#EBF0F8"
             },
             "line": {
              "color": "white"
             }
            },
            "header": {
             "fill": {
              "color": "#C8D4E3"
             },
             "line": {
              "color": "white"
             }
            },
            "type": "table"
           }
          ]
         },
         "layout": {
          "annotationdefaults": {
           "arrowcolor": "#2a3f5f",
           "arrowhead": 0,
           "arrowwidth": 1
          },
          "autotypenumbers": "strict",
          "coloraxis": {
           "colorbar": {
            "outlinewidth": 0,
            "ticks": ""
           }
          },
          "colorscale": {
           "diverging": [
            [
             0,
             "#8e0152"
            ],
            [
             0.1,
             "#c51b7d"
            ],
            [
             0.2,
             "#de77ae"
            ],
            [
             0.3,
             "#f1b6da"
            ],
            [
             0.4,
             "#fde0ef"
            ],
            [
             0.5,
             "#f7f7f7"
            ],
            [
             0.6,
             "#e6f5d0"
            ],
            [
             0.7,
             "#b8e186"
            ],
            [
             0.8,
             "#7fbc41"
            ],
            [
             0.9,
             "#4d9221"
            ],
            [
             1,
             "#276419"
            ]
           ],
           "sequential": [
            [
             0,
             "#0d0887"
            ],
            [
             0.1111111111111111,
             "#46039f"
            ],
            [
             0.2222222222222222,
             "#7201a8"
            ],
            [
             0.3333333333333333,
             "#9c179e"
            ],
            [
             0.4444444444444444,
             "#bd3786"
            ],
            [
             0.5555555555555556,
             "#d8576b"
            ],
            [
             0.6666666666666666,
             "#ed7953"
            ],
            [
             0.7777777777777778,
             "#fb9f3a"
            ],
            [
             0.8888888888888888,
             "#fdca26"
            ],
            [
             1,
             "#f0f921"
            ]
           ],
           "sequentialminus": [
            [
             0,
             "#0d0887"
            ],
            [
             0.1111111111111111,
             "#46039f"
            ],
            [
             0.2222222222222222,
             "#7201a8"
            ],
            [
             0.3333333333333333,
             "#9c179e"
            ],
            [
             0.4444444444444444,
             "#bd3786"
            ],
            [
             0.5555555555555556,
             "#d8576b"
            ],
            [
             0.6666666666666666,
             "#ed7953"
            ],
            [
             0.7777777777777778,
             "#fb9f3a"
            ],
            [
             0.8888888888888888,
             "#fdca26"
            ],
            [
             1,
             "#f0f921"
            ]
           ]
          },
          "colorway": [
           "#636efa",
           "#EF553B",
           "#00cc96",
           "#ab63fa",
           "#FFA15A",
           "#19d3f3",
           "#FF6692",
           "#B6E880",
           "#FF97FF",
           "#FECB52"
          ],
          "font": {
           "color": "#2a3f5f"
          },
          "geo": {
           "bgcolor": "white",
           "lakecolor": "white",
           "landcolor": "#E5ECF6",
           "showlakes": true,
           "showland": true,
           "subunitcolor": "white"
          },
          "hoverlabel": {
           "align": "left"
          },
          "hovermode": "closest",
          "mapbox": {
           "style": "light"
          },
          "paper_bgcolor": "white",
          "plot_bgcolor": "#E5ECF6",
          "polar": {
           "angularaxis": {
            "gridcolor": "white",
            "linecolor": "white",
            "ticks": ""
           },
           "bgcolor": "#E5ECF6",
           "radialaxis": {
            "gridcolor": "white",
            "linecolor": "white",
            "ticks": ""
           }
          },
          "scene": {
           "xaxis": {
            "backgroundcolor": "#E5ECF6",
            "gridcolor": "white",
            "gridwidth": 2,
            "linecolor": "white",
            "showbackground": true,
            "ticks": "",
            "zerolinecolor": "white"
           },
           "yaxis": {
            "backgroundcolor": "#E5ECF6",
            "gridcolor": "white",
            "gridwidth": 2,
            "linecolor": "white",
            "showbackground": true,
            "ticks": "",
            "zerolinecolor": "white"
           },
           "zaxis": {
            "backgroundcolor": "#E5ECF6",
            "gridcolor": "white",
            "gridwidth": 2,
            "linecolor": "white",
            "showbackground": true,
            "ticks": "",
            "zerolinecolor": "white"
           }
          },
          "shapedefaults": {
           "line": {
            "color": "#2a3f5f"
           }
          },
          "ternary": {
           "aaxis": {
            "gridcolor": "white",
            "linecolor": "white",
            "ticks": ""
           },
           "baxis": {
            "gridcolor": "white",
            "linecolor": "white",
            "ticks": ""
           },
           "bgcolor": "#E5ECF6",
           "caxis": {
            "gridcolor": "white",
            "linecolor": "white",
            "ticks": ""
           }
          },
          "title": {
           "x": 0.05
          },
          "xaxis": {
           "automargin": true,
           "gridcolor": "white",
           "linecolor": "white",
           "ticks": "",
           "title": {
            "standoff": 15
           },
           "zerolinecolor": "white",
           "zerolinewidth": 2
          },
          "yaxis": {
           "automargin": true,
           "gridcolor": "white",
           "linecolor": "white",
           "ticks": "",
           "title": {
            "standoff": 15
           },
           "zerolinecolor": "white",
           "zerolinewidth": 2
          }
         }
        }
       }
      },
      "text/html": [
       "<div>                            <div id=\"b1c07f0a-bf96-45e4-ad68-efe7d537fd15\" class=\"plotly-graph-div\" style=\"height:525px; width:100%;\"></div>            <script type=\"text/javascript\">                require([\"plotly\"], function(Plotly) {                    window.PLOTLYENV=window.PLOTLYENV || {};                                    if (document.getElementById(\"b1c07f0a-bf96-45e4-ad68-efe7d537fd15\")) {                    Plotly.newPlot(                        \"b1c07f0a-bf96-45e4-ad68-efe7d537fd15\",                        [{\"close\":[85.2,85.9,86.1,85.8,85.8,84.6,83.3,83.0,82.0,82.9,82.8,83.4,82.0,82.0,83.0,82.0,80.9,80.0,80.9,83.0,85.5,85.5,88.0,87.6,87.9,86.1,85.0,86.0,84.0,82.4,84.8,83.5,83.3,82.5,81.8,82.0,82.0,82.0,83.5,78.0,75.0,73.5,74.4,73.3,72.0,72.5,74.3,73.7,76.8,76.1,77.0,77.0,76.9,74.0,73.1,75.5,75.2,75.2,75.0,76.7,75.4,74.6,75.0,75.2,75.3,75.8,76.0,76.1,76.8,77.1,77.0,77.0,77.5,77.6,76.7,77.0,77.5,76.8,74.0,74.0,68.5,70.9,73.4,71.5,73.6,73.0,73.0,71.7,69.1,71.0,72.0,71.9,70.9,70.0,70.2,69.1,68.7,68.0,67.4,67.6,67.9,68.0,68.9,71.3,71.5,72.0,71.3,73.5,72.9,72.5,73.2,71.3,71.0,71.6,72.0,71.9,71.4,71.3,71.3,71.7,72.2,73.7,74.4,74.0,73.6,74.1,74.2,74.5],\"high\":[85.9,86.8,87.0,86.9,85.8,85.7,85.0,83.5,83.0,83.0,83.8,83.5,83.4,83.0,83.2,83.9,82.0,80.5,81.0,83.9,86.0,86.3,88.5,88.5,88.0,88.1,85.8,86.0,86.0,83.0,85.0,84.5,85.6,82.7,83.4,82.5,83.1,83.0,83.5,82.9,79.6,74.9,75.0,74.4,73.4,72.5,74.3,75.0,76.9,77.0,77.0,77.8,77.0,76.2,74.9,75.5,76.0,76.0,75.6,76.7,76.5,75.6,75.0,75.7,75.7,75.8,76.2,76.1,76.9,77.1,77.3,77.8,77.8,77.8,77.4,77.0,77.5,77.7,76.7,75.8,76.0,73.0,73.7,73.9,73.6,73.5,73.0,73.2,73.0,71.9,72.0,72.0,71.5,70.4,71.9,70.2,69.1,68.7,68.0,68.0,69.2,68.5,69.0,71.8,71.6,72.0,71.9,73.5,73.5,72.8,73.2,74.5,74.3,72.2,72.0,71.9,71.9,71.7,71.4,72.1,72.6,73.8,74.4,74.5,74.0,74.5,74.3,74.9],\"low\":[84.8,84.5,85.7,85.7,84.0,84.1,83.1,81.5,80.7,81.3,82.0,82.5,82.0,81.2,82.4,82.0,80.6,79.6,79.9,80.9,83.3,85.0,85.5,87.1,86.7,85.5,83.2,84.5,84.0,81.8,82.0,82.0,82.6,81.9,81.8,81.3,81.1,81.3,82.0,75.4,74.0,72.6,73.5,72.6,71.9,70.8,72.1,73.6,74.0,75.9,75.2,76.2,76.1,74.0,72.5,73.0,75.0,75.0,74.7,75.0,74.1,72.6,73.0,74.9,73.2,73.5,75.0,74.3,75.3,76.3,76.5,76.6,77.0,77.0,75.4,75.1,76.0,76.3,74.0,73.0,68.3,68.8,71.1,71.5,71.6,72.3,72.2,71.7,69.0,69.5,69.8,70.8,69.7,70.0,70.2,69.0,68.7,67.0,67.2,67.6,67.5,67.5,67.5,67.8,70.3,71.3,71.3,71.2,72.6,72.5,71.3,71.3,70.6,71.0,71.3,71.4,71.4,71.3,71.3,71.3,71.6,72.1,73.0,73.1,73.0,73.1,73.0,73.0],\"open\":[85.0,85.2,86.4,86.7,85.3,84.1,85.0,83.2,83.0,81.3,82.9,82.5,83.4,81.4,82.5,83.0,81.7,80.5,79.9,80.9,83.3,86.0,85.5,87.5,87.5,86.6,85.8,85.0,86.0,83.0,82.5,84.5,82.6,82.6,83.4,82.5,82.0,81.8,82.0,82.9,79.6,74.5,73.5,74.4,72.8,72.0,72.1,74.3,74.0,76.8,75.5,77.5,77.0,76.2,74.9,73.9,76.0,75.6,75.4,75.6,76.5,75.6,73.0,75.0,75.7,73.5,75.8,76.0,75.8,76.5,77.3,76.6,77.0,77.6,77.4,75.3,76.9,77.5,76.7,73.9,75.8,69.6,71.1,73.9,73.6,73.5,73.0,72.5,72.5,69.5,71.3,72.0,71.4,70.4,70.9,70.0,69.1,68.7,68.0,67.9,68.0,67.6,68.4,69.5,71.2,71.9,71.5,71.3,73.5,72.8,71.5,73.5,71.3,71.0,71.4,71.9,71.9,71.4,71.3,71.3,71.7,72.2,73.0,74.4,74.0,73.6,74.0,73.9],\"x\":[0,1,2,3,4,5,6,7,8,9,10,11,12,13,14,15,16,17,18,19,20,21,22,23,24,25,26,27,28,29,30,31,32,33,34,35,36,37,38,39,40,41,42,43,44,45,46,47,48,49,50,51,52,53,54,55,56,57,58,59,60,61,62,63,64,65,66,67,68,69,70,71,72,73,74,75,76,77,78,79,80,81,82,83,84,85,86,87,88,89,90,91,92,93,94,95,96,97,98,99,100,101,102,103,104,105,106,107,108,109,110,111,112,113,114,115,116,117,118,119,120,121,122,123,124,125,126,127],\"type\":\"candlestick\"}],                        {\"template\":{\"data\":{\"histogram2dcontour\":[{\"type\":\"histogram2dcontour\",\"colorbar\":{\"outlinewidth\":0,\"ticks\":\"\"},\"colorscale\":[[0.0,\"#0d0887\"],[0.1111111111111111,\"#46039f\"],[0.2222222222222222,\"#7201a8\"],[0.3333333333333333,\"#9c179e\"],[0.4444444444444444,\"#bd3786\"],[0.5555555555555556,\"#d8576b\"],[0.6666666666666666,\"#ed7953\"],[0.7777777777777778,\"#fb9f3a\"],[0.8888888888888888,\"#fdca26\"],[1.0,\"#f0f921\"]]}],\"choropleth\":[{\"type\":\"choropleth\",\"colorbar\":{\"outlinewidth\":0,\"ticks\":\"\"}}],\"histogram2d\":[{\"type\":\"histogram2d\",\"colorbar\":{\"outlinewidth\":0,\"ticks\":\"\"},\"colorscale\":[[0.0,\"#0d0887\"],[0.1111111111111111,\"#46039f\"],[0.2222222222222222,\"#7201a8\"],[0.3333333333333333,\"#9c179e\"],[0.4444444444444444,\"#bd3786\"],[0.5555555555555556,\"#d8576b\"],[0.6666666666666666,\"#ed7953\"],[0.7777777777777778,\"#fb9f3a\"],[0.8888888888888888,\"#fdca26\"],[1.0,\"#f0f921\"]]}],\"heatmap\":[{\"type\":\"heatmap\",\"colorbar\":{\"outlinewidth\":0,\"ticks\":\"\"},\"colorscale\":[[0.0,\"#0d0887\"],[0.1111111111111111,\"#46039f\"],[0.2222222222222222,\"#7201a8\"],[0.3333333333333333,\"#9c179e\"],[0.4444444444444444,\"#bd3786\"],[0.5555555555555556,\"#d8576b\"],[0.6666666666666666,\"#ed7953\"],[0.7777777777777778,\"#fb9f3a\"],[0.8888888888888888,\"#fdca26\"],[1.0,\"#f0f921\"]]}],\"heatmapgl\":[{\"type\":\"heatmapgl\",\"colorbar\":{\"outlinewidth\":0,\"ticks\":\"\"},\"colorscale\":[[0.0,\"#0d0887\"],[0.1111111111111111,\"#46039f\"],[0.2222222222222222,\"#7201a8\"],[0.3333333333333333,\"#9c179e\"],[0.4444444444444444,\"#bd3786\"],[0.5555555555555556,\"#d8576b\"],[0.6666666666666666,\"#ed7953\"],[0.7777777777777778,\"#fb9f3a\"],[0.8888888888888888,\"#fdca26\"],[1.0,\"#f0f921\"]]}],\"contourcarpet\":[{\"type\":\"contourcarpet\",\"colorbar\":{\"outlinewidth\":0,\"ticks\":\"\"}}],\"contour\":[{\"type\":\"contour\",\"colorbar\":{\"outlinewidth\":0,\"ticks\":\"\"},\"colorscale\":[[0.0,\"#0d0887\"],[0.1111111111111111,\"#46039f\"],[0.2222222222222222,\"#7201a8\"],[0.3333333333333333,\"#9c179e\"],[0.4444444444444444,\"#bd3786\"],[0.5555555555555556,\"#d8576b\"],[0.6666666666666666,\"#ed7953\"],[0.7777777777777778,\"#fb9f3a\"],[0.8888888888888888,\"#fdca26\"],[1.0,\"#f0f921\"]]}],\"surface\":[{\"type\":\"surface\",\"colorbar\":{\"outlinewidth\":0,\"ticks\":\"\"},\"colorscale\":[[0.0,\"#0d0887\"],[0.1111111111111111,\"#46039f\"],[0.2222222222222222,\"#7201a8\"],[0.3333333333333333,\"#9c179e\"],[0.4444444444444444,\"#bd3786\"],[0.5555555555555556,\"#d8576b\"],[0.6666666666666666,\"#ed7953\"],[0.7777777777777778,\"#fb9f3a\"],[0.8888888888888888,\"#fdca26\"],[1.0,\"#f0f921\"]]}],\"mesh3d\":[{\"type\":\"mesh3d\",\"colorbar\":{\"outlinewidth\":0,\"ticks\":\"\"}}],\"scatter\":[{\"fillpattern\":{\"fillmode\":\"overlay\",\"size\":10,\"solidity\":0.2},\"type\":\"scatter\"}],\"parcoords\":[{\"type\":\"parcoords\",\"line\":{\"colorbar\":{\"outlinewidth\":0,\"ticks\":\"\"}}}],\"scatterpolargl\":[{\"type\":\"scatterpolargl\",\"marker\":{\"colorbar\":{\"outlinewidth\":0,\"ticks\":\"\"}}}],\"bar\":[{\"error_x\":{\"color\":\"#2a3f5f\"},\"error_y\":{\"color\":\"#2a3f5f\"},\"marker\":{\"line\":{\"color\":\"#E5ECF6\",\"width\":0.5},\"pattern\":{\"fillmode\":\"overlay\",\"size\":10,\"solidity\":0.2}},\"type\":\"bar\"}],\"scattergeo\":[{\"type\":\"scattergeo\",\"marker\":{\"colorbar\":{\"outlinewidth\":0,\"ticks\":\"\"}}}],\"scatterpolar\":[{\"type\":\"scatterpolar\",\"marker\":{\"colorbar\":{\"outlinewidth\":0,\"ticks\":\"\"}}}],\"histogram\":[{\"marker\":{\"pattern\":{\"fillmode\":\"overlay\",\"size\":10,\"solidity\":0.2}},\"type\":\"histogram\"}],\"scattergl\":[{\"type\":\"scattergl\",\"marker\":{\"colorbar\":{\"outlinewidth\":0,\"ticks\":\"\"}}}],\"scatter3d\":[{\"type\":\"scatter3d\",\"line\":{\"colorbar\":{\"outlinewidth\":0,\"ticks\":\"\"}},\"marker\":{\"colorbar\":{\"outlinewidth\":0,\"ticks\":\"\"}}}],\"scattermapbox\":[{\"type\":\"scattermapbox\",\"marker\":{\"colorbar\":{\"outlinewidth\":0,\"ticks\":\"\"}}}],\"scatterternary\":[{\"type\":\"scatterternary\",\"marker\":{\"colorbar\":{\"outlinewidth\":0,\"ticks\":\"\"}}}],\"scattercarpet\":[{\"type\":\"scattercarpet\",\"marker\":{\"colorbar\":{\"outlinewidth\":0,\"ticks\":\"\"}}}],\"carpet\":[{\"aaxis\":{\"endlinecolor\":\"#2a3f5f\",\"gridcolor\":\"white\",\"linecolor\":\"white\",\"minorgridcolor\":\"white\",\"startlinecolor\":\"#2a3f5f\"},\"baxis\":{\"endlinecolor\":\"#2a3f5f\",\"gridcolor\":\"white\",\"linecolor\":\"white\",\"minorgridcolor\":\"white\",\"startlinecolor\":\"#2a3f5f\"},\"type\":\"carpet\"}],\"table\":[{\"cells\":{\"fill\":{\"color\":\"#EBF0F8\"},\"line\":{\"color\":\"white\"}},\"header\":{\"fill\":{\"color\":\"#C8D4E3\"},\"line\":{\"color\":\"white\"}},\"type\":\"table\"}],\"barpolar\":[{\"marker\":{\"line\":{\"color\":\"#E5ECF6\",\"width\":0.5},\"pattern\":{\"fillmode\":\"overlay\",\"size\":10,\"solidity\":0.2}},\"type\":\"barpolar\"}],\"pie\":[{\"automargin\":true,\"type\":\"pie\"}]},\"layout\":{\"autotypenumbers\":\"strict\",\"colorway\":[\"#636efa\",\"#EF553B\",\"#00cc96\",\"#ab63fa\",\"#FFA15A\",\"#19d3f3\",\"#FF6692\",\"#B6E880\",\"#FF97FF\",\"#FECB52\"],\"font\":{\"color\":\"#2a3f5f\"},\"hovermode\":\"closest\",\"hoverlabel\":{\"align\":\"left\"},\"paper_bgcolor\":\"white\",\"plot_bgcolor\":\"#E5ECF6\",\"polar\":{\"bgcolor\":\"#E5ECF6\",\"angularaxis\":{\"gridcolor\":\"white\",\"linecolor\":\"white\",\"ticks\":\"\"},\"radialaxis\":{\"gridcolor\":\"white\",\"linecolor\":\"white\",\"ticks\":\"\"}},\"ternary\":{\"bgcolor\":\"#E5ECF6\",\"aaxis\":{\"gridcolor\":\"white\",\"linecolor\":\"white\",\"ticks\":\"\"},\"baxis\":{\"gridcolor\":\"white\",\"linecolor\":\"white\",\"ticks\":\"\"},\"caxis\":{\"gridcolor\":\"white\",\"linecolor\":\"white\",\"ticks\":\"\"}},\"coloraxis\":{\"colorbar\":{\"outlinewidth\":0,\"ticks\":\"\"}},\"colorscale\":{\"sequential\":[[0.0,\"#0d0887\"],[0.1111111111111111,\"#46039f\"],[0.2222222222222222,\"#7201a8\"],[0.3333333333333333,\"#9c179e\"],[0.4444444444444444,\"#bd3786\"],[0.5555555555555556,\"#d8576b\"],[0.6666666666666666,\"#ed7953\"],[0.7777777777777778,\"#fb9f3a\"],[0.8888888888888888,\"#fdca26\"],[1.0,\"#f0f921\"]],\"sequentialminus\":[[0.0,\"#0d0887\"],[0.1111111111111111,\"#46039f\"],[0.2222222222222222,\"#7201a8\"],[0.3333333333333333,\"#9c179e\"],[0.4444444444444444,\"#bd3786\"],[0.5555555555555556,\"#d8576b\"],[0.6666666666666666,\"#ed7953\"],[0.7777777777777778,\"#fb9f3a\"],[0.8888888888888888,\"#fdca26\"],[1.0,\"#f0f921\"]],\"diverging\":[[0,\"#8e0152\"],[0.1,\"#c51b7d\"],[0.2,\"#de77ae\"],[0.3,\"#f1b6da\"],[0.4,\"#fde0ef\"],[0.5,\"#f7f7f7\"],[0.6,\"#e6f5d0\"],[0.7,\"#b8e186\"],[0.8,\"#7fbc41\"],[0.9,\"#4d9221\"],[1,\"#276419\"]]},\"xaxis\":{\"gridcolor\":\"white\",\"linecolor\":\"white\",\"ticks\":\"\",\"title\":{\"standoff\":15},\"zerolinecolor\":\"white\",\"automargin\":true,\"zerolinewidth\":2},\"yaxis\":{\"gridcolor\":\"white\",\"linecolor\":\"white\",\"ticks\":\"\",\"title\":{\"standoff\":15},\"zerolinecolor\":\"white\",\"automargin\":true,\"zerolinewidth\":2},\"scene\":{\"xaxis\":{\"backgroundcolor\":\"#E5ECF6\",\"gridcolor\":\"white\",\"linecolor\":\"white\",\"showbackground\":true,\"ticks\":\"\",\"zerolinecolor\":\"white\",\"gridwidth\":2},\"yaxis\":{\"backgroundcolor\":\"#E5ECF6\",\"gridcolor\":\"white\",\"linecolor\":\"white\",\"showbackground\":true,\"ticks\":\"\",\"zerolinecolor\":\"white\",\"gridwidth\":2},\"zaxis\":{\"backgroundcolor\":\"#E5ECF6\",\"gridcolor\":\"white\",\"linecolor\":\"white\",\"showbackground\":true,\"ticks\":\"\",\"zerolinecolor\":\"white\",\"gridwidth\":2}},\"shapedefaults\":{\"line\":{\"color\":\"#2a3f5f\"}},\"annotationdefaults\":{\"arrowcolor\":\"#2a3f5f\",\"arrowhead\":0,\"arrowwidth\":1},\"geo\":{\"bgcolor\":\"white\",\"landcolor\":\"#E5ECF6\",\"subunitcolor\":\"white\",\"showland\":true,\"showlakes\":true,\"lakecolor\":\"white\"},\"title\":{\"x\":0.05},\"mapbox\":{\"style\":\"light\"}}},\"shapes\":[{\"line\":{\"color\":\"green\",\"dash\":\"dash\",\"width\":3},\"type\":\"line\",\"x0\":59,\"x1\":59,\"xref\":\"x\",\"y0\":0,\"y1\":1,\"yref\":\"y domain\"},{\"line\":{\"color\":\"green\",\"dash\":\"dash\",\"width\":3},\"type\":\"line\",\"x0\":108,\"x1\":108,\"xref\":\"x\",\"y0\":0,\"y1\":1,\"yref\":\"y domain\"}]},                        {\"responsive\": true}                    ).then(function(){\n",
       "                            \n",
       "var gd = document.getElementById('b1c07f0a-bf96-45e4-ad68-efe7d537fd15');\n",
       "var x = new MutationObserver(function (mutations, observer) {{\n",
       "        var display = window.getComputedStyle(gd).display;\n",
       "        if (!display || display === 'none') {{\n",
       "            console.log([gd, 'removed!']);\n",
       "            Plotly.purge(gd);\n",
       "            observer.disconnect();\n",
       "        }}\n",
       "}});\n",
       "\n",
       "// Listen for the removal of the full notebook cells\n",
       "var notebookContainer = gd.closest('#notebook-container');\n",
       "if (notebookContainer) {{\n",
       "    x.observe(notebookContainer, {childList: true});\n",
       "}}\n",
       "\n",
       "// Listen for the clearing of the current output cell\n",
       "var outputEl = gd.closest('.output');\n",
       "if (outputEl) {{\n",
       "    x.observe(outputEl, {childList: true});\n",
       "}}\n",
       "\n",
       "                        })                };                });            </script>        </div>"
      ]
     },
     "metadata": {},
     "output_type": "display_data"
    }
   ],
   "source": [
    "for i in range(10, 15):\n",
    "    X = X2a[i]\n",
    "    y = y2a[i]\n",
    "    plot_candles(X, y)"
   ]
  },
  {
   "cell_type": "markdown",
   "metadata": {},
   "source": [
    "* higher level == Asses general trend \n",
    "* intermediate levels == Asses specific trend \n",
    "* lower level == Asses dates \n",
    "\n",
    "* descending triangle, falling wedge, downtrend, descending channel \n",
    "* ascending triangle, rising wedge, uptrend, vertical run up\n",
    "* double bottom, hs bottom, support\n",
    "* double top, hs top, resistance\n",
    "\n",
    "* Tryout without synthetic data, improve the data if needed"
   ]
  },
  {
   "cell_type": "code",
   "execution_count": null,
   "metadata": {},
   "outputs": [],
   "source": []
  },
  {
   "cell_type": "code",
   "execution_count": 1,
   "metadata": {},
   "outputs": [
    {
     "ename": "NameError",
     "evalue": "name 'get_X_y' is not defined",
     "output_type": "error",
     "traceback": [
      "\u001b[0;31m---------------------------------------------------------------------------\u001b[0m",
      "\u001b[0;31mNameError\u001b[0m                                 Traceback (most recent call last)",
      "Cell \u001b[0;32mIn[1], line 1\u001b[0m\n\u001b[0;32m----> 1\u001b[0m X_ris_wedg, y_ris_wedg, X_fal_wedg, y_fal_wedg, X_d_top, y_d_top, X_d_bottom, y_d_bottom \u001b[39m=\u001b[39m get_X_y(noise\u001b[39m=\u001b[39m\u001b[39mFalse\u001b[39;00m, general\u001b[39m=\u001b[39m\u001b[39mFalse\u001b[39;00m)\n\u001b[1;32m      2\u001b[0m X1, y1, X2, y2, X3, y3, X4, y4 \u001b[39m=\u001b[39m get_real_X_y(noise\u001b[39m=\u001b[39m\u001b[39mFalse\u001b[39;00m)\n\u001b[1;32m      3\u001b[0m X \u001b[39m=\u001b[39m X1 \u001b[39m+\u001b[39m X2 \u001b[39m+\u001b[39m X3 \u001b[39m+\u001b[39m X4 \u001b[39m+\u001b[39m X_ris_wedg, X_fal_wedg, X_d_top, X_d_bottom\n",
      "\u001b[0;31mNameError\u001b[0m: name 'get_X_y' is not defined"
     ]
    }
   ],
   "source": [
    "X_ris_wedg, y_ris_wedg, X_fal_wedg, y_fal_wedg, X_d_top, y_d_top, X_d_bottom, y_d_bottom = get_X_y(noise=False, general=False)\n",
    "X1, y1, X2, y2, X3, y3, X4, y4 = get_real_X_y(noise=False)\n",
    "X = X1 + X2 + X3 + X4 + X_ris_wedg, X_fal_wedg, X_d_top, X_d_bottom\n",
    "y = y1 + y2 + y3 + y4 + y_ris_wedg, y_fal_wedg, y_d_top, y_d_bottom\n",
    "X_train, X_test, y_train, y_test = train_test_split(X, y, test_size=0.2)\n",
    "\n",
    "X_train, y_train = augmentate(X_train, y_train, noise=True)\n",
    "X_test, y_test = augmentate(X_test, y_test, noise=True)\n",
    "X_train_preprocessed, y_train_p, y_train_dates = preprocess(X_train, y_train)\n",
    "X_test_preprocessed, y_test_p, y_test_dates = preprocess(X_test, y_test)\n",
    "\n"
   ]
  },
  {
   "cell_type": "code",
   "execution_count": null,
   "metadata": {},
   "outputs": [],
   "source": [
    "X_ris_wedg, y_ris_wedg, X_fal_wedg, y_fal_wedg, X_d_top, y_d_top, X_d_bottom, y_d_bottom = get_X_y(noise=False, general=True)"
   ]
  },
  {
   "cell_type": "code",
   "execution_count": null,
   "metadata": {},
   "outputs": [],
   "source": [
    "X_rw_noise, y_rw_noise, X_fw_noise, y_fw_noise, X_dt_noise, y_dt_noise, X_db_noise, y_db_noise = get_hack_noise(X_ris_wedg, y_ris_wedg, X_fal_wedg, y_fal_wedg, X_d_top, y_d_top, X_d_bottom, y_d_bottom, synth=True, real=True, f=True)"
   ]
  },
  {
   "cell_type": "code",
   "execution_count": null,
   "metadata": {},
   "outputs": [],
   "source": [
    "X_synth = X_ris_wedg + X_rw_noise + X_fal_wedg + X_fw_noise + X_d_top + X_dt_noise + X_d_bottom + X_db_noise\n",
    "y_synth = y_ris_wedg + y_rw_noise + y_fal_wedg + y_fw_noise + y_d_top + y_dt_noise + y_d_bottom + y_db_noise"
   ]
  },
  {
   "cell_type": "code",
   "execution_count": null,
   "metadata": {},
   "outputs": [],
   "source": [
    "X1, y1, X2, y2, X3, y3, X4, y4 = get_real_X_y(noise=False)"
   ]
  },
  {
   "cell_type": "code",
   "execution_count": null,
   "metadata": {},
   "outputs": [],
   "source": [
    "X1_noise, y1_noise, X2_noise, y2_noise, X3_noise, y3_noise, X4_noise, y4_noise = get_hack_noise(X1, y1, X2, y2, X3, y3, X4, y4, synth=False, real=True, f=False)"
   ]
  },
  {
   "cell_type": "code",
   "execution_count": null,
   "metadata": {},
   "outputs": [],
   "source": [
    "X_up, y_up, X_down, y_down = get_up_down(patterns=[\"uptrend\",\"downtrend\"])"
   ]
  },
  {
   "cell_type": "code",
   "execution_count": null,
   "metadata": {},
   "outputs": [],
   "source": [
    "X_real = X1 + X1_noise + X2 + X2_noise + X3 + X3_noise + X4 + X4_noise + X_up + X_down\n",
    "y_real = y1 + y1_noise + y2 + y2_noise + y3 + y3_noise + y4 + y4_noise + y_up + y_down\n"
   ]
  },
  {
   "cell_type": "code",
   "execution_count": null,
   "metadata": {},
   "outputs": [],
   "source": [
    "X = X_real + X_synth\n",
    "y = y_real + y_synth"
   ]
  },
  {
   "cell_type": "code",
   "execution_count": null,
   "metadata": {},
   "outputs": [],
   "source": [
    "X_train_preprocessed, y_train_p, y_train_dates, X_test_preprocessed, y_test_p, y_test_dates = preprocess(X_synth, y_synth)"
   ]
  },
  {
   "cell_type": "markdown",
   "metadata": {},
   "source": [
    "* get real data\n",
    "* data separation in 3 windows 2 with no pattern \n",
    "    the one with pattern give it slack in both sides and make it 10 times with that slack\n",
    "* flip the data upside down and give it the opposite name"
   ]
  },
  {
   "cell_type": "markdown",
   "metadata": {},
   "source": [
    "X1 = np.array(X1)\n",
    "X2 = np.array(X2)\n",
    "X3 = np.array(X3)\n",
    "X4 = np.array(X4)\n",
    "y1 = np.array(y1)\n",
    "y2 = np.array(y2)\n",
    "y3 = np.array(y3)\n",
    "y4 = np.array(y4)\n"
   ]
  },
  {
   "cell_type": "code",
   "execution_count": 4,
   "metadata": {},
   "outputs": [],
   "source": [
    "X1, y1, X2, y2, X3, y3, X4, y4 = get_real_X_y(noise=False)\n"
   ]
  },
  {
   "cell_type": "code",
   "execution_count": 5,
   "metadata": {},
   "outputs": [],
   "source": [
    "X1a, y1a, X2a, y2a, X3a, y3a, X4a, y4a = augmentation(X1, y1, X2, y2, X3, y3, X4, y4, noise=True)"
   ]
  },
  {
   "cell_type": "code",
   "execution_count": 6,
   "metadata": {},
   "outputs": [],
   "source": [
    "Xa = X1a + X2a +X3a + X4a\n",
    "ya = y1a + y2a +y3a + y4a"
   ]
  },
  {
   "cell_type": "code",
   "execution_count": 7,
   "metadata": {},
   "outputs": [],
   "source": [
    "X_train_a, y_train_p_a, y_train_dates_a, X_test_a, y_test_p_a, y_test_dates_a = preprocess(Xa, ya)"
   ]
  },
  {
   "cell_type": "code",
   "execution_count": 8,
   "metadata": {},
   "outputs": [],
   "source": [
    "X_ris_wedg, y_ris_wedg, X_fal_wedg, y_fal_wedg, X_d_top, y_d_top, X_d_bottom, y_d_bottom = get_X_y(noise=False, general=False)"
   ]
  },
  {
   "cell_type": "code",
   "execution_count": 9,
   "metadata": {},
   "outputs": [],
   "source": [
    "X_ris_wedga, y_ris_wedga, X_fal_wedga, y_fal_wedga, X_d_topa, y_d_topa, X_d_bottoma, y_d_bottoma = augmentation(X_ris_wedg, y_ris_wedg, X_fal_wedg, y_fal_wedg, X_d_top, y_d_top, X_d_bottom, y_d_bottom, noise=True)"
   ]
  },
  {
   "cell_type": "code",
   "execution_count": 11,
   "metadata": {},
   "outputs": [],
   "source": [
    "X_syntha = X_ris_wedga + X_fal_wedga + X_d_topa + X_d_bottoma\n",
    "y_syntha = y_ris_wedga + y_fal_wedga + y_d_topa + y_d_bottoma"
   ]
  },
  {
   "cell_type": "code",
   "execution_count": 12,
   "metadata": {},
   "outputs": [],
   "source": [
    "X_c = Xa + X_syntha\n",
    "y_c = ya + y_syntha"
   ]
  },
  {
   "cell_type": "code",
   "execution_count": 13,
   "metadata": {},
   "outputs": [],
   "source": [
    "X_train_c, y_train_p_c, y_train_dates_c, X_test_c, y_test_p_c, y_test_dates_c = preprocess(X_c, y_c)"
   ]
  },
  {
   "cell_type": "code",
   "execution_count": null,
   "metadata": {},
   "outputs": [],
   "source": [
    "x_cp=[]\n",
    "y_cp=[]\n",
    "y_cd=[]\n",
    "\n",
    "for i in range(len(X_train_c)):\n",
    "    if list(y_train_dates_c[i]) != [-1,-1]:\n",
    "        x_cp.append(X_train_c[i])\n",
    "        y_cd.append(y_train_dates_c[i])\n",
    "        y_cp.append(y_train_p_c[i])\n",
    "\n",
    "y_cp = tf.convert_to_tensor(y_cp, np.int16)\n",
    "x_cp = tf.convert_to_tensor(x_cp, np.float32)\n",
    "y_cd = tf.convert_to_tensor(y_cd, np.int16)\n"
   ]
  },
  {
   "cell_type": "markdown",
   "metadata": {},
   "source": [
    "### We have to change with the functional api, because is a two problem one for regresion and other for classification\n",
    "\n",
    "### We have to add an intermediate layer\n",
    "\n",
    "### Look into generative models"
   ]
  },
  {
   "cell_type": "code",
   "execution_count": null,
   "metadata": {},
   "outputs": [],
   "source": [
    "def initialize_model_CNN():\n",
    "       \n",
    "    # Input layer\n",
    "    input_shape = X_train_preprocessed.shape[1:]\n",
    "    input_layer = Input(shape=input_shape)\n",
    "\n",
    "    # Shared layers\n",
    "    masked_input = Masking(mask_value=-1)(input_layer)\n",
    "    conv1d_1 = Conv1D(32, activation='relu', kernel_size=3, kernel_regularizer=regularizers.L1L2(l1=1e-3, l2=1e-3))(masked_input)\n",
    "    maxpool_1 = MaxPooling1D(pool_size=2)(conv1d_1)\n",
    "    conv1d_2 = Conv1D(32, activation='relu', kernel_size=3)(maxpool_1)\n",
    "    flatten = Flatten()(conv1d_2)\n",
    "    dense_1 = Dense(units=200, activation='relu')(flatten)\n",
    "    dense_2 = Dense(units=100, activation='relu')(dense_1)\n",
    "    dense_3 = Dense(units=16, activation='relu')(dense_2)\n",
    "    dense_4 = Dense(units=16, activation='relu')(dense_3)\n",
    "\n",
    "    # Classification output\n",
    "    classification_output = Dense(units=4, activation='softmax', name='classification_output')(dense_4)\n",
    "\n",
    "    # Regression output\n",
    "    regression_output = Dense(units=2, activation='linear', name='regression_output')(dense_4)\n",
    "\n",
    "    # Create the model\n",
    "    model = Model(inputs=input_layer, outputs=[classification_output, regression_output])\n",
    "\n",
    "    # Compile the model with appropriate loss functions and metrics for each output\n",
    "    model.compile(optimizer='adam',\n",
    "                loss={'classification_output': 'categorical_crossentropy', 'regression_output': 'mean_squared_error'},\n",
    "                metrics={'classification_output': 'accuracy', 'regression_output': 'mae'})\n",
    "\n",
    "\n",
    "    \n",
    "    return model"
   ]
  },
  {
   "cell_type": "code",
   "execution_count": null,
   "metadata": {},
   "outputs": [],
   "source": [
    "\n",
    "es = EarlyStopping(patience = 10, restore_best_weights=True)\n",
    "\n",
    "model = initialize_model_CNN()\n",
    "\n",
    "history = model.fit(\n",
    "    x=X_train_preprocessed,\n",
    "    y={'classification_output': y_train_p, 'regression_output': y_train_dates},\n",
    "    validation_split = 0.2,\n",
    "    shuffle = True,\n",
    "    batch_size=32,\n",
    "    epochs = 50,\n",
    "    callbacks = [es],\n",
    "    verbose = 1\n",
    ")"
   ]
  },
  {
   "cell_type": "code",
   "execution_count": null,
   "metadata": {},
   "outputs": [],
   "source": [
    "evaluation = model.evaluate(\n",
    "    x=X_test_preprocessed,  # Test input data\n",
    "    y={'classification_output': y_test_p, 'regression_output': y_test_dates},  # Dictionary of test labels\n",
    "    verbose=1  # Set to 1 for progress updates during evaluation\n",
    ")\n",
    "evaluation"
   ]
  },
  {
   "cell_type": "code",
   "execution_count": null,
   "metadata": {},
   "outputs": [],
   "source": [
    "def plot_clas_reg(val_clas=\"val_classification_output_accuracy\", val_mae=\"val_regression_output_mae\"):\n",
    "    clas = history.history[val_clas]\n",
    "    reg = history.history[val_mae]\n",
    "    fig, (ax1, ax2) = plt.subplots(1, 2)\n",
    "    fig.suptitle('Horizontally stacked subplots')\n",
    "    ax1.plot(clas)\n",
    "    ax2.plot(reg)"
   ]
  },
  {
   "cell_type": "code",
   "execution_count": null,
   "metadata": {},
   "outputs": [],
   "source": [
    "plot_clas_reg()"
   ]
  },
  {
   "cell_type": "markdown",
   "metadata": {},
   "source": [
    "#### Model with the classification target as an intermediate layer"
   ]
  },
  {
   "cell_type": "code",
   "execution_count": null,
   "metadata": {},
   "outputs": [],
   "source": [
    "def two_layer_model():\n",
    "    \n",
    "    # Input layer\n",
    "    input_shape = X_train_preprocessed.shape[1:]\n",
    "    input_layer = Input(shape=input_shape)\n",
    "\n",
    "    # Shared layers\n",
    "    masked_input = Masking(mask_value=-1)(input_layer)\n",
    "    conv1d_1 = Conv1D(32, activation='relu', kernel_size=3, kernel_regularizer=regularizers.L1L2(l1=1e-3, l2=1e-3))(masked_input)\n",
    "    maxpool_1 = MaxPooling1D(pool_size=2)(conv1d_1)\n",
    "    conv1d_2 = Conv1D(32, activation='relu', kernel_size=3)(maxpool_1)\n",
    "    flatten = Flatten()(conv1d_2)\n",
    "    dense_1 = Dense(units=200, activation='relu')(flatten)\n",
    "    dense_2 = Dense(units=100, activation='relu')(dense_1)\n",
    "    dense_3 = Dense(units=16, activation='relu')(dense_2)\n",
    "    dense_4 = Dense(units=16, activation='relu')(dense_3)\n",
    "\n",
    "    # Classification output\n",
    "    classification_output = Dense(units=5, activation='softmax', name='classification_output')(dense_4)\n",
    "\n",
    "    \n",
    "    # Regression output\n",
    "    regression_output = Dense(units=2, activation='linear', name='regression_output')(dense_4)\n",
    "\n",
    "    # Create the combined model with classification as an intermediate output\n",
    "    combined_model = Model(inputs=input_layer, outputs=[classification_output, regression_output])\n",
    "\n",
    "    # Compile the combined model\n",
    "    combined_model.compile(optimizer='adam',\n",
    "                        loss={'classification_output': 'categorical_crossentropy', 'regression_output': 'mean_squared_error'},\n",
    "                        metrics={'classification_output': 'accuracy', 'regression_output': 'mae'})\n",
    "\n",
    "    return combined_model\n"
   ]
  },
  {
   "cell_type": "code",
   "execution_count": null,
   "metadata": {},
   "outputs": [],
   "source": [
    "es = EarlyStopping(patience = 10, restore_best_weights=True)\n",
    "\n",
    "model_1 = two_layer_model()\n",
    "\n",
    "history = model_1.fit(\n",
    "    x=X_train_preprocessed,\n",
    "    y={'classification_output': y_train_p, 'regression_output': y_train_dates},\n",
    "    validation_split = 0.2,\n",
    "    shuffle = True,\n",
    "    batch_size=32,\n",
    "    epochs = 50,\n",
    "    callbacks = [es],\n",
    "    verbose = 1\n",
    ")"
   ]
  },
  {
   "cell_type": "code",
   "execution_count": null,
   "metadata": {},
   "outputs": [],
   "source": [
    "evaluation_1 = model_1.evaluate(\n",
    "    x=X_test_preprocessed,  # Test input data\n",
    "    y={'classification_output': y_test_p, 'regression_output': y_test_dates},  # Dictionary of test labels\n",
    "    verbose=1  # Set to 1 for progress updates during evaluation\n",
    ")\n",
    "evaluation_1"
   ]
  },
  {
   "cell_type": "markdown",
   "metadata": {},
   "source": [
    "#### Conditional intermediate layer"
   ]
  },
  {
   "cell_type": "code",
   "execution_count": null,
   "metadata": {},
   "outputs": [],
   "source": [
    "def conditional_regression_model():\n",
    "    # Input layer\n",
    "    # Input layer\n",
    "    input_shape = X_train_preprocessed.shape[1:]\n",
    "    input_layer = Input(shape=input_shape)\n",
    "\n",
    "\n",
    "    # Shared layers\n",
    "    masked_input = Masking(mask_value=-1)(input_layer)\n",
    "    conv1d_1 = Conv1D(32, activation='relu', kernel_size=3, kernel_regularizer=regularizers.L1L2(l1=1e-3, l2=1e-3))(masked_input)\n",
    "    maxpool_1 = MaxPooling1D(pool_size=2)(conv1d_1)\n",
    "    conv1d_2 = Conv1D(32, activation='relu', kernel_size=3)(maxpool_1)\n",
    "    flatten = Flatten()(conv1d_2)\n",
    "    dense_1 = Dense(units=200, activation='relu')(flatten)\n",
    "    dropout_1 = Dropout(rate=0.5)(dense_1)\n",
    "    dense_2 = Dense(units=128, activation='relu')(dropout_1)\n",
    "    dropout_2 = Dropout(rate=0.5)(dense_2)\n",
    "    dense_3 = Dense(units=64, activation='relu')(dropout_2)\n",
    "    dropout_3 = Dropout(rate=0.5)(dense_3)\n",
    "    dense_4 = Dense(units=32, activation='relu')(dense_3)\n",
    "\n",
    "    # Classification output\n",
    "    classification_output = Dense(units=4, activation='softmax', name='classification_output')(dense_4)\n",
    "\n",
    "    # Combine input and classification output for regression\n",
    "    regression_input = Concatenate()([dense_4, classification_output])\n",
    "\n",
    "    # Regression output\n",
    "    regression_output = Dense(units=2, activation='linear', name='regression_output')(regression_input)\n",
    "\n",
    "    # Create the combined model\n",
    "    model = Model(inputs=input_layer, outputs=[classification_output, regression_output])\n",
    "\n",
    "    # Compile the model with appropriate loss functions and metrics for each output\n",
    "    model.compile(optimizer='adam',\n",
    "                  loss={'classification_output': 'categorical_crossentropy', 'regression_output': 'mean_squared_error'},\n",
    "                  metrics={'classification_output': 'accuracy', 'regression_output': 'mae'})\n",
    "\n",
    "    return model\n"
   ]
  },
  {
   "cell_type": "code",
   "execution_count": null,
   "metadata": {},
   "outputs": [],
   "source": [
    "es = EarlyStopping(patience = 10, restore_best_weights=True)\n",
    "\n",
    "model_2 = conditional_regression_model()\n",
    "\n",
    "history = model_2.fit(\n",
    "    x=X_train_preprocessed,\n",
    "    y={'classification_output': y_train_p, 'regression_output': y_train_dates},\n",
    "    validation_split = 0.2,\n",
    "    shuffle = True,\n",
    "    batch_size=32,\n",
    "    epochs = 50,\n",
    "    callbacks = [es],\n",
    "    verbose = 1\n",
    ")"
   ]
  },
  {
   "cell_type": "code",
   "execution_count": null,
   "metadata": {},
   "outputs": [],
   "source": [
    "evaluation_2 = model_2.evaluate(\n",
    "    x=X_test_preprocessed,  # Test input data\n",
    "    y={'classification_output': y_test_p, 'regression_output': y_test_dates},  # Dictionary of test labels\n",
    "    verbose=1  # Set to 1 for progress updates during evaluation\n",
    ")\n"
   ]
  },
  {
   "cell_type": "code",
   "execution_count": null,
   "metadata": {},
   "outputs": [],
   "source": [
    "plot_clas_reg()"
   ]
  },
  {
   "cell_type": "markdown",
   "metadata": {},
   "source": [
    "#### Finding better parameters for the neural network"
   ]
  },
  {
   "cell_type": "code",
   "execution_count": null,
   "metadata": {},
   "outputs": [],
   "source": [
    "def conditional_regression_model_1():\n",
    "    # Input layer\n",
    "    # Input layer\n",
    "    input_shape = X_train_preprocessed.shape[1:]\n",
    "    input_layer = Input(shape=input_shape)\n",
    "\n",
    "\n",
    "    # Shared layers\n",
    "    masked_input = Masking(mask_value=-1)(input_layer)\n",
    "    conv1d_1 = Conv1D(32, activation='relu', kernel_size=3, kernel_regularizer=regularizers.L1L2(l1=1e-3, l2=1e-3))(masked_input)\n",
    "    maxpool_1 = MaxPooling1D(pool_size=2)(conv1d_1)\n",
    "    conv1d_2 = Conv1D(32, activation='relu', kernel_size=3)(maxpool_1)\n",
    "    \n",
    "    flatten = Flatten()(conv1d_2)\n",
    "    dense_1 = Dense(units=192, activation='relu')(flatten)\n",
    "    dropout_1 = Dropout(rate=0.5)(dense_1)\n",
    "    dense_2 = Dense(units=128, activation='relu')(dropout_1)\n",
    "    dropout_2 = Dropout(rate=0.5)(dense_2)\n",
    "    dense_3 = Dense(units=64, activation='relu')(dropout_2)\n",
    "    dropout_3 = Dropout(rate=0.5)(dense_3)\n",
    "    dense_4 = Dense(units=32, activation='relu')(dropout_3)\n",
    "    \n",
    "\n",
    "    # Classification output\n",
    "    classification_output = Dense(units=4, activation='softmax', name='classification_output')(dense_4)\n",
    "\n",
    "    # Combine input and classification output for regression\n",
    "    regression_input = Concatenate()([dense_4, classification_output])\n",
    "\n",
    "    # Regression output\n",
    "    regression_output = Dense(units=2, activation='linear', name='regression_output')(regression_input)\n",
    "\n",
    "    # Create the combined model\n",
    "    model = Model(inputs=input_layer, outputs=[classification_output, regression_output])\n",
    "\n",
    "    # Compile the model with appropriate loss functions and metrics for each output\n",
    "    model.compile(optimizer='adam',\n",
    "                  loss={'classification_output': 'categorical_crossentropy', 'regression_output': 'mean_squared_error'},\n",
    "                  metrics={'classification_output': 'accuracy', 'regression_output': 'mae'})\n",
    "\n",
    "    return model\n"
   ]
  },
  {
   "cell_type": "code",
   "execution_count": null,
   "metadata": {},
   "outputs": [],
   "source": []
  },
  {
   "cell_type": "code",
   "execution_count": null,
   "metadata": {},
   "outputs": [],
   "source": [
    "es = EarlyStopping(patience = 10, restore_best_weights=True)\n",
    "#lr_scheduler = ReduceLROnPlateau(monitor='val_loss', factor=0.5, patience=3, verbose=1, min_lr=1e-6)\n",
    "\n",
    "model_3 = conditional_regression_model_1()\n",
    "\n",
    "history = model_3.fit(\n",
    "    x=X_train_preprocessed,\n",
    "    y={'classification_output': y_train_p, 'regression_output': y_train_dates},\n",
    "    validation_split = 0.2,\n",
    "    shuffle = True,\n",
    "    batch_size=32,\n",
    "    epochs = 50,\n",
    "    callbacks = [es],\n",
    "    verbose = 1\n",
    ")"
   ]
  },
  {
   "cell_type": "code",
   "execution_count": null,
   "metadata": {},
   "outputs": [],
   "source": [
    "!pip freeze | grep pydot"
   ]
  },
  {
   "cell_type": "code",
   "execution_count": null,
   "metadata": {},
   "outputs": [],
   "source": [
    "from tensorflow.keras.utils import plot_model\n",
    "plot_model(model_3)"
   ]
  },
  {
   "cell_type": "code",
   "execution_count": null,
   "metadata": {},
   "outputs": [],
   "source": [
    "plt.plot(history.history[\"loss\"])"
   ]
  },
  {
   "cell_type": "code",
   "execution_count": null,
   "metadata": {},
   "outputs": [],
   "source": [
    "evaluation_3 = model_3.evaluate(\n",
    "    x=X_test_preprocessed,  # Test input data\n",
    "    y={'classification_output': y_test_p, 'regression_output': y_test_dates},  # Dictionary of test labels\n",
    "    verbose=1  # Set to 1 for progress updates during evaluation\n",
    ")\n"
   ]
  },
  {
   "cell_type": "code",
   "execution_count": null,
   "metadata": {},
   "outputs": [],
   "source": [
    "X_train_synth, y_train_p_synth, y_train_dates_synth, X_test_synth, y_test_p_synth, y_test_dates_synth = preprocess(X_synth, y_synth)"
   ]
  },
  {
   "cell_type": "code",
   "execution_count": null,
   "metadata": {},
   "outputs": [],
   "source": [
    "def conditional_regression_model_2():\n",
    "    # Input layer\n",
    "    # Input layer\n",
    "    input_shape = X_train_c.shape[1:]\n",
    "    input_layer = Input(shape=input_shape)\n",
    "\n",
    "\n",
    "    # Shared layers\n",
    "    masked_input = Masking(mask_value=-1)(input_layer)\n",
    "    #conv1d_1 = Conv1D(8, activation='relu', kernel_size=3)(masked_input)\n",
    "    #maxpool_1 = AveragePooling1D(pool_size=2)(conv1d_1)\n",
    "    #conv1d_2 = Conv1D(16, activation='relu', kernel_size=5)(maxpool_1)\n",
    "    #maxpool_2 = AveragePooling1D(pool_size=2)(conv1d_2)\n",
    "    #conv1d_3 = Conv1D(32, activation='relu', kernel_size=5)(maxpool_2)\n",
    "    #maxpool_3 = AveragePooling1D(pool_size=2)(conv1d_3)\n",
    "    #conv1d_4 = Conv1D(64, activation='relu', kernel_size=5)(maxpool_3)\n",
    "    \n",
    "    lstm_1 = LSTM(units=16, return_sequences=True)(masked_input)\n",
    "    # lstm_2 = LSTM(units=8, return_sequences=True)(lstm_1)\n",
    "\n",
    "\n",
    "    # Add the second LSTM layer\n",
    "    lstm_3 = LSTM(units=16, return_sequences=False)(lstm_1)\n",
    "\n",
    "    \n",
    "    \n",
    "    flatten = Flatten()(lstm_3)\n",
    "    dense_1 = Dense(units=32, activation='relu')(flatten)\n",
    "    #dropout_1 = Dropout(rate=0.5)(dense_1)\n",
    "    # dense_2 = Dense(units=32, activation='relu')(dense_1)\n",
    "    \n",
    "    \n",
    "\n",
    "    # Classification output\n",
    "    classification_output = Dense(units=5, activation='softmax', name='classification_output')(dense_1)\n",
    "\n",
    "    \n",
    "\n",
    "    # Create the combined model\n",
    "\n",
    "    \n",
    "    # Create the combined model\n",
    "    model = Model(inputs=input_layer, outputs=[classification_output])\n",
    "\n",
    "    # Compile the model with appropriate loss functions and metrics for each output\n",
    "    model.compile(optimizer='rmsprop',\n",
    "                  loss={'classification_output': 'categorical_crossentropy'},\n",
    "                  metrics={'classification_output': 'accuracy'})\n",
    "\n",
    "    return model\n"
   ]
  },
  {
   "cell_type": "code",
   "execution_count": null,
   "metadata": {},
   "outputs": [],
   "source": [
    "_,counts = np.unique(y_train_p_c, axis=0, return_counts=True)\n",
    "max(counts)/sum(counts)"
   ]
  },
  {
   "cell_type": "code",
   "execution_count": null,
   "metadata": {},
   "outputs": [],
   "source": [
    "a = tf.keras.models.load_model(\"model_patterns_a\")\n"
   ]
  },
  {
   "cell_type": "code",
   "execution_count": null,
   "metadata": {},
   "outputs": [],
   "source": [
    "a.layers"
   ]
  },
  {
   "cell_type": "code",
   "execution_count": null,
   "metadata": {},
   "outputs": [],
   "source": [
    "model_4.save(\"model_patterns_a\")"
   ]
  },
  {
   "cell_type": "code",
   "execution_count": null,
   "metadata": {},
   "outputs": [],
   "source": [
    "es = EarlyStopping(patience = 10, restore_best_weights=True)\n",
    "#lr_scheduler = ReduceLROnPlateau(monitor='val_loss', factor=0.5, patience=3, verbose=1, min_lr=1e-6)\n",
    "\n",
    "model_4 = conditional_regression_model_2()\n",
    "\n",
    "history = model_4.fit(\n",
    "    x=X_train_c,\n",
    "    y={'classification_output': y_train_p_c},\n",
    "    validation_split = 0.2,\n",
    "    shuffle = True,\n",
    "    batch_size=32,\n",
    "    epochs = 50,\n",
    "    callbacks = [es],\n",
    "    verbose = 1\n",
    ")"
   ]
  },
  {
   "cell_type": "code",
   "execution_count": null,
   "metadata": {},
   "outputs": [],
   "source": [
    "def conditional_regression_model_4():\n",
    "    # Input layer\n",
    "    # Input layer\n",
    "    input_shape = X_train_a.shape[1:]\n",
    "    input_layer = Input(shape=input_shape)\n",
    "\n",
    "\n",
    "    # Shared layers\n",
    "    masked_input = Masking(mask_value=-1)(input_layer)\n",
    "    #conv1d_1 = Conv1D(8, activation='relu', kernel_size=3)(masked_input)\n",
    "    #maxpool_1 = AveragePooling1D(pool_size=2)(conv1d_1)\n",
    "    #conv1d_2 = Conv1D(16, activation='relu', kernel_size=5)(maxpool_1)\n",
    "    #maxpool_2 = AveragePooling1D(pool_size=2)(conv1d_2)\n",
    "    #conv1d_3 = Conv1D(32, activation='relu', kernel_size=5)(maxpool_2)\n",
    "    #maxpool_3 = AveragePooling1D(pool_size=2)(conv1d_3)\n",
    "    #conv1d_4 = Conv1D(64, activation='relu', kernel_size=5)(maxpool_3)\n",
    "    \n",
    "    lstm_1 = LSTM(units=16, return_sequences=True)(masked_input)\n",
    "    # lstm_2 = LSTM(units=8, return_sequences=True)(lstm_1)\n",
    "\n",
    "\n",
    "    # Add the second LSTM layer\n",
    "    lstm_3 = LSTM(units=16, return_sequences=False)(lstm_1)\n",
    "\n",
    "    \n",
    "    \n",
    "    flatten = Flatten()(lstm_3)\n",
    "    dense_1 = Dense(units=32, activation='relu')(flatten)\n",
    "    #dropout_1 = Dropout(rate=0.5)(dense_1)\n",
    "    # dense_2 = Dense(units=32, activation='relu')(dense_1)\n",
    "    \n",
    "    \n",
    "\n",
    "    # Classification output\n",
    "    classification_output = Dense(units=5, activation='softmax', name='classification_output')(dense_1)\n",
    "\n",
    "    \n",
    "\n",
    "    # Create the combined model\n",
    "\n",
    "    \n",
    "    # Create the combined model\n",
    "    model = Model(inputs=input_layer, outputs=[classification_output])\n",
    "\n",
    "    # Compile the model with appropriate loss functions and metrics for each output\n",
    "    model.compile(optimizer='rmsprop',\n",
    "                  loss={'classification_output': 'categorical_crossentropy'},\n",
    "                  metrics={'classification_output': 'accuracy'})\n",
    "\n",
    "    return model\n"
   ]
  },
  {
   "cell_type": "code",
   "execution_count": null,
   "metadata": {},
   "outputs": [],
   "source": [
    "es = EarlyStopping(patience = 10, restore_best_weights=True)\n",
    "#lr_scheduler = ReduceLROnPlateau(monitor='val_loss', factor=0.5, patience=3, verbose=1, min_lr=1e-6)\n",
    "\n",
    "model_5 = conditional_regression_model_4()\n",
    "\n",
    "history = model_5.fit(\n",
    "    x=X_train_a,\n",
    "    y={'classification_output': y_train_p_a},\n",
    "    validation_split = 0.2,\n",
    "    shuffle = True,\n",
    "    batch_size=32,\n",
    "    epochs = 50,\n",
    "    callbacks = [es],\n",
    "    verbose = 1\n",
    ")"
   ]
  },
  {
   "cell_type": "code",
   "execution_count": null,
   "metadata": {},
   "outputs": [],
   "source": [
    "def conditional_regression_model_3():\n",
    "    # Input layer\n",
    "    # Input layer\n",
    "    \n",
    "\n",
    "    pretrained_model = tf.keras.models.load_model(\"model_patterns_c\")\n",
    "    for layer in pretrained_model.layers:\n",
    "        layer.trainable = False\n",
    "    \n",
    "    input_shape = x_cp.shape[1:]\n",
    "    input_layer = Input(shape=input_shape)\n",
    "        \n",
    "    # model = tf.keras.Sequential()\n",
    "\n",
    "    # # Add the pretrained model as the first layer (non-trainable)\n",
    "    # model.add(pretrained_model.layers[2])\n",
    "\n",
    "    # # Create your custom layers using model.add()\n",
    "    # model.add(Conv1D(32, kernel_size=5, activation='relu'))\n",
    "    # model.add(AveragePooling1D(pool_size=2))\n",
    "    # model.add(Conv1D(32, kernel_size=3, activation='relu'))\n",
    "    # model.add(Flatten())\n",
    "    # model.add(Dense(32, activation='relu'))\n",
    "    # model.add(Dense(2, activation='linear'))  # Output layer for regression\n",
    "\n",
    "\n",
    "    # Shared layers\n",
    "    masked_input = Masking(mask_value=-1)(input_layer)\n",
    "    loaded_model = tf.keras.models.load_model(\"model_patterns_c\")(masked_input)\n",
    "    loaded_model.trainable = False\n",
    "    lstms_1 = pretrained_model.layers[2](masked_input)\n",
    "    # conv1d_1 = Conv1D(8, activation='relu', kernel_size=3)(masked_input)\n",
    "    # maxpool_1 = AveragePooling1D(pool_size=2)(conv1d_1)\n",
    "    # conv1d_2 = Conv1D(16, activation='relu', kernel_size=5)(maxpool_1)\n",
    "    # #maxpool_2 = AveragePooling1D(pool_size=2)(conv1d_2)\n",
    "    #conv1d_3 = Conv1D(32, activation='relu', kernel_size=5)(maxpool_2)\n",
    "    #maxpool_3 = AveragePooling1D(pool_size=2)(conv1d_3)\n",
    "    #conv1d_4 = Conv1D(64, activation='relu', kernel_size=5)(maxpool_3)\n",
    "    \n",
    "    # lstm_1 = LSTM(units=16, return_sequences=True)(conv1d_2)\n",
    "    #lstm_2 = LSTM(units=16, return_sequences=False)(lstm_1)\n",
    "    pretraining = pretrained_model(input_layer)\n",
    "\n",
    "    # Add the second LSTM layer\n",
    "    lstm_3 = LSTM(units=16, return_sequences=False)(lstm_1)\n",
    "\n",
    "    flatten = Flatten()(pretr)\n",
    "    #concat = Concatenate()([pretraining, flatten])\n",
    "    dense_1 = Dense(units=32, activation='relu')(flatten)\n",
    "    dropout_1 = Dropout(rate=0.5)(dense_1)\n",
    "    dense_2 = Dense(units=32, activation='relu')(dropout_1)\n",
    "    \n",
    "\n",
    "    # Regression output\n",
    "    regression_output = Dense(units=443, activation='linear', name='regression_output')(dense_2)\n",
    "\n",
    "    # Create the combined model\n",
    "    model = Model(inputs=[input_layer], outputs=[regression_output])\n",
    "\n",
    "    # Compile the model with appropriate loss functions and metrics for each output\n",
    "    model.compile(loss='mean_squared_error', optimizer=RMSprop(learning_rate=0.001), metrics=['mae'])\n",
    "\n",
    "    return model\n",
    "\n",
    "    \n"
   ]
  },
  {
   "cell_type": "code",
   "execution_count": null,
   "metadata": {},
   "outputs": [],
   "source": [
    "es = EarlyStopping(patience = 10, restore_best_weights=True)\n",
    "#lr_scheduler = ReduceLROnPlateau(monitor='val_loss', factor=0.5, patience=3, verbose=1, min_lr=1e-6)\n",
    "\n",
    "model_5 = conditional_regression_model_3()\n",
    "\n",
    "\n",
    "history = model_5.fit(\n",
    "    x=x_cp,\n",
    "    y={\"regression_output\" : y_cp},\n",
    "    validation_split = 0.2,\n",
    "    shuffle = True,\n",
    "    batch_size=32,\n",
    "    epochs = 50,\n",
    "    callbacks = [es],\n",
    "    verbose = 1\n",
    ")"
   ]
  },
  {
   "cell_type": "code",
   "execution_count": null,
   "metadata": {},
   "outputs": [],
   "source": [
    "X_train_preprocessed, y_train_p, y_train_dates"
   ]
  },
  {
   "cell_type": "code",
   "execution_count": 148,
   "metadata": {},
   "outputs": [],
   "source": [
    "def ini_model():\n",
    "    input_layer = Input(shape=X_train_preprocessed.shape[1:])\n",
    "    masked_input = Masking(mask_value=-1)(input_layer)\n",
    "\n",
    " \n",
    "    lstm_1 = LSTM(units=16, return_sequences=True)(masked_input)\n",
    "\n",
    "    lstm_3 = LSTM(units=16, return_sequences=False)(lstm_1)\n",
    "\n",
    "    \n",
    "    \n",
    "    flatten = Flatten()(lstm_3)\n",
    "    dense_1 = Dense(units=32, activation='relu')(flatten)\n",
    "    \n",
    "    output_layer = Dense(5, activation='softmax')(dense_1)\n",
    "\n",
    "    # Create the model\n",
    "    model = Model(inputs=input_layer, outputs=output_layer)\n",
    "\n",
    "    # Compile the model\n",
    "    model.compile(optimizer='rmsprop', loss='categorical_crossentropy', metrics=['accuracy'])\n",
    "\n",
    "    return model\n"
   ]
  },
  {
   "cell_type": "code",
   "execution_count": 149,
   "metadata": {},
   "outputs": [
    {
     "name": "stdout",
     "output_type": "stream",
     "text": [
      "Epoch 1/50\n",
      "931/931 [==============================] - 190s 201ms/step - loss: 1.2602 - accuracy: 0.5208 - val_loss: 1.1169 - val_accuracy: 0.6017\n",
      "Epoch 2/50\n",
      "931/931 [==============================] - 187s 200ms/step - loss: 1.1659 - accuracy: 0.5524 - val_loss: 1.0900 - val_accuracy: 0.6078\n",
      "Epoch 3/50\n",
      "931/931 [==============================] - ETA: 0s - loss: 1.1186 - accuracy: 0.5681"
     ]
    },
    {
     "ename": "KeyboardInterrupt",
     "evalue": "",
     "output_type": "error",
     "traceback": [
      "\u001b[0;31m---------------------------------------------------------------------------\u001b[0m",
      "\u001b[0;31mKeyboardInterrupt\u001b[0m                         Traceback (most recent call last)",
      "Cell \u001b[0;32mIn[149], line 7\u001b[0m\n\u001b[1;32m      2\u001b[0m \u001b[39m#lr_scheduler = ReduceLROnPlateau(monitor='val_loss', factor=0.5, patience=3, verbose=1, min_lr=1e-6)\u001b[39;00m\n\u001b[1;32m      4\u001b[0m model \u001b[39m=\u001b[39m ini_model()\n\u001b[0;32m----> 7\u001b[0m history \u001b[39m=\u001b[39m model\u001b[39m.\u001b[39;49mfit(\n\u001b[1;32m      8\u001b[0m     x\u001b[39m=\u001b[39;49mX_train_preprocessed,\n\u001b[1;32m      9\u001b[0m     y\u001b[39m=\u001b[39;49m y_train_p,\n\u001b[1;32m     10\u001b[0m     validation_split \u001b[39m=\u001b[39;49m \u001b[39m0.2\u001b[39;49m,\n\u001b[1;32m     11\u001b[0m     shuffle \u001b[39m=\u001b[39;49m \u001b[39mTrue\u001b[39;49;00m,\n\u001b[1;32m     12\u001b[0m     batch_size\u001b[39m=\u001b[39;49m\u001b[39m32\u001b[39;49m,\n\u001b[1;32m     13\u001b[0m     epochs \u001b[39m=\u001b[39;49m \u001b[39m50\u001b[39;49m,\n\u001b[1;32m     14\u001b[0m     callbacks \u001b[39m=\u001b[39;49m [es],\n\u001b[1;32m     15\u001b[0m     verbose \u001b[39m=\u001b[39;49m \u001b[39m1\u001b[39;49m\n\u001b[1;32m     16\u001b[0m )\n",
      "File \u001b[0;32m~/.pyenv/versions/3.10.6/envs/bool/lib/python3.10/site-packages/keras/src/utils/traceback_utils.py:65\u001b[0m, in \u001b[0;36mfilter_traceback.<locals>.error_handler\u001b[0;34m(*args, **kwargs)\u001b[0m\n\u001b[1;32m     63\u001b[0m filtered_tb \u001b[39m=\u001b[39m \u001b[39mNone\u001b[39;00m\n\u001b[1;32m     64\u001b[0m \u001b[39mtry\u001b[39;00m:\n\u001b[0;32m---> 65\u001b[0m     \u001b[39mreturn\u001b[39;00m fn(\u001b[39m*\u001b[39;49margs, \u001b[39m*\u001b[39;49m\u001b[39m*\u001b[39;49mkwargs)\n\u001b[1;32m     66\u001b[0m \u001b[39mexcept\u001b[39;00m \u001b[39mException\u001b[39;00m \u001b[39mas\u001b[39;00m e:\n\u001b[1;32m     67\u001b[0m     filtered_tb \u001b[39m=\u001b[39m _process_traceback_frames(e\u001b[39m.\u001b[39m__traceback__)\n",
      "File \u001b[0;32m~/.pyenv/versions/3.10.6/envs/bool/lib/python3.10/site-packages/keras/src/engine/training.py:1791\u001b[0m, in \u001b[0;36mModel.fit\u001b[0;34m(self, x, y, batch_size, epochs, verbose, callbacks, validation_split, validation_data, shuffle, class_weight, sample_weight, initial_epoch, steps_per_epoch, validation_steps, validation_batch_size, validation_freq, max_queue_size, workers, use_multiprocessing)\u001b[0m\n\u001b[1;32m   1775\u001b[0m \u001b[39mif\u001b[39;00m \u001b[39mgetattr\u001b[39m(\u001b[39mself\u001b[39m, \u001b[39m\"\u001b[39m\u001b[39m_eval_data_handler\u001b[39m\u001b[39m\"\u001b[39m, \u001b[39mNone\u001b[39;00m) \u001b[39mis\u001b[39;00m \u001b[39mNone\u001b[39;00m:\n\u001b[1;32m   1776\u001b[0m     \u001b[39mself\u001b[39m\u001b[39m.\u001b[39m_eval_data_handler \u001b[39m=\u001b[39m data_adapter\u001b[39m.\u001b[39mget_data_handler(\n\u001b[1;32m   1777\u001b[0m         x\u001b[39m=\u001b[39mval_x,\n\u001b[1;32m   1778\u001b[0m         y\u001b[39m=\u001b[39mval_y,\n\u001b[0;32m   (...)\u001b[0m\n\u001b[1;32m   1789\u001b[0m         pss_evaluation_shards\u001b[39m=\u001b[39m\u001b[39mself\u001b[39m\u001b[39m.\u001b[39m_pss_evaluation_shards,\n\u001b[1;32m   1790\u001b[0m     )\n\u001b[0;32m-> 1791\u001b[0m val_logs \u001b[39m=\u001b[39m \u001b[39mself\u001b[39;49m\u001b[39m.\u001b[39;49mevaluate(\n\u001b[1;32m   1792\u001b[0m     x\u001b[39m=\u001b[39;49mval_x,\n\u001b[1;32m   1793\u001b[0m     y\u001b[39m=\u001b[39;49mval_y,\n\u001b[1;32m   1794\u001b[0m     sample_weight\u001b[39m=\u001b[39;49mval_sample_weight,\n\u001b[1;32m   1795\u001b[0m     batch_size\u001b[39m=\u001b[39;49mvalidation_batch_size \u001b[39mor\u001b[39;49;00m batch_size,\n\u001b[1;32m   1796\u001b[0m     steps\u001b[39m=\u001b[39;49mvalidation_steps,\n\u001b[1;32m   1797\u001b[0m     callbacks\u001b[39m=\u001b[39;49mcallbacks,\n\u001b[1;32m   1798\u001b[0m     max_queue_size\u001b[39m=\u001b[39;49mmax_queue_size,\n\u001b[1;32m   1799\u001b[0m     workers\u001b[39m=\u001b[39;49mworkers,\n\u001b[1;32m   1800\u001b[0m     use_multiprocessing\u001b[39m=\u001b[39;49muse_multiprocessing,\n\u001b[1;32m   1801\u001b[0m     return_dict\u001b[39m=\u001b[39;49m\u001b[39mTrue\u001b[39;49;00m,\n\u001b[1;32m   1802\u001b[0m     _use_cached_eval_dataset\u001b[39m=\u001b[39;49m\u001b[39mTrue\u001b[39;49;00m,\n\u001b[1;32m   1803\u001b[0m )\n\u001b[1;32m   1804\u001b[0m val_logs \u001b[39m=\u001b[39m {\n\u001b[1;32m   1805\u001b[0m     \u001b[39m\"\u001b[39m\u001b[39mval_\u001b[39m\u001b[39m\"\u001b[39m \u001b[39m+\u001b[39m name: val \u001b[39mfor\u001b[39;00m name, val \u001b[39min\u001b[39;00m val_logs\u001b[39m.\u001b[39mitems()\n\u001b[1;32m   1806\u001b[0m }\n\u001b[1;32m   1807\u001b[0m epoch_logs\u001b[39m.\u001b[39mupdate(val_logs)\n",
      "File \u001b[0;32m~/.pyenv/versions/3.10.6/envs/bool/lib/python3.10/site-packages/keras/src/utils/traceback_utils.py:65\u001b[0m, in \u001b[0;36mfilter_traceback.<locals>.error_handler\u001b[0;34m(*args, **kwargs)\u001b[0m\n\u001b[1;32m     63\u001b[0m filtered_tb \u001b[39m=\u001b[39m \u001b[39mNone\u001b[39;00m\n\u001b[1;32m     64\u001b[0m \u001b[39mtry\u001b[39;00m:\n\u001b[0;32m---> 65\u001b[0m     \u001b[39mreturn\u001b[39;00m fn(\u001b[39m*\u001b[39;49margs, \u001b[39m*\u001b[39;49m\u001b[39m*\u001b[39;49mkwargs)\n\u001b[1;32m     66\u001b[0m \u001b[39mexcept\u001b[39;00m \u001b[39mException\u001b[39;00m \u001b[39mas\u001b[39;00m e:\n\u001b[1;32m     67\u001b[0m     filtered_tb \u001b[39m=\u001b[39m _process_traceback_frames(e\u001b[39m.\u001b[39m__traceback__)\n",
      "File \u001b[0;32m~/.pyenv/versions/3.10.6/envs/bool/lib/python3.10/site-packages/keras/src/engine/training.py:2200\u001b[0m, in \u001b[0;36mModel.evaluate\u001b[0;34m(self, x, y, batch_size, verbose, sample_weight, steps, callbacks, max_queue_size, workers, use_multiprocessing, return_dict, **kwargs)\u001b[0m\n\u001b[1;32m   2196\u001b[0m             \u001b[39mwith\u001b[39;00m tf\u001b[39m.\u001b[39mprofiler\u001b[39m.\u001b[39mexperimental\u001b[39m.\u001b[39mTrace(\n\u001b[1;32m   2197\u001b[0m                 \u001b[39m\"\u001b[39m\u001b[39mtest\u001b[39m\u001b[39m\"\u001b[39m, step_num\u001b[39m=\u001b[39mstep, _r\u001b[39m=\u001b[39m\u001b[39m1\u001b[39m\n\u001b[1;32m   2198\u001b[0m             ):\n\u001b[1;32m   2199\u001b[0m                 callbacks\u001b[39m.\u001b[39mon_test_batch_begin(step)\n\u001b[0;32m-> 2200\u001b[0m                 logs \u001b[39m=\u001b[39m test_function_runner\u001b[39m.\u001b[39;49mrun_step(\n\u001b[1;32m   2201\u001b[0m                     dataset_or_iterator,\n\u001b[1;32m   2202\u001b[0m                     data_handler,\n\u001b[1;32m   2203\u001b[0m                     step,\n\u001b[1;32m   2204\u001b[0m                     \u001b[39mself\u001b[39;49m\u001b[39m.\u001b[39;49m_pss_evaluation_shards,\n\u001b[1;32m   2205\u001b[0m                 )\n\u001b[1;32m   2207\u001b[0m logs \u001b[39m=\u001b[39m tf_utils\u001b[39m.\u001b[39msync_to_numpy_or_python_type(logs)\n\u001b[1;32m   2208\u001b[0m \u001b[39m# Override with model metrics instead of last step logs\u001b[39;00m\n",
      "File \u001b[0;32m~/.pyenv/versions/3.10.6/envs/bool/lib/python3.10/site-packages/keras/src/engine/training.py:4000\u001b[0m, in \u001b[0;36m_TestFunction.run_step\u001b[0;34m(self, dataset_or_iterator, data_handler, step, unused_shards)\u001b[0m\n\u001b[1;32m   3999\u001b[0m \u001b[39mdef\u001b[39;00m \u001b[39mrun_step\u001b[39m(\u001b[39mself\u001b[39m, dataset_or_iterator, data_handler, step, unused_shards):\n\u001b[0;32m-> 4000\u001b[0m     tmp_logs \u001b[39m=\u001b[39m \u001b[39mself\u001b[39;49m\u001b[39m.\u001b[39;49m_function(dataset_or_iterator)\n\u001b[1;32m   4001\u001b[0m     \u001b[39mif\u001b[39;00m data_handler\u001b[39m.\u001b[39mshould_sync:\n\u001b[1;32m   4002\u001b[0m         context\u001b[39m.\u001b[39masync_wait()\n",
      "File \u001b[0;32m~/.pyenv/versions/3.10.6/envs/bool/lib/python3.10/site-packages/tensorflow/python/util/traceback_utils.py:150\u001b[0m, in \u001b[0;36mfilter_traceback.<locals>.error_handler\u001b[0;34m(*args, **kwargs)\u001b[0m\n\u001b[1;32m    148\u001b[0m filtered_tb \u001b[39m=\u001b[39m \u001b[39mNone\u001b[39;00m\n\u001b[1;32m    149\u001b[0m \u001b[39mtry\u001b[39;00m:\n\u001b[0;32m--> 150\u001b[0m   \u001b[39mreturn\u001b[39;00m fn(\u001b[39m*\u001b[39;49margs, \u001b[39m*\u001b[39;49m\u001b[39m*\u001b[39;49mkwargs)\n\u001b[1;32m    151\u001b[0m \u001b[39mexcept\u001b[39;00m \u001b[39mException\u001b[39;00m \u001b[39mas\u001b[39;00m e:\n\u001b[1;32m    152\u001b[0m   filtered_tb \u001b[39m=\u001b[39m _process_traceback_frames(e\u001b[39m.\u001b[39m__traceback__)\n",
      "File \u001b[0;32m~/.pyenv/versions/3.10.6/envs/bool/lib/python3.10/site-packages/tensorflow/python/eager/polymorphic_function/polymorphic_function.py:825\u001b[0m, in \u001b[0;36mFunction.__call__\u001b[0;34m(self, *args, **kwds)\u001b[0m\n\u001b[1;32m    822\u001b[0m compiler \u001b[39m=\u001b[39m \u001b[39m\"\u001b[39m\u001b[39mxla\u001b[39m\u001b[39m\"\u001b[39m \u001b[39mif\u001b[39;00m \u001b[39mself\u001b[39m\u001b[39m.\u001b[39m_jit_compile \u001b[39melse\u001b[39;00m \u001b[39m\"\u001b[39m\u001b[39mnonXla\u001b[39m\u001b[39m\"\u001b[39m\n\u001b[1;32m    824\u001b[0m \u001b[39mwith\u001b[39;00m OptionalXlaContext(\u001b[39mself\u001b[39m\u001b[39m.\u001b[39m_jit_compile):\n\u001b[0;32m--> 825\u001b[0m   result \u001b[39m=\u001b[39m \u001b[39mself\u001b[39;49m\u001b[39m.\u001b[39;49m_call(\u001b[39m*\u001b[39;49margs, \u001b[39m*\u001b[39;49m\u001b[39m*\u001b[39;49mkwds)\n\u001b[1;32m    827\u001b[0m new_tracing_count \u001b[39m=\u001b[39m \u001b[39mself\u001b[39m\u001b[39m.\u001b[39mexperimental_get_tracing_count()\n\u001b[1;32m    828\u001b[0m without_tracing \u001b[39m=\u001b[39m (tracing_count \u001b[39m==\u001b[39m new_tracing_count)\n",
      "File \u001b[0;32m~/.pyenv/versions/3.10.6/envs/bool/lib/python3.10/site-packages/tensorflow/python/eager/polymorphic_function/polymorphic_function.py:864\u001b[0m, in \u001b[0;36mFunction._call\u001b[0;34m(self, *args, **kwds)\u001b[0m\n\u001b[1;32m    861\u001b[0m \u001b[39mself\u001b[39m\u001b[39m.\u001b[39m_lock\u001b[39m.\u001b[39mrelease()\n\u001b[1;32m    862\u001b[0m \u001b[39m# In this case we have not created variables on the first call. So we can\u001b[39;00m\n\u001b[1;32m    863\u001b[0m \u001b[39m# run the first trace but we should fail if variables are created.\u001b[39;00m\n\u001b[0;32m--> 864\u001b[0m results \u001b[39m=\u001b[39m \u001b[39mself\u001b[39;49m\u001b[39m.\u001b[39;49m_variable_creation_fn(\u001b[39m*\u001b[39;49margs, \u001b[39m*\u001b[39;49m\u001b[39m*\u001b[39;49mkwds)\n\u001b[1;32m    865\u001b[0m \u001b[39mif\u001b[39;00m \u001b[39mself\u001b[39m\u001b[39m.\u001b[39m_created_variables \u001b[39mand\u001b[39;00m \u001b[39mnot\u001b[39;00m ALLOW_DYNAMIC_VARIABLE_CREATION:\n\u001b[1;32m    866\u001b[0m   \u001b[39mraise\u001b[39;00m \u001b[39mValueError\u001b[39;00m(\u001b[39m\"\u001b[39m\u001b[39mCreating variables on a non-first call to a function\u001b[39m\u001b[39m\"\u001b[39m\n\u001b[1;32m    867\u001b[0m                    \u001b[39m\"\u001b[39m\u001b[39m decorated with tf.function.\u001b[39m\u001b[39m\"\u001b[39m)\n",
      "File \u001b[0;32m~/.pyenv/versions/3.10.6/envs/bool/lib/python3.10/site-packages/tensorflow/python/eager/polymorphic_function/tracing_compiler.py:148\u001b[0m, in \u001b[0;36mTracingCompiler.__call__\u001b[0;34m(self, *args, **kwargs)\u001b[0m\n\u001b[1;32m    145\u001b[0m \u001b[39mwith\u001b[39;00m \u001b[39mself\u001b[39m\u001b[39m.\u001b[39m_lock:\n\u001b[1;32m    146\u001b[0m   (concrete_function,\n\u001b[1;32m    147\u001b[0m    filtered_flat_args) \u001b[39m=\u001b[39m \u001b[39mself\u001b[39m\u001b[39m.\u001b[39m_maybe_define_function(args, kwargs)\n\u001b[0;32m--> 148\u001b[0m \u001b[39mreturn\u001b[39;00m concrete_function\u001b[39m.\u001b[39;49m_call_flat(\n\u001b[1;32m    149\u001b[0m     filtered_flat_args, captured_inputs\u001b[39m=\u001b[39;49mconcrete_function\u001b[39m.\u001b[39;49mcaptured_inputs)\n",
      "File \u001b[0;32m~/.pyenv/versions/3.10.6/envs/bool/lib/python3.10/site-packages/tensorflow/python/eager/polymorphic_function/monomorphic_function.py:1349\u001b[0m, in \u001b[0;36mConcreteFunction._call_flat\u001b[0;34m(self, args, captured_inputs)\u001b[0m\n\u001b[1;32m   1345\u001b[0m possible_gradient_type \u001b[39m=\u001b[39m gradients_util\u001b[39m.\u001b[39mPossibleTapeGradientTypes(args)\n\u001b[1;32m   1346\u001b[0m \u001b[39mif\u001b[39;00m (possible_gradient_type \u001b[39m==\u001b[39m gradients_util\u001b[39m.\u001b[39mPOSSIBLE_GRADIENT_TYPES_NONE\n\u001b[1;32m   1347\u001b[0m     \u001b[39mand\u001b[39;00m executing_eagerly):\n\u001b[1;32m   1348\u001b[0m   \u001b[39m# No tape is watching; skip to running the function.\u001b[39;00m\n\u001b[0;32m-> 1349\u001b[0m   \u001b[39mreturn\u001b[39;00m \u001b[39mself\u001b[39m\u001b[39m.\u001b[39m_build_call_outputs(\u001b[39mself\u001b[39;49m\u001b[39m.\u001b[39;49m_inference_function(\u001b[39m*\u001b[39;49margs))\n\u001b[1;32m   1350\u001b[0m forward_backward \u001b[39m=\u001b[39m \u001b[39mself\u001b[39m\u001b[39m.\u001b[39m_select_forward_and_backward_functions(\n\u001b[1;32m   1351\u001b[0m     args,\n\u001b[1;32m   1352\u001b[0m     possible_gradient_type,\n\u001b[1;32m   1353\u001b[0m     executing_eagerly)\n\u001b[1;32m   1354\u001b[0m forward_function, args_with_tangents \u001b[39m=\u001b[39m forward_backward\u001b[39m.\u001b[39mforward()\n",
      "File \u001b[0;32m~/.pyenv/versions/3.10.6/envs/bool/lib/python3.10/site-packages/tensorflow/python/eager/polymorphic_function/atomic_function.py:196\u001b[0m, in \u001b[0;36mAtomicFunction.__call__\u001b[0;34m(self, *args)\u001b[0m\n\u001b[1;32m    194\u001b[0m \u001b[39mwith\u001b[39;00m record\u001b[39m.\u001b[39mstop_recording():\n\u001b[1;32m    195\u001b[0m   \u001b[39mif\u001b[39;00m \u001b[39mself\u001b[39m\u001b[39m.\u001b[39m_bound_context\u001b[39m.\u001b[39mexecuting_eagerly():\n\u001b[0;32m--> 196\u001b[0m     outputs \u001b[39m=\u001b[39m \u001b[39mself\u001b[39;49m\u001b[39m.\u001b[39;49m_bound_context\u001b[39m.\u001b[39;49mcall_function(\n\u001b[1;32m    197\u001b[0m         \u001b[39mself\u001b[39;49m\u001b[39m.\u001b[39;49mname,\n\u001b[1;32m    198\u001b[0m         \u001b[39mlist\u001b[39;49m(args),\n\u001b[1;32m    199\u001b[0m         \u001b[39mlen\u001b[39;49m(\u001b[39mself\u001b[39;49m\u001b[39m.\u001b[39;49mfunction_type\u001b[39m.\u001b[39;49mflat_outputs),\n\u001b[1;32m    200\u001b[0m     )\n\u001b[1;32m    201\u001b[0m   \u001b[39melse\u001b[39;00m:\n\u001b[1;32m    202\u001b[0m     outputs \u001b[39m=\u001b[39m make_call_op_in_graph(\u001b[39mself\u001b[39m, \u001b[39mlist\u001b[39m(args))\n",
      "File \u001b[0;32m~/.pyenv/versions/3.10.6/envs/bool/lib/python3.10/site-packages/tensorflow/python/eager/context.py:1457\u001b[0m, in \u001b[0;36mContext.call_function\u001b[0;34m(self, name, tensor_inputs, num_outputs)\u001b[0m\n\u001b[1;32m   1455\u001b[0m cancellation_context \u001b[39m=\u001b[39m cancellation\u001b[39m.\u001b[39mcontext()\n\u001b[1;32m   1456\u001b[0m \u001b[39mif\u001b[39;00m cancellation_context \u001b[39mis\u001b[39;00m \u001b[39mNone\u001b[39;00m:\n\u001b[0;32m-> 1457\u001b[0m   outputs \u001b[39m=\u001b[39m execute\u001b[39m.\u001b[39;49mexecute(\n\u001b[1;32m   1458\u001b[0m       name\u001b[39m.\u001b[39;49mdecode(\u001b[39m\"\u001b[39;49m\u001b[39mutf-8\u001b[39;49m\u001b[39m\"\u001b[39;49m),\n\u001b[1;32m   1459\u001b[0m       num_outputs\u001b[39m=\u001b[39;49mnum_outputs,\n\u001b[1;32m   1460\u001b[0m       inputs\u001b[39m=\u001b[39;49mtensor_inputs,\n\u001b[1;32m   1461\u001b[0m       attrs\u001b[39m=\u001b[39;49mattrs,\n\u001b[1;32m   1462\u001b[0m       ctx\u001b[39m=\u001b[39;49m\u001b[39mself\u001b[39;49m,\n\u001b[1;32m   1463\u001b[0m   )\n\u001b[1;32m   1464\u001b[0m \u001b[39melse\u001b[39;00m:\n\u001b[1;32m   1465\u001b[0m   outputs \u001b[39m=\u001b[39m execute\u001b[39m.\u001b[39mexecute_with_cancellation(\n\u001b[1;32m   1466\u001b[0m       name\u001b[39m.\u001b[39mdecode(\u001b[39m\"\u001b[39m\u001b[39mutf-8\u001b[39m\u001b[39m\"\u001b[39m),\n\u001b[1;32m   1467\u001b[0m       num_outputs\u001b[39m=\u001b[39mnum_outputs,\n\u001b[0;32m   (...)\u001b[0m\n\u001b[1;32m   1471\u001b[0m       cancellation_manager\u001b[39m=\u001b[39mcancellation_context,\n\u001b[1;32m   1472\u001b[0m   )\n",
      "File \u001b[0;32m~/.pyenv/versions/3.10.6/envs/bool/lib/python3.10/site-packages/tensorflow/python/eager/execute.py:53\u001b[0m, in \u001b[0;36mquick_execute\u001b[0;34m(op_name, num_outputs, inputs, attrs, ctx, name)\u001b[0m\n\u001b[1;32m     51\u001b[0m \u001b[39mtry\u001b[39;00m:\n\u001b[1;32m     52\u001b[0m   ctx\u001b[39m.\u001b[39mensure_initialized()\n\u001b[0;32m---> 53\u001b[0m   tensors \u001b[39m=\u001b[39m pywrap_tfe\u001b[39m.\u001b[39;49mTFE_Py_Execute(ctx\u001b[39m.\u001b[39;49m_handle, device_name, op_name,\n\u001b[1;32m     54\u001b[0m                                       inputs, attrs, num_outputs)\n\u001b[1;32m     55\u001b[0m \u001b[39mexcept\u001b[39;00m core\u001b[39m.\u001b[39m_NotOkStatusException \u001b[39mas\u001b[39;00m e:\n\u001b[1;32m     56\u001b[0m   \u001b[39mif\u001b[39;00m name \u001b[39mis\u001b[39;00m \u001b[39mnot\u001b[39;00m \u001b[39mNone\u001b[39;00m:\n",
      "\u001b[0;31mKeyboardInterrupt\u001b[0m: "
     ]
    }
   ],
   "source": [
    "es = EarlyStopping(patience = 3, restore_best_weights=True)\n",
    "#lr_scheduler = ReduceLROnPlateau(monitor='val_loss', factor=0.5, patience=3, verbose=1, min_lr=1e-6)\n",
    "\n",
    "model = ini_model()\n",
    "\n",
    "\n",
    "history = model.fit(\n",
    "    x=X_train_preprocessed,\n",
    "    y= y_train_p,\n",
    "    validation_split = 0.2,\n",
    "    shuffle = True,\n",
    "    batch_size=32,\n",
    "    epochs = 50,\n",
    "    callbacks = [es],\n",
    "    verbose = 1\n",
    ")"
   ]
  },
  {
   "cell_type": "code",
   "execution_count": 13,
   "metadata": {},
   "outputs": [],
   "source": [
    "def sliding_window(elements, window_size):\n",
    "    \n",
    "    a=[]\n",
    "    for i in range(len(elements)):\n",
    "        if len(elements)-i<window_size:\n",
    "            break\n",
    "        a.append(elements[i:i+window_size])\n",
    "    return a"
   ]
  },
  {
   "cell_type": "code",
   "execution_count": 14,
   "metadata": {},
   "outputs": [],
   "source": [
    "def position(elements, window_size):\n",
    "    a=[]\n",
    "    for i in range(len(elements)):\n",
    "        if len(elements)-i<window_size:\n",
    "            break\n",
    "        a.append((i, i+window_size))\n",
    "    return a"
   ]
  },
  {
   "cell_type": "code",
   "execution_count": null,
   "metadata": {},
   "outputs": [],
   "source": [
    "pretrained_model = tf.keras.models.load_model(\"model_patterns_c\")\n",
    "for layer in pretrained_model.layers:\n",
    "    layer.trainable = False\n",
    "pretrained_model.predict(x_cp)"
   ]
  },
  {
   "cell_type": "code",
   "execution_count": 15,
   "metadata": {},
   "outputs": [],
   "source": [
    "def evaluate(X):   \n",
    "    pretrained_model = tf.keras.models.load_model(\"model_patterns_c\")\n",
    "    for layer in pretrained_model.layers:\n",
    "        layer.trainable = False\n",
    "    a=[] \n",
    "    b=[]   \n",
    "    y=[]\n",
    "    for window_size in [round(len(X)*0.1), round(len(X)*0.25), round(len(X)*0.4), round(len(X)*0.55), round(len(X)*0.7)]:\n",
    "        a+=sliding_window(X, window_size)\n",
    "        b+=position(X, window_size)\n",
    "    \n",
    "    a = pad_sequences(a, maxlen=443, dtype='float32', padding='post', value=-1)\n",
    "\n",
    "    a = tf.convert_to_tensor(a, np.float32)  \n",
    "        \n",
    "    y = pretrained_model.predict(a)\n",
    "          \n",
    "    return y, b, a"
   ]
  },
  {
   "cell_type": "code",
   "execution_count": 16,
   "metadata": {},
   "outputs": [
    {
     "name": "stderr",
     "output_type": "stream",
     "text": [
      "2023-09-05 14:28:59.638663: W tensorflow/core/common_runtime/graph_constructor.cc:834] Node 'cond/while' has 13 outputs but the _output_shapes attribute specifies shapes for 46 outputs. Output shapes may be inaccurate.\n",
      "2023-09-05 14:28:59.645434: W tensorflow/core/common_runtime/graph_constructor.cc:834] Node 'cond' has 5 outputs but the _output_shapes attribute specifies shapes for 46 outputs. Output shapes may be inaccurate.\n",
      "2023-09-05 14:28:59.679363: W tensorflow/core/common_runtime/graph_constructor.cc:834] Node 'cond/while' has 13 outputs but the _output_shapes attribute specifies shapes for 46 outputs. Output shapes may be inaccurate.\n",
      "2023-09-05 14:29:00.052669: W tensorflow/core/common_runtime/graph_constructor.cc:834] Node 'cond' has 5 outputs but the _output_shapes attribute specifies shapes for 46 outputs. Output shapes may be inaccurate.\n"
     ]
    },
    {
     "name": "stdout",
     "output_type": "stream",
     "text": [
      "42/42 [==============================] - 3s 51ms/step\n"
     ]
    }
   ],
   "source": [
    "y, b, a = evaluate(X_train_c[0])"
   ]
  },
  {
   "cell_type": "code",
   "execution_count": 17,
   "metadata": {},
   "outputs": [],
   "source": [
    "def evaluation(X_train):\n",
    "    Y=[]\n",
    "    B=[]\n",
    "    A=[]\n",
    "    res=[]\n",
    "    pos=[]\n",
    "    for i in range(len(X_train)):\n",
    "        y, b, a = evaluate(X_train[i])\n",
    "        Y.append(y)\n",
    "        B.append(b)\n",
    "        A.append(a)\n",
    "        x=[]\n",
    "        z=[]\n",
    "        for i in range(len(y)):\n",
    "            x.append(y[i].max())\n",
    "            z.append((y[i] == y[i].max())*1)\n",
    "        ind = x.index(max(x))\n",
    "       \n",
    "        res.append(z[ind])\n",
    "      \n",
    "        pos.append(b[ind])\n",
    "    return res, pos"
   ]
  },
  {
   "cell_type": "code",
   "execution_count": null,
   "metadata": {},
   "outputs": [],
   "source": [
    "res, pos = evaluation(X_train_c[0:10])"
   ]
  },
  {
   "cell_type": "code",
   "execution_count": null,
   "metadata": {},
   "outputs": [],
   "source": [
    "from sklearn.metrics import accuracy_score\n",
    "from sklearn.metrics import mean_absolute_error\n",
    "print(accuracy_score(y_train_p_c[0:10], res))\n",
    "print(mean_absolute_error(y_train_dates_c[0:10], pos))"
   ]
  },
  {
   "cell_type": "code",
   "execution_count": null,
   "metadata": {},
   "outputs": [],
   "source": [
    "funcion que evalue el patron en cada posicion\n",
    "sortear a y b en funcion de el valor maximo \n"
   ]
  },
  {
   "cell_type": "code",
   "execution_count": null,
   "metadata": {},
   "outputs": [],
   "source": [
    "sin pretrained_model\n",
    "\n",
    "Epoch 1/50\n",
    "683/683 [==============================] - 4s 6ms/step - loss: 4136.4683 - mae: 42.7351 - val_loss: 3364.1133 - val_mae: 37.1307\n",
    "Epoch 2/50\n",
    "683/683 [==============================] - 4s 5ms/step - loss: 3231.4341 - mae: 38.6933 - val_loss: 6599.9214 - val_mae: 51.2419\n",
    "Epoch 3/50\n",
    "683/683 [==============================] - 4s 5ms/step - loss: 2954.7578 - mae: 36.9046 - val_loss: 7066.0229 - val_mae: 53.7811\n",
    "Epoch 4/50\n",
    "683/683 [==============================] - 4s 5ms/step - loss: 2796.7285 - mae: 35.6601 - val_loss: 9115.3301 - val_mae: 61.8535\n",
    "Epoch 5/50\n",
    "\n",
    "con pretrained model\n",
    "\n",
    "Epoch 1/50\n",
    "683/683 [==============================] - 29s 38ms/step - loss: 4042.2585 - mae: 42.2140 - val_loss: 3969.2393 - val_mae: 39.3837\n",
    "Epoch 2/50\n",
    "683/683 [==============================] - 24s 35ms/step - loss: 3080.0176 - mae: 37.9031 - val_loss: 8152.2822 - val_mae: 58.9240\n",
    "Epoch 3/50\n",
    "683/683 [==============================] - 25s 36ms/step - loss: 2858.9402 - mae: 36.3635 - val_loss: 7332.1855 - val_mae: 55.7956\n",
    "Epoch 4/50\n",
    "683/683 [==============================] - 30s 44ms/step - loss: 2779.9702 - mae: 35.6062 - val_loss: 7605.7148 - val_mae: 55.7532\n",
    "Epoch 5/50\n",
    "683/683 [==============================] - 25s 36ms/step - loss: 2736.2461 - mae: 35.2941 - val_loss: 8093.8960 - val_mae: 58.7626\n",
    "Epoch 6/50\n",
    "683/683 [==============================] - 25s 36ms/step - loss: 2690.8677 - mae: 34.9329 - val_loss: 7721.0527 - val_mae: 56.6852\n",
    "Epoch 7/50\n",
    "519/683 [=====================>........] - ETA: 5s - loss: 2661.7788 - mae: 34.7680"
   ]
  },
  {
   "cell_type": "code",
   "execution_count": null,
   "metadata": {},
   "outputs": [],
   "source": [
    "from tensorflow.keras.utils import plot_model\n",
    "plot_model(model_5)"
   ]
  },
  {
   "cell_type": "code",
   "execution_count": 30,
   "metadata": {},
   "outputs": [
    {
     "name": "stderr",
     "output_type": "stream",
     "text": [
      "2023-09-05 14:41:59.668130: W tensorflow/core/common_runtime/graph_constructor.cc:834] Node 'cond/while' has 13 outputs but the _output_shapes attribute specifies shapes for 46 outputs. Output shapes may be inaccurate.\n",
      "2023-09-05 14:41:59.674786: W tensorflow/core/common_runtime/graph_constructor.cc:834] Node 'cond' has 5 outputs but the _output_shapes attribute specifies shapes for 46 outputs. Output shapes may be inaccurate.\n",
      "2023-09-05 14:41:59.705828: W tensorflow/core/common_runtime/graph_constructor.cc:834] Node 'cond/while' has 13 outputs but the _output_shapes attribute specifies shapes for 46 outputs. Output shapes may be inaccurate.\n",
      "2023-09-05 14:42:00.362463: W tensorflow/core/common_runtime/graph_constructor.cc:834] Node 'cond' has 5 outputs but the _output_shapes attribute specifies shapes for 46 outputs. Output shapes may be inaccurate.\n"
     ]
    },
    {
     "data": {
      "text/plain": [
       "<keras.src.layers.rnn.lstm.LSTM at 0x7ff9a9128490>"
      ]
     },
     "execution_count": 30,
     "metadata": {},
     "output_type": "execute_result"
    }
   ],
   "source": [
    "pretrained_model = tf.keras.models.load_model(\"model_patterns_c\")\n",
    "for layer in pretrained_model.layers:\n",
    "    layer.trainable = False\n",
    "pretrained_model.layers[3]"
   ]
  },
  {
   "cell_type": "code",
   "execution_count": 18,
   "metadata": {},
   "outputs": [],
   "source": [
    "def conditional_regression_model_20():\n",
    "    # Input layer\n",
    "    # Input layer\n",
    "    input_shape = x_cp.shape[1:]\n",
    "    input_layer = Input(shape=input_shape)\n",
    "    pretrained_model = tf.keras.models.load_model(\"model_patterns_c\")\n",
    "    for layer in pretrained_model.layers:\n",
    "        layer.trainable = False\n",
    "\n",
    "    # Shared layers\n",
    "    masked_input = Masking(mask_value=-1)(input_layer)\n",
    "    \n",
    "    #maxpool_2 = AveragePooling1D(pool_size=2)(conv1d_2)\n",
    "    #conv1d_3 = Conv1D(32, activation='relu', kernel_size=5)(maxpool_2)\n",
    "    #maxpool_3 = AveragePooling1D(pool_size=2)(conv1d_3)\n",
    "    #conv1d_4 = Conv1D(64, activation='relu', kernel_size=5)(maxpool_3)\n",
    "    \n",
    "    lstm_1 = (pretrained_model.layers[2])(masked_input)\n",
    "    #lstm_2 = (pretrained_model.layers[3])(lstm_1)\n",
    "\n",
    "    \n",
    "    #lstm_3 = LSTM(units=16, return_sequences=True)(lstm_1)\n",
    "    conv1d_1 = Conv1D(8, activation='relu', kernel_size=5)(lstm_1)\n",
    "    maxpool_1 = AveragePooling1D(pool_size=2)(conv1d_1)\n",
    "    conv1d_2 = Conv1D(16, activation='relu', kernel_size=5)(maxpool_1)\n",
    "    maxpool_2 = AveragePooling1D(pool_size=2)(conv1d_2)\n",
    "    conv1d_3 = Conv1D(32, activation='relu', kernel_size=5)(maxpool_2)\n",
    "    \n",
    "    # Add the second LSTM layer\n",
    "    #lstm_3 = LSTM(units=16, return_sequences=False)(lstm_1)\n",
    "\n",
    "    flatten_2 = Flatten()(conv1d_3)\n",
    "    dense_1d = Dense(units=32, activation='relu')(flatten_2)\n",
    "\n",
    "    #dropout_1 = Dropout(rate=0.5)(dense_1)\n",
    "    # dense_2 = Dense(units=32, activation='relu')(dense_1)\n",
    "    \n",
    "    # Classification output\n",
    "\n",
    "    # Combine input and classification output for regression\n",
    "\n",
    "    # Regression output\n",
    "    regression_output = Dense(units=2, activation='linear', name='regression_output')(dense_1d)\n",
    "\n",
    "    # Create the combined model\n",
    "    model = Model(inputs=input_layer, outputs=[regression_output])\n",
    "\n",
    "    # Compile the model with appropriate loss functions and metrics for each output\n",
    "    model.compile(optimizer='rmsprop',\n",
    "                  loss={'regression_output': 'mean_squared_error'},\n",
    "                  #loss_weights={'classification_output', 'regression_output'},\n",
    "                  metrics={'regression_output': 'mae'})\n",
    "\n",
    "    return model\n",
    "\n",
    "    \n"
   ]
  },
  {
   "cell_type": "code",
   "execution_count": 19,
   "metadata": {},
   "outputs": [
    {
     "name": "stderr",
     "output_type": "stream",
     "text": [
      "2023-09-05 15:28:14.289356: W tensorflow/core/common_runtime/graph_constructor.cc:834] Node 'cond/while' has 13 outputs but the _output_shapes attribute specifies shapes for 46 outputs. Output shapes may be inaccurate.\n",
      "2023-09-05 15:28:14.295809: W tensorflow/core/common_runtime/graph_constructor.cc:834] Node 'cond' has 5 outputs but the _output_shapes attribute specifies shapes for 46 outputs. Output shapes may be inaccurate.\n",
      "2023-09-05 15:28:14.329588: W tensorflow/core/common_runtime/graph_constructor.cc:834] Node 'cond/while' has 13 outputs but the _output_shapes attribute specifies shapes for 46 outputs. Output shapes may be inaccurate.\n",
      "2023-09-05 15:28:14.718394: W tensorflow/core/common_runtime/graph_constructor.cc:834] Node 'cond' has 5 outputs but the _output_shapes attribute specifies shapes for 46 outputs. Output shapes may be inaccurate.\n"
     ]
    },
    {
     "name": "stdout",
     "output_type": "stream",
     "text": [
      "Epoch 1/50\n",
      "691/691 [==============================] - 16s 21ms/step - loss: 3786.6636 - mae: 41.7285 - val_loss: 2956.5503 - val_mae: 36.7220\n",
      "Epoch 2/50\n",
      "691/691 [==============================] - 15s 22ms/step - loss: 2738.2454 - mae: 35.7155 - val_loss: 2577.0059 - val_mae: 34.6734\n",
      "Epoch 3/50\n",
      "691/691 [==============================] - 14s 21ms/step - loss: 2535.9705 - mae: 34.1570 - val_loss: 2450.1016 - val_mae: 33.8044\n",
      "Epoch 4/50\n",
      "691/691 [==============================] - 14s 20ms/step - loss: 2394.3599 - mae: 33.1360 - val_loss: 2327.4746 - val_mae: 32.8866\n",
      "Epoch 5/50\n",
      "691/691 [==============================] - 15s 22ms/step - loss: 2306.2280 - mae: 32.4594 - val_loss: 2412.3508 - val_mae: 34.4890\n",
      "Epoch 6/50\n",
      "691/691 [==============================] - 14s 21ms/step - loss: 2228.2332 - mae: 31.8145 - val_loss: 2914.9248 - val_mae: 36.4909\n",
      "Epoch 7/50\n",
      "691/691 [==============================] - 14s 21ms/step - loss: 2157.9568 - mae: 31.2205 - val_loss: 2116.7578 - val_mae: 30.5277\n",
      "Epoch 8/50\n",
      "691/691 [==============================] - 14s 20ms/step - loss: 2095.9014 - mae: 30.5571 - val_loss: 2026.2253 - val_mae: 29.9715\n",
      "Epoch 9/50\n",
      "691/691 [==============================] - 15s 22ms/step - loss: 2047.2708 - mae: 29.9697 - val_loss: 2065.0557 - val_mae: 29.7400\n",
      "Epoch 10/50\n",
      "691/691 [==============================] - 14s 20ms/step - loss: 2006.3035 - mae: 29.5412 - val_loss: 2087.9597 - val_mae: 29.3305\n",
      "Epoch 11/50\n",
      "691/691 [==============================] - 14s 21ms/step - loss: 1962.0581 - mae: 29.0685 - val_loss: 1923.6802 - val_mae: 29.0751\n",
      "Epoch 12/50\n",
      "691/691 [==============================] - 14s 20ms/step - loss: 1919.8479 - mae: 28.6151 - val_loss: 2072.5220 - val_mae: 30.0526\n",
      "Epoch 13/50\n",
      "691/691 [==============================] - 14s 20ms/step - loss: 1881.4479 - mae: 28.2158 - val_loss: 1834.9611 - val_mae: 27.7134\n",
      "Epoch 14/50\n",
      "691/691 [==============================] - 14s 20ms/step - loss: 1843.2074 - mae: 27.7746 - val_loss: 1892.6891 - val_mae: 28.1958\n",
      "Epoch 15/50\n",
      "691/691 [==============================] - 14s 20ms/step - loss: 1823.0503 - mae: 27.5664 - val_loss: 1785.4509 - val_mae: 27.3422\n",
      "Epoch 16/50\n",
      "691/691 [==============================] - 14s 20ms/step - loss: 1782.8633 - mae: 27.1494 - val_loss: 1749.2610 - val_mae: 26.5588\n",
      "Epoch 17/50\n",
      "691/691 [==============================] - 14s 20ms/step - loss: 1767.2510 - mae: 27.0122 - val_loss: 1751.0651 - val_mae: 26.5881\n",
      "Epoch 18/50\n",
      "691/691 [==============================] - 13s 20ms/step - loss: 1742.0365 - mae: 26.6689 - val_loss: 1707.4136 - val_mae: 26.2601\n",
      "Epoch 19/50\n",
      "691/691 [==============================] - 13s 19ms/step - loss: 1715.8502 - mae: 26.4440 - val_loss: 1789.7771 - val_mae: 26.4342\n",
      "Epoch 20/50\n",
      "691/691 [==============================] - 13s 19ms/step - loss: 1693.6918 - mae: 26.2132 - val_loss: 1689.5315 - val_mae: 25.9666\n",
      "Epoch 21/50\n",
      "691/691 [==============================] - 14s 20ms/step - loss: 1674.0641 - mae: 25.9757 - val_loss: 1696.2144 - val_mae: 26.3849\n",
      "Epoch 22/50\n",
      "691/691 [==============================] - 14s 20ms/step - loss: 1659.1628 - mae: 25.8104 - val_loss: 1731.3292 - val_mae: 26.2504\n",
      "Epoch 23/50\n",
      "691/691 [==============================] - 14s 20ms/step - loss: 1640.4011 - mae: 25.5587 - val_loss: 1656.1912 - val_mae: 25.9026\n",
      "Epoch 24/50\n",
      "691/691 [==============================] - 14s 20ms/step - loss: 1625.0328 - mae: 25.3795 - val_loss: 1609.1268 - val_mae: 25.0785\n",
      "Epoch 25/50\n",
      "691/691 [==============================] - 14s 21ms/step - loss: 1610.9698 - mae: 25.2337 - val_loss: 1667.0958 - val_mae: 26.1608\n",
      "Epoch 26/50\n",
      "691/691 [==============================] - 14s 21ms/step - loss: 1603.6622 - mae: 25.1297 - val_loss: 1711.2185 - val_mae: 25.2790\n",
      "Epoch 27/50\n",
      "691/691 [==============================] - 14s 21ms/step - loss: 1582.5327 - mae: 24.8898 - val_loss: 1641.0072 - val_mae: 24.7658\n",
      "Epoch 28/50\n",
      "691/691 [==============================] - 14s 20ms/step - loss: 1577.1903 - mae: 24.7775 - val_loss: 1654.3274 - val_mae: 25.5093\n"
     ]
    }
   ],
   "source": [
    "es = EarlyStopping(patience = 4, restore_best_weights=True)\n",
    "#lr_scheduler = ReduceLROnPlateau(monitor='val_loss', factor=0.5, patience=3, verbose=1, min_lr=1e-6)\n",
    "\n",
    "model_5 = conditional_regression_model_20()\n",
    "\n",
    "\n",
    "history = model_5.fit(\n",
    "    x=x_cp,\n",
    "    y={'regression_output': y_cd},\n",
    "    validation_split = 0.2,\n",
    "    shuffle = True,\n",
    "    batch_size=32,\n",
    "    epochs = 50,\n",
    "    callbacks = [es],\n",
    "    verbose = 1\n",
    ")"
   ]
  },
  {
   "cell_type": "code",
   "execution_count": 35,
   "metadata": {},
   "outputs": [],
   "source": []
  },
  {
   "cell_type": "code",
   "execution_count": 41,
   "metadata": {},
   "outputs": [],
   "source": []
  },
  {
   "cell_type": "code",
   "execution_count": 4,
   "metadata": {},
   "outputs": [],
   "source": [
    "def conditional_regression_model_30():\n",
    "    model = Sequential()\n",
    "    model.add(Input(shape=X_train_preprocessed.shape[1:]))\n",
    "    model.add(Masking(mask_value=-1))\n",
    "    model.add(LSTM(units=16, return_sequences=True))\n",
    "    model.add(LSTM(units=16, return_sequences=True))\n",
    "    model.add(Flatten())\n",
    "    model.add(Dense(units=64, activation='relu'))\n",
    "    model.add(Dense(units=5, activation='softmax'))\n",
    "    model.add(Dense(units=2, activation =\"linear\"))\n",
    "    model.compile(optimizer='rmsprop', loss='categorical_crossentropy', metrics='accuracy')\n",
    "\n",
    "    model.compile(optimizer='rmsprop', loss='mse', metrics='mae')\n",
    "    \n",
    "    return model"
   ]
  },
  {
   "cell_type": "code",
   "execution_count": 21,
   "metadata": {},
   "outputs": [
    {
     "name": "stdout",
     "output_type": "stream",
     "text": [
      "Epoch 1/50\n"
     ]
    },
    {
     "ename": "ValueError",
     "evalue": "in user code:\n\n    File \"/home/miguel/.pyenv/versions/3.10.6/envs/bool/lib/python3.10/site-packages/keras/src/engine/training.py\", line 1338, in train_function  *\n        return step_function(self, iterator)\n    File \"/home/miguel/.pyenv/versions/3.10.6/envs/bool/lib/python3.10/site-packages/keras/src/engine/training.py\", line 1322, in step_function  **\n        outputs = model.distribute_strategy.run(run_step, args=(data,))\n    File \"/home/miguel/.pyenv/versions/3.10.6/envs/bool/lib/python3.10/site-packages/keras/src/engine/training.py\", line 1303, in run_step  **\n        outputs = model.train_step(data)\n    File \"/home/miguel/.pyenv/versions/3.10.6/envs/bool/lib/python3.10/site-packages/keras/src/engine/training.py\", line 1081, in train_step\n        loss = self.compute_loss(x, y, y_pred, sample_weight)\n    File \"/home/miguel/.pyenv/versions/3.10.6/envs/bool/lib/python3.10/site-packages/keras/src/engine/training.py\", line 1139, in compute_loss\n        return self.compiled_loss(\n    File \"/home/miguel/.pyenv/versions/3.10.6/envs/bool/lib/python3.10/site-packages/keras/src/engine/compile_utils.py\", line 265, in __call__\n        loss_value = loss_obj(y_t, y_p, sample_weight=sw)\n    File \"/home/miguel/.pyenv/versions/3.10.6/envs/bool/lib/python3.10/site-packages/keras/src/losses.py\", line 142, in __call__\n        losses = call_fn(y_true, y_pred)\n    File \"/home/miguel/.pyenv/versions/3.10.6/envs/bool/lib/python3.10/site-packages/keras/src/losses.py\", line 268, in call  **\n        return ag_fn(y_true, y_pred, **self._fn_kwargs)\n    File \"/home/miguel/.pyenv/versions/3.10.6/envs/bool/lib/python3.10/site-packages/keras/src/losses.py\", line 1608, in mean_squared_error\n        return backend.mean(tf.math.squared_difference(y_pred, y_true), axis=-1)\n\n    ValueError: Dimensions must be equal, but are 2 and 5 for '{{node mean_squared_error/SquaredDifference}} = SquaredDifference[T=DT_FLOAT](model_2/output_linear/BiasAdd, mean_squared_error/Cast)' with input shapes: [?,2], [?,5].\n",
     "output_type": "error",
     "traceback": [
      "\u001b[0;31m---------------------------------------------------------------------------\u001b[0m",
      "\u001b[0;31mValueError\u001b[0m                                Traceback (most recent call last)",
      "Cell \u001b[0;32mIn[21], line 7\u001b[0m\n\u001b[1;32m      2\u001b[0m \u001b[39m#lr_scheduler = ReduceLROnPlateau(monitor='val_loss', factor=0.5, patience=3, verbose=1, min_lr=1e-6)\u001b[39;00m\n\u001b[1;32m      4\u001b[0m model_5 \u001b[39m=\u001b[39m conditional_regression_model_30()\n\u001b[0;32m----> 7\u001b[0m history \u001b[39m=\u001b[39m model_5\u001b[39m.\u001b[39;49mfit(\n\u001b[1;32m      8\u001b[0m     x\u001b[39m=\u001b[39;49mX_train_preprocessed,\n\u001b[1;32m      9\u001b[0m     y\u001b[39m=\u001b[39;49my_train_p,\n\u001b[1;32m     10\u001b[0m     validation_split \u001b[39m=\u001b[39;49m \u001b[39m0.2\u001b[39;49m,\n\u001b[1;32m     11\u001b[0m     shuffle \u001b[39m=\u001b[39;49m \u001b[39mTrue\u001b[39;49;00m,\n\u001b[1;32m     12\u001b[0m     batch_size\u001b[39m=\u001b[39;49m\u001b[39m32\u001b[39;49m,\n\u001b[1;32m     13\u001b[0m     epochs \u001b[39m=\u001b[39;49m \u001b[39m50\u001b[39;49m,\n\u001b[1;32m     14\u001b[0m     callbacks \u001b[39m=\u001b[39;49m [es],\n\u001b[1;32m     15\u001b[0m     verbose \u001b[39m=\u001b[39;49m \u001b[39m1\u001b[39;49m\n\u001b[1;32m     16\u001b[0m )\n",
      "File \u001b[0;32m~/.pyenv/versions/3.10.6/envs/bool/lib/python3.10/site-packages/keras/src/utils/traceback_utils.py:70\u001b[0m, in \u001b[0;36mfilter_traceback.<locals>.error_handler\u001b[0;34m(*args, **kwargs)\u001b[0m\n\u001b[1;32m     67\u001b[0m     filtered_tb \u001b[39m=\u001b[39m _process_traceback_frames(e\u001b[39m.\u001b[39m__traceback__)\n\u001b[1;32m     68\u001b[0m     \u001b[39m# To get the full stack trace, call:\u001b[39;00m\n\u001b[1;32m     69\u001b[0m     \u001b[39m# `tf.debugging.disable_traceback_filtering()`\u001b[39;00m\n\u001b[0;32m---> 70\u001b[0m     \u001b[39mraise\u001b[39;00m e\u001b[39m.\u001b[39mwith_traceback(filtered_tb) \u001b[39mfrom\u001b[39;00m \u001b[39mNone\u001b[39;00m\n\u001b[1;32m     71\u001b[0m \u001b[39mfinally\u001b[39;00m:\n\u001b[1;32m     72\u001b[0m     \u001b[39mdel\u001b[39;00m filtered_tb\n",
      "File \u001b[0;32m/tmp/__autograph_generated_file8lqx5hfl.py:15\u001b[0m, in \u001b[0;36mouter_factory.<locals>.inner_factory.<locals>.tf__train_function\u001b[0;34m(iterator)\u001b[0m\n\u001b[1;32m     13\u001b[0m \u001b[39mtry\u001b[39;00m:\n\u001b[1;32m     14\u001b[0m     do_return \u001b[39m=\u001b[39m \u001b[39mTrue\u001b[39;00m\n\u001b[0;32m---> 15\u001b[0m     retval_ \u001b[39m=\u001b[39m ag__\u001b[39m.\u001b[39mconverted_call(ag__\u001b[39m.\u001b[39mld(step_function), (ag__\u001b[39m.\u001b[39mld(\u001b[39mself\u001b[39m), ag__\u001b[39m.\u001b[39mld(iterator)), \u001b[39mNone\u001b[39;00m, fscope)\n\u001b[1;32m     16\u001b[0m \u001b[39mexcept\u001b[39;00m:\n\u001b[1;32m     17\u001b[0m     do_return \u001b[39m=\u001b[39m \u001b[39mFalse\u001b[39;00m\n",
      "\u001b[0;31mValueError\u001b[0m: in user code:\n\n    File \"/home/miguel/.pyenv/versions/3.10.6/envs/bool/lib/python3.10/site-packages/keras/src/engine/training.py\", line 1338, in train_function  *\n        return step_function(self, iterator)\n    File \"/home/miguel/.pyenv/versions/3.10.6/envs/bool/lib/python3.10/site-packages/keras/src/engine/training.py\", line 1322, in step_function  **\n        outputs = model.distribute_strategy.run(run_step, args=(data,))\n    File \"/home/miguel/.pyenv/versions/3.10.6/envs/bool/lib/python3.10/site-packages/keras/src/engine/training.py\", line 1303, in run_step  **\n        outputs = model.train_step(data)\n    File \"/home/miguel/.pyenv/versions/3.10.6/envs/bool/lib/python3.10/site-packages/keras/src/engine/training.py\", line 1081, in train_step\n        loss = self.compute_loss(x, y, y_pred, sample_weight)\n    File \"/home/miguel/.pyenv/versions/3.10.6/envs/bool/lib/python3.10/site-packages/keras/src/engine/training.py\", line 1139, in compute_loss\n        return self.compiled_loss(\n    File \"/home/miguel/.pyenv/versions/3.10.6/envs/bool/lib/python3.10/site-packages/keras/src/engine/compile_utils.py\", line 265, in __call__\n        loss_value = loss_obj(y_t, y_p, sample_weight=sw)\n    File \"/home/miguel/.pyenv/versions/3.10.6/envs/bool/lib/python3.10/site-packages/keras/src/losses.py\", line 142, in __call__\n        losses = call_fn(y_true, y_pred)\n    File \"/home/miguel/.pyenv/versions/3.10.6/envs/bool/lib/python3.10/site-packages/keras/src/losses.py\", line 268, in call  **\n        return ag_fn(y_true, y_pred, **self._fn_kwargs)\n    File \"/home/miguel/.pyenv/versions/3.10.6/envs/bool/lib/python3.10/site-packages/keras/src/losses.py\", line 1608, in mean_squared_error\n        return backend.mean(tf.math.squared_difference(y_pred, y_true), axis=-1)\n\n    ValueError: Dimensions must be equal, but are 2 and 5 for '{{node mean_squared_error/SquaredDifference}} = SquaredDifference[T=DT_FLOAT](model_2/output_linear/BiasAdd, mean_squared_error/Cast)' with input shapes: [?,2], [?,5].\n"
     ]
    }
   ],
   "source": [
    "es = EarlyStopping(patience = 4, restore_best_weights=True)\n",
    "#lr_scheduler = ReduceLROnPlateau(monitor='val_loss', factor=0.5, patience=3, verbose=1, min_lr=1e-6)\n",
    "\n",
    "model_5 = conditional_regression_model_30()\n",
    "\n",
    "\n",
    "history = model_5.fit(\n",
    "    x=X_train_preprocessed,\n",
    "    y=y_train_p,\n",
    "    validation_split = 0.2,\n",
    "    shuffle = True,\n",
    "    batch_size=32,\n",
    "    epochs = 50,\n",
    "    callbacks = [es],\n",
    "    verbose = 1\n",
    ")"
   ]
  },
  {
   "cell_type": "code",
   "execution_count": null,
   "metadata": {},
   "outputs": [],
   "source": [
    "model_5.save('model_p')"
   ]
  },
  {
   "cell_type": "code",
   "execution_count": 8,
   "metadata": {},
   "outputs": [
    {
     "name": "stdout",
     "output_type": "stream",
     "text": [
      "293/293 [==============================] - 24s 82ms/step - loss: 0.9472 - accuracy: 0.6394\n"
     ]
    },
    {
     "data": {
      "text/plain": [
       "[0.9471926689147949, 0.639414370059967]"
      ]
     },
     "execution_count": 8,
     "metadata": {},
     "output_type": "execute_result"
    }
   ],
   "source": [
    "eva = model_5.evaluate(X_test_preprocessed, y_test_p)\n",
    "eva"
   ]
  },
  {
   "cell_type": "code",
   "execution_count": 18,
   "metadata": {},
   "outputs": [],
   "source": [
    "def conditional_regression_model_300():\n",
    "# Define input layer\n",
    "    input_layer = Input(shape=X_train_preprocessed.shape[1:])\n",
    "\n",
    "    # Apply masking layer\n",
    "    masked_input = Masking(mask_value=-1)(input_layer)\n",
    "\n",
    "# LSTM layers\n",
    "    lstm1 = LSTM(units=16, return_sequences=True)(masked_input)\n",
    "    lstm2 = LSTM(units=16, return_sequences=True)(lstm1)\n",
    "\n",
    "    # Flatten layer\n",
    "    flatten_layer = Flatten()(lstm2)\n",
    "\n",
    "    # First output layer for classification\n",
    "    dense_classification = Dense(units=64, activation='relu')(flatten_layer)\n",
    "\n",
    "    classification_output = Dense(units=5, activation='softmax', name='classification_output')(dense_classification)\n",
    "\n",
    "    # Combine input and classification output for regression\n",
    "    regression_input = Concatenate()([dense_classification, classification_output])\n",
    "\n",
    "    # Regression output\n",
    "    regression_output = Dense(units=2, activation='linear', name='regression_output')(regression_input)\n",
    "\n",
    "    # Create the combined model\n",
    "    model = Model(inputs=input_layer, outputs=[classification_output, regression_output])\n",
    "\n",
    "    # Compile the model with appropriate loss functions and metrics for each output\n",
    "    model.compile(optimizer='adam',\n",
    "                  loss={'classification_output': 'categorical_crossentropy', 'regression_output': 'mean_squared_error'},\n",
    "                  metrics={'classification_output': 'accuracy', 'regression_output': 'mae'})\n",
    "\n",
    "    return model\n"
   ]
  },
  {
   "cell_type": "code",
   "execution_count": 19,
   "metadata": {},
   "outputs": [
    {
     "name": "stdout",
     "output_type": "stream",
     "text": [
      "Epoch 1/50\n",
      "935/935 [==============================] - 404s 427ms/step - loss: 1404.6124 - classification_output_loss: 3.2391 - regression_output_loss: 1401.3745 - classification_output_accuracy: 0.3859 - regression_output_mae: 21.9192 - val_loss: 1355.9341 - val_classification_output_loss: 3.0727 - val_regression_output_loss: 1352.8615 - val_classification_output_accuracy: 0.4086 - val_regression_output_mae: 21.0874\n",
      "Epoch 2/50\n",
      "935/935 [==============================] - 453s 484ms/step - loss: 937.4344 - classification_output_loss: 2.7919 - regression_output_loss: 934.6420 - classification_output_accuracy: 0.4201 - regression_output_mae: 18.2280 - val_loss: 898.4702 - val_classification_output_loss: 2.8400 - val_regression_output_loss: 895.6306 - val_classification_output_accuracy: 0.4686 - val_regression_output_mae: 17.7370\n",
      "Epoch 3/50\n",
      "935/935 [==============================] - 393s 420ms/step - loss: 820.5018 - classification_output_loss: 2.5293 - regression_output_loss: 817.9729 - classification_output_accuracy: 0.4157 - regression_output_mae: 17.1975 - val_loss: 909.0505 - val_classification_output_loss: 2.4418 - val_regression_output_loss: 906.6085 - val_classification_output_accuracy: 0.4700 - val_regression_output_mae: 18.3893\n",
      "Epoch 4/50\n",
      "935/935 [==============================] - 172s 184ms/step - loss: 731.9212 - classification_output_loss: 2.4710 - regression_output_loss: 729.4498 - classification_output_accuracy: 0.4284 - regression_output_mae: 16.3187 - val_loss: 744.0887 - val_classification_output_loss: 2.8457 - val_regression_output_loss: 741.2429 - val_classification_output_accuracy: 0.4487 - val_regression_output_mae: 16.2868\n",
      "Epoch 5/50\n",
      "935/935 [==============================] - 184s 197ms/step - loss: 650.5960 - classification_output_loss: 2.5326 - regression_output_loss: 648.0638 - classification_output_accuracy: 0.4286 - regression_output_mae: 15.5376 - val_loss: 746.7621 - val_classification_output_loss: 3.2715 - val_regression_output_loss: 743.4905 - val_classification_output_accuracy: 0.4363 - val_regression_output_mae: 17.0969\n",
      "Epoch 6/50\n",
      "935/935 [==============================] - 173s 185ms/step - loss: 601.0933 - classification_output_loss: 2.5056 - regression_output_loss: 598.5873 - classification_output_accuracy: 0.4426 - regression_output_mae: 14.9381 - val_loss: 940.3949 - val_classification_output_loss: 2.3184 - val_regression_output_loss: 938.0768 - val_classification_output_accuracy: 0.4843 - val_regression_output_mae: 17.6026\n",
      "Epoch 7/50\n",
      "935/935 [==============================] - 172s 184ms/step - loss: 547.5294 - classification_output_loss: 2.5374 - regression_output_loss: 544.9918 - classification_output_accuracy: 0.4412 - regression_output_mae: 14.3935 - val_loss: 782.0454 - val_classification_output_loss: 2.7885 - val_regression_output_loss: 779.2571 - val_classification_output_accuracy: 0.4361 - val_regression_output_mae: 16.5803\n",
      "Epoch 8/50\n",
      "935/935 [==============================] - 171s 183ms/step - loss: 502.7719 - classification_output_loss: 2.7233 - regression_output_loss: 500.0489 - classification_output_accuracy: 0.4261 - regression_output_mae: 13.8331 - val_loss: 679.9600 - val_classification_output_loss: 2.6420 - val_regression_output_loss: 677.3181 - val_classification_output_accuracy: 0.4825 - val_regression_output_mae: 16.1500\n",
      "Epoch 9/50\n",
      "935/935 [==============================] - 169s 181ms/step - loss: 463.7408 - classification_output_loss: 2.6674 - regression_output_loss: 461.0736 - classification_output_accuracy: 0.4315 - regression_output_mae: 13.3376 - val_loss: 565.4850 - val_classification_output_loss: 3.1346 - val_regression_output_loss: 562.3506 - val_classification_output_accuracy: 0.5064 - val_regression_output_mae: 13.9482\n",
      "Epoch 10/50\n",
      "935/935 [==============================] - 170s 182ms/step - loss: 434.8009 - classification_output_loss: 2.7758 - regression_output_loss: 432.0255 - classification_output_accuracy: 0.4204 - regression_output_mae: 12.9661 - val_loss: 566.5742 - val_classification_output_loss: 2.9252 - val_regression_output_loss: 563.6490 - val_classification_output_accuracy: 0.4692 - val_regression_output_mae: 13.9305\n",
      "Epoch 11/50\n",
      "935/935 [==============================] - 170s 182ms/step - loss: 410.9683 - classification_output_loss: 2.8380 - regression_output_loss: 408.1300 - classification_output_accuracy: 0.4239 - regression_output_mae: 12.6208 - val_loss: 575.4731 - val_classification_output_loss: 2.9803 - val_regression_output_loss: 572.4931 - val_classification_output_accuracy: 0.4462 - val_regression_output_mae: 14.4478\n",
      "Epoch 12/50\n",
      "935/935 [==============================] - 167s 178ms/step - loss: 392.5290 - classification_output_loss: 2.9414 - regression_output_loss: 389.5877 - classification_output_accuracy: 0.4085 - regression_output_mae: 12.4105 - val_loss: 536.4040 - val_classification_output_loss: 3.1910 - val_regression_output_loss: 533.2130 - val_classification_output_accuracy: 0.3345 - val_regression_output_mae: 13.9800\n",
      "Epoch 13/50\n",
      "935/935 [==============================] - 171s 183ms/step - loss: 366.1711 - classification_output_loss: 2.8120 - regression_output_loss: 363.3595 - classification_output_accuracy: 0.4099 - regression_output_mae: 12.0836 - val_loss: 679.4011 - val_classification_output_loss: 2.7861 - val_regression_output_loss: 676.6150 - val_classification_output_accuracy: 0.3542 - val_regression_output_mae: 14.9883\n",
      "Epoch 14/50\n",
      "935/935 [==============================] - 169s 181ms/step - loss: 352.8434 - classification_output_loss: 2.9657 - regression_output_loss: 349.8777 - classification_output_accuracy: 0.4097 - regression_output_mae: 11.8377 - val_loss: 728.5841 - val_classification_output_loss: 2.6389 - val_regression_output_loss: 725.9454 - val_classification_output_accuracy: 0.4507 - val_regression_output_mae: 15.1301\n",
      "Epoch 15/50\n",
      "935/935 [==============================] - 167s 178ms/step - loss: 343.9059 - classification_output_loss: 2.9222 - regression_output_loss: 340.9840 - classification_output_accuracy: 0.3997 - regression_output_mae: 11.6781 - val_loss: 568.2548 - val_classification_output_loss: 3.8018 - val_regression_output_loss: 564.4526 - val_classification_output_accuracy: 0.2738 - val_regression_output_mae: 13.7638\n",
      "Epoch 16/50\n",
      "935/935 [==============================] - 170s 182ms/step - loss: 326.9957 - classification_output_loss: 2.9007 - regression_output_loss: 324.0952 - classification_output_accuracy: 0.4077 - regression_output_mae: 11.4653 - val_loss: 558.8145 - val_classification_output_loss: 3.1648 - val_regression_output_loss: 555.6500 - val_classification_output_accuracy: 0.3385 - val_regression_output_mae: 13.3937\n"
     ]
    }
   ],
   "source": [
    "es = EarlyStopping(patience = 4, restore_best_weights=True)\n",
    "#lr_scheduler = ReduceLROnPlateau(monitor='val_loss', factor=0.5, patience=3, verbose=1, min_lr=1e-6)\n",
    "\n",
    "model_50 = conditional_regression_model_300()\n",
    "\n",
    "\n",
    "history = model_50.fit(\n",
    "    x=X_train_preprocessed,\n",
    "    y={'classification_output': y_train_p, 'regression_output': y_train_dates},\n",
    "    validation_split = 0.2,\n",
    "    shuffle = True,\n",
    "    batch_size=32,\n",
    "    epochs = 50,\n",
    "    callbacks = [es],\n",
    "    verbose = 1\n",
    ")"
   ]
  },
  {
   "cell_type": "code",
   "execution_count": 20,
   "metadata": {},
   "outputs": [
    {
     "name": "stdout",
     "output_type": "stream",
     "text": [
      "INFO:tensorflow:Assets written to: model_p_dates/assets\n"
     ]
    },
    {
     "name": "stderr",
     "output_type": "stream",
     "text": [
      "INFO:tensorflow:Assets written to: model_p_dates/assets\n"
     ]
    }
   ],
   "source": [
    "model_50.save('model_p_dates')"
   ]
  },
  {
   "cell_type": "code",
   "execution_count": 9,
   "metadata": {},
   "outputs": [],
   "source": [
    "def conditional_regression_model_40():\n",
    "    model = Sequential()\n",
    "    model.add(Input(shape=X_train_preprocessed.shape[1:]))\n",
    "    model.add(Masking(mask_value=-1))\n",
    "    model.add(LSTM(units=16, return_sequences=True))\n",
    "    model.add(LSTM(units=16, return_sequences=True))\n",
    "    model.add(Flatten())\n",
    "    model.add(Dense(units=64, activation='relu'))\n",
    "    #model.add(Dense(units=5, activation='softmax'))\n",
    "    model.add(Dense(units=2, activation =\"linear\"))\n",
    "    #model.compile(optimizer='rmsprop', loss='categorical_crossentropy', metrics='accuracy')\n",
    "\n",
    "    model.compile(optimizer='rmsprop', loss='mse', metrics='mae')\n",
    "    \n",
    "    return model"
   ]
  },
  {
   "cell_type": "code",
   "execution_count": 12,
   "metadata": {},
   "outputs": [
    {
     "name": "stdout",
     "output_type": "stream",
     "text": [
      "Epoch 1/50\n",
      "935/935 [==============================] - 353s 373ms/step - loss: 1374.9510 - mae: 22.1543 - val_loss: 1182.8058 - val_mae: 20.0086\n",
      "Epoch 2/50\n",
      "935/935 [==============================] - 340s 363ms/step - loss: 1014.1423 - mae: 18.9411 - val_loss: 1268.9860 - val_mae: 22.4454\n",
      "Epoch 3/50\n",
      "359/935 [==========>...................] - ETA: 3:19 - loss: 927.8113 - mae: 18.0053"
     ]
    },
    {
     "ename": "KeyboardInterrupt",
     "evalue": "",
     "output_type": "error",
     "traceback": [
      "\u001b[0;31m---------------------------------------------------------------------------\u001b[0m",
      "\u001b[0;31mKeyboardInterrupt\u001b[0m                         Traceback (most recent call last)",
      "Cell \u001b[0;32mIn[12], line 7\u001b[0m\n\u001b[1;32m      2\u001b[0m \u001b[39m#lr_scheduler = ReduceLROnPlateau(monitor='val_loss', factor=0.5, patience=3, verbose=1, min_lr=1e-6)\u001b[39;00m\n\u001b[1;32m      4\u001b[0m model_6 \u001b[39m=\u001b[39m conditional_regression_model_40()\n\u001b[0;32m----> 7\u001b[0m history \u001b[39m=\u001b[39m model_6\u001b[39m.\u001b[39;49mfit(\n\u001b[1;32m      8\u001b[0m     x\u001b[39m=\u001b[39;49mX_train_preprocessed,\n\u001b[1;32m      9\u001b[0m     y\u001b[39m=\u001b[39;49my_train_dates,\n\u001b[1;32m     10\u001b[0m     validation_split \u001b[39m=\u001b[39;49m \u001b[39m0.2\u001b[39;49m,\n\u001b[1;32m     11\u001b[0m     shuffle \u001b[39m=\u001b[39;49m \u001b[39mTrue\u001b[39;49;00m,\n\u001b[1;32m     12\u001b[0m     batch_size\u001b[39m=\u001b[39;49m\u001b[39m32\u001b[39;49m,\n\u001b[1;32m     13\u001b[0m     epochs \u001b[39m=\u001b[39;49m \u001b[39m50\u001b[39;49m,\n\u001b[1;32m     14\u001b[0m     callbacks \u001b[39m=\u001b[39;49m [es],\n\u001b[1;32m     15\u001b[0m     verbose \u001b[39m=\u001b[39;49m \u001b[39m1\u001b[39;49m\n\u001b[1;32m     16\u001b[0m )\n",
      "File \u001b[0;32m~/.pyenv/versions/3.10.6/envs/bool/lib/python3.10/site-packages/keras/src/utils/traceback_utils.py:65\u001b[0m, in \u001b[0;36mfilter_traceback.<locals>.error_handler\u001b[0;34m(*args, **kwargs)\u001b[0m\n\u001b[1;32m     63\u001b[0m filtered_tb \u001b[39m=\u001b[39m \u001b[39mNone\u001b[39;00m\n\u001b[1;32m     64\u001b[0m \u001b[39mtry\u001b[39;00m:\n\u001b[0;32m---> 65\u001b[0m     \u001b[39mreturn\u001b[39;00m fn(\u001b[39m*\u001b[39;49margs, \u001b[39m*\u001b[39;49m\u001b[39m*\u001b[39;49mkwargs)\n\u001b[1;32m     66\u001b[0m \u001b[39mexcept\u001b[39;00m \u001b[39mException\u001b[39;00m \u001b[39mas\u001b[39;00m e:\n\u001b[1;32m     67\u001b[0m     filtered_tb \u001b[39m=\u001b[39m _process_traceback_frames(e\u001b[39m.\u001b[39m__traceback__)\n",
      "File \u001b[0;32m~/.pyenv/versions/3.10.6/envs/bool/lib/python3.10/site-packages/keras/src/engine/training.py:1742\u001b[0m, in \u001b[0;36mModel.fit\u001b[0;34m(self, x, y, batch_size, epochs, verbose, callbacks, validation_split, validation_data, shuffle, class_weight, sample_weight, initial_epoch, steps_per_epoch, validation_steps, validation_batch_size, validation_freq, max_queue_size, workers, use_multiprocessing)\u001b[0m\n\u001b[1;32m   1734\u001b[0m \u001b[39mwith\u001b[39;00m tf\u001b[39m.\u001b[39mprofiler\u001b[39m.\u001b[39mexperimental\u001b[39m.\u001b[39mTrace(\n\u001b[1;32m   1735\u001b[0m     \u001b[39m\"\u001b[39m\u001b[39mtrain\u001b[39m\u001b[39m\"\u001b[39m,\n\u001b[1;32m   1736\u001b[0m     epoch_num\u001b[39m=\u001b[39mepoch,\n\u001b[0;32m   (...)\u001b[0m\n\u001b[1;32m   1739\u001b[0m     _r\u001b[39m=\u001b[39m\u001b[39m1\u001b[39m,\n\u001b[1;32m   1740\u001b[0m ):\n\u001b[1;32m   1741\u001b[0m     callbacks\u001b[39m.\u001b[39mon_train_batch_begin(step)\n\u001b[0;32m-> 1742\u001b[0m     tmp_logs \u001b[39m=\u001b[39m \u001b[39mself\u001b[39;49m\u001b[39m.\u001b[39;49mtrain_function(iterator)\n\u001b[1;32m   1743\u001b[0m     \u001b[39mif\u001b[39;00m data_handler\u001b[39m.\u001b[39mshould_sync:\n\u001b[1;32m   1744\u001b[0m         context\u001b[39m.\u001b[39masync_wait()\n",
      "File \u001b[0;32m~/.pyenv/versions/3.10.6/envs/bool/lib/python3.10/site-packages/tensorflow/python/util/traceback_utils.py:150\u001b[0m, in \u001b[0;36mfilter_traceback.<locals>.error_handler\u001b[0;34m(*args, **kwargs)\u001b[0m\n\u001b[1;32m    148\u001b[0m filtered_tb \u001b[39m=\u001b[39m \u001b[39mNone\u001b[39;00m\n\u001b[1;32m    149\u001b[0m \u001b[39mtry\u001b[39;00m:\n\u001b[0;32m--> 150\u001b[0m   \u001b[39mreturn\u001b[39;00m fn(\u001b[39m*\u001b[39;49margs, \u001b[39m*\u001b[39;49m\u001b[39m*\u001b[39;49mkwargs)\n\u001b[1;32m    151\u001b[0m \u001b[39mexcept\u001b[39;00m \u001b[39mException\u001b[39;00m \u001b[39mas\u001b[39;00m e:\n\u001b[1;32m    152\u001b[0m   filtered_tb \u001b[39m=\u001b[39m _process_traceback_frames(e\u001b[39m.\u001b[39m__traceback__)\n",
      "File \u001b[0;32m~/.pyenv/versions/3.10.6/envs/bool/lib/python3.10/site-packages/tensorflow/python/eager/polymorphic_function/polymorphic_function.py:825\u001b[0m, in \u001b[0;36mFunction.__call__\u001b[0;34m(self, *args, **kwds)\u001b[0m\n\u001b[1;32m    822\u001b[0m compiler \u001b[39m=\u001b[39m \u001b[39m\"\u001b[39m\u001b[39mxla\u001b[39m\u001b[39m\"\u001b[39m \u001b[39mif\u001b[39;00m \u001b[39mself\u001b[39m\u001b[39m.\u001b[39m_jit_compile \u001b[39melse\u001b[39;00m \u001b[39m\"\u001b[39m\u001b[39mnonXla\u001b[39m\u001b[39m\"\u001b[39m\n\u001b[1;32m    824\u001b[0m \u001b[39mwith\u001b[39;00m OptionalXlaContext(\u001b[39mself\u001b[39m\u001b[39m.\u001b[39m_jit_compile):\n\u001b[0;32m--> 825\u001b[0m   result \u001b[39m=\u001b[39m \u001b[39mself\u001b[39;49m\u001b[39m.\u001b[39;49m_call(\u001b[39m*\u001b[39;49margs, \u001b[39m*\u001b[39;49m\u001b[39m*\u001b[39;49mkwds)\n\u001b[1;32m    827\u001b[0m new_tracing_count \u001b[39m=\u001b[39m \u001b[39mself\u001b[39m\u001b[39m.\u001b[39mexperimental_get_tracing_count()\n\u001b[1;32m    828\u001b[0m without_tracing \u001b[39m=\u001b[39m (tracing_count \u001b[39m==\u001b[39m new_tracing_count)\n",
      "File \u001b[0;32m~/.pyenv/versions/3.10.6/envs/bool/lib/python3.10/site-packages/tensorflow/python/eager/polymorphic_function/polymorphic_function.py:857\u001b[0m, in \u001b[0;36mFunction._call\u001b[0;34m(self, *args, **kwds)\u001b[0m\n\u001b[1;32m    854\u001b[0m   \u001b[39mself\u001b[39m\u001b[39m.\u001b[39m_lock\u001b[39m.\u001b[39mrelease()\n\u001b[1;32m    855\u001b[0m   \u001b[39m# In this case we have created variables on the first call, so we run the\u001b[39;00m\n\u001b[1;32m    856\u001b[0m   \u001b[39m# defunned version which is guaranteed to never create variables.\u001b[39;00m\n\u001b[0;32m--> 857\u001b[0m   \u001b[39mreturn\u001b[39;00m \u001b[39mself\u001b[39;49m\u001b[39m.\u001b[39;49m_no_variable_creation_fn(\u001b[39m*\u001b[39;49margs, \u001b[39m*\u001b[39;49m\u001b[39m*\u001b[39;49mkwds)  \u001b[39m# pylint: disable=not-callable\u001b[39;00m\n\u001b[1;32m    858\u001b[0m \u001b[39melif\u001b[39;00m \u001b[39mself\u001b[39m\u001b[39m.\u001b[39m_variable_creation_fn \u001b[39mis\u001b[39;00m \u001b[39mnot\u001b[39;00m \u001b[39mNone\u001b[39;00m:\n\u001b[1;32m    859\u001b[0m   \u001b[39m# Release the lock early so that multiple threads can perform the call\u001b[39;00m\n\u001b[1;32m    860\u001b[0m   \u001b[39m# in parallel.\u001b[39;00m\n\u001b[1;32m    861\u001b[0m   \u001b[39mself\u001b[39m\u001b[39m.\u001b[39m_lock\u001b[39m.\u001b[39mrelease()\n",
      "File \u001b[0;32m~/.pyenv/versions/3.10.6/envs/bool/lib/python3.10/site-packages/tensorflow/python/eager/polymorphic_function/tracing_compiler.py:148\u001b[0m, in \u001b[0;36mTracingCompiler.__call__\u001b[0;34m(self, *args, **kwargs)\u001b[0m\n\u001b[1;32m    145\u001b[0m \u001b[39mwith\u001b[39;00m \u001b[39mself\u001b[39m\u001b[39m.\u001b[39m_lock:\n\u001b[1;32m    146\u001b[0m   (concrete_function,\n\u001b[1;32m    147\u001b[0m    filtered_flat_args) \u001b[39m=\u001b[39m \u001b[39mself\u001b[39m\u001b[39m.\u001b[39m_maybe_define_function(args, kwargs)\n\u001b[0;32m--> 148\u001b[0m \u001b[39mreturn\u001b[39;00m concrete_function\u001b[39m.\u001b[39;49m_call_flat(\n\u001b[1;32m    149\u001b[0m     filtered_flat_args, captured_inputs\u001b[39m=\u001b[39;49mconcrete_function\u001b[39m.\u001b[39;49mcaptured_inputs)\n",
      "File \u001b[0;32m~/.pyenv/versions/3.10.6/envs/bool/lib/python3.10/site-packages/tensorflow/python/eager/polymorphic_function/monomorphic_function.py:1349\u001b[0m, in \u001b[0;36mConcreteFunction._call_flat\u001b[0;34m(self, args, captured_inputs)\u001b[0m\n\u001b[1;32m   1345\u001b[0m possible_gradient_type \u001b[39m=\u001b[39m gradients_util\u001b[39m.\u001b[39mPossibleTapeGradientTypes(args)\n\u001b[1;32m   1346\u001b[0m \u001b[39mif\u001b[39;00m (possible_gradient_type \u001b[39m==\u001b[39m gradients_util\u001b[39m.\u001b[39mPOSSIBLE_GRADIENT_TYPES_NONE\n\u001b[1;32m   1347\u001b[0m     \u001b[39mand\u001b[39;00m executing_eagerly):\n\u001b[1;32m   1348\u001b[0m   \u001b[39m# No tape is watching; skip to running the function.\u001b[39;00m\n\u001b[0;32m-> 1349\u001b[0m   \u001b[39mreturn\u001b[39;00m \u001b[39mself\u001b[39m\u001b[39m.\u001b[39m_build_call_outputs(\u001b[39mself\u001b[39;49m\u001b[39m.\u001b[39;49m_inference_function(\u001b[39m*\u001b[39;49margs))\n\u001b[1;32m   1350\u001b[0m forward_backward \u001b[39m=\u001b[39m \u001b[39mself\u001b[39m\u001b[39m.\u001b[39m_select_forward_and_backward_functions(\n\u001b[1;32m   1351\u001b[0m     args,\n\u001b[1;32m   1352\u001b[0m     possible_gradient_type,\n\u001b[1;32m   1353\u001b[0m     executing_eagerly)\n\u001b[1;32m   1354\u001b[0m forward_function, args_with_tangents \u001b[39m=\u001b[39m forward_backward\u001b[39m.\u001b[39mforward()\n",
      "File \u001b[0;32m~/.pyenv/versions/3.10.6/envs/bool/lib/python3.10/site-packages/tensorflow/python/eager/polymorphic_function/atomic_function.py:196\u001b[0m, in \u001b[0;36mAtomicFunction.__call__\u001b[0;34m(self, *args)\u001b[0m\n\u001b[1;32m    194\u001b[0m \u001b[39mwith\u001b[39;00m record\u001b[39m.\u001b[39mstop_recording():\n\u001b[1;32m    195\u001b[0m   \u001b[39mif\u001b[39;00m \u001b[39mself\u001b[39m\u001b[39m.\u001b[39m_bound_context\u001b[39m.\u001b[39mexecuting_eagerly():\n\u001b[0;32m--> 196\u001b[0m     outputs \u001b[39m=\u001b[39m \u001b[39mself\u001b[39;49m\u001b[39m.\u001b[39;49m_bound_context\u001b[39m.\u001b[39;49mcall_function(\n\u001b[1;32m    197\u001b[0m         \u001b[39mself\u001b[39;49m\u001b[39m.\u001b[39;49mname,\n\u001b[1;32m    198\u001b[0m         \u001b[39mlist\u001b[39;49m(args),\n\u001b[1;32m    199\u001b[0m         \u001b[39mlen\u001b[39;49m(\u001b[39mself\u001b[39;49m\u001b[39m.\u001b[39;49mfunction_type\u001b[39m.\u001b[39;49mflat_outputs),\n\u001b[1;32m    200\u001b[0m     )\n\u001b[1;32m    201\u001b[0m   \u001b[39melse\u001b[39;00m:\n\u001b[1;32m    202\u001b[0m     outputs \u001b[39m=\u001b[39m make_call_op_in_graph(\u001b[39mself\u001b[39m, \u001b[39mlist\u001b[39m(args))\n",
      "File \u001b[0;32m~/.pyenv/versions/3.10.6/envs/bool/lib/python3.10/site-packages/tensorflow/python/eager/context.py:1457\u001b[0m, in \u001b[0;36mContext.call_function\u001b[0;34m(self, name, tensor_inputs, num_outputs)\u001b[0m\n\u001b[1;32m   1455\u001b[0m cancellation_context \u001b[39m=\u001b[39m cancellation\u001b[39m.\u001b[39mcontext()\n\u001b[1;32m   1456\u001b[0m \u001b[39mif\u001b[39;00m cancellation_context \u001b[39mis\u001b[39;00m \u001b[39mNone\u001b[39;00m:\n\u001b[0;32m-> 1457\u001b[0m   outputs \u001b[39m=\u001b[39m execute\u001b[39m.\u001b[39;49mexecute(\n\u001b[1;32m   1458\u001b[0m       name\u001b[39m.\u001b[39;49mdecode(\u001b[39m\"\u001b[39;49m\u001b[39mutf-8\u001b[39;49m\u001b[39m\"\u001b[39;49m),\n\u001b[1;32m   1459\u001b[0m       num_outputs\u001b[39m=\u001b[39;49mnum_outputs,\n\u001b[1;32m   1460\u001b[0m       inputs\u001b[39m=\u001b[39;49mtensor_inputs,\n\u001b[1;32m   1461\u001b[0m       attrs\u001b[39m=\u001b[39;49mattrs,\n\u001b[1;32m   1462\u001b[0m       ctx\u001b[39m=\u001b[39;49m\u001b[39mself\u001b[39;49m,\n\u001b[1;32m   1463\u001b[0m   )\n\u001b[1;32m   1464\u001b[0m \u001b[39melse\u001b[39;00m:\n\u001b[1;32m   1465\u001b[0m   outputs \u001b[39m=\u001b[39m execute\u001b[39m.\u001b[39mexecute_with_cancellation(\n\u001b[1;32m   1466\u001b[0m       name\u001b[39m.\u001b[39mdecode(\u001b[39m\"\u001b[39m\u001b[39mutf-8\u001b[39m\u001b[39m\"\u001b[39m),\n\u001b[1;32m   1467\u001b[0m       num_outputs\u001b[39m=\u001b[39mnum_outputs,\n\u001b[0;32m   (...)\u001b[0m\n\u001b[1;32m   1471\u001b[0m       cancellation_manager\u001b[39m=\u001b[39mcancellation_context,\n\u001b[1;32m   1472\u001b[0m   )\n",
      "File \u001b[0;32m~/.pyenv/versions/3.10.6/envs/bool/lib/python3.10/site-packages/tensorflow/python/eager/execute.py:53\u001b[0m, in \u001b[0;36mquick_execute\u001b[0;34m(op_name, num_outputs, inputs, attrs, ctx, name)\u001b[0m\n\u001b[1;32m     51\u001b[0m \u001b[39mtry\u001b[39;00m:\n\u001b[1;32m     52\u001b[0m   ctx\u001b[39m.\u001b[39mensure_initialized()\n\u001b[0;32m---> 53\u001b[0m   tensors \u001b[39m=\u001b[39m pywrap_tfe\u001b[39m.\u001b[39;49mTFE_Py_Execute(ctx\u001b[39m.\u001b[39;49m_handle, device_name, op_name,\n\u001b[1;32m     54\u001b[0m                                       inputs, attrs, num_outputs)\n\u001b[1;32m     55\u001b[0m \u001b[39mexcept\u001b[39;00m core\u001b[39m.\u001b[39m_NotOkStatusException \u001b[39mas\u001b[39;00m e:\n\u001b[1;32m     56\u001b[0m   \u001b[39mif\u001b[39;00m name \u001b[39mis\u001b[39;00m \u001b[39mnot\u001b[39;00m \u001b[39mNone\u001b[39;00m:\n",
      "\u001b[0;31mKeyboardInterrupt\u001b[0m: "
     ]
    }
   ],
   "source": [
    "es = EarlyStopping(patience = 4, restore_best_weights=True)\n",
    "#lr_scheduler = ReduceLROnPlateau(monitor='val_loss', factor=0.5, patience=3, verbose=1, min_lr=1e-6)\n",
    "\n",
    "model_6 = conditional_regression_model_40()\n",
    "\n",
    "\n",
    "history = model_6.fit(\n",
    "    x=X_train_preprocessed,\n",
    "    y=y_train_dates,\n",
    "    validation_split = 0.2,\n",
    "    shuffle = True,\n",
    "    batch_size=32,\n",
    "    epochs = 50,\n",
    "    callbacks = [es],\n",
    "    verbose = 1\n",
    ")"
   ]
  },
  {
   "cell_type": "code",
   "execution_count": 13,
   "metadata": {},
   "outputs": [
    {
     "name": "stdout",
     "output_type": "stream",
     "text": [
      "293/293 [==============================] - 24s 81ms/step - loss: 893.7669 - mae: 18.0642\n"
     ]
    },
    {
     "data": {
      "text/plain": [
       "[893.7669067382812, 18.064245223999023]"
      ]
     },
     "execution_count": 13,
     "metadata": {},
     "output_type": "execute_result"
    }
   ],
   "source": [
    "eva1 = model_6.evaluate(X_test_preprocessed, y_test_dates)\n",
    "eva1"
   ]
  },
  {
   "cell_type": "markdown",
   "metadata": {},
   "source": [
    "When it comes to more advanced deep learning models for stock price pattern detection, you can explore several approaches that go beyond traditional LSTM or Conv1D architectures. These advanced models are designed to capture complex patterns and dependencies in financial time series data. Here are some advanced deep learning models and techniques you can consider:\n",
    "\n",
    "1. **Transformer-Based Models:**\n",
    "   - **BERT (Bidirectional Encoder Representations from Transformers):** Originally designed for natural language processing, BERT-based models can be fine-tuned for time series data to capture bidirectional dependencies in the data.\n",
    "\n",
    "2. **Temporal Convolutional Networks (TCNs):**\n",
    "   - TCNs are a more advanced version of Conv1D layers and have shown promise in modeling sequential data, including stock prices. They use causal convolutions to capture temporal dependencies efficiently.\n",
    "\n",
    "3. **WaveNet:**\n",
    "   - WaveNet is a deep generative model that uses dilated causal convolutions to model time series data. It has been used for tasks like generating financial time series data and anomaly detection.\n",
    "\n",
    "4. **Attention-Based Models:**\n",
    "   - Attention mechanisms, similar to those used in Transformers, can be applied to time series data to focus on relevant time steps and capture complex dependencies.\n",
    "\n",
    "5. **Recurrent Neural Networks (RNN) Variants:**\n",
    "   - Beyond LSTM and GRU, you can explore more advanced RNN variants like Neural ODEs (Ordinary Differential Equations) and LSTM with Attention Mechanisms for enhanced modeling of time series data.\n",
    "\n",
    "6. **Hybrid Models:**\n",
    "   - Combine deep learning models with traditional time series forecasting techniques like ARIMA (AutoRegressive Integrated Moving Average) or Prophet to capture both linear and nonlinear patterns.\n",
    "\n",
    "7. **Generative Adversarial Networks (GANs):**\n",
    "   - GANs can be used for generating synthetic financial time series data or for anomaly detection by training a GAN to distinguish between real and synthetic data.\n",
    "\n",
    "8. **Self-Supervised Learning:**\n",
    "   - Use self-supervised learning techniques like Contrastive Learning or Variational Autoencoders (VAEs) to learn meaningful representations from the data and identify patterns.\n",
    "\n",
    "9. **Reinforcement Learning:**\n",
    "   - Apply reinforcement learning techniques to develop trading algorithms that can adapt to changing market conditions based on historical data.\n",
    "\n",
    "10. **Graph Neural Networks (GNNs):**\n",
    "    - If you have access to additional data like financial news or social media sentiment, GNNs can be used to model the relationships between various financial assets and incorporate external information.\n",
    "\n",
    "11. **Ensemble Models:**\n",
    "    - Combine predictions from multiple advanced models, including deep learning and traditional models, to improve accuracy and robustness.\n",
    "\n",
    "The choice of the most suitable advanced model depends on the specific characteristics of your data, the complexity of the patterns you aim to detect, and your computational resources. It's also essential to properly preprocess and engineer features from your financial time series data, as the quality of input features can significantly impact model performance.\n",
    "\n",
    "Additionally, you may need to consider techniques for addressing common challenges in financial time series analysis, such as dealing with non-stationarity, handling imbalanced datasets, and implementing robust evaluation metrics."
   ]
  },
  {
   "cell_type": "code",
   "execution_count": 15,
   "metadata": {},
   "outputs": [
    {
     "name": "stderr",
     "output_type": "stream",
     "text": [
      "Generating...:  17%|#6        | 5/30 [00:08<00:54,  2.19s/it]"
     ]
    },
    {
     "ename": "",
     "evalue": "",
     "output_type": "error",
     "traceback": [
      "\u001b[1;31mThe Kernel crashed while executing code in the the current cell or a previous cell. Please review the code in the cell(s) to identify a possible cause of the failure. Click <a href='https://aka.ms/vscodeJupyterKernelCrash'>here</a> for more info. View Jupyter <a href='command:jupyter.viewOutput'>log</a> for further details."
     ]
    }
   ],
   "source": [
    "# create a random sequence with 200 numbers\n",
    "# all numbers are in the range of 50.0 to 150.0\n",
    "random_series = np.random.uniform(low=50.0, high=150.0, size=(200,))\n",
    "\n",
    "# set parameters\n",
    "timeSeries = list(random_series)\n",
    "windowSize = 150\n",
    "rollingLength = 10\n",
    "fileName = 'demo_%02d_%02d'%(windowSize, rollingLength)\n",
    "\n",
    "# generate GAF pickle file (output by Numpy.dump)\n",
    "GenerateGAF(all_ts = X_train_preprocessed[:,:,0][0],\n",
    "            window_size = windowSize,\n",
    "            rolling_length = rollingLength,\n",
    "            fname = fileName)"
   ]
  },
  {
   "cell_type": "code",
   "execution_count": 17,
   "metadata": {},
   "outputs": [
    {
     "name": "stderr",
     "output_type": "stream",
     "text": [
      "Output Heatmaps...: 100%|##########| 15/15 [00:00<00:00, 20.61it/s]\n"
     ]
    },
    {
     "ename": "AttributeError",
     "evalue": "'NoneType' object has no attribute 'show'",
     "output_type": "error",
     "traceback": [
      "\u001b[0;31m---------------------------------------------------------------------------\u001b[0m",
      "\u001b[0;31mAttributeError\u001b[0m                            Traceback (most recent call last)",
      "Cell \u001b[0;32mIn[17], line 2\u001b[0m\n\u001b[1;32m      1\u001b[0m gaf \u001b[39m=\u001b[39m np\u001b[39m.\u001b[39mload(\u001b[39m'\u001b[39m\u001b[39mdemo_50_10_gaf.pkl\u001b[39m\u001b[39m'\u001b[39m, allow_pickle\u001b[39m=\u001b[39m\u001b[39mTrue\u001b[39;00m)\n\u001b[0;32m----> 2\u001b[0m PlotHeatmap(gaf)\u001b[39m.\u001b[39;49mshow()\n",
      "\u001b[0;31mAttributeError\u001b[0m: 'NoneType' object has no attribute 'show'"
     ]
    },
    {
     "data": {
      "text/plain": [
       "<Figure size 640x480 with 0 Axes>"
      ]
     },
     "metadata": {},
     "output_type": "display_data"
    }
   ],
   "source": [
    "gaf = np.load('demo_50_10_gaf.pkl', allow_pickle=True)\n",
    "PlotHeatmap(gaf)\n"
   ]
  },
  {
   "cell_type": "code",
   "execution_count": 200,
   "metadata": {},
   "outputs": [],
   "source": [
    "\n",
    "def gaf_model():\n",
    "    # Define the input layer\n",
    "    input_layer = Input(shape=gafs.shape[1:])\n",
    "    \n",
    "    # Add Convolutional layers\n",
    "    conv1 = Conv2D(16, (3, 3), activation='relu', padding='same')(input_layer)\n",
    "    \n",
    "    maxpool = MaxPooling2D((2, 2))(conv1)\n",
    "\n",
    "    conv2 = Conv2D(16, (3, 3), activation='relu', padding='same')(maxpool)\n",
    "\n",
    "    maxpool = MaxPooling2D((2, 2))(conv2)\n",
    "    # Flatten the output of the last convolutional layer\n",
    "    flatten = Flatten()(conv2)\n",
    "\n",
    "    # Add Dense (fully connected) layers\n",
    "    dense1 = Dense(64, activation='relu')(flatten)\n",
    "\n",
    "    # Output layer for classification with 5 units and softmax activation\n",
    "    output_layer = Dense(5, activation='softmax')(dense1)\n",
    "\n",
    "    # Create the model\n",
    "    model = Model(inputs=input_layer, outputs=output_layer)\n",
    "\n",
    "    # Compile the model\n",
    "    model.compile(optimizer='rmsprop', loss='categorical_crossentropy', metrics=['accuracy'])\n",
    "\n",
    "    return model"
   ]
  },
  {
   "cell_type": "code",
   "execution_count": 201,
   "metadata": {},
   "outputs": [],
   "source": [
    "y_gafs = y_train_p[0:gafs.shape[0]]"
   ]
  },
  {
   "cell_type": "code",
   "execution_count": 202,
   "metadata": {},
   "outputs": [
    {
     "name": "stdout",
     "output_type": "stream",
     "text": [
      "Epoch 1/50\n",
      "10/10 [==============================] - 1s 55ms/step - loss: 2.2489 - accuracy: 0.2924 - val_loss: 1.7946 - val_accuracy: 0.2763\n",
      "Epoch 2/50\n",
      "10/10 [==============================] - 0s 44ms/step - loss: 1.5942 - accuracy: 0.3654 - val_loss: 1.9629 - val_accuracy: 0.3026\n",
      "Epoch 3/50\n",
      "10/10 [==============================] - 0s 44ms/step - loss: 1.4898 - accuracy: 0.4850 - val_loss: 1.7355 - val_accuracy: 0.2237\n",
      "Epoch 4/50\n",
      "10/10 [==============================] - 0s 45ms/step - loss: 1.1912 - accuracy: 0.5249 - val_loss: 1.8575 - val_accuracy: 0.2237\n",
      "Epoch 5/50\n",
      "10/10 [==============================] - 0s 44ms/step - loss: 1.0014 - accuracy: 0.5714 - val_loss: 1.9105 - val_accuracy: 0.1842\n",
      "Epoch 6/50\n",
      "10/10 [==============================] - 0s 44ms/step - loss: 0.8882 - accuracy: 0.6645 - val_loss: 2.2631 - val_accuracy: 0.0921\n",
      "Epoch 7/50\n",
      "10/10 [==============================] - 0s 44ms/step - loss: 0.7518 - accuracy: 0.7409 - val_loss: 2.2350 - val_accuracy: 0.1579\n",
      "Epoch 8/50\n",
      "10/10 [==============================] - 0s 43ms/step - loss: 0.6532 - accuracy: 0.8007 - val_loss: 2.3473 - val_accuracy: 0.2763\n"
     ]
    }
   ],
   "source": [
    "es = EarlyStopping(patience = 5, restore_best_weights=True)\n",
    "#lr_scheduler = ReduceLROnPlateau(monitor='val_loss', factor=0.5, patience=3, verbose=1, min_lr=1e-6)\n",
    "\n",
    "model = gaf_model()\n",
    "\n",
    "\n",
    "history = model.fit(\n",
    "    x=gafs,\n",
    "    y=y_gafs,\n",
    "    validation_split = 0.2,\n",
    "    shuffle = True,\n",
    "    batch_size=32,\n",
    "    epochs = 50,\n",
    "    callbacks = [es],\n",
    "    verbose = 1\n",
    ")"
   ]
  },
  {
   "cell_type": "code",
   "execution_count": null,
   "metadata": {},
   "outputs": [],
   "source": []
  }
 ],
 "metadata": {
  "kernelspec": {
   "display_name": "bool",
   "language": "python",
   "name": "python3"
  },
  "language_info": {
   "codemirror_mode": {
    "name": "ipython",
    "version": 3
   },
   "file_extension": ".py",
   "mimetype": "text/x-python",
   "name": "python",
   "nbconvert_exporter": "python",
   "pygments_lexer": "ipython3",
   "version": "3.10.6"
  }
 },
 "nbformat": 4,
 "nbformat_minor": 2
}
