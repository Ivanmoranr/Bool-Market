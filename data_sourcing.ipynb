{
 "cells": [
  {
   "cell_type": "markdown",
   "id": "4ba29607",
   "metadata": {},
   "source": [
    "# Data Sourcing"
   ]
  },
  {
   "cell_type": "markdown",
   "id": "939b1346",
   "metadata": {},
   "source": [
    "## Imports"
   ]
  },
  {
   "cell_type": "code",
   "execution_count": 36,
   "id": "0e7fe03d",
   "metadata": {},
   "outputs": [],
   "source": [
    "import os\n",
    "import pandas as pd\n",
    "import requests\n",
    "from io import StringIO\n",
    "import time\n",
    "\n",
    "from selenium import webdriver\n",
    "from selenium.webdriver.common.by import By\n",
    "from selenium.webdriver.support import expected_conditions\n",
    "from selenium.webdriver.support.ui import WebDriverWait"
   ]
  },
  {
   "cell_type": "markdown",
   "id": "7146b1e6",
   "metadata": {},
   "source": [
    "## Web Scraping with Selenium"
   ]
  },
  {
   "cell_type": "markdown",
   "id": "9a3c8929",
   "metadata": {},
   "source": [
    "To conduct pattern analysis, the first thing to acquire is graphs that show patterns.\n",
    "\n",
    "In order to do this, we will use Selenium to scrape the Atmatix website (www.atmatix.pl)"
   ]
  },
  {
   "cell_type": "markdown",
   "id": "49a2f5ae",
   "metadata": {},
   "source": [
    "### Functions"
   ]
  },
  {
   "cell_type": "raw",
   "id": "c6adaab0",
   "metadata": {},
   "source": [
    "def start_maximise(url):\n",
    "    \"\"\"Starts driver and maximises the window\"\"\"\n",
    "    driver.get(url)\n",
    "    driver.maximize_window()\n",
    "    time.sleep(10)\n",
    "\n",
    "def login():\n",
    "    \"\"\"Logs in using email and password\"\"\"\n",
    "    wait = WebDriverWait(driver, 10)\n",
    "    login_btn = wait.until(\n",
    "        expected_conditions.visibility_of_element_located((By.XPATH, \"//a[contains(text(), 'Log in')]\")))\n",
    "    login_btn.click()\n",
    "\n",
    "    time.sleep(10)\n",
    "\n",
    "    email_entry = wait.until(\n",
    "        expected_conditions.visibility_of_element_located(\n",
    "            (By.XPATH, \"/html/body/div[2]/div/div[1]/div/div/div[2]/form/fieldset/div[1]/div/input\")))\n",
    "    email_entry.send_keys(**************)\n",
    "\n",
    "    pass_entry = wait.until(\n",
    "        expected_conditions.visibility_of_element_located(\n",
    "            (By.XPATH, \"/html/body/div[2]/div/div[1]/div/div/div[2]/form/fieldset/div[2]/div/input\")))\n",
    "    pass_entry.send_keys(***********)\n",
    "\n",
    "    log_btn = wait.until(\n",
    "        expected_conditions.visibility_of_element_located(\n",
    "            (By.XPATH, \"/html/body/div[2]/div/div[1]/div/div/div[2]/form/fieldset/div[4]/button\")))\n",
    "    log_btn.click()\n",
    "\n",
    "    time.sleep(10)\n",
    "\n",
    "def page_info():\n",
    "    \"\"\"Extracts all information from the tabular page\"\"\"\n",
    "    page_table_rows = driver.find_elements(By.XPATH, \"//table//tr\")\n",
    "    for row in page_table_rows:\n",
    "        td_elements = row.find_elements(By.TAG_NAME, \"td\")\n",
    "        if len(td_elements) >= 10:\n",
    "            children_to_extract = [2, 3, 4, 6, 9]\n",
    "            extracted_children = [td_elements[i].text for i in children_to_extract]\n",
    "            info.append(extracted_children)\n",
    "\n",
    "def next_page():\n",
    "    \"\"\"Navigates to the next page\"\"\"\n",
    "    wait = WebDriverWait(driver, 10)\n",
    "    next_page_btn = wait.until(\n",
    "        expected_conditions.visibility_of_element_located((By.XPATH, \"//a[contains(text(), 'Next')]\")))\n",
    "    driver.execute_script(\"arguments[0].scrollIntoView();\", next_page_btn)\n",
    "    next_page_btn.click()"
   ]
  },
  {
   "cell_type": "raw",
   "id": "e0ce8b18",
   "metadata": {},
   "source": [
    "URL = 'https://www.atmatix.pl/en/stats'\n",
    "driver = webdriver.Chrome()"
   ]
  },
  {
   "cell_type": "markdown",
   "id": "c09ffdda",
   "metadata": {},
   "source": [
    "### Run scraping"
   ]
  },
  {
   "cell_type": "raw",
   "id": "d843d3dc",
   "metadata": {},
   "source": [
    "info = []\n",
    "\n",
    "start_maximise(URL)\n",
    "login()\n",
    "for num in range(377):\n",
    "   page_info()\n",
    "   next_page()\n",
    "   time.sleep(5)"
   ]
  },
  {
   "cell_type": "markdown",
   "id": "0d856bd7",
   "metadata": {},
   "source": [
    "### Create a DataFrame from scraped data"
   ]
  },
  {
   "cell_type": "raw",
   "id": "4631b813",
   "metadata": {},
   "source": [
    "columns = ['Company', 'Pattern', 'Width', 'End Date', 'Breakout Date']\n",
    "\n",
    "data_to_add = []\n",
    "\n",
    "for row in info:\n",
    "    company = row[0]\n",
    "    pattern = row[1]\n",
    "    width = row[2]\n",
    "    end_date = row[3]\n",
    "    breakout_date = row[4]\n",
    "\n",
    "    data_to_add.append({\n",
    "        'Company': company,\n",
    "        'Pattern': pattern,\n",
    "        'Width': width,\n",
    "        'End Date': end_date,\n",
    "        'Breakout Date': breakout_date\n",
    "    })\n",
    "\n",
    "df = pd.DataFrame(data_to_add, columns=columns)"
   ]
  },
  {
   "cell_type": "markdown",
   "id": "1a4db218",
   "metadata": {},
   "source": [
    "### Save DF"
   ]
  },
  {
   "cell_type": "raw",
   "id": "7638e58d",
   "metadata": {},
   "source": [
    "df.to_csv('data/patterns.csv', index=False)"
   ]
  },
  {
   "cell_type": "markdown",
   "id": "781c8454",
   "metadata": {},
   "source": [
    "## DataFrame "
   ]
  },
  {
   "cell_type": "markdown",
   "id": "649ce424",
   "metadata": {},
   "source": [
    "From this cell on, all work is complete in the Notebook"
   ]
  },
  {
   "cell_type": "markdown",
   "id": "1b4eeff7",
   "metadata": {},
   "source": [
    "### Load Dataframe"
   ]
  },
  {
   "cell_type": "code",
   "execution_count": 46,
   "id": "64a4cf36",
   "metadata": {},
   "outputs": [],
   "source": [
    "df = pd.read_csv('data/patterns.csv')"
   ]
  },
  {
   "cell_type": "markdown",
   "id": "281600a8",
   "metadata": {},
   "source": [
    "### Inspecting Dataframe"
   ]
  },
  {
   "cell_type": "code",
   "execution_count": 47,
   "id": "df653f47",
   "metadata": {},
   "outputs": [
    {
     "data": {
      "text/plain": [
       "'The Database has 3770 rows and 5 columns.'"
      ]
     },
     "metadata": {},
     "output_type": "display_data"
    },
    {
     "data": {
      "text/plain": [
       "'=================================================================================================================='"
      ]
     },
     "metadata": {},
     "output_type": "display_data"
    },
    {
     "data": {
      "text/plain": [
       "\"The Database has the following columns: ['Company', 'Pattern', 'Width', 'End Date', 'Breakout Date']\""
      ]
     },
     "metadata": {},
     "output_type": "display_data"
    },
    {
     "data": {
      "text/plain": [
       "'=================================================================================================================='"
      ]
     },
     "metadata": {},
     "output_type": "display_data"
    },
    {
     "data": {
      "text/plain": [
       "'The database is missing 0 Company names. That is 0.00%'"
      ]
     },
     "metadata": {},
     "output_type": "display_data"
    },
    {
     "data": {
      "text/plain": [
       "'=================================================================================================================='"
      ]
     },
     "metadata": {},
     "output_type": "display_data"
    },
    {
     "data": {
      "text/plain": [
       "'The database is missing 0 Patterns. That is 0.00%'"
      ]
     },
     "metadata": {},
     "output_type": "display_data"
    },
    {
     "data": {
      "text/plain": [
       "'=================================================================================================================='"
      ]
     },
     "metadata": {},
     "output_type": "display_data"
    },
    {
     "data": {
      "text/plain": [
       "'The database is missing 0 Widths. That is 0.00%'"
      ]
     },
     "metadata": {},
     "output_type": "display_data"
    },
    {
     "data": {
      "text/plain": [
       "'=================================================================================================================='"
      ]
     },
     "metadata": {},
     "output_type": "display_data"
    },
    {
     "data": {
      "text/plain": [
       "'The database is missing 2046 Breakout dates. That is 54.27%'"
      ]
     },
     "metadata": {},
     "output_type": "display_data"
    },
    {
     "data": {
      "text/plain": [
       "'=================================================================================================================='"
      ]
     },
     "metadata": {},
     "output_type": "display_data"
    },
    {
     "data": {
      "text/plain": [
       "'The database is missing 0 End dates. That is 0.00%'"
      ]
     },
     "metadata": {},
     "output_type": "display_data"
    }
   ],
   "source": [
    "display(f'The Database has {df.shape[0]} rows and {df.shape[1]} columns.')\n",
    "display('==================================================================================================================')\n",
    "display(f'The Database has the following columns: {list(df.columns)}')\n",
    "display('==================================================================================================================')\n",
    "display(f\"The database is missing {df['Company'].isna().sum()} Company names. That is {((df['Company'].isna().sum() / df.shape[0]) * 100):.2f}%\")\n",
    "display('==================================================================================================================')\n",
    "display(f\"The database is missing {df['Pattern'].isna().sum()} Patterns. That is {((df['Pattern'].isna().sum() / df.shape[0]) * 100):.2f}%\")\n",
    "display('==================================================================================================================')\n",
    "display(f\"The database is missing {df['Width'].isna().sum()} Widths. That is {((df['Width'].isna().sum() / df.shape[0]) * 100):.2f}%\")\n",
    "display('==================================================================================================================')\n",
    "display(f\"The database is missing {df['Breakout Date'].isna().sum()} Breakout dates. That is {((df['Breakout Date'].isna().sum() / df.shape[0]) * 100):.2f}%\")\n",
    "display('==================================================================================================================')\n",
    "display(f\"The database is missing {df['End Date'].isna().sum()} End dates. That is {((df['End Date'].isna().sum() / df.shape[0]) * 100):.2f}%\")"
   ]
  },
  {
   "cell_type": "markdown",
   "id": "18af3295",
   "metadata": {},
   "source": [
    "### Adding a Ticker column"
   ]
  },
  {
   "cell_type": "code",
   "execution_count": 48,
   "id": "d189b3c8",
   "metadata": {},
   "outputs": [
    {
     "data": {
      "text/html": [
       "<div>\n",
       "<style scoped>\n",
       "    .dataframe tbody tr th:only-of-type {\n",
       "        vertical-align: middle;\n",
       "    }\n",
       "\n",
       "    .dataframe tbody tr th {\n",
       "        vertical-align: top;\n",
       "    }\n",
       "\n",
       "    .dataframe thead th {\n",
       "        text-align: right;\n",
       "    }\n",
       "</style>\n",
       "<table border=\"1\" class=\"dataframe\">\n",
       "  <thead>\n",
       "    <tr style=\"text-align: right;\">\n",
       "      <th></th>\n",
       "      <th>Company</th>\n",
       "      <th>Pattern</th>\n",
       "      <th>Width</th>\n",
       "      <th>End Date</th>\n",
       "      <th>Breakout Date</th>\n",
       "      <th>Ticker</th>\n",
       "    </tr>\n",
       "  </thead>\n",
       "  <tbody>\n",
       "    <tr>\n",
       "      <th>0</th>\n",
       "      <td>SANOK (SNK)</td>\n",
       "      <td>H&amp;S top</td>\n",
       "      <td>58</td>\n",
       "      <td>8/15/2023</td>\n",
       "      <td>NaN</td>\n",
       "      <td>SNK</td>\n",
       "    </tr>\n",
       "    <tr>\n",
       "      <th>1</th>\n",
       "      <td>GETIN (GTN)</td>\n",
       "      <td>Vertical run up</td>\n",
       "      <td>13</td>\n",
       "      <td>8/3/2023</td>\n",
       "      <td>NaN</td>\n",
       "      <td>GTN</td>\n",
       "    </tr>\n",
       "    <tr>\n",
       "      <th>2</th>\n",
       "      <td>PEKAO (PEO)</td>\n",
       "      <td>H&amp;S top</td>\n",
       "      <td>47</td>\n",
       "      <td>8/30/2023</td>\n",
       "      <td>NaN</td>\n",
       "      <td>PEO</td>\n",
       "    </tr>\n",
       "  </tbody>\n",
       "</table>\n",
       "</div>"
      ],
      "text/plain": [
       "       Company          Pattern  Width   End Date Breakout Date Ticker\n",
       "0  SANOK (SNK)          H&S top     58  8/15/2023           NaN    SNK\n",
       "1  GETIN (GTN)  Vertical run up     13   8/3/2023           NaN    GTN\n",
       "2  PEKAO (PEO)          H&S top     47  8/30/2023           NaN    PEO"
      ]
     },
     "execution_count": 48,
     "metadata": {},
     "output_type": "execute_result"
    }
   ],
   "source": [
    "ticker_with_parentheses = df['Company'].str.extract(r'(?<=\\()(\\w+)(?=\\))')\n",
    "ticker_without_parentheses = df['Company'].str.extract(r'^(\\w+)$')\n",
    "\n",
    "df['Ticker'] = ticker_with_parentheses.fillna(ticker_without_parentheses)\n",
    "df.head(3)"
   ]
  },
  {
   "cell_type": "markdown",
   "id": "4aa9cc13",
   "metadata": {},
   "source": [
    "### Add API Start Date and API End Date column"
   ]
  },
  {
   "cell_type": "code",
   "execution_count": 49,
   "id": "89f7043d",
   "metadata": {},
   "outputs": [
    {
     "data": {
      "text/html": [
       "<div>\n",
       "<style scoped>\n",
       "    .dataframe tbody tr th:only-of-type {\n",
       "        vertical-align: middle;\n",
       "    }\n",
       "\n",
       "    .dataframe tbody tr th {\n",
       "        vertical-align: top;\n",
       "    }\n",
       "\n",
       "    .dataframe thead th {\n",
       "        text-align: right;\n",
       "    }\n",
       "</style>\n",
       "<table border=\"1\" class=\"dataframe\">\n",
       "  <thead>\n",
       "    <tr style=\"text-align: right;\">\n",
       "      <th></th>\n",
       "      <th>Company</th>\n",
       "      <th>Pattern</th>\n",
       "      <th>Width</th>\n",
       "      <th>End Date</th>\n",
       "      <th>Breakout Date</th>\n",
       "      <th>Ticker</th>\n",
       "      <th>API End Date</th>\n",
       "      <th>API Start Date</th>\n",
       "    </tr>\n",
       "  </thead>\n",
       "  <tbody>\n",
       "    <tr>\n",
       "      <th>0</th>\n",
       "      <td>SANOK (SNK)</td>\n",
       "      <td>H&amp;S top</td>\n",
       "      <td>58</td>\n",
       "      <td>2023-08-15</td>\n",
       "      <td>NaN</td>\n",
       "      <td>SNK</td>\n",
       "      <td>2024-02-05</td>\n",
       "      <td>2022-12-26</td>\n",
       "    </tr>\n",
       "    <tr>\n",
       "      <th>1</th>\n",
       "      <td>GETIN (GTN)</td>\n",
       "      <td>Vertical run up</td>\n",
       "      <td>13</td>\n",
       "      <td>2023-08-03</td>\n",
       "      <td>NaN</td>\n",
       "      <td>GTN</td>\n",
       "      <td>2023-09-11</td>\n",
       "      <td>2023-06-12</td>\n",
       "    </tr>\n",
       "    <tr>\n",
       "      <th>2</th>\n",
       "      <td>PEKAO (PEO)</td>\n",
       "      <td>H&amp;S top</td>\n",
       "      <td>47</td>\n",
       "      <td>2023-08-30</td>\n",
       "      <td>NaN</td>\n",
       "      <td>PEO</td>\n",
       "      <td>2024-01-18</td>\n",
       "      <td>2023-02-23</td>\n",
       "    </tr>\n",
       "  </tbody>\n",
       "</table>\n",
       "</div>"
      ],
      "text/plain": [
       "       Company          Pattern  Width   End Date Breakout Date Ticker  \\\n",
       "0  SANOK (SNK)          H&S top     58 2023-08-15           NaN    SNK   \n",
       "1  GETIN (GTN)  Vertical run up     13 2023-08-03           NaN    GTN   \n",
       "2  PEKAO (PEO)          H&S top     47 2023-08-30           NaN    PEO   \n",
       "\n",
       "  API End Date API Start Date  \n",
       "0   2024-02-05     2022-12-26  \n",
       "1   2023-09-11     2023-06-12  \n",
       "2   2024-01-18     2023-02-23  "
      ]
     },
     "execution_count": 49,
     "metadata": {},
     "output_type": "execute_result"
    }
   ],
   "source": [
    "df['End Date'] = pd.to_datetime(df['End Date'])\n",
    "\n",
    "df['API End Date'] = df.apply(lambda row: row['End Date'] + pd.DateOffset(days=row['Width'] * 3), axis=1)\n",
    "df['API Start Date'] = df.apply(lambda row: row['End Date'] - pd.DateOffset(days=row['Width'] * 4), axis=1)\n",
    "\n",
    "\n",
    "df.head(3)"
   ]
  },
  {
   "cell_type": "code",
   "execution_count": 50,
   "id": "09aa97ac",
   "metadata": {},
   "outputs": [],
   "source": [
    "df['API End Date'] = pd.to_datetime(df['API End Date'])\n",
    "df['API Start Date'] = pd.to_datetime(df['API Start Date'])"
   ]
  },
  {
   "cell_type": "markdown",
   "id": "1894a4ee",
   "metadata": {},
   "source": [
    "## Using EOD HD API to retrieve stock information"
   ]
  },
  {
   "cell_type": "raw",
   "id": "9bf3e44f",
   "metadata": {},
   "source": [
    "eod_api = '64ef583e9a7137.71172021'\n",
    "eod_base = 'https://eodhistoricaldata.com/api/eod/'\n",
    "exchange = 'WAR'\n",
    "\n",
    "def time_to_string(date):\n",
    "    return date.strftime('%Y-%m-%d')\n",
    "\n",
    "\n",
    "for index, row in df.iterrows():\n",
    "    symbol = row['Ticker']\n",
    "    from_date = time_to_string(row['API Start Date'])\n",
    "    to_date = time_to_string(row['API End Date'])\n",
    "\n",
    "    url = f'{eod_base}{symbol}.{exchange}?'\n",
    "\n",
    "    params = {\n",
    "        'api_token': eod_api,\n",
    "        'period': 'd',\n",
    "        'from': from_date,\n",
    "        'to': to_date\n",
    "    }\n",
    "\n",
    "    response = requests.get(url, params=params)\n",
    "\n",
    "    if response.status_code == 200:\n",
    "        csv_content = response.text\n",
    "\n",
    "        sub_df = pd.read_csv(StringIO(csv_content))\n",
    "\n",
    "        pattern = row['Pattern'].replace(\" \", \"_\").lower()\n",
    "        dataframe_name = f\"{index}_{symbol}_{pattern}.csv\"\n",
    "\n",
    "        \n",
    "        sub_df.to_csv(dataframe_name, index=False)\n",
    "        print(f\"Saved DataFrame '{dataframe_name}'\")\n",
    "    else:\n",
    "        print(f\"API request for index {index} was not successful.\")"
   ]
  },
  {
   "cell_type": "markdown",
   "id": "5da5b61e",
   "metadata": {},
   "source": [
    "## Inspecting New Data"
   ]
  },
  {
   "cell_type": "markdown",
   "id": "aa594c8f",
   "metadata": {},
   "source": [
    "### Add 'Have data' column"
   ]
  },
  {
   "cell_type": "code",
   "execution_count": 51,
   "id": "e068e38a",
   "metadata": {},
   "outputs": [
    {
     "data": {
      "text/html": [
       "<div>\n",
       "<style scoped>\n",
       "    .dataframe tbody tr th:only-of-type {\n",
       "        vertical-align: middle;\n",
       "    }\n",
       "\n",
       "    .dataframe tbody tr th {\n",
       "        vertical-align: top;\n",
       "    }\n",
       "\n",
       "    .dataframe thead th {\n",
       "        text-align: right;\n",
       "    }\n",
       "</style>\n",
       "<table border=\"1\" class=\"dataframe\">\n",
       "  <thead>\n",
       "    <tr style=\"text-align: right;\">\n",
       "      <th></th>\n",
       "      <th>Company</th>\n",
       "      <th>Pattern</th>\n",
       "      <th>Width</th>\n",
       "      <th>End Date</th>\n",
       "      <th>Breakout Date</th>\n",
       "      <th>Ticker</th>\n",
       "      <th>API End Date</th>\n",
       "      <th>API Start Date</th>\n",
       "      <th>Have data</th>\n",
       "    </tr>\n",
       "  </thead>\n",
       "  <tbody>\n",
       "    <tr>\n",
       "      <th>0</th>\n",
       "      <td>SANOK (SNK)</td>\n",
       "      <td>H&amp;S top</td>\n",
       "      <td>58</td>\n",
       "      <td>2023-08-15</td>\n",
       "      <td>NaN</td>\n",
       "      <td>SNK</td>\n",
       "      <td>2024-02-05</td>\n",
       "      <td>2022-12-26</td>\n",
       "      <td>True</td>\n",
       "    </tr>\n",
       "    <tr>\n",
       "      <th>1</th>\n",
       "      <td>GETIN (GTN)</td>\n",
       "      <td>Vertical run up</td>\n",
       "      <td>13</td>\n",
       "      <td>2023-08-03</td>\n",
       "      <td>NaN</td>\n",
       "      <td>GTN</td>\n",
       "      <td>2023-09-11</td>\n",
       "      <td>2023-06-12</td>\n",
       "      <td>True</td>\n",
       "    </tr>\n",
       "    <tr>\n",
       "      <th>2</th>\n",
       "      <td>PEKAO (PEO)</td>\n",
       "      <td>H&amp;S top</td>\n",
       "      <td>47</td>\n",
       "      <td>2023-08-30</td>\n",
       "      <td>NaN</td>\n",
       "      <td>PEO</td>\n",
       "      <td>2024-01-18</td>\n",
       "      <td>2023-02-23</td>\n",
       "      <td>True</td>\n",
       "    </tr>\n",
       "  </tbody>\n",
       "</table>\n",
       "</div>"
      ],
      "text/plain": [
       "       Company          Pattern  Width   End Date Breakout Date Ticker  \\\n",
       "0  SANOK (SNK)          H&S top     58 2023-08-15           NaN    SNK   \n",
       "1  GETIN (GTN)  Vertical run up     13 2023-08-03           NaN    GTN   \n",
       "2  PEKAO (PEO)          H&S top     47 2023-08-30           NaN    PEO   \n",
       "\n",
       "  API End Date API Start Date Have data  \n",
       "0   2024-02-05     2022-12-26      True  \n",
       "1   2023-09-11     2023-06-12      True  \n",
       "2   2024-01-18     2023-02-23      True  "
      ]
     },
     "execution_count": 51,
     "metadata": {},
     "output_type": "execute_result"
    }
   ],
   "source": [
    "folder_name = 'data/patterns'\n",
    "\n",
    "for index, row in df.iterrows():\n",
    "    ticker = row.Ticker\n",
    "    id_num = index\n",
    "    pattern = '_'.join(word.lower() for word in row.Pattern.split())\n",
    "    \n",
    "    f_name = f'{index}_{ticker}_{pattern}.csv'\n",
    "    f_path = os.path.join(folder_name, f_name)\n",
    "    \n",
    "    if os.path.exists(f_path):\n",
    "        df.at[index, 'Have data'] = True\n",
    "    else:\n",
    "        df.at[index, 'Have data'] = False\n",
    "        \n",
    "df.head(3)"
   ]
  },
  {
   "cell_type": "markdown",
   "id": "a66cb283",
   "metadata": {},
   "source": [
    "### Missing data"
   ]
  },
  {
   "cell_type": "code",
   "execution_count": 52,
   "id": "e15b811a",
   "metadata": {},
   "outputs": [
    {
     "data": {
      "text/plain": [
       "Have data\n",
       "False    778\n",
       "Name: count, dtype: int64"
      ]
     },
     "execution_count": 52,
     "metadata": {},
     "output_type": "execute_result"
    }
   ],
   "source": [
    "missing_data['Have data'].value_counts()"
   ]
  },
  {
   "cell_type": "code",
   "execution_count": 60,
   "id": "01c012c9",
   "metadata": {
    "scrolled": false
   },
   "outputs": [
    {
     "data": {
      "text/plain": [
       "'There are 778 rows of missing data'"
      ]
     },
     "metadata": {},
     "output_type": "display_data"
    },
    {
     "data": {
      "text/plain": [
       "'There are 2992 completed DataFrames.'"
      ]
     },
     "metadata": {},
     "output_type": "display_data"
    },
    {
     "data": {
      "text/html": [
       "<div>\n",
       "<style scoped>\n",
       "    .dataframe tbody tr th:only-of-type {\n",
       "        vertical-align: middle;\n",
       "    }\n",
       "\n",
       "    .dataframe tbody tr th {\n",
       "        vertical-align: top;\n",
       "    }\n",
       "\n",
       "    .dataframe thead th {\n",
       "        text-align: right;\n",
       "    }\n",
       "</style>\n",
       "<table border=\"1\" class=\"dataframe\">\n",
       "  <thead>\n",
       "    <tr style=\"text-align: right;\">\n",
       "      <th></th>\n",
       "      <th>Company</th>\n",
       "      <th>Pattern</th>\n",
       "      <th>Width</th>\n",
       "      <th>End Date</th>\n",
       "      <th>Breakout Date</th>\n",
       "      <th>Ticker</th>\n",
       "      <th>API End Date</th>\n",
       "      <th>API Start Date</th>\n",
       "      <th>Have data</th>\n",
       "    </tr>\n",
       "  </thead>\n",
       "  <tbody>\n",
       "    <tr>\n",
       "      <th>12</th>\n",
       "      <td>WIG-CHEMIA</td>\n",
       "      <td>Double bottom</td>\n",
       "      <td>60</td>\n",
       "      <td>2023-08-28</td>\n",
       "      <td>NaN</td>\n",
       "      <td>NaN</td>\n",
       "      <td>2024-02-24</td>\n",
       "      <td>2022-12-31</td>\n",
       "      <td>False</td>\n",
       "    </tr>\n",
       "    <tr>\n",
       "      <th>24</th>\n",
       "      <td>WIG-NRCHOM</td>\n",
       "      <td>Double top</td>\n",
       "      <td>11</td>\n",
       "      <td>2023-08-02</td>\n",
       "      <td>NaN</td>\n",
       "      <td>NaN</td>\n",
       "      <td>2023-09-04</td>\n",
       "      <td>2023-06-19</td>\n",
       "      <td>False</td>\n",
       "    </tr>\n",
       "    <tr>\n",
       "      <th>29</th>\n",
       "      <td>WIG-ENERG</td>\n",
       "      <td>H&amp;S top</td>\n",
       "      <td>10</td>\n",
       "      <td>2023-08-30</td>\n",
       "      <td>NaN</td>\n",
       "      <td>NaN</td>\n",
       "      <td>2023-09-29</td>\n",
       "      <td>2023-07-21</td>\n",
       "      <td>False</td>\n",
       "    </tr>\n",
       "    <tr>\n",
       "      <th>34</th>\n",
       "      <td>WIG30</td>\n",
       "      <td>Flag</td>\n",
       "      <td>25</td>\n",
       "      <td>2023-08-11</td>\n",
       "      <td>NaN</td>\n",
       "      <td>WIG30</td>\n",
       "      <td>2023-10-25</td>\n",
       "      <td>2023-05-03</td>\n",
       "      <td>False</td>\n",
       "    </tr>\n",
       "    <tr>\n",
       "      <th>44</th>\n",
       "      <td>WIG-POLAND</td>\n",
       "      <td>Flag</td>\n",
       "      <td>25</td>\n",
       "      <td>2023-08-11</td>\n",
       "      <td>NaN</td>\n",
       "      <td>NaN</td>\n",
       "      <td>2023-10-25</td>\n",
       "      <td>2023-05-03</td>\n",
       "      <td>False</td>\n",
       "    </tr>\n",
       "  </tbody>\n",
       "</table>\n",
       "</div>"
      ],
      "text/plain": [
       "       Company        Pattern  Width   End Date Breakout Date Ticker  \\\n",
       "12  WIG-CHEMIA  Double bottom     60 2023-08-28           NaN    NaN   \n",
       "24  WIG-NRCHOM     Double top     11 2023-08-02           NaN    NaN   \n",
       "29   WIG-ENERG        H&S top     10 2023-08-30           NaN    NaN   \n",
       "34       WIG30           Flag     25 2023-08-11           NaN  WIG30   \n",
       "44  WIG-POLAND           Flag     25 2023-08-11           NaN    NaN   \n",
       "\n",
       "   API End Date API Start Date Have data  \n",
       "12   2024-02-24     2022-12-31     False  \n",
       "24   2023-09-04     2023-06-19     False  \n",
       "29   2023-09-29     2023-07-21     False  \n",
       "34   2023-10-25     2023-05-03     False  \n",
       "44   2023-10-25     2023-05-03     False  "
      ]
     },
     "metadata": {},
     "output_type": "display_data"
    },
    {
     "data": {
      "text/plain": [
       "Ticker\n",
       "WIGDIV        42\n",
       "MWIG40        39\n",
       "SWIG80        38\n",
       "WIGTECH       37\n",
       "WIG30         36\n",
       "WIG           36\n",
       "WIG20         35\n",
       "FW20          30\n",
       "WIG20SHORT    29\n",
       "Name: count, dtype: int64"
      ]
     },
     "metadata": {},
     "output_type": "display_data"
    }
   ],
   "source": [
    "missing_data = df[df['Have data'] == False]\n",
    "display(f'There are {missing_data.shape[0]} rows of missing data')\n",
    "display(f'There are {df.shape[0] - missing_data.shape[0]} completed DataFrames.')\n",
    "display(missing_data.head())\n",
    "display(missing_data['Ticker'].value_counts())"
   ]
  },
  {
   "cell_type": "raw",
   "id": "5d8a2e14",
   "metadata": {},
   "source": [
    "eod_api = '64ef583e9a7137.71172021'\n",
    "exchange_code = 'INDX'\n",
    "exchange_base_url = f'https://eodhistoricaldata.com/api/exchange-symbol-list/{exchange_code}'\n",
    "\n",
    "params_2 = {\n",
    "    \"api_token\": eod_api\n",
    "}\n",
    "\n",
    "response = requests.get(exchange_base_url, params=params)\n",
    "csv_content = response.text\n",
    "exchange_df = pd.read_csv(StringIO(csv_content))"
   ]
  },
  {
   "cell_type": "raw",
   "id": "bdcd19a7",
   "metadata": {},
   "source": [
    "polish_i = exchange_df['Country'] == 'Poland'\n",
    "polish_rows = exchange_df[polish_i]\n",
    "polish_rows"
   ]
  },
  {
   "cell_type": "raw",
   "id": "dec6b640",
   "metadata": {},
   "source": [
    "eod_api = '64ef583e9a7137.71172021'\n",
    "eod_base = 'https://eodhistoricaldata.com/api/eod/'\n",
    "exchange = 'INDX'\n",
    "\n",
    "def time_to_string(date):\n",
    "    return date.strftime('%Y-%m-%d')\n",
    "\n",
    "\n",
    "for index, row in df.iterrows():\n",
    "    if row['Have data'] == False:\n",
    "        symbol = row['Ticker']\n",
    "        from_date = time_to_string(row['API Start Date'])\n",
    "        to_date = time_to_string(row['API End Date'])\n",
    "\n",
    "        url = f'{eod_base}{symbol}.{exchange}?'\n",
    "\n",
    "        params = {\n",
    "            'api_token': eod_api,\n",
    "            'period': 'd',\n",
    "            'from': from_date,\n",
    "            'to': to_date\n",
    "        }\n",
    "\n",
    "        response = requests.get(url, params=params)\n",
    "\n",
    "        if response.status_code == 200:\n",
    "            csv_content = response.text\n",
    "\n",
    "            sub_df = pd.read_csv(StringIO(csv_content))\n",
    "\n",
    "            pattern = row['Pattern'].replace(\" \", \"_\").lower()\n",
    "            dataframe_name = f\"{index}_{symbol}_{pattern}.csv\"\n",
    "\n",
    "\n",
    "            sub_df.to_csv(dataframe_name, index=False)\n",
    "            print(f\"Saved DataFrame '{dataframe_name}'\")\n",
    "        else:\n",
    "            print(f\"API request for index {index} was not successful.\")"
   ]
  },
  {
   "cell_type": "code",
   "execution_count": 102,
   "id": "fce77cb3",
   "metadata": {},
   "outputs": [
    {
     "data": {
      "text/html": [
       "<div>\n",
       "<style scoped>\n",
       "    .dataframe tbody tr th:only-of-type {\n",
       "        vertical-align: middle;\n",
       "    }\n",
       "\n",
       "    .dataframe tbody tr th {\n",
       "        vertical-align: top;\n",
       "    }\n",
       "\n",
       "    .dataframe thead th {\n",
       "        text-align: right;\n",
       "    }\n",
       "</style>\n",
       "<table border=\"1\" class=\"dataframe\">\n",
       "  <thead>\n",
       "    <tr style=\"text-align: right;\">\n",
       "      <th></th>\n",
       "      <th>Company</th>\n",
       "      <th>Pattern</th>\n",
       "      <th>Width</th>\n",
       "      <th>End Date</th>\n",
       "      <th>Breakout Date</th>\n",
       "      <th>Ticker</th>\n",
       "      <th>API End Date</th>\n",
       "      <th>API Start Date</th>\n",
       "      <th>Have data</th>\n",
       "    </tr>\n",
       "  </thead>\n",
       "  <tbody>\n",
       "    <tr>\n",
       "      <th>0</th>\n",
       "      <td>SANOK (SNK)</td>\n",
       "      <td>H&amp;S top</td>\n",
       "      <td>58</td>\n",
       "      <td>2023-08-15</td>\n",
       "      <td>NaN</td>\n",
       "      <td>SNK</td>\n",
       "      <td>2024-02-05</td>\n",
       "      <td>2022-12-26</td>\n",
       "      <td>True</td>\n",
       "    </tr>\n",
       "    <tr>\n",
       "      <th>1</th>\n",
       "      <td>GETIN (GTN)</td>\n",
       "      <td>Vertical run up</td>\n",
       "      <td>13</td>\n",
       "      <td>2023-08-03</td>\n",
       "      <td>NaN</td>\n",
       "      <td>GTN</td>\n",
       "      <td>2023-09-11</td>\n",
       "      <td>2023-06-12</td>\n",
       "      <td>True</td>\n",
       "    </tr>\n",
       "    <tr>\n",
       "      <th>2</th>\n",
       "      <td>PEKAO (PEO)</td>\n",
       "      <td>H&amp;S top</td>\n",
       "      <td>47</td>\n",
       "      <td>2023-08-30</td>\n",
       "      <td>NaN</td>\n",
       "      <td>PEO</td>\n",
       "      <td>2024-01-18</td>\n",
       "      <td>2023-02-23</td>\n",
       "      <td>True</td>\n",
       "    </tr>\n",
       "  </tbody>\n",
       "</table>\n",
       "</div>"
      ],
      "text/plain": [
       "       Company          Pattern  Width   End Date Breakout Date Ticker  \\\n",
       "0  SANOK (SNK)          H&S top     58 2023-08-15           NaN    SNK   \n",
       "1  GETIN (GTN)  Vertical run up     13 2023-08-03           NaN    GTN   \n",
       "2  PEKAO (PEO)          H&S top     47 2023-08-30           NaN    PEO   \n",
       "\n",
       "  API End Date API Start Date Have data  \n",
       "0   2024-02-05     2022-12-26      True  \n",
       "1   2023-09-11     2023-06-12      True  \n",
       "2   2024-01-18     2023-02-23      True  "
      ]
     },
     "execution_count": 102,
     "metadata": {},
     "output_type": "execute_result"
    }
   ],
   "source": [
    "for index, row in df.iterrows():\n",
    "    ticker = row.Ticker\n",
    "    id_num = index\n",
    "    pattern = '_'.join(word.lower() for word in row.Pattern.split())\n",
    "    folder_name = f'data/patterns/{pattern}'\n",
    "    \n",
    "    f_name = f'{index}_{ticker}_{pattern}.csv'\n",
    "    f_path = os.path.join(folder_name, f_name)\n",
    "    \n",
    "    if os.path.exists(f_path):\n",
    "        df.at[index, 'Have data'] = True\n",
    "    else:\n",
    "        df.at[index, 'Have data'] = False\n",
    "        \n",
    "df.head(3)"
   ]
  },
  {
   "cell_type": "code",
   "execution_count": 103,
   "id": "3ebb0222",
   "metadata": {},
   "outputs": [
    {
     "data": {
      "text/plain": [
       "'There are 631 rows of missing data'"
      ]
     },
     "metadata": {},
     "output_type": "display_data"
    },
    {
     "data": {
      "text/plain": [
       "'There are 3139 completed DataFrames.'"
      ]
     },
     "metadata": {},
     "output_type": "display_data"
    },
    {
     "data": {
      "text/html": [
       "<div>\n",
       "<style scoped>\n",
       "    .dataframe tbody tr th:only-of-type {\n",
       "        vertical-align: middle;\n",
       "    }\n",
       "\n",
       "    .dataframe tbody tr th {\n",
       "        vertical-align: top;\n",
       "    }\n",
       "\n",
       "    .dataframe thead th {\n",
       "        text-align: right;\n",
       "    }\n",
       "</style>\n",
       "<table border=\"1\" class=\"dataframe\">\n",
       "  <thead>\n",
       "    <tr style=\"text-align: right;\">\n",
       "      <th></th>\n",
       "      <th>Company</th>\n",
       "      <th>Pattern</th>\n",
       "      <th>Width</th>\n",
       "      <th>End Date</th>\n",
       "      <th>Breakout Date</th>\n",
       "      <th>Ticker</th>\n",
       "      <th>API End Date</th>\n",
       "      <th>API Start Date</th>\n",
       "      <th>Have data</th>\n",
       "    </tr>\n",
       "  </thead>\n",
       "  <tbody>\n",
       "    <tr>\n",
       "      <th>12</th>\n",
       "      <td>WIG-CHEMIA</td>\n",
       "      <td>Double bottom</td>\n",
       "      <td>60</td>\n",
       "      <td>2023-08-28</td>\n",
       "      <td>NaN</td>\n",
       "      <td>NaN</td>\n",
       "      <td>2024-02-24</td>\n",
       "      <td>2022-12-31</td>\n",
       "      <td>False</td>\n",
       "    </tr>\n",
       "    <tr>\n",
       "      <th>24</th>\n",
       "      <td>WIG-NRCHOM</td>\n",
       "      <td>Double top</td>\n",
       "      <td>11</td>\n",
       "      <td>2023-08-02</td>\n",
       "      <td>NaN</td>\n",
       "      <td>NaN</td>\n",
       "      <td>2023-09-04</td>\n",
       "      <td>2023-06-19</td>\n",
       "      <td>False</td>\n",
       "    </tr>\n",
       "    <tr>\n",
       "      <th>29</th>\n",
       "      <td>WIG-ENERG</td>\n",
       "      <td>H&amp;S top</td>\n",
       "      <td>10</td>\n",
       "      <td>2023-08-30</td>\n",
       "      <td>NaN</td>\n",
       "      <td>NaN</td>\n",
       "      <td>2023-09-29</td>\n",
       "      <td>2023-07-21</td>\n",
       "      <td>False</td>\n",
       "    </tr>\n",
       "    <tr>\n",
       "      <th>44</th>\n",
       "      <td>WIG-POLAND</td>\n",
       "      <td>Flag</td>\n",
       "      <td>25</td>\n",
       "      <td>2023-08-11</td>\n",
       "      <td>NaN</td>\n",
       "      <td>NaN</td>\n",
       "      <td>2023-10-25</td>\n",
       "      <td>2023-05-03</td>\n",
       "      <td>False</td>\n",
       "    </tr>\n",
       "    <tr>\n",
       "      <th>48</th>\n",
       "      <td>WIG-NRCHOM</td>\n",
       "      <td>Pennant</td>\n",
       "      <td>38</td>\n",
       "      <td>2023-08-22</td>\n",
       "      <td>NaN</td>\n",
       "      <td>NaN</td>\n",
       "      <td>2023-12-14</td>\n",
       "      <td>2023-03-23</td>\n",
       "      <td>False</td>\n",
       "    </tr>\n",
       "  </tbody>\n",
       "</table>\n",
       "</div>"
      ],
      "text/plain": [
       "       Company        Pattern  Width   End Date Breakout Date Ticker  \\\n",
       "12  WIG-CHEMIA  Double bottom     60 2023-08-28           NaN    NaN   \n",
       "24  WIG-NRCHOM     Double top     11 2023-08-02           NaN    NaN   \n",
       "29   WIG-ENERG        H&S top     10 2023-08-30           NaN    NaN   \n",
       "44  WIG-POLAND           Flag     25 2023-08-11           NaN    NaN   \n",
       "48  WIG-NRCHOM        Pennant     38 2023-08-22           NaN    NaN   \n",
       "\n",
       "   API End Date API Start Date Have data  \n",
       "12   2024-02-24     2022-12-31     False  \n",
       "24   2023-09-04     2023-06-19     False  \n",
       "29   2023-09-29     2023-07-21     False  \n",
       "44   2023-10-25     2023-05-03     False  \n",
       "48   2023-12-14     2023-03-23     False  "
      ]
     },
     "metadata": {},
     "output_type": "display_data"
    },
    {
     "data": {
      "text/plain": [
       "Ticker\n",
       "WIGDIV        42\n",
       "MWIG40        39\n",
       "WIG20         35\n",
       "FW20          30\n",
       "WIG20SHORT    29\n",
       "Name: count, dtype: int64"
      ]
     },
     "metadata": {},
     "output_type": "display_data"
    }
   ],
   "source": [
    "missing_data = df[df['Have data'] == False]\n",
    "display(f'There are {missing_data.shape[0]} rows of missing data')\n",
    "display(f'There are {df.shape[0] - missing_data.shape[0]} completed DataFrames.')\n",
    "display(missing_data.head())\n",
    "display(missing_data['Ticker'].value_counts())"
   ]
  },
  {
   "cell_type": "code",
   "execution_count": null,
   "id": "66f0e68d",
   "metadata": {},
   "outputs": [],
   "source": []
  }
 ],
 "metadata": {
  "kernelspec": {
   "display_name": "Python 3 (ipykernel)",
   "language": "python",
   "name": "python3"
  },
  "language_info": {
   "codemirror_mode": {
    "name": "ipython",
    "version": 3
   },
   "file_extension": ".py",
   "mimetype": "text/x-python",
   "name": "python",
   "nbconvert_exporter": "python",
   "pygments_lexer": "ipython3",
   "version": "3.10.6"
  },
  "toc": {
   "base_numbering": 1,
   "nav_menu": {},
   "number_sections": true,
   "sideBar": true,
   "skip_h1_title": false,
   "title_cell": "Table of Contents",
   "title_sidebar": "Contents",
   "toc_cell": false,
   "toc_position": {},
   "toc_section_display": true,
   "toc_window_display": false
  }
 },
 "nbformat": 4,
 "nbformat_minor": 5
}
