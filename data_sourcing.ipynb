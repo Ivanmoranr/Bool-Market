{
 "cells": [
  {
   "cell_type": "markdown",
   "id": "4ba29607",
   "metadata": {},
   "source": [
    "# Data Sourcing"
   ]
  },
  {
   "cell_type": "markdown",
   "id": "939b1346",
   "metadata": {},
   "source": [
    "## Imports"
   ]
  },
  {
   "cell_type": "code",
   "execution_count": 39,
   "id": "0e7fe03d",
   "metadata": {},
   "outputs": [],
   "source": [
    "from datetime import datetime\n",
    "import os\n",
    "import pandas as pd\n",
    "import requests\n",
    "from io import StringIO\n",
    "import time\n",
    "\n",
    "import plotly.graph_objects as go\n",
    "\n",
    "from selenium import webdriver\n",
    "from selenium.webdriver.common.by import By\n",
    "from selenium.webdriver.support import expected_conditions\n",
    "from selenium.webdriver.support.ui import WebDriverWait"
   ]
  },
  {
   "cell_type": "markdown",
   "id": "7146b1e6",
   "metadata": {},
   "source": [
    "## Web Scraping with Selenium"
   ]
  },
  {
   "cell_type": "markdown",
   "id": "9a3c8929",
   "metadata": {},
   "source": [
    "To conduct pattern analysis, the first thing to acquire is graphs that show patterns.\n",
    "\n",
    "In order to do this, we will use Selenium to scrape the Atmatix website (www.atmatix.pl)"
   ]
  },
  {
   "cell_type": "markdown",
   "id": "49a2f5ae",
   "metadata": {},
   "source": [
    "### Functions"
   ]
  },
  {
   "cell_type": "raw",
   "id": "c6adaab0",
   "metadata": {},
   "source": [
    "def start_maximise(url):\n",
    "    \"\"\"Starts driver and maximises the window\"\"\"\n",
    "    driver.get(url)\n",
    "    driver.maximize_window()\n",
    "    time.sleep(10)\n",
    "\n",
    "def login():\n",
    "    \"\"\"Logs in using email and password\"\"\"\n",
    "    wait = WebDriverWait(driver, 10)\n",
    "    login_btn = wait.until(\n",
    "        expected_conditions.visibility_of_element_located((By.XPATH, \"//a[contains(text(), 'Log in')]\")))\n",
    "    login_btn.click()\n",
    "\n",
    "    time.sleep(10)\n",
    "\n",
    "    email_entry = wait.until(\n",
    "        expected_conditions.visibility_of_element_located(\n",
    "            (By.XPATH, \"/html/body/div[2]/div/div[1]/div/div/div[2]/form/fieldset/div[1]/div/input\")))\n",
    "    email_entry.send_keys(**************)\n",
    "\n",
    "    pass_entry = wait.until(\n",
    "        expected_conditions.visibility_of_element_located(\n",
    "            (By.XPATH, \"/html/body/div[2]/div/div[1]/div/div/div[2]/form/fieldset/div[2]/div/input\")))\n",
    "    pass_entry.send_keys(***********)\n",
    "\n",
    "    log_btn = wait.until(\n",
    "        expected_conditions.visibility_of_element_located(\n",
    "            (By.XPATH, \"/html/body/div[2]/div/div[1]/div/div/div[2]/form/fieldset/div[4]/button\")))\n",
    "    log_btn.click()\n",
    "\n",
    "    time.sleep(10)\n",
    "\n",
    "def page_info():\n",
    "    \"\"\"Extracts all information from the tabular page\"\"\"\n",
    "    page_table_rows = driver.find_elements(By.XPATH, \"//table//tr\")\n",
    "    for row in page_table_rows:\n",
    "        td_elements = row.find_elements(By.TAG_NAME, \"td\")\n",
    "        if len(td_elements) >= 10:\n",
    "            children_to_extract = [2, 3, 4, 6, 9]\n",
    "            extracted_children = [td_elements[i].text for i in children_to_extract]\n",
    "            info.append(extracted_children)\n",
    "\n",
    "def next_page():\n",
    "    \"\"\"Navigates to the next page\"\"\"\n",
    "    wait = WebDriverWait(driver, 10)\n",
    "    next_page_btn = wait.until(\n",
    "        expected_conditions.visibility_of_element_located((By.XPATH, \"//a[contains(text(), 'Next')]\")))\n",
    "    driver.execute_script(\"arguments[0].scrollIntoView();\", next_page_btn)\n",
    "    next_page_btn.click()"
   ]
  },
  {
   "cell_type": "raw",
   "id": "e0ce8b18",
   "metadata": {},
   "source": [
    "URL = 'https://www.atmatix.pl/en/stats'\n",
    "driver = webdriver.Chrome()"
   ]
  },
  {
   "cell_type": "markdown",
   "id": "c09ffdda",
   "metadata": {},
   "source": [
    "### Run scraping"
   ]
  },
  {
   "cell_type": "raw",
   "id": "d843d3dc",
   "metadata": {},
   "source": [
    "info = []\n",
    "\n",
    "start_maximise(URL)\n",
    "login()\n",
    "for num in range(377):\n",
    "   page_info()\n",
    "   next_page()\n",
    "   time.sleep(5)"
   ]
  },
  {
   "cell_type": "markdown",
   "id": "0d856bd7",
   "metadata": {},
   "source": [
    "### Create a DataFrame from scraped data"
   ]
  },
  {
   "cell_type": "raw",
   "id": "4631b813",
   "metadata": {},
   "source": [
    "columns = ['Company', 'Pattern', 'Width', 'End Date', 'Breakout Date']\n",
    "\n",
    "data_to_add = []\n",
    "\n",
    "for row in info:\n",
    "    company = row[0]\n",
    "    pattern = row[1]\n",
    "    width = row[2]\n",
    "    end_date = row[3]\n",
    "    breakout_date = row[4]\n",
    "\n",
    "    data_to_add.append({\n",
    "        'Company': company,\n",
    "        'Pattern': pattern,\n",
    "        'Width': width,\n",
    "        'End Date': end_date,\n",
    "        'Breakout Date': breakout_date\n",
    "    })\n",
    "\n",
    "df = pd.DataFrame(data_to_add, columns=columns)"
   ]
  },
  {
   "cell_type": "markdown",
   "id": "1a4db218",
   "metadata": {},
   "source": [
    "### Save DF"
   ]
  },
  {
   "cell_type": "raw",
   "id": "7638e58d",
   "metadata": {},
   "source": [
    "df.to_csv('data/patterns.csv', index=False)"
   ]
  },
  {
   "cell_type": "markdown",
   "id": "781c8454",
   "metadata": {},
   "source": [
    "## DataFrame "
   ]
  },
  {
   "cell_type": "markdown",
   "id": "649ce424",
   "metadata": {},
   "source": [
    "From this cell on, all work is complete in the Notebook"
   ]
  },
  {
   "cell_type": "markdown",
   "id": "1b4eeff7",
   "metadata": {},
   "source": [
    "### Load Dataframe"
   ]
  },
  {
   "cell_type": "code",
   "execution_count": 2,
   "id": "64a4cf36",
   "metadata": {},
   "outputs": [],
   "source": [
    "df = pd.read_csv('data/patterns.csv')"
   ]
  },
  {
   "cell_type": "markdown",
   "id": "281600a8",
   "metadata": {},
   "source": [
    "### Inspecting Dataframe"
   ]
  },
  {
   "cell_type": "code",
   "execution_count": 3,
   "id": "df653f47",
   "metadata": {},
   "outputs": [
    {
     "data": {
      "text/plain": [
       "'The Database has 3770 rows and 5 columns.'"
      ]
     },
     "metadata": {},
     "output_type": "display_data"
    },
    {
     "data": {
      "text/plain": [
       "'=================================================================================================================='"
      ]
     },
     "metadata": {},
     "output_type": "display_data"
    },
    {
     "data": {
      "text/plain": [
       "\"The Database has the following columns: ['Company', 'Pattern', 'Width', 'End Date', 'Breakout Date']\""
      ]
     },
     "metadata": {},
     "output_type": "display_data"
    },
    {
     "data": {
      "text/plain": [
       "'=================================================================================================================='"
      ]
     },
     "metadata": {},
     "output_type": "display_data"
    },
    {
     "data": {
      "text/plain": [
       "'The database is missing 0 Company names. That is 0.00%'"
      ]
     },
     "metadata": {},
     "output_type": "display_data"
    },
    {
     "data": {
      "text/plain": [
       "'=================================================================================================================='"
      ]
     },
     "metadata": {},
     "output_type": "display_data"
    },
    {
     "data": {
      "text/plain": [
       "'The database is missing 0 Patterns. That is 0.00%'"
      ]
     },
     "metadata": {},
     "output_type": "display_data"
    },
    {
     "data": {
      "text/plain": [
       "'=================================================================================================================='"
      ]
     },
     "metadata": {},
     "output_type": "display_data"
    },
    {
     "data": {
      "text/plain": [
       "'The database is missing 0 Widths. That is 0.00%'"
      ]
     },
     "metadata": {},
     "output_type": "display_data"
    },
    {
     "data": {
      "text/plain": [
       "'=================================================================================================================='"
      ]
     },
     "metadata": {},
     "output_type": "display_data"
    },
    {
     "data": {
      "text/plain": [
       "'The database is missing 2046 Breakout dates. That is 54.27%'"
      ]
     },
     "metadata": {},
     "output_type": "display_data"
    },
    {
     "data": {
      "text/plain": [
       "'=================================================================================================================='"
      ]
     },
     "metadata": {},
     "output_type": "display_data"
    },
    {
     "data": {
      "text/plain": [
       "'The database is missing 0 End dates. That is 0.00%'"
      ]
     },
     "metadata": {},
     "output_type": "display_data"
    }
   ],
   "source": [
    "display(f'The Database has {df.shape[0]} rows and {df.shape[1]} columns.')\n",
    "display('==================================================================================================================')\n",
    "display(f'The Database has the following columns: {list(df.columns)}')\n",
    "display('==================================================================================================================')\n",
    "display(f\"The database is missing {df['Company'].isna().sum()} Company names. That is {((df['Company'].isna().sum() / df.shape[0]) * 100):.2f}%\")\n",
    "display('==================================================================================================================')\n",
    "display(f\"The database is missing {df['Pattern'].isna().sum()} Patterns. That is {((df['Pattern'].isna().sum() / df.shape[0]) * 100):.2f}%\")\n",
    "display('==================================================================================================================')\n",
    "display(f\"The database is missing {df['Width'].isna().sum()} Widths. That is {((df['Width'].isna().sum() / df.shape[0]) * 100):.2f}%\")\n",
    "display('==================================================================================================================')\n",
    "display(f\"The database is missing {df['Breakout Date'].isna().sum()} Breakout dates. That is {((df['Breakout Date'].isna().sum() / df.shape[0]) * 100):.2f}%\")\n",
    "display('==================================================================================================================')\n",
    "display(f\"The database is missing {df['End Date'].isna().sum()} End dates. That is {((df['End Date'].isna().sum() / df.shape[0]) * 100):.2f}%\")"
   ]
  },
  {
   "cell_type": "markdown",
   "id": "18af3295",
   "metadata": {},
   "source": [
    "### Adding a Ticker column"
   ]
  },
  {
   "cell_type": "code",
   "execution_count": 4,
   "id": "d189b3c8",
   "metadata": {},
   "outputs": [
    {
     "data": {
      "text/html": [
       "<div>\n",
       "<style scoped>\n",
       "    .dataframe tbody tr th:only-of-type {\n",
       "        vertical-align: middle;\n",
       "    }\n",
       "\n",
       "    .dataframe tbody tr th {\n",
       "        vertical-align: top;\n",
       "    }\n",
       "\n",
       "    .dataframe thead th {\n",
       "        text-align: right;\n",
       "    }\n",
       "</style>\n",
       "<table border=\"1\" class=\"dataframe\">\n",
       "  <thead>\n",
       "    <tr style=\"text-align: right;\">\n",
       "      <th></th>\n",
       "      <th>Company</th>\n",
       "      <th>Pattern</th>\n",
       "      <th>Width</th>\n",
       "      <th>End Date</th>\n",
       "      <th>Breakout Date</th>\n",
       "      <th>Ticker</th>\n",
       "    </tr>\n",
       "  </thead>\n",
       "  <tbody>\n",
       "    <tr>\n",
       "      <th>0</th>\n",
       "      <td>SANOK (SNK)</td>\n",
       "      <td>H&amp;S top</td>\n",
       "      <td>58</td>\n",
       "      <td>8/15/2023</td>\n",
       "      <td>NaN</td>\n",
       "      <td>SNK</td>\n",
       "    </tr>\n",
       "    <tr>\n",
       "      <th>1</th>\n",
       "      <td>GETIN (GTN)</td>\n",
       "      <td>Vertical run up</td>\n",
       "      <td>13</td>\n",
       "      <td>8/3/2023</td>\n",
       "      <td>NaN</td>\n",
       "      <td>GTN</td>\n",
       "    </tr>\n",
       "    <tr>\n",
       "      <th>2</th>\n",
       "      <td>PEKAO (PEO)</td>\n",
       "      <td>H&amp;S top</td>\n",
       "      <td>47</td>\n",
       "      <td>8/30/2023</td>\n",
       "      <td>NaN</td>\n",
       "      <td>PEO</td>\n",
       "    </tr>\n",
       "  </tbody>\n",
       "</table>\n",
       "</div>"
      ],
      "text/plain": [
       "       Company          Pattern  Width   End Date Breakout Date Ticker\n",
       "0  SANOK (SNK)          H&S top     58  8/15/2023           NaN    SNK\n",
       "1  GETIN (GTN)  Vertical run up     13   8/3/2023           NaN    GTN\n",
       "2  PEKAO (PEO)          H&S top     47  8/30/2023           NaN    PEO"
      ]
     },
     "execution_count": 4,
     "metadata": {},
     "output_type": "execute_result"
    }
   ],
   "source": [
    "ticker_with_parentheses = df['Company'].str.extract(r'(?<=\\()(\\w+)(?=\\))')\n",
    "ticker_without_parentheses = df['Company'].str.extract(r'^(\\w+)$')\n",
    "\n",
    "df['Ticker'] = ticker_with_parentheses.fillna(ticker_without_parentheses)\n",
    "df.head(3)"
   ]
  },
  {
   "cell_type": "markdown",
   "id": "4aa9cc13",
   "metadata": {},
   "source": [
    "### Add API Start Date and API End Date column"
   ]
  },
  {
   "cell_type": "code",
   "execution_count": 5,
   "id": "89f7043d",
   "metadata": {},
   "outputs": [
    {
     "data": {
      "text/html": [
       "<div>\n",
       "<style scoped>\n",
       "    .dataframe tbody tr th:only-of-type {\n",
       "        vertical-align: middle;\n",
       "    }\n",
       "\n",
       "    .dataframe tbody tr th {\n",
       "        vertical-align: top;\n",
       "    }\n",
       "\n",
       "    .dataframe thead th {\n",
       "        text-align: right;\n",
       "    }\n",
       "</style>\n",
       "<table border=\"1\" class=\"dataframe\">\n",
       "  <thead>\n",
       "    <tr style=\"text-align: right;\">\n",
       "      <th></th>\n",
       "      <th>Company</th>\n",
       "      <th>Pattern</th>\n",
       "      <th>Width</th>\n",
       "      <th>End Date</th>\n",
       "      <th>Breakout Date</th>\n",
       "      <th>Ticker</th>\n",
       "      <th>API End Date</th>\n",
       "      <th>API Start Date</th>\n",
       "    </tr>\n",
       "  </thead>\n",
       "  <tbody>\n",
       "    <tr>\n",
       "      <th>0</th>\n",
       "      <td>SANOK (SNK)</td>\n",
       "      <td>H&amp;S top</td>\n",
       "      <td>58</td>\n",
       "      <td>2023-08-15</td>\n",
       "      <td>NaN</td>\n",
       "      <td>SNK</td>\n",
       "      <td>2024-02-05</td>\n",
       "      <td>2022-12-26</td>\n",
       "    </tr>\n",
       "    <tr>\n",
       "      <th>1</th>\n",
       "      <td>GETIN (GTN)</td>\n",
       "      <td>Vertical run up</td>\n",
       "      <td>13</td>\n",
       "      <td>2023-08-03</td>\n",
       "      <td>NaN</td>\n",
       "      <td>GTN</td>\n",
       "      <td>2023-09-11</td>\n",
       "      <td>2023-06-12</td>\n",
       "    </tr>\n",
       "    <tr>\n",
       "      <th>2</th>\n",
       "      <td>PEKAO (PEO)</td>\n",
       "      <td>H&amp;S top</td>\n",
       "      <td>47</td>\n",
       "      <td>2023-08-30</td>\n",
       "      <td>NaN</td>\n",
       "      <td>PEO</td>\n",
       "      <td>2024-01-18</td>\n",
       "      <td>2023-02-23</td>\n",
       "    </tr>\n",
       "  </tbody>\n",
       "</table>\n",
       "</div>"
      ],
      "text/plain": [
       "       Company          Pattern  Width   End Date Breakout Date Ticker  \\\n",
       "0  SANOK (SNK)          H&S top     58 2023-08-15           NaN    SNK   \n",
       "1  GETIN (GTN)  Vertical run up     13 2023-08-03           NaN    GTN   \n",
       "2  PEKAO (PEO)          H&S top     47 2023-08-30           NaN    PEO   \n",
       "\n",
       "  API End Date API Start Date  \n",
       "0   2024-02-05     2022-12-26  \n",
       "1   2023-09-11     2023-06-12  \n",
       "2   2024-01-18     2023-02-23  "
      ]
     },
     "execution_count": 5,
     "metadata": {},
     "output_type": "execute_result"
    }
   ],
   "source": [
    "df['End Date'] = pd.to_datetime(df['End Date'])\n",
    "\n",
    "df['API End Date'] = df.apply(lambda row: row['End Date'] + pd.DateOffset(days=row['Width'] * 3), axis=1)\n",
    "df['API Start Date'] = df.apply(lambda row: row['End Date'] - pd.DateOffset(days=row['Width'] * 4), axis=1)\n",
    "\n",
    "\n",
    "df.head(3)"
   ]
  },
  {
   "cell_type": "code",
   "execution_count": 6,
   "id": "09aa97ac",
   "metadata": {},
   "outputs": [],
   "source": [
    "df['API End Date'] = pd.to_datetime(df['API End Date'])\n",
    "df['API Start Date'] = pd.to_datetime(df['API Start Date'])"
   ]
  },
  {
   "cell_type": "markdown",
   "id": "1894a4ee",
   "metadata": {},
   "source": [
    "## Using EOD HD API to retrieve stock information"
   ]
  },
  {
   "cell_type": "raw",
   "id": "9bf3e44f",
   "metadata": {},
   "source": [
    "eod_api = '64ef583e9a7137.71172021'\n",
    "eod_base = 'https://eodhistoricaldata.com/api/eod/'\n",
    "exchange = 'WAR'\n",
    "\n",
    "def time_to_string(date):\n",
    "    return date.strftime('%Y-%m-%d')\n",
    "\n",
    "\n",
    "for index, row in df.iterrows():\n",
    "    symbol = row['Ticker']\n",
    "    from_date = time_to_string(row['API Start Date'])\n",
    "    to_date = time_to_string(row['API End Date'])\n",
    "\n",
    "    url = f'{eod_base}{symbol}.{exchange}?'\n",
    "\n",
    "    params = {\n",
    "        'api_token': eod_api,\n",
    "        'period': 'd',\n",
    "        'from': from_date,\n",
    "        'to': to_date\n",
    "    }\n",
    "\n",
    "    response = requests.get(url, params=params)\n",
    "\n",
    "    if response.status_code == 200:\n",
    "        csv_content = response.text\n",
    "\n",
    "        sub_df = pd.read_csv(StringIO(csv_content))\n",
    "\n",
    "        pattern = row['Pattern'].replace(\" \", \"_\").lower()\n",
    "        dataframe_name = f\"{index}_{symbol}_{pattern}.csv\"\n",
    "\n",
    "        \n",
    "        sub_df.to_csv(dataframe_name, index=False)\n",
    "        print(f\"Saved DataFrame '{dataframe_name}'\")\n",
    "    else:\n",
    "        print(f\"API request for index {index} was not successful.\")"
   ]
  },
  {
   "cell_type": "markdown",
   "id": "5da5b61e",
   "metadata": {},
   "source": [
    "## Inspecting New Data"
   ]
  },
  {
   "cell_type": "markdown",
   "id": "aa594c8f",
   "metadata": {},
   "source": [
    "### Add 'Have data' column"
   ]
  },
  {
   "cell_type": "code",
   "execution_count": 11,
   "id": "e068e38a",
   "metadata": {},
   "outputs": [
    {
     "data": {
      "text/html": [
       "<div>\n",
       "<style scoped>\n",
       "    .dataframe tbody tr th:only-of-type {\n",
       "        vertical-align: middle;\n",
       "    }\n",
       "\n",
       "    .dataframe tbody tr th {\n",
       "        vertical-align: top;\n",
       "    }\n",
       "\n",
       "    .dataframe thead th {\n",
       "        text-align: right;\n",
       "    }\n",
       "</style>\n",
       "<table border=\"1\" class=\"dataframe\">\n",
       "  <thead>\n",
       "    <tr style=\"text-align: right;\">\n",
       "      <th></th>\n",
       "      <th>Company</th>\n",
       "      <th>Pattern</th>\n",
       "      <th>Width</th>\n",
       "      <th>End Date</th>\n",
       "      <th>Breakout Date</th>\n",
       "      <th>Ticker</th>\n",
       "      <th>API End Date</th>\n",
       "      <th>API Start Date</th>\n",
       "      <th>Have data</th>\n",
       "    </tr>\n",
       "  </thead>\n",
       "  <tbody>\n",
       "    <tr>\n",
       "      <th>0</th>\n",
       "      <td>SANOK (SNK)</td>\n",
       "      <td>H&amp;S top</td>\n",
       "      <td>58</td>\n",
       "      <td>2023-08-15</td>\n",
       "      <td>NaN</td>\n",
       "      <td>SNK</td>\n",
       "      <td>2024-02-05</td>\n",
       "      <td>2022-12-26</td>\n",
       "      <td>True</td>\n",
       "    </tr>\n",
       "    <tr>\n",
       "      <th>1</th>\n",
       "      <td>GETIN (GTN)</td>\n",
       "      <td>Vertical run up</td>\n",
       "      <td>13</td>\n",
       "      <td>2023-08-03</td>\n",
       "      <td>NaN</td>\n",
       "      <td>GTN</td>\n",
       "      <td>2023-09-11</td>\n",
       "      <td>2023-06-12</td>\n",
       "      <td>True</td>\n",
       "    </tr>\n",
       "    <tr>\n",
       "      <th>2</th>\n",
       "      <td>PEKAO (PEO)</td>\n",
       "      <td>H&amp;S top</td>\n",
       "      <td>47</td>\n",
       "      <td>2023-08-30</td>\n",
       "      <td>NaN</td>\n",
       "      <td>PEO</td>\n",
       "      <td>2024-01-18</td>\n",
       "      <td>2023-02-23</td>\n",
       "      <td>True</td>\n",
       "    </tr>\n",
       "  </tbody>\n",
       "</table>\n",
       "</div>"
      ],
      "text/plain": [
       "       Company          Pattern  Width   End Date Breakout Date Ticker  \\\n",
       "0  SANOK (SNK)          H&S top     58 2023-08-15           NaN    SNK   \n",
       "1  GETIN (GTN)  Vertical run up     13 2023-08-03           NaN    GTN   \n",
       "2  PEKAO (PEO)          H&S top     47 2023-08-30           NaN    PEO   \n",
       "\n",
       "  API End Date API Start Date Have data  \n",
       "0   2024-02-05     2022-12-26      True  \n",
       "1   2023-09-11     2023-06-12      True  \n",
       "2   2024-01-18     2023-02-23      True  "
      ]
     },
     "execution_count": 11,
     "metadata": {},
     "output_type": "execute_result"
    }
   ],
   "source": [
    "for index, row in df.iterrows():\n",
    "    ticker = row.Ticker\n",
    "    id_num = index\n",
    "    pattern = '_'.join(word.lower() for word in row.Pattern.split())\n",
    "    folder_name = f'data/patterns/{pattern}'\n",
    "    \n",
    "    f_name = f'{index}_{ticker}_{pattern}.csv'\n",
    "    f_path = os.path.join(folder_name, f_name)\n",
    "    \n",
    "    if os.path.exists(f_path):\n",
    "        df.at[index, 'Have data'] = True\n",
    "    else:\n",
    "        df.at[index, 'Have data'] = False\n",
    "        \n",
    "df.head(3)"
   ]
  },
  {
   "cell_type": "markdown",
   "id": "a66cb283",
   "metadata": {},
   "source": [
    "### Missing data"
   ]
  },
  {
   "cell_type": "code",
   "execution_count": 12,
   "id": "01c012c9",
   "metadata": {
    "scrolled": false
   },
   "outputs": [
    {
     "data": {
      "text/plain": [
       "'There are 631 rows of missing data'"
      ]
     },
     "metadata": {},
     "output_type": "display_data"
    },
    {
     "data": {
      "text/plain": [
       "'There are 3139 completed DataFrames.'"
      ]
     },
     "metadata": {},
     "output_type": "display_data"
    },
    {
     "data": {
      "text/html": [
       "<div>\n",
       "<style scoped>\n",
       "    .dataframe tbody tr th:only-of-type {\n",
       "        vertical-align: middle;\n",
       "    }\n",
       "\n",
       "    .dataframe tbody tr th {\n",
       "        vertical-align: top;\n",
       "    }\n",
       "\n",
       "    .dataframe thead th {\n",
       "        text-align: right;\n",
       "    }\n",
       "</style>\n",
       "<table border=\"1\" class=\"dataframe\">\n",
       "  <thead>\n",
       "    <tr style=\"text-align: right;\">\n",
       "      <th></th>\n",
       "      <th>Company</th>\n",
       "      <th>Pattern</th>\n",
       "      <th>Width</th>\n",
       "      <th>End Date</th>\n",
       "      <th>Breakout Date</th>\n",
       "      <th>Ticker</th>\n",
       "      <th>API End Date</th>\n",
       "      <th>API Start Date</th>\n",
       "      <th>Have data</th>\n",
       "    </tr>\n",
       "  </thead>\n",
       "  <tbody>\n",
       "    <tr>\n",
       "      <th>12</th>\n",
       "      <td>WIG-CHEMIA</td>\n",
       "      <td>Double bottom</td>\n",
       "      <td>60</td>\n",
       "      <td>2023-08-28</td>\n",
       "      <td>NaN</td>\n",
       "      <td>NaN</td>\n",
       "      <td>2024-02-24</td>\n",
       "      <td>2022-12-31</td>\n",
       "      <td>False</td>\n",
       "    </tr>\n",
       "    <tr>\n",
       "      <th>24</th>\n",
       "      <td>WIG-NRCHOM</td>\n",
       "      <td>Double top</td>\n",
       "      <td>11</td>\n",
       "      <td>2023-08-02</td>\n",
       "      <td>NaN</td>\n",
       "      <td>NaN</td>\n",
       "      <td>2023-09-04</td>\n",
       "      <td>2023-06-19</td>\n",
       "      <td>False</td>\n",
       "    </tr>\n",
       "    <tr>\n",
       "      <th>29</th>\n",
       "      <td>WIG-ENERG</td>\n",
       "      <td>H&amp;S top</td>\n",
       "      <td>10</td>\n",
       "      <td>2023-08-30</td>\n",
       "      <td>NaN</td>\n",
       "      <td>NaN</td>\n",
       "      <td>2023-09-29</td>\n",
       "      <td>2023-07-21</td>\n",
       "      <td>False</td>\n",
       "    </tr>\n",
       "    <tr>\n",
       "      <th>44</th>\n",
       "      <td>WIG-POLAND</td>\n",
       "      <td>Flag</td>\n",
       "      <td>25</td>\n",
       "      <td>2023-08-11</td>\n",
       "      <td>NaN</td>\n",
       "      <td>NaN</td>\n",
       "      <td>2023-10-25</td>\n",
       "      <td>2023-05-03</td>\n",
       "      <td>False</td>\n",
       "    </tr>\n",
       "    <tr>\n",
       "      <th>48</th>\n",
       "      <td>WIG-NRCHOM</td>\n",
       "      <td>Pennant</td>\n",
       "      <td>38</td>\n",
       "      <td>2023-08-22</td>\n",
       "      <td>NaN</td>\n",
       "      <td>NaN</td>\n",
       "      <td>2023-12-14</td>\n",
       "      <td>2023-03-23</td>\n",
       "      <td>False</td>\n",
       "    </tr>\n",
       "  </tbody>\n",
       "</table>\n",
       "</div>"
      ],
      "text/plain": [
       "       Company        Pattern  Width   End Date Breakout Date Ticker  \\\n",
       "12  WIG-CHEMIA  Double bottom     60 2023-08-28           NaN    NaN   \n",
       "24  WIG-NRCHOM     Double top     11 2023-08-02           NaN    NaN   \n",
       "29   WIG-ENERG        H&S top     10 2023-08-30           NaN    NaN   \n",
       "44  WIG-POLAND           Flag     25 2023-08-11           NaN    NaN   \n",
       "48  WIG-NRCHOM        Pennant     38 2023-08-22           NaN    NaN   \n",
       "\n",
       "   API End Date API Start Date Have data  \n",
       "12   2024-02-24     2022-12-31     False  \n",
       "24   2023-09-04     2023-06-19     False  \n",
       "29   2023-09-29     2023-07-21     False  \n",
       "44   2023-10-25     2023-05-03     False  \n",
       "48   2023-12-14     2023-03-23     False  "
      ]
     },
     "metadata": {},
     "output_type": "display_data"
    },
    {
     "data": {
      "text/plain": [
       "Ticker\n",
       "WIGDIV        42\n",
       "MWIG40        39\n",
       "WIG20         35\n",
       "FW20          30\n",
       "WIG20SHORT    29\n",
       "Name: count, dtype: int64"
      ]
     },
     "metadata": {},
     "output_type": "display_data"
    }
   ],
   "source": [
    "missing_data = df[df['Have data'] == False]\n",
    "display(f'There are {missing_data.shape[0]} rows of missing data')\n",
    "display(f'There are {df.shape[0] - missing_data.shape[0]} completed DataFrames.')\n",
    "display(missing_data.head())\n",
    "display(missing_data['Ticker'].value_counts())"
   ]
  },
  {
   "cell_type": "raw",
   "id": "5d8a2e14",
   "metadata": {},
   "source": [
    "eod_api = '64ef583e9a7137.71172021'\n",
    "exchange_code = 'INDX'\n",
    "exchange_base_url = f'https://eodhistoricaldata.com/api/exchange-symbol-list/{exchange_code}'\n",
    "\n",
    "params_2 = {\n",
    "    \"api_token\": eod_api\n",
    "}\n",
    "\n",
    "response = requests.get(exchange_base_url, params=params)\n",
    "csv_content = response.text\n",
    "exchange_df = pd.read_csv(StringIO(csv_content))"
   ]
  },
  {
   "cell_type": "raw",
   "id": "bdcd19a7",
   "metadata": {},
   "source": [
    "polish_i = exchange_df['Country'] == 'Poland'\n",
    "polish_rows = exchange_df[polish_i]\n",
    "polish_rows"
   ]
  },
  {
   "cell_type": "code",
   "execution_count": 35,
   "id": "f3efe336",
   "metadata": {},
   "outputs": [
    {
     "name": "stdout",
     "output_type": "stream",
     "text": [
      "Saved DataFrame '12_WIG-CHEMIA_double_bottom.csv'\n",
      "Saved DataFrame '24_WIG-NRCHOM_double_top.csv'\n",
      "Saved DataFrame '29_WIG-ENERG_h&s_top.csv'\n",
      "Saved DataFrame '44_WIG-POLAND_flag.csv'\n",
      "Saved DataFrame '48_WIG-NRCHOM_pennant.csv'\n",
      "Saved DataFrame '50_WIG-POLAND_pennant.csv'\n",
      "Saved DataFrame '57_WIG-POLAND_desc._broad._wedge.csv'\n",
      "Saved DataFrame '58_WIG-POLAND_falling_wedge.csv'\n",
      "Saved DataFrame '61_WIG-NRCHOM_triangle.csv'\n",
      "Saved DataFrame '81_MWIG40_uptrend.csv'\n",
      "Saved DataFrame '135_WIG-CHEMIA_falling_wedge.csv'\n",
      "API request for index 144 was not successful.\n",
      "Saved DataFrame '146_WIG-POLAND_descending_channel.csv'\n",
      "API request for index 156 was not successful.\n",
      "API request for index 157 was not successful.\n",
      "Saved DataFrame '164_WIG20_3_rising_valleys.csv'\n",
      "API request for index 180 was not successful.\n",
      "Saved DataFrame '183_WIG-POLAND_flag.csv'\n",
      "API request for index 189 was not successful.\n",
      "API request for index 191 was not successful.\n",
      "API request for index 203 was not successful.\n",
      "API request for index 204 was not successful.\n",
      "API request for index 210 was not successful.\n",
      "API request for index 213 was not successful.\n",
      "Saved DataFrame '215_WIG-CHEMIA_vertical_run_up.csv'\n",
      "API request for index 217 was not successful.\n",
      "Saved DataFrame '221_MWIG40_double_top.csv'\n",
      "Saved DataFrame '223_WIG-CHEMIA_double_bottom.csv'\n",
      "Saved DataFrame '232_WIGDIV_double_top.csv'\n",
      "API request for index 240 was not successful.\n",
      "API request for index 279 was not successful.\n",
      "API request for index 292 was not successful.\n",
      "API request for index 303 was not successful.\n",
      "Saved DataFrame '304_WIG20_falling_wedge.csv'\n",
      "API request for index 305 was not successful.\n",
      "Saved DataFrame '319_WIGDIV_vertical_run_up.csv'\n",
      "API request for index 327 was not successful.\n",
      "API request for index 328 was not successful.\n",
      "API request for index 329 was not successful.\n",
      "API request for index 330 was not successful.\n",
      "API request for index 335 was not successful.\n",
      "Saved DataFrame '337_WIG-NRCHOM_vertical_run_up.csv'\n",
      "API request for index 341 was not successful.\n",
      "API request for index 349 was not successful.\n",
      "Saved DataFrame '385_WIG20SHORT_double_bottom.csv'\n",
      "Saved DataFrame '395_WIG-CHEMIA_double_top.csv'\n",
      "Saved DataFrame '396_WIG-CHEMIA_falling_wedge.csv'\n",
      "API request for index 397 was not successful.\n",
      "Saved DataFrame '399_WIG20SHORT_ascending_channel.csv'\n",
      "API request for index 405 was not successful.\n",
      "API request for index 408 was not successful.\n",
      "API request for index 411 was not successful.\n",
      "API request for index 432 was not successful.\n",
      "API request for index 433 was not successful.\n",
      "API request for index 435 was not successful.\n",
      "Saved DataFrame '436_WIG-POLAND_descending_channel.csv'\n",
      "Saved DataFrame '443_WIG-POLAND_rising_wedge.csv'\n",
      "API request for index 445 was not successful.\n",
      "API request for index 453 was not successful.\n",
      "Saved DataFrame '461_WIG-POLAND_ascending_channel.csv'\n",
      "API request for index 462 was not successful.\n",
      "Saved DataFrame '463_WIG-POLAND_ascending_channel.csv'\n",
      "Saved DataFrame '464_WIG-POLAND_ascending_channel.csv'\n",
      "API request for index 477 was not successful.\n",
      "Saved DataFrame '479_WIGDIV_desc._broad._wedge.csv'\n",
      "Saved DataFrame '480_WIG-POLAND_h&s_top.csv'\n",
      "Saved DataFrame '481_WIG-POLAND_inverted_triangle.csv'\n",
      "API request for index 492 was not successful.\n",
      "Saved DataFrame '494_WIG-POLAND_uptrend.csv'\n",
      "Saved DataFrame '519_WIG-CHEMIA_h&s_top.csv'\n",
      "Saved DataFrame '520_WIG-CHEMIA_descending_triangle.csv'\n",
      "Saved DataFrame '526_WIG20_uptrend.csv'\n",
      "Saved DataFrame '527_WIG20SHORT_downtrend.csv'\n",
      "Saved DataFrame '528_WIG20SHORT_downtrend.csv'\n",
      "API request for index 529 was not successful.\n",
      "API request for index 533 was not successful.\n",
      "API request for index 542 was not successful.\n",
      "API request for index 548 was not successful.\n",
      "Saved DataFrame '549_WIGDIV_falling_wedge.csv'\n",
      "API request for index 562 was not successful.\n",
      "Saved DataFrame '563_WIGDIV_flag.csv'\n",
      "Saved DataFrame '567_WIGDIV_pennant.csv'\n",
      "API request for index 568 was not successful.\n",
      "Saved DataFrame '569_WIG-ENERG_double_top.csv'\n",
      "Saved DataFrame '613_WIG20SHORT_falling_wedge.csv'\n",
      "API request for index 614 was not successful.\n",
      "Saved DataFrame '615_WIG20_rising_wedge.csv'\n",
      "API request for index 617 was not successful.\n",
      "API request for index 618 was not successful.\n",
      "API request for index 661 was not successful.\n",
      "Saved DataFrame '691_WIG-ENERG_3_rising_valleys.csv'\n",
      "Saved DataFrame '708_WIG-ENERG_vertical_run_up.csv'\n",
      "API request for index 712 was not successful.\n",
      "Saved DataFrame '713_MWIG40_vertical_run_up.csv'\n",
      "API request for index 714 was not successful.\n",
      "API request for index 720 was not successful.\n",
      "Saved DataFrame '724_WIG-POLAND_double_top.csv'\n",
      "API request for index 739 was not successful.\n",
      "API request for index 740 was not successful.\n",
      "Saved DataFrame '772_WIG20_asc._broad._wedge.csv'\n",
      "API request for index 810 was not successful.\n",
      "API request for index 812 was not successful.\n",
      "API request for index 817 was not successful.\n",
      "API request for index 821 was not successful.\n",
      "API request for index 824 was not successful.\n",
      "Saved DataFrame '825_WIGDIV_double_top.csv'\n",
      "Saved DataFrame '830_WIGDIV_pennant.csv'\n",
      "API request for index 835 was not successful.\n",
      "Saved DataFrame '854_MWIG40_double_top.csv'\n",
      "Saved DataFrame '855_MWIG40_double_top.csv'\n",
      "API request for index 856 was not successful.\n",
      "Saved DataFrame '858_WIG20_vertical_run_up.csv'\n",
      "API request for index 860 was not successful.\n",
      "API request for index 861 was not successful.\n",
      "API request for index 863 was not successful.\n",
      "API request for index 869 was not successful.\n",
      "API request for index 873 was not successful.\n",
      "Saved DataFrame '880_WIG-ENERG_double_top.csv'\n",
      "Saved DataFrame '882_MWIG40_h&s_top.csv'\n",
      "Saved DataFrame '886_MWIG40_double_top.csv'\n",
      "Saved DataFrame '891_WIG-ENERG_rising_wedge.csv'\n",
      "Saved DataFrame '893_MWIG40_h&s_top.csv'\n",
      "Saved DataFrame '904_MWIG40_asc._broad._wedge.csv'\n",
      "API request for index 909 was not successful.\n",
      "API request for index 918 was not successful.\n",
      "API request for index 922 was not successful.\n",
      "Saved DataFrame '929_WIG20_double_top.csv'\n",
      "API request for index 930 was not successful.\n",
      "Saved DataFrame '931_WIGDIV_double_top.csv'\n",
      "API request for index 932 was not successful.\n",
      "Saved DataFrame '940_MWIG40_rising_wedge.csv'\n",
      "API request for index 943 was not successful.\n",
      "API request for index 944 was not successful.\n",
      "Saved DataFrame '945_WIGDIV_asc._broad._triangle.csv'\n",
      "Saved DataFrame '947_WIGDIV_rising_wedge.csv'\n",
      "API request for index 957 was not successful.\n",
      "Saved DataFrame '960_WIG-POLAND_double_top.csv'\n",
      "API request for index 963 was not successful.\n",
      "API request for index 964 was not successful.\n",
      "API request for index 965 was not successful.\n",
      "API request for index 966 was not successful.\n",
      "API request for index 967 was not successful.\n",
      "API request for index 971 was not successful.\n",
      "API request for index 976 was not successful.\n",
      "API request for index 981 was not successful.\n",
      "API request for index 983 was not successful.\n",
      "API request for index 984 was not successful.\n",
      "Saved DataFrame '987_MWIG40_vertical_run_up.csv'\n",
      "Saved DataFrame '994_MWIG40_flat_base.csv'\n",
      "API request for index 995 was not successful.\n",
      "API request for index 998 was not successful.\n",
      "Saved DataFrame '1000_MWIG40_asc._broad._wedge.csv'\n",
      "Saved DataFrame '1002_WIG-POLAND_asc._broad._wedge.csv'\n",
      "API request for index 1003 was not successful.\n",
      "API request for index 1007 was not successful.\n",
      "API request for index 1008 was not successful.\n",
      "API request for index 1010 was not successful.\n",
      "API request for index 1011 was not successful.\n",
      "API request for index 1012 was not successful.\n",
      "API request for index 1013 was not successful.\n",
      "Saved DataFrame '1020_WIG-ENERG_uptrend.csv'\n",
      "API request for index 1021 was not successful.\n",
      "Saved DataFrame '1029_WIG-NRCHOM_double_top.csv'\n",
      "Saved DataFrame '1031_WIG-POLAND_asc._broad._wedge.csv'\n",
      "Saved DataFrame '1040_WIGDIV_asc._broad._wedge.csv'\n",
      "API request for index 1041 was not successful.\n",
      "API request for index 1042 was not successful.\n",
      "API request for index 1046 was not successful.\n",
      "Saved DataFrame '1057_MWIG40_h&s_top.csv'\n",
      "Saved DataFrame '1058_MWIG40_double_top.csv'\n",
      "API request for index 1062 was not successful.\n",
      "Saved DataFrame '1065_MWIG40_inverted_triangle.csv'\n",
      "Saved DataFrame '1066_MWIG40_3_rising_valleys.csv'\n",
      "API request for index 1067 was not successful.\n",
      "API request for index 1069 was not successful.\n"
     ]
    },
    {
     "name": "stdout",
     "output_type": "stream",
     "text": [
      "API request for index 1070 was not successful.\n",
      "API request for index 1073 was not successful.\n",
      "Saved DataFrame '1076_WIGDIV_double_top.csv'\n",
      "Saved DataFrame '1078_MWIG40_double_top.csv'\n",
      "API request for index 1082 was not successful.\n",
      "API request for index 1103 was not successful.\n",
      "API request for index 1104 was not successful.\n",
      "API request for index 1105 was not successful.\n",
      "API request for index 1111 was not successful.\n",
      "API request for index 1132 was not successful.\n",
      "API request for index 1140 was not successful.\n",
      "Saved DataFrame '1150_WIG-NRCHOM_double_top.csv'\n",
      "Saved DataFrame '1164_WIG-NRCHOM_rising_wedge.csv'\n",
      "API request for index 1168 was not successful.\n",
      "API request for index 1174 was not successful.\n",
      "Saved DataFrame '1177_MWIG40_double_top.csv'\n",
      "API request for index 1178 was not successful.\n",
      "API request for index 1181 was not successful.\n",
      "API request for index 1182 was not successful.\n",
      "API request for index 1183 was not successful.\n",
      "API request for index 1186 was not successful.\n",
      "API request for index 1188 was not successful.\n",
      "API request for index 1192 was not successful.\n",
      "API request for index 1203 was not successful.\n",
      "API request for index 1217 was not successful.\n",
      "Saved DataFrame '1226_MWIG40_double_top.csv'\n",
      "API request for index 1251 was not successful.\n",
      "Saved DataFrame '1252_WIGDIV_uptrend.csv'\n",
      "API request for index 1253 was not successful.\n",
      "API request for index 1291 was not successful.\n",
      "API request for index 1292 was not successful.\n",
      "API request for index 1313 was not successful.\n",
      "Saved DataFrame '1337_WIG-NRCHOM_rising_wedge.csv'\n",
      "Saved DataFrame '1339_WIG-NRCHOM_asc._broad._wedge.csv'\n",
      "API request for index 1344 was not successful.\n",
      "Saved DataFrame '1349_WIG20_flag.csv'\n",
      "Saved DataFrame '1366_WIG20SHORT_double_bottom.csv'\n",
      "Saved DataFrame '1368_WIG20SHORT_descending_channel.csv'\n",
      "API request for index 1372 was not successful.\n",
      "API request for index 1377 was not successful.\n",
      "Saved DataFrame '1397_WIG20_double_top.csv'\n",
      "Saved DataFrame '1404_WIG20SHORT_double_bottom.csv'\n",
      "API request for index 1422 was not successful.\n",
      "API request for index 1423 was not successful.\n",
      "API request for index 1434 was not successful.\n",
      "API request for index 1440 was not successful.\n",
      "Saved DataFrame '1444_WIG-NRCHOM_flag.csv'\n",
      "Saved DataFrame '1445_WIG-POLAND_double_top.csv'\n",
      "API request for index 1453 was not successful.\n",
      "Saved DataFrame '1467_WIG20SHORT_desc._broad._wedge.csv'\n",
      "Saved DataFrame '1468_WIG20SHORT_h&s_bottom.csv'\n",
      "API request for index 1473 was not successful.\n",
      "API request for index 1493 was not successful.\n",
      "API request for index 1500 was not successful.\n",
      "API request for index 1501 was not successful.\n",
      "API request for index 1505 was not successful.\n",
      "Saved DataFrame '1533_MWIG40_uptrend.csv'\n",
      "API request for index 1542 was not successful.\n",
      "Saved DataFrame '1543_WIGDIV_rising_wedge.csv'\n",
      "Saved DataFrame '1549_WIG-POLAND_flag.csv'\n",
      "Saved DataFrame '1550_WIGDIV_flag.csv'\n",
      "Saved DataFrame '1554_WIG-POLAND_flag.csv'\n",
      "API request for index 1556 was not successful.\n",
      "Saved DataFrame '1560_WIG-POLAND_pennant.csv'\n",
      "API request for index 1561 was not successful.\n",
      "API request for index 1562 was not successful.\n",
      "API request for index 1563 was not successful.\n",
      "Saved DataFrame '1564_WIG20SHORT_h&s_bottom.csv'\n",
      "API request for index 1566 was not successful.\n",
      "API request for index 1567 was not successful.\n",
      "Saved DataFrame '1568_WIG20_h&s_top.csv'\n",
      "Saved DataFrame '1570_WIG-POLAND_pennant.csv'\n",
      "API request for index 1571 was not successful.\n",
      "API request for index 1572 was not successful.\n",
      "Saved DataFrame '1573_WIGDIV_flag.csv'\n",
      "API request for index 1574 was not successful.\n",
      "Saved DataFrame '1575_WIG-POLAND_asc._broad._wedge.csv'\n",
      "Saved DataFrame '1576_WIG-NRCHOM_ascending_channel.csv'\n",
      "Saved DataFrame '1578_WIGDIV_h&s_top.csv'\n",
      "Saved DataFrame '1581_MWIG40_uptrend.csv'\n",
      "Saved DataFrame '1582_MWIG40_uptrend.csv'\n",
      "Saved DataFrame '1583_MWIG40_uptrend.csv'\n",
      "API request for index 1585 was not successful.\n",
      "Saved DataFrame '1586_WIGDIV_uptrend.csv'\n",
      "Saved DataFrame '1594_WIG-ENERG_ascending_channel.csv'\n",
      "Saved DataFrame '1596_WIG-NRCHOM_rising_wedge.csv'\n",
      "API request for index 1615 was not successful.\n",
      "API request for index 1623 was not successful.\n",
      "Saved DataFrame '1624_WIG20_pennant.csv'\n",
      "API request for index 1630 was not successful.\n",
      "Saved DataFrame '1633_WIG20SHORT_descending_triangle.csv'\n",
      "Saved DataFrame '1636_WIG20_ascending_channel.csv'\n",
      "API request for index 1639 was not successful.\n",
      "Saved DataFrame '1640_WIG20_ascending_triangle.csv'\n",
      "API request for index 1644 was not successful.\n",
      "API request for index 1650 was not successful.\n",
      "API request for index 1652 was not successful.\n",
      "API request for index 1654 was not successful.\n",
      "API request for index 1658 was not successful.\n",
      "API request for index 1666 was not successful.\n",
      "Saved DataFrame '1669_WIG20SHORT_asc._broad._wedge.csv'\n",
      "API request for index 1671 was not successful.\n",
      "Saved DataFrame '1680_MWIG40_double_top.csv'\n",
      "Saved DataFrame '1685_WIGDIV_h&s_top.csv'\n",
      "API request for index 1687 was not successful.\n",
      "Saved DataFrame '1692_MWIG40_double_top.csv'\n",
      "Saved DataFrame '1693_WIG-POLAND_rising_wedge.csv'\n",
      "API request for index 1697 was not successful.\n",
      "Saved DataFrame '1705_WIG-POLAND_ascending_channel.csv'\n",
      "Saved DataFrame '1716_WIG-NRCHOM_rising_wedge.csv'\n",
      "Saved DataFrame '1718_WIGDIV_asc._broad._wedge.csv'\n",
      "Saved DataFrame '1721_WIGDIV_ascending_channel.csv'\n",
      "API request for index 1750 was not successful.\n",
      "API request for index 1755 was not successful.\n",
      "Saved DataFrame '1764_WIG-ENERG_asc._broad._wedge.csv'\n",
      "API request for index 1766 was not successful.\n",
      "Saved DataFrame '1769_WIG-ENERG_double_top.csv'\n",
      "Saved DataFrame '1771_WIG20_desc._broad._wedge.csv'\n",
      "Saved DataFrame '1775_WIG-NRCHOM_asc._broad._wedge.csv'\n",
      "API request for index 1804 was not successful.\n",
      "Saved DataFrame '1807_WIGDIV_pennant.csv'\n",
      "Saved DataFrame '1809_WIGDIV_rising_wedge.csv'\n",
      "Saved DataFrame '1824_MWIG40_flat_base.csv'\n",
      "Saved DataFrame '1825_MWIG40_ascending_triangle.csv'\n",
      "Saved DataFrame '1834_WIG-POLAND_rising_wedge.csv'\n",
      "API request for index 1836 was not successful.\n",
      "API request for index 1841 was not successful.\n",
      "API request for index 1845 was not successful.\n",
      "API request for index 1851 was not successful.\n",
      "API request for index 1856 was not successful.\n",
      "Saved DataFrame '1898_WIG-CHEMIA_descending_triangle.csv'\n",
      "Saved DataFrame '1899_WIG-CHEMIA_triangle.csv'\n",
      "API request for index 1901 was not successful.\n",
      "API request for index 1907 was not successful.\n",
      "API request for index 1915 was not successful.\n",
      "API request for index 1922 was not successful.\n",
      "API request for index 1925 was not successful.\n",
      "API request for index 1928 was not successful.\n",
      "API request for index 1932 was not successful.\n",
      "API request for index 1937 was not successful.\n",
      "API request for index 1940 was not successful.\n",
      "API request for index 1951 was not successful.\n",
      "API request for index 1958 was not successful.\n",
      "API request for index 1961 was not successful.\n",
      "API request for index 1968 was not successful.\n",
      "API request for index 1991 was not successful.\n",
      "API request for index 2003 was not successful.\n",
      "Saved DataFrame '2018_WIG-POLAND_h&s_top.csv'\n",
      "API request for index 2021 was not successful.\n",
      "Saved DataFrame '2022_WIG-ENERG_inverted_triangle.csv'\n",
      "API request for index 2023 was not successful.\n",
      "Saved DataFrame '2024_WIG20_falling_wedge.csv'\n",
      "API request for index 2030 was not successful.\n",
      "Saved DataFrame '2037_WIG-NRCHOM_ascending_channel.csv'\n",
      "API request for index 2044 was not successful.\n",
      "API request for index 2045 was not successful.\n",
      "Saved DataFrame '2047_WIGDIV_double_top.csv'\n",
      "Saved DataFrame '2050_WIG-POLAND_falling_wedge.csv'\n",
      "API request for index 2051 was not successful.\n",
      "Saved DataFrame '2053_WIGDIV_rising_wedge.csv'\n",
      "API request for index 2055 was not successful.\n",
      "API request for index 2058 was not successful.\n",
      "API request for index 2069 was not successful.\n",
      "API request for index 2070 was not successful.\n",
      "API request for index 2071 was not successful.\n",
      "Saved DataFrame '2078_WIG-POLAND_resistance.csv'\n",
      "Saved DataFrame '2091_WIG-ENERG_double_bottom.csv'\n",
      "Saved DataFrame '2092_WIG-ENERG_desc._broad._wedge.csv'\n",
      "API request for index 2093 was not successful.\n",
      "Saved DataFrame '2096_WIG20_downtrend.csv'\n",
      "Saved DataFrame '2097_WIG20SHORT_uptrend.csv'\n",
      "Saved DataFrame '2111_WIG-NRCHOM_asc._broad._wedge.csv'\n"
     ]
    },
    {
     "name": "stdout",
     "output_type": "stream",
     "text": [
      "Saved DataFrame '2113_WIG-NRCHOM_rising_wedge.csv'\n",
      "Saved DataFrame '2115_WIGDIV_asc._broad._wedge.csv'\n",
      "Saved DataFrame '2124_WIG-NRCHOM_asc._broad._wedge.csv'\n",
      "API request for index 2127 was not successful.\n",
      "Saved DataFrame '2132_WIG-NRCHOM_asc._broad._wedge.csv'\n",
      "Saved DataFrame '2133_WIGDIV_double_top.csv'\n",
      "Saved DataFrame '2135_WIG-NRCHOM_ascending_channel.csv'\n",
      "API request for index 2137 was not successful.\n",
      "API request for index 2138 was not successful.\n",
      "API request for index 2146 was not successful.\n",
      "API request for index 2151 was not successful.\n",
      "API request for index 2153 was not successful.\n",
      "API request for index 2154 was not successful.\n",
      "Saved DataFrame '2155_WIG-NRCHOM_double_top.csv'\n",
      "API request for index 2157 was not successful.\n",
      "API request for index 2158 was not successful.\n",
      "Saved DataFrame '2166_WIG-NRCHOM_ascending_channel.csv'\n",
      "Saved DataFrame '2179_WIG-ENERG_downtrend.csv'\n",
      "API request for index 2187 was not successful.\n",
      "Saved DataFrame '2232_WIG-NRCHOM_3_rising_valleys.csv'\n",
      "Saved DataFrame '2248_WIG-CHEMIA_downtrend.csv'\n",
      "API request for index 2292 was not successful.\n",
      "API request for index 2303 was not successful.\n",
      "Saved DataFrame '2344_MWIG40_asc._broad._wedge.csv'\n",
      "API request for index 2365 was not successful.\n",
      "Saved DataFrame '2366_WIG-NRCHOM_uptrend.csv'\n",
      "API request for index 2374 was not successful.\n",
      "Saved DataFrame '2380_WIG-NRCHOM_uptrend.csv'\n",
      "Saved DataFrame '2408_WIGDIV_support.csv'\n",
      "API request for index 2416 was not successful.\n",
      "Saved DataFrame '2423_WIG20SHORT_triangle.csv'\n",
      "API request for index 2426 was not successful.\n",
      "Saved DataFrame '2429_WIG20_desc._broad._wedge.csv'\n",
      "API request for index 2438 was not successful.\n",
      "Saved DataFrame '2440_WIG20_double_top.csv'\n",
      "Saved DataFrame '2442_WIGDIV_uptrend.csv'\n",
      "API request for index 2456 was not successful.\n",
      "API request for index 2462 was not successful.\n",
      "API request for index 2477 was not successful.\n",
      "API request for index 2482 was not successful.\n",
      "API request for index 2483 was not successful.\n",
      "API request for index 2484 was not successful.\n",
      "Saved DataFrame '2491_WIG20SHORT_asc._broad._wedge.csv'\n",
      "API request for index 2493 was not successful.\n",
      "Saved DataFrame '2495_WIG20_double_bottom.csv'\n",
      "API request for index 2508 was not successful.\n",
      "API request for index 2518 was not successful.\n",
      "Saved DataFrame '2525_WIG-CHEMIA_pennant.csv'\n",
      "Saved DataFrame '2528_WIG-ENERG_double_top.csv'\n",
      "Saved DataFrame '2544_WIG-POLAND_pennant.csv'\n",
      "API request for index 2545 was not successful.\n",
      "Saved DataFrame '2548_WIGDIV_rising_wedge.csv'\n",
      "Saved DataFrame '2549_WIG-ENERG_desc._broad._wedge.csv'\n",
      "API request for index 2550 was not successful.\n",
      "Saved DataFrame '2566_WIG-ENERG_falling_wedge.csv'\n",
      "Saved DataFrame '2574_WIG20_vertical_run_up.csv'\n",
      "API request for index 2582 was not successful.\n",
      "API request for index 2585 was not successful.\n",
      "Saved DataFrame '2591_WIG20SHORT_asc._broad._wedge.csv'\n",
      "Saved DataFrame '2594_WIG-CHEMIA_double_top.csv'\n",
      "API request for index 2596 was not successful.\n",
      "Saved DataFrame '2598_WIG-CHEMIA_triangle.csv'\n",
      "Saved DataFrame '2599_WIG-POLAND_flat_base.csv'\n",
      "API request for index 2601 was not successful.\n",
      "Saved DataFrame '2603_WIG20_double_top.csv'\n",
      "API request for index 2605 was not successful.\n",
      "Saved DataFrame '2609_WIG-POLAND_inverted_triangle.csv'\n",
      "Saved DataFrame '2610_WIG-POLAND_desc._broad._triangle.csv'\n",
      "Saved DataFrame '2611_WIG-POLAND_double_top.csv'\n",
      "Saved DataFrame '2612_WIG-POLAND_descending_triangle.csv'\n",
      "Saved DataFrame '2614_WIG20_falling_wedge.csv'\n",
      "API request for index 2615 was not successful.\n",
      "API request for index 2626 was not successful.\n",
      "API request for index 2627 was not successful.\n",
      "API request for index 2628 was not successful.\n",
      "Saved DataFrame '2629_WIG-POLAND_uptrend.csv'\n",
      "API request for index 2633 was not successful.\n",
      "API request for index 2635 was not successful.\n",
      "API request for index 2637 was not successful.\n",
      "Saved DataFrame '2641_WIG20SHORT_ascending_channel.csv'\n",
      "API request for index 2654 was not successful.\n",
      "API request for index 2655 was not successful.\n",
      "API request for index 2665 was not successful.\n",
      "Saved DataFrame '2670_WIGDIV_pennant.csv'\n",
      "Saved DataFrame '2671_WIG-NRCHOM_rising_wedge.csv'\n",
      "Saved DataFrame '2674_WIG-NRCHOM_ascending_channel.csv'\n",
      "Saved DataFrame '2692_MWIG40_double_top.csv'\n",
      "Saved DataFrame '2694_WIGDIV_rising_wedge.csv'\n",
      "API request for index 2697 was not successful.\n",
      "API request for index 2710 was not successful.\n",
      "Saved DataFrame '2715_WIGDIV_ascending_channel.csv'\n",
      "Saved DataFrame '2716_WIG-POLAND_desc._broad._wedge.csv'\n",
      "Saved DataFrame '2721_MWIG40_asc._broad._wedge.csv'\n",
      "API request for index 2725 was not successful.\n",
      "Saved DataFrame '2731_WIG20SHORT_rising_wedge.csv'\n",
      "API request for index 2734 was not successful.\n",
      "Saved DataFrame '2739_WIG20_desc._broad._wedge.csv'\n",
      "Saved DataFrame '2743_MWIG40_resistance.csv'\n",
      "Saved DataFrame '2758_WIG-ENERG_descending_channel.csv'\n",
      "Saved DataFrame '2765_WIG-ENERG_vertical_run_up.csv'\n",
      "API request for index 2767 was not successful.\n",
      "API request for index 2771 was not successful.\n",
      "Saved DataFrame '2773_WIGDIV_vertical_run_up.csv'\n",
      "API request for index 2774 was not successful.\n",
      "API request for index 2781 was not successful.\n",
      "API request for index 2782 was not successful.\n",
      "API request for index 2786 was not successful.\n",
      "Saved DataFrame '2797_WIG20SHORT_ascending_channel.csv'\n",
      "Saved DataFrame '2810_WIG-CHEMIA_double_top.csv'\n",
      "Saved DataFrame '2811_WIG-NRCHOM_ascending_channel.csv'\n",
      "API request for index 2816 was not successful.\n",
      "Saved DataFrame '2829_WIG-CHEMIA_ascending_triangle.csv'\n",
      "Saved DataFrame '2834_WIG-CHEMIA_uptrend.csv'\n",
      "API request for index 2842 was not successful.\n",
      "Saved DataFrame '2850_WIG20_pennant.csv'\n",
      "API request for index 2852 was not successful.\n",
      "Saved DataFrame '2853_WIG-ENERG_asc._broad._wedge.csv'\n",
      "Saved DataFrame '2860_WIG20SHORT_double_bottom.csv'\n",
      "API request for index 2861 was not successful.\n",
      "API request for index 2864 was not successful.\n",
      "API request for index 2865 was not successful.\n",
      "Saved DataFrame '2866_WIG-POLAND_triangle.csv'\n",
      "Saved DataFrame '2868_WIG-POLAND_falling_wedge.csv'\n",
      "Saved DataFrame '2873_WIG-ENERG_uptrend.csv'\n",
      "API request for index 2884 was not successful.\n",
      "Saved DataFrame '2885_WIGDIV_rising_wedge.csv'\n",
      "Saved DataFrame '2892_MWIG40_uptrend.csv'\n",
      "Saved DataFrame '2895_WIG-POLAND_uptrend.csv'\n",
      "Saved DataFrame '2899_WIG-ENERG_triangle.csv'\n",
      "API request for index 2904 was not successful.\n",
      "API request for index 2905 was not successful.\n",
      "API request for index 2939 was not successful.\n",
      "API request for index 2942 was not successful.\n",
      "Saved DataFrame '2944_WIG-NRCHOM_ascending_channel.csv'\n",
      "API request for index 2963 was not successful.\n",
      "Saved DataFrame '2966_WIG20_uptrend.csv'\n",
      "API request for index 2978 was not successful.\n",
      "API request for index 2979 was not successful.\n",
      "API request for index 2980 was not successful.\n",
      "API request for index 2981 was not successful.\n",
      "API request for index 2982 was not successful.\n",
      "Saved DataFrame '2983_WIGDIV_triangle.csv'\n",
      "API request for index 2988 was not successful.\n",
      "API request for index 2989 was not successful.\n",
      "API request for index 3011 was not successful.\n",
      "Saved DataFrame '3016_WIG-POLAND_uptrend.csv'\n",
      "Saved DataFrame '3025_WIG-NRCHOM_double_top.csv'\n",
      "API request for index 3031 was not successful.\n",
      "API request for index 3039 was not successful.\n",
      "API request for index 3051 was not successful.\n",
      "API request for index 3056 was not successful.\n",
      "Saved DataFrame '3064_MWIG40_ascending_channel.csv'\n",
      "Saved DataFrame '3068_MWIG40_uptrend.csv'\n",
      "Saved DataFrame '3071_WIG20SHORT_downtrend.csv'\n",
      "API request for index 3072 was not successful.\n",
      "API request for index 3073 was not successful.\n",
      "Saved DataFrame '3074_WIGDIV_uptrend.csv'\n",
      "API request for index 3080 was not successful.\n",
      "API request for index 3088 was not successful.\n",
      "Saved DataFrame '3129_WIG-CHEMIA_vertical_run_up.csv'\n",
      "Saved DataFrame '3130_WIG-CHEMIA_vertical_run_up.csv'\n",
      "API request for index 3134 was not successful.\n",
      "API request for index 3140 was not successful.\n",
      "Saved DataFrame '3148_WIG-ENERG_flat_base.csv'\n",
      "Saved DataFrame '3151_WIG-NRCHOM_rising_wedge.csv'\n",
      "Saved DataFrame '3154_WIG-NRCHOM_ascending_channel.csv'\n",
      "Saved DataFrame '3156_WIG-ENERG_resistance.csv'\n",
      "API request for index 3165 was not successful.\n",
      "API request for index 3174 was not successful.\n",
      "API request for index 3179 was not successful.\n"
     ]
    },
    {
     "name": "stdout",
     "output_type": "stream",
     "text": [
      "API request for index 3208 was not successful.\n",
      "API request for index 3209 was not successful.\n",
      "Saved DataFrame '3214_WIGDIV_double_top.csv'\n",
      "Saved DataFrame '3223_WIG-POLAND_pennant.csv'\n",
      "API request for index 3228 was not successful.\n",
      "API request for index 3232 was not successful.\n",
      "Saved DataFrame '3234_WIG-POLAND_double_top.csv'\n",
      "Saved DataFrame '3236_WIG-POLAND_double_top.csv'\n",
      "Saved DataFrame '3237_WIG20SHORT_double_bottom.csv'\n",
      "Saved DataFrame '3238_WIG-POLAND_asc._broad._wedge.csv'\n",
      "Saved DataFrame '3240_WIG-POLAND_rising_wedge.csv'\n",
      "API request for index 3247 was not successful.\n",
      "API request for index 3251 was not successful.\n",
      "API request for index 3252 was not successful.\n",
      "API request for index 3254 was not successful.\n",
      "API request for index 3256 was not successful.\n",
      "Saved DataFrame '3257_WIG-ENERG_falling_wedge.csv'\n",
      "Saved DataFrame '3258_WIG20_vertical_run_up.csv'\n",
      "API request for index 3260 was not successful.\n",
      "API request for index 3262 was not successful.\n",
      "Saved DataFrame '3263_WIG20_rising_wedge.csv'\n",
      "API request for index 3265 was not successful.\n",
      "Saved DataFrame '3266_WIG20SHORT_triangle.csv'\n",
      "API request for index 3267 was not successful.\n",
      "Saved DataFrame '3268_WIG-POLAND_ascending_channel.csv'\n",
      "API request for index 3276 was not successful.\n",
      "Saved DataFrame '3279_MWIG40_double_top.csv'\n",
      "Saved DataFrame '3282_WIG20SHORT_ascending_triangle.csv'\n",
      "Saved DataFrame '3287_WIG20_triangle.csv'\n",
      "API request for index 3295 was not successful.\n",
      "Saved DataFrame '3304_MWIG40_3_rising_valleys.csv'\n",
      "API request for index 3305 was not successful.\n",
      "API request for index 3326 was not successful.\n",
      "Saved DataFrame '3328_WIG-POLAND_flag.csv'\n",
      "Saved DataFrame '3329_WIG20_double_top.csv'\n",
      "Saved DataFrame '3334_WIG20SHORT_double_bottom.csv'\n",
      "Saved DataFrame '3335_WIG20SHORT_h&s_bottom.csv'\n",
      "Saved DataFrame '3336_WIG20SHORT_double_bottom.csv'\n",
      "Saved DataFrame '3338_WIG-NRCHOM_h&s_top.csv'\n",
      "Saved DataFrame '3349_WIG-POLAND_triangle.csv'\n",
      "Saved DataFrame '3355_WIG-CHEMIA_vertical_run_up.csv'\n",
      "API request for index 3356 was not successful.\n",
      "Saved DataFrame '3357_WIG-CHEMIA_vertical_run_up.csv'\n",
      "Saved DataFrame '3358_WIG-CHEMIA_3_rising_valleys.csv'\n",
      "API request for index 3373 was not successful.\n",
      "API request for index 3375 was not successful.\n",
      "API request for index 3384 was not successful.\n",
      "API request for index 3386 was not successful.\n",
      "API request for index 3400 was not successful.\n",
      "API request for index 3408 was not successful.\n",
      "API request for index 3411 was not successful.\n",
      "API request for index 3412 was not successful.\n",
      "Saved DataFrame '3413_WIG-CHEMIA_vertical_run_up.csv'\n",
      "Saved DataFrame '3414_WIG-NRCHOM_falling_wedge.csv'\n",
      "API request for index 3415 was not successful.\n",
      "Saved DataFrame '3420_WIGDIV_double_top.csv'\n",
      "Saved DataFrame '3428_WIG-NRCHOM_double_bottom.csv'\n",
      "Saved DataFrame '3430_WIG-NRCHOM_rising_wedge.csv'\n",
      "Saved DataFrame '3436_WIG-ENERG_ascending_channel.csv'\n",
      "API request for index 3445 was not successful.\n",
      "Saved DataFrame '3450_WIG20_double_top.csv'\n",
      "API request for index 3452 was not successful.\n",
      "API request for index 3456 was not successful.\n",
      "Saved DataFrame '3458_WIG20_vertical_run_up.csv'\n",
      "API request for index 3459 was not successful.\n",
      "API request for index 3477 was not successful.\n",
      "Saved DataFrame '3486_WIG-POLAND_ascending_channel.csv'\n",
      "Saved DataFrame '3487_WIG-ENERG_resistance.csv'\n",
      "Saved DataFrame '3489_WIG-ENERG_flat_base.csv'\n",
      "Saved DataFrame '3490_WIG-ENERG_vertical_run_up.csv'\n",
      "Saved DataFrame '3505_WIG-NRCHOM_falling_wedge.csv'\n",
      "Saved DataFrame '3508_WIG-NRCHOM_double_bottom.csv'\n",
      "Saved DataFrame '3512_WIG20_pennant.csv'\n",
      "Saved DataFrame '3513_WIG20_triangle.csv'\n",
      "Saved DataFrame '3518_WIG-CHEMIA_vertical_run_up.csv'\n",
      "Saved DataFrame '3519_WIG-NRCHOM_descending_channel.csv'\n",
      "Saved DataFrame '3525_WIG-POLAND_asc._broad._wedge.csv'\n",
      "API request for index 3532 was not successful.\n",
      "API request for index 3534 was not successful.\n",
      "API request for index 3556 was not successful.\n",
      "API request for index 3579 was not successful.\n",
      "API request for index 3587 was not successful.\n",
      "Saved DataFrame '3588_WIGDIV_desc._broad._wedge.csv'\n",
      "API request for index 3592 was not successful.\n",
      "API request for index 3597 was not successful.\n",
      "Saved DataFrame '3598_WIGDIV_double_bottom.csv'\n",
      "API request for index 3600 was not successful.\n",
      "API request for index 3619 was not successful.\n",
      "API request for index 3620 was not successful.\n",
      "API request for index 3628 was not successful.\n",
      "API request for index 3640 was not successful.\n",
      "Saved DataFrame '3643_WIG20SHORT_asc._broad._wedge.csv'\n",
      "API request for index 3644 was not successful.\n",
      "Saved DataFrame '3648_WIG-CHEMIA_double_bottom.csv'\n",
      "API request for index 3649 was not successful.\n",
      "Saved DataFrame '3651_MWIG40_double_bottom.csv'\n",
      "API request for index 3654 was not successful.\n",
      "API request for index 3656 was not successful.\n",
      "API request for index 3657 was not successful.\n",
      "Saved DataFrame '3673_WIG20_double_bottom.csv'\n",
      "API request for index 3678 was not successful.\n",
      "API request for index 3680 was not successful.\n",
      "API request for index 3685 was not successful.\n",
      "API request for index 3694 was not successful.\n",
      "Saved DataFrame '3702_WIG-POLAND_double_bottom.csv'\n",
      "API request for index 3707 was not successful.\n",
      "Saved DataFrame '3712_WIG-NRCHOM_desc._broad._wedge.csv'\n",
      "API request for index 3718 was not successful.\n",
      "Saved DataFrame '3721_MWIG40_triangle.csv'\n",
      "API request for index 3726 was not successful.\n",
      "Saved DataFrame '3734_WIG20_desc._broad._wedge.csv'\n",
      "API request for index 3738 was not successful.\n",
      "API request for index 3741 was not successful.\n",
      "API request for index 3769 was not successful.\n"
     ]
    }
   ],
   "source": [
    "eod_api = '64ef583e9a7137.71172021'\n",
    "eod_base = 'https://eodhistoricaldata.com/api/eod/'\n",
    "exchange = 'INDX'\n",
    "\n",
    "def time_to_string(date):\n",
    "    return date.strftime('%Y-%m-%d')\n",
    "\n",
    "\n",
    "for index, row in df.iterrows():\n",
    "    if row['Have data'] == False:\n",
    "        \n",
    "        if pd.isna(row['Ticker']):\n",
    "            symbol = row['Company']\n",
    "        else:\n",
    "            symbol = row['Ticker']\n",
    "            \n",
    "        from_date = time_to_string(row['API Start Date'])\n",
    "        to_date = time_to_string(row['API End Date'])\n",
    "\n",
    "        url = f'{eod_base}{symbol}.{exchange}?'\n",
    "\n",
    "        params = {\n",
    "            'api_token': eod_api,\n",
    "            'period': 'd',\n",
    "            'from': from_date,\n",
    "            'to': to_date\n",
    "        }\n",
    "\n",
    "        response = requests.get(url, params=params)\n",
    "\n",
    "        if response.status_code == 200:\n",
    "            csv_content = response.text\n",
    "\n",
    "            sub_df = pd.read_csv(StringIO(csv_content))\n",
    "\n",
    "            pattern = row['Pattern'].replace(\" \", \"_\").lower()\n",
    "            dataframe_name = f\"{index}_{symbol}_{pattern}.csv\"\n",
    "\n",
    "\n",
    "            sub_df.to_csv(dataframe_name, index=False)\n",
    "            print(f\"Saved DataFrame '{dataframe_name}'\")\n",
    "        else:\n",
    "            print(f\"API request for index {index} was not successful.\")"
   ]
  },
  {
   "cell_type": "code",
   "execution_count": 40,
   "id": "fce77cb3",
   "metadata": {},
   "outputs": [
    {
     "data": {
      "text/html": [
       "<div>\n",
       "<style scoped>\n",
       "    .dataframe tbody tr th:only-of-type {\n",
       "        vertical-align: middle;\n",
       "    }\n",
       "\n",
       "    .dataframe tbody tr th {\n",
       "        vertical-align: top;\n",
       "    }\n",
       "\n",
       "    .dataframe thead th {\n",
       "        text-align: right;\n",
       "    }\n",
       "</style>\n",
       "<table border=\"1\" class=\"dataframe\">\n",
       "  <thead>\n",
       "    <tr style=\"text-align: right;\">\n",
       "      <th></th>\n",
       "      <th>Company</th>\n",
       "      <th>Pattern</th>\n",
       "      <th>Width</th>\n",
       "      <th>End Date</th>\n",
       "      <th>Breakout Date</th>\n",
       "      <th>Ticker</th>\n",
       "      <th>API End Date</th>\n",
       "      <th>API Start Date</th>\n",
       "      <th>Have data</th>\n",
       "    </tr>\n",
       "  </thead>\n",
       "  <tbody>\n",
       "    <tr>\n",
       "      <th>0</th>\n",
       "      <td>SANOK (SNK)</td>\n",
       "      <td>H&amp;S top</td>\n",
       "      <td>58</td>\n",
       "      <td>2023-08-15</td>\n",
       "      <td>NaN</td>\n",
       "      <td>SNK</td>\n",
       "      <td>2024-02-05</td>\n",
       "      <td>2022-12-26</td>\n",
       "      <td>True</td>\n",
       "    </tr>\n",
       "    <tr>\n",
       "      <th>1</th>\n",
       "      <td>GETIN (GTN)</td>\n",
       "      <td>Vertical run up</td>\n",
       "      <td>13</td>\n",
       "      <td>2023-08-03</td>\n",
       "      <td>NaN</td>\n",
       "      <td>GTN</td>\n",
       "      <td>2023-09-11</td>\n",
       "      <td>2023-06-12</td>\n",
       "      <td>True</td>\n",
       "    </tr>\n",
       "    <tr>\n",
       "      <th>2</th>\n",
       "      <td>PEKAO (PEO)</td>\n",
       "      <td>H&amp;S top</td>\n",
       "      <td>47</td>\n",
       "      <td>2023-08-30</td>\n",
       "      <td>NaN</td>\n",
       "      <td>PEO</td>\n",
       "      <td>2024-01-18</td>\n",
       "      <td>2023-02-23</td>\n",
       "      <td>True</td>\n",
       "    </tr>\n",
       "  </tbody>\n",
       "</table>\n",
       "</div>"
      ],
      "text/plain": [
       "       Company          Pattern  Width   End Date Breakout Date Ticker  \\\n",
       "0  SANOK (SNK)          H&S top     58 2023-08-15           NaN    SNK   \n",
       "1  GETIN (GTN)  Vertical run up     13 2023-08-03           NaN    GTN   \n",
       "2  PEKAO (PEO)          H&S top     47 2023-08-30           NaN    PEO   \n",
       "\n",
       "  API End Date API Start Date Have data  \n",
       "0   2024-02-05     2022-12-26      True  \n",
       "1   2023-09-11     2023-06-12      True  \n",
       "2   2024-01-18     2023-02-23      True  "
      ]
     },
     "execution_count": 40,
     "metadata": {},
     "output_type": "execute_result"
    }
   ],
   "source": [
    "for index, row in df.iterrows():\n",
    "    ticker = row.Ticker\n",
    "    id_num = index\n",
    "    pattern = '_'.join(word.lower() for word in row.Pattern.split())\n",
    "    folder_name = f'data/patterns/{pattern}'\n",
    "    \n",
    "    f_name = f'{index}_{ticker}_{pattern}.csv'\n",
    "    f_path = os.path.join(folder_name, f_name)\n",
    "    \n",
    "    if os.path.exists(f_path):\n",
    "        df.at[index, 'Have data'] = True\n",
    "    else:\n",
    "        df.at[index, 'Have data'] = False\n",
    "        \n",
    "df.head(3)"
   ]
  },
  {
   "cell_type": "code",
   "execution_count": 41,
   "id": "3ebb0222",
   "metadata": {},
   "outputs": [
    {
     "data": {
      "text/plain": [
       "'There are 486 rows of missing data'"
      ]
     },
     "metadata": {},
     "output_type": "display_data"
    },
    {
     "data": {
      "text/plain": [
       "'There are 3284 completed DataFrames.'"
      ]
     },
     "metadata": {},
     "output_type": "display_data"
    },
    {
     "data": {
      "text/html": [
       "<div>\n",
       "<style scoped>\n",
       "    .dataframe tbody tr th:only-of-type {\n",
       "        vertical-align: middle;\n",
       "    }\n",
       "\n",
       "    .dataframe tbody tr th {\n",
       "        vertical-align: top;\n",
       "    }\n",
       "\n",
       "    .dataframe thead th {\n",
       "        text-align: right;\n",
       "    }\n",
       "</style>\n",
       "<table border=\"1\" class=\"dataframe\">\n",
       "  <thead>\n",
       "    <tr style=\"text-align: right;\">\n",
       "      <th></th>\n",
       "      <th>Company</th>\n",
       "      <th>Pattern</th>\n",
       "      <th>Width</th>\n",
       "      <th>End Date</th>\n",
       "      <th>Breakout Date</th>\n",
       "      <th>Ticker</th>\n",
       "      <th>API End Date</th>\n",
       "      <th>API Start Date</th>\n",
       "      <th>Have data</th>\n",
       "    </tr>\n",
       "  </thead>\n",
       "  <tbody>\n",
       "    <tr>\n",
       "      <th>12</th>\n",
       "      <td>WIG-CHEMIA</td>\n",
       "      <td>Double bottom</td>\n",
       "      <td>60</td>\n",
       "      <td>2023-08-28</td>\n",
       "      <td>NaN</td>\n",
       "      <td>NaN</td>\n",
       "      <td>2024-02-24</td>\n",
       "      <td>2022-12-31</td>\n",
       "      <td>False</td>\n",
       "    </tr>\n",
       "    <tr>\n",
       "      <th>24</th>\n",
       "      <td>WIG-NRCHOM</td>\n",
       "      <td>Double top</td>\n",
       "      <td>11</td>\n",
       "      <td>2023-08-02</td>\n",
       "      <td>NaN</td>\n",
       "      <td>NaN</td>\n",
       "      <td>2023-09-04</td>\n",
       "      <td>2023-06-19</td>\n",
       "      <td>False</td>\n",
       "    </tr>\n",
       "    <tr>\n",
       "      <th>29</th>\n",
       "      <td>WIG-ENERG</td>\n",
       "      <td>H&amp;S top</td>\n",
       "      <td>10</td>\n",
       "      <td>2023-08-30</td>\n",
       "      <td>NaN</td>\n",
       "      <td>NaN</td>\n",
       "      <td>2023-09-29</td>\n",
       "      <td>2023-07-21</td>\n",
       "      <td>False</td>\n",
       "    </tr>\n",
       "    <tr>\n",
       "      <th>44</th>\n",
       "      <td>WIG-POLAND</td>\n",
       "      <td>Flag</td>\n",
       "      <td>25</td>\n",
       "      <td>2023-08-11</td>\n",
       "      <td>NaN</td>\n",
       "      <td>NaN</td>\n",
       "      <td>2023-10-25</td>\n",
       "      <td>2023-05-03</td>\n",
       "      <td>False</td>\n",
       "    </tr>\n",
       "    <tr>\n",
       "      <th>48</th>\n",
       "      <td>WIG-NRCHOM</td>\n",
       "      <td>Pennant</td>\n",
       "      <td>38</td>\n",
       "      <td>2023-08-22</td>\n",
       "      <td>NaN</td>\n",
       "      <td>NaN</td>\n",
       "      <td>2023-12-14</td>\n",
       "      <td>2023-03-23</td>\n",
       "      <td>False</td>\n",
       "    </tr>\n",
       "  </tbody>\n",
       "</table>\n",
       "</div>"
      ],
      "text/plain": [
       "       Company        Pattern  Width   End Date Breakout Date Ticker  \\\n",
       "12  WIG-CHEMIA  Double bottom     60 2023-08-28           NaN    NaN   \n",
       "24  WIG-NRCHOM     Double top     11 2023-08-02           NaN    NaN   \n",
       "29   WIG-ENERG        H&S top     10 2023-08-30           NaN    NaN   \n",
       "44  WIG-POLAND           Flag     25 2023-08-11           NaN    NaN   \n",
       "48  WIG-NRCHOM        Pennant     38 2023-08-22           NaN    NaN   \n",
       "\n",
       "   API End Date API Start Date Have data  \n",
       "12   2024-02-24     2022-12-31     False  \n",
       "24   2023-09-04     2023-06-19     False  \n",
       "29   2023-09-29     2023-07-21     False  \n",
       "44   2023-10-25     2023-05-03     False  \n",
       "48   2023-12-14     2023-03-23     False  "
      ]
     },
     "metadata": {},
     "output_type": "display_data"
    },
    {
     "data": {
      "text/plain": [
       "Ticker\n",
       "FW20    30\n",
       "Name: count, dtype: int64"
      ]
     },
     "metadata": {},
     "output_type": "display_data"
    }
   ],
   "source": [
    "missing_data = df[df['Have data'] == False]\n",
    "display(f'There are {missing_data.shape[0]} rows of missing data')\n",
    "display(f'There are {df.shape[0] - missing_data.shape[0]} completed DataFrames.')\n",
    "display(missing_data.head())\n",
    "display(missing_data['Ticker'].value_counts())"
   ]
  },
  {
   "cell_type": "markdown",
   "id": "96998456",
   "metadata": {},
   "source": [
    "## Visualising Patterns"
   ]
  },
  {
   "cell_type": "code",
   "execution_count": 46,
   "id": "efa6c513",
   "metadata": {},
   "outputs": [
    {
     "data": {
      "application/vnd.plotly.v1+json": {
       "config": {
        "plotlyServerURL": "https://plot.ly"
       },
       "data": [
        {
         "close": [
          13.34,
          13.34,
          13.62,
          13.68,
          13.9,
          14.6,
          14.68,
          14.7,
          15.02,
          14.5,
          14.7,
          14.6,
          14.54,
          14.68,
          14.54,
          14.48,
          14.48,
          14.3,
          14.84,
          14.7,
          14.84,
          14.8,
          15.92,
          16.38,
          16.7,
          16.7,
          16.54,
          16.4,
          15.88,
          15.8,
          16.18,
          16.36,
          16.24,
          16.08,
          17.1,
          17.64,
          17.12,
          17.18,
          17.1,
          17.24,
          17,
          17.06,
          17.06,
          16.82,
          16.9,
          17.3,
          17.1,
          17.2,
          16.9,
          17.04,
          17.16,
          17.06,
          16.32,
          15.82,
          15.7,
          15.44,
          15.68,
          15.94,
          15.4,
          15.74,
          15.96,
          15.94,
          17.5,
          18.12,
          17.72,
          18.5,
          18.48,
          19,
          19.28,
          19.18,
          18.8,
          18.98,
          19.24,
          19.44,
          19.36,
          19.34,
          19.42,
          19.06,
          19.18,
          19.2,
          19.3,
          19.3,
          19.2,
          18.95,
          18.2,
          18.45,
          19.6,
          20,
          20.7,
          20.6,
          20.5,
          20.7,
          20.8,
          20.7,
          20.3,
          20,
          19.95,
          19.85,
          20.6,
          20.3,
          20.4,
          20.8,
          20.1,
          19.95,
          20,
          20.3,
          19.55,
          19.45,
          19.85,
          19.5,
          20.9,
          20.9,
          21.3,
          21.3,
          20.4,
          20.4,
          20.3,
          20.3,
          20.6,
          20.1,
          20.4,
          20.6,
          20.1,
          20.3,
          21,
          21.5,
          22.3,
          22.9,
          21.8,
          21.9,
          20.7,
          20.3,
          20.4,
          20.2,
          20.3,
          20.3,
          20.4,
          20.4,
          20.3,
          20.6,
          21.5,
          20.8,
          21.1,
          21.4,
          21,
          20.6,
          20.6,
          21,
          21.1,
          20.8,
          20.6,
          20.4,
          20.5,
          20,
          19.9,
          19.75,
          19.95,
          19.55,
          19.95,
          19.7,
          19.8,
          19.9,
          19.8,
          19.9,
          19.9,
          20,
          19.65,
          19.4,
          19.15,
          19.2
         ],
         "high": [
          13.68,
          13.36,
          13.7,
          13.7,
          14,
          14.6,
          15,
          14.8,
          15.02,
          15.02,
          14.98,
          15,
          14.6,
          14.7,
          14.82,
          14.54,
          14.5,
          14.34,
          14.96,
          15,
          14.9,
          14.86,
          16.28,
          16.5,
          17.1,
          17,
          16.8,
          16.56,
          16.38,
          16,
          16.2,
          16.52,
          16.36,
          16.32,
          17.1,
          17.76,
          17.7,
          17.3,
          17.18,
          17.28,
          17.3,
          17.1,
          17.1,
          16.9,
          16.9,
          17.3,
          17.2,
          17.2,
          17.2,
          17.1,
          17.16,
          17.18,
          17,
          16.32,
          16.2,
          15.7,
          15.68,
          16,
          15.9,
          15.9,
          16.16,
          16.2,
          17.9,
          18.24,
          18.2,
          18.5,
          18.48,
          19.24,
          19.44,
          19.24,
          19.1,
          19,
          19.24,
          19.44,
          19.44,
          19.4,
          19.54,
          19.42,
          19.26,
          19.3,
          19.3,
          19.4,
          19.4,
          19.2,
          18.95,
          18.45,
          19.6,
          20.9,
          20.8,
          20.7,
          20.8,
          20.8,
          20.9,
          20.7,
          20.8,
          20.3,
          20,
          20,
          21.8,
          20.7,
          21.1,
          20.8,
          20.8,
          20.4,
          20.2,
          20.6,
          20.1,
          19.7,
          20,
          19.85,
          20.9,
          20.9,
          21.3,
          21.4,
          21.3,
          20.7,
          20.4,
          20.3,
          20.7,
          20.5,
          20.4,
          20.6,
          20.6,
          20.3,
          21,
          21.5,
          22.3,
          22.9,
          22.9,
          21.9,
          20.9,
          20.9,
          20.8,
          20.4,
          20.3,
          20.6,
          20.7,
          20.5,
          20.4,
          20.6,
          22,
          21.6,
          21.6,
          21.4,
          21.5,
          21.2,
          20.8,
          21.2,
          21.1,
          21.1,
          20.7,
          20.6,
          20.8,
          20.8,
          20.2,
          19.8,
          20,
          19.85,
          20.6,
          19.9,
          20,
          20,
          20,
          20,
          20,
          20.1,
          20.8,
          19.8,
          19.4,
          19.2
         ],
         "low": [
          13.3,
          13.06,
          13.36,
          13.38,
          13.6,
          13.88,
          14.5,
          14.3,
          14.4,
          14.4,
          14.4,
          14.4,
          14.34,
          14.2,
          14.38,
          14.34,
          14.3,
          14.2,
          14.3,
          14.42,
          14.42,
          14.5,
          14.54,
          15.7,
          16.38,
          16.3,
          16.34,
          16.3,
          15.84,
          15.42,
          15.78,
          16.2,
          16.08,
          15.94,
          16.3,
          17.1,
          17.02,
          17,
          17,
          16.9,
          16.9,
          16.94,
          16.94,
          16.82,
          16.68,
          16.72,
          16.9,
          16.82,
          16.88,
          16.9,
          16.82,
          16.9,
          16.3,
          15,
          15.2,
          15.06,
          15.2,
          15.5,
          15.08,
          15.42,
          15.64,
          15.78,
          16.98,
          17.4,
          17.7,
          17.72,
          18.24,
          18.48,
          19,
          18.98,
          18.6,
          18.52,
          18.84,
          18.94,
          19,
          18.8,
          18.92,
          19.06,
          19,
          18.65,
          19,
          19,
          19,
          18.8,
          18.1,
          18.1,
          18.25,
          19.3,
          19.65,
          20.3,
          20.1,
          20.4,
          20.6,
          20.5,
          19.7,
          20,
          19.7,
          19.75,
          20.3,
          20.1,
          20.3,
          20.3,
          20.1,
          19.9,
          19.8,
          20,
          19.5,
          19.3,
          19.3,
          19.4,
          19.5,
          20.6,
          20.6,
          21,
          20.4,
          20.2,
          19.95,
          19.9,
          20.2,
          19.9,
          19.7,
          19.9,
          20.1,
          20,
          20.1,
          20.7,
          21.5,
          22.2,
          21.8,
          21.3,
          20.4,
          20,
          20.3,
          19.6,
          20,
          20.2,
          20.2,
          20,
          20,
          20,
          20.6,
          20.8,
          20.8,
          21,
          20.9,
          20.2,
          20.6,
          20.5,
          20.7,
          20.4,
          20.3,
          20.2,
          20.3,
          20,
          18.85,
          19.45,
          19.6,
          19.45,
          19.55,
          19.55,
          19.6,
          19.65,
          19.6,
          19.7,
          19.75,
          19.75,
          19.65,
          19,
          19.05,
          19
         ],
         "open": [
          13.68,
          13.34,
          13.38,
          13.38,
          13.78,
          13.9,
          14.7,
          14.78,
          14.7,
          15.02,
          14.7,
          14.7,
          14.6,
          14.6,
          14.7,
          14.4,
          14.48,
          14.28,
          14.48,
          14.78,
          14.72,
          14.72,
          14.8,
          16.1,
          16.48,
          16.8,
          16.68,
          16.4,
          16.2,
          15.86,
          15.78,
          16.3,
          16.24,
          16.3,
          16.3,
          17.12,
          17.64,
          17.1,
          17.18,
          17,
          17.06,
          17.1,
          16.98,
          16.9,
          16.8,
          17,
          17.18,
          16.98,
          17.2,
          16.9,
          17,
          17.04,
          16.82,
          16.32,
          15.8,
          15.5,
          15.24,
          15.66,
          15.9,
          15.58,
          15.9,
          15.96,
          17.1,
          17.5,
          18.2,
          17.72,
          18.26,
          18.5,
          19,
          19.08,
          19.1,
          18.62,
          18.84,
          19.24,
          19.4,
          19.4,
          19.36,
          19.42,
          19.06,
          18.8,
          19.2,
          19.3,
          19.4,
          19.2,
          18.95,
          18.2,
          18.25,
          19.3,
          20,
          20.6,
          20.6,
          20.6,
          20.7,
          20.7,
          20.8,
          20.3,
          19.9,
          19.9,
          21,
          20.6,
          20.3,
          20.3,
          20.8,
          20.3,
          20.2,
          20.1,
          20.1,
          19.5,
          19.35,
          19.85,
          19.5,
          20.9,
          20.6,
          21.2,
          21.3,
          20.4,
          20.4,
          20.1,
          20.3,
          20.5,
          20,
          20.2,
          20.6,
          20.1,
          20.3,
          21,
          21.6,
          22.4,
          22.8,
          21.9,
          20.9,
          20.7,
          20.4,
          20.4,
          20.2,
          20.3,
          20.3,
          20.4,
          20.1,
          20.3,
          20.6,
          21.6,
          20.9,
          21.1,
          21.5,
          21,
          20.6,
          20.5,
          21,
          20.5,
          20.5,
          20.5,
          20.5,
          20.5,
          20,
          19.65,
          19.6,
          19.75,
          19.55,
          19.9,
          19.8,
          19.8,
          19.9,
          19.9,
          19.85,
          19.95,
          20.6,
          19.6,
          19.2,
          19.2
         ],
         "type": "candlestick",
         "x": [
          "2022-12-27",
          "2022-12-28",
          "2022-12-29",
          "2022-12-30",
          "2023-01-02",
          "2023-01-03",
          "2023-01-04",
          "2023-01-05",
          "2023-01-09",
          "2023-01-10",
          "2023-01-11",
          "2023-01-12",
          "2023-01-13",
          "2023-01-16",
          "2023-01-17",
          "2023-01-18",
          "2023-01-19",
          "2023-01-20",
          "2023-01-23",
          "2023-01-24",
          "2023-01-25",
          "2023-01-26",
          "2023-01-27",
          "2023-01-30",
          "2023-01-31",
          "2023-02-01",
          "2023-02-02",
          "2023-02-03",
          "2023-02-06",
          "2023-02-07",
          "2023-02-08",
          "2023-02-09",
          "2023-02-10",
          "2023-02-13",
          "2023-02-14",
          "2023-02-15",
          "2023-02-16",
          "2023-02-17",
          "2023-02-20",
          "2023-02-21",
          "2023-02-22",
          "2023-02-23",
          "2023-02-24",
          "2023-02-27",
          "2023-02-28",
          "2023-03-01",
          "2023-03-02",
          "2023-03-03",
          "2023-03-06",
          "2023-03-07",
          "2023-03-08",
          "2023-03-09",
          "2023-03-10",
          "2023-03-13",
          "2023-03-14",
          "2023-03-15",
          "2023-03-16",
          "2023-03-17",
          "2023-03-20",
          "2023-03-21",
          "2023-03-22",
          "2023-03-23",
          "2023-03-24",
          "2023-03-27",
          "2023-03-28",
          "2023-03-29",
          "2023-03-30",
          "2023-03-31",
          "2023-04-03",
          "2023-04-04",
          "2023-04-05",
          "2023-04-06",
          "2023-04-11",
          "2023-04-12",
          "2023-04-13",
          "2023-04-14",
          "2023-04-17",
          "2023-04-18",
          "2023-04-19",
          "2023-04-20",
          "2023-04-21",
          "2023-04-24",
          "2023-04-25",
          "2023-04-26",
          "2023-04-27",
          "2023-04-28",
          "2023-05-02",
          "2023-05-04",
          "2023-05-05",
          "2023-05-08",
          "2023-05-09",
          "2023-05-10",
          "2023-05-11",
          "2023-05-12",
          "2023-05-15",
          "2023-05-16",
          "2023-05-17",
          "2023-05-18",
          "2023-05-19",
          "2023-05-22",
          "2023-05-23",
          "2023-05-24",
          "2023-05-25",
          "2023-05-26",
          "2023-05-29",
          "2023-05-30",
          "2023-05-31",
          "2023-06-01",
          "2023-06-02",
          "2023-06-05",
          "2023-06-06",
          "2023-06-07",
          "2023-06-09",
          "2023-06-12",
          "2023-06-13",
          "2023-06-14",
          "2023-06-15",
          "2023-06-16",
          "2023-06-19",
          "2023-06-20",
          "2023-06-21",
          "2023-06-22",
          "2023-06-23",
          "2023-06-26",
          "2023-06-27",
          "2023-06-28",
          "2023-06-29",
          "2023-06-30",
          "2023-07-03",
          "2023-07-04",
          "2023-07-05",
          "2023-07-06",
          "2023-07-07",
          "2023-07-10",
          "2023-07-11",
          "2023-07-12",
          "2023-07-13",
          "2023-07-14",
          "2023-07-17",
          "2023-07-18",
          "2023-07-19",
          "2023-07-20",
          "2023-07-21",
          "2023-07-24",
          "2023-07-25",
          "2023-07-26",
          "2023-07-27",
          "2023-07-28",
          "2023-07-31",
          "2023-08-01",
          "2023-08-02",
          "2023-08-03",
          "2023-08-04",
          "2023-08-07",
          "2023-08-08",
          "2023-08-09",
          "2023-08-10",
          "2023-08-11",
          "2023-08-14",
          "2023-08-16",
          "2023-08-17",
          "2023-08-18",
          "2023-08-21",
          "2023-08-22",
          "2023-08-23",
          "2023-08-24",
          "2023-08-25",
          "2023-08-28",
          "2023-08-29",
          "2023-08-30"
         ]
        }
       ],
       "layout": {
        "template": {
         "data": {
          "bar": [
           {
            "error_x": {
             "color": "#2a3f5f"
            },
            "error_y": {
             "color": "#2a3f5f"
            },
            "marker": {
             "line": {
              "color": "#E5ECF6",
              "width": 0.5
             },
             "pattern": {
              "fillmode": "overlay",
              "size": 10,
              "solidity": 0.2
             }
            },
            "type": "bar"
           }
          ],
          "barpolar": [
           {
            "marker": {
             "line": {
              "color": "#E5ECF6",
              "width": 0.5
             },
             "pattern": {
              "fillmode": "overlay",
              "size": 10,
              "solidity": 0.2
             }
            },
            "type": "barpolar"
           }
          ],
          "carpet": [
           {
            "aaxis": {
             "endlinecolor": "#2a3f5f",
             "gridcolor": "white",
             "linecolor": "white",
             "minorgridcolor": "white",
             "startlinecolor": "#2a3f5f"
            },
            "baxis": {
             "endlinecolor": "#2a3f5f",
             "gridcolor": "white",
             "linecolor": "white",
             "minorgridcolor": "white",
             "startlinecolor": "#2a3f5f"
            },
            "type": "carpet"
           }
          ],
          "choropleth": [
           {
            "colorbar": {
             "outlinewidth": 0,
             "ticks": ""
            },
            "type": "choropleth"
           }
          ],
          "contour": [
           {
            "colorbar": {
             "outlinewidth": 0,
             "ticks": ""
            },
            "colorscale": [
             [
              0,
              "#0d0887"
             ],
             [
              0.1111111111111111,
              "#46039f"
             ],
             [
              0.2222222222222222,
              "#7201a8"
             ],
             [
              0.3333333333333333,
              "#9c179e"
             ],
             [
              0.4444444444444444,
              "#bd3786"
             ],
             [
              0.5555555555555556,
              "#d8576b"
             ],
             [
              0.6666666666666666,
              "#ed7953"
             ],
             [
              0.7777777777777778,
              "#fb9f3a"
             ],
             [
              0.8888888888888888,
              "#fdca26"
             ],
             [
              1,
              "#f0f921"
             ]
            ],
            "type": "contour"
           }
          ],
          "contourcarpet": [
           {
            "colorbar": {
             "outlinewidth": 0,
             "ticks": ""
            },
            "type": "contourcarpet"
           }
          ],
          "heatmap": [
           {
            "colorbar": {
             "outlinewidth": 0,
             "ticks": ""
            },
            "colorscale": [
             [
              0,
              "#0d0887"
             ],
             [
              0.1111111111111111,
              "#46039f"
             ],
             [
              0.2222222222222222,
              "#7201a8"
             ],
             [
              0.3333333333333333,
              "#9c179e"
             ],
             [
              0.4444444444444444,
              "#bd3786"
             ],
             [
              0.5555555555555556,
              "#d8576b"
             ],
             [
              0.6666666666666666,
              "#ed7953"
             ],
             [
              0.7777777777777778,
              "#fb9f3a"
             ],
             [
              0.8888888888888888,
              "#fdca26"
             ],
             [
              1,
              "#f0f921"
             ]
            ],
            "type": "heatmap"
           }
          ],
          "heatmapgl": [
           {
            "colorbar": {
             "outlinewidth": 0,
             "ticks": ""
            },
            "colorscale": [
             [
              0,
              "#0d0887"
             ],
             [
              0.1111111111111111,
              "#46039f"
             ],
             [
              0.2222222222222222,
              "#7201a8"
             ],
             [
              0.3333333333333333,
              "#9c179e"
             ],
             [
              0.4444444444444444,
              "#bd3786"
             ],
             [
              0.5555555555555556,
              "#d8576b"
             ],
             [
              0.6666666666666666,
              "#ed7953"
             ],
             [
              0.7777777777777778,
              "#fb9f3a"
             ],
             [
              0.8888888888888888,
              "#fdca26"
             ],
             [
              1,
              "#f0f921"
             ]
            ],
            "type": "heatmapgl"
           }
          ],
          "histogram": [
           {
            "marker": {
             "pattern": {
              "fillmode": "overlay",
              "size": 10,
              "solidity": 0.2
             }
            },
            "type": "histogram"
           }
          ],
          "histogram2d": [
           {
            "colorbar": {
             "outlinewidth": 0,
             "ticks": ""
            },
            "colorscale": [
             [
              0,
              "#0d0887"
             ],
             [
              0.1111111111111111,
              "#46039f"
             ],
             [
              0.2222222222222222,
              "#7201a8"
             ],
             [
              0.3333333333333333,
              "#9c179e"
             ],
             [
              0.4444444444444444,
              "#bd3786"
             ],
             [
              0.5555555555555556,
              "#d8576b"
             ],
             [
              0.6666666666666666,
              "#ed7953"
             ],
             [
              0.7777777777777778,
              "#fb9f3a"
             ],
             [
              0.8888888888888888,
              "#fdca26"
             ],
             [
              1,
              "#f0f921"
             ]
            ],
            "type": "histogram2d"
           }
          ],
          "histogram2dcontour": [
           {
            "colorbar": {
             "outlinewidth": 0,
             "ticks": ""
            },
            "colorscale": [
             [
              0,
              "#0d0887"
             ],
             [
              0.1111111111111111,
              "#46039f"
             ],
             [
              0.2222222222222222,
              "#7201a8"
             ],
             [
              0.3333333333333333,
              "#9c179e"
             ],
             [
              0.4444444444444444,
              "#bd3786"
             ],
             [
              0.5555555555555556,
              "#d8576b"
             ],
             [
              0.6666666666666666,
              "#ed7953"
             ],
             [
              0.7777777777777778,
              "#fb9f3a"
             ],
             [
              0.8888888888888888,
              "#fdca26"
             ],
             [
              1,
              "#f0f921"
             ]
            ],
            "type": "histogram2dcontour"
           }
          ],
          "mesh3d": [
           {
            "colorbar": {
             "outlinewidth": 0,
             "ticks": ""
            },
            "type": "mesh3d"
           }
          ],
          "parcoords": [
           {
            "line": {
             "colorbar": {
              "outlinewidth": 0,
              "ticks": ""
             }
            },
            "type": "parcoords"
           }
          ],
          "pie": [
           {
            "automargin": true,
            "type": "pie"
           }
          ],
          "scatter": [
           {
            "fillpattern": {
             "fillmode": "overlay",
             "size": 10,
             "solidity": 0.2
            },
            "type": "scatter"
           }
          ],
          "scatter3d": [
           {
            "line": {
             "colorbar": {
              "outlinewidth": 0,
              "ticks": ""
             }
            },
            "marker": {
             "colorbar": {
              "outlinewidth": 0,
              "ticks": ""
             }
            },
            "type": "scatter3d"
           }
          ],
          "scattercarpet": [
           {
            "marker": {
             "colorbar": {
              "outlinewidth": 0,
              "ticks": ""
             }
            },
            "type": "scattercarpet"
           }
          ],
          "scattergeo": [
           {
            "marker": {
             "colorbar": {
              "outlinewidth": 0,
              "ticks": ""
             }
            },
            "type": "scattergeo"
           }
          ],
          "scattergl": [
           {
            "marker": {
             "colorbar": {
              "outlinewidth": 0,
              "ticks": ""
             }
            },
            "type": "scattergl"
           }
          ],
          "scattermapbox": [
           {
            "marker": {
             "colorbar": {
              "outlinewidth": 0,
              "ticks": ""
             }
            },
            "type": "scattermapbox"
           }
          ],
          "scatterpolar": [
           {
            "marker": {
             "colorbar": {
              "outlinewidth": 0,
              "ticks": ""
             }
            },
            "type": "scatterpolar"
           }
          ],
          "scatterpolargl": [
           {
            "marker": {
             "colorbar": {
              "outlinewidth": 0,
              "ticks": ""
             }
            },
            "type": "scatterpolargl"
           }
          ],
          "scatterternary": [
           {
            "marker": {
             "colorbar": {
              "outlinewidth": 0,
              "ticks": ""
             }
            },
            "type": "scatterternary"
           }
          ],
          "surface": [
           {
            "colorbar": {
             "outlinewidth": 0,
             "ticks": ""
            },
            "colorscale": [
             [
              0,
              "#0d0887"
             ],
             [
              0.1111111111111111,
              "#46039f"
             ],
             [
              0.2222222222222222,
              "#7201a8"
             ],
             [
              0.3333333333333333,
              "#9c179e"
             ],
             [
              0.4444444444444444,
              "#bd3786"
             ],
             [
              0.5555555555555556,
              "#d8576b"
             ],
             [
              0.6666666666666666,
              "#ed7953"
             ],
             [
              0.7777777777777778,
              "#fb9f3a"
             ],
             [
              0.8888888888888888,
              "#fdca26"
             ],
             [
              1,
              "#f0f921"
             ]
            ],
            "type": "surface"
           }
          ],
          "table": [
           {
            "cells": {
             "fill": {
              "color": "#EBF0F8"
             },
             "line": {
              "color": "white"
             }
            },
            "header": {
             "fill": {
              "color": "#C8D4E3"
             },
             "line": {
              "color": "white"
             }
            },
            "type": "table"
           }
          ]
         },
         "layout": {
          "annotationdefaults": {
           "arrowcolor": "#2a3f5f",
           "arrowhead": 0,
           "arrowwidth": 1
          },
          "autotypenumbers": "strict",
          "coloraxis": {
           "colorbar": {
            "outlinewidth": 0,
            "ticks": ""
           }
          },
          "colorscale": {
           "diverging": [
            [
             0,
             "#8e0152"
            ],
            [
             0.1,
             "#c51b7d"
            ],
            [
             0.2,
             "#de77ae"
            ],
            [
             0.3,
             "#f1b6da"
            ],
            [
             0.4,
             "#fde0ef"
            ],
            [
             0.5,
             "#f7f7f7"
            ],
            [
             0.6,
             "#e6f5d0"
            ],
            [
             0.7,
             "#b8e186"
            ],
            [
             0.8,
             "#7fbc41"
            ],
            [
             0.9,
             "#4d9221"
            ],
            [
             1,
             "#276419"
            ]
           ],
           "sequential": [
            [
             0,
             "#0d0887"
            ],
            [
             0.1111111111111111,
             "#46039f"
            ],
            [
             0.2222222222222222,
             "#7201a8"
            ],
            [
             0.3333333333333333,
             "#9c179e"
            ],
            [
             0.4444444444444444,
             "#bd3786"
            ],
            [
             0.5555555555555556,
             "#d8576b"
            ],
            [
             0.6666666666666666,
             "#ed7953"
            ],
            [
             0.7777777777777778,
             "#fb9f3a"
            ],
            [
             0.8888888888888888,
             "#fdca26"
            ],
            [
             1,
             "#f0f921"
            ]
           ],
           "sequentialminus": [
            [
             0,
             "#0d0887"
            ],
            [
             0.1111111111111111,
             "#46039f"
            ],
            [
             0.2222222222222222,
             "#7201a8"
            ],
            [
             0.3333333333333333,
             "#9c179e"
            ],
            [
             0.4444444444444444,
             "#bd3786"
            ],
            [
             0.5555555555555556,
             "#d8576b"
            ],
            [
             0.6666666666666666,
             "#ed7953"
            ],
            [
             0.7777777777777778,
             "#fb9f3a"
            ],
            [
             0.8888888888888888,
             "#fdca26"
            ],
            [
             1,
             "#f0f921"
            ]
           ]
          },
          "colorway": [
           "#636efa",
           "#EF553B",
           "#00cc96",
           "#ab63fa",
           "#FFA15A",
           "#19d3f3",
           "#FF6692",
           "#B6E880",
           "#FF97FF",
           "#FECB52"
          ],
          "font": {
           "color": "#2a3f5f"
          },
          "geo": {
           "bgcolor": "white",
           "lakecolor": "white",
           "landcolor": "#E5ECF6",
           "showlakes": true,
           "showland": true,
           "subunitcolor": "white"
          },
          "hoverlabel": {
           "align": "left"
          },
          "hovermode": "closest",
          "mapbox": {
           "style": "light"
          },
          "paper_bgcolor": "white",
          "plot_bgcolor": "#E5ECF6",
          "polar": {
           "angularaxis": {
            "gridcolor": "white",
            "linecolor": "white",
            "ticks": ""
           },
           "bgcolor": "#E5ECF6",
           "radialaxis": {
            "gridcolor": "white",
            "linecolor": "white",
            "ticks": ""
           }
          },
          "scene": {
           "xaxis": {
            "backgroundcolor": "#E5ECF6",
            "gridcolor": "white",
            "gridwidth": 2,
            "linecolor": "white",
            "showbackground": true,
            "ticks": "",
            "zerolinecolor": "white"
           },
           "yaxis": {
            "backgroundcolor": "#E5ECF6",
            "gridcolor": "white",
            "gridwidth": 2,
            "linecolor": "white",
            "showbackground": true,
            "ticks": "",
            "zerolinecolor": "white"
           },
           "zaxis": {
            "backgroundcolor": "#E5ECF6",
            "gridcolor": "white",
            "gridwidth": 2,
            "linecolor": "white",
            "showbackground": true,
            "ticks": "",
            "zerolinecolor": "white"
           }
          },
          "shapedefaults": {
           "line": {
            "color": "#2a3f5f"
           }
          },
          "ternary": {
           "aaxis": {
            "gridcolor": "white",
            "linecolor": "white",
            "ticks": ""
           },
           "baxis": {
            "gridcolor": "white",
            "linecolor": "white",
            "ticks": ""
           },
           "bgcolor": "#E5ECF6",
           "caxis": {
            "gridcolor": "white",
            "linecolor": "white",
            "ticks": ""
           }
          },
          "title": {
           "x": 0.05
          },
          "xaxis": {
           "automargin": true,
           "gridcolor": "white",
           "linecolor": "white",
           "ticks": "",
           "title": {
            "standoff": 15
           },
           "zerolinecolor": "white",
           "zerolinewidth": 2
          },
          "yaxis": {
           "automargin": true,
           "gridcolor": "white",
           "linecolor": "white",
           "ticks": "",
           "title": {
            "standoff": 15
           },
           "zerolinecolor": "white",
           "zerolinewidth": 2
          }
         }
        }
       }
      },
      "text/html": [
       "<div>                            <div id=\"12db0413-4ff6-45b1-9f2e-90a23e49519a\" class=\"plotly-graph-div\" style=\"height:525px; width:100%;\"></div>            <script type=\"text/javascript\">                require([\"plotly\"], function(Plotly) {                    window.PLOTLYENV=window.PLOTLYENV || {};                                    if (document.getElementById(\"12db0413-4ff6-45b1-9f2e-90a23e49519a\")) {                    Plotly.newPlot(                        \"12db0413-4ff6-45b1-9f2e-90a23e49519a\",                        [{\"close\":[13.34,13.34,13.62,13.68,13.9,14.6,14.68,14.7,15.02,14.5,14.7,14.6,14.54,14.68,14.54,14.48,14.48,14.3,14.84,14.7,14.84,14.8,15.92,16.38,16.7,16.7,16.54,16.4,15.88,15.8,16.18,16.36,16.24,16.08,17.1,17.64,17.12,17.18,17.1,17.24,17.0,17.06,17.06,16.82,16.9,17.3,17.1,17.2,16.9,17.04,17.16,17.06,16.32,15.82,15.7,15.44,15.68,15.94,15.4,15.74,15.96,15.94,17.5,18.12,17.72,18.5,18.48,19.0,19.28,19.18,18.8,18.98,19.24,19.44,19.36,19.34,19.42,19.06,19.18,19.2,19.3,19.3,19.2,18.95,18.2,18.45,19.6,20.0,20.7,20.6,20.5,20.7,20.8,20.7,20.3,20.0,19.95,19.85,20.6,20.3,20.4,20.8,20.1,19.95,20.0,20.3,19.55,19.45,19.85,19.5,20.9,20.9,21.3,21.3,20.4,20.4,20.3,20.3,20.6,20.1,20.4,20.6,20.1,20.3,21.0,21.5,22.3,22.9,21.8,21.9,20.7,20.3,20.4,20.2,20.3,20.3,20.4,20.4,20.3,20.6,21.5,20.8,21.1,21.4,21.0,20.6,20.6,21.0,21.1,20.8,20.6,20.4,20.5,20.0,19.9,19.75,19.95,19.55,19.95,19.7,19.8,19.9,19.8,19.9,19.9,20.0,19.65,19.4,19.15,19.2],\"high\":[13.68,13.36,13.7,13.7,14.0,14.6,15.0,14.8,15.02,15.02,14.98,15.0,14.6,14.7,14.82,14.54,14.5,14.34,14.96,15.0,14.9,14.86,16.28,16.5,17.1,17.0,16.8,16.56,16.38,16.0,16.2,16.52,16.36,16.32,17.1,17.76,17.7,17.3,17.18,17.28,17.3,17.1,17.1,16.9,16.9,17.3,17.2,17.2,17.2,17.1,17.16,17.18,17.0,16.32,16.2,15.7,15.68,16.0,15.9,15.9,16.16,16.2,17.9,18.24,18.2,18.5,18.48,19.24,19.44,19.24,19.1,19.0,19.24,19.44,19.44,19.4,19.54,19.42,19.26,19.3,19.3,19.4,19.4,19.2,18.95,18.45,19.6,20.9,20.8,20.7,20.8,20.8,20.9,20.7,20.8,20.3,20.0,20.0,21.8,20.7,21.1,20.8,20.8,20.4,20.2,20.6,20.1,19.7,20.0,19.85,20.9,20.9,21.3,21.4,21.3,20.7,20.4,20.3,20.7,20.5,20.4,20.6,20.6,20.3,21.0,21.5,22.3,22.9,22.9,21.9,20.9,20.9,20.8,20.4,20.3,20.6,20.7,20.5,20.4,20.6,22.0,21.6,21.6,21.4,21.5,21.2,20.8,21.2,21.1,21.1,20.7,20.6,20.8,20.8,20.2,19.8,20.0,19.85,20.6,19.9,20.0,20.0,20.0,20.0,20.0,20.1,20.8,19.8,19.4,19.2],\"low\":[13.3,13.06,13.36,13.38,13.6,13.88,14.5,14.3,14.4,14.4,14.4,14.4,14.34,14.2,14.38,14.34,14.3,14.2,14.3,14.42,14.42,14.5,14.54,15.7,16.38,16.3,16.34,16.3,15.84,15.42,15.78,16.2,16.08,15.94,16.3,17.1,17.02,17.0,17.0,16.9,16.9,16.94,16.94,16.82,16.68,16.72,16.9,16.82,16.88,16.9,16.82,16.9,16.3,15.0,15.2,15.06,15.2,15.5,15.08,15.42,15.64,15.78,16.98,17.4,17.7,17.72,18.24,18.48,19.0,18.98,18.6,18.52,18.84,18.94,19.0,18.8,18.92,19.06,19.0,18.65,19.0,19.0,19.0,18.8,18.1,18.1,18.25,19.3,19.65,20.3,20.1,20.4,20.6,20.5,19.7,20.0,19.7,19.75,20.3,20.1,20.3,20.3,20.1,19.9,19.8,20.0,19.5,19.3,19.3,19.4,19.5,20.6,20.6,21.0,20.4,20.2,19.95,19.9,20.2,19.9,19.7,19.9,20.1,20.0,20.1,20.7,21.5,22.2,21.8,21.3,20.4,20.0,20.3,19.6,20.0,20.2,20.2,20.0,20.0,20.0,20.6,20.8,20.8,21.0,20.9,20.2,20.6,20.5,20.7,20.4,20.3,20.2,20.3,20.0,18.85,19.45,19.6,19.45,19.55,19.55,19.6,19.65,19.6,19.7,19.75,19.75,19.65,19.0,19.05,19.0],\"open\":[13.68,13.34,13.38,13.38,13.78,13.9,14.7,14.78,14.7,15.02,14.7,14.7,14.6,14.6,14.7,14.4,14.48,14.28,14.48,14.78,14.72,14.72,14.8,16.1,16.48,16.8,16.68,16.4,16.2,15.86,15.78,16.3,16.24,16.3,16.3,17.12,17.64,17.1,17.18,17.0,17.06,17.1,16.98,16.9,16.8,17.0,17.18,16.98,17.2,16.9,17.0,17.04,16.82,16.32,15.8,15.5,15.24,15.66,15.9,15.58,15.9,15.96,17.1,17.5,18.2,17.72,18.26,18.5,19.0,19.08,19.1,18.62,18.84,19.24,19.4,19.4,19.36,19.42,19.06,18.8,19.2,19.3,19.4,19.2,18.95,18.2,18.25,19.3,20.0,20.6,20.6,20.6,20.7,20.7,20.8,20.3,19.9,19.9,21.0,20.6,20.3,20.3,20.8,20.3,20.2,20.1,20.1,19.5,19.35,19.85,19.5,20.9,20.6,21.2,21.3,20.4,20.4,20.1,20.3,20.5,20.0,20.2,20.6,20.1,20.3,21.0,21.6,22.4,22.8,21.9,20.9,20.7,20.4,20.4,20.2,20.3,20.3,20.4,20.1,20.3,20.6,21.6,20.9,21.1,21.5,21.0,20.6,20.5,21.0,20.5,20.5,20.5,20.5,20.5,20.0,19.65,19.6,19.75,19.55,19.9,19.8,19.8,19.9,19.9,19.85,19.95,20.6,19.6,19.2,19.2],\"x\":[\"2022-12-27\",\"2022-12-28\",\"2022-12-29\",\"2022-12-30\",\"2023-01-02\",\"2023-01-03\",\"2023-01-04\",\"2023-01-05\",\"2023-01-09\",\"2023-01-10\",\"2023-01-11\",\"2023-01-12\",\"2023-01-13\",\"2023-01-16\",\"2023-01-17\",\"2023-01-18\",\"2023-01-19\",\"2023-01-20\",\"2023-01-23\",\"2023-01-24\",\"2023-01-25\",\"2023-01-26\",\"2023-01-27\",\"2023-01-30\",\"2023-01-31\",\"2023-02-01\",\"2023-02-02\",\"2023-02-03\",\"2023-02-06\",\"2023-02-07\",\"2023-02-08\",\"2023-02-09\",\"2023-02-10\",\"2023-02-13\",\"2023-02-14\",\"2023-02-15\",\"2023-02-16\",\"2023-02-17\",\"2023-02-20\",\"2023-02-21\",\"2023-02-22\",\"2023-02-23\",\"2023-02-24\",\"2023-02-27\",\"2023-02-28\",\"2023-03-01\",\"2023-03-02\",\"2023-03-03\",\"2023-03-06\",\"2023-03-07\",\"2023-03-08\",\"2023-03-09\",\"2023-03-10\",\"2023-03-13\",\"2023-03-14\",\"2023-03-15\",\"2023-03-16\",\"2023-03-17\",\"2023-03-20\",\"2023-03-21\",\"2023-03-22\",\"2023-03-23\",\"2023-03-24\",\"2023-03-27\",\"2023-03-28\",\"2023-03-29\",\"2023-03-30\",\"2023-03-31\",\"2023-04-03\",\"2023-04-04\",\"2023-04-05\",\"2023-04-06\",\"2023-04-11\",\"2023-04-12\",\"2023-04-13\",\"2023-04-14\",\"2023-04-17\",\"2023-04-18\",\"2023-04-19\",\"2023-04-20\",\"2023-04-21\",\"2023-04-24\",\"2023-04-25\",\"2023-04-26\",\"2023-04-27\",\"2023-04-28\",\"2023-05-02\",\"2023-05-04\",\"2023-05-05\",\"2023-05-08\",\"2023-05-09\",\"2023-05-10\",\"2023-05-11\",\"2023-05-12\",\"2023-05-15\",\"2023-05-16\",\"2023-05-17\",\"2023-05-18\",\"2023-05-19\",\"2023-05-22\",\"2023-05-23\",\"2023-05-24\",\"2023-05-25\",\"2023-05-26\",\"2023-05-29\",\"2023-05-30\",\"2023-05-31\",\"2023-06-01\",\"2023-06-02\",\"2023-06-05\",\"2023-06-06\",\"2023-06-07\",\"2023-06-09\",\"2023-06-12\",\"2023-06-13\",\"2023-06-14\",\"2023-06-15\",\"2023-06-16\",\"2023-06-19\",\"2023-06-20\",\"2023-06-21\",\"2023-06-22\",\"2023-06-23\",\"2023-06-26\",\"2023-06-27\",\"2023-06-28\",\"2023-06-29\",\"2023-06-30\",\"2023-07-03\",\"2023-07-04\",\"2023-07-05\",\"2023-07-06\",\"2023-07-07\",\"2023-07-10\",\"2023-07-11\",\"2023-07-12\",\"2023-07-13\",\"2023-07-14\",\"2023-07-17\",\"2023-07-18\",\"2023-07-19\",\"2023-07-20\",\"2023-07-21\",\"2023-07-24\",\"2023-07-25\",\"2023-07-26\",\"2023-07-27\",\"2023-07-28\",\"2023-07-31\",\"2023-08-01\",\"2023-08-02\",\"2023-08-03\",\"2023-08-04\",\"2023-08-07\",\"2023-08-08\",\"2023-08-09\",\"2023-08-10\",\"2023-08-11\",\"2023-08-14\",\"2023-08-16\",\"2023-08-17\",\"2023-08-18\",\"2023-08-21\",\"2023-08-22\",\"2023-08-23\",\"2023-08-24\",\"2023-08-25\",\"2023-08-28\",\"2023-08-29\",\"2023-08-30\"],\"type\":\"candlestick\"}],                        {\"template\":{\"data\":{\"histogram2dcontour\":[{\"type\":\"histogram2dcontour\",\"colorbar\":{\"outlinewidth\":0,\"ticks\":\"\"},\"colorscale\":[[0.0,\"#0d0887\"],[0.1111111111111111,\"#46039f\"],[0.2222222222222222,\"#7201a8\"],[0.3333333333333333,\"#9c179e\"],[0.4444444444444444,\"#bd3786\"],[0.5555555555555556,\"#d8576b\"],[0.6666666666666666,\"#ed7953\"],[0.7777777777777778,\"#fb9f3a\"],[0.8888888888888888,\"#fdca26\"],[1.0,\"#f0f921\"]]}],\"choropleth\":[{\"type\":\"choropleth\",\"colorbar\":{\"outlinewidth\":0,\"ticks\":\"\"}}],\"histogram2d\":[{\"type\":\"histogram2d\",\"colorbar\":{\"outlinewidth\":0,\"ticks\":\"\"},\"colorscale\":[[0.0,\"#0d0887\"],[0.1111111111111111,\"#46039f\"],[0.2222222222222222,\"#7201a8\"],[0.3333333333333333,\"#9c179e\"],[0.4444444444444444,\"#bd3786\"],[0.5555555555555556,\"#d8576b\"],[0.6666666666666666,\"#ed7953\"],[0.7777777777777778,\"#fb9f3a\"],[0.8888888888888888,\"#fdca26\"],[1.0,\"#f0f921\"]]}],\"heatmap\":[{\"type\":\"heatmap\",\"colorbar\":{\"outlinewidth\":0,\"ticks\":\"\"},\"colorscale\":[[0.0,\"#0d0887\"],[0.1111111111111111,\"#46039f\"],[0.2222222222222222,\"#7201a8\"],[0.3333333333333333,\"#9c179e\"],[0.4444444444444444,\"#bd3786\"],[0.5555555555555556,\"#d8576b\"],[0.6666666666666666,\"#ed7953\"],[0.7777777777777778,\"#fb9f3a\"],[0.8888888888888888,\"#fdca26\"],[1.0,\"#f0f921\"]]}],\"heatmapgl\":[{\"type\":\"heatmapgl\",\"colorbar\":{\"outlinewidth\":0,\"ticks\":\"\"},\"colorscale\":[[0.0,\"#0d0887\"],[0.1111111111111111,\"#46039f\"],[0.2222222222222222,\"#7201a8\"],[0.3333333333333333,\"#9c179e\"],[0.4444444444444444,\"#bd3786\"],[0.5555555555555556,\"#d8576b\"],[0.6666666666666666,\"#ed7953\"],[0.7777777777777778,\"#fb9f3a\"],[0.8888888888888888,\"#fdca26\"],[1.0,\"#f0f921\"]]}],\"contourcarpet\":[{\"type\":\"contourcarpet\",\"colorbar\":{\"outlinewidth\":0,\"ticks\":\"\"}}],\"contour\":[{\"type\":\"contour\",\"colorbar\":{\"outlinewidth\":0,\"ticks\":\"\"},\"colorscale\":[[0.0,\"#0d0887\"],[0.1111111111111111,\"#46039f\"],[0.2222222222222222,\"#7201a8\"],[0.3333333333333333,\"#9c179e\"],[0.4444444444444444,\"#bd3786\"],[0.5555555555555556,\"#d8576b\"],[0.6666666666666666,\"#ed7953\"],[0.7777777777777778,\"#fb9f3a\"],[0.8888888888888888,\"#fdca26\"],[1.0,\"#f0f921\"]]}],\"surface\":[{\"type\":\"surface\",\"colorbar\":{\"outlinewidth\":0,\"ticks\":\"\"},\"colorscale\":[[0.0,\"#0d0887\"],[0.1111111111111111,\"#46039f\"],[0.2222222222222222,\"#7201a8\"],[0.3333333333333333,\"#9c179e\"],[0.4444444444444444,\"#bd3786\"],[0.5555555555555556,\"#d8576b\"],[0.6666666666666666,\"#ed7953\"],[0.7777777777777778,\"#fb9f3a\"],[0.8888888888888888,\"#fdca26\"],[1.0,\"#f0f921\"]]}],\"mesh3d\":[{\"type\":\"mesh3d\",\"colorbar\":{\"outlinewidth\":0,\"ticks\":\"\"}}],\"scatter\":[{\"fillpattern\":{\"fillmode\":\"overlay\",\"size\":10,\"solidity\":0.2},\"type\":\"scatter\"}],\"parcoords\":[{\"type\":\"parcoords\",\"line\":{\"colorbar\":{\"outlinewidth\":0,\"ticks\":\"\"}}}],\"scatterpolargl\":[{\"type\":\"scatterpolargl\",\"marker\":{\"colorbar\":{\"outlinewidth\":0,\"ticks\":\"\"}}}],\"bar\":[{\"error_x\":{\"color\":\"#2a3f5f\"},\"error_y\":{\"color\":\"#2a3f5f\"},\"marker\":{\"line\":{\"color\":\"#E5ECF6\",\"width\":0.5},\"pattern\":{\"fillmode\":\"overlay\",\"size\":10,\"solidity\":0.2}},\"type\":\"bar\"}],\"scattergeo\":[{\"type\":\"scattergeo\",\"marker\":{\"colorbar\":{\"outlinewidth\":0,\"ticks\":\"\"}}}],\"scatterpolar\":[{\"type\":\"scatterpolar\",\"marker\":{\"colorbar\":{\"outlinewidth\":0,\"ticks\":\"\"}}}],\"histogram\":[{\"marker\":{\"pattern\":{\"fillmode\":\"overlay\",\"size\":10,\"solidity\":0.2}},\"type\":\"histogram\"}],\"scattergl\":[{\"type\":\"scattergl\",\"marker\":{\"colorbar\":{\"outlinewidth\":0,\"ticks\":\"\"}}}],\"scatter3d\":[{\"type\":\"scatter3d\",\"line\":{\"colorbar\":{\"outlinewidth\":0,\"ticks\":\"\"}},\"marker\":{\"colorbar\":{\"outlinewidth\":0,\"ticks\":\"\"}}}],\"scattermapbox\":[{\"type\":\"scattermapbox\",\"marker\":{\"colorbar\":{\"outlinewidth\":0,\"ticks\":\"\"}}}],\"scatterternary\":[{\"type\":\"scatterternary\",\"marker\":{\"colorbar\":{\"outlinewidth\":0,\"ticks\":\"\"}}}],\"scattercarpet\":[{\"type\":\"scattercarpet\",\"marker\":{\"colorbar\":{\"outlinewidth\":0,\"ticks\":\"\"}}}],\"carpet\":[{\"aaxis\":{\"endlinecolor\":\"#2a3f5f\",\"gridcolor\":\"white\",\"linecolor\":\"white\",\"minorgridcolor\":\"white\",\"startlinecolor\":\"#2a3f5f\"},\"baxis\":{\"endlinecolor\":\"#2a3f5f\",\"gridcolor\":\"white\",\"linecolor\":\"white\",\"minorgridcolor\":\"white\",\"startlinecolor\":\"#2a3f5f\"},\"type\":\"carpet\"}],\"table\":[{\"cells\":{\"fill\":{\"color\":\"#EBF0F8\"},\"line\":{\"color\":\"white\"}},\"header\":{\"fill\":{\"color\":\"#C8D4E3\"},\"line\":{\"color\":\"white\"}},\"type\":\"table\"}],\"barpolar\":[{\"marker\":{\"line\":{\"color\":\"#E5ECF6\",\"width\":0.5},\"pattern\":{\"fillmode\":\"overlay\",\"size\":10,\"solidity\":0.2}},\"type\":\"barpolar\"}],\"pie\":[{\"automargin\":true,\"type\":\"pie\"}]},\"layout\":{\"autotypenumbers\":\"strict\",\"colorway\":[\"#636efa\",\"#EF553B\",\"#00cc96\",\"#ab63fa\",\"#FFA15A\",\"#19d3f3\",\"#FF6692\",\"#B6E880\",\"#FF97FF\",\"#FECB52\"],\"font\":{\"color\":\"#2a3f5f\"},\"hovermode\":\"closest\",\"hoverlabel\":{\"align\":\"left\"},\"paper_bgcolor\":\"white\",\"plot_bgcolor\":\"#E5ECF6\",\"polar\":{\"bgcolor\":\"#E5ECF6\",\"angularaxis\":{\"gridcolor\":\"white\",\"linecolor\":\"white\",\"ticks\":\"\"},\"radialaxis\":{\"gridcolor\":\"white\",\"linecolor\":\"white\",\"ticks\":\"\"}},\"ternary\":{\"bgcolor\":\"#E5ECF6\",\"aaxis\":{\"gridcolor\":\"white\",\"linecolor\":\"white\",\"ticks\":\"\"},\"baxis\":{\"gridcolor\":\"white\",\"linecolor\":\"white\",\"ticks\":\"\"},\"caxis\":{\"gridcolor\":\"white\",\"linecolor\":\"white\",\"ticks\":\"\"}},\"coloraxis\":{\"colorbar\":{\"outlinewidth\":0,\"ticks\":\"\"}},\"colorscale\":{\"sequential\":[[0.0,\"#0d0887\"],[0.1111111111111111,\"#46039f\"],[0.2222222222222222,\"#7201a8\"],[0.3333333333333333,\"#9c179e\"],[0.4444444444444444,\"#bd3786\"],[0.5555555555555556,\"#d8576b\"],[0.6666666666666666,\"#ed7953\"],[0.7777777777777778,\"#fb9f3a\"],[0.8888888888888888,\"#fdca26\"],[1.0,\"#f0f921\"]],\"sequentialminus\":[[0.0,\"#0d0887\"],[0.1111111111111111,\"#46039f\"],[0.2222222222222222,\"#7201a8\"],[0.3333333333333333,\"#9c179e\"],[0.4444444444444444,\"#bd3786\"],[0.5555555555555556,\"#d8576b\"],[0.6666666666666666,\"#ed7953\"],[0.7777777777777778,\"#fb9f3a\"],[0.8888888888888888,\"#fdca26\"],[1.0,\"#f0f921\"]],\"diverging\":[[0,\"#8e0152\"],[0.1,\"#c51b7d\"],[0.2,\"#de77ae\"],[0.3,\"#f1b6da\"],[0.4,\"#fde0ef\"],[0.5,\"#f7f7f7\"],[0.6,\"#e6f5d0\"],[0.7,\"#b8e186\"],[0.8,\"#7fbc41\"],[0.9,\"#4d9221\"],[1,\"#276419\"]]},\"xaxis\":{\"gridcolor\":\"white\",\"linecolor\":\"white\",\"ticks\":\"\",\"title\":{\"standoff\":15},\"zerolinecolor\":\"white\",\"automargin\":true,\"zerolinewidth\":2},\"yaxis\":{\"gridcolor\":\"white\",\"linecolor\":\"white\",\"ticks\":\"\",\"title\":{\"standoff\":15},\"zerolinecolor\":\"white\",\"automargin\":true,\"zerolinewidth\":2},\"scene\":{\"xaxis\":{\"backgroundcolor\":\"#E5ECF6\",\"gridcolor\":\"white\",\"linecolor\":\"white\",\"showbackground\":true,\"ticks\":\"\",\"zerolinecolor\":\"white\",\"gridwidth\":2},\"yaxis\":{\"backgroundcolor\":\"#E5ECF6\",\"gridcolor\":\"white\",\"linecolor\":\"white\",\"showbackground\":true,\"ticks\":\"\",\"zerolinecolor\":\"white\",\"gridwidth\":2},\"zaxis\":{\"backgroundcolor\":\"#E5ECF6\",\"gridcolor\":\"white\",\"linecolor\":\"white\",\"showbackground\":true,\"ticks\":\"\",\"zerolinecolor\":\"white\",\"gridwidth\":2}},\"shapedefaults\":{\"line\":{\"color\":\"#2a3f5f\"}},\"annotationdefaults\":{\"arrowcolor\":\"#2a3f5f\",\"arrowhead\":0,\"arrowwidth\":1},\"geo\":{\"bgcolor\":\"white\",\"landcolor\":\"#E5ECF6\",\"subunitcolor\":\"white\",\"showland\":true,\"showlakes\":true,\"lakecolor\":\"white\"},\"title\":{\"x\":0.05},\"mapbox\":{\"style\":\"light\"}}}},                        {\"responsive\": true}                    ).then(function(){\n",
       "                            \n",
       "var gd = document.getElementById('12db0413-4ff6-45b1-9f2e-90a23e49519a');\n",
       "var x = new MutationObserver(function (mutations, observer) {{\n",
       "        var display = window.getComputedStyle(gd).display;\n",
       "        if (!display || display === 'none') {{\n",
       "            console.log([gd, 'removed!']);\n",
       "            Plotly.purge(gd);\n",
       "            observer.disconnect();\n",
       "        }}\n",
       "}});\n",
       "\n",
       "// Listen for the removal of the full notebook cells\n",
       "var notebookContainer = gd.closest('#notebook-container');\n",
       "if (notebookContainer) {{\n",
       "    x.observe(notebookContainer, {childList: true});\n",
       "}}\n",
       "\n",
       "// Listen for the clearing of the current output cell\n",
       "var outputEl = gd.closest('.output');\n",
       "if (outputEl) {{\n",
       "    x.observe(outputEl, {childList: true});\n",
       "}}\n",
       "\n",
       "                        })                };                });            </script>        </div>"
      ]
     },
     "metadata": {},
     "output_type": "display_data"
    }
   ],
   "source": [
    "h_and_s_top = pd.read_csv('data/patterns/h&s_top/0_SNK_h&s_top.csv')\n",
    "\n",
    "fig = go.Figure(data=[go.Candlestick(x=h_and_s_top['Date'],\n",
    "                open=h_and_s_top['Open'],\n",
    "                high=h_and_s_top['High'],\n",
    "                low=h_and_s_top['Low'],\n",
    "                close=h_and_s_top['Close'])])\n",
    "\n",
    "fig.show()"
   ]
  }
 ],
 "metadata": {
  "kernelspec": {
   "display_name": "Python 3 (ipykernel)",
   "language": "python",
   "name": "python3"
  },
  "language_info": {
   "codemirror_mode": {
    "name": "ipython",
    "version": 3
   },
   "file_extension": ".py",
   "mimetype": "text/x-python",
   "name": "python",
   "nbconvert_exporter": "python",
   "pygments_lexer": "ipython3",
   "version": "3.10.6"
  },
  "toc": {
   "base_numbering": 1,
   "nav_menu": {},
   "number_sections": true,
   "sideBar": true,
   "skip_h1_title": false,
   "title_cell": "Table of Contents",
   "title_sidebar": "Contents",
   "toc_cell": false,
   "toc_position": {},
   "toc_section_display": true,
   "toc_window_display": false
  }
 },
 "nbformat": 4,
 "nbformat_minor": 5
}
