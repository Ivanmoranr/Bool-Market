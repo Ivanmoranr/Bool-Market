{
 "cells": [
  {
   "cell_type": "code",
   "execution_count": 4,
   "id": "f0a26b45-e63d-4482-b928-718f58fe1a10",
   "metadata": {},
   "outputs": [],
   "source": [
    "import os\n",
    "import pandas as pd\n",
    "from typing import Dict, List"
   ]
  },
  {
   "cell_type": "code",
   "execution_count": 10,
   "id": "c84eea1f-a667-4e66-8819-345723c56e4c",
   "metadata": {},
   "outputs": [],
   "source": [
    "def load_data(pattern_name: str) -> List[pd.DataFrame]:\n",
    "    \"\"\"\n",
    "    Load data for multiple patterns and return them as a list of DataFrames.\n",
    "    \n",
    "    Args:\n",
    "        pattern_names (List[str]): List of pattern names to load.\n",
    "        \n",
    "    Returns:\n",
    "        List[pd.DataFrame]: A list of DataFrames containing data for the specified patterns.\n",
    "    \"\"\"\n",
    "    dataframes = []\n",
    "    DATA_DIR = 'data/patterns'\n",
    "    print(DATA_DIR)\n",
    "    \n",
    "    dir_path = os.path.join(DATA_DIR, pattern_name)\n",
    "    print(dir_path)\n",
    "    files = os.listdir(dir_path)\n",
    "    \n",
    "    csv_files = [file for file in files if file.endswith(\".csv\")]\n",
    "    \n",
    "    for csv_file in csv_files:\n",
    "        file_path = os.path.join(dir_path, csv_file)\n",
    "        df = pd.read_csv(file_path)\n",
    "        dataframes.append(df)\n",
    "    \n",
    "    return dataframes"
   ]
  },
  {
   "cell_type": "code",
   "execution_count": 15,
   "id": "c00e53a5-d143-4027-9547-29db33722f64",
   "metadata": {},
   "outputs": [
    {
     "name": "stdout",
     "output_type": "stream",
     "text": [
      "/root/code/BigEd12/boolmarket/Bool-Market/data/patterns/rising_wedge\n"
     ]
    }
   ],
   "source": [
    "print(os.getcwd())"
   ]
  },
  {
   "cell_type": "code",
   "execution_count": 11,
   "id": "9e4352d9-4ab3-4493-932a-0bcb5eaefca0",
   "metadata": {},
   "outputs": [
    {
     "name": "stdout",
     "output_type": "stream",
     "text": [
      "data/patterns\n",
      "data/patterns/ascending_channel\n"
     ]
    },
    {
     "ename": "FileNotFoundError",
     "evalue": "[Errno 2] No such file or directory: 'data/patterns/ascending_channel'",
     "output_type": "error",
     "traceback": [
      "\u001b[0;31m---------------------------------------------------------------------------\u001b[0m",
      "\u001b[0;31mFileNotFoundError\u001b[0m                         Traceback (most recent call last)",
      "Cell \u001b[0;32mIn[11], line 1\u001b[0m\n\u001b[0;32m----> 1\u001b[0m dfs \u001b[38;5;241m=\u001b[39m \u001b[43mload_data\u001b[49m\u001b[43m(\u001b[49m\u001b[38;5;124;43m'\u001b[39;49m\u001b[38;5;124;43mascending_channel\u001b[39;49m\u001b[38;5;124;43m'\u001b[39;49m\u001b[43m)\u001b[49m\n\u001b[1;32m      2\u001b[0m dfs\n",
      "Cell \u001b[0;32mIn[10], line 17\u001b[0m, in \u001b[0;36mload_data\u001b[0;34m(pattern_name)\u001b[0m\n\u001b[1;32m     15\u001b[0m dir_path \u001b[38;5;241m=\u001b[39m os\u001b[38;5;241m.\u001b[39mpath\u001b[38;5;241m.\u001b[39mjoin(DATA_DIR, pattern_name)\n\u001b[1;32m     16\u001b[0m \u001b[38;5;28mprint\u001b[39m(dir_path)\n\u001b[0;32m---> 17\u001b[0m files \u001b[38;5;241m=\u001b[39m \u001b[43mos\u001b[49m\u001b[38;5;241;43m.\u001b[39;49m\u001b[43mlistdir\u001b[49m\u001b[43m(\u001b[49m\u001b[43mdir_path\u001b[49m\u001b[43m)\u001b[49m\n\u001b[1;32m     19\u001b[0m csv_files \u001b[38;5;241m=\u001b[39m [file \u001b[38;5;28;01mfor\u001b[39;00m file \u001b[38;5;129;01min\u001b[39;00m files \u001b[38;5;28;01mif\u001b[39;00m file\u001b[38;5;241m.\u001b[39mendswith(\u001b[38;5;124m\"\u001b[39m\u001b[38;5;124m.csv\u001b[39m\u001b[38;5;124m\"\u001b[39m)]\n\u001b[1;32m     21\u001b[0m \u001b[38;5;28;01mfor\u001b[39;00m csv_file \u001b[38;5;129;01min\u001b[39;00m csv_files:\n",
      "\u001b[0;31mFileNotFoundError\u001b[0m: [Errno 2] No such file or directory: 'data/patterns/ascending_channel'"
     ]
    }
   ],
   "source": [
    "dfs = load_data('ascending_channel')\n",
    "dfs"
   ]
  },
  {
   "cell_type": "code",
   "execution_count": null,
   "id": "3019c74f-f77d-4426-aa79-67098a485865",
   "metadata": {},
   "outputs": [],
   "source": []
  }
 ],
 "metadata": {
  "kernelspec": {
   "display_name": "Python 3 (ipykernel)",
   "language": "python",
   "name": "python3"
  },
  "language_info": {
   "codemirror_mode": {
    "name": "ipython",
    "version": 3
   },
   "file_extension": ".py",
   "mimetype": "text/x-python",
   "name": "python",
   "nbconvert_exporter": "python",
   "pygments_lexer": "ipython3",
   "version": "3.10.6"
  }
 },
 "nbformat": 4,
 "nbformat_minor": 5
}
