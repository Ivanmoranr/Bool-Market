{
 "cells": [
  {
   "cell_type": "markdown",
   "id": "9cee1249",
   "metadata": {},
   "source": [
    "# Data Preparation"
   ]
  },
  {
   "cell_type": "markdown",
   "id": "0f37b9a5",
   "metadata": {},
   "source": [
    "##### imports"
   ]
  },
  {
   "cell_type": "code",
   "execution_count": 16,
   "id": "5025b415",
   "metadata": {},
   "outputs": [],
   "source": [
    "import os\n",
    "import pandas as pd\n",
    "import numpy as np"
   ]
  },
  {
   "cell_type": "markdown",
   "id": "0ebb87ae",
   "metadata": {},
   "source": [
    "# Import patterns DataFrame"
   ]
  },
  {
   "cell_type": "code",
   "execution_count": 17,
   "id": "77398d9e",
   "metadata": {},
   "outputs": [
    {
     "data": {
      "text/html": [
       "<div>\n",
       "<style scoped>\n",
       "    .dataframe tbody tr th:only-of-type {\n",
       "        vertical-align: middle;\n",
       "    }\n",
       "\n",
       "    .dataframe tbody tr th {\n",
       "        vertical-align: top;\n",
       "    }\n",
       "\n",
       "    .dataframe thead th {\n",
       "        text-align: right;\n",
       "    }\n",
       "</style>\n",
       "<table border=\"1\" class=\"dataframe\">\n",
       "  <thead>\n",
       "    <tr style=\"text-align: right;\">\n",
       "      <th></th>\n",
       "      <th>Ticker</th>\n",
       "      <th>Company</th>\n",
       "      <th>Pattern</th>\n",
       "      <th>Start Date</th>\n",
       "      <th>End Date</th>\n",
       "      <th>Width</th>\n",
       "      <th>API Start Date</th>\n",
       "      <th>API End Date</th>\n",
       "      <th>Breakout Date</th>\n",
       "      <th>Have Data</th>\n",
       "    </tr>\n",
       "  </thead>\n",
       "  <tbody>\n",
       "    <tr>\n",
       "      <th>0</th>\n",
       "      <td>SNK</td>\n",
       "      <td>SANOK (SNK)</td>\n",
       "      <td>h&amp;s_top</td>\n",
       "      <td>2023-06-18</td>\n",
       "      <td>2023-08-15</td>\n",
       "      <td>58</td>\n",
       "      <td>2022-12-26</td>\n",
       "      <td>2024-02-05</td>\n",
       "      <td>NaN</td>\n",
       "      <td>True</td>\n",
       "    </tr>\n",
       "    <tr>\n",
       "      <th>1</th>\n",
       "      <td>GTN</td>\n",
       "      <td>GETIN (GTN)</td>\n",
       "      <td>vertical_run_up</td>\n",
       "      <td>2023-07-21</td>\n",
       "      <td>2023-08-03</td>\n",
       "      <td>13</td>\n",
       "      <td>2023-06-12</td>\n",
       "      <td>2023-09-11</td>\n",
       "      <td>NaN</td>\n",
       "      <td>True</td>\n",
       "    </tr>\n",
       "    <tr>\n",
       "      <th>2</th>\n",
       "      <td>PEO</td>\n",
       "      <td>PEKAO (PEO)</td>\n",
       "      <td>h&amp;s_top</td>\n",
       "      <td>2023-07-14</td>\n",
       "      <td>2023-08-30</td>\n",
       "      <td>47</td>\n",
       "      <td>2023-02-23</td>\n",
       "      <td>2024-01-18</td>\n",
       "      <td>NaN</td>\n",
       "      <td>True</td>\n",
       "    </tr>\n",
       "    <tr>\n",
       "      <th>3</th>\n",
       "      <td>SKH</td>\n",
       "      <td>SKARBIEC (SKH)</td>\n",
       "      <td>rising_wedge</td>\n",
       "      <td>2023-07-01</td>\n",
       "      <td>2023-08-29</td>\n",
       "      <td>59</td>\n",
       "      <td>2023-01-05</td>\n",
       "      <td>2024-02-22</td>\n",
       "      <td>NaN</td>\n",
       "      <td>True</td>\n",
       "    </tr>\n",
       "    <tr>\n",
       "      <th>4</th>\n",
       "      <td>SPL</td>\n",
       "      <td>SANPL (SPL)</td>\n",
       "      <td>h&amp;s_top</td>\n",
       "      <td>2023-07-05</td>\n",
       "      <td>2023-08-30</td>\n",
       "      <td>56</td>\n",
       "      <td>2023-01-18</td>\n",
       "      <td>2024-02-14</td>\n",
       "      <td>NaN</td>\n",
       "      <td>True</td>\n",
       "    </tr>\n",
       "  </tbody>\n",
       "</table>\n",
       "</div>"
      ],
      "text/plain": [
       "  Ticker         Company          Pattern  Start Date    End Date  Width  \\\n",
       "0    SNK     SANOK (SNK)          h&s_top  2023-06-18  2023-08-15     58   \n",
       "1    GTN     GETIN (GTN)  vertical_run_up  2023-07-21  2023-08-03     13   \n",
       "2    PEO     PEKAO (PEO)          h&s_top  2023-07-14  2023-08-30     47   \n",
       "3    SKH  SKARBIEC (SKH)     rising_wedge  2023-07-01  2023-08-29     59   \n",
       "4    SPL     SANPL (SPL)          h&s_top  2023-07-05  2023-08-30     56   \n",
       "\n",
       "  API Start Date API End Date Breakout Date  Have Data  \n",
       "0     2022-12-26   2024-02-05           NaN       True  \n",
       "1     2023-06-12   2023-09-11           NaN       True  \n",
       "2     2023-02-23   2024-01-18           NaN       True  \n",
       "3     2023-01-05   2024-02-22           NaN       True  \n",
       "4     2023-01-18   2024-02-14           NaN       True  "
      ]
     },
     "execution_count": 17,
     "metadata": {},
     "output_type": "execute_result"
    }
   ],
   "source": [
    "pattern_df = pd.read_csv('data/patterns.csv')\n",
    "pattern_df.head()"
   ]
  },
  {
   "cell_type": "code",
   "execution_count": 18,
   "id": "7fb71b73",
   "metadata": {},
   "outputs": [
    {
     "data": {
      "text/plain": [
       "Pattern\n",
       "rising_wedge           651\n",
       "double_top             496\n",
       "double_bottom          392\n",
       "uptrend                357\n",
       "falling_wedge          317\n",
       "triangle               205\n",
       "vertical_run_up        203\n",
       "downtrend              172\n",
       "descending_triangle    120\n",
       "ascending_triangle     113\n",
       "h&s_top                108\n",
       "support                 97\n",
       "resistance              96\n",
       "flat_base               95\n",
       "ascending_channel       80\n",
       "inverted_triangle       74\n",
       "pennant                 63\n",
       "h&s_bottom              50\n",
       "descending_channel      49\n",
       "flag                    28\n",
       "horizontal_channel       4\n",
       "Name: count, dtype: int64"
      ]
     },
     "execution_count": 18,
     "metadata": {},
     "output_type": "execute_result"
    }
   ],
   "source": [
    "pattern_df.Pattern.value_counts()"
   ]
  },
  {
   "cell_type": "markdown",
   "id": "ff92607d",
   "metadata": {},
   "source": [
    "# Prepare DataFrames"
   ]
  },
  {
   "cell_type": "code",
   "execution_count": 19,
   "id": "b9665605",
   "metadata": {},
   "outputs": [
    {
     "data": {
      "text/plain": [
       "str"
      ]
     },
     "execution_count": 19,
     "metadata": {},
     "output_type": "execute_result"
    }
   ],
   "source": [
    "type(pattern_df['Start Date'].iloc[0])"
   ]
  },
  {
   "cell_type": "code",
   "execution_count": 118,
   "id": "4e3a5cb6",
   "metadata": {},
   "outputs": [],
   "source": [
    "def extract_info(filename):\n",
    "    index_num = int(filename.split('_')[0])\n",
    "    \n",
    "    row = pattern_df.iloc[index_num] \n",
    "    \n",
    "    if not row.empty:\n",
    "        start_date = row['Start Date']\n",
    "        end_date = row['End Date']\n",
    "        pattern = row['Pattern']\n",
    "        \n",
    "        return start_date, end_date, pattern\n",
    "\n",
    "\n",
    "def start_date(df):\n",
    "    start_date = df['Start Date'].iloc[0]\n",
    "   \n",
    "    while df[df.Date ==str(start_date).replace(\" 00:00:00\",\"\")].shape[0] == 0:\n",
    "        start_date -= pd.Timedelta(days=1)\n",
    "        \n",
    "   \n",
    "    start = df[df.Date == str(start_date).replace(\" 00:00:00\",\"\")].index[0]\n",
    "        \n",
    "    return start\n",
    "\n",
    "def end_date(df):\n",
    "    end_date = df['End Date'].iloc[0]\n",
    "   \n",
    "    while df[df.Date ==str(end_date).replace(\" 00:00:00\",\"\")].shape[0] == 0:\n",
    "        end_date += pd.Timedelta(days=1)\n",
    "        \n",
    "   \n",
    "    end = df[df.Date == str(end_date).replace(\" 00:00:00\",\"\")].index[0]\n",
    "        \n",
    "    return end\n",
    "    \n",
    "    \n",
    "def process_csv(filename):\n",
    "    start, end, pattern = extract_info(filename)     \n",
    "    \n",
    "    path_to_file = f'data/patterns/{pattern}/{filename}'\n",
    "    df = pd.read_csv(path_to_file)\n",
    "    \n",
    "\n",
    "    if 'Volume' in df.columns and 'Adjusted_close' in df.columns:\n",
    "        cols_to_drop = ['Adjusted_close', 'Volume']\n",
    "        df.drop(columns=cols_to_drop, inplace=True)\n",
    "    \n",
    "    df['Start Date'] = start\n",
    "    df['End Date'] = end\n",
    "    df['Pattern'] = pattern\n",
    "    \n",
    "    df['Date'] = pd.to_datetime(df['Date'])\n",
    "    df['Start Date'] = pd.to_datetime(df['Start Date'])\n",
    "    df['End Date'] = pd.to_datetime(df['End Date'])\n",
    "    \n",
    "    patterns_dict = {\n",
    "        \"rising_wedge\": 1,\n",
    "        \"falling_wedge\": 2,\n",
    "        \"double_top\": 3,\n",
    "        \"double_bottom\": 4\n",
    "    }\n",
    "    df['Pattern'] = df['Pattern'].map(patterns_dict)\n",
    "    \n",
    "    start = start_date(df)\n",
    "    df['Start Date'] = start\n",
    "    end = end_date(df)\n",
    "    df['End Date'] = end\n",
    "\n",
    "    \n",
    "    df.to_csv(path_to_file, index=False)\n",
    "    print(f'{path_to_file} saved')\n",
    "    return df\n"
   ]
  },
  {
   "cell_type": "markdown",
   "id": "47e56f12",
   "metadata": {},
   "source": [
    "###  Convert Dates to indices"
   ]
  },
  {
   "cell_type": "raw",
   "id": "f34752af",
   "metadata": {},
   "source": [
    "pattern_list = [\"rising_wedge\", \"falling_wedge\", \"double_top\", \"double_bottom\"]\n",
    "rising_wedge_list = []\n",
    "\n",
    "for pattern in pattern_list:\n",
    "    directory_path = f'data/patterns/{pattern}'\n",
    "\n",
    "    for root, dirs, files in os.walk(directory_path):\n",
    "        for filename in files:\n",
    "            process_csv(filename)"
   ]
  }
 ],
 "metadata": {
  "kernelspec": {
   "display_name": "Python 3 (ipykernel)",
   "language": "python",
   "name": "python3"
  },
  "language_info": {
   "codemirror_mode": {
    "name": "ipython",
    "version": 3
   },
   "file_extension": ".py",
   "mimetype": "text/x-python",
   "name": "python",
   "nbconvert_exporter": "python",
   "pygments_lexer": "ipython3",
   "version": "3.10.6"
  },
  "toc": {
   "base_numbering": 1,
   "nav_menu": {},
   "number_sections": true,
   "sideBar": true,
   "skip_h1_title": false,
   "title_cell": "Table of Contents",
   "title_sidebar": "Contents",
   "toc_cell": false,
   "toc_position": {},
   "toc_section_display": true,
   "toc_window_display": false
  }
 },
 "nbformat": 4,
 "nbformat_minor": 5
}
