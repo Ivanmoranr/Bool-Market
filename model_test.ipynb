{
 "cells": [
  {
   "cell_type": "code",
   "execution_count": 51,
   "id": "598b6e7e-729d-4213-a178-badb3b51d260",
   "metadata": {},
   "outputs": [
    {
     "name": "stdout",
     "output_type": "stream",
     "text": [
      "The autoreload extension is already loaded. To reload it, use:\n",
      "  %reload_ext autoreload\n"
     ]
    }
   ],
   "source": [
    "from data_preparation import *\n",
    "from get_real_data import *\n",
    "from preprocessing import *\n",
    "\n",
    "from sklearn.model_selection import train_test_split\n",
    "\n",
    "import tensorflow as tf\n",
    "from keras.callbacks import EarlyStopping\n",
    "from tensorflow.keras.losses import MeanSquaredError\n",
    "from tensorflow.keras.layers import LSTM, Dense, Masking, Conv1D, Conv2D, Dropout, Flatten, MaxPooling1D, MaxPooling2D\n",
    "from tensorflow.keras.models import Sequential\n",
    "from tensorflow.keras import regularizers\n",
    "\n",
    "%load_ext autoreload\n",
    "%autoreload 2"
   ]
  },
  {
   "cell_type": "code",
   "execution_count": 2,
   "id": "f9a21f97-9779-42a6-a286-b78803e6eaa3",
   "metadata": {},
   "outputs": [],
   "source": [
    "folder_list = extract_file_list()"
   ]
  },
  {
   "cell_type": "markdown",
   "id": "3f9656f8-6ddf-4008-9389-286b278b3c2a",
   "metadata": {},
   "source": [
    "# Model"
   ]
  },
  {
   "cell_type": "code",
   "execution_count": 3,
   "id": "84a84d21-d31c-431c-9651-c35c92660772",
   "metadata": {},
   "outputs": [],
   "source": [
    "def initialize_model_CNN(input_shape):\n",
    "    model = Sequential()\n",
    "\n",
    "    model.add(Masking(mask_value=-1, input_shape=input_shape))\n",
    "    model.add(Conv1D(32, activation='relu', kernel_size=3, kernel_regularizer=regularizers.L1L2(l1=1e-3, l2=1e-3)))\n",
    "    model.add(MaxPooling1D(pool_size=2))\n",
    "    model.add(Conv1D(32, activation='relu', kernel_size=3, kernel_regularizer=regularizers.L1L2(l1=1e-3, l2=1e-3)))\n",
    "    \n",
    "    model.add(Flatten())\n",
    "    model.add(Dense(units=200, activation='relu', kernel_regularizer=regularizers.L1L2(l1=1e-3, l2=1e-3)))\n",
    "    model.add(Dense(units=100, activation='relu', kernel_regularizer=regularizers.L1L2(l1=1e-3, l2=1e-3)))\n",
    "    model.add(Dense(units=16, activation='relu', kernel_regularizer=regularizers.L1L2(l1=1e-3, l2=1e-3)))\n",
    "    model.add(Dense(units=16, activation='relu', kernel_regularizer=regularizers.L1L2(l1=1e-3, l2=1e-3)))\n",
    "    model.add(Dense(units=3, activation='linear'))\n",
    "\n",
    "    model.compile(optimizer='adam', loss='mse', metrics=['mae'])\n",
    "    \n",
    "    return model"
   ]
  },
  {
   "cell_type": "code",
   "execution_count": 4,
   "id": "2a359969-57ed-4fdf-abc1-5da345aaf260",
   "metadata": {},
   "outputs": [],
   "source": [
    "patterns_to_test = ['rising_wedge', 'falling_wedge', 'double_top', 'double_bottom']\n",
    "results_dict = {}"
   ]
  },
  {
   "cell_type": "markdown",
   "id": "9b6ea840-d217-4745-9372-822e34691e2a",
   "metadata": {},
   "source": [
    "# Rising Wedge"
   ]
  },
  {
   "cell_type": "code",
   "execution_count": 5,
   "id": "1b927e4d-800c-4213-8a8c-80cf165ebae5",
   "metadata": {},
   "outputs": [],
   "source": [
    "X_real, y_real = real_data_pattern(patterns_to_test[0], model_type='full')\n",
    "X_synthetic, y_synthetic = synthetic_data(X_real, patterns_to_test[0], model_type='full')\n",
    "X_no_pattern, y_no_pattern = real_data_no_pattern(X_real, patterns_to_test[0], model_type='full')\n",
    "\n",
    "X_joined = join_data(X_real, X_synthetic, X_no_pattern)\n",
    "y_joined = join_data(y_real, y_synthetic, y_no_pattern)\n",
    "\n",
    "X_pad = pad_arrays(X_joined)"
   ]
  },
  {
   "cell_type": "code",
   "execution_count": 6,
   "id": "5352c755-0444-4f3b-bad2-a2ecd890bc11",
   "metadata": {},
   "outputs": [
    {
     "name": "stderr",
     "output_type": "stream",
     "text": [
      "2023-09-04 15:28:16.582066: I tensorflow/compiler/xla/stream_executor/cuda/cuda_gpu_executor.cc:981] could not open file to read NUMA node: /sys/bus/pci/devices/0000:01:00.0/numa_node\n",
      "Your kernel may have been built without NUMA support.\n",
      "2023-09-04 15:28:16.582564: W tensorflow/core/common_runtime/gpu/gpu_device.cc:1960] Cannot dlopen some GPU libraries. Please make sure the missing libraries mentioned above are installed properly if you would like to use GPU. Follow the guide at https://www.tensorflow.org/install/gpu for how to download and setup the required libraries for your platform.\n",
      "Skipping registering GPU devices...\n"
     ]
    }
   ],
   "source": [
    "y_all = np.array(y_joined)\n",
    "X_train_rw, X_test_rw, y_train_rw, y_test_rw = train_test_split(X_pad, y_all, test_size=0.30)\n",
    "\n",
    "X_train_rw = tf.convert_to_tensor(X_train_rw, np.float32)\n",
    "y_train_rw = tf.convert_to_tensor(y_train_rw, np.int16)"
   ]
  },
  {
   "cell_type": "code",
   "execution_count": 7,
   "id": "42446865-c055-420a-b656-0a0f596e93ce",
   "metadata": {},
   "outputs": [
    {
     "name": "stdout",
     "output_type": "stream",
     "text": [
      "Epoch 1/100\n",
      "21/21 [==============================] - 2s 36ms/step - loss: 449527.1250 - mae: 123.4331 - val_loss: 11219.5557 - val_mae: 58.6484\n",
      "Epoch 2/100\n",
      "21/21 [==============================] - 1s 25ms/step - loss: 65833.4062 - mae: 82.0896 - val_loss: 8848.4854 - val_mae: 54.5698\n",
      "Epoch 3/100\n",
      "21/21 [==============================] - 1s 26ms/step - loss: 25571.4922 - mae: 71.6717 - val_loss: 8389.1514 - val_mae: 57.2209\n",
      "Epoch 4/100\n",
      "21/21 [==============================] - 1s 25ms/step - loss: 14986.6406 - mae: 61.9748 - val_loss: 7525.7002 - val_mae: 49.3243\n",
      "Epoch 5/100\n",
      "21/21 [==============================] - 1s 28ms/step - loss: 9743.1641 - mae: 55.3179 - val_loss: 6750.5098 - val_mae: 48.4467\n",
      "Epoch 6/100\n",
      "21/21 [==============================] - 1s 28ms/step - loss: 11296.6553 - mae: 55.2379 - val_loss: 6461.5972 - val_mae: 47.4963\n",
      "Epoch 7/100\n",
      "21/21 [==============================] - 1s 25ms/step - loss: 8554.9531 - mae: 52.1845 - val_loss: 5804.7910 - val_mae: 43.4016\n",
      "Epoch 8/100\n",
      "21/21 [==============================] - 1s 24ms/step - loss: 6815.2783 - mae: 47.7961 - val_loss: 5402.0474 - val_mae: 42.8923\n",
      "Epoch 9/100\n",
      "21/21 [==============================] - 1s 27ms/step - loss: 6054.4922 - mae: 42.8477 - val_loss: 4923.0796 - val_mae: 37.2138\n",
      "Epoch 10/100\n",
      "21/21 [==============================] - 1s 26ms/step - loss: 5700.1777 - mae: 39.5946 - val_loss: 4471.2632 - val_mae: 34.3478\n",
      "Epoch 11/100\n",
      "21/21 [==============================] - 1s 25ms/step - loss: 5032.8330 - mae: 36.0312 - val_loss: 4201.3711 - val_mae: 32.9090\n",
      "Epoch 12/100\n",
      "21/21 [==============================] - 1s 25ms/step - loss: 4498.3384 - mae: 34.0183 - val_loss: 3979.8691 - val_mae: 33.0220\n",
      "Epoch 13/100\n",
      "21/21 [==============================] - 1s 26ms/step - loss: 4080.8142 - mae: 33.5997 - val_loss: 3706.1001 - val_mae: 32.2072\n",
      "Epoch 14/100\n",
      "21/21 [==============================] - 1s 25ms/step - loss: 3697.1665 - mae: 32.2568 - val_loss: 3448.6990 - val_mae: 29.7780\n",
      "Epoch 15/100\n",
      "21/21 [==============================] - 1s 25ms/step - loss: 3309.1892 - mae: 30.0918 - val_loss: 3293.9272 - val_mae: 29.0090\n",
      "Epoch 16/100\n",
      "21/21 [==============================] - 0s 23ms/step - loss: 2999.5811 - mae: 28.8076 - val_loss: 2982.7664 - val_mae: 28.3347\n",
      "Epoch 17/100\n",
      "21/21 [==============================] - 0s 23ms/step - loss: 4852.1650 - mae: 29.1750 - val_loss: 3152.8306 - val_mae: 28.8755\n",
      "Epoch 18/100\n",
      "21/21 [==============================] - 1s 26ms/step - loss: 2727.9045 - mae: 27.3549 - val_loss: 2750.7595 - val_mae: 25.7857\n",
      "Epoch 19/100\n",
      "21/21 [==============================] - 1s 24ms/step - loss: 2482.8022 - mae: 26.1011 - val_loss: 2619.6011 - val_mae: 27.6472\n",
      "Epoch 20/100\n",
      "21/21 [==============================] - 0s 23ms/step - loss: 2206.3381 - mae: 24.6269 - val_loss: 2689.8896 - val_mae: 25.9256\n",
      "Epoch 21/100\n",
      "21/21 [==============================] - 1s 25ms/step - loss: 1868.0229 - mae: 22.7323 - val_loss: 2371.4512 - val_mae: 23.8890\n",
      "Epoch 22/100\n",
      "21/21 [==============================] - 1s 25ms/step - loss: 1865.8193 - mae: 22.6856 - val_loss: 2411.9143 - val_mae: 23.8640\n",
      "Epoch 23/100\n",
      "21/21 [==============================] - 1s 25ms/step - loss: 1473.8264 - mae: 21.2553 - val_loss: 2312.8523 - val_mae: 23.5711\n",
      "Epoch 24/100\n",
      "21/21 [==============================] - 0s 23ms/step - loss: 1302.4961 - mae: 19.4966 - val_loss: 2025.5592 - val_mae: 21.0227\n",
      "Epoch 25/100\n",
      "21/21 [==============================] - 1s 26ms/step - loss: 1160.4001 - mae: 18.2998 - val_loss: 2241.3074 - val_mae: 21.3310\n",
      "Epoch 26/100\n",
      "21/21 [==============================] - 1s 26ms/step - loss: 1031.1428 - mae: 16.5456 - val_loss: 2034.1547 - val_mae: 21.0638\n",
      "Epoch 27/100\n",
      "21/21 [==============================] - 1s 24ms/step - loss: 877.5261 - mae: 15.8805 - val_loss: 1968.8020 - val_mae: 20.4382\n",
      "Epoch 28/100\n",
      "21/21 [==============================] - 0s 22ms/step - loss: 804.9196 - mae: 16.0084 - val_loss: 1817.4529 - val_mae: 23.6611\n",
      "Epoch 29/100\n",
      "21/21 [==============================] - 1s 25ms/step - loss: 722.3841 - mae: 14.5479 - val_loss: 1756.8953 - val_mae: 20.0895\n",
      "Epoch 30/100\n",
      "21/21 [==============================] - 1s 25ms/step - loss: 700.6547 - mae: 13.9088 - val_loss: 1721.1200 - val_mae: 19.0091\n",
      "Epoch 31/100\n",
      "21/21 [==============================] - 1s 26ms/step - loss: 582.2149 - mae: 13.3930 - val_loss: 1726.9556 - val_mae: 19.0016\n",
      "Epoch 32/100\n",
      "21/21 [==============================] - 0s 24ms/step - loss: 773.8368 - mae: 14.5556 - val_loss: 1804.1624 - val_mae: 23.1964\n",
      "Epoch 33/100\n",
      "21/21 [==============================] - 1s 25ms/step - loss: 1165.4705 - mae: 18.0656 - val_loss: 1642.8165 - val_mae: 19.8949\n",
      "Epoch 34/100\n",
      "21/21 [==============================] - 1s 25ms/step - loss: 1138.1271 - mae: 17.4819 - val_loss: 1664.8702 - val_mae: 19.6462\n",
      "Epoch 35/100\n",
      "21/21 [==============================] - 1s 25ms/step - loss: 867.5805 - mae: 15.0366 - val_loss: 1890.9720 - val_mae: 22.8099\n",
      "Epoch 36/100\n",
      "21/21 [==============================] - 1s 24ms/step - loss: 694.5512 - mae: 14.2561 - val_loss: 1989.2019 - val_mae: 20.5807\n",
      "Epoch 37/100\n",
      "21/21 [==============================] - 0s 24ms/step - loss: 538.8165 - mae: 12.7662 - val_loss: 1917.0302 - val_mae: 19.9354\n",
      "Epoch 38/100\n",
      "21/21 [==============================] - 1s 26ms/step - loss: 455.9594 - mae: 11.8577 - val_loss: 1759.0886 - val_mae: 19.4499\n",
      "Epoch 39/100\n",
      "21/21 [==============================] - 0s 23ms/step - loss: 429.3918 - mae: 10.8786 - val_loss: 1793.7440 - val_mae: 18.4003\n",
      "Epoch 40/100\n",
      "21/21 [==============================] - 1s 24ms/step - loss: 381.1253 - mae: 10.3260 - val_loss: 1870.2036 - val_mae: 19.2664\n",
      "Epoch 41/100\n",
      "21/21 [==============================] - 0s 23ms/step - loss: 330.0268 - mae: 9.7827 - val_loss: 1738.4594 - val_mae: 19.9050\n",
      "Epoch 42/100\n",
      "21/21 [==============================] - 1s 26ms/step - loss: 289.0981 - mae: 8.9238 - val_loss: 1884.0229 - val_mae: 17.8890\n",
      "Epoch 43/100\n",
      "21/21 [==============================] - 1s 24ms/step - loss: 273.9518 - mae: 8.7383 - val_loss: 1794.1613 - val_mae: 18.2849\n",
      "Epoch 44/100\n",
      "21/21 [==============================] - 1s 24ms/step - loss: 270.9747 - mae: 8.6020 - val_loss: 1707.2734 - val_mae: 17.5455\n",
      "Epoch 45/100\n",
      "21/21 [==============================] - 0s 22ms/step - loss: 248.0832 - mae: 8.3023 - val_loss: 1783.9711 - val_mae: 18.0793\n",
      "Epoch 46/100\n",
      "21/21 [==============================] - 1s 25ms/step - loss: 219.7161 - mae: 7.7500 - val_loss: 1734.6158 - val_mae: 17.6620\n",
      "Epoch 47/100\n",
      "21/21 [==============================] - 0s 22ms/step - loss: 273.5434 - mae: 8.3500 - val_loss: 1803.7960 - val_mae: 18.0159\n",
      "Epoch 48/100\n",
      "21/21 [==============================] - 1s 24ms/step - loss: 273.5926 - mae: 8.5672 - val_loss: 1807.8949 - val_mae: 18.8051\n",
      "Epoch 49/100\n",
      "21/21 [==============================] - 0s 23ms/step - loss: 193.6696 - mae: 7.4855 - val_loss: 1869.3777 - val_mae: 18.3636\n",
      "Epoch 50/100\n",
      "21/21 [==============================] - 1s 25ms/step - loss: 195.5004 - mae: 7.5878 - val_loss: 1780.3781 - val_mae: 17.6228\n",
      "Epoch 51/100\n",
      "21/21 [==============================] - 0s 23ms/step - loss: 185.4800 - mae: 7.1577 - val_loss: 1796.9163 - val_mae: 18.1586\n",
      "Epoch 52/100\n",
      "21/21 [==============================] - 1s 24ms/step - loss: 167.2890 - mae: 6.7542 - val_loss: 1813.6196 - val_mae: 17.7934\n",
      "Epoch 53/100\n",
      "21/21 [==============================] - 1s 26ms/step - loss: 165.6408 - mae: 6.5850 - val_loss: 1854.4012 - val_mae: 18.2210\n"
     ]
    },
    {
     "data": {
      "text/plain": [
       "<keras.src.callbacks.History at 0x7fad95af4460>"
      ]
     },
     "execution_count": 7,
     "metadata": {},
     "output_type": "execute_result"
    }
   ],
   "source": [
    "es = EarlyStopping(patience = 20, restore_best_weights=True)\n",
    "\n",
    "input_shape = X_train_rw.shape[1:]\n",
    "model_rw = initialize_model_CNN(input_shape)\n",
    "\n",
    "model_rw.fit(\n",
    "    X_train_rw,\n",
    "    y_train_rw,\n",
    "    validation_split = 0.2,\n",
    "    shuffle = True,\n",
    "    batch_size=32,\n",
    "    epochs = 100,\n",
    "    callbacks = [es],\n",
    "    verbose = 1\n",
    ")"
   ]
  },
  {
   "cell_type": "code",
   "execution_count": 8,
   "id": "5559f6a5-55f5-453d-b977-f414d7f2620a",
   "metadata": {},
   "outputs": [
    {
     "name": "stdout",
     "output_type": "stream",
     "text": [
      "11/11 [==============================] - 0s 10ms/step - loss: 1983.1173 - mae: 22.0387\n"
     ]
    }
   ],
   "source": [
    "X_test_rw = tf.convert_to_tensor(X_test_rw, np.float32)\n",
    "y_test_rw = tf.convert_to_tensor(y_test_rw, np.int16)\n",
    "res_rw = model_rw.evaluate(X_test_rw, y_test_rw)\n",
    "\n",
    "results_dict['Rising Wedge'] = res_rw[1]"
   ]
  },
  {
   "cell_type": "code",
   "execution_count": 44,
   "id": "af3a7349-e55c-4cbe-8543-95008bf6d018",
   "metadata": {},
   "outputs": [],
   "source": [
    "model_rw.save_weights('first_model_rw_weights.h5')"
   ]
  },
  {
   "cell_type": "markdown",
   "id": "126e786e-66bf-455d-a0de-0b6a81ad2113",
   "metadata": {},
   "source": [
    "# Falling wedge"
   ]
  },
  {
   "cell_type": "code",
   "execution_count": 9,
   "id": "ebbed9b1-835e-4d17-9797-f3357c30a13f",
   "metadata": {},
   "outputs": [],
   "source": [
    "X_real, y_real = real_data_pattern(patterns_to_test[1], model_type='full')\n",
    "X_synthetic, y_synthetic = synthetic_data(X_real, patterns_to_test[1], model_type='full')\n",
    "X_no_pattern, y_no_pattern = real_data_no_pattern(X_real, patterns_to_test[1], model_type='full')\n",
    "\n",
    "X_joined = join_data(X_real, X_synthetic, X_no_pattern)\n",
    "y_joined = join_data(y_real, y_synthetic, y_no_pattern)\n",
    "\n",
    "X_pad = pad_arrays(X_joined)"
   ]
  },
  {
   "cell_type": "code",
   "execution_count": 10,
   "id": "4406f5f8-5ef1-4ec5-9327-0f7d6618697f",
   "metadata": {},
   "outputs": [],
   "source": [
    "y_all = np.array(y_joined)\n",
    "X_train_fw, X_test_fw, y_train_fw, y_test_fw = train_test_split(X_pad, y_all, test_size=0.30)\n",
    "\n",
    "X_train_fw = tf.convert_to_tensor(X_train_fw, np.float32)\n",
    "y_train_fw = tf.convert_to_tensor(y_train_fw, np.int16)"
   ]
  },
  {
   "cell_type": "code",
   "execution_count": 11,
   "id": "193828ea-fe49-4f46-aefc-a8a00cd5327e",
   "metadata": {},
   "outputs": [
    {
     "name": "stdout",
     "output_type": "stream",
     "text": [
      "Epoch 1/100\n",
      "14/14 [==============================] - 1s 24ms/step - loss: 76487.9922 - mae: 62.6327 - val_loss: 6684.9336 - val_mae: 35.7959\n",
      "Epoch 2/100\n",
      "14/14 [==============================] - 0s 14ms/step - loss: 6679.8223 - mae: 36.3095 - val_loss: 4242.2666 - val_mae: 29.6563\n",
      "Epoch 3/100\n",
      "14/14 [==============================] - 0s 15ms/step - loss: 3851.1912 - mae: 29.7000 - val_loss: 2896.6846 - val_mae: 28.7830\n",
      "Epoch 4/100\n",
      "14/14 [==============================] - 0s 14ms/step - loss: 2274.0491 - mae: 24.2230 - val_loss: 2277.5608 - val_mae: 24.8345\n",
      "Epoch 5/100\n",
      "14/14 [==============================] - 0s 14ms/step - loss: 1854.6697 - mae: 22.2338 - val_loss: 1554.9401 - val_mae: 21.9805\n",
      "Epoch 6/100\n",
      "14/14 [==============================] - 0s 14ms/step - loss: 1296.9087 - mae: 17.9701 - val_loss: 1449.8611 - val_mae: 21.2432\n",
      "Epoch 7/100\n",
      "14/14 [==============================] - 0s 14ms/step - loss: 1143.2477 - mae: 16.6056 - val_loss: 1136.1622 - val_mae: 19.7679\n",
      "Epoch 8/100\n",
      "14/14 [==============================] - 0s 13ms/step - loss: 773.6624 - mae: 15.7324 - val_loss: 849.1134 - val_mae: 15.4348\n",
      "Epoch 9/100\n",
      "14/14 [==============================] - 0s 13ms/step - loss: 572.7929 - mae: 12.8849 - val_loss: 692.8061 - val_mae: 12.2992\n",
      "Epoch 10/100\n",
      "14/14 [==============================] - 0s 13ms/step - loss: 504.1643 - mae: 12.5290 - val_loss: 728.4077 - val_mae: 13.2411\n",
      "Epoch 11/100\n",
      "14/14 [==============================] - 0s 13ms/step - loss: 618.7548 - mae: 14.6219 - val_loss: 1191.1539 - val_mae: 18.3190\n",
      "Epoch 12/100\n",
      "14/14 [==============================] - 0s 13ms/step - loss: 538.3372 - mae: 12.8848 - val_loss: 663.7067 - val_mae: 12.7210\n",
      "Epoch 13/100\n",
      "14/14 [==============================] - 0s 14ms/step - loss: 395.9060 - mae: 10.2796 - val_loss: 811.5844 - val_mae: 13.7150\n",
      "Epoch 14/100\n",
      "14/14 [==============================] - 0s 15ms/step - loss: 453.4121 - mae: 11.8758 - val_loss: 1091.7708 - val_mae: 17.8770\n",
      "Epoch 15/100\n",
      "14/14 [==============================] - 0s 14ms/step - loss: 333.1823 - mae: 10.4526 - val_loss: 447.2231 - val_mae: 11.6292\n",
      "Epoch 16/100\n",
      "14/14 [==============================] - 0s 15ms/step - loss: 235.6181 - mae: 8.2312 - val_loss: 450.7781 - val_mae: 11.0564\n",
      "Epoch 17/100\n",
      "14/14 [==============================] - 0s 17ms/step - loss: 189.8213 - mae: 7.1793 - val_loss: 382.4747 - val_mae: 8.9999\n",
      "Epoch 18/100\n",
      "14/14 [==============================] - 0s 17ms/step - loss: 167.8460 - mae: 6.3444 - val_loss: 426.7464 - val_mae: 9.2680\n",
      "Epoch 19/100\n",
      "14/14 [==============================] - 0s 15ms/step - loss: 131.7954 - mae: 5.5736 - val_loss: 379.0723 - val_mae: 8.8317\n",
      "Epoch 20/100\n",
      "14/14 [==============================] - 0s 15ms/step - loss: 116.9854 - mae: 5.2672 - val_loss: 368.7378 - val_mae: 8.3685\n",
      "Epoch 21/100\n",
      "14/14 [==============================] - 0s 16ms/step - loss: 122.4822 - mae: 5.3979 - val_loss: 351.0931 - val_mae: 9.1157\n",
      "Epoch 22/100\n",
      "14/14 [==============================] - 0s 16ms/step - loss: 101.4709 - mae: 4.8757 - val_loss: 388.9046 - val_mae: 8.4017\n",
      "Epoch 23/100\n",
      "14/14 [==============================] - 0s 16ms/step - loss: 95.1884 - mae: 4.4341 - val_loss: 370.1032 - val_mae: 8.8328\n",
      "Epoch 24/100\n",
      "14/14 [==============================] - 0s 17ms/step - loss: 91.9944 - mae: 4.6091 - val_loss: 379.5491 - val_mae: 8.3930\n",
      "Epoch 25/100\n",
      "14/14 [==============================] - 0s 15ms/step - loss: 98.1387 - mae: 4.9774 - val_loss: 366.4268 - val_mae: 8.3951\n",
      "Epoch 26/100\n",
      "14/14 [==============================] - 0s 15ms/step - loss: 82.6680 - mae: 4.3879 - val_loss: 376.4204 - val_mae: 8.3523\n",
      "Epoch 27/100\n",
      "14/14 [==============================] - 0s 14ms/step - loss: 84.6192 - mae: 3.9944 - val_loss: 356.1843 - val_mae: 8.1434\n",
      "Epoch 28/100\n",
      "14/14 [==============================] - 0s 16ms/step - loss: 80.3309 - mae: 4.0385 - val_loss: 355.6338 - val_mae: 8.1247\n",
      "Epoch 29/100\n",
      "14/14 [==============================] - 0s 16ms/step - loss: 76.5078 - mae: 3.9738 - val_loss: 373.0421 - val_mae: 8.2428\n",
      "Epoch 30/100\n",
      "14/14 [==============================] - 0s 15ms/step - loss: 74.3050 - mae: 3.6987 - val_loss: 373.2364 - val_mae: 8.1783\n",
      "Epoch 31/100\n",
      "14/14 [==============================] - 0s 16ms/step - loss: 89.4802 - mae: 4.3973 - val_loss: 333.3054 - val_mae: 8.1066\n",
      "Epoch 32/100\n",
      "14/14 [==============================] - 0s 16ms/step - loss: 134.6595 - mae: 6.1544 - val_loss: 362.7574 - val_mae: 8.4447\n",
      "Epoch 33/100\n",
      "14/14 [==============================] - 0s 15ms/step - loss: 93.9534 - mae: 4.7599 - val_loss: 363.4588 - val_mae: 8.3748\n",
      "Epoch 34/100\n",
      "14/14 [==============================] - 0s 15ms/step - loss: 71.9982 - mae: 3.8288 - val_loss: 360.0211 - val_mae: 8.4086\n",
      "Epoch 35/100\n",
      "14/14 [==============================] - 0s 16ms/step - loss: 69.2530 - mae: 3.6537 - val_loss: 353.9431 - val_mae: 7.8926\n",
      "Epoch 36/100\n",
      "14/14 [==============================] - 0s 16ms/step - loss: 64.5288 - mae: 3.4895 - val_loss: 372.8713 - val_mae: 7.7133\n",
      "Epoch 37/100\n",
      "14/14 [==============================] - 0s 16ms/step - loss: 65.4039 - mae: 3.2595 - val_loss: 352.1622 - val_mae: 7.4293\n",
      "Epoch 38/100\n",
      "14/14 [==============================] - 0s 16ms/step - loss: 60.3519 - mae: 3.2359 - val_loss: 349.7776 - val_mae: 7.6779\n",
      "Epoch 39/100\n",
      "14/14 [==============================] - 0s 15ms/step - loss: 62.5388 - mae: 3.4801 - val_loss: 372.1872 - val_mae: 7.8361\n",
      "Epoch 40/100\n",
      "14/14 [==============================] - 0s 15ms/step - loss: 57.2181 - mae: 3.0929 - val_loss: 415.5519 - val_mae: 8.1865\n",
      "Epoch 41/100\n",
      "14/14 [==============================] - 0s 15ms/step - loss: 81.6738 - mae: 4.1618 - val_loss: 377.9550 - val_mae: 8.2081\n",
      "Epoch 42/100\n",
      "14/14 [==============================] - 0s 15ms/step - loss: 64.9194 - mae: 3.6623 - val_loss: 421.2107 - val_mae: 10.2136\n",
      "Epoch 43/100\n",
      "14/14 [==============================] - 0s 15ms/step - loss: 64.8006 - mae: 3.5434 - val_loss: 376.3077 - val_mae: 8.3053\n",
      "Epoch 44/100\n",
      "14/14 [==============================] - 0s 16ms/step - loss: 70.7034 - mae: 3.8599 - val_loss: 346.0909 - val_mae: 8.3564\n",
      "Epoch 45/100\n",
      "14/14 [==============================] - 0s 16ms/step - loss: 55.8569 - mae: 3.1124 - val_loss: 383.7320 - val_mae: 8.8265\n",
      "Epoch 46/100\n",
      "14/14 [==============================] - 0s 15ms/step - loss: 57.3695 - mae: 2.8901 - val_loss: 382.3666 - val_mae: 8.3083\n",
      "Epoch 47/100\n",
      "14/14 [==============================] - 0s 15ms/step - loss: 69.1179 - mae: 3.7927 - val_loss: 355.4126 - val_mae: 7.6891\n",
      "Epoch 48/100\n",
      "14/14 [==============================] - 0s 16ms/step - loss: 53.9244 - mae: 2.9030 - val_loss: 362.6321 - val_mae: 7.3813\n",
      "Epoch 49/100\n",
      "14/14 [==============================] - 0s 16ms/step - loss: 55.4018 - mae: 3.1654 - val_loss: 388.2707 - val_mae: 8.3357\n",
      "Epoch 50/100\n",
      "14/14 [==============================] - 0s 16ms/step - loss: 58.8440 - mae: 3.3390 - val_loss: 375.8978 - val_mae: 8.2318\n",
      "Epoch 51/100\n",
      "14/14 [==============================] - 0s 16ms/step - loss: 51.5446 - mae: 3.0057 - val_loss: 366.2192 - val_mae: 8.1318\n"
     ]
    },
    {
     "data": {
      "text/plain": [
       "<keras.src.callbacks.History at 0x7fad82ca3460>"
      ]
     },
     "execution_count": 11,
     "metadata": {},
     "output_type": "execute_result"
    }
   ],
   "source": [
    "es = EarlyStopping(patience = 20, restore_best_weights=True)\n",
    "\n",
    "input_shape = X_train_fw.shape[1:]\n",
    "model_fw = initialize_model_CNN(input_shape)\n",
    "\n",
    "model_fw.fit(\n",
    "    X_train_fw,\n",
    "    y_train_fw,\n",
    "    validation_split = 0.2,\n",
    "    shuffle = True,\n",
    "    batch_size=32,\n",
    "    epochs = 100,\n",
    "    callbacks = [es],\n",
    "    verbose = 1\n",
    ")"
   ]
  },
  {
   "cell_type": "code",
   "execution_count": 12,
   "id": "d8ca7636-93d0-4c49-9c8d-3e427d4a3e35",
   "metadata": {},
   "outputs": [
    {
     "name": "stdout",
     "output_type": "stream",
     "text": [
      "8/8 [==============================] - 0s 6ms/step - loss: 248.9709 - mae: 6.9889\n"
     ]
    }
   ],
   "source": [
    "X_test_fw = tf.convert_to_tensor(X_test_fw, np.float32)\n",
    "y_test_fw = tf.convert_to_tensor(y_test_fw, np.int16)\n",
    "res_fw = model_fw.evaluate(X_test_fw, y_test_fw)\n",
    "\n",
    "results_dict['Falling Wedge'] = res_fw[1]"
   ]
  },
  {
   "cell_type": "markdown",
   "id": "23f74548-d1bb-4fd8-b4c9-137b8c09921d",
   "metadata": {},
   "source": [
    "# Double Top"
   ]
  },
  {
   "cell_type": "code",
   "execution_count": 13,
   "id": "22e67ade-16c7-420c-a720-5e76e6d995ef",
   "metadata": {},
   "outputs": [],
   "source": [
    "X_real, y_real = real_data_pattern(patterns_to_test[2], model_type='full')\n",
    "X_synthetic, y_synthetic = synthetic_data(X_real, patterns_to_test[2], model_type='full')\n",
    "X_no_pattern, y_no_pattern = real_data_no_pattern(X_real, patterns_to_test[2], model_type='full')\n",
    "\n",
    "X_joined = join_data(X_real, X_synthetic, X_no_pattern)\n",
    "y_joined = join_data(y_real, y_synthetic, y_no_pattern)\n",
    "\n",
    "X_pad = pad_arrays(X_joined)"
   ]
  },
  {
   "cell_type": "code",
   "execution_count": 14,
   "id": "c726302a-7f0e-41c5-b5dc-761a5900ed73",
   "metadata": {},
   "outputs": [],
   "source": [
    "y_all = np.array(y_joined)\n",
    "X_train_dt, X_test_dt, y_train_dt, y_test_dt = train_test_split(X_pad, y_all, test_size=0.30)\n",
    "\n",
    "X_train_dt = tf.convert_to_tensor(X_train_dt, np.float32)\n",
    "y_train_dt = tf.convert_to_tensor(y_train_dt, np.int16)"
   ]
  },
  {
   "cell_type": "code",
   "execution_count": 15,
   "id": "071f15a5-5cac-43e6-8ef4-aab8dba3e372",
   "metadata": {},
   "outputs": [
    {
     "name": "stdout",
     "output_type": "stream",
     "text": [
      "Epoch 1/100\n",
      "14/14 [==============================] - 1s 26ms/step - loss: 76743.5703 - mae: 72.5666 - val_loss: 11534.0459 - val_mae: 49.8026\n",
      "Epoch 2/100\n",
      "14/14 [==============================] - 0s 16ms/step - loss: 102098.8438 - mae: 67.2756 - val_loss: 9900.8633 - val_mae: 47.4017\n",
      "Epoch 3/100\n",
      "14/14 [==============================] - 0s 18ms/step - loss: 934814.1250 - mae: 85.5220 - val_loss: 10677.6924 - val_mae: 45.7824\n",
      "Epoch 4/100\n",
      "14/14 [==============================] - 0s 17ms/step - loss: 51810.4336 - mae: 54.7192 - val_loss: 10193.3984 - val_mae: 43.2995\n",
      "Epoch 5/100\n",
      "14/14 [==============================] - 0s 18ms/step - loss: 34070.3164 - mae: 49.8616 - val_loss: 9583.3184 - val_mae: 46.2722\n",
      "Epoch 6/100\n",
      "14/14 [==============================] - 0s 16ms/step - loss: 12381.3320 - mae: 45.5336 - val_loss: 8692.3311 - val_mae: 44.5067\n",
      "Epoch 7/100\n",
      "14/14 [==============================] - 0s 16ms/step - loss: 8806.5322 - mae: 41.8756 - val_loss: 7798.0542 - val_mae: 40.7303\n",
      "Epoch 8/100\n",
      "14/14 [==============================] - 0s 16ms/step - loss: 13079.7490 - mae: 41.3899 - val_loss: 7964.4785 - val_mae: 45.8008\n",
      "Epoch 9/100\n",
      "14/14 [==============================] - 0s 18ms/step - loss: 435569.3438 - mae: 78.6779 - val_loss: 10561.9102 - val_mae: 44.0700\n",
      "Epoch 10/100\n",
      "14/14 [==============================] - 0s 15ms/step - loss: 13144.9922 - mae: 44.2319 - val_loss: 9742.6367 - val_mae: 43.7727\n",
      "Epoch 11/100\n",
      "14/14 [==============================] - 0s 15ms/step - loss: 12283.2002 - mae: 43.7516 - val_loss: 9108.0645 - val_mae: 43.0562\n",
      "Epoch 12/100\n",
      "14/14 [==============================] - 0s 15ms/step - loss: 9966.0303 - mae: 43.5223 - val_loss: 8718.5176 - val_mae: 43.0466\n",
      "Epoch 13/100\n",
      "14/14 [==============================] - 0s 15ms/step - loss: 8090.3159 - mae: 41.9211 - val_loss: 8488.9814 - val_mae: 44.9959\n",
      "Epoch 14/100\n",
      "14/14 [==============================] - 0s 17ms/step - loss: 7388.2856 - mae: 40.5313 - val_loss: 8215.5156 - val_mae: 41.8719\n",
      "Epoch 15/100\n",
      "14/14 [==============================] - 0s 16ms/step - loss: 7081.5957 - mae: 39.2929 - val_loss: 7978.9717 - val_mae: 40.4600\n",
      "Epoch 16/100\n",
      "14/14 [==============================] - 0s 16ms/step - loss: 6649.0928 - mae: 37.9811 - val_loss: 7534.3608 - val_mae: 40.9720\n",
      "Epoch 17/100\n",
      "14/14 [==============================] - 0s 15ms/step - loss: 6591.9199 - mae: 38.9737 - val_loss: 6944.5024 - val_mae: 40.1469\n",
      "Epoch 18/100\n",
      "14/14 [==============================] - 0s 17ms/step - loss: 6161.2412 - mae: 36.4329 - val_loss: 6801.3345 - val_mae: 38.5601\n",
      "Epoch 19/100\n",
      "14/14 [==============================] - 0s 17ms/step - loss: 5605.8306 - mae: 36.2709 - val_loss: 5779.9639 - val_mae: 38.7466\n",
      "Epoch 20/100\n",
      "14/14 [==============================] - 0s 17ms/step - loss: 4980.4829 - mae: 36.2694 - val_loss: 5087.2178 - val_mae: 37.4172\n",
      "Epoch 21/100\n",
      "14/14 [==============================] - 0s 16ms/step - loss: 3990.3113 - mae: 31.2310 - val_loss: 3845.3074 - val_mae: 30.9212\n",
      "Epoch 22/100\n",
      "14/14 [==============================] - 0s 16ms/step - loss: 3090.0713 - mae: 27.5006 - val_loss: 3594.1213 - val_mae: 30.0115\n",
      "Epoch 23/100\n",
      "14/14 [==============================] - 0s 17ms/step - loss: 2478.2131 - mae: 24.9289 - val_loss: 2934.5913 - val_mae: 27.0690\n",
      "Epoch 24/100\n",
      "14/14 [==============================] - 0s 16ms/step - loss: 2040.7782 - mae: 22.6195 - val_loss: 2702.1492 - val_mae: 25.3676\n",
      "Epoch 25/100\n",
      "14/14 [==============================] - 0s 16ms/step - loss: 1737.2369 - mae: 20.7813 - val_loss: 2749.1606 - val_mae: 24.9957\n",
      "Epoch 26/100\n",
      "14/14 [==============================] - 0s 17ms/step - loss: 1630.2898 - mae: 20.6388 - val_loss: 2888.8994 - val_mae: 25.8188\n",
      "Epoch 27/100\n",
      "14/14 [==============================] - 0s 17ms/step - loss: 1529.9578 - mae: 19.7838 - val_loss: 2735.8452 - val_mae: 24.1057\n",
      "Epoch 28/100\n",
      "14/14 [==============================] - 0s 16ms/step - loss: 1315.3918 - mae: 18.4253 - val_loss: 2840.6543 - val_mae: 24.0201\n",
      "Epoch 29/100\n",
      "14/14 [==============================] - 0s 16ms/step - loss: 1483.8983 - mae: 18.8581 - val_loss: 3277.4138 - val_mae: 26.3843\n",
      "Epoch 30/100\n",
      "14/14 [==============================] - 0s 16ms/step - loss: 1225.8385 - mae: 17.8928 - val_loss: 2833.6206 - val_mae: 23.9777\n",
      "Epoch 31/100\n",
      "14/14 [==============================] - 0s 16ms/step - loss: 1058.4485 - mae: 17.0122 - val_loss: 3040.6072 - val_mae: 24.4796\n",
      "Epoch 32/100\n",
      "14/14 [==============================] - 0s 16ms/step - loss: 849.7104 - mae: 15.8149 - val_loss: 2939.6604 - val_mae: 24.1613\n",
      "Epoch 33/100\n",
      "14/14 [==============================] - 0s 16ms/step - loss: 803.7618 - mae: 15.0776 - val_loss: 3457.8176 - val_mae: 24.8177\n",
      "Epoch 34/100\n",
      "14/14 [==============================] - 0s 15ms/step - loss: 892.2100 - mae: 15.6523 - val_loss: 3017.6841 - val_mae: 24.1128\n",
      "Epoch 35/100\n",
      "14/14 [==============================] - 0s 15ms/step - loss: 698.0812 - mae: 14.4604 - val_loss: 3047.1372 - val_mae: 23.8609\n",
      "Epoch 36/100\n",
      "14/14 [==============================] - 0s 15ms/step - loss: 577.6953 - mae: 13.2176 - val_loss: 3142.6213 - val_mae: 23.7432\n",
      "Epoch 37/100\n",
      "14/14 [==============================] - 0s 16ms/step - loss: 574.6481 - mae: 13.1049 - val_loss: 3194.2742 - val_mae: 24.0099\n",
      "Epoch 38/100\n",
      "14/14 [==============================] - 0s 15ms/step - loss: 504.5484 - mae: 12.6166 - val_loss: 3216.6414 - val_mae: 23.7598\n",
      "Epoch 39/100\n",
      "14/14 [==============================] - 0s 16ms/step - loss: 458.9405 - mae: 12.3518 - val_loss: 3365.4583 - val_mae: 26.1471\n",
      "Epoch 40/100\n",
      "14/14 [==============================] - 0s 16ms/step - loss: 465.0480 - mae: 12.7994 - val_loss: 3207.7795 - val_mae: 24.0222\n",
      "Epoch 41/100\n",
      "14/14 [==============================] - 0s 16ms/step - loss: 402.2203 - mae: 11.3691 - val_loss: 3267.6101 - val_mae: 25.3892\n",
      "Epoch 42/100\n",
      "14/14 [==============================] - 0s 16ms/step - loss: 424.8685 - mae: 12.5243 - val_loss: 3301.8806 - val_mae: 26.4486\n",
      "Epoch 43/100\n",
      "14/14 [==============================] - 0s 16ms/step - loss: 437.5594 - mae: 12.2595 - val_loss: 3347.1895 - val_mae: 23.9641\n",
      "Epoch 44/100\n",
      "14/14 [==============================] - 0s 16ms/step - loss: 345.2039 - mae: 11.2910 - val_loss: 3337.6265 - val_mae: 24.2717\n"
     ]
    },
    {
     "data": {
      "text/plain": [
       "<keras.src.callbacks.History at 0x7fad9549c460>"
      ]
     },
     "execution_count": 15,
     "metadata": {},
     "output_type": "execute_result"
    }
   ],
   "source": [
    "es = EarlyStopping(patience = 20, restore_best_weights=True)\n",
    "\n",
    "input_shape = X_train_dt.shape[1:]\n",
    "model_dt = initialize_model_CNN(input_shape)\n",
    "\n",
    "model_dt.fit(\n",
    "    X_train_dt,\n",
    "    y_train_dt,\n",
    "    validation_split = 0.2,\n",
    "    shuffle = True,\n",
    "    batch_size=32,\n",
    "    epochs = 100,\n",
    "    callbacks = [es],\n",
    "    verbose = 1\n",
    ")"
   ]
  },
  {
   "cell_type": "code",
   "execution_count": 17,
   "id": "d01d3e99-25ee-4ead-baab-2e0a2a9bc73c",
   "metadata": {},
   "outputs": [
    {
     "name": "stdout",
     "output_type": "stream",
     "text": [
      "8/8 [==============================] - 0s 5ms/step - loss: 2598.5349 - mae: 25.8533\n"
     ]
    }
   ],
   "source": [
    "X_test_dt = tf.convert_to_tensor(X_test_dt, np.float32)\n",
    "y_test_dt = tf.convert_to_tensor(y_test_dt, np.int16)\n",
    "res_dt = model_dt.evaluate(X_test_dt, y_test_dt)\n",
    "\n",
    "results_dict['Double Top'] = res_dt[1]"
   ]
  },
  {
   "cell_type": "markdown",
   "id": "7a66f3a0-3fcd-4e88-8968-89a37033d07b",
   "metadata": {},
   "source": [
    "# Double Bottom"
   ]
  },
  {
   "cell_type": "code",
   "execution_count": 18,
   "id": "79189ad7-9aec-48ad-bbd4-ef5dc14dd172",
   "metadata": {},
   "outputs": [],
   "source": [
    "X_real, y_real = real_data_pattern(patterns_to_test[3], model_type='full')\n",
    "X_synthetic, y_synthetic = synthetic_data(X_real, patterns_to_test[3], model_type='full')\n",
    "X_no_pattern, y_no_pattern = real_data_no_pattern(X_real, patterns_to_test[3], model_type='full')\n",
    "\n",
    "X_joined = join_data(X_real, X_synthetic, X_no_pattern)\n",
    "y_joined = join_data(y_real, y_synthetic, y_no_pattern)\n",
    "\n",
    "X_pad = pad_arrays(X_joined)"
   ]
  },
  {
   "cell_type": "code",
   "execution_count": 19,
   "id": "da26efee-ece7-4b96-b1bc-162a1ae51d9c",
   "metadata": {},
   "outputs": [],
   "source": [
    "y_all = np.array(y_joined)\n",
    "X_train_db, X_test_db, y_train_db, y_test_db = train_test_split(X_pad, y_all, test_size=0.30)\n",
    "\n",
    "X_train_db = tf.convert_to_tensor(X_train_db, np.float32)\n",
    "y_train_db = tf.convert_to_tensor(y_train_db, np.int16)"
   ]
  },
  {
   "cell_type": "code",
   "execution_count": 20,
   "id": "d3c3c977-08ef-40b7-8442-282a8d6cc2eb",
   "metadata": {},
   "outputs": [
    {
     "name": "stdout",
     "output_type": "stream",
     "text": [
      "Epoch 1/100\n",
      "13/13 [==============================] - 1s 24ms/step - loss: 14937.3643 - mae: 50.0123 - val_loss: 22834.8359 - val_mae: 66.7170\n",
      "Epoch 2/100\n",
      "13/13 [==============================] - 0s 15ms/step - loss: 40038.9297 - mae: 56.1952 - val_loss: 10914.7725 - val_mae: 55.2011\n",
      "Epoch 3/100\n",
      "13/13 [==============================] - 0s 14ms/step - loss: 26670.0527 - mae: 48.7399 - val_loss: 10233.1465 - val_mae: 50.6159\n",
      "Epoch 4/100\n",
      "13/13 [==============================] - 0s 14ms/step - loss: 6780.0850 - mae: 38.6671 - val_loss: 8626.2236 - val_mae: 49.0487\n",
      "Epoch 5/100\n",
      "13/13 [==============================] - 0s 14ms/step - loss: 6692.6416 - mae: 38.9577 - val_loss: 8818.4893 - val_mae: 49.4043\n",
      "Epoch 6/100\n",
      "13/13 [==============================] - 0s 14ms/step - loss: 5528.7051 - mae: 36.5205 - val_loss: 8162.5410 - val_mae: 50.2894\n",
      "Epoch 7/100\n",
      "13/13 [==============================] - 0s 14ms/step - loss: 5196.0825 - mae: 37.9164 - val_loss: 7479.1025 - val_mae: 46.7380\n",
      "Epoch 8/100\n",
      "13/13 [==============================] - 0s 14ms/step - loss: 4700.3877 - mae: 33.4344 - val_loss: 7060.9512 - val_mae: 43.4067\n",
      "Epoch 9/100\n",
      "13/13 [==============================] - 0s 13ms/step - loss: 4117.9951 - mae: 32.0700 - val_loss: 6750.8188 - val_mae: 43.2608\n",
      "Epoch 10/100\n",
      "13/13 [==============================] - 0s 13ms/step - loss: 3789.0823 - mae: 34.0570 - val_loss: 6579.7451 - val_mae: 46.8202\n",
      "Epoch 11/100\n",
      "13/13 [==============================] - 0s 13ms/step - loss: 3194.9263 - mae: 29.8486 - val_loss: 5736.0620 - val_mae: 40.5785\n",
      "Epoch 12/100\n",
      "13/13 [==============================] - 0s 13ms/step - loss: 3069.9927 - mae: 28.5210 - val_loss: 5880.3213 - val_mae: 38.4345\n",
      "Epoch 13/100\n",
      "13/13 [==============================] - 0s 12ms/step - loss: 2738.3159 - mae: 29.5982 - val_loss: 5668.6948 - val_mae: 41.8329\n",
      "Epoch 14/100\n",
      "13/13 [==============================] - 0s 13ms/step - loss: 2124.4539 - mae: 24.4371 - val_loss: 5043.8950 - val_mae: 35.3934\n",
      "Epoch 15/100\n",
      "13/13 [==============================] - 0s 13ms/step - loss: 1809.8701 - mae: 21.3056 - val_loss: 5341.9941 - val_mae: 35.3503\n",
      "Epoch 16/100\n",
      "13/13 [==============================] - 0s 13ms/step - loss: 1903.7368 - mae: 22.7683 - val_loss: 5032.6479 - val_mae: 34.1145\n",
      "Epoch 17/100\n",
      "13/13 [==============================] - 0s 14ms/step - loss: 1756.6833 - mae: 22.7081 - val_loss: 4767.8320 - val_mae: 34.3167\n",
      "Epoch 18/100\n",
      "13/13 [==============================] - 0s 15ms/step - loss: 1418.4270 - mae: 21.5061 - val_loss: 4733.6782 - val_mae: 33.1828\n",
      "Epoch 19/100\n",
      "13/13 [==============================] - 0s 15ms/step - loss: 1454.1027 - mae: 20.9790 - val_loss: 4221.1743 - val_mae: 32.0254\n",
      "Epoch 20/100\n",
      "13/13 [==============================] - 0s 16ms/step - loss: 1131.2325 - mae: 17.7046 - val_loss: 4103.2769 - val_mae: 31.7427\n",
      "Epoch 21/100\n",
      "13/13 [==============================] - 0s 17ms/step - loss: 939.7559 - mae: 16.4820 - val_loss: 4055.3650 - val_mae: 28.3540\n",
      "Epoch 22/100\n",
      "13/13 [==============================] - 0s 16ms/step - loss: 1246.0966 - mae: 17.6047 - val_loss: 3847.9768 - val_mae: 26.6754\n",
      "Epoch 23/100\n",
      "13/13 [==============================] - 0s 15ms/step - loss: 900.5173 - mae: 15.1809 - val_loss: 4354.5117 - val_mae: 29.3460\n",
      "Epoch 24/100\n",
      "13/13 [==============================] - 0s 15ms/step - loss: 1016.9031 - mae: 14.6373 - val_loss: 4141.1602 - val_mae: 28.7617\n",
      "Epoch 25/100\n",
      "13/13 [==============================] - 0s 16ms/step - loss: 748.2866 - mae: 13.7909 - val_loss: 3848.2275 - val_mae: 27.4841\n",
      "Epoch 26/100\n",
      "13/13 [==============================] - 0s 15ms/step - loss: 585.3163 - mae: 12.3628 - val_loss: 3559.2869 - val_mae: 25.5594\n",
      "Epoch 27/100\n",
      "13/13 [==============================] - 0s 16ms/step - loss: 590.2239 - mae: 11.4935 - val_loss: 3589.9294 - val_mae: 25.0938\n",
      "Epoch 28/100\n",
      "13/13 [==============================] - 0s 16ms/step - loss: 431.5098 - mae: 10.1977 - val_loss: 3448.3059 - val_mae: 25.3702\n",
      "Epoch 29/100\n",
      "13/13 [==============================] - 0s 16ms/step - loss: 425.7099 - mae: 10.9849 - val_loss: 3379.4819 - val_mae: 24.5816\n",
      "Epoch 30/100\n",
      "13/13 [==============================] - 0s 16ms/step - loss: 314.9331 - mae: 9.9113 - val_loss: 3347.1763 - val_mae: 25.3492\n",
      "Epoch 31/100\n",
      "13/13 [==============================] - 0s 15ms/step - loss: 346.7513 - mae: 9.7513 - val_loss: 3597.2312 - val_mae: 24.4506\n",
      "Epoch 32/100\n",
      "13/13 [==============================] - 0s 16ms/step - loss: 392.0562 - mae: 10.2073 - val_loss: 3413.7520 - val_mae: 23.4584\n",
      "Epoch 33/100\n",
      "13/13 [==============================] - 0s 16ms/step - loss: 301.2003 - mae: 9.4318 - val_loss: 3400.6128 - val_mae: 23.6388\n",
      "Epoch 34/100\n",
      "13/13 [==============================] - 0s 16ms/step - loss: 204.6178 - mae: 7.9283 - val_loss: 3231.7007 - val_mae: 23.6494\n",
      "Epoch 35/100\n",
      "13/13 [==============================] - 0s 16ms/step - loss: 191.1213 - mae: 7.3973 - val_loss: 3269.4387 - val_mae: 23.5215\n",
      "Epoch 36/100\n",
      "13/13 [==============================] - 0s 16ms/step - loss: 184.5387 - mae: 7.1495 - val_loss: 3262.6060 - val_mae: 23.3334\n",
      "Epoch 37/100\n",
      "13/13 [==============================] - 0s 17ms/step - loss: 146.9121 - mae: 6.5109 - val_loss: 3314.6082 - val_mae: 23.7197\n",
      "Epoch 38/100\n",
      "13/13 [==============================] - 0s 16ms/step - loss: 144.5681 - mae: 6.7238 - val_loss: 3290.3547 - val_mae: 23.8433\n",
      "Epoch 39/100\n",
      "13/13 [==============================] - 0s 16ms/step - loss: 133.1015 - mae: 6.5069 - val_loss: 3323.9956 - val_mae: 23.6441\n",
      "Epoch 40/100\n",
      "13/13 [==============================] - 0s 17ms/step - loss: 122.9680 - mae: 6.3054 - val_loss: 3310.3503 - val_mae: 23.4690\n",
      "Epoch 41/100\n",
      "13/13 [==============================] - 0s 16ms/step - loss: 113.0445 - mae: 5.7533 - val_loss: 3258.8618 - val_mae: 23.7025\n",
      "Epoch 42/100\n",
      "13/13 [==============================] - 0s 15ms/step - loss: 106.0610 - mae: 5.7771 - val_loss: 3220.7039 - val_mae: 23.7234\n",
      "Epoch 43/100\n",
      "13/13 [==============================] - 0s 16ms/step - loss: 116.6108 - mae: 6.4797 - val_loss: 3296.1765 - val_mae: 23.8532\n",
      "Epoch 44/100\n",
      "13/13 [==============================] - 0s 16ms/step - loss: 99.9342 - mae: 5.6530 - val_loss: 3266.1941 - val_mae: 23.6756\n",
      "Epoch 45/100\n",
      "13/13 [==============================] - 0s 16ms/step - loss: 97.8305 - mae: 5.7108 - val_loss: 3297.9543 - val_mae: 24.1920\n",
      "Epoch 46/100\n",
      "13/13 [==============================] - 0s 16ms/step - loss: 97.5927 - mae: 5.3963 - val_loss: 3269.1838 - val_mae: 23.2547\n",
      "Epoch 47/100\n",
      "13/13 [==============================] - 0s 16ms/step - loss: 91.5301 - mae: 4.9499 - val_loss: 3200.9131 - val_mae: 23.2496\n",
      "Epoch 48/100\n",
      "13/13 [==============================] - 0s 16ms/step - loss: 90.0455 - mae: 5.0395 - val_loss: 3327.2642 - val_mae: 23.4931\n",
      "Epoch 49/100\n",
      "13/13 [==============================] - 0s 16ms/step - loss: 89.6217 - mae: 4.9512 - val_loss: 3278.2368 - val_mae: 23.0610\n",
      "Epoch 50/100\n",
      "13/13 [==============================] - 0s 16ms/step - loss: 76.8270 - mae: 4.5122 - val_loss: 3286.4412 - val_mae: 23.2515\n",
      "Epoch 51/100\n",
      "13/13 [==============================] - 0s 16ms/step - loss: 80.4257 - mae: 4.8842 - val_loss: 3264.5220 - val_mae: 23.3154\n",
      "Epoch 52/100\n",
      "13/13 [==============================] - 0s 16ms/step - loss: 73.7589 - mae: 4.4017 - val_loss: 3340.8899 - val_mae: 23.5088\n",
      "Epoch 53/100\n",
      "13/13 [==============================] - 0s 16ms/step - loss: 79.0998 - mae: 4.9305 - val_loss: 3291.2324 - val_mae: 23.2739\n",
      "Epoch 54/100\n",
      "13/13 [==============================] - 0s 15ms/step - loss: 69.3313 - mae: 4.2994 - val_loss: 3306.9578 - val_mae: 23.0847\n",
      "Epoch 55/100\n",
      "13/13 [==============================] - 0s 15ms/step - loss: 68.7768 - mae: 4.2257 - val_loss: 3289.7375 - val_mae: 23.0186\n",
      "Epoch 56/100\n",
      "13/13 [==============================] - 0s 16ms/step - loss: 66.3765 - mae: 4.0162 - val_loss: 3309.1895 - val_mae: 23.8373\n",
      "Epoch 57/100\n",
      "13/13 [==============================] - 0s 16ms/step - loss: 77.2046 - mae: 4.9329 - val_loss: 3321.1331 - val_mae: 24.0932\n",
      "Epoch 58/100\n",
      "13/13 [==============================] - 0s 16ms/step - loss: 77.1831 - mae: 4.9659 - val_loss: 3284.3062 - val_mae: 24.1116\n",
      "Epoch 59/100\n",
      "13/13 [==============================] - 0s 16ms/step - loss: 69.9536 - mae: 4.4498 - val_loss: 3288.9856 - val_mae: 23.3638\n",
      "Epoch 60/100\n",
      "13/13 [==============================] - 0s 16ms/step - loss: 63.6798 - mae: 4.0276 - val_loss: 3279.3838 - val_mae: 22.9366\n",
      "Epoch 61/100\n",
      "13/13 [==============================] - 0s 16ms/step - loss: 61.7720 - mae: 3.8875 - val_loss: 3314.5469 - val_mae: 23.2932\n",
      "Epoch 62/100\n",
      "13/13 [==============================] - 0s 16ms/step - loss: 61.1062 - mae: 3.8574 - val_loss: 3273.8904 - val_mae: 23.0325\n",
      "Epoch 63/100\n",
      "13/13 [==============================] - 0s 15ms/step - loss: 58.7959 - mae: 3.6525 - val_loss: 3310.1951 - val_mae: 23.0165\n",
      "Epoch 64/100\n",
      "13/13 [==============================] - 0s 14ms/step - loss: 57.6159 - mae: 3.5952 - val_loss: 3287.4038 - val_mae: 23.2953\n",
      "Epoch 65/100\n",
      "13/13 [==============================] - 0s 14ms/step - loss: 58.2921 - mae: 3.7697 - val_loss: 3319.9207 - val_mae: 23.2099\n",
      "Epoch 66/100\n",
      "13/13 [==============================] - 0s 14ms/step - loss: 57.0246 - mae: 3.6460 - val_loss: 3285.7500 - val_mae: 22.8504\n",
      "Epoch 67/100\n",
      "13/13 [==============================] - 0s 15ms/step - loss: 61.6587 - mae: 4.1313 - val_loss: 3297.5906 - val_mae: 22.8213\n"
     ]
    },
    {
     "data": {
      "text/plain": [
       "<keras.src.callbacks.History at 0x7fad484109d0>"
      ]
     },
     "execution_count": 20,
     "metadata": {},
     "output_type": "execute_result"
    }
   ],
   "source": [
    "es = EarlyStopping(patience = 20, restore_best_weights=True)\n",
    "\n",
    "input_shape = X_train_db.shape[1:]\n",
    "model_db = initialize_model_CNN(input_shape)\n",
    "\n",
    "model_db.fit(\n",
    "    X_train_db,\n",
    "    y_train_db,\n",
    "    validation_split = 0.2,\n",
    "    shuffle = True,\n",
    "    batch_size=32,\n",
    "    epochs = 100,\n",
    "    callbacks = [es],\n",
    "    verbose = 1\n",
    ")"
   ]
  },
  {
   "cell_type": "code",
   "execution_count": 21,
   "id": "0183c153-cfaf-4796-86c2-29feb3e0dbe6",
   "metadata": {},
   "outputs": [
    {
     "name": "stdout",
     "output_type": "stream",
     "text": [
      "7/7 [==============================] - 0s 5ms/step - loss: 2078.9038 - mae: 16.5239\n"
     ]
    }
   ],
   "source": [
    "X_test_db = tf.convert_to_tensor(X_test_db, np.float32)\n",
    "y_test_db = tf.convert_to_tensor(y_test_db, np.int16)\n",
    "res_db = model_db.evaluate(X_test_db, y_test_db)\n",
    "\n",
    "results_dict['Double Bottom'] = res_db[1]"
   ]
  },
  {
   "cell_type": "markdown",
   "id": "e988592b-95d0-4d5c-9ea7-034d25dd87d4",
   "metadata": {},
   "source": [
    "# Results"
   ]
  },
  {
   "cell_type": "code",
   "execution_count": 22,
   "id": "3ccca8b7-550a-4f44-a002-ba029b4fc4e4",
   "metadata": {},
   "outputs": [
    {
     "data": {
      "text/html": [
       "<div>\n",
       "<style scoped>\n",
       "    .dataframe tbody tr th:only-of-type {\n",
       "        vertical-align: middle;\n",
       "    }\n",
       "\n",
       "    .dataframe tbody tr th {\n",
       "        vertical-align: top;\n",
       "    }\n",
       "\n",
       "    .dataframe thead th {\n",
       "        text-align: right;\n",
       "    }\n",
       "</style>\n",
       "<table border=\"1\" class=\"dataframe\">\n",
       "  <thead>\n",
       "    <tr style=\"text-align: right;\">\n",
       "      <th></th>\n",
       "      <th>Rising Wedge</th>\n",
       "      <th>Falling Wedge</th>\n",
       "      <th>Double Top</th>\n",
       "      <th>Double Bottom</th>\n",
       "    </tr>\n",
       "  </thead>\n",
       "  <tbody>\n",
       "    <tr>\n",
       "      <th>1</th>\n",
       "      <td>22.038683</td>\n",
       "      <td>6.988884</td>\n",
       "      <td>25.853342</td>\n",
       "      <td>16.52389</td>\n",
       "    </tr>\n",
       "  </tbody>\n",
       "</table>\n",
       "</div>"
      ],
      "text/plain": [
       "   Rising Wedge  Falling Wedge  Double Top  Double Bottom\n",
       "1     22.038683       6.988884   25.853342       16.52389"
      ]
     },
     "execution_count": 22,
     "metadata": {},
     "output_type": "execute_result"
    }
   ],
   "source": [
    "results_df = pd.DataFrame(results_dict, index=[1])\n",
    "results_df"
   ]
  },
  {
   "cell_type": "markdown",
   "id": "3d539481-50db-4095-84c5-78a02fc49422",
   "metadata": {},
   "source": [
    "# Pattern Present or not?"
   ]
  },
  {
   "cell_type": "code",
   "execution_count": 23,
   "id": "ff09ac68-1ef8-45b7-ad19-4ea8e2d4455d",
   "metadata": {},
   "outputs": [],
   "source": [
    "def initialize_model_CNN(input_shape):\n",
    "    model = Sequential()\n",
    "\n",
    "    model.add(Masking(mask_value=-1, input_shape=input_shape))\n",
    "    model.add(Conv1D(32, activation='relu', kernel_size=3, kernel_regularizer=regularizers.L1L2(l1=1e-3, l2=1e-3))),\n",
    "    model.add(MaxPooling1D(pool_size=2))\n",
    "    model.add(Conv1D(32, activation='relu', kernel_size=3))\n",
    "    \n",
    "    model.add(Flatten())\n",
    "    model.add(Dense(units=200, activation='relu'))\n",
    "    model.add(Dense(units=100, activation='relu'))\n",
    "    model.add(Dense(units=16, activation='relu'))\n",
    "    model.add(Dense(units=16, activation='relu'))\n",
    "    model.add(Dense(units=1, activation='sigmoid'))\n",
    "\n",
    "    model.compile(optimizer='adam', loss='binary_crossentropy', metrics=['accuracy'])\n",
    "    \n",
    "    return model"
   ]
  },
  {
   "cell_type": "markdown",
   "id": "a5592e29-e9b4-4e20-aacf-ea74780b1eed",
   "metadata": {},
   "source": [
    "# Rising Wedge"
   ]
  },
  {
   "cell_type": "code",
   "execution_count": 24,
   "id": "f905f35d-040f-4a08-9c7e-276b9c535655",
   "metadata": {},
   "outputs": [],
   "source": [
    "accuracy_dict = {}"
   ]
  },
  {
   "cell_type": "code",
   "execution_count": 25,
   "id": "193c00a7-ef57-40fc-938f-c720739e07f2",
   "metadata": {},
   "outputs": [],
   "source": [
    "X_real, y_real = real_data_pattern(patterns_to_test[0], model_type='categorise')\n",
    "\n",
    "X_synthetic, y_synthetic = synthetic_data(X_real, patterns_to_test[0], model_type='categorise')\n",
    "\n",
    "X_no_pattern, y_no_pattern = real_data_no_pattern(X_real, patterns_to_test[0], model_type='categorise')\n",
    "\n",
    "X_joined = join_data(X_real, X_synthetic, X_no_pattern)\n",
    "y_joined = join_data(y_real, y_synthetic, y_no_pattern)\n",
    "\n",
    "X_pad = pad_arrays(X_joined)"
   ]
  },
  {
   "cell_type": "code",
   "execution_count": 26,
   "id": "a7baff0c-88f8-44aa-a9a4-afdd8adf2cbc",
   "metadata": {},
   "outputs": [],
   "source": [
    "y_all = np.array(y_joined)\n",
    "\n",
    "X_train_rwp, X_test_rwp, y_train_rwp, y_test_rwp = train_test_split(X_pad, y_all, test_size=0.30)\n",
    "\n",
    "X_train_rwp = tf.convert_to_tensor(X_train_rwp, np.float32)\n",
    "y_train_rwp = tf.convert_to_tensor(y_train_rwp, np.int16)"
   ]
  },
  {
   "cell_type": "code",
   "execution_count": 27,
   "id": "84623990-1ca1-413d-9900-688f942fc840",
   "metadata": {},
   "outputs": [
    {
     "name": "stdout",
     "output_type": "stream",
     "text": [
      "Epoch 1/100\n",
      "21/21 [==============================] - 1s 18ms/step - loss: 7.8128 - accuracy: 0.5809 - val_loss: 0.9231 - val_accuracy: 0.7669\n",
      "Epoch 2/100\n",
      "21/21 [==============================] - 0s 12ms/step - loss: 2.3079 - accuracy: 0.7180 - val_loss: 0.2809 - val_accuracy: 0.9080\n",
      "Epoch 3/100\n",
      "21/21 [==============================] - 0s 12ms/step - loss: 0.3273 - accuracy: 0.8706 - val_loss: 0.1885 - val_accuracy: 0.9632\n",
      "Epoch 4/100\n",
      "21/21 [==============================] - 0s 11ms/step - loss: 1.9606 - accuracy: 0.9014 - val_loss: 0.6020 - val_accuracy: 0.8098\n",
      "Epoch 5/100\n",
      "21/21 [==============================] - 0s 11ms/step - loss: 0.3063 - accuracy: 0.9199 - val_loss: 0.1464 - val_accuracy: 0.9693\n",
      "Epoch 6/100\n",
      "21/21 [==============================] - 0s 11ms/step - loss: 0.1978 - accuracy: 0.9476 - val_loss: 0.1432 - val_accuracy: 0.9693\n",
      "Epoch 7/100\n",
      "21/21 [==============================] - 0s 12ms/step - loss: 0.1490 - accuracy: 0.9661 - val_loss: 0.1375 - val_accuracy: 0.9755\n",
      "Epoch 8/100\n",
      "21/21 [==============================] - 0s 11ms/step - loss: 0.1283 - accuracy: 0.9784 - val_loss: 0.1243 - val_accuracy: 0.9755\n",
      "Epoch 9/100\n",
      "21/21 [==============================] - 0s 11ms/step - loss: 0.1866 - accuracy: 0.9569 - val_loss: 0.2074 - val_accuracy: 0.9632\n",
      "Epoch 10/100\n",
      "21/21 [==============================] - 0s 11ms/step - loss: 0.5448 - accuracy: 0.9214 - val_loss: 0.2288 - val_accuracy: 0.9387\n",
      "Epoch 11/100\n",
      "21/21 [==============================] - 0s 13ms/step - loss: 0.2911 - accuracy: 0.9122 - val_loss: 0.2037 - val_accuracy: 0.8957\n",
      "Epoch 12/100\n",
      "21/21 [==============================] - 0s 13ms/step - loss: 0.2102 - accuracy: 0.9414 - val_loss: 0.2204 - val_accuracy: 0.9448\n",
      "Epoch 13/100\n",
      "21/21 [==============================] - 0s 13ms/step - loss: 0.1409 - accuracy: 0.9738 - val_loss: 0.1306 - val_accuracy: 0.9693\n",
      "Epoch 14/100\n",
      "21/21 [==============================] - 0s 13ms/step - loss: 0.1698 - accuracy: 0.9877 - val_loss: 0.1671 - val_accuracy: 0.9816\n",
      "Epoch 15/100\n",
      "21/21 [==============================] - 0s 13ms/step - loss: 0.1435 - accuracy: 0.9738 - val_loss: 0.1066 - val_accuracy: 0.9755\n",
      "Epoch 16/100\n",
      "21/21 [==============================] - 0s 13ms/step - loss: 0.1113 - accuracy: 0.9861 - val_loss: 0.1037 - val_accuracy: 0.9816\n",
      "Epoch 17/100\n",
      "21/21 [==============================] - 0s 14ms/step - loss: 0.0917 - accuracy: 0.9923 - val_loss: 0.1042 - val_accuracy: 0.9816\n",
      "Epoch 18/100\n",
      "21/21 [==============================] - 0s 14ms/step - loss: 0.0883 - accuracy: 0.9938 - val_loss: 0.1097 - val_accuracy: 0.9877\n",
      "Epoch 19/100\n",
      "21/21 [==============================] - 0s 15ms/step - loss: 0.0833 - accuracy: 0.9954 - val_loss: 0.1024 - val_accuracy: 0.9877\n",
      "Epoch 20/100\n",
      "21/21 [==============================] - 0s 16ms/step - loss: 0.0787 - accuracy: 0.9954 - val_loss: 0.1081 - val_accuracy: 0.9816\n",
      "Epoch 21/100\n",
      "21/21 [==============================] - 0s 15ms/step - loss: 0.0757 - accuracy: 0.9954 - val_loss: 0.1081 - val_accuracy: 0.9877\n",
      "Epoch 22/100\n",
      "21/21 [==============================] - 0s 15ms/step - loss: 0.0834 - accuracy: 0.9954 - val_loss: 0.1003 - val_accuracy: 0.9877\n",
      "Epoch 23/100\n",
      "21/21 [==============================] - 0s 15ms/step - loss: 0.0793 - accuracy: 0.9954 - val_loss: 0.1025 - val_accuracy: 0.9877\n",
      "Epoch 24/100\n",
      "21/21 [==============================] - 0s 15ms/step - loss: 0.0800 - accuracy: 0.9954 - val_loss: 0.1020 - val_accuracy: 0.9877\n",
      "Epoch 25/100\n",
      "21/21 [==============================] - 0s 16ms/step - loss: 0.0781 - accuracy: 0.9954 - val_loss: 0.0987 - val_accuracy: 0.9816\n",
      "Epoch 26/100\n",
      "21/21 [==============================] - 0s 15ms/step - loss: 0.0757 - accuracy: 0.9954 - val_loss: 0.1032 - val_accuracy: 0.9877\n",
      "Epoch 27/100\n",
      "21/21 [==============================] - 0s 14ms/step - loss: 0.0773 - accuracy: 0.9954 - val_loss: 0.0983 - val_accuracy: 0.9816\n",
      "Epoch 28/100\n",
      "21/21 [==============================] - 0s 14ms/step - loss: 0.0783 - accuracy: 0.9954 - val_loss: 0.0981 - val_accuracy: 0.9755\n",
      "Epoch 29/100\n",
      "21/21 [==============================] - 0s 14ms/step - loss: 0.0773 - accuracy: 0.9938 - val_loss: 0.1200 - val_accuracy: 0.9877\n",
      "Epoch 30/100\n",
      "21/21 [==============================] - 0s 13ms/step - loss: 0.0777 - accuracy: 0.9938 - val_loss: 0.1080 - val_accuracy: 0.9755\n",
      "Epoch 31/100\n",
      "21/21 [==============================] - 0s 14ms/step - loss: 0.1819 - accuracy: 0.9646 - val_loss: 0.3037 - val_accuracy: 0.9448\n",
      "Epoch 32/100\n",
      "21/21 [==============================] - 0s 14ms/step - loss: 0.6002 - accuracy: 0.8998 - val_loss: 0.1715 - val_accuracy: 0.9632\n",
      "Epoch 33/100\n",
      "21/21 [==============================] - 0s 13ms/step - loss: 1.2089 - accuracy: 0.8320 - val_loss: 0.2159 - val_accuracy: 0.9202\n",
      "Epoch 34/100\n",
      "21/21 [==============================] - 0s 14ms/step - loss: 0.2233 - accuracy: 0.9538 - val_loss: 0.1392 - val_accuracy: 0.9755\n",
      "Epoch 35/100\n",
      "21/21 [==============================] - 0s 14ms/step - loss: 0.1772 - accuracy: 0.9507 - val_loss: 0.1258 - val_accuracy: 0.9693\n",
      "Epoch 36/100\n",
      "21/21 [==============================] - 0s 14ms/step - loss: 0.1391 - accuracy: 0.9692 - val_loss: 0.1158 - val_accuracy: 0.9693\n",
      "Epoch 37/100\n",
      "21/21 [==============================] - 0s 14ms/step - loss: 0.1082 - accuracy: 0.9846 - val_loss: 0.1118 - val_accuracy: 0.9755\n",
      "Epoch 38/100\n",
      "21/21 [==============================] - 0s 14ms/step - loss: 0.1091 - accuracy: 0.9831 - val_loss: 0.1038 - val_accuracy: 0.9816\n",
      "Epoch 39/100\n",
      "21/21 [==============================] - 0s 14ms/step - loss: 0.0976 - accuracy: 0.9831 - val_loss: 0.0947 - val_accuracy: 0.9877\n",
      "Epoch 40/100\n",
      "21/21 [==============================] - 0s 13ms/step - loss: 0.1090 - accuracy: 0.9923 - val_loss: 0.0941 - val_accuracy: 0.9877\n",
      "Epoch 41/100\n",
      "21/21 [==============================] - 0s 14ms/step - loss: 0.0879 - accuracy: 0.9923 - val_loss: 0.0979 - val_accuracy: 0.9939\n",
      "Epoch 42/100\n",
      "21/21 [==============================] - 0s 14ms/step - loss: 0.0833 - accuracy: 0.9954 - val_loss: 0.0958 - val_accuracy: 0.9939\n",
      "Epoch 43/100\n",
      "21/21 [==============================] - 0s 14ms/step - loss: 0.0799 - accuracy: 0.9938 - val_loss: 0.0947 - val_accuracy: 0.9939\n",
      "Epoch 44/100\n",
      "21/21 [==============================] - 0s 14ms/step - loss: 0.0771 - accuracy: 0.9954 - val_loss: 0.0957 - val_accuracy: 0.9877\n",
      "Epoch 45/100\n",
      "21/21 [==============================] - 0s 14ms/step - loss: 0.0763 - accuracy: 0.9954 - val_loss: 0.0963 - val_accuracy: 0.9939\n",
      "Epoch 46/100\n",
      "21/21 [==============================] - 0s 15ms/step - loss: 0.0740 - accuracy: 0.9954 - val_loss: 0.0991 - val_accuracy: 0.9939\n",
      "Epoch 47/100\n",
      "21/21 [==============================] - 0s 12ms/step - loss: 0.0718 - accuracy: 0.9954 - val_loss: 0.0990 - val_accuracy: 0.9877\n",
      "Epoch 48/100\n",
      "21/21 [==============================] - 0s 13ms/step - loss: 0.0709 - accuracy: 0.9954 - val_loss: 0.0964 - val_accuracy: 0.9877\n",
      "Epoch 49/100\n",
      "21/21 [==============================] - 0s 14ms/step - loss: 0.0719 - accuracy: 0.9954 - val_loss: 0.1023 - val_accuracy: 0.9877\n",
      "Epoch 50/100\n",
      "21/21 [==============================] - 0s 14ms/step - loss: 0.0710 - accuracy: 0.9954 - val_loss: 0.0981 - val_accuracy: 0.9939\n",
      "Epoch 51/100\n",
      "21/21 [==============================] - 0s 14ms/step - loss: 0.1428 - accuracy: 0.9738 - val_loss: 0.1679 - val_accuracy: 0.9632\n",
      "Epoch 52/100\n",
      "21/21 [==============================] - 0s 14ms/step - loss: 0.4218 - accuracy: 0.9476 - val_loss: 0.2720 - val_accuracy: 0.9325\n",
      "Epoch 53/100\n",
      "21/21 [==============================] - 0s 15ms/step - loss: 0.6624 - accuracy: 0.8166 - val_loss: 0.2424 - val_accuracy: 0.9632\n",
      "Epoch 54/100\n",
      "21/21 [==============================] - 0s 13ms/step - loss: 2.3893 - accuracy: 0.7581 - val_loss: 0.2629 - val_accuracy: 0.9141\n",
      "Epoch 55/100\n",
      "21/21 [==============================] - 0s 12ms/step - loss: 0.2506 - accuracy: 0.9522 - val_loss: 0.1450 - val_accuracy: 0.9693\n",
      "Epoch 56/100\n",
      "21/21 [==============================] - 0s 12ms/step - loss: 0.1390 - accuracy: 0.9815 - val_loss: 0.1440 - val_accuracy: 0.9755\n",
      "Epoch 57/100\n",
      "21/21 [==============================] - 0s 13ms/step - loss: 0.0806 - accuracy: 0.9908 - val_loss: 0.1833 - val_accuracy: 0.9755\n",
      "Epoch 58/100\n",
      "21/21 [==============================] - 0s 12ms/step - loss: 0.0972 - accuracy: 0.9846 - val_loss: 0.1509 - val_accuracy: 0.9755\n",
      "Epoch 59/100\n",
      "21/21 [==============================] - 0s 14ms/step - loss: 0.1234 - accuracy: 0.9800 - val_loss: 0.1313 - val_accuracy: 0.9755\n",
      "Epoch 60/100\n",
      "21/21 [==============================] - 0s 14ms/step - loss: 0.0837 - accuracy: 0.9923 - val_loss: 0.1276 - val_accuracy: 0.9877\n"
     ]
    },
    {
     "data": {
      "text/plain": [
       "<keras.src.callbacks.History at 0x7fad28418cd0>"
      ]
     },
     "execution_count": 27,
     "metadata": {},
     "output_type": "execute_result"
    }
   ],
   "source": [
    "es = EarlyStopping(patience = 20, restore_best_weights=True)\n",
    "\n",
    "input_shape = X_train_rwp.shape[1:]\n",
    "model_rwp = initialize_model_CNN(input_shape)\n",
    "\n",
    "model_rwp.fit(\n",
    "    X_train_rwp,\n",
    "    y_train_rwp,\n",
    "    validation_split = 0.2,\n",
    "    shuffle = True,\n",
    "    batch_size=32,\n",
    "    epochs = 100,\n",
    "    callbacks = [es],\n",
    "    verbose = 1\n",
    ")"
   ]
  },
  {
   "cell_type": "code",
   "execution_count": 28,
   "id": "3e81d4d3-9c33-4438-b2c6-f85663b50bc8",
   "metadata": {},
   "outputs": [
    {
     "name": "stdout",
     "output_type": "stream",
     "text": [
      "11/11 [==============================] - 0s 5ms/step - loss: 0.4529 - accuracy: 0.9741\n"
     ]
    }
   ],
   "source": [
    "X_test_rwp = tf.convert_to_tensor(X_test_rwp, np.float32)\n",
    "y_test_rwp = tf.convert_to_tensor(y_test_rwp, np.int16)\n",
    "res_rwp = model_rwp.evaluate(X_test_rwp, y_test_rwp)\n",
    "\n",
    "accuracy_dict['Rising Wedge_class'] = res_rwp[1]"
   ]
  },
  {
   "cell_type": "markdown",
   "id": "1109d049-ef50-4839-a3e4-8f504049f3e6",
   "metadata": {},
   "source": [
    "# Falling Wedge"
   ]
  },
  {
   "cell_type": "code",
   "execution_count": 29,
   "id": "654bdc7b-6075-431c-a780-84b904d33428",
   "metadata": {},
   "outputs": [],
   "source": [
    "X_real, y_real = real_data_pattern(patterns_to_test[1], model_type='categorise')\n",
    "X_synthetic, y_synthetic = synthetic_data(X_real, patterns_to_test[1], model_type='categorise')\n",
    "X_no_pattern, y_no_pattern = real_data_no_pattern(X_real, patterns_to_test[1], model_type='categorise')\n",
    "\n",
    "X_joined = join_data(X_real, X_synthetic, X_no_pattern)\n",
    "y_joined = join_data(y_real, y_synthetic, y_no_pattern)\n",
    "\n",
    "X_pad = pad_arrays(X_joined)"
   ]
  },
  {
   "cell_type": "code",
   "execution_count": 30,
   "id": "a50aa577-8f2e-4399-a2ea-9b9effb3a92c",
   "metadata": {},
   "outputs": [],
   "source": [
    "y_all = np.array(y_joined)\n",
    "\n",
    "X_train_fwp, X_test_fwp, y_train_fwp, y_test_fwp = train_test_split(X_pad, y_all, test_size=0.30)\n",
    "\n",
    "X_train_fwp = tf.convert_to_tensor(X_train_fwp, np.float32)\n",
    "y_train_fwp = tf.convert_to_tensor(y_train_fwp, np.int16)"
   ]
  },
  {
   "cell_type": "code",
   "execution_count": 31,
   "id": "d5ab10b7-f40e-4f82-8904-04e5c8f88f61",
   "metadata": {},
   "outputs": [
    {
     "name": "stdout",
     "output_type": "stream",
     "text": [
      "Epoch 1/100\n",
      "14/14 [==============================] - 1s 22ms/step - loss: 50.3083 - accuracy: 0.5877 - val_loss: 15.0339 - val_accuracy: 0.6545\n",
      "Epoch 2/100\n",
      "14/14 [==============================] - 0s 14ms/step - loss: 6.8213 - accuracy: 0.8360 - val_loss: 5.0435 - val_accuracy: 0.8909\n",
      "Epoch 3/100\n",
      "14/14 [==============================] - 0s 13ms/step - loss: 0.2289 - accuracy: 0.9590 - val_loss: 0.3820 - val_accuracy: 0.7727\n",
      "Epoch 4/100\n",
      "14/14 [==============================] - 0s 12ms/step - loss: 0.1957 - accuracy: 0.9362 - val_loss: 0.1114 - val_accuracy: 0.9909\n",
      "Epoch 5/100\n",
      "14/14 [==============================] - 0s 14ms/step - loss: 0.1577 - accuracy: 0.9658 - val_loss: 0.1277 - val_accuracy: 0.9545\n",
      "Epoch 6/100\n",
      "14/14 [==============================] - 0s 12ms/step - loss: 0.1150 - accuracy: 0.9886 - val_loss: 0.0814 - val_accuracy: 1.0000\n",
      "Epoch 7/100\n",
      "14/14 [==============================] - 0s 12ms/step - loss: 0.1029 - accuracy: 0.9909 - val_loss: 0.0846 - val_accuracy: 0.9909\n",
      "Epoch 8/100\n",
      "14/14 [==============================] - 0s 12ms/step - loss: 0.1095 - accuracy: 0.9863 - val_loss: 0.0739 - val_accuracy: 0.9909\n",
      "Epoch 9/100\n",
      "14/14 [==============================] - 0s 12ms/step - loss: 0.1076 - accuracy: 0.9886 - val_loss: 0.0802 - val_accuracy: 0.9909\n",
      "Epoch 10/100\n",
      "14/14 [==============================] - 0s 12ms/step - loss: 0.1069 - accuracy: 0.9863 - val_loss: 0.0758 - val_accuracy: 1.0000\n",
      "Epoch 11/100\n",
      "14/14 [==============================] - 0s 13ms/step - loss: 0.1647 - accuracy: 0.9544 - val_loss: 0.1193 - val_accuracy: 0.9727\n",
      "Epoch 12/100\n",
      "14/14 [==============================] - 0s 12ms/step - loss: 0.1789 - accuracy: 0.9453 - val_loss: 0.1097 - val_accuracy: 0.9818\n",
      "Epoch 13/100\n",
      "14/14 [==============================] - 0s 12ms/step - loss: 0.1197 - accuracy: 0.9863 - val_loss: 0.0868 - val_accuracy: 0.9909\n",
      "Epoch 14/100\n",
      "14/14 [==============================] - 0s 13ms/step - loss: 0.1012 - accuracy: 0.9863 - val_loss: 0.0834 - val_accuracy: 0.9909\n",
      "Epoch 15/100\n",
      "14/14 [==============================] - 0s 14ms/step - loss: 0.0952 - accuracy: 0.9886 - val_loss: 0.1892 - val_accuracy: 0.9818\n",
      "Epoch 16/100\n",
      "14/14 [==============================] - 0s 14ms/step - loss: 0.0935 - accuracy: 0.9886 - val_loss: 0.0752 - val_accuracy: 0.9909\n",
      "Epoch 17/100\n",
      "14/14 [==============================] - 0s 15ms/step - loss: 0.0916 - accuracy: 0.9932 - val_loss: 0.0781 - val_accuracy: 0.9909\n",
      "Epoch 18/100\n",
      "14/14 [==============================] - 0s 13ms/step - loss: 0.0895 - accuracy: 0.9909 - val_loss: 0.0761 - val_accuracy: 0.9909\n",
      "Epoch 19/100\n",
      "14/14 [==============================] - 0s 14ms/step - loss: 0.0882 - accuracy: 0.9909 - val_loss: 0.0755 - val_accuracy: 0.9909\n",
      "Epoch 20/100\n",
      "14/14 [==============================] - 0s 14ms/step - loss: 0.0933 - accuracy: 0.9909 - val_loss: 0.0740 - val_accuracy: 0.9909\n",
      "Epoch 21/100\n",
      "14/14 [==============================] - 0s 13ms/step - loss: 0.0864 - accuracy: 0.9932 - val_loss: 0.0715 - val_accuracy: 0.9909\n",
      "Epoch 22/100\n",
      "14/14 [==============================] - 0s 15ms/step - loss: 0.0900 - accuracy: 0.9909 - val_loss: 0.0774 - val_accuracy: 0.9909\n",
      "Epoch 23/100\n",
      "14/14 [==============================] - 0s 14ms/step - loss: 0.0888 - accuracy: 0.9932 - val_loss: 0.0758 - val_accuracy: 0.9909\n",
      "Epoch 24/100\n",
      "14/14 [==============================] - 0s 15ms/step - loss: 0.0866 - accuracy: 0.9932 - val_loss: 0.0760 - val_accuracy: 0.9909\n",
      "Epoch 25/100\n",
      "14/14 [==============================] - 0s 16ms/step - loss: 0.0872 - accuracy: 0.9932 - val_loss: 0.0748 - val_accuracy: 0.9909\n",
      "Epoch 26/100\n",
      "14/14 [==============================] - 0s 15ms/step - loss: 0.0864 - accuracy: 0.9932 - val_loss: 0.0735 - val_accuracy: 0.9909\n",
      "Epoch 27/100\n",
      "14/14 [==============================] - 0s 15ms/step - loss: 0.0850 - accuracy: 0.9932 - val_loss: 0.0742 - val_accuracy: 0.9909\n",
      "Epoch 28/100\n",
      "14/14 [==============================] - 0s 15ms/step - loss: 0.0856 - accuracy: 0.9932 - val_loss: 0.0739 - val_accuracy: 0.9909\n",
      "Epoch 29/100\n",
      "14/14 [==============================] - 0s 15ms/step - loss: 0.0850 - accuracy: 0.9932 - val_loss: 0.0733 - val_accuracy: 0.9909\n",
      "Epoch 30/100\n",
      "14/14 [==============================] - 0s 14ms/step - loss: 0.0857 - accuracy: 0.9932 - val_loss: 0.0724 - val_accuracy: 0.9909\n",
      "Epoch 31/100\n",
      "14/14 [==============================] - 0s 14ms/step - loss: 0.0851 - accuracy: 0.9932 - val_loss: 0.0738 - val_accuracy: 0.9909\n",
      "Epoch 32/100\n",
      "14/14 [==============================] - 0s 15ms/step - loss: 0.0847 - accuracy: 0.9932 - val_loss: 0.0730 - val_accuracy: 0.9909\n",
      "Epoch 33/100\n",
      "14/14 [==============================] - 0s 15ms/step - loss: 0.0843 - accuracy: 0.9932 - val_loss: 0.0734 - val_accuracy: 0.9909\n",
      "Epoch 34/100\n",
      "14/14 [==============================] - 0s 15ms/step - loss: 0.0837 - accuracy: 0.9932 - val_loss: 0.0727 - val_accuracy: 0.9909\n",
      "Epoch 35/100\n",
      "14/14 [==============================] - 0s 16ms/step - loss: 0.0837 - accuracy: 0.9932 - val_loss: 0.0731 - val_accuracy: 0.9909\n",
      "Epoch 36/100\n",
      "14/14 [==============================] - 0s 16ms/step - loss: 0.0846 - accuracy: 0.9932 - val_loss: 0.0740 - val_accuracy: 0.9909\n",
      "Epoch 37/100\n",
      "14/14 [==============================] - 0s 15ms/step - loss: 0.0844 - accuracy: 0.9932 - val_loss: 0.0750 - val_accuracy: 0.9909\n",
      "Epoch 38/100\n",
      "14/14 [==============================] - 0s 14ms/step - loss: 0.0883 - accuracy: 0.9932 - val_loss: 0.2567 - val_accuracy: 0.9727\n",
      "Epoch 39/100\n",
      "14/14 [==============================] - 0s 15ms/step - loss: 0.0871 - accuracy: 0.9932 - val_loss: 0.0824 - val_accuracy: 0.9909\n",
      "Epoch 40/100\n",
      "14/14 [==============================] - 0s 15ms/step - loss: 0.0852 - accuracy: 0.9932 - val_loss: 0.0822 - val_accuracy: 0.9909\n",
      "Epoch 41/100\n",
      "14/14 [==============================] - 0s 15ms/step - loss: 0.0851 - accuracy: 0.9932 - val_loss: 0.0814 - val_accuracy: 0.9909\n"
     ]
    },
    {
     "data": {
      "text/plain": [
       "<keras.src.callbacks.History at 0x7fad2852d4e0>"
      ]
     },
     "execution_count": 31,
     "metadata": {},
     "output_type": "execute_result"
    }
   ],
   "source": [
    "es = EarlyStopping(patience = 20, restore_best_weights=True)\n",
    "\n",
    "input_shape = X_train_fwp.shape[1:]\n",
    "model_fwp = initialize_model_CNN(input_shape)\n",
    "\n",
    "model_fwp.fit(\n",
    "    X_train_fwp,\n",
    "    y_train_fwp,\n",
    "    validation_split = 0.2,\n",
    "    shuffle = True,\n",
    "    batch_size=32,\n",
    "    epochs = 100,\n",
    "    callbacks = [es],\n",
    "    verbose = 1\n",
    ")"
   ]
  },
  {
   "cell_type": "code",
   "execution_count": 32,
   "id": "54622ef7-cb9b-441d-8e43-cbf31699f908",
   "metadata": {},
   "outputs": [
    {
     "name": "stdout",
     "output_type": "stream",
     "text": [
      "8/8 [==============================] - 0s 6ms/step - loss: 0.0822 - accuracy: 0.9958\n"
     ]
    }
   ],
   "source": [
    "X_test_fwp = tf.convert_to_tensor(X_test_fwp, np.float32)\n",
    "y_test_fwp = tf.convert_to_tensor(y_test_fwp, np.int16)\n",
    "res_fwp = model_fwp.evaluate(X_test_fwp, y_test_fwp)\n",
    "\n",
    "accuracy_dict['Falling Wedge class'] = res_fwp[1]"
   ]
  },
  {
   "cell_type": "markdown",
   "id": "bbaa2d21-ffe4-432d-8bba-13855972885a",
   "metadata": {},
   "source": [
    "# Double Top"
   ]
  },
  {
   "cell_type": "code",
   "execution_count": 33,
   "id": "441d0e7d-6be1-42a8-8b5d-7c5397f988bb",
   "metadata": {},
   "outputs": [],
   "source": [
    "X_real, y_real = real_data_pattern(patterns_to_test[2], model_type='categorise')\n",
    "X_synthetic, y_synthetic = synthetic_data(X_real, patterns_to_test[2], model_type='categorise')\n",
    "X_no_pattern, y_no_pattern = real_data_no_pattern(X_real, patterns_to_test[2], model_type='categorise')\n",
    "\n",
    "X_joined = join_data(X_real, X_synthetic, X_no_pattern)\n",
    "y_joined = join_data(y_real, y_synthetic, y_no_pattern)\n",
    "\n",
    "X_pad = pad_arrays(X_joined)"
   ]
  },
  {
   "cell_type": "code",
   "execution_count": 34,
   "id": "6ba7c9c6-9268-4fe9-8d97-9172365a7955",
   "metadata": {},
   "outputs": [],
   "source": [
    "y_all = np.array(y_joined)\n",
    "\n",
    "X_train_dtp, X_test_dtp, y_train_dtp, y_test_dtp = train_test_split(X_pad, y_all, test_size=0.30)\n",
    "\n",
    "X_train_dtp = tf.convert_to_tensor(X_train_dtp, np.float32)\n",
    "y_train_dtp = tf.convert_to_tensor(y_train_dtp, np.int16)"
   ]
  },
  {
   "cell_type": "code",
   "execution_count": 35,
   "id": "ee2eb231-a2c5-4241-91c8-76c84379b2ed",
   "metadata": {},
   "outputs": [
    {
     "name": "stdout",
     "output_type": "stream",
     "text": [
      "Epoch 1/100\n",
      "14/14 [==============================] - 1s 22ms/step - loss: 10.6632 - accuracy: 0.6321 - val_loss: 2.2717 - val_accuracy: 0.7117\n",
      "Epoch 2/100\n",
      "14/14 [==============================] - 0s 14ms/step - loss: 3.3953 - accuracy: 0.6862 - val_loss: 1.5065 - val_accuracy: 0.5586\n",
      "Epoch 3/100\n",
      "14/14 [==============================] - 0s 14ms/step - loss: 1.0409 - accuracy: 0.7133 - val_loss: 0.4766 - val_accuracy: 0.7748\n",
      "Epoch 4/100\n",
      "14/14 [==============================] - 0s 13ms/step - loss: 0.4651 - accuracy: 0.8059 - val_loss: 0.4236 - val_accuracy: 0.8288\n",
      "Epoch 5/100\n",
      "14/14 [==============================] - 0s 12ms/step - loss: 0.4209 - accuracy: 0.8217 - val_loss: 0.7009 - val_accuracy: 0.8559\n",
      "Epoch 6/100\n",
      "14/14 [==============================] - 0s 12ms/step - loss: 0.3513 - accuracy: 0.8691 - val_loss: 0.3724 - val_accuracy: 0.8919\n",
      "Epoch 7/100\n",
      "14/14 [==============================] - 0s 12ms/step - loss: 0.8378 - accuracy: 0.8555 - val_loss: 1.4580 - val_accuracy: 0.7658\n",
      "Epoch 8/100\n",
      "14/14 [==============================] - 0s 12ms/step - loss: 0.7883 - accuracy: 0.7472 - val_loss: 0.4412 - val_accuracy: 0.7658\n",
      "Epoch 9/100\n",
      "14/14 [==============================] - 0s 12ms/step - loss: 1.9382 - accuracy: 0.7540 - val_loss: 2.5358 - val_accuracy: 0.8108\n",
      "Epoch 10/100\n",
      "14/14 [==============================] - 0s 12ms/step - loss: 1.3700 - accuracy: 0.7607 - val_loss: 0.4064 - val_accuracy: 0.7387\n",
      "Epoch 11/100\n",
      "14/14 [==============================] - 0s 12ms/step - loss: 0.5141 - accuracy: 0.7946 - val_loss: 0.3692 - val_accuracy: 0.8378\n",
      "Epoch 12/100\n",
      "14/14 [==============================] - 0s 12ms/step - loss: 2.0110 - accuracy: 0.8375 - val_loss: 4.3994 - val_accuracy: 0.7117\n",
      "Epoch 13/100\n",
      "14/14 [==============================] - 0s 12ms/step - loss: 2.8873 - accuracy: 0.7111 - val_loss: 0.4093 - val_accuracy: 0.7928\n",
      "Epoch 14/100\n",
      "14/14 [==============================] - 0s 13ms/step - loss: 0.5642 - accuracy: 0.7743 - val_loss: 0.4110 - val_accuracy: 0.8829\n",
      "Epoch 15/100\n",
      "14/14 [==============================] - 0s 15ms/step - loss: 0.7569 - accuracy: 0.7991 - val_loss: 0.2647 - val_accuracy: 0.9009\n",
      "Epoch 16/100\n",
      "14/14 [==============================] - 0s 14ms/step - loss: 0.3502 - accuracy: 0.8826 - val_loss: 0.8108 - val_accuracy: 0.7117\n",
      "Epoch 17/100\n",
      "14/14 [==============================] - 0s 14ms/step - loss: 0.2660 - accuracy: 0.9233 - val_loss: 0.2521 - val_accuracy: 0.9009\n",
      "Epoch 18/100\n",
      "14/14 [==============================] - 0s 15ms/step - loss: 0.2785 - accuracy: 0.9187 - val_loss: 3.7474 - val_accuracy: 0.8739\n",
      "Epoch 19/100\n",
      "14/14 [==============================] - 0s 15ms/step - loss: 0.4016 - accuracy: 0.9007 - val_loss: 0.2292 - val_accuracy: 0.9009\n",
      "Epoch 20/100\n",
      "14/14 [==============================] - 0s 15ms/step - loss: 0.2542 - accuracy: 0.9255 - val_loss: 0.2008 - val_accuracy: 0.9099\n",
      "Epoch 21/100\n",
      "14/14 [==============================] - 0s 15ms/step - loss: 0.1842 - accuracy: 0.9458 - val_loss: 0.2065 - val_accuracy: 0.9369\n",
      "Epoch 22/100\n",
      "14/14 [==============================] - 0s 14ms/step - loss: 0.1628 - accuracy: 0.9729 - val_loss: 0.1469 - val_accuracy: 0.9730\n",
      "Epoch 23/100\n",
      "14/14 [==============================] - 0s 14ms/step - loss: 0.1199 - accuracy: 0.9774 - val_loss: 0.1409 - val_accuracy: 0.9910\n",
      "Epoch 24/100\n",
      "14/14 [==============================] - 0s 15ms/step - loss: 0.1159 - accuracy: 0.9865 - val_loss: 0.1365 - val_accuracy: 0.9910\n",
      "Epoch 25/100\n",
      "14/14 [==============================] - 0s 15ms/step - loss: 0.0986 - accuracy: 0.9865 - val_loss: 0.1326 - val_accuracy: 0.9910\n",
      "Epoch 26/100\n",
      "14/14 [==============================] - 0s 14ms/step - loss: 0.1002 - accuracy: 0.9887 - val_loss: 0.1329 - val_accuracy: 0.9820\n",
      "Epoch 27/100\n",
      "14/14 [==============================] - 0s 14ms/step - loss: 0.0915 - accuracy: 0.9932 - val_loss: 0.1303 - val_accuracy: 0.9910\n",
      "Epoch 28/100\n",
      "14/14 [==============================] - 0s 15ms/step - loss: 0.0983 - accuracy: 0.9910 - val_loss: 0.1282 - val_accuracy: 0.9910\n",
      "Epoch 29/100\n",
      "14/14 [==============================] - 0s 15ms/step - loss: 0.0889 - accuracy: 0.9887 - val_loss: 0.1302 - val_accuracy: 0.9910\n",
      "Epoch 30/100\n",
      "14/14 [==============================] - 0s 15ms/step - loss: 0.0831 - accuracy: 0.9887 - val_loss: 0.1449 - val_accuracy: 0.9640\n",
      "Epoch 31/100\n",
      "14/14 [==============================] - 0s 15ms/step - loss: 0.0816 - accuracy: 0.9910 - val_loss: 0.1321 - val_accuracy: 0.9820\n",
      "Epoch 32/100\n",
      "14/14 [==============================] - 0s 15ms/step - loss: 0.0871 - accuracy: 0.9865 - val_loss: 0.1352 - val_accuracy: 0.9820\n",
      "Epoch 33/100\n",
      "14/14 [==============================] - 0s 15ms/step - loss: 0.1017 - accuracy: 0.9819 - val_loss: 0.1629 - val_accuracy: 0.9730\n",
      "Epoch 34/100\n",
      "14/14 [==============================] - 0s 15ms/step - loss: 0.1427 - accuracy: 0.9774 - val_loss: 0.1407 - val_accuracy: 0.9820\n",
      "Epoch 35/100\n",
      "14/14 [==============================] - 0s 14ms/step - loss: 0.0996 - accuracy: 0.9819 - val_loss: 0.1375 - val_accuracy: 0.9730\n",
      "Epoch 36/100\n",
      "14/14 [==============================] - 0s 14ms/step - loss: 0.0938 - accuracy: 0.9887 - val_loss: 0.1295 - val_accuracy: 0.9910\n",
      "Epoch 37/100\n",
      "14/14 [==============================] - 0s 14ms/step - loss: 0.0853 - accuracy: 0.9887 - val_loss: 0.1381 - val_accuracy: 0.9820\n",
      "Epoch 38/100\n",
      "14/14 [==============================] - 0s 14ms/step - loss: 0.0807 - accuracy: 0.9865 - val_loss: 0.1705 - val_accuracy: 0.9640\n",
      "Epoch 39/100\n",
      "14/14 [==============================] - 0s 14ms/step - loss: 0.1221 - accuracy: 0.9797 - val_loss: 0.1390 - val_accuracy: 0.9820\n",
      "Epoch 40/100\n",
      "14/14 [==============================] - 0s 15ms/step - loss: 0.0806 - accuracy: 0.9932 - val_loss: 0.1620 - val_accuracy: 0.9730\n",
      "Epoch 41/100\n",
      "14/14 [==============================] - 0s 15ms/step - loss: 0.0814 - accuracy: 0.9910 - val_loss: 0.1478 - val_accuracy: 0.9820\n",
      "Epoch 42/100\n",
      "14/14 [==============================] - 0s 15ms/step - loss: 0.0836 - accuracy: 0.9887 - val_loss: 0.1551 - val_accuracy: 0.9820\n",
      "Epoch 43/100\n",
      "14/14 [==============================] - 0s 14ms/step - loss: 0.0741 - accuracy: 0.9955 - val_loss: 0.1585 - val_accuracy: 0.9820\n",
      "Epoch 44/100\n",
      "14/14 [==============================] - 0s 15ms/step - loss: 0.0707 - accuracy: 0.9955 - val_loss: 0.1771 - val_accuracy: 0.9820\n",
      "Epoch 45/100\n",
      "14/14 [==============================] - 0s 15ms/step - loss: 0.0754 - accuracy: 0.9932 - val_loss: 0.1795 - val_accuracy: 0.9820\n",
      "Epoch 46/100\n",
      "14/14 [==============================] - 0s 16ms/step - loss: 0.0720 - accuracy: 0.9955 - val_loss: 0.1705 - val_accuracy: 0.9730\n",
      "Epoch 47/100\n",
      "14/14 [==============================] - 0s 14ms/step - loss: 0.0688 - accuracy: 0.9977 - val_loss: 0.1818 - val_accuracy: 0.9820\n",
      "Epoch 48/100\n",
      "14/14 [==============================] - 0s 15ms/step - loss: 0.0750 - accuracy: 0.9910 - val_loss: 0.2203 - val_accuracy: 0.9550\n"
     ]
    },
    {
     "data": {
      "text/plain": [
       "<keras.src.callbacks.History at 0x7faccbd87b20>"
      ]
     },
     "execution_count": 35,
     "metadata": {},
     "output_type": "execute_result"
    }
   ],
   "source": [
    "es = EarlyStopping(patience = 20, restore_best_weights=True)\n",
    "\n",
    "input_shape = X_train_dtp.shape[1:]\n",
    "model_dtp = initialize_model_CNN(input_shape)\n",
    "\n",
    "model_dtp.fit(\n",
    "    X_train_dtp,\n",
    "    y_train_dtp,\n",
    "    validation_split = 0.2,\n",
    "    shuffle = True,\n",
    "    batch_size=32,\n",
    "    epochs = 100,\n",
    "    callbacks = [es],\n",
    "    verbose = 1\n",
    ")"
   ]
  },
  {
   "cell_type": "code",
   "execution_count": 36,
   "id": "dbbde235-d041-4c45-abc4-7cc4ef26859e",
   "metadata": {},
   "outputs": [
    {
     "name": "stdout",
     "output_type": "stream",
     "text": [
      "8/8 [==============================] - 0s 4ms/step - loss: 0.2255 - accuracy: 0.9412\n"
     ]
    }
   ],
   "source": [
    "X_test_dtp = tf.convert_to_tensor(X_test_dtp, np.float32)\n",
    "y_test_dtp = tf.convert_to_tensor(y_test_dtp, np.int16)\n",
    "res_dtp = model_dtp.evaluate(X_test_dtp, y_test_dtp)\n",
    "\n",
    "accuracy_dict['Double Top class'] = res_dtp[1]"
   ]
  },
  {
   "cell_type": "markdown",
   "id": "eccd4c7e-dc36-4604-9668-1d6e175d4a8d",
   "metadata": {},
   "source": [
    "# Double Bottom"
   ]
  },
  {
   "cell_type": "code",
   "execution_count": 37,
   "id": "be4cc89b-5a51-41f2-a846-916f048a3d37",
   "metadata": {},
   "outputs": [],
   "source": [
    "X_real, y_real = real_data_pattern(patterns_to_test[3], model_type='categorise')\n",
    "X_synthetic, y_synthetic = synthetic_data(X_real, patterns_to_test[3], model_type='categorise')\n",
    "X_no_pattern, y_no_pattern = real_data_no_pattern(X_real, patterns_to_test[3], model_type='categorise')\n",
    "\n",
    "X_joined = join_data(X_real, X_synthetic, X_no_pattern)\n",
    "y_joined = join_data(y_real, y_synthetic, y_no_pattern)\n",
    "\n",
    "X_pad = pad_arrays(X_joined)"
   ]
  },
  {
   "cell_type": "code",
   "execution_count": 38,
   "id": "c7efcb83-e939-4a8d-b42b-4b028b066455",
   "metadata": {},
   "outputs": [],
   "source": [
    "y_all = np.array(y_joined)\n",
    "\n",
    "X_train_dbp, X_test_dbp, y_train_dbp, y_test_dbp = train_test_split(X_pad, y_all, test_size=0.30)\n",
    "\n",
    "X_train_dbp = tf.convert_to_tensor(X_train_dbp, np.float32)\n",
    "y_train_dbp = tf.convert_to_tensor(y_train_dbp, np.int16)"
   ]
  },
  {
   "cell_type": "code",
   "execution_count": 39,
   "id": "6682e5f0-afce-4c4a-b682-59c0a24a806e",
   "metadata": {},
   "outputs": [
    {
     "name": "stdout",
     "output_type": "stream",
     "text": [
      "Epoch 1/100\n",
      "13/13 [==============================] - 1s 22ms/step - loss: 5.5328 - accuracy: 0.6398 - val_loss: 0.7445 - val_accuracy: 0.6800\n",
      "Epoch 2/100\n",
      "13/13 [==============================] - 0s 13ms/step - loss: 0.7100 - accuracy: 0.6146 - val_loss: 0.6352 - val_accuracy: 0.6600\n",
      "Epoch 3/100\n",
      "13/13 [==============================] - 0s 12ms/step - loss: 0.6415 - accuracy: 0.6146 - val_loss: 0.5371 - val_accuracy: 0.6900\n",
      "Epoch 4/100\n",
      "13/13 [==============================] - 0s 12ms/step - loss: 0.6023 - accuracy: 0.6625 - val_loss: 0.5045 - val_accuracy: 0.6900\n",
      "Epoch 5/100\n",
      "13/13 [==============================] - 0s 12ms/step - loss: 0.5615 - accuracy: 0.6599 - val_loss: 0.5038 - val_accuracy: 0.6900\n",
      "Epoch 6/100\n",
      "13/13 [==============================] - 0s 12ms/step - loss: 0.5218 - accuracy: 0.6549 - val_loss: 0.4329 - val_accuracy: 0.7300\n",
      "Epoch 7/100\n",
      "13/13 [==============================] - 0s 13ms/step - loss: 0.4901 - accuracy: 0.7053 - val_loss: 0.4135 - val_accuracy: 0.7300\n",
      "Epoch 8/100\n",
      "13/13 [==============================] - 0s 13ms/step - loss: 0.4596 - accuracy: 0.7128 - val_loss: 0.3938 - val_accuracy: 0.8400\n",
      "Epoch 9/100\n",
      "13/13 [==============================] - 0s 13ms/step - loss: 0.4548 - accuracy: 0.7708 - val_loss: 0.3901 - val_accuracy: 0.8300\n",
      "Epoch 10/100\n",
      "13/13 [==============================] - 0s 12ms/step - loss: 0.4562 - accuracy: 0.7481 - val_loss: 0.3898 - val_accuracy: 0.8300\n",
      "Epoch 11/100\n",
      "13/13 [==============================] - 0s 12ms/step - loss: 0.4369 - accuracy: 0.7809 - val_loss: 0.3897 - val_accuracy: 0.8400\n",
      "Epoch 12/100\n",
      "13/13 [==============================] - 0s 12ms/step - loss: 0.4532 - accuracy: 0.7582 - val_loss: 0.4000 - val_accuracy: 0.8600\n",
      "Epoch 13/100\n",
      "13/13 [==============================] - 0s 12ms/step - loss: 0.4434 - accuracy: 0.7683 - val_loss: 0.3760 - val_accuracy: 0.8400\n",
      "Epoch 14/100\n",
      "13/13 [==============================] - 0s 13ms/step - loss: 0.4366 - accuracy: 0.7683 - val_loss: 0.3755 - val_accuracy: 0.8400\n",
      "Epoch 15/100\n",
      "13/13 [==============================] - 0s 14ms/step - loss: 0.4341 - accuracy: 0.7783 - val_loss: 0.3748 - val_accuracy: 0.8400\n",
      "Epoch 16/100\n",
      "13/13 [==============================] - 0s 14ms/step - loss: 0.4336 - accuracy: 0.7758 - val_loss: 0.3638 - val_accuracy: 0.8400\n",
      "Epoch 17/100\n",
      "13/13 [==============================] - 0s 14ms/step - loss: 0.4256 - accuracy: 0.7809 - val_loss: 0.3590 - val_accuracy: 0.8500\n",
      "Epoch 18/100\n",
      "13/13 [==============================] - 0s 14ms/step - loss: 0.4261 - accuracy: 0.7859 - val_loss: 0.3613 - val_accuracy: 0.8600\n",
      "Epoch 19/100\n",
      "13/13 [==============================] - 0s 15ms/step - loss: 0.4241 - accuracy: 0.7834 - val_loss: 0.3684 - val_accuracy: 0.8500\n",
      "Epoch 20/100\n",
      "13/13 [==============================] - 0s 16ms/step - loss: 0.4264 - accuracy: 0.7783 - val_loss: 0.3547 - val_accuracy: 0.8400\n",
      "Epoch 21/100\n",
      "13/13 [==============================] - 0s 14ms/step - loss: 0.4234 - accuracy: 0.7909 - val_loss: 0.3686 - val_accuracy: 0.8400\n",
      "Epoch 22/100\n",
      "13/13 [==============================] - 0s 14ms/step - loss: 0.4219 - accuracy: 0.7960 - val_loss: 0.3499 - val_accuracy: 0.8500\n",
      "Epoch 23/100\n",
      "13/13 [==============================] - 0s 14ms/step - loss: 0.4181 - accuracy: 0.8060 - val_loss: 0.3650 - val_accuracy: 0.8400\n",
      "Epoch 24/100\n",
      "13/13 [==============================] - 0s 14ms/step - loss: 0.4227 - accuracy: 0.7909 - val_loss: 0.3636 - val_accuracy: 0.8400\n",
      "Epoch 25/100\n",
      "13/13 [==============================] - 0s 14ms/step - loss: 0.4247 - accuracy: 0.7783 - val_loss: 0.3481 - val_accuracy: 0.8500\n",
      "Epoch 26/100\n",
      "13/13 [==============================] - 0s 14ms/step - loss: 0.4239 - accuracy: 0.7834 - val_loss: 0.3591 - val_accuracy: 0.8400\n",
      "Epoch 27/100\n",
      "13/13 [==============================] - 0s 14ms/step - loss: 0.4204 - accuracy: 0.7834 - val_loss: 0.3601 - val_accuracy: 0.8500\n",
      "Epoch 28/100\n",
      "13/13 [==============================] - 0s 14ms/step - loss: 0.4206 - accuracy: 0.7859 - val_loss: 0.3550 - val_accuracy: 0.8400\n",
      "Epoch 29/100\n",
      "13/13 [==============================] - 0s 15ms/step - loss: 0.4180 - accuracy: 0.7884 - val_loss: 0.3543 - val_accuracy: 0.8400\n",
      "Epoch 30/100\n",
      "13/13 [==============================] - 0s 15ms/step - loss: 0.4108 - accuracy: 0.7783 - val_loss: 0.4115 - val_accuracy: 0.8100\n",
      "Epoch 31/100\n",
      "13/13 [==============================] - 0s 15ms/step - loss: 0.4447 - accuracy: 0.7758 - val_loss: 0.3806 - val_accuracy: 0.8200\n",
      "Epoch 32/100\n",
      "13/13 [==============================] - 0s 14ms/step - loss: 0.4371 - accuracy: 0.7683 - val_loss: 0.3832 - val_accuracy: 0.8300\n",
      "Epoch 33/100\n",
      "13/13 [==============================] - 0s 14ms/step - loss: 0.4308 - accuracy: 0.7758 - val_loss: 0.4065 - val_accuracy: 0.8400\n",
      "Epoch 34/100\n",
      "13/13 [==============================] - 0s 15ms/step - loss: 0.4260 - accuracy: 0.7884 - val_loss: 0.3713 - val_accuracy: 0.8400\n",
      "Epoch 35/100\n",
      "13/13 [==============================] - 0s 14ms/step - loss: 0.4128 - accuracy: 0.8060 - val_loss: 0.3751 - val_accuracy: 0.8400\n",
      "Epoch 36/100\n",
      "13/13 [==============================] - 0s 15ms/step - loss: 0.4107 - accuracy: 0.7909 - val_loss: 0.4122 - val_accuracy: 0.8100\n",
      "Epoch 37/100\n",
      "13/13 [==============================] - 0s 15ms/step - loss: 0.4003 - accuracy: 0.8010 - val_loss: 0.3808 - val_accuracy: 0.8500\n",
      "Epoch 38/100\n",
      "13/13 [==============================] - 0s 15ms/step - loss: 0.4026 - accuracy: 0.8111 - val_loss: 0.3926 - val_accuracy: 0.8400\n",
      "Epoch 39/100\n",
      "13/13 [==============================] - 0s 15ms/step - loss: 0.3984 - accuracy: 0.8186 - val_loss: 0.3883 - val_accuracy: 0.8100\n",
      "Epoch 40/100\n",
      "13/13 [==============================] - 0s 15ms/step - loss: 0.3961 - accuracy: 0.8060 - val_loss: 0.6581 - val_accuracy: 0.8500\n",
      "Epoch 41/100\n",
      "13/13 [==============================] - 0s 15ms/step - loss: 0.4319 - accuracy: 0.7708 - val_loss: 0.3700 - val_accuracy: 0.8400\n",
      "Epoch 42/100\n",
      "13/13 [==============================] - 0s 15ms/step - loss: 0.4225 - accuracy: 0.7783 - val_loss: 0.3512 - val_accuracy: 0.8500\n",
      "Epoch 43/100\n",
      "13/13 [==============================] - 0s 15ms/step - loss: 0.4213 - accuracy: 0.7834 - val_loss: 0.3502 - val_accuracy: 0.8500\n",
      "Epoch 44/100\n",
      "13/13 [==============================] - 0s 14ms/step - loss: 0.4178 - accuracy: 0.7809 - val_loss: 0.6142 - val_accuracy: 0.8500\n",
      "Epoch 45/100\n",
      "13/13 [==============================] - 0s 15ms/step - loss: 0.4557 - accuracy: 0.7557 - val_loss: 0.4836 - val_accuracy: 0.7300\n"
     ]
    },
    {
     "data": {
      "text/plain": [
       "<keras.src.callbacks.History at 0x7faccbce75e0>"
      ]
     },
     "execution_count": 39,
     "metadata": {},
     "output_type": "execute_result"
    }
   ],
   "source": [
    "es = EarlyStopping(patience = 20, restore_best_weights=True)\n",
    "\n",
    "input_shape = X_train_dbp.shape[1:]\n",
    "model_dbp = initialize_model_CNN(input_shape)\n",
    "\n",
    "model_dbp.fit(\n",
    "    X_train_dbp,\n",
    "    y_train_dbp,\n",
    "    validation_split = 0.2,\n",
    "    shuffle = True,\n",
    "    batch_size=32,\n",
    "    epochs = 100,\n",
    "    callbacks = [es],\n",
    "    verbose = 1\n",
    ")"
   ]
  },
  {
   "cell_type": "code",
   "execution_count": 40,
   "id": "658cf9a9-7a2e-4e8b-8447-3a000a9d53b0",
   "metadata": {},
   "outputs": [
    {
     "name": "stdout",
     "output_type": "stream",
     "text": [
      "7/7 [==============================] - 0s 5ms/step - loss: 0.4130 - accuracy: 0.7617\n"
     ]
    }
   ],
   "source": [
    "X_test_dbp = tf.convert_to_tensor(X_test_dbp, np.float32)\n",
    "y_test_dbp = tf.convert_to_tensor(y_test_dbp, np.int16)\n",
    "res_dbp = model_dbp.evaluate(X_test_dbp, y_test_dbp)\n",
    "\n",
    "accuracy_dict['Double Bottom class'] = res_dbp[1]"
   ]
  },
  {
   "cell_type": "markdown",
   "id": "e32652fc-e77a-4b68-8122-d4483e7b50f0",
   "metadata": {},
   "source": [
    "# Results #2"
   ]
  },
  {
   "cell_type": "code",

   "execution_count": 41,
   "id": "07e04a85-39e1-4302-9d07-ae5990d42fe9",
   "metadata": {
    "scrolled": true
   },
   "outputs": [
    {
     "data": {
      "text/plain": [
       "'Accuracy DF'"
      ]
     },
     "metadata": {},
     "output_type": "display_data"
    },
    {
     "data": {
      "text/html": [
       "<div>\n",
       "<style scoped>\n",
       "    .dataframe tbody tr th:only-of-type {\n",
       "        vertical-align: middle;\n",
       "    }\n",
       "\n",
       "    .dataframe tbody tr th {\n",
       "        vertical-align: top;\n",
       "    }\n",
       "\n",
       "    .dataframe thead th {\n",
       "        text-align: right;\n",
       "    }\n",
       "</style>\n",
       "<table border=\"1\" class=\"dataframe\">\n",
       "  <thead>\n",
       "    <tr style=\"text-align: right;\">\n",
       "      <th></th>\n",
       "      <th>Rising Wedge_class</th>\n",
       "      <th>Falling Wedge class</th>\n",
       "      <th>Double Top class</th>\n",
       "      <th>Double Bottom class</th>\n",
       "    </tr>\n",
       "  </thead>\n",
       "  <tbody>\n",
       "    <tr>\n",
       "      <th>0</th>\n",
       "      <td>0.974138</td>\n",
       "      <td>0.995763</td>\n",
       "      <td>0.941176</td>\n",
       "      <td>0.761682</td>\n",
       "    </tr>\n",
       "  </tbody>\n",
       "</table>\n",
       "</div>"
      ],
      "text/plain": [
       "   Rising Wedge_class  Falling Wedge class  Double Top class  \\\n",
       "0            0.974138             0.995763          0.941176   \n",
       "\n",
       "   Double Bottom class  \n",
       "0             0.761682  "
      ]
     },
     "metadata": {},
     "output_type": "display_data"
    },
    {
     "data": {
      "text/plain": [
       "'MAE DF'"
      ]
     },
     "metadata": {},
     "output_type": "display_data"
    },
    {
     "data": {
      "text/html": [
       "<div>\n",
       "<style scoped>\n",
       "    .dataframe tbody tr th:only-of-type {\n",
       "        vertical-align: middle;\n",
       "    }\n",
       "\n",
       "    .dataframe tbody tr th {\n",
       "        vertical-align: top;\n",
       "    }\n",
       "\n",
       "    .dataframe thead th {\n",
       "        text-align: right;\n",
       "    }\n",
       "</style>\n",
       "<table border=\"1\" class=\"dataframe\">\n",
       "  <thead>\n",
       "    <tr style=\"text-align: right;\">\n",
       "      <th></th>\n",
       "      <th>Rising Wedge</th>\n",
       "      <th>Falling Wedge</th>\n",
       "      <th>Double Top</th>\n",
       "      <th>Double Bottom</th>\n",
       "    </tr>\n",
       "  </thead>\n",
       "  <tbody>\n",
       "    <tr>\n",
       "      <th>1</th>\n",
       "      <td>22.038683</td>\n",
       "      <td>6.988884</td>\n",
       "      <td>25.853342</td>\n",
       "      <td>16.52389</td>\n",
       "    </tr>\n",
       "  </tbody>\n",
       "</table>\n",
       "</div>"
      ],
      "text/plain": [
       "   Rising Wedge  Falling Wedge  Double Top  Double Bottom\n",
       "1     22.038683       6.988884   25.853342       16.52389"
      ]
     },
     "metadata": {},
     "output_type": "display_data"
    }
   ],
   "source": [
    "accuracy_dict = pd.DataFrame(accuracy_dict, index=[0])\n",
    "display(\"Accuracy DF\")\n",
    "display(accuracy_dict)\n",
    "display(\"MAE DF\")\n",
    "display(results_df)"
   ]
  },
  {
   "cell_type": "markdown",

   "id": "4a6df898-c14a-449e-93c4-2b59519c5f88",
   "metadata": {},
   "source": [
    "# Model for determining dates"
   ]
  },
  {
   "cell_type": "code",
   "execution_count": null,

   "id": "b3554f2d-4c6a-4672-b1e4-dcf6637bd97b",
   "metadata": {},
   "outputs": [],
   "source": [
    "X_real_rw, y_real_rw = real_data_pattern(patterns_to_test[0], model_type='full')\n",
    "X_synthetic_rw, y_synthetic_rw = synthetic_data(X_real_rw, patterns_to_test[0], model_type='full', noise=False)\n",
    "\n",
    "X_joined = join_data(X_real, X_synthetic)\n",
    "y_joined = join_data(y_real, y_synthetic)"
   ]
  },
  {
   "cell_type": "code",
   "execution_count": 56,
   "id": "8a9322e1-940f-46cb-8aa2-0a8f3d10e804",
   "metadata": {},
   "outputs": [
    {
     "data": {
      "text/plain": [
       "1"
      ]
     },
     "execution_count": 56,
     "metadata": {},
     "output_type": "execute_result"
    }
   ],
   "source": [
    "len(y_joined[50])"
   ]
  },
  {
   "cell_type": "code",
   "execution_count": 57,
   "id": "1d15c7b0-0dad-42ba-83d6-fd43350e21d0",
   "metadata": {},
   "outputs": [
    {
     "ename": "IndexError",
     "evalue": "index 1 is out of bounds for axis 0 with size 1",
     "output_type": "error",
     "traceback": [
      "\u001b[0;31m---------------------------------------------------------------------------\u001b[0m",
      "\u001b[0;31mIndexError\u001b[0m                                Traceback (most recent call last)",
      "Cell \u001b[0;32mIn[57], line 1\u001b[0m\n\u001b[0;32m----> 1\u001b[0m X_joined, y_joined \u001b[38;5;241m=\u001b[39m \u001b[43mdata_augmentation\u001b[49m\u001b[43m(\u001b[49m\u001b[43mX_joined\u001b[49m\u001b[43m,\u001b[49m\u001b[43m \u001b[49m\u001b[43my_joined\u001b[49m\u001b[43m)\u001b[49m\n\u001b[1;32m      3\u001b[0m X_pad \u001b[38;5;241m=\u001b[39m pad_arrays(X_joined)\n",
      "File \u001b[0;32m~/code/BigEd12/boolmarket/Bool-Market/get_real_data.py:107\u001b[0m, in \u001b[0;36mdata_augmentation\u001b[0;34m(X1, y1)\u001b[0m\n\u001b[1;32m    105\u001b[0m     y_1\u001b[38;5;241m.\u001b[39mappend((\u001b[38;5;241m-\u001b[39m\u001b[38;5;241m1\u001b[39m,\u001b[38;5;241m-\u001b[39m\u001b[38;5;241m1\u001b[39m,\u001b[38;5;241m0\u001b[39m))\n\u001b[1;32m    106\u001b[0m \u001b[38;5;28;01mfor\u001b[39;00m i \u001b[38;5;129;01min\u001b[39;00m \u001b[38;5;28mrange\u001b[39m(\u001b[38;5;28mlen\u001b[39m(X1)):\n\u001b[0;32m--> 107\u001b[0m     x_1\u001b[38;5;241m.\u001b[39mappend(X1[i][\u001b[43my1\u001b[49m\u001b[43m[\u001b[49m\u001b[43mi\u001b[49m\u001b[43m]\u001b[49m\u001b[43m[\u001b[49m\u001b[38;5;241;43m1\u001b[39;49m\u001b[43m]\u001b[49m:])\n\u001b[1;32m    108\u001b[0m     y_1\u001b[38;5;241m.\u001b[39mappend((\u001b[38;5;241m-\u001b[39m\u001b[38;5;241m1\u001b[39m,\u001b[38;5;241m-\u001b[39m\u001b[38;5;241m1\u001b[39m,\u001b[38;5;241m0\u001b[39m))\n\u001b[1;32m    109\u001b[0m \u001b[38;5;28;01mfor\u001b[39;00m i \u001b[38;5;129;01min\u001b[39;00m \u001b[38;5;28mrange\u001b[39m(\u001b[38;5;28mlen\u001b[39m(X1)):\n",
      "\u001b[0;31mIndexError\u001b[0m: index 1 is out of bounds for axis 0 with size 1"
     ]
    }
   ],
   "source": [
    "X_joined, y_joined = data_augmentation(X_joined, y_joined)\n",
    "\n",
    "X_pad = pad_arrays(X_joined)"
   ]
  },
  {
   "cell_type": "code",
   "execution_count": null,
   "id": "42887b59-50f9-44ac-8f95-731a44ca3c50",
   "metadata": {},
   "outputs": [],
   "source": [
    "y_all = np.array(y_joined)\n",
    "X_train_rw, X_test_rw, y_train_rw, y_test_rw = train_test_split(X_pad, y_all, test_size=0.30)\n",
    "\n",
    "X_train_rw = tf.convert_to_tensor(X_train_rw, np.float32)\n",
    "y_train_rw = tf.convert_to_tensor(y_train_rw, np.int16)"
   ]
  },
  {
   "cell_type": "code",
   "execution_count": null,
   "id": "557c480c-8bd0-4848-9c75-aa25b9b74707",
   "metadata": {},
   "outputs": [],
   "source": [
    "es = EarlyStopping(patience = 20, restore_best_weights=True)\n",
    "\n",
    "input_shape = X_train_rw.shape[1:]\n",
    "model_rw = initialize_model_CNN(input_shape)\n",
    "\n",
    "model_rw.fit(\n",
    "    X_train_rw,\n",
    "    y_train_rw,\n",
    "    validation_split = 0.2,\n",
    "    shuffle = True,\n",
    "    batch_size=32,\n",
    "    epochs = 100,\n",
    "    callbacks = [es],\n",
    "    verbose = 1\n",
    ")"
   ]
  },
  {
   "cell_type": "code",
   "execution_count": null,
   "id": "2d65e82d-4103-4f8e-86ef-089020cad4a8",
   "metadata": {},
   "outputs": [],
   "source": [
    "X_test_rw = tf.convert_to_tensor(X_test_rw, np.float32)\n",
    "y_test_rw = tf.convert_to_tensor(y_test_rw, np.int16)\n",
    "res_rw = model_rw.evaluate(X_test_rw, y_test_rw)\n",
    "\n",
    "results_dict['Rising Wedge'] = res_rw[1]"
   ]

  }
 ],
 "metadata": {
  "kernelspec": {
   "display_name": "Python 3 (ipykernel)",
   "language": "python",
   "name": "python3"
  },
  "language_info": {
   "codemirror_mode": {
    "name": "ipython",
    "version": 3
   },
   "file_extension": ".py",
   "mimetype": "text/x-python",
   "name": "python",
   "nbconvert_exporter": "python",
   "pygments_lexer": "ipython3",
   "version": "3.10.6"
  }
 },
 "nbformat": 4,
 "nbformat_minor": 5
}
