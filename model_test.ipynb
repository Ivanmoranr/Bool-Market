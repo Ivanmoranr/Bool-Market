{
 "cells": [
  {
   "cell_type": "code",
   "execution_count": 1,
   "id": "598b6e7e-729d-4213-a178-badb3b51d260",
   "metadata": {},
   "outputs": [
    {
     "name": "stderr",
     "output_type": "stream",
     "text": [
      "2023-09-04 13:56:06.177527: I tensorflow/core/util/port.cc:110] oneDNN custom operations are on. You may see slightly different numerical results due to floating-point round-off errors from different computation orders. To turn them off, set the environment variable `TF_ENABLE_ONEDNN_OPTS=0`.\n",
      "2023-09-04 13:56:06.180046: I tensorflow/tsl/cuda/cudart_stub.cc:28] Could not find cuda drivers on your machine, GPU will not be used.\n",
      "2023-09-04 13:56:06.219676: I tensorflow/tsl/cuda/cudart_stub.cc:28] Could not find cuda drivers on your machine, GPU will not be used.\n",
      "2023-09-04 13:56:06.221513: I tensorflow/core/platform/cpu_feature_guard.cc:182] This TensorFlow binary is optimized to use available CPU instructions in performance-critical operations.\n",
      "To enable the following instructions: AVX2 AVX_VNNI FMA, in other operations, rebuild TensorFlow with the appropriate compiler flags.\n",
      "2023-09-04 13:56:06.808712: W tensorflow/compiler/tf2tensorrt/utils/py_utils.cc:38] TF-TRT Warning: Could not find TensorRT\n"
     ]
    }
   ],
   "source": [
    "from data_preparation import *\n",
    "from get\n",
    "\n",
    "from sklearn.model_selection import train_test_split\n",
    "\n",
    "import tensorflow as tf\n",
    "from keras.callbacks import EarlyStopping\n",
    "from tensorflow.keras.models import Sequential\n",
    "from tensorflow.keras.layers import LSTM, Dense, Masking, Conv1D, Conv2D, Dropout, Flatten, MaxPooling1D, MaxPooling2D\n",
    "from tensorflow.keras import regularizers\n",
    "\n",
    "%load_ext autoreload\n",
    "%autoreload 2"
   ]
  },
  {
   "cell_type": "code",
   "execution_count": 2,
   "id": "f9a21f97-9779-42a6-a286-b78803e6eaa3",
   "metadata": {},
   "outputs": [],
   "source": [
    "folder_list = extract_file_list()"
   ]
  },
  {
   "cell_type": "markdown",
   "id": "3f9656f8-6ddf-4008-9389-286b278b3c2a",
   "metadata": {},
   "source": [
    "# Model"
   ]
  },
  {
   "cell_type": "code",
   "execution_count": 3,
   "id": "84a84d21-d31c-431c-9651-c35c92660772",
   "metadata": {},
   "outputs": [],
   "source": [
    "def initialize_model_CNN(input_shape):\n",
    "    model = Sequential()\n",
    "\n",
    "    model.add(Masking(mask_value=-1, input_shape=input_shape))\n",
    "    model.add(Conv1D(32, activation='relu', kernel_size=3, kernel_regularizer=regularizers.L1L2(l1=1e-3, l2=1e-3))),\n",
    "    model.add(MaxPooling1D(pool_size=2))\n",
    "    model.add(Conv1D(32, activation='relu', kernel_size=3))\n",
    "    \n",
    "    model.add(Flatten())\n",
    "    model.add(Dense(units=200, activation='relu'))\n",
    "    model.add(Dense(units=100, activation='relu'))\n",
    "    model.add(Dense(units=16, activation='relu'))\n",
    "    model.add(Dense(units=16, activation='relu'))\n",
    "    model.add(Dense(units=3, activation='linear'))\n",
    "\n",
    "    model.compile(optimizer='adam', loss='mse', metrics=['mae'])\n",
    "    \n",
    "    return model"
   ]
  },
  {
   "cell_type": "code",
   "execution_count": 4,
   "id": "2a359969-57ed-4fdf-abc1-5da345aaf260",
   "metadata": {},
   "outputs": [],
   "source": [
    "patterns_to_test = ['rising_wedge', 'falling_wedge', 'double_top', 'double_bottom']\n",
    "results_dict = {}"
   ]
  },
  {
   "cell_type": "markdown",
   "id": "9b6ea840-d217-4745-9372-822e34691e2a",
   "metadata": {},
   "source": [
    "# Rising Wedge"
   ]
  },
  {
   "cell_type": "code",
   "execution_count": 5,
   "id": "1b927e4d-800c-4213-8a8c-80cf165ebae5",
   "metadata": {},
   "outputs": [],
   "source": [
    "X_real, y_real = real_data_pattern(patterns_to_test[0], model_type='full')\n",
    "X_synthetic, y_synthetic = synthetic_data(X_real, patterns_to_test[0], model_type='full')\n",
    "X_no_pattern, y_no_pattern = real_data_no_pattern(X_real, patterns_to_test[0], model_type='full')\n",
    "\n",
    "X_joined = join_data(X_real, X_synthetic, X_no_pattern)\n",
    "y_joined = join_data(y_real, y_synthetic, y_no_pattern)\n",
    "\n",
    "X_pad = pad_arrays(X_joined)"
   ]
  },
  {
   "cell_type": "code",
   "execution_count": 6,
   "id": "5352c755-0444-4f3b-bad2-a2ecd890bc11",
   "metadata": {},
   "outputs": [
    {
     "name": "stderr",
     "output_type": "stream",
     "text": [
      "2023-09-04 13:56:32.376267: I tensorflow/compiler/xla/stream_executor/cuda/cuda_gpu_executor.cc:981] could not open file to read NUMA node: /sys/bus/pci/devices/0000:01:00.0/numa_node\n",
      "Your kernel may have been built without NUMA support.\n",
      "2023-09-04 13:56:32.376575: W tensorflow/core/common_runtime/gpu/gpu_device.cc:1960] Cannot dlopen some GPU libraries. Please make sure the missing libraries mentioned above are installed properly if you would like to use GPU. Follow the guide at https://www.tensorflow.org/install/gpu for how to download and setup the required libraries for your platform.\n",
      "Skipping registering GPU devices...\n"
     ]
    }
   ],
   "source": [
    "y_all = np.array(y_joined)\n",
    "X_train, X_test, y_train, y_test = train_test_split(X_pad, y_all, test_size=0.30)\n",
    "\n",
    "X_train = tf.convert_to_tensor(X_train, np.float32)\n",
    "y_train = tf.convert_to_tensor(y_train, np.int16)"
   ]
  },
  {
   "cell_type": "code",
   "execution_count": 7,
   "id": "42446865-c055-420a-b656-0a0f596e93ce",
   "metadata": {},
   "outputs": [
    {
     "name": "stdout",
     "output_type": "stream",
     "text": [
      "Epoch 1/50\n",
      "21/21 [==============================] - 1s 22ms/step - loss: 78815.4609 - mae: 82.3209 - val_loss: 11192.5234 - val_mae: 59.8950\n",
      "Epoch 2/50\n",
      "21/21 [==============================] - 0s 17ms/step - loss: 47457.8594 - mae: 59.9356 - val_loss: 7271.9541 - val_mae: 49.4516\n",
      "Epoch 3/50\n",
      "21/21 [==============================] - 0s 17ms/step - loss: 6116.8750 - mae: 41.9964 - val_loss: 4738.4331 - val_mae: 38.6527\n",
      "Epoch 4/50\n",
      "21/21 [==============================] - 0s 17ms/step - loss: 4263.0039 - mae: 33.0066 - val_loss: 3854.1729 - val_mae: 33.2860\n",
      "Epoch 5/50\n",
      "21/21 [==============================] - 0s 16ms/step - loss: 3433.5208 - mae: 28.8006 - val_loss: 2893.0708 - val_mae: 27.6338\n",
      "Epoch 6/50\n",
      "21/21 [==============================] - 0s 16ms/step - loss: 4662.8804 - mae: 28.1357 - val_loss: 2920.9451 - val_mae: 30.0621\n",
      "Epoch 7/50\n",
      "21/21 [==============================] - 0s 17ms/step - loss: 3368.1768 - mae: 27.6031 - val_loss: 2436.4617 - val_mae: 24.4511\n",
      "Epoch 8/50\n",
      "21/21 [==============================] - 0s 20ms/step - loss: 2414.8120 - mae: 23.2566 - val_loss: 3059.9404 - val_mae: 28.8084\n",
      "Epoch 9/50\n",
      "21/21 [==============================] - 0s 19ms/step - loss: 2021.1113 - mae: 21.6746 - val_loss: 1907.6384 - val_mae: 19.4474\n",
      "Epoch 10/50\n",
      "21/21 [==============================] - 0s 19ms/step - loss: 1660.6404 - mae: 19.3630 - val_loss: 1775.6449 - val_mae: 18.8326\n",
      "Epoch 11/50\n",
      "21/21 [==============================] - 0s 18ms/step - loss: 1498.7975 - mae: 18.5514 - val_loss: 2004.8154 - val_mae: 20.3702\n",
      "Epoch 12/50\n",
      "21/21 [==============================] - 0s 18ms/step - loss: 1283.7883 - mae: 17.2663 - val_loss: 1769.3988 - val_mae: 19.3572\n",
      "Epoch 13/50\n",
      "21/21 [==============================] - 0s 19ms/step - loss: 1239.0667 - mae: 15.9031 - val_loss: 1861.9681 - val_mae: 20.3921\n",
      "Epoch 14/50\n",
      "21/21 [==============================] - 0s 19ms/step - loss: 1272.8511 - mae: 17.0828 - val_loss: 1828.2040 - val_mae: 19.4495\n",
      "Epoch 15/50\n",
      "21/21 [==============================] - 0s 19ms/step - loss: 1136.7236 - mae: 15.9056 - val_loss: 1726.8706 - val_mae: 18.3899\n",
      "Epoch 16/50\n",
      "21/21 [==============================] - 0s 18ms/step - loss: 972.6865 - mae: 14.7403 - val_loss: 1822.8936 - val_mae: 19.9365\n",
      "Epoch 17/50\n",
      "21/21 [==============================] - 0s 18ms/step - loss: 863.5830 - mae: 13.6203 - val_loss: 1757.8051 - val_mae: 19.2555\n",
      "Epoch 18/50\n",
      "21/21 [==============================] - 0s 18ms/step - loss: 851.4830 - mae: 13.7526 - val_loss: 1595.2878 - val_mae: 18.7129\n",
      "Epoch 19/50\n",
      "21/21 [==============================] - 0s 19ms/step - loss: 753.4108 - mae: 13.2666 - val_loss: 1705.9426 - val_mae: 18.8853\n",
      "Epoch 20/50\n",
      "21/21 [==============================] - 0s 18ms/step - loss: 653.1040 - mae: 12.0223 - val_loss: 1798.6783 - val_mae: 18.9825\n",
      "Epoch 21/50\n",
      "21/21 [==============================] - 0s 20ms/step - loss: 571.5546 - mae: 11.4474 - val_loss: 1592.5126 - val_mae: 17.3113\n",
      "Epoch 22/50\n",
      "21/21 [==============================] - 0s 18ms/step - loss: 446.7026 - mae: 10.1258 - val_loss: 1476.1501 - val_mae: 16.6330\n",
      "Epoch 23/50\n",
      "21/21 [==============================] - 0s 17ms/step - loss: 427.1286 - mae: 10.2072 - val_loss: 1579.3909 - val_mae: 17.7401\n",
      "Epoch 24/50\n",
      "21/21 [==============================] - 0s 18ms/step - loss: 474.2223 - mae: 10.9327 - val_loss: 1548.8779 - val_mae: 17.8915\n",
      "Epoch 25/50\n",
      "21/21 [==============================] - 0s 18ms/step - loss: 366.9859 - mae: 9.8761 - val_loss: 1572.7473 - val_mae: 17.3664\n",
      "Epoch 26/50\n",
      "21/21 [==============================] - 0s 17ms/step - loss: 373.2054 - mae: 9.4284 - val_loss: 1513.7847 - val_mae: 16.9886\n",
      "Epoch 27/50\n",
      "21/21 [==============================] - 0s 19ms/step - loss: 301.6378 - mae: 9.4029 - val_loss: 1504.4982 - val_mae: 17.1359\n"
     ]
    },
    {
     "data": {
      "text/plain": [
       "<keras.src.callbacks.History at 0x7f2f0420df30>"
      ]
     },
     "execution_count": 7,
     "metadata": {},
     "output_type": "execute_result"
    }
   ],
   "source": [
    "es = EarlyStopping(patience = 5, restore_best_weights=True)\n",
    "\n",
    "input_shape = X_train.shape[1:]\n",
    "model = initialize_model_CNN(input_shape)\n",
    "\n",
    "model.fit(\n",
    "    X_train,\n",
    "    y_train,\n",
    "    validation_split = 0.2,\n",
    "    shuffle = True,\n",
    "    batch_size=32,\n",
    "    epochs = 50,\n",
    "    callbacks = [es],\n",
    "    verbose = 1\n",
    ")"
   ]
  },
  {
   "cell_type": "code",
   "execution_count": 8,
   "id": "5559f6a5-55f5-453d-b977-f414d7f2620a",
   "metadata": {},
   "outputs": [
    {
     "name": "stdout",
     "output_type": "stream",
     "text": [
      "11/11 [==============================] - 0s 7ms/step - loss: 1695.2888 - mae: 19.1589\n"
     ]
    }
   ],
   "source": [
    "X_test = tf.convert_to_tensor(X_test, np.float32)\n",
    "y_test = tf.convert_to_tensor(y_test, np.int16)\n",
    "res = model.evaluate(X_test, y_test)\n",
    "\n",
    "results_dict['Rising Wedge'] = res[1]"
   ]
  },
  {
   "cell_type": "markdown",
   "id": "126e786e-66bf-455d-a0de-0b6a81ad2113",
   "metadata": {},
   "source": [
    "# Falling wedge"
   ]
  },
  {
   "cell_type": "code",
   "execution_count": 9,
   "id": "ebbed9b1-835e-4d17-9797-f3357c30a13f",
   "metadata": {},
   "outputs": [],
   "source": [
    "X_real, y_real = real_data_pattern(patterns_to_test[1], model_type='full')\n",
    "X_synthetic, y_synthetic = synthetic_data(X_real, patterns_to_test[1], model_type='full')\n",
    "X_no_pattern, y_no_pattern = real_data_no_pattern(X_real, patterns_to_test[1], model_type='full')\n",
    "\n",
    "X_joined = join_data(X_real, X_synthetic, X_no_pattern)\n",
    "y_joined = join_data(y_real, y_synthetic, y_no_pattern)\n",
    "\n",
    "X_pad = pad_arrays(X_joined)"
   ]
  },
  {
   "cell_type": "code",
   "execution_count": 10,
   "id": "4406f5f8-5ef1-4ec5-9327-0f7d6618697f",
   "metadata": {},
   "outputs": [],
   "source": [
    "y_all = np.array(y_joined)\n",
    "X_train, X_test, y_train, y_test = train_test_split(X_pad, y_all, test_size=0.30)\n",
    "\n",
    "X_train = tf.convert_to_tensor(X_train, np.float32)\n",
    "y_train = tf.convert_to_tensor(y_train, np.int16)"
   ]
  },
  {
   "cell_type": "code",
   "execution_count": 11,
   "id": "193828ea-fe49-4f46-aefc-a8a00cd5327e",
   "metadata": {},
   "outputs": [
    {
     "name": "stdout",
     "output_type": "stream",
     "text": [
      "Epoch 1/50\n",
      "14/14 [==============================] - 1s 21ms/step - loss: 45890.1172 - mae: 59.1812 - val_loss: 35349.7812 - val_mae: 54.9286\n",
      "Epoch 2/50\n",
      "14/14 [==============================] - 0s 14ms/step - loss: 20202.8594 - mae: 43.1435 - val_loss: 3069.6802 - val_mae: 34.8334\n",
      "Epoch 3/50\n",
      "14/14 [==============================] - 0s 14ms/step - loss: 2729.9827 - mae: 27.3508 - val_loss: 1726.2605 - val_mae: 23.0518\n",
      "Epoch 4/50\n",
      "14/14 [==============================] - 0s 14ms/step - loss: 2322.0635 - mae: 24.8524 - val_loss: 1487.7130 - val_mae: 20.1690\n",
      "Epoch 5/50\n",
      "14/14 [==============================] - 0s 14ms/step - loss: 2003.3007 - mae: 22.9183 - val_loss: 1662.6820 - val_mae: 21.2940\n",
      "Epoch 6/50\n",
      "14/14 [==============================] - 0s 14ms/step - loss: 1782.3853 - mae: 20.7513 - val_loss: 1134.5894 - val_mae: 19.4092\n",
      "Epoch 7/50\n",
      "14/14 [==============================] - 0s 13ms/step - loss: 1615.6536 - mae: 19.5727 - val_loss: 1549.7601 - val_mae: 28.1721\n",
      "Epoch 8/50\n",
      "14/14 [==============================] - 0s 13ms/step - loss: 1452.2096 - mae: 19.5091 - val_loss: 1583.2367 - val_mae: 20.8182\n",
      "Epoch 9/50\n",
      "14/14 [==============================] - 0s 13ms/step - loss: 1346.8785 - mae: 17.5986 - val_loss: 893.7547 - val_mae: 14.8255\n",
      "Epoch 10/50\n",
      "14/14 [==============================] - 0s 14ms/step - loss: 1003.1703 - mae: 14.8943 - val_loss: 935.5408 - val_mae: 15.3333\n",
      "Epoch 11/50\n",
      "14/14 [==============================] - 0s 13ms/step - loss: 900.1284 - mae: 14.4255 - val_loss: 1067.1696 - val_mae: 15.6086\n",
      "Epoch 12/50\n",
      "14/14 [==============================] - 0s 14ms/step - loss: 830.5235 - mae: 14.2612 - val_loss: 739.5919 - val_mae: 13.1106\n",
      "Epoch 13/50\n",
      "14/14 [==============================] - 0s 14ms/step - loss: 659.5647 - mae: 12.8021 - val_loss: 890.1520 - val_mae: 13.8845\n",
      "Epoch 14/50\n",
      "14/14 [==============================] - 0s 14ms/step - loss: 468.9763 - mae: 10.4629 - val_loss: 490.8036 - val_mae: 10.3187\n",
      "Epoch 15/50\n",
      "14/14 [==============================] - 0s 15ms/step - loss: 515.2881 - mae: 10.8681 - val_loss: 624.4455 - val_mae: 12.3379\n",
      "Epoch 16/50\n",
      "14/14 [==============================] - 0s 16ms/step - loss: 376.5327 - mae: 9.4189 - val_loss: 787.4162 - val_mae: 11.6472\n",
      "Epoch 17/50\n",
      "14/14 [==============================] - 0s 15ms/step - loss: 255.6703 - mae: 7.7721 - val_loss: 416.8141 - val_mae: 9.3502\n",
      "Epoch 18/50\n",
      "14/14 [==============================] - 0s 16ms/step - loss: 225.6937 - mae: 7.1856 - val_loss: 311.4507 - val_mae: 8.4913\n",
      "Epoch 19/50\n",
      "14/14 [==============================] - 0s 16ms/step - loss: 246.3280 - mae: 7.9481 - val_loss: 1742.4873 - val_mae: 11.8653\n",
      "Epoch 20/50\n",
      "14/14 [==============================] - 0s 16ms/step - loss: 258.7674 - mae: 7.5680 - val_loss: 1536.1605 - val_mae: 10.8374\n",
      "Epoch 21/50\n",
      "14/14 [==============================] - 0s 16ms/step - loss: 201.3354 - mae: 7.0683 - val_loss: 2736.6079 - val_mae: 13.0200\n",
      "Epoch 22/50\n",
      "14/14 [==============================] - 0s 14ms/step - loss: 200.2323 - mae: 6.8774 - val_loss: 3009.1331 - val_mae: 13.2669\n",
      "Epoch 23/50\n",
      "14/14 [==============================] - 0s 14ms/step - loss: 228.4619 - mae: 7.3555 - val_loss: 2244.2576 - val_mae: 12.0310\n"
     ]
    },
    {
     "data": {
      "text/plain": [
       "<keras.src.callbacks.History at 0x7f2ef040aaa0>"
      ]
     },
     "execution_count": 11,
     "metadata": {},
     "output_type": "execute_result"
    }
   ],
   "source": [
    "es = EarlyStopping(patience = 5, restore_best_weights=True)\n",
    "\n",
    "input_shape = X_train.shape[1:]\n",
    "model = initialize_model_CNN(input_shape)\n",
    "\n",
    "model.fit(\n",
    "    X_train,\n",
    "    y_train,\n",
    "    validation_split = 0.2,\n",
    "    shuffle = True,\n",
    "    batch_size=32,\n",
    "    epochs = 50,\n",
    "    callbacks = [es],\n",
    "    verbose = 1\n",
    ")"
   ]
  },
  {
   "cell_type": "code",
   "execution_count": 12,
   "id": "d8ca7636-93d0-4c49-9c8d-3e427d4a3e35",
   "metadata": {},
   "outputs": [
    {
     "name": "stdout",
     "output_type": "stream",
     "text": [
      "8/8 [==============================] - 0s 6ms/step - loss: 566.5504 - mae: 8.3757\n"
     ]
    }
   ],
   "source": [
    "X_test = tf.convert_to_tensor(X_test, np.float32)\n",
    "y_test = tf.convert_to_tensor(y_test, np.int16)\n",
    "res = model.evaluate(X_test, y_test)\n",
    "\n",
    "results_dict['Falling Wedge'] = res[1]"
   ]
  },
  {
   "cell_type": "markdown",
   "id": "23f74548-d1bb-4fd8-b4c9-137b8c09921d",
   "metadata": {},
   "source": [
    "# Double Top"
   ]
  },
  {
   "cell_type": "code",
   "execution_count": 13,
   "id": "22e67ade-16c7-420c-a720-5e76e6d995ef",
   "metadata": {},
   "outputs": [],
   "source": [
    "X_real, y_real = real_data_pattern(patterns_to_test[2], model_type='full')\n",
    "X_synthetic, y_synthetic = synthetic_data(X_real, patterns_to_test[2], model_type='full')\n",
    "X_no_pattern, y_no_pattern = real_data_no_pattern(X_real, patterns_to_test[2], model_type='full')\n",
    "\n",
    "X_joined = join_data(X_real, X_synthetic, X_no_pattern)\n",
    "y_joined = join_data(y_real, y_synthetic, y_no_pattern)\n",
    "\n",
    "X_pad = pad_arrays(X_joined)"
   ]
  },
  {
   "cell_type": "code",
   "execution_count": 14,
   "id": "c726302a-7f0e-41c5-b5dc-761a5900ed73",
   "metadata": {},
   "outputs": [],
   "source": [
    "y_all = np.array(y_joined)\n",
    "X_train, X_test, y_train, y_test = train_test_split(X_pad, y_all, test_size=0.30)\n",
    "\n",
    "X_train = tf.convert_to_tensor(X_train, np.float32)\n",
    "y_train = tf.convert_to_tensor(y_train, np.int16)"
   ]
  },
  {
   "cell_type": "code",
   "execution_count": 15,
   "id": "071f15a5-5cac-43e6-8ef4-aab8dba3e372",
   "metadata": {},
   "outputs": [
    {
     "name": "stdout",
     "output_type": "stream",
     "text": [
      "Epoch 1/50\n",
      "14/14 [==============================] - 1s 20ms/step - loss: 125433.9844 - mae: 83.9072 - val_loss: 87086.0000 - val_mae: 82.6465\n",
      "Epoch 2/50\n",
      "14/14 [==============================] - 0s 14ms/step - loss: 124479.6641 - mae: 66.7362 - val_loss: 9852.6963 - val_mae: 51.6983\n",
      "Epoch 3/50\n",
      "14/14 [==============================] - 0s 14ms/step - loss: 127314.3203 - mae: 67.2082 - val_loss: 10760.0830 - val_mae: 54.9101\n",
      "Epoch 4/50\n",
      "14/14 [==============================] - 0s 14ms/step - loss: 81718.7656 - mae: 58.7368 - val_loss: 9976.2188 - val_mae: 51.2522\n",
      "Epoch 5/50\n",
      "14/14 [==============================] - 0s 13ms/step - loss: 9451.1807 - mae: 48.8008 - val_loss: 9087.3232 - val_mae: 50.5439\n",
      "Epoch 6/50\n",
      "14/14 [==============================] - 0s 13ms/step - loss: 8196.9521 - mae: 47.2277 - val_loss: 8238.4336 - val_mae: 47.2688\n",
      "Epoch 7/50\n",
      "14/14 [==============================] - 0s 13ms/step - loss: 7975.1040 - mae: 46.8488 - val_loss: 7410.0005 - val_mae: 43.7493\n",
      "Epoch 8/50\n",
      "14/14 [==============================] - 0s 13ms/step - loss: 7150.3081 - mae: 40.9920 - val_loss: 7248.9224 - val_mae: 41.2050\n",
      "Epoch 9/50\n",
      "14/14 [==============================] - 0s 14ms/step - loss: 6269.5156 - mae: 40.2549 - val_loss: 6373.6694 - val_mae: 41.8056\n",
      "Epoch 10/50\n",
      "14/14 [==============================] - 0s 13ms/step - loss: 5177.8237 - mae: 36.9672 - val_loss: 5184.8447 - val_mae: 36.2102\n",
      "Epoch 11/50\n",
      "14/14 [==============================] - 0s 13ms/step - loss: 3908.6536 - mae: 32.8370 - val_loss: 4019.6375 - val_mae: 33.0124\n",
      "Epoch 12/50\n",
      "14/14 [==============================] - 0s 13ms/step - loss: 2735.9944 - mae: 28.9567 - val_loss: 3299.7915 - val_mae: 30.9439\n",
      "Epoch 13/50\n",
      "14/14 [==============================] - 0s 14ms/step - loss: 2117.8665 - mae: 25.2308 - val_loss: 2240.5979 - val_mae: 25.2262\n",
      "Epoch 14/50\n",
      "14/14 [==============================] - 0s 16ms/step - loss: 2133.4341 - mae: 23.2714 - val_loss: 2911.1750 - val_mae: 27.4474\n",
      "Epoch 15/50\n",
      "14/14 [==============================] - 0s 19ms/step - loss: 1318.6141 - mae: 20.5700 - val_loss: 2764.4487 - val_mae: 27.5702\n",
      "Epoch 16/50\n",
      "14/14 [==============================] - 0s 15ms/step - loss: 1036.4708 - mae: 18.3701 - val_loss: 2355.5486 - val_mae: 25.3820\n",
      "Epoch 17/50\n",
      "14/14 [==============================] - 0s 14ms/step - loss: 871.7407 - mae: 17.6450 - val_loss: 2131.3215 - val_mae: 24.9710\n",
      "Epoch 18/50\n",
      "14/14 [==============================] - 0s 15ms/step - loss: 736.3303 - mae: 16.1116 - val_loss: 2260.7263 - val_mae: 23.9984\n",
      "Epoch 19/50\n",
      "14/14 [==============================] - 0s 15ms/step - loss: 718.6599 - mae: 15.0228 - val_loss: 2081.2100 - val_mae: 22.9989\n",
      "Epoch 20/50\n",
      "14/14 [==============================] - 0s 15ms/step - loss: 533.7328 - mae: 13.1997 - val_loss: 2224.9792 - val_mae: 23.4289\n",
      "Epoch 21/50\n",
      "14/14 [==============================] - 0s 16ms/step - loss: 466.7242 - mae: 13.0113 - val_loss: 1986.8652 - val_mae: 22.2056\n",
      "Epoch 22/50\n",
      "14/14 [==============================] - 0s 15ms/step - loss: 507.6597 - mae: 13.9060 - val_loss: 2053.4353 - val_mae: 22.4140\n",
      "Epoch 23/50\n",
      "14/14 [==============================] - 0s 15ms/step - loss: 413.3879 - mae: 12.2071 - val_loss: 2091.4258 - val_mae: 22.5752\n",
      "Epoch 24/50\n",
      "14/14 [==============================] - 0s 15ms/step - loss: 325.5432 - mae: 11.0500 - val_loss: 2364.5051 - val_mae: 22.6087\n",
      "Epoch 25/50\n",
      "14/14 [==============================] - 0s 16ms/step - loss: 329.4003 - mae: 11.2588 - val_loss: 2097.2522 - val_mae: 21.9921\n",
      "Epoch 26/50\n",
      "14/14 [==============================] - 0s 15ms/step - loss: 281.6460 - mae: 9.9167 - val_loss: 1995.4025 - val_mae: 21.3240\n"
     ]
    },
    {
     "data": {
      "text/plain": [
       "<keras.src.callbacks.History at 0x7f2f04640130>"
      ]
     },
     "execution_count": 15,
     "metadata": {},
     "output_type": "execute_result"
    }
   ],
   "source": [
    "es = EarlyStopping(patience = 5, restore_best_weights=True)\n",
    "\n",
    "input_shape = X_train.shape[1:]\n",
    "model = initialize_model_CNN(input_shape)\n",
    "\n",
    "model.fit(\n",
    "    X_train,\n",
    "    y_train,\n",
    "    validation_split = 0.2,\n",
    "    shuffle = True,\n",
    "    batch_size=32,\n",
    "    epochs = 50,\n",
    "    callbacks = [es],\n",
    "    verbose = 1\n",
    ")"
   ]
  },
  {
   "cell_type": "code",
   "execution_count": 16,
   "id": "d01d3e99-25ee-4ead-baab-2e0a2a9bc73c",
   "metadata": {},
   "outputs": [
    {
     "name": "stdout",
     "output_type": "stream",
     "text": [
      "8/8 [==============================] - 0s 5ms/step - loss: 2303.3765 - mae: 21.6818\n"
     ]
    }
   ],
   "source": [
    "X_test = tf.convert_to_tensor(X_test, np.float32)\n",
    "y_test = tf.convert_to_tensor(y_test, np.int16)\n",
    "res = model.evaluate(X_test, y_test)\n",
    "\n",
    "results_dict['Double Top'] = res[1]"
   ]
  },
  {
   "cell_type": "markdown",
   "id": "7a66f3a0-3fcd-4e88-8968-89a37033d07b",
   "metadata": {},
   "source": [
    "# Double Bottom"
   ]
  },
  {
   "cell_type": "code",
   "execution_count": 17,
   "id": "79189ad7-9aec-48ad-bbd4-ef5dc14dd172",
   "metadata": {},
   "outputs": [],
   "source": [
    "X_real, y_real = real_data_pattern(patterns_to_test[3], model_type='full')\n",
    "X_synthetic, y_synthetic = synthetic_data(X_real, patterns_to_test[3], model_type='full')\n",
    "X_no_pattern, y_no_pattern = real_data_no_pattern(X_real, patterns_to_test[3], model_type='full')\n",
    "\n",
    "X_joined = join_data(X_real, X_synthetic, X_no_pattern)\n",
    "y_joined = join_data(y_real, y_synthetic, y_no_pattern)\n",
    "\n",
    "X_pad = pad_arrays(X_joined)"
   ]
  },
  {
   "cell_type": "code",
   "execution_count": 18,
   "id": "da26efee-ece7-4b96-b1bc-162a1ae51d9c",
   "metadata": {},
   "outputs": [],
   "source": [
    "y_all = np.array(y_joined)\n",
    "X_train, X_test, y_train, y_test = train_test_split(X_pad, y_all, test_size=0.30)\n",
    "\n",
    "X_train = tf.convert_to_tensor(X_train, np.float32)\n",
    "y_train = tf.convert_to_tensor(y_train, np.int16)"
   ]
  },
  {
   "cell_type": "code",
   "execution_count": 19,
   "id": "d3c3c977-08ef-40b7-8442-282a8d6cc2eb",
   "metadata": {},
   "outputs": [
    {
     "name": "stdout",
     "output_type": "stream",
     "text": [
      "Epoch 1/50\n",
      "13/13 [==============================] - 1s 22ms/step - loss: 37710.6484 - mae: 65.0741 - val_loss: 24384.3574 - val_mae: 57.3781\n",
      "Epoch 2/50\n",
      "13/13 [==============================] - 0s 13ms/step - loss: 60295.1641 - mae: 58.1094 - val_loss: 33461.7734 - val_mae: 50.6036\n",
      "Epoch 3/50\n",
      "13/13 [==============================] - 0s 14ms/step - loss: 7088.0059 - mae: 41.5439 - val_loss: 48618.6953 - val_mae: 51.0653\n",
      "Epoch 4/50\n",
      "13/13 [==============================] - 0s 13ms/step - loss: 6202.2456 - mae: 37.3218 - val_loss: 99242.1406 - val_mae: 59.1796\n",
      "Epoch 5/50\n",
      "13/13 [==============================] - 0s 13ms/step - loss: 5906.5986 - mae: 35.4861 - val_loss: 71573.9922 - val_mae: 53.6542\n",
      "Epoch 6/50\n",
      "13/13 [==============================] - 0s 13ms/step - loss: 4988.3330 - mae: 32.5109 - val_loss: 101380.5391 - val_mae: 55.3580\n"
     ]
    },
    {
     "data": {
      "text/plain": [
       "<keras.src.callbacks.History at 0x7f2f041bbaf0>"
      ]
     },
     "execution_count": 19,
     "metadata": {},
     "output_type": "execute_result"
    }
   ],
   "source": [
    "es = EarlyStopping(patience = 5, restore_best_weights=True)\n",
    "\n",
    "input_shape = X_train.shape[1:]\n",
    "model = initialize_model_CNN(input_shape)\n",
    "\n",
    "model.fit(\n",
    "    X_train,\n",
    "    y_train,\n",
    "    validation_split = 0.2,\n",
    "    shuffle = True,\n",
    "    batch_size=32,\n",
    "    epochs = 50,\n",
    "    callbacks = [es],\n",
    "    verbose = 1\n",
    ")"
   ]
  },
  {
   "cell_type": "code",
   "execution_count": 20,
   "id": "0183c153-cfaf-4796-86c2-29feb3e0dbe6",
   "metadata": {},
   "outputs": [
    {
     "name": "stdout",
     "output_type": "stream",
     "text": [
      "7/7 [==============================] - 0s 5ms/step - loss: 13363.3760 - mae: 56.0527\n"
     ]
    }
   ],
   "source": [
    "X_test = tf.convert_to_tensor(X_test, np.float32)\n",
    "y_test = tf.convert_to_tensor(y_test, np.int16)\n",
    "res = model.evaluate(X_test, y_test)\n",
    "\n",
    "results_dict['Double Bottom'] = res[1]"
   ]
  },
  {
   "cell_type": "markdown",
   "id": "e988592b-95d0-4d5c-9ea7-034d25dd87d4",
   "metadata": {},
   "source": [
    "# Results"
   ]
  },
  {
   "cell_type": "code",
   "execution_count": 21,
   "id": "3ccca8b7-550a-4f44-a002-ba029b4fc4e4",
   "metadata": {},
   "outputs": [
    {
     "data": {
      "text/html": [
       "<div>\n",
       "<style scoped>\n",
       "    .dataframe tbody tr th:only-of-type {\n",
       "        vertical-align: middle;\n",
       "    }\n",
       "\n",
       "    .dataframe tbody tr th {\n",
       "        vertical-align: top;\n",
       "    }\n",
       "\n",
       "    .dataframe thead th {\n",
       "        text-align: right;\n",
       "    }\n",
       "</style>\n",
       "<table border=\"1\" class=\"dataframe\">\n",
       "  <thead>\n",
       "    <tr style=\"text-align: right;\">\n",
       "      <th></th>\n",
       "      <th>Rising Wedge</th>\n",
       "      <th>Falling Wedge</th>\n",
       "      <th>Double Top</th>\n",
       "      <th>Double Bottom</th>\n",
       "    </tr>\n",
       "  </thead>\n",
       "  <tbody>\n",
       "    <tr>\n",
       "      <th>1</th>\n",
       "      <td>19.158934</td>\n",
       "      <td>8.375728</td>\n",
       "      <td>21.681757</td>\n",
       "      <td>56.05267</td>\n",
       "    </tr>\n",
       "  </tbody>\n",
       "</table>\n",
       "</div>"
      ],
      "text/plain": [
       "   Rising Wedge  Falling Wedge  Double Top  Double Bottom\n",
       "1     19.158934       8.375728   21.681757       56.05267"
      ]
     },
     "execution_count": 21,
     "metadata": {},
     "output_type": "execute_result"
    }
   ],
   "source": [
    "results_df = pd.DataFrame(results_dict, index=[1])\n",
    "results_df"
   ]
  },
  {
   "cell_type": "markdown",
   "id": "3d539481-50db-4095-84c5-78a02fc49422",
   "metadata": {},
   "source": [
    "# Pattern Present or not?"
   ]
  },
  {
   "cell_type": "code",
   "execution_count": 22,
   "id": "ff09ac68-1ef8-45b7-ad19-4ea8e2d4455d",
   "metadata": {},
   "outputs": [],
   "source": [
    "def initialize_model_CNN(input_shape):\n",
    "    model = Sequential()\n",
    "\n",
    "    model.add(Masking(mask_value=-1, input_shape=input_shape))\n",
    "    model.add(Conv1D(32, activation='relu', kernel_size=3, kernel_regularizer=regularizers.L1L2(l1=1e-3, l2=1e-3))),\n",
    "    model.add(MaxPooling1D(pool_size=2))\n",
    "    model.add(Conv1D(32, activation='relu', kernel_size=3))\n",
    "    \n",
    "    model.add(Flatten())\n",
    "    model.add(Dense(units=200, activation='relu'))\n",
    "    model.add(Dense(units=100, activation='relu'))\n",
    "    model.add(Dense(units=16, activation='relu'))\n",
    "    model.add(Dense(units=16, activation='relu'))\n",
    "    model.add(Dense(units=1, activation='sigmoid'))\n",
    "\n",
    "    model.compile(optimizer='adam', loss='binary_crossentropy', metrics=['accuracy'])\n",
    "    \n",
    "    return model"
   ]
  },
  {
   "cell_type": "markdown",
   "id": "a5592e29-e9b4-4e20-aacf-ea74780b1eed",
   "metadata": {},
   "source": [
    "# Rising Wedge"
   ]
  },
  {
   "cell_type": "code",
   "execution_count": 23,
   "id": "f905f35d-040f-4a08-9c7e-276b9c535655",
   "metadata": {},
   "outputs": [],
   "source": [
    "accuracy_dict = {}"
   ]
  },
  {
   "cell_type": "code",
   "execution_count": 24,
   "id": "193c00a7-ef57-40fc-938f-c720739e07f2",
   "metadata": {},
   "outputs": [],
   "source": [
    "X_real, y_real = real_data_pattern(patterns_to_test[0], model_type='categorise')\n",
    "\n",
    "X_synthetic, y_synthetic = synthetic_data(X_real, patterns_to_test[0], model_type='categorise')\n",
    "\n",
    "X_no_pattern, y_no_pattern = real_data_no_pattern(X_real, patterns_to_test[0], model_type='categorise')\n",
    "\n",
    "X_joined = join_data(X_real, X_synthetic, X_no_pattern)\n",
    "y_joined = join_data(y_real, y_synthetic, y_no_pattern)\n",
    "\n",
    "X_pad = pad_arrays(X_joined)"
   ]
  },
  {
   "cell_type": "code",
   "execution_count": 25,
   "id": "a7baff0c-88f8-44aa-a9a4-afdd8adf2cbc",
   "metadata": {},
   "outputs": [],
   "source": [
    "y_all = np.array(y_joined)\n",
    "\n",
    "X_train, X_test, y_train, y_test = train_test_split(X_pad, y_all, test_size=0.30)\n",
    "\n",
    "X_train = tf.convert_to_tensor(X_train, np.float32)\n",
    "y_train = tf.convert_to_tensor(y_train, np.int16)"
   ]
  },
  {
   "cell_type": "code",
   "execution_count": 26,
   "id": "84623990-1ca1-413d-9900-688f942fc840",
   "metadata": {},
   "outputs": [
    {
     "name": "stdout",
     "output_type": "stream",
     "text": [
      "Epoch 1/50\n",
      "21/21 [==============================] - 1s 18ms/step - loss: 17.5871 - accuracy: 0.6487 - val_loss: 41.3097 - val_accuracy: 0.5276\n",
      "Epoch 2/50\n",
      "21/21 [==============================] - 0s 13ms/step - loss: 11.9635 - accuracy: 0.6780 - val_loss: 2.5220 - val_accuracy: 0.7239\n",
      "Epoch 3/50\n",
      "21/21 [==============================] - 0s 13ms/step - loss: 6.0466 - accuracy: 0.7550 - val_loss: 4.9449 - val_accuracy: 0.6994\n",
      "Epoch 4/50\n",
      "21/21 [==============================] - 0s 13ms/step - loss: 4.3268 - accuracy: 0.7411 - val_loss: 15.9230 - val_accuracy: 0.7485\n",
      "Epoch 5/50\n",
      "21/21 [==============================] - 0s 13ms/step - loss: 6.1632 - accuracy: 0.7812 - val_loss: 10.0824 - val_accuracy: 0.7546\n",
      "Epoch 6/50\n",
      "21/21 [==============================] - 0s 13ms/step - loss: 4.2986 - accuracy: 0.8336 - val_loss: 4.2438 - val_accuracy: 0.8344\n",
      "Epoch 7/50\n",
      "21/21 [==============================] - 0s 13ms/step - loss: 3.8454 - accuracy: 0.8274 - val_loss: 9.5308 - val_accuracy: 0.7730\n"
     ]
    },
    {
     "data": {
      "text/plain": [
       "<keras.src.callbacks.History at 0x7f2e985914e0>"
      ]
     },
     "execution_count": 26,
     "metadata": {},
     "output_type": "execute_result"
    }
   ],
   "source": [
    "es = EarlyStopping(patience = 5, restore_best_weights=True)\n",
    "\n",
    "input_shape = X_train.shape[1:]\n",
    "model = initialize_model_CNN(input_shape)\n",
    "\n",
    "model.fit(\n",
    "    X_train,\n",
    "    y_train,\n",
    "    validation_split = 0.2,\n",
    "    shuffle = True,\n",
    "    batch_size=32,\n",
    "    epochs = 50,\n",
    "    callbacks = [es],\n",
    "    verbose = 1\n",
    ")"
   ]
  },
  {
   "cell_type": "code",
   "execution_count": 27,
   "id": "3e81d4d3-9c33-4438-b2c6-f85663b50bc8",
   "metadata": {},
   "outputs": [
    {
     "name": "stdout",
     "output_type": "stream",
     "text": [
      "11/11 [==============================] - 0s 5ms/step - loss: 2.0989 - accuracy: 0.7443\n"
     ]
    }
   ],
   "source": [
    "X_test = tf.convert_to_tensor(X_test, np.float32)\n",
    "y_test = tf.convert_to_tensor(y_test, np.int16)\n",
    "res = model.evaluate(X_test, y_test)\n",
    "\n",
    "accuracy_dict['Rising Wedge_class'] = res[1]"
   ]
  },
  {
   "cell_type": "markdown",
   "id": "1109d049-ef50-4839-a3e4-8f504049f3e6",
   "metadata": {},
   "source": [
    "# Falling Wedge"
   ]
  },
  {
   "cell_type": "code",
   "execution_count": 28,
   "id": "654bdc7b-6075-431c-a780-84b904d33428",
   "metadata": {},
   "outputs": [],
   "source": [
    "X_real, y_real = real_data_pattern(patterns_to_test[1], model_type='categorise')\n",
    "X_synthetic, y_synthetic = synthetic_data(X_real, patterns_to_test[1], model_type='categorise')\n",
    "X_no_pattern, y_no_pattern = real_data_no_pattern(X_real, patterns_to_test[1], model_type='categorise')\n",
    "\n",
    "X_joined = join_data(X_real, X_synthetic, X_no_pattern)\n",
    "y_joined = join_data(y_real, y_synthetic, y_no_pattern)\n",
    "\n",
    "X_pad = pad_arrays(X_joined)"
   ]
  },
  {
   "cell_type": "code",
   "execution_count": 29,
   "id": "a50aa577-8f2e-4399-a2ea-9b9effb3a92c",
   "metadata": {},
   "outputs": [],
   "source": [
    "y_all = np.array(y_joined)\n",
    "\n",
    "X_train, X_test, y_train, y_test = train_test_split(X_pad, y_all, test_size=0.30)\n",
    "\n",
    "X_train = tf.convert_to_tensor(X_train, np.float32)\n",
    "y_train = tf.convert_to_tensor(y_train, np.int16)"
   ]
  },
  {
   "cell_type": "code",
   "execution_count": 30,
   "id": "d5ab10b7-f40e-4f82-8904-04e5c8f88f61",
   "metadata": {},
   "outputs": [
    {
     "name": "stdout",
     "output_type": "stream",
     "text": [
      "Epoch 1/50\n",
      "14/14 [==============================] - 1s 21ms/step - loss: 8.1340 - accuracy: 0.5923 - val_loss: 5.7390 - val_accuracy: 0.7273\n",
      "Epoch 2/50\n",
      "14/14 [==============================] - 0s 13ms/step - loss: 7.0160 - accuracy: 0.8200 - val_loss: 5.9922 - val_accuracy: 0.9000\n",
      "Epoch 3/50\n",
      "14/14 [==============================] - 0s 14ms/step - loss: 0.7889 - accuracy: 0.9453 - val_loss: 0.1515 - val_accuracy: 0.9545\n",
      "Epoch 4/50\n",
      "14/14 [==============================] - 0s 15ms/step - loss: 0.5350 - accuracy: 0.8998 - val_loss: 4.5970 - val_accuracy: 0.8636\n",
      "Epoch 5/50\n",
      "14/14 [==============================] - 0s 15ms/step - loss: 4.9127 - accuracy: 0.9544 - val_loss: 2.4572 - val_accuracy: 0.9364\n",
      "Epoch 6/50\n",
      "14/14 [==============================] - 0s 14ms/step - loss: 0.9772 - accuracy: 0.9544 - val_loss: 3.3693 - val_accuracy: 0.9273\n",
      "Epoch 7/50\n",
      "14/14 [==============================] - 0s 14ms/step - loss: 1.0924 - accuracy: 0.9613 - val_loss: 0.1399 - val_accuracy: 0.9818\n",
      "Epoch 8/50\n",
      "14/14 [==============================] - 0s 13ms/step - loss: 0.3202 - accuracy: 0.9727 - val_loss: 0.1736 - val_accuracy: 0.9545\n",
      "Epoch 9/50\n",
      "14/14 [==============================] - 0s 14ms/step - loss: 0.4076 - accuracy: 0.9499 - val_loss: 0.2824 - val_accuracy: 0.9364\n",
      "Epoch 10/50\n",
      "14/14 [==============================] - 0s 15ms/step - loss: 0.1758 - accuracy: 0.9749 - val_loss: 0.1731 - val_accuracy: 0.9636\n",
      "Epoch 11/50\n",
      "14/14 [==============================] - 0s 13ms/step - loss: 0.4937 - accuracy: 0.9408 - val_loss: 0.2382 - val_accuracy: 0.9545\n",
      "Epoch 12/50\n",
      "14/14 [==============================] - 0s 18ms/step - loss: 0.2121 - accuracy: 0.9613 - val_loss: 0.7323 - val_accuracy: 0.9727\n"
     ]
    },
    {
     "data": {
      "text/plain": [
       "<keras.src.callbacks.History at 0x7f2ef03e0790>"
      ]
     },
     "execution_count": 30,
     "metadata": {},
     "output_type": "execute_result"
    }
   ],
   "source": [
    "es = EarlyStopping(patience = 5, restore_best_weights=True)\n",
    "\n",
    "input_shape = X_train.shape[1:]\n",
    "model = initialize_model_CNN(input_shape)\n",
    "\n",
    "model.fit(\n",
    "    X_train,\n",
    "    y_train,\n",
    "    validation_split = 0.2,\n",
    "    shuffle = True,\n",
    "    batch_size=32,\n",
    "    epochs = 50,\n",
    "    callbacks = [es],\n",
    "    verbose = 1\n",
    ")"
   ]
  },
  {
   "cell_type": "code",
   "execution_count": 31,
   "id": "54622ef7-cb9b-441d-8e43-cbf31699f908",
   "metadata": {},
   "outputs": [
    {
     "name": "stdout",
     "output_type": "stream",
     "text": [
      "8/8 [==============================] - 0s 5ms/step - loss: 1.7721 - accuracy: 0.9661\n"
     ]
    }
   ],
   "source": [
    "X_test = tf.convert_to_tensor(X_test, np.float32)\n",
    "y_test = tf.convert_to_tensor(y_test, np.int16)\n",
    "res = model.evaluate(X_test, y_test)\n",
    "\n",
    "accuracy_dict['Falling Wedge class'] = res[1]"
   ]
  },
  {
   "cell_type": "markdown",
   "id": "bbaa2d21-ffe4-432d-8bba-13855972885a",
   "metadata": {},
   "source": [
    "# Double Top"
   ]
  },
  {
   "cell_type": "code",
   "execution_count": 32,
   "id": "441d0e7d-6be1-42a8-8b5d-7c5397f988bb",
   "metadata": {},
   "outputs": [],
   "source": [
    "X_real, y_real = real_data_pattern(patterns_to_test[2], model_type='categorise')\n",
    "X_synthetic, y_synthetic = synthetic_data(X_real, patterns_to_test[2], model_type='categorise')\n",
    "X_no_pattern, y_no_pattern = real_data_no_pattern(X_real, patterns_to_test[2], model_type='categorise')\n",
    "\n",
    "X_joined = join_data(X_real, X_synthetic, X_no_pattern)\n",
    "y_joined = join_data(y_real, y_synthetic, y_no_pattern)\n",
    "\n",
    "X_pad = pad_arrays(X_joined)"
   ]
  },
  {
   "cell_type": "code",
   "execution_count": 33,
   "id": "6ba7c9c6-9268-4fe9-8d97-9172365a7955",
   "metadata": {},
   "outputs": [],
   "source": [
    "y_all = np.array(y_joined)\n",
    "\n",
    "X_train, X_test, y_train, y_test = train_test_split(X_pad, y_all, test_size=0.30)\n",
    "\n",
    "X_train = tf.convert_to_tensor(X_train, np.float32)\n",
    "y_train = tf.convert_to_tensor(y_train, np.int16)"
   ]
  },
  {
   "cell_type": "code",
   "execution_count": 34,
   "id": "ee2eb231-a2c5-4241-91c8-76c84379b2ed",
   "metadata": {},
   "outputs": [
    {
     "name": "stdout",
     "output_type": "stream",
     "text": [
      "Epoch 1/50\n",
      "14/14 [==============================] - 1s 21ms/step - loss: 3.6954 - accuracy: 0.5711 - val_loss: 1.4021 - val_accuracy: 0.4505\n",
      "Epoch 2/50\n",
      "14/14 [==============================] - 0s 14ms/step - loss: 7.4918 - accuracy: 0.6749 - val_loss: 0.7955 - val_accuracy: 0.6126\n",
      "Epoch 3/50\n",
      "14/14 [==============================] - 0s 14ms/step - loss: 0.9113 - accuracy: 0.7359 - val_loss: 0.5305 - val_accuracy: 0.7748\n",
      "Epoch 4/50\n",
      "14/14 [==============================] - 0s 13ms/step - loss: 0.4928 - accuracy: 0.8352 - val_loss: 0.3868 - val_accuracy: 0.9189\n",
      "Epoch 5/50\n",
      "14/14 [==============================] - 0s 13ms/step - loss: 0.3335 - accuracy: 0.9052 - val_loss: 0.2487 - val_accuracy: 0.9009\n",
      "Epoch 6/50\n",
      "14/14 [==============================] - 0s 13ms/step - loss: 0.3074 - accuracy: 0.8894 - val_loss: 0.3056 - val_accuracy: 0.8919\n",
      "Epoch 7/50\n",
      "14/14 [==============================] - 0s 13ms/step - loss: 0.2732 - accuracy: 0.9187 - val_loss: 0.2449 - val_accuracy: 0.9279\n",
      "Epoch 8/50\n",
      "14/14 [==============================] - 0s 13ms/step - loss: 0.2570 - accuracy: 0.9187 - val_loss: 0.2408 - val_accuracy: 0.9099\n",
      "Epoch 9/50\n",
      "14/14 [==============================] - 0s 13ms/step - loss: 0.2439 - accuracy: 0.9278 - val_loss: 0.2417 - val_accuracy: 0.9369\n",
      "Epoch 10/50\n",
      "14/14 [==============================] - 0s 13ms/step - loss: 0.2766 - accuracy: 0.8962 - val_loss: 0.3291 - val_accuracy: 0.9189\n",
      "Epoch 11/50\n",
      "14/14 [==============================] - 0s 13ms/step - loss: 0.2594 - accuracy: 0.9345 - val_loss: 0.2863 - val_accuracy: 0.9279\n",
      "Epoch 12/50\n",
      "14/14 [==============================] - 0s 13ms/step - loss: 0.1812 - accuracy: 0.9526 - val_loss: 0.2803 - val_accuracy: 0.9189\n",
      "Epoch 13/50\n",
      "14/14 [==============================] - 0s 14ms/step - loss: 0.1718 - accuracy: 0.9549 - val_loss: 0.2328 - val_accuracy: 0.9459\n",
      "Epoch 14/50\n",
      "14/14 [==============================] - 0s 15ms/step - loss: 0.1646 - accuracy: 0.9526 - val_loss: 0.2389 - val_accuracy: 0.9369\n",
      "Epoch 15/50\n",
      "14/14 [==============================] - 0s 15ms/step - loss: 0.1601 - accuracy: 0.9526 - val_loss: 0.2969 - val_accuracy: 0.9279\n",
      "Epoch 16/50\n",
      "14/14 [==============================] - 0s 14ms/step - loss: 0.1714 - accuracy: 0.9526 - val_loss: 0.2551 - val_accuracy: 0.9369\n",
      "Epoch 17/50\n",
      "14/14 [==============================] - 0s 14ms/step - loss: 0.1334 - accuracy: 0.9661 - val_loss: 0.2123 - val_accuracy: 0.9369\n",
      "Epoch 18/50\n",
      "14/14 [==============================] - 0s 14ms/step - loss: 0.1370 - accuracy: 0.9684 - val_loss: 0.3013 - val_accuracy: 0.9369\n",
      "Epoch 19/50\n",
      "14/14 [==============================] - 0s 15ms/step - loss: 0.1383 - accuracy: 0.9729 - val_loss: 0.3276 - val_accuracy: 0.8919\n",
      "Epoch 20/50\n",
      "14/14 [==============================] - 0s 15ms/step - loss: 0.2028 - accuracy: 0.9594 - val_loss: 0.1844 - val_accuracy: 0.9640\n",
      "Epoch 21/50\n",
      "14/14 [==============================] - 0s 14ms/step - loss: 0.1466 - accuracy: 0.9774 - val_loss: 0.2595 - val_accuracy: 0.9369\n",
      "Epoch 22/50\n",
      "14/14 [==============================] - 0s 15ms/step - loss: 0.1540 - accuracy: 0.9661 - val_loss: 0.2072 - val_accuracy: 0.9550\n",
      "Epoch 23/50\n",
      "14/14 [==============================] - 0s 15ms/step - loss: 0.1132 - accuracy: 0.9865 - val_loss: 0.2357 - val_accuracy: 0.9459\n",
      "Epoch 24/50\n",
      "14/14 [==============================] - 0s 14ms/step - loss: 0.0975 - accuracy: 0.9865 - val_loss: 0.3402 - val_accuracy: 0.9369\n",
      "Epoch 25/50\n",
      "14/14 [==============================] - 0s 15ms/step - loss: 0.1126 - accuracy: 0.9887 - val_loss: 0.3034 - val_accuracy: 0.9459\n"
     ]
    },
    {
     "data": {
      "text/plain": [
       "<keras.src.callbacks.History at 0x7f2e98491a80>"
      ]
     },
     "execution_count": 34,
     "metadata": {},
     "output_type": "execute_result"
    }
   ],
   "source": [
    "es = EarlyStopping(patience = 5, restore_best_weights=True)\n",
    "\n",
    "input_shape = X_train.shape[1:]\n",
    "model = initialize_model_CNN(input_shape)\n",
    "\n",
    "model.fit(\n",
    "    X_train,\n",
    "    y_train,\n",
    "    validation_split = 0.2,\n",
    "    shuffle = True,\n",
    "    batch_size=32,\n",
    "    epochs = 50,\n",
    "    callbacks = [es],\n",
    "    verbose = 1\n",
    ")"
   ]
  },
  {
   "cell_type": "code",
   "execution_count": 35,
   "id": "dbbde235-d041-4c45-abc4-7cc4ef26859e",
   "metadata": {},
   "outputs": [
    {
     "name": "stdout",
     "output_type": "stream",
     "text": [
      "8/8 [==============================] - 0s 5ms/step - loss: 0.4617 - accuracy: 0.8992\n"
     ]
    }
   ],
   "source": [
    "X_test = tf.convert_to_tensor(X_test, np.float32)\n",
    "y_test = tf.convert_to_tensor(y_test, np.int16)\n",
    "res = model.evaluate(X_test, y_test)\n",
    "\n",
    "accuracy_dict['Double Top class'] = res[1]"
   ]
  },
  {
   "cell_type": "markdown",
   "id": "eccd4c7e-dc36-4604-9668-1d6e175d4a8d",
   "metadata": {},
   "source": [
    "# Double Bottom"
   ]
  },
  {
   "cell_type": "code",
   "execution_count": 36,
   "id": "be4cc89b-5a51-41f2-a846-916f048a3d37",
   "metadata": {},
   "outputs": [],
   "source": [
    "X_real, y_real = real_data_pattern(patterns_to_test[3], model_type='categorise')\n",
    "X_synthetic, y_synthetic = synthetic_data(X_real, patterns_to_test[3], model_type='categorise')\n",
    "X_no_pattern, y_no_pattern = real_data_no_pattern(X_real, patterns_to_test[3], model_type='categorise')\n",
    "\n",
    "X_joined = join_data(X_real, X_synthetic, X_no_pattern)\n",
    "y_joined = join_data(y_real, y_synthetic, y_no_pattern)\n",
    "\n",
    "X_pad = pad_arrays(X_joined)"
   ]
  },
  {
   "cell_type": "code",
   "execution_count": 37,
   "id": "c7efcb83-e939-4a8d-b42b-4b028b066455",
   "metadata": {},
   "outputs": [],
   "source": [
    "y_all = np.array(y_joined)\n",
    "\n",
    "X_train, X_test, y_train, y_test = train_test_split(X_pad, y_all, test_size=0.30)\n",
    "\n",
    "X_train = tf.convert_to_tensor(X_train, np.float32)\n",
    "y_train = tf.convert_to_tensor(y_train, np.int16)"
   ]
  },
  {
   "cell_type": "code",
   "execution_count": 38,
   "id": "6682e5f0-afce-4c4a-b682-59c0a24a806e",
   "metadata": {},
   "outputs": [
    {
     "name": "stdout",
     "output_type": "stream",
     "text": [
      "Epoch 1/50\n",
      "13/13 [==============================] - 1s 22ms/step - loss: 7.0896 - accuracy: 0.6474 - val_loss: 0.9206 - val_accuracy: 0.7400\n",
      "Epoch 2/50\n",
      "13/13 [==============================] - 0s 14ms/step - loss: 0.6944 - accuracy: 0.8060 - val_loss: 0.5355 - val_accuracy: 0.7200\n",
      "Epoch 3/50\n",
      "13/13 [==============================] - 0s 14ms/step - loss: 0.4546 - accuracy: 0.7960 - val_loss: 0.2661 - val_accuracy: 0.9200\n",
      "Epoch 4/50\n",
      "13/13 [==============================] - 0s 14ms/step - loss: 0.3188 - accuracy: 0.8892 - val_loss: 0.2460 - val_accuracy: 0.9000\n",
      "Epoch 5/50\n",
      "13/13 [==============================] - 0s 14ms/step - loss: 0.2917 - accuracy: 0.8967 - val_loss: 0.2290 - val_accuracy: 0.9200\n",
      "Epoch 6/50\n",
      "13/13 [==============================] - 0s 14ms/step - loss: 0.3272 - accuracy: 0.9219 - val_loss: 0.2881 - val_accuracy: 0.9100\n",
      "Epoch 7/50\n",
      "13/13 [==============================] - 0s 13ms/step - loss: 0.3013 - accuracy: 0.9093 - val_loss: 0.2542 - val_accuracy: 0.9000\n",
      "Epoch 8/50\n",
      "13/13 [==============================] - 0s 15ms/step - loss: 0.2414 - accuracy: 0.9395 - val_loss: 0.2716 - val_accuracy: 0.8900\n",
      "Epoch 9/50\n",
      "13/13 [==============================] - 0s 13ms/step - loss: 0.3609 - accuracy: 0.9219 - val_loss: 0.3045 - val_accuracy: 0.9200\n",
      "Epoch 10/50\n",
      "13/13 [==============================] - 0s 14ms/step - loss: 0.2770 - accuracy: 0.9244 - val_loss: 0.2521 - val_accuracy: 0.8900\n"
     ]
    },
    {
     "data": {
      "text/plain": [
       "<keras.src.callbacks.History at 0x7f2e98117880>"
      ]
     },
     "execution_count": 38,
     "metadata": {},
     "output_type": "execute_result"
    }
   ],
   "source": [
    "es = EarlyStopping(patience = 5, restore_best_weights=True)\n",
    "\n",
    "input_shape = X_train.shape[1:]\n",
    "model = initialize_model_CNN(input_shape)\n",
    "\n",
    "model.fit(\n",
    "    X_train,\n",
    "    y_train,\n",
    "    validation_split = 0.2,\n",
    "    shuffle = True,\n",
    "    batch_size=32,\n",
    "    epochs = 50,\n",
    "    callbacks = [es],\n",
    "    verbose = 1\n",
    ")"
   ]
  },
  {
   "cell_type": "code",
   "execution_count": 39,
   "id": "658cf9a9-7a2e-4e8b-8447-3a000a9d53b0",
   "metadata": {},
   "outputs": [
    {
     "name": "stdout",
     "output_type": "stream",
     "text": [
      "7/7 [==============================] - 0s 5ms/step - loss: 0.3599 - accuracy: 0.8785\n"
     ]
    }
   ],
   "source": [
    "X_test = tf.convert_to_tensor(X_test, np.float32)\n",
    "y_test = tf.convert_to_tensor(y_test, np.int16)\n",
    "res = model.evaluate(X_test, y_test)\n",
    "\n",
    "accuracy_dict['Double Bottom class'] = res[1]"
   ]
  },
  {
   "cell_type": "markdown",
   "id": "e32652fc-e77a-4b68-8122-d4483e7b50f0",
   "metadata": {},
   "source": [
    "# Results #2"
   ]
  },
  {
   "cell_type": "code",
   "execution_count": 43,
   "id": "33ea0cc1-b609-4d33-95ed-df3b4f7beba1",
   "metadata": {
    "scrolled": true
   },
   "outputs": [
    {
     "data": {
      "text/plain": [
       "'Accuracy DF'"
      ]
     },
     "metadata": {},
     "output_type": "display_data"
    },
    {
     "data": {
      "text/html": [
       "<div>\n",
       "<style scoped>\n",
       "    .dataframe tbody tr th:only-of-type {\n",
       "        vertical-align: middle;\n",
       "    }\n",
       "\n",
       "    .dataframe tbody tr th {\n",
       "        vertical-align: top;\n",
       "    }\n",
       "\n",
       "    .dataframe thead th {\n",
       "        text-align: right;\n",
       "    }\n",
       "</style>\n",
       "<table border=\"1\" class=\"dataframe\">\n",
       "  <thead>\n",
       "    <tr style=\"text-align: right;\">\n",
       "      <th></th>\n",
       "      <th>Rising Wedge_class</th>\n",
       "      <th>Falling Wedge class</th>\n",
       "      <th>Double Top class</th>\n",
       "      <th>Double Bottom class</th>\n",
       "    </tr>\n",
       "  </thead>\n",
       "  <tbody>\n",
       "    <tr>\n",
       "      <th>0</th>\n",
       "      <td>0.744253</td>\n",
       "      <td>0.966102</td>\n",
       "      <td>0.89916</td>\n",
       "      <td>0.878505</td>\n",
       "    </tr>\n",
       "  </tbody>\n",
       "</table>\n",
       "</div>"
      ],
      "text/plain": [
       "   Rising Wedge_class  Falling Wedge class  Double Top class  \\\n",
       "0            0.744253             0.966102           0.89916   \n",
       "\n",
       "   Double Bottom class  \n",
       "0             0.878505  "
      ]
     },
     "metadata": {},
     "output_type": "display_data"
    },
    {
     "data": {
      "text/plain": [
       "'MAE DF'"
      ]
     },
     "metadata": {},
     "output_type": "display_data"
    },
    {
     "data": {
      "text/html": [
       "<div>\n",
       "<style scoped>\n",
       "    .dataframe tbody tr th:only-of-type {\n",
       "        vertical-align: middle;\n",
       "    }\n",
       "\n",
       "    .dataframe tbody tr th {\n",
       "        vertical-align: top;\n",
       "    }\n",
       "\n",
       "    .dataframe thead th {\n",
       "        text-align: right;\n",
       "    }\n",
       "</style>\n",
       "<table border=\"1\" class=\"dataframe\">\n",
       "  <thead>\n",
       "    <tr style=\"text-align: right;\">\n",
       "      <th></th>\n",
       "      <th>Rising Wedge</th>\n",
       "      <th>Falling Wedge</th>\n",
       "      <th>Double Top</th>\n",
       "      <th>Double Bottom</th>\n",
       "    </tr>\n",
       "  </thead>\n",
       "  <tbody>\n",
       "    <tr>\n",
       "      <th>1</th>\n",
       "      <td>19.158934</td>\n",
       "      <td>8.375728</td>\n",
       "      <td>21.681757</td>\n",
       "      <td>56.05267</td>\n",
       "    </tr>\n",
       "  </tbody>\n",
       "</table>\n",
       "</div>"
      ],
      "text/plain": [
       "   Rising Wedge  Falling Wedge  Double Top  Double Bottom\n",
       "1     19.158934       8.375728   21.681757       56.05267"
      ]
     },
     "metadata": {},
     "output_type": "display_data"
    }
   ],
   "source": [
    "accuracy_dict = pd.DataFrame(accuracy_dict, index=[0])\n",
    "display(\"Accuracy DF\")\n",
    "display(accuracy_dict)\n",
    "display(\"MAE DF\")\n",
    "display(results_df)"
   ]
  },
  {
   "cell_type": "markdown",
   "id": "c90ea9cf-98d7-44e8-802a-391ae88d84b6",
   "metadata": {},
   "source": [
    "# Testing with augmented data"
   ]
  },
  {
   "cell_type": "code",
   "execution_count": null,
   "id": "8216647d-cb13-4ec6-8822-5397d3b897d2",
   "metadata": {},
   "outputs": [],
   "source": []
  }
 ],
 "metadata": {
  "kernelspec": {
   "display_name": "Python 3 (ipykernel)",
   "language": "python",
   "name": "python3"
  },
  "language_info": {
   "codemirror_mode": {
    "name": "ipython",
    "version": 3
   },
   "file_extension": ".py",
   "mimetype": "text/x-python",
   "name": "python",
   "nbconvert_exporter": "python",
   "pygments_lexer": "ipython3",
   "version": "3.10.6"
  }
 },
 "nbformat": 4,
 "nbformat_minor": 5
}
