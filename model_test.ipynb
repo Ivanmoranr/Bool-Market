{
 "cells": [
  {
   "cell_type": "code",
   "execution_count": 1,
   "id": "598b6e7e-729d-4213-a178-badb3b51d260",
   "metadata": {},
   "outputs": [
    {
     "name": "stderr",
     "output_type": "stream",
     "text": [
      "2023-09-04 11:20:25.253454: I tensorflow/core/util/port.cc:110] oneDNN custom operations are on. You may see slightly different numerical results due to floating-point round-off errors from different computation orders. To turn them off, set the environment variable `TF_ENABLE_ONEDNN_OPTS=0`.\n",
      "2023-09-04 11:20:25.254649: I tensorflow/tsl/cuda/cudart_stub.cc:28] Could not find cuda drivers on your machine, GPU will not be used.\n",
      "2023-09-04 11:20:25.277729: I tensorflow/tsl/cuda/cudart_stub.cc:28] Could not find cuda drivers on your machine, GPU will not be used.\n",
      "2023-09-04 11:20:25.278520: I tensorflow/core/platform/cpu_feature_guard.cc:182] This TensorFlow binary is optimized to use available CPU instructions in performance-critical operations.\n",
      "To enable the following instructions: AVX2 AVX_VNNI FMA, in other operations, rebuild TensorFlow with the appropriate compiler flags.\n",
      "2023-09-04 11:20:25.720502: W tensorflow/compiler/tf2tensorrt/utils/py_utils.cc:38] TF-TRT Warning: Could not find TensorRT\n"
     ]
    }
   ],
   "source": [
    "from data_preparation import *\n",
    "\n",
    "from sklearn.model_selection import train_test_split\n",
    "\n",
    "import tensorflow as tf\n",
    "from keras.callbacks import EarlyStopping\n",
    "from tensorflow.keras.models import Sequential\n",
    "from tensorflow.keras.layers import LSTM, Dense, Masking, Conv1D, Flatten, MaxPooling1D\n",
    "from tensorflow.keras import regularizers"
   ]
  },
  {
   "cell_type": "code",
   "execution_count": 2,
   "id": "f9a21f97-9779-42a6-a286-b78803e6eaa3",
   "metadata": {},
   "outputs": [
    {
     "data": {
      "text/plain": [
       "['flag',\n",
       " 'resistance',\n",
       " 'h&s_top',\n",
       " 'vertical_run_up',\n",
       " 'h&s_bottom',\n",
       " 'flat_base',\n",
       " 'double_top',\n",
       " 'pennant',\n",
       " 'horizontal_channel',\n",
       " 'descending_channel',\n",
       " 'support',\n",
       " 'falling_wedge',\n",
       " 'rising_wedge',\n",
       " 'ascending_triangle',\n",
       " 'downtrend',\n",
       " 'ascending_channel',\n",
       " 'double_bottom',\n",
       " 'uptrend',\n",
       " 'triangle']"
      ]
     },
     "execution_count": 2,
     "metadata": {},
     "output_type": "execute_result"
    }
   ],
   "source": [
    "folder_list = extract_file_list()\n",
    "folder_list"
   ]
  },
  {
   "cell_type": "markdown",
   "id": "3f9656f8-6ddf-4008-9389-286b278b3c2a",
   "metadata": {},
   "source": [
    "# Model"
   ]
  },
  {
   "cell_type": "code",
   "execution_count": 3,
   "id": "84a84d21-d31c-431c-9651-c35c92660772",
   "metadata": {},
   "outputs": [],
   "source": [
    "def initialize_model_CNN(input_shape):\n",
    "    model = Sequential()\n",
    "\n",
    "    model.add(Masking(mask_value=-1, input_shape=input_shape))\n",
    "    model.add(Conv1D(32, activation='relu', kernel_size=3, kernel_regularizer=regularizers.L1L2(l1=1e-3, l2=1e-3))),\n",
    "    model.add(MaxPooling1D(pool_size=2))\n",
    "    model.add(Conv1D(32, activation='relu', kernel_size=3))\n",
    "    \n",
    "    model.add(Flatten())\n",
    "    model.add(Dense(units=200, activation='relu'))\n",
    "    model.add(Dense(units=100, activation='relu'))\n",
    "    model.add(Dense(units=16, activation='relu'))\n",
    "    model.add(Dense(units=16, activation='relu'))\n",
    "    model.add(Dense(units=3, activation='linear'))\n",
    "\n",
    "    model.compile(optimizer='adam', loss='mse', metrics=['mae'])\n",
    "    \n",
    "    return model"
   ]
  },
  {
   "cell_type": "code",
   "execution_count": 4,
   "id": "2a359969-57ed-4fdf-abc1-5da345aaf260",
   "metadata": {},
   "outputs": [],
   "source": [
    "patterns_to_test = ['rising_wedge', 'falling_wedge', 'double_top', 'double_bottom']\n",
    "results_dict = {}"
   ]
  },
  {
   "cell_type": "markdown",
   "id": "9b6ea840-d217-4745-9372-822e34691e2a",
   "metadata": {},
   "source": [
    "# Rising Wedge"
   ]
  },
  {
   "cell_type": "code",
   "execution_count": 5,
   "id": "1b927e4d-800c-4213-8a8c-80cf165ebae5",
   "metadata": {},
   "outputs": [],
   "source": [
    "X_real, y_real = real_data_pattern(patterns_to_test[0])\n",
    "X_synthetic, y_synthetic = synthetic_data(X_real, patterns_to_test[0])\n",
    "X_no_pattern, y_no_pattern = real_data_no_pattern(X_real, patterns_to_test[0])\n",
    "\n",
    "X_joined = join_data(X_real, X_synthetic, X_no_pattern)\n",
    "y_joined = join_data(y_real, y_synthetic, y_no_pattern)\n",
    "\n",
    "X_pad = pad_arrays(X_joined)"
   ]
  },
  {
   "cell_type": "code",
   "execution_count": 6,
   "id": "5352c755-0444-4f3b-bad2-a2ecd890bc11",
   "metadata": {},
   "outputs": [
    {
     "name": "stderr",
     "output_type": "stream",
     "text": [
      "2023-09-04 11:20:50.387661: I tensorflow/compiler/xla/stream_executor/cuda/cuda_gpu_executor.cc:981] could not open file to read NUMA node: /sys/bus/pci/devices/0000:01:00.0/numa_node\n",
      "Your kernel may have been built without NUMA support.\n",
      "2023-09-04 11:20:50.387940: W tensorflow/core/common_runtime/gpu/gpu_device.cc:1960] Cannot dlopen some GPU libraries. Please make sure the missing libraries mentioned above are installed properly if you would like to use GPU. Follow the guide at https://www.tensorflow.org/install/gpu for how to download and setup the required libraries for your platform.\n",
      "Skipping registering GPU devices...\n"
     ]
    }
   ],
   "source": [
    "y_all = np.array(y_joined)\n",
    "X_train, X_test, y_train, y_test = train_test_split(X_pad, y_all, test_size=0.30)\n",
    "\n",
    "X_train = tf.convert_to_tensor(X_train, np.float32)\n",
    "y_train = tf.convert_to_tensor(y_train, np.int16)"
   ]
  },
  {
   "cell_type": "code",
   "execution_count": 7,
   "id": "42446865-c055-420a-b656-0a0f596e93ce",
   "metadata": {},
   "outputs": [
    {
     "name": "stdout",
     "output_type": "stream",
     "text": [
      "Epoch 1/50\n",
      "21/21 [==============================] - 1s 18ms/step - loss: 325938.2188 - mae: 108.2924 - val_loss: 26005.5254 - val_mae: 56.6517\n",
      "Epoch 2/50\n",
      "21/21 [==============================] - 0s 11ms/step - loss: 29460.0117 - mae: 49.0850 - val_loss: 4653.9912 - val_mae: 36.8474\n",
      "Epoch 3/50\n",
      "21/21 [==============================] - 0s 11ms/step - loss: 5039.4868 - mae: 35.9198 - val_loss: 3920.8623 - val_mae: 32.3265\n",
      "Epoch 4/50\n",
      "21/21 [==============================] - 0s 11ms/step - loss: 2730.2109 - mae: 32.7783 - val_loss: 3254.7761 - val_mae: 28.2228\n",
      "Epoch 5/50\n",
      "21/21 [==============================] - 0s 11ms/step - loss: 1897.6499 - mae: 26.7592 - val_loss: 3076.0120 - val_mae: 26.7313\n",
      "Epoch 6/50\n",
      "21/21 [==============================] - 0s 12ms/step - loss: 1612.1925 - mae: 24.6248 - val_loss: 2747.3074 - val_mae: 26.2839\n",
      "Epoch 7/50\n",
      "21/21 [==============================] - 0s 11ms/step - loss: 1347.1632 - mae: 22.0349 - val_loss: 2375.8059 - val_mae: 22.7083\n",
      "Epoch 8/50\n",
      "21/21 [==============================] - 0s 10ms/step - loss: 1210.3729 - mae: 21.0640 - val_loss: 2464.0337 - val_mae: 25.9782\n",
      "Epoch 9/50\n",
      "21/21 [==============================] - 0s 11ms/step - loss: 1078.7214 - mae: 20.2467 - val_loss: 2164.6655 - val_mae: 22.3565\n",
      "Epoch 10/50\n",
      "21/21 [==============================] - 0s 12ms/step - loss: 931.4260 - mae: 18.6174 - val_loss: 2102.3643 - val_mae: 21.7251\n",
      "Epoch 11/50\n",
      "21/21 [==============================] - 0s 13ms/step - loss: 822.7704 - mae: 17.1732 - val_loss: 2183.0454 - val_mae: 21.2919\n",
      "Epoch 12/50\n",
      "21/21 [==============================] - 0s 12ms/step - loss: 855.7575 - mae: 16.6963 - val_loss: 1898.4270 - val_mae: 20.1962\n",
      "Epoch 13/50\n",
      "21/21 [==============================] - 0s 13ms/step - loss: 919.1463 - mae: 17.9367 - val_loss: 2109.9812 - val_mae: 22.8179\n",
      "Epoch 14/50\n",
      "21/21 [==============================] - 0s 13ms/step - loss: 804.6379 - mae: 17.0640 - val_loss: 2262.6157 - val_mae: 22.6314\n",
      "Epoch 15/50\n",
      "21/21 [==============================] - 0s 13ms/step - loss: 806.2205 - mae: 16.4493 - val_loss: 2135.3853 - val_mae: 21.9291\n",
      "Epoch 16/50\n",
      "21/21 [==============================] - 0s 13ms/step - loss: 742.0766 - mae: 15.6914 - val_loss: 1883.1298 - val_mae: 19.5841\n",
      "Epoch 17/50\n",
      "21/21 [==============================] - 0s 13ms/step - loss: 685.9987 - mae: 15.2458 - val_loss: 2021.5625 - val_mae: 21.4211\n",
      "Epoch 18/50\n",
      "21/21 [==============================] - 0s 13ms/step - loss: 707.2615 - mae: 15.3106 - val_loss: 2123.0183 - val_mae: 21.1750\n",
      "Epoch 19/50\n",
      "21/21 [==============================] - 0s 13ms/step - loss: 620.2269 - mae: 14.7306 - val_loss: 1904.4465 - val_mae: 19.5072\n",
      "Epoch 20/50\n",
      "21/21 [==============================] - 0s 13ms/step - loss: 568.6396 - mae: 14.1046 - val_loss: 1855.3713 - val_mae: 20.8023\n",
      "Epoch 21/50\n",
      "21/21 [==============================] - 0s 13ms/step - loss: 633.9007 - mae: 15.7562 - val_loss: 1721.7560 - val_mae: 19.3696\n",
      "Epoch 22/50\n",
      "21/21 [==============================] - 0s 13ms/step - loss: 613.9919 - mae: 15.3432 - val_loss: 1989.2943 - val_mae: 20.4293\n",
      "Epoch 23/50\n",
      "21/21 [==============================] - 0s 12ms/step - loss: 575.6998 - mae: 14.5798 - val_loss: 1919.3999 - val_mae: 21.0093\n",
      "Epoch 24/50\n",
      "21/21 [==============================] - 0s 13ms/step - loss: 716.0754 - mae: 15.5926 - val_loss: 2068.2212 - val_mae: 22.1308\n",
      "Epoch 25/50\n",
      "21/21 [==============================] - 0s 13ms/step - loss: 524.2202 - mae: 14.0420 - val_loss: 1892.4448 - val_mae: 19.9945\n",
      "Epoch 26/50\n",
      "21/21 [==============================] - 0s 13ms/step - loss: 490.7174 - mae: 13.2799 - val_loss: 1748.1605 - val_mae: 18.7494\n"
     ]
    },
    {
     "data": {
      "text/plain": [
       "<keras.src.callbacks.History at 0x7f2331757580>"
      ]
     },
     "execution_count": 7,
     "metadata": {},
     "output_type": "execute_result"
    }
   ],
   "source": [
    "es = EarlyStopping(patience = 5, restore_best_weights=True)\n",
    "\n",
    "input_shape = X_train.shape[1:]\n",
    "model = initialize_model_CNN(input_shape)\n",
    "\n",
    "model.fit(\n",
    "    X_train,\n",
    "    y_train,\n",
    "    validation_split = 0.2,\n",
    "    shuffle = True,\n",
    "    batch_size=32,\n",
    "    epochs = 50,\n",
    "    callbacks = [es],\n",
    "    verbose = 1\n",
    ")"
   ]
  },
  {
   "cell_type": "code",
   "execution_count": 8,
   "id": "5559f6a5-55f5-453d-b977-f414d7f2620a",
   "metadata": {},
   "outputs": [
    {
     "name": "stdout",
     "output_type": "stream",
     "text": [
      "11/11 [==============================] - 0s 5ms/step - loss: 2116.6658 - mae: 18.4724\n"
     ]
    }
   ],
   "source": [
    "X_test = tf.convert_to_tensor(X_test, np.float32)\n",
    "y_test = tf.convert_to_tensor(y_test, np.int16)\n",
    "res = model.evaluate(X_test, y_test)\n",
    "\n",
    "results_dict['Rising Wedge'] = res[1]"
   ]
  },
  {
   "cell_type": "markdown",
   "id": "126e786e-66bf-455d-a0de-0b6a81ad2113",
   "metadata": {},
   "source": [
    "# Falling wedge"
   ]
  },
  {
   "cell_type": "code",
   "execution_count": 9,
   "id": "ebbed9b1-835e-4d17-9797-f3357c30a13f",
   "metadata": {},
   "outputs": [],
   "source": [
    "X_real, y_real = real_data_pattern(patterns_to_test[1])\n",
    "X_synthetic, y_synthetic = synthetic_data(X_real, patterns_to_test[1])\n",
    "X_no_pattern, y_no_pattern = real_data_no_pattern(X_real, patterns_to_test[1])\n",
    "\n",
    "X_joined = join_data(X_real, X_synthetic, X_no_pattern)\n",
    "y_joined = join_data(y_real, y_synthetic, y_no_pattern)\n",
    "\n",
    "X_pad = pad_arrays(X_joined)"
   ]
  },
  {
   "cell_type": "code",
   "execution_count": 10,
   "id": "4406f5f8-5ef1-4ec5-9327-0f7d6618697f",
   "metadata": {},
   "outputs": [],
   "source": [
    "y_all = np.array(y_joined)\n",
    "X_train, X_test, y_train, y_test = train_test_split(X_pad, y_all, test_size=0.30)\n",
    "\n",
    "X_train = tf.convert_to_tensor(X_train, np.float32)\n",
    "y_train = tf.convert_to_tensor(y_train, np.int16)"
   ]
  },
  {
   "cell_type": "code",
   "execution_count": 11,
   "id": "193828ea-fe49-4f46-aefc-a8a00cd5327e",
   "metadata": {},
   "outputs": [
    {
     "name": "stdout",
     "output_type": "stream",
     "text": [
      "Epoch 1/50\n",
      "14/14 [==============================] - 1s 22ms/step - loss: 63317.3320 - mae: 56.6953 - val_loss: 140806.8594 - val_mae: 82.3932\n",
      "Epoch 2/50\n",
      "14/14 [==============================] - 0s 13ms/step - loss: 27690.9414 - mae: 43.5016 - val_loss: 66239.6875 - val_mae: 60.2301\n",
      "Epoch 3/50\n",
      "14/14 [==============================] - 0s 12ms/step - loss: 6905.6484 - mae: 36.7239 - val_loss: 128072.1016 - val_mae: 66.7053\n",
      "Epoch 4/50\n",
      "14/14 [==============================] - 0s 12ms/step - loss: 2984.7866 - mae: 28.7385 - val_loss: 169433.5625 - val_mae: 57.6827\n",
      "Epoch 5/50\n",
      "14/14 [==============================] - 0s 12ms/step - loss: 2389.9331 - mae: 21.7121 - val_loss: 2313.8582 - val_mae: 23.7020\n",
      "Epoch 6/50\n",
      "14/14 [==============================] - 0s 13ms/step - loss: 2145.5708 - mae: 23.6300 - val_loss: 2501.7295 - val_mae: 24.7018\n",
      "Epoch 7/50\n",
      "14/14 [==============================] - 0s 12ms/step - loss: 1599.1871 - mae: 19.6224 - val_loss: 2994.3435 - val_mae: 24.2362\n",
      "Epoch 8/50\n",
      "14/14 [==============================] - 0s 13ms/step - loss: 1215.9124 - mae: 17.0952 - val_loss: 10720.1748 - val_mae: 29.1263\n",
      "Epoch 9/50\n",
      "14/14 [==============================] - 0s 12ms/step - loss: 1230.0009 - mae: 18.4474 - val_loss: 1450.4407 - val_mae: 17.1260\n",
      "Epoch 10/50\n",
      "14/14 [==============================] - 0s 12ms/step - loss: 1015.4362 - mae: 16.4465 - val_loss: 1800.6168 - val_mae: 19.8229\n",
      "Epoch 11/50\n",
      "14/14 [==============================] - 0s 12ms/step - loss: 956.9599 - mae: 15.3375 - val_loss: 2342.1958 - val_mae: 21.0304\n",
      "Epoch 12/50\n",
      "14/14 [==============================] - 0s 11ms/step - loss: 843.8713 - mae: 15.2581 - val_loss: 1635.8848 - val_mae: 18.1870\n",
      "Epoch 13/50\n",
      "14/14 [==============================] - 0s 12ms/step - loss: 606.1133 - mae: 12.4818 - val_loss: 1117.7123 - val_mae: 19.5529\n",
      "Epoch 14/50\n",
      "14/14 [==============================] - 0s 12ms/step - loss: 539.7596 - mae: 12.4368 - val_loss: 1265.0338 - val_mae: 17.4151\n",
      "Epoch 15/50\n",
      "14/14 [==============================] - 0s 14ms/step - loss: 607.2563 - mae: 13.0129 - val_loss: 999.5040 - val_mae: 13.6501\n",
      "Epoch 16/50\n",
      "14/14 [==============================] - 0s 13ms/step - loss: 519.5022 - mae: 12.4470 - val_loss: 1274.5226 - val_mae: 15.6464\n",
      "Epoch 17/50\n",
      "14/14 [==============================] - 0s 14ms/step - loss: 1215.2656 - mae: 18.2095 - val_loss: 1965.6028 - val_mae: 19.0051\n",
      "Epoch 18/50\n",
      "14/14 [==============================] - 0s 14ms/step - loss: 913.3186 - mae: 14.8247 - val_loss: 1266.7981 - val_mae: 16.0339\n",
      "Epoch 19/50\n",
      "14/14 [==============================] - 0s 14ms/step - loss: 583.3456 - mae: 11.2188 - val_loss: 948.3218 - val_mae: 12.8539\n",
      "Epoch 20/50\n",
      "14/14 [==============================] - 0s 13ms/step - loss: 285.4429 - mae: 8.9081 - val_loss: 981.4908 - val_mae: 14.2012\n",
      "Epoch 21/50\n",
      "14/14 [==============================] - 0s 14ms/step - loss: 263.8851 - mae: 8.5794 - val_loss: 811.3504 - val_mae: 11.3916\n",
      "Epoch 22/50\n",
      "14/14 [==============================] - 0s 13ms/step - loss: 210.4886 - mae: 6.8817 - val_loss: 801.2048 - val_mae: 12.2489\n",
      "Epoch 23/50\n",
      "14/14 [==============================] - 0s 13ms/step - loss: 213.4295 - mae: 7.0656 - val_loss: 1015.3684 - val_mae: 17.3215\n",
      "Epoch 24/50\n",
      "14/14 [==============================] - 0s 14ms/step - loss: 213.8109 - mae: 7.9233 - val_loss: 762.8907 - val_mae: 10.6990\n",
      "Epoch 25/50\n",
      "14/14 [==============================] - 0s 12ms/step - loss: 220.7919 - mae: 7.7292 - val_loss: 910.0704 - val_mae: 12.3082\n",
      "Epoch 26/50\n",
      "14/14 [==============================] - 0s 13ms/step - loss: 218.9749 - mae: 7.8022 - val_loss: 956.6238 - val_mae: 13.7786\n",
      "Epoch 27/50\n",
      "14/14 [==============================] - 0s 14ms/step - loss: 209.8450 - mae: 7.4369 - val_loss: 1041.3569 - val_mae: 13.1889\n",
      "Epoch 28/50\n",
      "14/14 [==============================] - 0s 15ms/step - loss: 276.0596 - mae: 9.2805 - val_loss: 1236.3270 - val_mae: 15.0866\n",
      "Epoch 29/50\n",
      "14/14 [==============================] - 0s 13ms/step - loss: 250.6211 - mae: 8.6015 - val_loss: 716.8065 - val_mae: 10.8359\n",
      "Epoch 30/50\n",
      "14/14 [==============================] - 0s 14ms/step - loss: 159.3760 - mae: 6.5037 - val_loss: 945.2245 - val_mae: 14.2069\n",
      "Epoch 31/50\n",
      "14/14 [==============================] - 0s 14ms/step - loss: 236.5166 - mae: 7.7373 - val_loss: 740.4186 - val_mae: 10.5786\n",
      "Epoch 32/50\n",
      "14/14 [==============================] - 0s 14ms/step - loss: 155.2758 - mae: 6.2350 - val_loss: 939.4517 - val_mae: 12.1915\n",
      "Epoch 33/50\n",
      "14/14 [==============================] - 0s 13ms/step - loss: 184.2743 - mae: 7.3703 - val_loss: 773.3044 - val_mae: 10.9037\n",
      "Epoch 34/50\n",
      "14/14 [==============================] - 0s 14ms/step - loss: 148.6134 - mae: 6.2321 - val_loss: 753.7921 - val_mae: 10.4114\n"
     ]
    },
    {
     "data": {
      "text/plain": [
       "<keras.src.callbacks.History at 0x7f2320318ee0>"
      ]
     },
     "execution_count": 11,
     "metadata": {},
     "output_type": "execute_result"
    }
   ],
   "source": [
    "es = EarlyStopping(patience = 5, restore_best_weights=True)\n",
    "\n",
    "input_shape = X_train.shape[1:]\n",
    "model = initialize_model_CNN(input_shape)\n",
    "\n",
    "model.fit(\n",
    "    X_train,\n",
    "    y_train,\n",
    "    validation_split = 0.2,\n",
    "    shuffle = True,\n",
    "    batch_size=32,\n",
    "    epochs = 50,\n",
    "    callbacks = [es],\n",
    "    verbose = 1\n",
    ")"
   ]
  },
  {
   "cell_type": "code",
   "execution_count": 12,
   "id": "d8ca7636-93d0-4c49-9c8d-3e427d4a3e35",
   "metadata": {},
   "outputs": [
    {
     "name": "stdout",
     "output_type": "stream",
     "text": [
      "8/8 [==============================] - 0s 5ms/step - loss: 525.2982 - mae: 10.1955\n"
     ]
    }
   ],
   "source": [
    "X_test = tf.convert_to_tensor(X_test, np.float32)\n",
    "y_test = tf.convert_to_tensor(y_test, np.int16)\n",
    "res = model.evaluate(X_test, y_test)\n",
    "\n",
    "results_dict['Falling Wedge'] = res[1]"
   ]
  },
  {
   "cell_type": "markdown",
   "id": "23f74548-d1bb-4fd8-b4c9-137b8c09921d",
   "metadata": {},
   "source": [
    "# Double Top"
   ]
  },
  {
   "cell_type": "code",
   "execution_count": 13,
   "id": "22e67ade-16c7-420c-a720-5e76e6d995ef",
   "metadata": {},
   "outputs": [],
   "source": [
    "X_real, y_real = real_data_pattern(patterns_to_test[2])\n",
    "X_synthetic, y_synthetic = synthetic_data(X_real, patterns_to_test[2])\n",
    "X_no_pattern, y_no_pattern = real_data_no_pattern(X_real, patterns_to_test[2])\n",
    "\n",
    "X_joined = join_data(X_real, X_synthetic, X_no_pattern)\n",
    "y_joined = join_data(y_real, y_synthetic, y_no_pattern)\n",
    "\n",
    "X_pad = pad_arrays(X_joined)"
   ]
  },
  {
   "cell_type": "code",
   "execution_count": 14,
   "id": "c726302a-7f0e-41c5-b5dc-761a5900ed73",
   "metadata": {},
   "outputs": [],
   "source": [
    "y_all = np.array(y_joined)\n",
    "X_train, X_test, y_train, y_test = train_test_split(X_pad, y_all, test_size=0.30)\n",
    "\n",
    "X_train = tf.convert_to_tensor(X_train, np.float32)\n",
    "y_train = tf.convert_to_tensor(y_train, np.int16)"
   ]
  },
  {
   "cell_type": "code",
   "execution_count": 15,
   "id": "071f15a5-5cac-43e6-8ef4-aab8dba3e372",
   "metadata": {},
   "outputs": [
    {
     "name": "stdout",
     "output_type": "stream",
     "text": [
      "Epoch 1/50\n",
      "14/14 [==============================] - 1s 20ms/step - loss: 166212.5156 - mae: 78.6887 - val_loss: 13749.0742 - val_mae: 58.9153\n",
      "Epoch 2/50\n",
      "14/14 [==============================] - 0s 12ms/step - loss: 469690.0000 - mae: 83.2825 - val_loss: 11546.1562 - val_mae: 53.9562\n",
      "Epoch 3/50\n",
      "14/14 [==============================] - 0s 12ms/step - loss: 129711.9297 - mae: 69.3772 - val_loss: 10390.9277 - val_mae: 53.1010\n",
      "Epoch 4/50\n",
      "14/14 [==============================] - 0s 13ms/step - loss: 109403.5391 - mae: 64.2828 - val_loss: 10556.7334 - val_mae: 48.7397\n",
      "Epoch 5/50\n",
      "14/14 [==============================] - 0s 13ms/step - loss: 33722.0625 - mae: 54.4102 - val_loss: 9868.0869 - val_mae: 47.5284\n",
      "Epoch 6/50\n",
      "14/14 [==============================] - 0s 14ms/step - loss: 20747.0840 - mae: 51.5802 - val_loss: 9527.0869 - val_mae: 49.2343\n",
      "Epoch 7/50\n",
      "14/14 [==============================] - 0s 12ms/step - loss: 13034.0342 - mae: 47.9405 - val_loss: 8996.7109 - val_mae: 47.1937\n",
      "Epoch 8/50\n",
      "14/14 [==============================] - 0s 12ms/step - loss: 11847.4473 - mae: 46.1306 - val_loss: 8259.0996 - val_mae: 44.6803\n",
      "Epoch 9/50\n",
      "14/14 [==============================] - 0s 11ms/step - loss: 7594.9561 - mae: 43.0855 - val_loss: 7530.4512 - val_mae: 43.3296\n",
      "Epoch 10/50\n",
      "14/14 [==============================] - 0s 12ms/step - loss: 11141.5635 - mae: 43.4725 - val_loss: 7353.6885 - val_mae: 43.9914\n",
      "Epoch 11/50\n",
      "14/14 [==============================] - 0s 13ms/step - loss: 7986.8394 - mae: 41.1757 - val_loss: 7106.2979 - val_mae: 43.1258\n",
      "Epoch 12/50\n",
      "14/14 [==============================] - 0s 11ms/step - loss: 17561.6992 - mae: 43.0194 - val_loss: 6778.1338 - val_mae: 43.4299\n",
      "Epoch 13/50\n",
      "14/14 [==============================] - 0s 11ms/step - loss: 20814.1406 - mae: 43.3906 - val_loss: 5301.8481 - val_mae: 39.3069\n",
      "Epoch 14/50\n",
      "14/14 [==============================] - 0s 12ms/step - loss: 14387.6299 - mae: 39.9673 - val_loss: 4939.5381 - val_mae: 40.0863\n",
      "Epoch 15/50\n",
      "14/14 [==============================] - 0s 13ms/step - loss: 5312.9043 - mae: 35.5507 - val_loss: 5346.3193 - val_mae: 38.7248\n",
      "Epoch 16/50\n",
      "14/14 [==============================] - 0s 12ms/step - loss: 4252.7920 - mae: 33.2455 - val_loss: 4896.3535 - val_mae: 37.0684\n",
      "Epoch 17/50\n",
      "14/14 [==============================] - 0s 13ms/step - loss: 3780.1333 - mae: 31.4684 - val_loss: 4339.6084 - val_mae: 33.7959\n",
      "Epoch 18/50\n",
      "14/14 [==============================] - 0s 13ms/step - loss: 3761.8674 - mae: 29.2497 - val_loss: 3974.4060 - val_mae: 33.1643\n",
      "Epoch 19/50\n",
      "14/14 [==============================] - 0s 13ms/step - loss: 2933.8772 - mae: 27.5579 - val_loss: 3586.0161 - val_mae: 32.1554\n",
      "Epoch 20/50\n",
      "14/14 [==============================] - 0s 14ms/step - loss: 2540.4741 - mae: 26.5161 - val_loss: 3283.4680 - val_mae: 30.2920\n",
      "Epoch 21/50\n",
      "14/14 [==============================] - 0s 14ms/step - loss: 2254.9426 - mae: 24.6852 - val_loss: 3309.6824 - val_mae: 29.9668\n",
      "Epoch 22/50\n",
      "14/14 [==============================] - 0s 15ms/step - loss: 2142.1216 - mae: 24.0504 - val_loss: 3049.7422 - val_mae: 32.4196\n",
      "Epoch 23/50\n",
      "14/14 [==============================] - 0s 13ms/step - loss: 1851.8098 - mae: 22.2830 - val_loss: 2791.0059 - val_mae: 27.4700\n",
      "Epoch 24/50\n",
      "14/14 [==============================] - 0s 14ms/step - loss: 1618.4764 - mae: 20.5568 - val_loss: 2989.0320 - val_mae: 28.0786\n",
      "Epoch 25/50\n",
      "14/14 [==============================] - 0s 14ms/step - loss: 1469.6215 - mae: 20.0532 - val_loss: 2788.4446 - val_mae: 26.4273\n",
      "Epoch 26/50\n",
      "14/14 [==============================] - 0s 15ms/step - loss: 1305.1956 - mae: 18.4732 - val_loss: 2898.1216 - val_mae: 26.4889\n",
      "Epoch 27/50\n",
      "14/14 [==============================] - 0s 15ms/step - loss: 1201.3287 - mae: 17.3563 - val_loss: 2881.5547 - val_mae: 25.6138\n",
      "Epoch 28/50\n",
      "14/14 [==============================] - 0s 14ms/step - loss: 1063.6754 - mae: 16.5559 - val_loss: 2718.2834 - val_mae: 25.0992\n",
      "Epoch 29/50\n",
      "14/14 [==============================] - 0s 14ms/step - loss: 929.1093 - mae: 15.5709 - val_loss: 2868.7112 - val_mae: 25.0680\n",
      "Epoch 30/50\n",
      "14/14 [==============================] - 0s 14ms/step - loss: 846.0377 - mae: 15.2264 - val_loss: 2855.2625 - val_mae: 25.6049\n",
      "Epoch 31/50\n",
      "14/14 [==============================] - 0s 14ms/step - loss: 761.3904 - mae: 14.2550 - val_loss: 2604.9231 - val_mae: 23.7918\n",
      "Epoch 32/50\n",
      "14/14 [==============================] - 0s 14ms/step - loss: 642.5801 - mae: 13.3321 - val_loss: 2493.4285 - val_mae: 23.2044\n",
      "Epoch 33/50\n",
      "14/14 [==============================] - 0s 14ms/step - loss: 561.7698 - mae: 12.2443 - val_loss: 2312.4084 - val_mae: 22.4357\n",
      "Epoch 34/50\n",
      "14/14 [==============================] - 0s 14ms/step - loss: 501.8037 - mae: 11.6822 - val_loss: 2854.3113 - val_mae: 24.0163\n",
      "Epoch 35/50\n",
      "14/14 [==============================] - 0s 13ms/step - loss: 446.7980 - mae: 11.8088 - val_loss: 2547.9858 - val_mae: 23.0829\n",
      "Epoch 36/50\n",
      "14/14 [==============================] - 0s 12ms/step - loss: 377.3075 - mae: 10.8850 - val_loss: 2605.4712 - val_mae: 22.8127\n",
      "Epoch 37/50\n",
      "14/14 [==============================] - 0s 13ms/step - loss: 395.9151 - mae: 10.7360 - val_loss: 2475.8599 - val_mae: 22.1793\n",
      "Epoch 38/50\n",
      "14/14 [==============================] - 0s 14ms/step - loss: 412.5980 - mae: 11.0161 - val_loss: 2949.6599 - val_mae: 23.6478\n"
     ]
    },
    {
     "data": {
      "text/plain": [
       "<keras.src.callbacks.History at 0x7f23310ddd80>"
      ]
     },
     "execution_count": 15,
     "metadata": {},
     "output_type": "execute_result"
    }
   ],
   "source": [
    "es = EarlyStopping(patience = 5, restore_best_weights=True)\n",
    "\n",
    "input_shape = X_train.shape[1:]\n",
    "model = initialize_model_CNN(input_shape)\n",
    "\n",
    "model.fit(\n",
    "    X_train,\n",
    "    y_train,\n",
    "    validation_split = 0.2,\n",
    "    shuffle = True,\n",
    "    batch_size=32,\n",
    "    epochs = 50,\n",
    "    callbacks = [es],\n",
    "    verbose = 1\n",
    ")"
   ]
  },
  {
   "cell_type": "code",
   "execution_count": 16,
   "id": "d01d3e99-25ee-4ead-baab-2e0a2a9bc73c",
   "metadata": {},
   "outputs": [
    {
     "name": "stdout",
     "output_type": "stream",
     "text": [
      "8/8 [==============================] - 0s 5ms/step - loss: 1572.8999 - mae: 17.4309\n"
     ]
    }
   ],
   "source": [
    "X_test = tf.convert_to_tensor(X_test, np.float32)\n",
    "y_test = tf.convert_to_tensor(y_test, np.int16)\n",
    "res = model.evaluate(X_test, y_test)\n",
    "\n",
    "results_dict['Double Top'] = res[1]"
   ]
  },
  {
   "cell_type": "markdown",
   "id": "7a66f3a0-3fcd-4e88-8968-89a37033d07b",
   "metadata": {},
   "source": [
    "# Double Bottom"
   ]
  },
  {
   "cell_type": "code",
   "execution_count": 17,
   "id": "79189ad7-9aec-48ad-bbd4-ef5dc14dd172",
   "metadata": {},
   "outputs": [],
   "source": [
    "X_real, y_real = real_data_pattern(patterns_to_test[3])\n",
    "X_synthetic, y_synthetic = synthetic_data(X_real, patterns_to_test[3])\n",
    "X_no_pattern, y_no_pattern = real_data_no_pattern(X_real, patterns_to_test[3])\n",
    "\n",
    "X_joined = join_data(X_real, X_synthetic, X_no_pattern)\n",
    "y_joined = join_data(y_real, y_synthetic, y_no_pattern)\n",
    "\n",
    "X_pad = pad_arrays(X_joined)"
   ]
  },
  {
   "cell_type": "code",
   "execution_count": 18,
   "id": "da26efee-ece7-4b96-b1bc-162a1ae51d9c",
   "metadata": {},
   "outputs": [],
   "source": [
    "y_all = np.array(y_joined)\n",
    "X_train, X_test, y_train, y_test = train_test_split(X_pad, y_all, test_size=0.30)\n",
    "\n",
    "X_train = tf.convert_to_tensor(X_train, np.float32)\n",
    "y_train = tf.convert_to_tensor(y_train, np.int16)"
   ]
  },
  {
   "cell_type": "code",
   "execution_count": 19,
   "id": "d3c3c977-08ef-40b7-8442-282a8d6cc2eb",
   "metadata": {},
   "outputs": [
    {
     "name": "stdout",
     "output_type": "stream",
     "text": [
      "Epoch 1/50\n",
      "13/13 [==============================] - 1s 22ms/step - loss: 10620.5312 - mae: 50.0081 - val_loss: 7972.4033 - val_mae: 44.1575\n",
      "Epoch 2/50\n",
      "13/13 [==============================] - 0s 13ms/step - loss: 8822.6143 - mae: 44.9618 - val_loss: 7307.5752 - val_mae: 40.0536\n",
      "Epoch 3/50\n",
      "13/13 [==============================] - 0s 13ms/step - loss: 8018.6045 - mae: 38.9236 - val_loss: 7216.6963 - val_mae: 39.7842\n",
      "Epoch 4/50\n",
      "13/13 [==============================] - 0s 12ms/step - loss: 8023.6958 - mae: 39.9505 - val_loss: 7822.5767 - val_mae: 44.1486\n",
      "Epoch 5/50\n",
      "13/13 [==============================] - 0s 12ms/step - loss: 7180.6646 - mae: 40.3660 - val_loss: 7344.7119 - val_mae: 42.0712\n",
      "Epoch 6/50\n",
      "13/13 [==============================] - 0s 14ms/step - loss: 6431.0996 - mae: 35.8973 - val_loss: 13158.5000 - val_mae: 49.3226\n",
      "Epoch 7/50\n",
      "13/13 [==============================] - 0s 14ms/step - loss: 6950.2710 - mae: 36.4115 - val_loss: 6747.4517 - val_mae: 38.6343\n",
      "Epoch 8/50\n",
      "13/13 [==============================] - 0s 12ms/step - loss: 5482.8613 - mae: 36.3520 - val_loss: 7917.3691 - val_mae: 41.3552\n",
      "Epoch 9/50\n",
      "13/13 [==============================] - 0s 11ms/step - loss: 4678.6953 - mae: 36.2710 - val_loss: 7115.8438 - val_mae: 40.3743\n",
      "Epoch 10/50\n",
      "13/13 [==============================] - 0s 12ms/step - loss: 3213.6057 - mae: 30.4293 - val_loss: 7918.4150 - val_mae: 39.4463\n",
      "Epoch 11/50\n",
      "13/13 [==============================] - 0s 12ms/step - loss: 2733.4792 - mae: 28.0512 - val_loss: 6478.4961 - val_mae: 35.2199\n",
      "Epoch 12/50\n",
      "13/13 [==============================] - 0s 12ms/step - loss: 2149.8459 - mae: 24.6491 - val_loss: 10732.8936 - val_mae: 43.4090\n",
      "Epoch 13/50\n",
      "13/13 [==============================] - 0s 12ms/step - loss: 3024.4131 - mae: 29.1983 - val_loss: 9174.0625 - val_mae: 38.4357\n",
      "Epoch 14/50\n",
      "13/13 [==============================] - 0s 13ms/step - loss: 2071.1660 - mae: 24.1671 - val_loss: 3979.8303 - val_mae: 32.5901\n",
      "Epoch 15/50\n",
      "13/13 [==============================] - 0s 12ms/step - loss: 1809.8080 - mae: 22.0480 - val_loss: 3130.0288 - val_mae: 26.6333\n",
      "Epoch 16/50\n",
      "13/13 [==============================] - 0s 14ms/step - loss: 1288.0168 - mae: 18.6436 - val_loss: 2817.5493 - val_mae: 25.3695\n",
      "Epoch 17/50\n",
      "13/13 [==============================] - 0s 16ms/step - loss: 1409.0406 - mae: 19.3201 - val_loss: 4789.7939 - val_mae: 31.2434\n",
      "Epoch 18/50\n",
      "13/13 [==============================] - 0s 15ms/step - loss: 1644.5480 - mae: 21.5403 - val_loss: 5057.1006 - val_mae: 30.1087\n",
      "Epoch 19/50\n",
      "13/13 [==============================] - 0s 15ms/step - loss: 1108.0203 - mae: 18.5063 - val_loss: 2519.1296 - val_mae: 24.5358\n",
      "Epoch 20/50\n",
      "13/13 [==============================] - 0s 14ms/step - loss: 1030.9590 - mae: 16.0971 - val_loss: 6690.7349 - val_mae: 30.0998\n",
      "Epoch 21/50\n",
      "13/13 [==============================] - 0s 14ms/step - loss: 781.1917 - mae: 14.3918 - val_loss: 5456.8027 - val_mae: 26.3929\n",
      "Epoch 22/50\n",
      "13/13 [==============================] - 0s 14ms/step - loss: 635.9918 - mae: 13.8372 - val_loss: 4068.1687 - val_mae: 24.1625\n",
      "Epoch 23/50\n",
      "13/13 [==============================] - 0s 14ms/step - loss: 569.7798 - mae: 13.0912 - val_loss: 4887.1216 - val_mae: 25.2300\n",
      "Epoch 24/50\n",
      "13/13 [==============================] - 0s 14ms/step - loss: 458.0166 - mae: 11.9541 - val_loss: 4288.2173 - val_mae: 23.6399\n"
     ]
    },
    {
     "data": {
      "text/plain": [
       "<keras.src.callbacks.History at 0x7f233117c040>"
      ]
     },
     "execution_count": 19,
     "metadata": {},
     "output_type": "execute_result"
    }
   ],
   "source": [
    "es = EarlyStopping(patience = 5, restore_best_weights=True)\n",
    "\n",
    "input_shape = X_train.shape[1:]\n",
    "model = initialize_model_CNN(input_shape)\n",
    "\n",
    "model.fit(\n",
    "    X_train,\n",
    "    y_train,\n",
    "    validation_split = 0.2,\n",
    "    shuffle = True,\n",
    "    batch_size=32,\n",
    "    epochs = 50,\n",
    "    callbacks = [es],\n",
    "    verbose = 1\n",
    ")"
   ]
  },
  {
   "cell_type": "code",
   "execution_count": 20,
   "id": "0183c153-cfaf-4796-86c2-29feb3e0dbe6",
   "metadata": {},
   "outputs": [
    {
     "name": "stdout",
     "output_type": "stream",
     "text": [
      "7/7 [==============================] - 0s 6ms/step - loss: 2583.7886 - mae: 24.0598\n"
     ]
    }
   ],
   "source": [
    "X_test = tf.convert_to_tensor(X_test, np.float32)\n",
    "y_test = tf.convert_to_tensor(y_test, np.int16)\n",
    "res = model.evaluate(X_test, y_test)\n",
    "\n",
    "results_dict['Double Bottom'] = res[1]"
   ]
  },
  {
   "cell_type": "markdown",
   "id": "e988592b-95d0-4d5c-9ea7-034d25dd87d4",
   "metadata": {},
   "source": [
    "# Results"
   ]
  },
  {
   "cell_type": "code",
   "execution_count": 23,
   "id": "3ccca8b7-550a-4f44-a002-ba029b4fc4e4",
   "metadata": {},
   "outputs": [
    {
     "data": {
      "text/html": [
       "<div>\n",
       "<style scoped>\n",
       "    .dataframe tbody tr th:only-of-type {\n",
       "        vertical-align: middle;\n",
       "    }\n",
       "\n",
       "    .dataframe tbody tr th {\n",
       "        vertical-align: top;\n",
       "    }\n",
       "\n",
       "    .dataframe thead th {\n",
       "        text-align: right;\n",
       "    }\n",
       "</style>\n",
       "<table border=\"1\" class=\"dataframe\">\n",
       "  <thead>\n",
       "    <tr style=\"text-align: right;\">\n",
       "      <th></th>\n",
       "      <th>Rising Wedge</th>\n",
       "      <th>Falling Wedge</th>\n",
       "      <th>Double Top</th>\n",
       "      <th>Double Bottom</th>\n",
       "    </tr>\n",
       "  </thead>\n",
       "  <tbody>\n",
       "    <tr>\n",
       "      <th>1</th>\n",
       "      <td>18.472412</td>\n",
       "      <td>10.195467</td>\n",
       "      <td>17.430899</td>\n",
       "      <td>24.059771</td>\n",
       "    </tr>\n",
       "  </tbody>\n",
       "</table>\n",
       "</div>"
      ],
      "text/plain": [
       "   Rising Wedge  Falling Wedge  Double Top  Double Bottom\n",
       "1     18.472412      10.195467   17.430899      24.059771"
      ]
     },
     "execution_count": 23,
     "metadata": {},
     "output_type": "execute_result"
    }
   ],
   "source": [
    "results_df = pd.DataFrame(results_dict, index=[1])\n",
    "results_df"
   ]
  }
 ],
 "metadata": {
  "kernelspec": {
   "display_name": "Python 3 (ipykernel)",
   "language": "python",
   "name": "python3"
  },
  "language_info": {
   "codemirror_mode": {
    "name": "ipython",
    "version": 3
   },
   "file_extension": ".py",
   "mimetype": "text/x-python",
   "name": "python",
   "nbconvert_exporter": "python",
   "pygments_lexer": "ipython3",
   "version": "3.10.6"
  }
 },
 "nbformat": 4,
 "nbformat_minor": 5
}
